{
 "cells": [
  {
   "cell_type": "code",
   "execution_count": 33,
   "metadata": {},
   "outputs": [],
   "source": [
    "import tensorflow as tf\n",
    "import tensorflow_datasets as tfds\n",
    "import matplotlib.pyplot as plt"
   ]
  },
  {
   "cell_type": "code",
   "execution_count": 7,
   "metadata": {},
   "outputs": [],
   "source": [
    "# tfds.list_builders()"
   ]
  },
  {
   "cell_type": "code",
   "execution_count": 8,
   "metadata": {},
   "outputs": [],
   "source": [
    "data_dir = 'D:\\\\Sandbox\\\\Github\\\\DATA_TFDS'"
   ]
  },
  {
   "cell_type": "code",
   "execution_count": 35,
   "metadata": {},
   "outputs": [],
   "source": [
    "dataset, info = tfds.load(name='cifar10',\n",
    "                              #split=['train', 'test'], \n",
    "                              data_dir=data_dir, \n",
    "                              with_info=True,\n",
    "                              as_supervised=True, # mutually exclusive with split\n",
    "                              shuffle_files=True,\n",
    "                              download=False)"
   ]
  },
  {
   "cell_type": "code",
   "execution_count": 67,
   "metadata": {},
   "outputs": [
    {
     "name": "stdout",
     "output_type": "stream",
     "text": [
      "['airplane', 'automobile', 'bird', 'cat', 'deer', 'dog', 'frog', 'horse', 'ship', 'truck']\n",
      "horse\n"
     ]
    }
   ],
   "source": [
    "print(info.features[\"label\"].names)\n",
    "print(info.features[\"label\"].int2str(7))"
   ]
  },
  {
   "cell_type": "code",
   "execution_count": 63,
   "metadata": {},
   "outputs": [],
   "source": [
    "train_dataset, test_dataset = dataset['train'], dataset['test']"
   ]
  },
  {
   "cell_type": "code",
   "execution_count": 64,
   "metadata": {},
   "outputs": [
    {
     "data": {
      "text/html": [
       "<style  type=\"text/css\" >\n",
       "</style><table id=\"T_577f4c34_8c0d_11eb_8283_8cae4cf08386\" ><thead>    <tr>        <th class=\"blank level0\" ></th>        <th class=\"col_heading level0 col0\" >image</th>        <th class=\"col_heading level0 col1\" >label</th>    </tr></thead><tbody>\n",
       "                <tr>\n",
       "                        <th id=\"T_577f4c34_8c0d_11eb_8283_8cae4cf08386level0_row0\" class=\"row_heading level0 row0\" >0</th>\n",
       "                        <td id=\"T_577f4c34_8c0d_11eb_8283_8cae4cf08386row0_col0\" class=\"data row0 col0\" ><img src=\"data:image/png;base64,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\" alt=\"Img\" /></td>\n",
       "                        <td id=\"T_577f4c34_8c0d_11eb_8283_8cae4cf08386row0_col1\" class=\"data row0 col1\" >7 (horse)</td>\n",
       "            </tr>\n",
       "            <tr>\n",
       "                        <th id=\"T_577f4c34_8c0d_11eb_8283_8cae4cf08386level0_row1\" class=\"row_heading level0 row1\" >1</th>\n",
       "                        <td id=\"T_577f4c34_8c0d_11eb_8283_8cae4cf08386row1_col0\" class=\"data row1 col0\" ><img src=\"data:image/png;base64,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\" alt=\"Img\" /></td>\n",
       "                        <td id=\"T_577f4c34_8c0d_11eb_8283_8cae4cf08386row1_col1\" class=\"data row1 col1\" >8 (ship)</td>\n",
       "            </tr>\n",
       "            <tr>\n",
       "                        <th id=\"T_577f4c34_8c0d_11eb_8283_8cae4cf08386level0_row2\" class=\"row_heading level0 row2\" >2</th>\n",
       "                        <td id=\"T_577f4c34_8c0d_11eb_8283_8cae4cf08386row2_col0\" class=\"data row2 col0\" ><img src=\"data:image/png;base64,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\" alt=\"Img\" /></td>\n",
       "                        <td id=\"T_577f4c34_8c0d_11eb_8283_8cae4cf08386row2_col1\" class=\"data row2 col1\" >4 (deer)</td>\n",
       "            </tr>\n",
       "            <tr>\n",
       "                        <th id=\"T_577f4c34_8c0d_11eb_8283_8cae4cf08386level0_row3\" class=\"row_heading level0 row3\" >3</th>\n",
       "                        <td id=\"T_577f4c34_8c0d_11eb_8283_8cae4cf08386row3_col0\" class=\"data row3 col0\" ><img src=\"data:image/png;base64,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\" alt=\"Img\" /></td>\n",
       "                        <td id=\"T_577f4c34_8c0d_11eb_8283_8cae4cf08386row3_col1\" class=\"data row3 col1\" >4 (deer)</td>\n",
       "            </tr>\n",
       "            <tr>\n",
       "                        <th id=\"T_577f4c34_8c0d_11eb_8283_8cae4cf08386level0_row4\" class=\"row_heading level0 row4\" >4</th>\n",
       "                        <td id=\"T_577f4c34_8c0d_11eb_8283_8cae4cf08386row4_col0\" class=\"data row4 col0\" ><img src=\"data:image/png;base64,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\" alt=\"Img\" /></td>\n",
       "                        <td id=\"T_577f4c34_8c0d_11eb_8283_8cae4cf08386row4_col1\" class=\"data row4 col1\" >6 (frog)</td>\n",
       "            </tr>\n",
       "    </tbody></table>"
      ],
      "text/plain": [
       "                                               image  label\n",
       "0  [[[143, 96, 70], [141, 96, 72], [135, 93, 72],...      7\n",
       "1  [[[203, 214, 234], [191, 207, 226], [178, 200,...      8\n",
       "2  [[[106, 103, 104], [103, 97, 99], [102, 93, 96...      4\n",
       "3  [[[53, 53, 60], [63, 62, 66], [74, 72, 75], [8...      4\n",
       "4  [[[22, 23, 15], [15, 16, 8], [23, 24, 16], [42...      6"
      ]
     },
     "execution_count": 64,
     "metadata": {},
     "output_type": "execute_result"
    }
   ],
   "source": [
    "tfds.as_dataframe(train_dataset.take(5), info)"
   ]
  },
  {
   "cell_type": "code",
   "execution_count": 58,
   "metadata": {},
   "outputs": [],
   "source": [
    "def normalize(images, labels):\n",
    "  images = tf.cast(images, tf.float32)\n",
    "  images /= 255\n",
    "  return images, labels"
   ]
  },
  {
   "cell_type": "markdown",
   "metadata": {},
   "source": [
    "### Prepare data for Model"
   ]
  },
  {
   "cell_type": "code",
   "execution_count": 65,
   "metadata": {},
   "outputs": [],
   "source": [
    "BATCH_SIZE = 32\n",
    "TRAIN_SIZE = len(train_dataset)   # memory max = 1000\n",
    "# if repeat() then model needs epoch/step\n",
    "#train_dataset = #train_dataset.cache().repeat().shuffle(TRAIN_SIZE).batch(BATCH_SIZE).prefetch(TRAIN_SIZE)\n",
    "\n",
    "train_dataset = train_dataset.map(normalize).cache().shuffle(TRAIN_SIZE).batch(BATCH_SIZE).prefetch(tf.data.experimental.AUTOTUNE)\n",
    "test_dataset = test_dataset.map(normalize).batch(BATCH_SIZE).cache().prefetch(tf.data.experimental.AUTOTUNE)"
   ]
  },
  {
   "cell_type": "markdown",
   "metadata": {},
   "source": [
    "### Prepare data for Prediction analysis"
   ]
  },
  {
   "cell_type": "code",
   "execution_count": 52,
   "metadata": {},
   "outputs": [],
   "source": [
    "# data is batch sized\n",
    "for test_images, test_labels in test_dataset.take(1):\n",
    "  x_test = test_images.numpy()\n",
    "  y_test = test_labels.numpy()"
   ]
  },
  {
   "cell_type": "code",
   "execution_count": 51,
   "metadata": {},
   "outputs": [
    {
     "name": "stdout",
     "output_type": "stream",
     "text": [
      "airplane\n"
     ]
    },
    {
     "data": {
      "image/png": "[encoded data removed]",
      "text/plain": [
       "<Figure size 432x288 with 1 Axes>"
      ]
     },
     "metadata": {
      "needs_background": "light"
     },
     "output_type": "display_data"
    }
   ],
   "source": [
    "n = 4\n",
    "plt.imshow(x_test[n])\n",
    "print(info.features[\"label\"].int2str(y_test[n]))"
   ]
  }
 ],
 "metadata": {
  "jupytext": {
   "formats": "ipynb,py:nomarker"
  },
  "kernelspec": {
   "display_name": "Python 3",
   "language": "python",
   "name": "python3"
  },
  "language_info": {
   "codemirror_mode": {
    "name": "ipython",
    "version": 3
   },
   "file_extension": ".py",
   "mimetype": "text/x-python",
   "name": "python",
   "nbconvert_exporter": "python",
   "pygments_lexer": "ipython3",
   "version": "3.8.5"
  }
 },
 "nbformat": 4,
 "nbformat_minor": 4
}
