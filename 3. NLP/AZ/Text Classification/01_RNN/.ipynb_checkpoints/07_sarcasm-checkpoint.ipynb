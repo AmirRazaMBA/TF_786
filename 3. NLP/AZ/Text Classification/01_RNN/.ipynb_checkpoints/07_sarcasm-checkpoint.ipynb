{
 "cells": [
  {
   "cell_type": "code",
   "execution_count": 2,
   "metadata": {
    "colab": {},
    "colab_type": "code",
    "id": "XYYDvoskkE61"
   },
   "outputs": [],
   "source": [
    "import json\n",
    "import tensorflow as tf\n",
    "\n",
    "from tensorflow.keras.preprocessing.text import Tokenizer\n",
    "from tensorflow.keras.preprocessing.sequence import pad_sequences"
   ]
  },
  {
   "cell_type": "code",
   "execution_count": 3,
   "metadata": {
    "colab": {},
    "colab_type": "code",
    "id": "0eJSTTYnkJQd"
   },
   "outputs": [],
   "source": [
    "vocab_size = 10000\n",
    "embedding_dim = 16\n",
    "max_length = 100\n",
    "trunc_type='post'\n",
    "padding_type='post'\n",
    "oov_tok = \"<OOV>\"\n",
    "training_size = 20000"
   ]
  },
  {
   "cell_type": "code",
   "execution_count": null,
   "metadata": {
    "colab": {},
    "colab_type": "code",
    "id": "BQVuQrZNkPn9"
   },
   "outputs": [],
   "source": [
    "'''\n",
    "!wget --no-check-certificate \\\n",
    "https://storage.googleapis.com/laurencemoroney-blog.appspot.com/sarcasm.json \\\n",
    "-O /tmp/sarcasm.json\n",
    "'''"
   ]
  },
  {
   "cell_type": "code",
   "execution_count": 4,
   "metadata": {},
   "outputs": [
    {
     "name": "stdout",
     "output_type": "stream",
     "text": [
      "Downloading data from https://storage.googleapis.com/laurencemoroney-blog.appspot.com/sarcasm.json\n",
      "5644288/5643545 [==============================] - 1s 0us/step\n",
      "C:\\Users\\Amir\\.keras\\datasets\\sarcasm.json\n"
     ]
    }
   ],
   "source": [
    "path = tf.keras.utils.get_file('sarcasm.json', \n",
    "                               'https://storage.googleapis.com/laurencemoroney-blog.appspot.com/sarcasm.json')\n",
    "print (path)"
   ]
  },
  {
   "cell_type": "code",
   "execution_count": 5,
   "metadata": {
    "colab": {},
    "colab_type": "code",
    "id": "oaLaaqhNkUPd"
   },
   "outputs": [],
   "source": [
    "with open(path, 'r') as f:\n",
    "    datastore = json.load(f)\n",
    "\n",
    "sentences = []\n",
    "labels = []\n",
    "\n",
    "for item in datastore:\n",
    "    sentences.append(item['headline'])\n",
    "    labels.append(item['is_sarcastic'])"
   ]
  },
  {
   "cell_type": "code",
   "execution_count": 6,
   "metadata": {
    "colab": {},
    "colab_type": "code",
    "id": "S1sD-7v0kYWk"
   },
   "outputs": [],
   "source": [
    "training_sentences = sentences[0:training_size]\n",
    "testing_sentences = sentences[training_size:]\n",
    "training_labels = labels[0:training_size]\n",
    "testing_labels = labels[training_size:]"
   ]
  },
  {
   "cell_type": "code",
   "execution_count": 7,
   "metadata": {
    "colab": {},
    "colab_type": "code",
    "id": "3u8UB0MCkZ5N"
   },
   "outputs": [],
   "source": [
    "tokenizer = Tokenizer(num_words=vocab_size, oov_token=oov_tok)\n",
    "tokenizer.fit_on_texts(training_sentences)\n",
    "\n",
    "word_index = tokenizer.word_index\n",
    "\n",
    "training_sequences = tokenizer.texts_to_sequences(training_sentences)\n",
    "training_padded = pad_sequences(training_sequences, maxlen=max_length, padding=padding_type, truncating=trunc_type)\n",
    "\n",
    "testing_sequences = tokenizer.texts_to_sequences(testing_sentences)\n",
    "testing_padded = pad_sequences(testing_sequences, maxlen=max_length, padding=padding_type, truncating=trunc_type)"
   ]
  },
  {
   "cell_type": "code",
   "execution_count": 8,
   "metadata": {
    "colab": {},
    "colab_type": "code",
    "id": "GrAlWBKf99Ya"
   },
   "outputs": [],
   "source": [
    "# Need this block to get it to work with TensorFlow 2.x\n",
    "import numpy as np\n",
    "training_padded = np.array(training_padded)\n",
    "training_labels = np.array(training_labels)\n",
    "testing_padded = np.array(testing_padded)\n",
    "testing_labels = np.array(testing_labels)"
   ]
  },
  {
   "cell_type": "code",
   "execution_count": 9,
   "metadata": {
    "colab": {},
    "colab_type": "code",
    "id": "FufaT4vlkiDE"
   },
   "outputs": [
    {
     "name": "stdout",
     "output_type": "stream",
     "text": [
      "Model: \"sequential\"\n",
      "_________________________________________________________________\n",
      "Layer (type)                 Output Shape              Param #   \n",
      "=================================================================\n",
      "embedding (Embedding)        (None, 100, 16)           160000    \n",
      "_________________________________________________________________\n",
      "global_average_pooling1d (Gl (None, 16)                0         \n",
      "_________________________________________________________________\n",
      "dense (Dense)                (None, 24)                408       \n",
      "_________________________________________________________________\n",
      "dense_1 (Dense)              (None, 1)                 25        \n",
      "=================================================================\n",
      "Total params: 160,433\n",
      "Trainable params: 160,433\n",
      "Non-trainable params: 0\n",
      "_________________________________________________________________\n"
     ]
    }
   ],
   "source": [
    "model = tf.keras.Sequential([\n",
    "    tf.keras.layers.Embedding(vocab_size, embedding_dim, input_length=max_length),\n",
    "    tf.keras.layers.GlobalAveragePooling1D(),\n",
    "    tf.keras.layers.Dense(24, activation='relu'),\n",
    "    tf.keras.layers.Dense(1, activation='sigmoid')\n",
    "])\n",
    "\n",
    "model.compile(loss='binary_crossentropy',optimizer='adam',metrics=['accuracy'])\n",
    "model.summary()"
   ]
  },
  {
   "cell_type": "code",
   "execution_count": 10,
   "metadata": {
    "colab": {},
    "colab_type": "code",
    "id": "2DTKQFf1kkyc"
   },
   "outputs": [
    {
     "name": "stdout",
     "output_type": "stream",
     "text": [
      "Epoch 1/30\n",
      "625/625 - 2s - loss: 0.6610 - accuracy: 0.5886 - val_loss: 0.5640 - val_accuracy: 0.7936\n",
      "Epoch 2/30\n",
      "625/625 - 1s - loss: 0.4198 - accuracy: 0.8375 - val_loss: 0.3793 - val_accuracy: 0.8425\n",
      "Epoch 3/30\n",
      "625/625 - 1s - loss: 0.3040 - accuracy: 0.8806 - val_loss: 0.3673 - val_accuracy: 0.8366\n",
      "Epoch 4/30\n",
      "625/625 - 1s - loss: 0.2516 - accuracy: 0.9004 - val_loss: 0.3428 - val_accuracy: 0.8574\n",
      "Epoch 5/30\n",
      "625/625 - 1s - loss: 0.2155 - accuracy: 0.9176 - val_loss: 0.3462 - val_accuracy: 0.8557\n",
      "Epoch 6/30\n",
      "625/625 - 1s - loss: 0.1889 - accuracy: 0.9294 - val_loss: 0.3667 - val_accuracy: 0.8524\n",
      "Epoch 7/30\n",
      "625/625 - 2s - loss: 0.1677 - accuracy: 0.9367 - val_loss: 0.3818 - val_accuracy: 0.8478\n",
      "Epoch 8/30\n",
      "625/625 - 2s - loss: 0.1495 - accuracy: 0.9435 - val_loss: 0.4243 - val_accuracy: 0.8359\n",
      "Epoch 9/30\n",
      "625/625 - 2s - loss: 0.1328 - accuracy: 0.9529 - val_loss: 0.4086 - val_accuracy: 0.8506\n",
      "Epoch 10/30\n",
      "625/625 - 2s - loss: 0.1214 - accuracy: 0.9578 - val_loss: 0.4722 - val_accuracy: 0.8332\n",
      "Epoch 11/30\n",
      "625/625 - 1s - loss: 0.1093 - accuracy: 0.9629 - val_loss: 0.4565 - val_accuracy: 0.8459\n",
      "Epoch 12/30\n",
      "625/625 - 1s - loss: 0.0994 - accuracy: 0.9651 - val_loss: 0.4858 - val_accuracy: 0.8417\n",
      "Epoch 13/30\n",
      "625/625 - 2s - loss: 0.0898 - accuracy: 0.9696 - val_loss: 0.5253 - val_accuracy: 0.8386\n",
      "Epoch 14/30\n",
      "625/625 - 1s - loss: 0.0823 - accuracy: 0.9729 - val_loss: 0.5626 - val_accuracy: 0.8351\n",
      "Epoch 15/30\n",
      "625/625 - 2s - loss: 0.0759 - accuracy: 0.9750 - val_loss: 0.5780 - val_accuracy: 0.8369\n",
      "Epoch 16/30\n",
      "625/625 - 1s - loss: 0.0688 - accuracy: 0.9779 - val_loss: 0.6080 - val_accuracy: 0.8354\n",
      "Epoch 17/30\n",
      "625/625 - 2s - loss: 0.0644 - accuracy: 0.9794 - val_loss: 0.6459 - val_accuracy: 0.8314\n",
      "Epoch 18/30\n",
      "625/625 - 2s - loss: 0.0575 - accuracy: 0.9829 - val_loss: 0.7043 - val_accuracy: 0.8271\n",
      "Epoch 19/30\n",
      "625/625 - 2s - loss: 0.0528 - accuracy: 0.9836 - val_loss: 0.7233 - val_accuracy: 0.8278\n",
      "Epoch 20/30\n",
      "625/625 - 2s - loss: 0.0482 - accuracy: 0.9851 - val_loss: 0.8027 - val_accuracy: 0.8199\n",
      "Epoch 21/30\n",
      "625/625 - 1s - loss: 0.0441 - accuracy: 0.9865 - val_loss: 0.7944 - val_accuracy: 0.8234\n",
      "Epoch 22/30\n",
      "625/625 - 1s - loss: 0.0407 - accuracy: 0.9872 - val_loss: 0.8607 - val_accuracy: 0.8205\n",
      "Epoch 23/30\n",
      "625/625 - 1s - loss: 0.0370 - accuracy: 0.9888 - val_loss: 0.8860 - val_accuracy: 0.8205\n",
      "Epoch 24/30\n",
      "625/625 - 1s - loss: 0.0343 - accuracy: 0.9900 - val_loss: 0.9144 - val_accuracy: 0.8180\n",
      "Epoch 25/30\n",
      "625/625 - 1s - loss: 0.0310 - accuracy: 0.9910 - val_loss: 1.0153 - val_accuracy: 0.8156\n",
      "Epoch 26/30\n",
      "625/625 - 1s - loss: 0.0295 - accuracy: 0.9913 - val_loss: 1.0434 - val_accuracy: 0.8147\n",
      "Epoch 27/30\n",
      "625/625 - 1s - loss: 0.0284 - accuracy: 0.9912 - val_loss: 1.1049 - val_accuracy: 0.8141\n",
      "Epoch 28/30\n",
      "625/625 - 1s - loss: 0.0250 - accuracy: 0.9927 - val_loss: 1.0830 - val_accuracy: 0.8155\n",
      "Epoch 29/30\n",
      "625/625 - 1s - loss: 0.0222 - accuracy: 0.9941 - val_loss: 1.2150 - val_accuracy: 0.8125\n",
      "Epoch 30/30\n",
      "625/625 - 1s - loss: 0.0232 - accuracy: 0.9937 - val_loss: 1.1956 - val_accuracy: 0.8119\n"
     ]
    }
   ],
   "source": [
    "num_epochs = 30\n",
    "history = model.fit(training_padded, \n",
    "                    training_labels, \n",
    "                    epochs=num_epochs, \n",
    "                    validation_data=(testing_padded, testing_labels), verbose=2)"
   ]
  },
  {
   "cell_type": "code",
   "execution_count": 11,
   "metadata": {
    "colab": {},
    "colab_type": "code",
    "id": "2HYfBKXjkmU8"
   },
   "outputs": [
    {
     "data": {
      "image/png": "[encoded data removed]",
      "text/plain": [
       "<Figure size 432x288 with 1 Axes>"
      ]
     },
     "metadata": {
      "needs_background": "light"
     },
     "output_type": "display_data"
    },
    {
     "data": {
      "image/png": "[encoded data removed]",
      "text/plain": [
       "<Figure size 432x288 with 1 Axes>"
      ]
     },
     "metadata": {
      "needs_background": "light"
     },
     "output_type": "display_data"
    }
   ],
   "source": [
    "import matplotlib.pyplot as plt\n",
    "\n",
    "def plot_graphs(history, string):\n",
    "  plt.plot(history.history[string])\n",
    "  plt.plot(history.history['val_'+string])\n",
    "  plt.xlabel(\"Epochs\")\n",
    "  plt.ylabel(string)\n",
    "  plt.legend([string, 'val_'+string])\n",
    "  plt.show()\n",
    "  \n",
    "plot_graphs(history, \"accuracy\")\n",
    "plot_graphs(history, \"loss\")"
   ]
  },
  {
   "cell_type": "code",
   "execution_count": 12,
   "metadata": {
    "colab": {},
    "colab_type": "code",
    "id": "7SBdAZAenvzL"
   },
   "outputs": [
    {
     "name": "stdout",
     "output_type": "stream",
     "text": [
      "former <OOV> store clerk sues over secret 'black <OOV> for minority shoppers ? ? ? ? ? ? ? ? ? ? ? ? ? ? ? ? ? ? ? ? ? ? ? ? ? ? ? ? ? ? ? ? ? ? ? ? ? ? ? ? ? ? ? ? ? ? ? ? ? ? ? ? ? ? ? ? ? ? ? ? ? ? ? ? ? ? ? ? ? ? ? ? ? ? ? ? ? ? ? ? ? ? ? ? ? ? ? ?\n",
      "mom starting to fear son's web series closest thing she will have to grandchild\n",
      "1\n"
     ]
    }
   ],
   "source": [
    "reverse_word_index = dict([(value, key) for (key, value) in word_index.items()])\n",
    "\n",
    "def decode_sentence(text):\n",
    "    return ' '.join([reverse_word_index.get(i, '?') for i in text])\n",
    "\n",
    "print(decode_sentence(training_padded[0]))\n",
    "print(training_sentences[2])\n",
    "print(labels[2])"
   ]
  },
  {
   "cell_type": "code",
   "execution_count": 13,
   "metadata": {
    "colab": {},
    "colab_type": "code",
    "id": "c9MqihtEkzQ9"
   },
   "outputs": [
    {
     "name": "stdout",
     "output_type": "stream",
     "text": [
      "(10000, 16)\n"
     ]
    }
   ],
   "source": [
    "e = model.layers[0]\n",
    "weights = e.get_weights()[0]\n",
    "print(weights.shape) # shape: (vocab_size, embedding_dim)"
   ]
  },
  {
   "cell_type": "code",
   "execution_count": null,
   "metadata": {
    "colab": {},
    "colab_type": "code",
    "id": "LoBXVffknldU"
   },
   "outputs": [],
   "source": [
    "import io\n",
    "\n",
    "out_v = io.open('vecs.tsv', 'w', encoding='utf-8')\n",
    "out_m = io.open('meta.tsv', 'w', encoding='utf-8')\n",
    "for word_num in range(1, vocab_size):\n",
    "  word = reverse_word_index[word_num]\n",
    "  embeddings = weights[word_num]\n",
    "  out_m.write(word + \"\\n\")\n",
    "  out_v.write('\\t'.join([str(x) for x in embeddings]) + \"\\n\")\n",
    "out_v.close()\n",
    "out_m.close()"
   ]
  },
  {
   "cell_type": "code",
   "execution_count": null,
   "metadata": {
    "colab": {},
    "colab_type": "code",
    "id": "U4eZ5HtVnnEE"
   },
   "outputs": [],
   "source": [
    "try:\n",
    "  from google.colab import files\n",
    "except ImportError:\n",
    "  pass\n",
    "else:\n",
    "  files.download('vecs.tsv')\n",
    "  files.download('meta.tsv')"
   ]
  },
  {
   "cell_type": "code",
   "execution_count": 14,
   "metadata": {
    "colab": {},
    "colab_type": "code",
    "id": "cG8-ArY-qDcz"
   },
   "outputs": [
    {
     "name": "stdout",
     "output_type": "stream",
     "text": [
      "[[8.732170e-01]\n",
      " [4.520357e-07]]\n"
     ]
    }
   ],
   "source": [
    "sentence = [\"granny starting to fear spiders in the garden might be real\", \"game of thrones season finale showing this sunday night\"]\n",
    "sequences = tokenizer.texts_to_sequences(sentence)\n",
    "padded = pad_sequences(sequences, maxlen=max_length, padding=padding_type, truncating=trunc_type)\n",
    "print(model.predict(padded))"
   ]
  }
 ],
 "metadata": {
  "accelerator": "GPU",
  "colab": {
   "collapsed_sections": [],
   "include_colab_link": true,
   "name": "Course 3 - Week 2 - Lesson 2.ipynb",
   "provenance": [],
   "toc_visible": true
  },
  "kernelspec": {
   "display_name": "Python 3",
   "language": "python",
   "name": "python3"
  },
  "language_info": {
   "codemirror_mode": {
    "name": "ipython",
    "version": 3
   },
   "file_extension": ".py",
   "mimetype": "text/x-python",
   "name": "python",
   "nbconvert_exporter": "python",
   "pygments_lexer": "ipython3",
   "version": "3.8.5"
  }
 },
 "nbformat": 4,
 "nbformat_minor": 4
}
