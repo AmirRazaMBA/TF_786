{
  "nbformat": 4,
  "nbformat_minor": 0,
  "metadata": {
    "colab": {
      "name": "02_simple_model.ipynb",
      "provenance": [],
      "include_colab_link": true
    },
    "kernelspec": {
      "display_name": "Python 3",
      "language": "python",
      "name": "python3"
    },
    "language_info": {
      "codemirror_mode": {
        "name": "ipython",
        "version": 3
      },
      "file_extension": ".py",
      "mimetype": "text/x-python",
      "name": "python",
      "nbconvert_exporter": "python",
      "pygments_lexer": "ipython3",
      "version": "3.7.7"
    }
  },
  "cells": [
    {
      "cell_type": "markdown",
      "metadata": {
        "id": "view-in-github",
        "colab_type": "text"
      },
      "source": [
        "<a href=\"https://colab.research.google.com/github/AmirRazaMBA/TF_CertificationExam/blob/main/Introduction%20to%20TensorFlow/02_simple_model.ipynb\" target=\"_parent\"><img src=\"https://colab.research.google.com/assets/colab-badge.svg\" alt=\"Open In Colab\"/></a>"
      ]
    },
    {
      "cell_type": "code",
      "metadata": {
        "id": "w5bOPvFaQIqm"
      },
      "source": [
        "import tensorflow as tf\n",
        "import numpy as np\n",
        "import matplotlib.pyplot as plt\n",
        "from tensorflow.keras.models import Sequential\n",
        "from tensorflow.keras.layers import Dense"
      ],
      "execution_count": 1,
      "outputs": []
    },
    {
      "cell_type": "code",
      "metadata": {
        "id": "wEF4H2h3R_5o"
      },
      "source": [
        "celsius_q    = np.array([-40, -10,  0,  8, 15, 22,  38],  dtype=float)\n",
        "fahrenheit_a = np.array([-40,  14, 32, 46, 59, 72, 100],  dtype=float)"
      ],
      "execution_count": 2,
      "outputs": []
    },
    {
      "cell_type": "code",
      "metadata": {
        "id": "z1BLvZ_sSD-Q"
      },
      "source": [
        "#for i,c in enumerate(celsius_q):\n",
        "  #print(str(c) + \" degrees Celsius = degrees Fahrenheit \" + str(fahrenheit_a[i]))"
      ],
      "execution_count": 3,
      "outputs": []
    },
    {
      "cell_type": "code",
      "metadata": {
        "id": "w0-C0HoRSG9-",
        "outputId": "2044924b-ccec-4921-8762-499460eacf04",
        "colab": {
          "base_uri": "https://localhost:8080/"
        }
      },
      "source": [
        "layer_0 = Dense(units=4, input_shape=[1])\n",
        "layer_1 = Dense(units=4)\n",
        "layer_2 = Dense(units=1)\n",
        "\n",
        "model = Sequential()\n",
        "model.add(layer_0)\n",
        "model.add(layer_1)\n",
        "model.add(layer_2)\n",
        "\n",
        "model.compile(loss='mean_squared_error',\n",
        "              optimizer=tf.keras.optimizers.Adam(0.1))\n",
        "model.summary()\n",
        "\n",
        "#  Layer 0 : weights 1 x 4 and bias 4  ; Layer 1 : weights 4 x 4 and bias 4 ; Layer 3 : weights 4 x 1 and bias = 1"
      ],
      "execution_count": 10,
      "outputs": [
        {
          "output_type": "stream",
          "text": [
            "Model: \"sequential_1\"\n",
            "_________________________________________________________________\n",
            "Layer (type)                 Output Shape              Param #   \n",
            "=================================================================\n",
            "dense_3 (Dense)              (None, 4)                 8         \n",
            "_________________________________________________________________\n",
            "dense_4 (Dense)              (None, 4)                 20        \n",
            "_________________________________________________________________\n",
            "dense_5 (Dense)              (None, 1)                 5         \n",
            "=================================================================\n",
            "Total params: 33\n",
            "Trainable params: 33\n",
            "Non-trainable params: 0\n",
            "_________________________________________________________________\n"
          ],
          "name": "stdout"
        }
      ]
    },
    {
      "cell_type": "code",
      "metadata": {
        "id": "ay8_Sd4MShDO"
      },
      "source": [
        "history = model.fit(x=celsius_q, y=fahrenheit_a, epochs=500, verbose=False)"
      ],
      "execution_count": 5,
      "outputs": []
    },
    {
      "cell_type": "code",
      "metadata": {
        "id": "I7pas988SOjO",
        "outputId": "8e3d20a0-6eb8-4146-c783-d3033ed530d4",
        "colab": {
          "base_uri": "https://localhost:8080/",
          "height": 296
        }
      },
      "source": [
        "plt.xlabel('Epoch')\n",
        "plt.ylabel(\"Loss\")\n",
        "plt.plot(history.history['loss'])"
      ],
      "execution_count": 6,
      "outputs": [
        {
          "output_type": "execute_result",
          "data": {
            "text/plain": [
              "[<matplotlib.lines.Line2D at 0x7f35019afa58>]"
            ]
          },
          "metadata": {
            "tags": []
          },
          "execution_count": 6
        },
        {
          "output_type": "display_data",
          "data": {
            "image/png": "[encoded data removed]",
            "text/plain": [
              "<Figure size 432x288 with 1 Axes>"
            ]
          },
          "metadata": {
            "tags": [],
            "needs_background": "light"
          }
        }
      ]
    },
    {
      "cell_type": "code",
      "metadata": {
        "id": "SyZ6kaQ6SQd2",
        "outputId": "5ad042d4-9d16-4895-a315-f7753f1d2bcf",
        "colab": {
          "base_uri": "https://localhost:8080/"
        }
      },
      "source": [
        "print(model.predict([100.0]))"
      ],
      "execution_count": 7,
      "outputs": [
        {
          "output_type": "stream",
          "text": [
            "[[211.74744]]\n"
          ],
          "name": "stdout"
        }
      ]
    },
    {
      "cell_type": "code",
      "metadata": {
        "id": "elWiukimSSKe",
        "outputId": "69520f47-0528-4fda-e23c-1c791375e4df",
        "colab": {
          "base_uri": "https://localhost:8080/"
        }
      },
      "source": [
        "# Note the formula is F = 1.8 * C + 32    , where weight is 1.8 and bias is 32 if only one layer and one unit\n",
        "print(\"These are the layer_0 variables: \" + str(layer_0.get_weights()) + \"\\n\")\n",
        "print(\"These are the layer_1 variables: \" + str(layer_1.get_weights()) + \"\\n\")\n",
        "print(\"These are the layer_2 variables: \" + str(layer_2.get_weights()) + \"\\n\")"
      ],
      "execution_count": 9,
      "outputs": [
        {
          "output_type": "stream",
          "text": [
            "These are the layer_0 variables: [array([[-0.3849956 ,  0.06945714,  0.8305622 , -0.13198055]],\n",
            "      dtype=float32), array([-3.2937386, -3.2016199,  3.3788104,  2.7487729], dtype=float32)]\n",
            "\n",
            "These are the layer_1 variables: [array([[ 0.03176934, -0.8822142 ,  0.5039331 , -0.80846506],\n",
            "       [-0.4344406 , -0.9153131 , -0.625423  , -1.2447749 ],\n",
            "       [-0.10629681,  0.8674469 ,  0.2953448 ,  0.9945485 ],\n",
            "       [-0.13630953, -0.13857402, -0.21220978,  1.0797594 ]],\n",
            "      dtype=float32), array([-1.9123148,  3.4233828, -2.7091942,  3.3911142], dtype=float32)]\n",
            "\n",
            "These are the layer_2 variables: [array([[-0.22691898],\n",
            "       [ 0.6531665 ],\n",
            "       [-0.23812342],\n",
            "       [ 1.2309039 ]], dtype=float32), array([3.318378], dtype=float32)]\n",
            "\n"
          ],
          "name": "stdout"
        }
      ]
    }
  ]
}