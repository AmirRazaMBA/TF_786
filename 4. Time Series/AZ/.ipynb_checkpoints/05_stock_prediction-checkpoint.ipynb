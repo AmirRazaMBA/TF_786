{
 "cells": [
  {
   "cell_type": "markdown",
   "metadata": {},
   "source": [
    "### Stock Market Prediction And Forecasting Using Stacked LSTM"
   ]
  },
  {
   "cell_type": "code",
   "execution_count": 1,
   "metadata": {},
   "outputs": [],
   "source": [
    "import math\n",
    "import numpy as np\n",
    "import pandas as pd\n",
    "import matplotlib.pyplot as plt\n",
    "import pandas_datareader as pdr\n",
    "\n",
    "from sklearn.metrics import mean_squared_error\n",
    "from tensorflow.keras.preprocessing.sequence import TimeseriesGenerator\n",
    "from tensorflow.keras.models import Sequential\n",
    "from tensorflow.keras.layers import Dense\n",
    "from tensorflow.keras.layers import LSTM"
   ]
  },
  {
   "cell_type": "code",
   "execution_count": 2,
   "metadata": {},
   "outputs": [],
   "source": [
    "KEY = \"e46970bde5460c8e6caece2452083771f7320e41\""
   ]
  },
  {
   "cell_type": "code",
   "execution_count": 3,
   "metadata": {},
   "outputs": [
    {
     "data": {
      "text/html": [
       "<div>\n",
       "<style scoped>\n",
       "    .dataframe tbody tr th:only-of-type {\n",
       "        vertical-align: middle;\n",
       "    }\n",
       "\n",
       "    .dataframe tbody tr th {\n",
       "        vertical-align: top;\n",
       "    }\n",
       "\n",
       "    .dataframe thead th {\n",
       "        text-align: right;\n",
       "    }\n",
       "</style>\n",
       "<table border=\"1\" class=\"dataframe\">\n",
       "  <thead>\n",
       "    <tr style=\"text-align: right;\">\n",
       "      <th></th>\n",
       "      <th>symbol</th>\n",
       "      <th>date</th>\n",
       "      <th>close</th>\n",
       "      <th>high</th>\n",
       "      <th>low</th>\n",
       "      <th>open</th>\n",
       "      <th>volume</th>\n",
       "      <th>adjClose</th>\n",
       "      <th>adjHigh</th>\n",
       "      <th>adjLow</th>\n",
       "      <th>adjOpen</th>\n",
       "      <th>adjVolume</th>\n",
       "      <th>divCash</th>\n",
       "      <th>splitFactor</th>\n",
       "    </tr>\n",
       "  </thead>\n",
       "  <tbody>\n",
       "    <tr>\n",
       "      <th>0</th>\n",
       "      <td>AAPL</td>\n",
       "      <td>2015-12-31 00:00:00+00:00</td>\n",
       "      <td>105.26</td>\n",
       "      <td>107.030</td>\n",
       "      <td>104.82</td>\n",
       "      <td>107.01</td>\n",
       "      <td>40912316</td>\n",
       "      <td>24.377014</td>\n",
       "      <td>24.786926</td>\n",
       "      <td>24.275115</td>\n",
       "      <td>24.782294</td>\n",
       "      <td>163649264</td>\n",
       "      <td>0.0</td>\n",
       "      <td>1.0</td>\n",
       "    </tr>\n",
       "    <tr>\n",
       "      <th>1</th>\n",
       "      <td>AAPL</td>\n",
       "      <td>2016-01-04 00:00:00+00:00</td>\n",
       "      <td>105.35</td>\n",
       "      <td>105.368</td>\n",
       "      <td>102.00</td>\n",
       "      <td>102.61</td>\n",
       "      <td>67649387</td>\n",
       "      <td>24.397857</td>\n",
       "      <td>24.402026</td>\n",
       "      <td>23.622035</td>\n",
       "      <td>23.763304</td>\n",
       "      <td>270597548</td>\n",
       "      <td>0.0</td>\n",
       "      <td>1.0</td>\n",
       "    </tr>\n",
       "    <tr>\n",
       "      <th>2</th>\n",
       "      <td>AAPL</td>\n",
       "      <td>2016-01-05 00:00:00+00:00</td>\n",
       "      <td>102.71</td>\n",
       "      <td>105.850</td>\n",
       "      <td>102.41</td>\n",
       "      <td>105.75</td>\n",
       "      <td>55790992</td>\n",
       "      <td>23.786463</td>\n",
       "      <td>24.513651</td>\n",
       "      <td>23.716987</td>\n",
       "      <td>24.490493</td>\n",
       "      <td>223163968</td>\n",
       "      <td>0.0</td>\n",
       "      <td>1.0</td>\n",
       "    </tr>\n",
       "    <tr>\n",
       "      <th>3</th>\n",
       "      <td>AAPL</td>\n",
       "      <td>2016-01-06 00:00:00+00:00</td>\n",
       "      <td>100.70</td>\n",
       "      <td>102.370</td>\n",
       "      <td>99.87</td>\n",
       "      <td>100.56</td>\n",
       "      <td>68457388</td>\n",
       "      <td>23.320970</td>\n",
       "      <td>23.707723</td>\n",
       "      <td>23.128752</td>\n",
       "      <td>23.288548</td>\n",
       "      <td>273829552</td>\n",
       "      <td>0.0</td>\n",
       "      <td>1.0</td>\n",
       "    </tr>\n",
       "    <tr>\n",
       "      <th>4</th>\n",
       "      <td>AAPL</td>\n",
       "      <td>2016-01-07 00:00:00+00:00</td>\n",
       "      <td>96.45</td>\n",
       "      <td>100.130</td>\n",
       "      <td>96.43</td>\n",
       "      <td>98.68</td>\n",
       "      <td>81094428</td>\n",
       "      <td>22.336719</td>\n",
       "      <td>23.188965</td>\n",
       "      <td>22.332087</td>\n",
       "      <td>22.853161</td>\n",
       "      <td>324377712</td>\n",
       "      <td>0.0</td>\n",
       "      <td>1.0</td>\n",
       "    </tr>\n",
       "  </tbody>\n",
       "</table>\n",
       "</div>"
      ],
      "text/plain": [
       "  symbol                       date   close     high     low    open  \\\n",
       "0   AAPL  2015-12-31 00:00:00+00:00  105.26  107.030  104.82  107.01   \n",
       "1   AAPL  2016-01-04 00:00:00+00:00  105.35  105.368  102.00  102.61   \n",
       "2   AAPL  2016-01-05 00:00:00+00:00  102.71  105.850  102.41  105.75   \n",
       "3   AAPL  2016-01-06 00:00:00+00:00  100.70  102.370   99.87  100.56   \n",
       "4   AAPL  2016-01-07 00:00:00+00:00   96.45  100.130   96.43   98.68   \n",
       "\n",
       "     volume   adjClose    adjHigh     adjLow    adjOpen  adjVolume  divCash  \\\n",
       "0  40912316  24.377014  24.786926  24.275115  24.782294  163649264      0.0   \n",
       "1  67649387  24.397857  24.402026  23.622035  23.763304  270597548      0.0   \n",
       "2  55790992  23.786463  24.513651  23.716987  24.490493  223163968      0.0   \n",
       "3  68457388  23.320970  23.707723  23.128752  23.288548  273829552      0.0   \n",
       "4  81094428  22.336719  23.188965  22.332087  22.853161  324377712      0.0   \n",
       "\n",
       "   splitFactor  \n",
       "0          1.0  \n",
       "1          1.0  \n",
       "2          1.0  \n",
       "3          1.0  \n",
       "4          1.0  "
      ]
     },
     "execution_count": 3,
     "metadata": {},
     "output_type": "execute_result"
    }
   ],
   "source": [
    "df = pdr.get_data_tiingo('AAPL', api_key = KEY)\n",
    "df.to_csv('AAPL.csv')\n",
    "df=pd.read_csv('AAPL.csv')\n",
    "df.head()"
   ]
  },
  {
   "cell_type": "code",
   "execution_count": 4,
   "metadata": {},
   "outputs": [
    {
     "data": {
      "text/html": [
       "<div>\n",
       "<style scoped>\n",
       "    .dataframe tbody tr th:only-of-type {\n",
       "        vertical-align: middle;\n",
       "    }\n",
       "\n",
       "    .dataframe tbody tr th {\n",
       "        vertical-align: top;\n",
       "    }\n",
       "\n",
       "    .dataframe thead th {\n",
       "        text-align: right;\n",
       "    }\n",
       "</style>\n",
       "<table border=\"1\" class=\"dataframe\">\n",
       "  <thead>\n",
       "    <tr style=\"text-align: right;\">\n",
       "      <th></th>\n",
       "      <th>symbol</th>\n",
       "      <th>date</th>\n",
       "      <th>close</th>\n",
       "      <th>high</th>\n",
       "      <th>low</th>\n",
       "      <th>open</th>\n",
       "      <th>volume</th>\n",
       "      <th>adjClose</th>\n",
       "      <th>adjHigh</th>\n",
       "      <th>adjLow</th>\n",
       "      <th>adjOpen</th>\n",
       "      <th>adjVolume</th>\n",
       "      <th>divCash</th>\n",
       "      <th>splitFactor</th>\n",
       "    </tr>\n",
       "  </thead>\n",
       "  <tbody>\n",
       "    <tr>\n",
       "      <th>1252</th>\n",
       "      <td>AAPL</td>\n",
       "      <td>2020-12-21 00:00:00+00:00</td>\n",
       "      <td>128.23</td>\n",
       "      <td>128.310</td>\n",
       "      <td>123.449</td>\n",
       "      <td>125.02</td>\n",
       "      <td>121251553</td>\n",
       "      <td>128.23</td>\n",
       "      <td>128.310</td>\n",
       "      <td>123.449</td>\n",
       "      <td>125.02</td>\n",
       "      <td>121251553</td>\n",
       "      <td>0.0</td>\n",
       "      <td>1.0</td>\n",
       "    </tr>\n",
       "    <tr>\n",
       "      <th>1253</th>\n",
       "      <td>AAPL</td>\n",
       "      <td>2020-12-22 00:00:00+00:00</td>\n",
       "      <td>131.88</td>\n",
       "      <td>134.405</td>\n",
       "      <td>129.650</td>\n",
       "      <td>131.61</td>\n",
       "      <td>169351825</td>\n",
       "      <td>131.88</td>\n",
       "      <td>134.405</td>\n",
       "      <td>129.650</td>\n",
       "      <td>131.61</td>\n",
       "      <td>169351825</td>\n",
       "      <td>0.0</td>\n",
       "      <td>1.0</td>\n",
       "    </tr>\n",
       "    <tr>\n",
       "      <th>1254</th>\n",
       "      <td>AAPL</td>\n",
       "      <td>2020-12-23 00:00:00+00:00</td>\n",
       "      <td>130.96</td>\n",
       "      <td>132.430</td>\n",
       "      <td>130.780</td>\n",
       "      <td>132.16</td>\n",
       "      <td>88223692</td>\n",
       "      <td>130.96</td>\n",
       "      <td>132.430</td>\n",
       "      <td>130.780</td>\n",
       "      <td>132.16</td>\n",
       "      <td>88223692</td>\n",
       "      <td>0.0</td>\n",
       "      <td>1.0</td>\n",
       "    </tr>\n",
       "    <tr>\n",
       "      <th>1255</th>\n",
       "      <td>AAPL</td>\n",
       "      <td>2020-12-24 00:00:00+00:00</td>\n",
       "      <td>131.97</td>\n",
       "      <td>133.460</td>\n",
       "      <td>131.100</td>\n",
       "      <td>131.32</td>\n",
       "      <td>54930064</td>\n",
       "      <td>131.97</td>\n",
       "      <td>133.460</td>\n",
       "      <td>131.100</td>\n",
       "      <td>131.32</td>\n",
       "      <td>54930064</td>\n",
       "      <td>0.0</td>\n",
       "      <td>1.0</td>\n",
       "    </tr>\n",
       "    <tr>\n",
       "      <th>1256</th>\n",
       "      <td>AAPL</td>\n",
       "      <td>2020-12-28 00:00:00+00:00</td>\n",
       "      <td>136.69</td>\n",
       "      <td>137.340</td>\n",
       "      <td>133.510</td>\n",
       "      <td>133.99</td>\n",
       "      <td>123124632</td>\n",
       "      <td>136.69</td>\n",
       "      <td>137.340</td>\n",
       "      <td>133.510</td>\n",
       "      <td>133.99</td>\n",
       "      <td>123124632</td>\n",
       "      <td>0.0</td>\n",
       "      <td>1.0</td>\n",
       "    </tr>\n",
       "  </tbody>\n",
       "</table>\n",
       "</div>"
      ],
      "text/plain": [
       "     symbol                       date   close     high      low    open  \\\n",
       "1252   AAPL  2020-12-21 00:00:00+00:00  128.23  128.310  123.449  125.02   \n",
       "1253   AAPL  2020-12-22 00:00:00+00:00  131.88  134.405  129.650  131.61   \n",
       "1254   AAPL  2020-12-23 00:00:00+00:00  130.96  132.430  130.780  132.16   \n",
       "1255   AAPL  2020-12-24 00:00:00+00:00  131.97  133.460  131.100  131.32   \n",
       "1256   AAPL  2020-12-28 00:00:00+00:00  136.69  137.340  133.510  133.99   \n",
       "\n",
       "         volume  adjClose  adjHigh   adjLow  adjOpen  adjVolume  divCash  \\\n",
       "1252  121251553    128.23  128.310  123.449   125.02  121251553      0.0   \n",
       "1253  169351825    131.88  134.405  129.650   131.61  169351825      0.0   \n",
       "1254   88223692    130.96  132.430  130.780   132.16   88223692      0.0   \n",
       "1255   54930064    131.97  133.460  131.100   131.32   54930064      0.0   \n",
       "1256  123124632    136.69  137.340  133.510   133.99  123124632      0.0   \n",
       "\n",
       "      splitFactor  \n",
       "1252          1.0  \n",
       "1253          1.0  \n",
       "1254          1.0  \n",
       "1255          1.0  \n",
       "1256          1.0  "
      ]
     },
     "execution_count": 4,
     "metadata": {},
     "output_type": "execute_result"
    }
   ],
   "source": [
    "df.tail()"
   ]
  },
  {
   "cell_type": "code",
   "execution_count": 5,
   "metadata": {},
   "outputs": [],
   "source": [
    "df1 = df.reset_index()['close']"
   ]
  },
  {
   "cell_type": "code",
   "execution_count": 6,
   "metadata": {},
   "outputs": [
    {
     "data": {
      "text/plain": [
       "0       105.26\n",
       "1       105.35\n",
       "2       102.71\n",
       "3       100.70\n",
       "4        96.45\n",
       "         ...  \n",
       "1252    128.23\n",
       "1253    131.88\n",
       "1254    130.96\n",
       "1255    131.97\n",
       "1256    136.69\n",
       "Name: close, Length: 1257, dtype: float64"
      ]
     },
     "execution_count": 6,
     "metadata": {},
     "output_type": "execute_result"
    }
   ],
   "source": [
    "df1"
   ]
  },
  {
   "cell_type": "code",
   "execution_count": 7,
   "metadata": {},
   "outputs": [
    {
     "data": {
      "text/plain": [
       "[<matplotlib.lines.Line2D at 0x25b6ab8c970>]"
      ]
     },
     "execution_count": 7,
     "metadata": {},
     "output_type": "execute_result"
    },
    {
     "data": {
      "image/png": "[encoded data removed]",
      "text/plain": [
       "<Figure size 432x288 with 1 Axes>"
      ]
     },
     "metadata": {
      "needs_background": "light"
     },
     "output_type": "display_data"
    }
   ],
   "source": [
    "plt.plot(df1)"
   ]
  },
  {
   "cell_type": "code",
   "execution_count": 8,
   "metadata": {},
   "outputs": [],
   "source": [
    "from sklearn.preprocessing import MinMaxScaler\n",
    "scaler = MinMaxScaler(feature_range = (0,1))\n",
    "df1 = scaler.fit_transform(np.array(df1).reshape(-1,1))"
   ]
  },
  {
   "cell_type": "code",
   "execution_count": 9,
   "metadata": {},
   "outputs": [],
   "source": [
    "training_size = int(len(df1)*0.65)\n",
    "test_size = len(df1)-training_size"
   ]
  },
  {
   "cell_type": "code",
   "execution_count": 10,
   "metadata": {},
   "outputs": [],
   "source": [
    "train_data = df1[0:training_size,:] \n",
    "test_data = df1[training_size:len(df1),:1]"
   ]
  },
  {
   "cell_type": "code",
   "execution_count": 11,
   "metadata": {},
   "outputs": [
    {
     "data": {
      "text/plain": [
       "(817, 440)"
      ]
     },
     "execution_count": 11,
     "metadata": {},
     "output_type": "execute_result"
    }
   ],
   "source": [
    "training_size, test_size"
   ]
  },
  {
   "cell_type": "code",
   "execution_count": 12,
   "metadata": {},
   "outputs": [],
   "source": [
    "time_step = 100"
   ]
  },
  {
   "cell_type": "code",
   "execution_count": 13,
   "metadata": {},
   "outputs": [
    {
     "name": "stdout",
     "output_type": "stream",
     "text": [
      "717\n",
      "340\n"
     ]
    }
   ],
   "source": [
    "generator = TimeseriesGenerator(train_data, train_data,\n",
    "                               length = time_step, sampling_rate = 1, batch_size = 1)\n",
    "\n",
    "validation_generator = TimeseriesGenerator(test_data, test_data, \n",
    "                                           length = time_step, batch_size = 1)\n",
    "print(len(generator))\n",
    "print(len(validation_generator))"
   ]
  },
  {
   "cell_type": "code",
   "execution_count": 14,
   "metadata": {},
   "outputs": [
    {
     "name": "stdout",
     "output_type": "stream",
     "text": [
      "Model: \"sequential\"\n",
      "_________________________________________________________________\n",
      "Layer (type)                 Output Shape              Param #   \n",
      "=================================================================\n",
      "lstm (LSTM)                  (None, 100, 50)           10400     \n",
      "_________________________________________________________________\n",
      "lstm_1 (LSTM)                (None, 100, 50)           20200     \n",
      "_________________________________________________________________\n",
      "lstm_2 (LSTM)                (None, 50)                20200     \n",
      "_________________________________________________________________\n",
      "dense (Dense)                (None, 1)                 51        \n",
      "=================================================================\n",
      "Total params: 50,851\n",
      "Trainable params: 50,851\n",
      "Non-trainable params: 0\n",
      "_________________________________________________________________\n"
     ]
    }
   ],
   "source": [
    "model=Sequential()\n",
    "model.add(LSTM(50,return_sequences=True,input_shape=(100,1)))\n",
    "model.add(LSTM(50,return_sequences=True))\n",
    "model.add(LSTM(50))\n",
    "model.add(Dense(1))\n",
    "model.compile(loss='mean_squared_error',optimizer='adam')\n",
    "model.summary()"
   ]
  },
  {
   "cell_type": "code",
   "execution_count": 15,
   "metadata": {},
   "outputs": [
    {
     "name": "stdout",
     "output_type": "stream",
     "text": [
      "Epoch 1/100\n",
      "717/717 [==============================] - 62s 86ms/step - loss: 7.4739e-04 - val_loss: 0.0122\n",
      "Epoch 2/100\n",
      "717/717 [==============================] - 66s 92ms/step - loss: 3.1840e-04 - val_loss: 0.0093\n",
      "Epoch 3/100\n",
      "717/717 [==============================] - 62s 87ms/step - loss: 2.4094e-04 - val_loss: 0.0061\n",
      "Epoch 4/100\n",
      "717/717 [==============================] - 63s 88ms/step - loss: 1.7240e-04 - val_loss: 0.0055\n",
      "Epoch 5/100\n",
      "717/717 [==============================] - 61s 85ms/step - loss: 1.3423e-04 - val_loss: 0.0040\n",
      "Epoch 6/100\n",
      "717/717 [==============================] - 61s 85ms/step - loss: 1.5622e-04 - val_loss: 0.0045\n",
      "Epoch 7/100\n",
      "717/717 [==============================] - 62s 87ms/step - loss: 1.1192e-04 - val_loss: 0.0037\n",
      "Epoch 8/100\n",
      "717/717 [==============================] - 61s 86ms/step - loss: 1.1143e-04 - val_loss: 0.0033\n",
      "Epoch 9/100\n",
      "717/717 [==============================] - 61s 85ms/step - loss: 1.2055e-04 - val_loss: 0.0035\n",
      "Epoch 10/100\n",
      "717/717 [==============================] - 61s 85ms/step - loss: 1.0498e-04 - val_loss: 0.0033\n",
      "Epoch 11/100\n",
      "717/717 [==============================] - 61s 85ms/step - loss: 9.9052e-05 - val_loss: 0.0038\n",
      "Epoch 12/100\n",
      "717/717 [==============================] - 61s 86ms/step - loss: 7.0978e-05 - val_loss: 0.0033\n",
      "Epoch 13/100\n",
      "717/717 [==============================] - 61s 85ms/step - loss: 8.7234e-05 - val_loss: 0.0047\n",
      "Epoch 14/100\n",
      "717/717 [==============================] - 69s 96ms/step - loss: 6.9885e-05 - val_loss: 0.0033\n",
      "Epoch 15/100\n",
      "717/717 [==============================] - 66s 93ms/step - loss: 8.1251e-05 - val_loss: 0.0041\n",
      "Epoch 16/100\n",
      "717/717 [==============================] - 61s 86ms/step - loss: 7.6501e-05 - val_loss: 0.0040\n",
      "Epoch 17/100\n",
      "717/717 [==============================] - 62s 86ms/step - loss: 8.4363e-05 - val_loss: 0.0056\n",
      "Epoch 18/100\n",
      "717/717 [==============================] - 61s 85ms/step - loss: 7.4705e-05 - val_loss: 0.0032\n",
      "Epoch 19/100\n",
      "717/717 [==============================] - 62s 86ms/step - loss: 7.2899e-05 - val_loss: 0.0027\n",
      "Epoch 20/100\n",
      "717/717 [==============================] - 61s 86ms/step - loss: 6.9850e-05 - val_loss: 0.0033\n",
      "Epoch 21/100\n",
      "717/717 [==============================] - 62s 86ms/step - loss: 7.0009e-05 - val_loss: 0.0035\n",
      "Epoch 22/100\n",
      "717/717 [==============================] - 61s 86ms/step - loss: 6.1299e-05 - val_loss: 0.0025\n",
      "Epoch 23/100\n",
      "717/717 [==============================] - 62s 87ms/step - loss: 7.0483e-05 - val_loss: 0.0031\n",
      "Epoch 24/100\n",
      "717/717 [==============================] - 63s 88ms/step - loss: 7.3574e-05 - val_loss: 0.0029\n",
      "Epoch 25/100\n",
      "717/717 [==============================] - 62s 86ms/step - loss: 6.8565e-05 - val_loss: 0.0035\n",
      "Epoch 26/100\n",
      "717/717 [==============================] - 62s 87ms/step - loss: 7.3809e-05 - val_loss: 0.0033\n",
      "Epoch 27/100\n",
      "717/717 [==============================] - 62s 86ms/step - loss: 5.8142e-05 - val_loss: 0.0041\n",
      "Epoch 28/100\n",
      "717/717 [==============================] - 62s 87ms/step - loss: 6.5335e-05 - val_loss: 0.0037\n",
      "Epoch 29/100\n",
      "717/717 [==============================] - 62s 87ms/step - loss: 5.8107e-05 - val_loss: 0.0030\n",
      "Epoch 30/100\n",
      "717/717 [==============================] - 62s 87ms/step - loss: 6.2372e-05 - val_loss: 0.0034\n",
      "Epoch 31/100\n",
      "717/717 [==============================] - 62s 87ms/step - loss: 6.5978e-05 - val_loss: 0.0039\n",
      "Epoch 32/100\n",
      "717/717 [==============================] - 62s 86ms/step - loss: 6.8136e-05 - val_loss: 0.0062\n",
      "Epoch 33/100\n",
      "717/717 [==============================] - 64s 89ms/step - loss: 6.1688e-05 - val_loss: 0.0051\n",
      "Epoch 34/100\n",
      "717/717 [==============================] - 62s 86ms/step - loss: 6.4670e-05 - val_loss: 0.0042\n",
      "Epoch 35/100\n",
      "717/717 [==============================] - 62s 87ms/step - loss: 6.9042e-05 - val_loss: 0.0035\n",
      "Epoch 36/100\n",
      "717/717 [==============================] - 62s 87ms/step - loss: 6.5350e-05 - val_loss: 0.0042\n",
      "Epoch 37/100\n",
      "717/717 [==============================] - 62s 86ms/step - loss: 5.5796e-05 - val_loss: 0.0051\n",
      "Epoch 38/100\n",
      "717/717 [==============================] - 62s 87ms/step - loss: 7.0963e-05 - val_loss: 0.0044\n",
      "Epoch 39/100\n",
      "717/717 [==============================] - 62s 87ms/step - loss: 6.3689e-05 - val_loss: 0.0041\n",
      "Epoch 40/100\n",
      "717/717 [==============================] - 61s 85ms/step - loss: 5.7094e-05 - val_loss: 0.0047\n",
      "Epoch 41/100\n",
      "717/717 [==============================] - 61s 85ms/step - loss: 6.0542e-05 - val_loss: 0.0053\n",
      "Epoch 42/100\n",
      "717/717 [==============================] - 61s 85ms/step - loss: 6.3830e-05 - val_loss: 0.0054\n",
      "Epoch 43/100\n",
      "717/717 [==============================] - 67s 93ms/step - loss: 5.7356e-05 - val_loss: 0.0062\n",
      "Epoch 44/100\n",
      "717/717 [==============================] - 61s 85ms/step - loss: 6.0269e-05 - val_loss: 0.0062\n",
      "Epoch 45/100\n",
      "717/717 [==============================] - 61s 86ms/step - loss: 5.9616e-05 - val_loss: 0.0069\n",
      "Epoch 46/100\n",
      "717/717 [==============================] - 61s 85ms/step - loss: 5.9966e-05 - val_loss: 0.0055\n",
      "Epoch 47/100\n",
      "717/717 [==============================] - 61s 85ms/step - loss: 5.4530e-05 - val_loss: 0.0061\n",
      "Epoch 48/100\n",
      "717/717 [==============================] - 61s 85ms/step - loss: 5.9486e-05 - val_loss: 0.0060\n",
      "Epoch 49/100\n",
      "717/717 [==============================] - 40736s 57s/step - loss: 5.7432e-05 - val_loss: 0.0065\n",
      "Epoch 50/100\n",
      "717/717 [==============================] - 75s 105ms/step - loss: 5.9323e-05 - val_loss: 0.0064\n",
      "Epoch 52/100\n",
      "717/717 [==============================] - 72s 100ms/step - loss: 5.8516e-05 - val_loss: 0.0067\n",
      "Epoch 53/100\n",
      "717/717 [==============================] - 75s 105ms/step - loss: 5.8878e-05 - val_loss: 0.0073\n",
      "Epoch 54/100\n",
      "717/717 [==============================] - 68s 95ms/step - loss: 6.0407e-05 - val_loss: 0.0055\n",
      "Epoch 55/100\n",
      "717/717 [==============================] - 69s 96ms/step - loss: 6.3255e-05 - val_loss: 0.0062\n",
      "Epoch 56/100\n",
      "717/717 [==============================] - 63s 87ms/step - loss: 5.4814e-05 - val_loss: 0.0078\n",
      "Epoch 57/100\n",
      "717/717 [==============================] - 63s 87ms/step - loss: 5.7953e-05 - val_loss: 0.0067\n",
      "Epoch 58/100\n",
      "717/717 [==============================] - 61s 85ms/step - loss: 5.4606e-05 - val_loss: 0.0070\n",
      "Epoch 59/100\n",
      "717/717 [==============================] - 61s 84ms/step - loss: 5.7744e-05 - val_loss: 0.0074\n",
      "Epoch 60/100\n",
      "717/717 [==============================] - 66s 92ms/step - loss: 4.8843e-05 - val_loss: 0.0069\n",
      "Epoch 61/100\n",
      "717/717 [==============================] - 60s 84ms/step - loss: 6.1021e-05 - val_loss: 0.0086\n",
      "Epoch 62/100\n",
      "717/717 [==============================] - 65s 90ms/step - loss: 5.4293e-05 - val_loss: 0.0081\n",
      "Epoch 63/100\n",
      "717/717 [==============================] - 75s 104ms/step - loss: 5.1496e-05 - val_loss: 0.0087\n",
      "Epoch 64/100\n",
      "717/717 [==============================] - 76s 107ms/step - loss: 5.5579e-05 - val_loss: 0.0092\n",
      "Epoch 65/100\n",
      "717/717 [==============================] - 72s 100ms/step - loss: 5.6555e-05 - val_loss: 0.0071\n",
      "Epoch 66/100\n",
      "717/717 [==============================] - 63s 88ms/step - loss: 5.4354e-05 - val_loss: 0.0091\n",
      "Epoch 67/100\n",
      "717/717 [==============================] - 64s 89ms/step - loss: 5.3742e-05 - val_loss: 0.0090\n",
      "Epoch 68/100\n",
      "717/717 [==============================] - 59s 82ms/step - loss: 5.2620e-05 - val_loss: 0.0098\n",
      "Epoch 69/100\n",
      "717/717 [==============================] - 59s 82ms/step - loss: 5.1776e-05 - val_loss: 0.0098\n",
      "Epoch 70/100\n",
      "717/717 [==============================] - 58s 81ms/step - loss: 5.7054e-05 - val_loss: 0.0096\n",
      "Epoch 71/100\n",
      "717/717 [==============================] - 59s 82ms/step - loss: 5.3766e-05 - val_loss: 0.0088\n",
      "Epoch 72/100\n",
      "717/717 [==============================] - 58s 81ms/step - loss: 5.2453e-05 - val_loss: 0.0089\n",
      "Epoch 73/100\n",
      "717/717 [==============================] - 58s 81ms/step - loss: 5.5503e-05 - val_loss: 0.0078\n",
      "Epoch 74/100\n",
      "717/717 [==============================] - 63s 88ms/step - loss: 5.4236e-05 - val_loss: 0.0079\n",
      "Epoch 75/100\n",
      "717/717 [==============================] - 65s 90ms/step - loss: 5.3445e-05 - val_loss: 0.0079\n",
      "Epoch 76/100\n",
      "717/717 [==============================] - 62s 87ms/step - loss: 5.2736e-05 - val_loss: 0.0087\n",
      "Epoch 77/100\n",
      "717/717 [==============================] - 66s 92ms/step - loss: 5.4283e-05 - val_loss: 0.0073\n",
      "Epoch 78/100\n",
      "717/717 [==============================] - 65s 90ms/step - loss: 5.2346e-05 - val_loss: 0.0092\n",
      "Epoch 79/100\n",
      "717/717 [==============================] - 58s 81ms/step - loss: 5.3388e-05 - val_loss: 0.0079\n",
      "Epoch 80/100\n",
      "717/717 [==============================] - 69s 96ms/step - loss: 5.2332e-05 - val_loss: 0.0077\n",
      "Epoch 81/100\n",
      "717/717 [==============================] - 59s 83ms/step - loss: 5.4568e-05 - val_loss: 0.0093\n",
      "Epoch 82/100\n",
      "717/717 [==============================] - 60s 84ms/step - loss: 5.4136e-05 - val_loss: 0.0100\n",
      "Epoch 83/100\n",
      "717/717 [==============================] - 63s 87ms/step - loss: 5.4003e-05 - val_loss: 0.0079\n",
      "Epoch 84/100\n",
      "717/717 [==============================] - 61s 85ms/step - loss: 5.1191e-05 - val_loss: 0.0079\n",
      "Epoch 85/100\n",
      "717/717 [==============================] - 66s 92ms/step - loss: 5.6327e-05 - val_loss: 0.0100\n",
      "Epoch 86/100\n",
      "717/717 [==============================] - 64s 90ms/step - loss: 5.3667e-05 - val_loss: 0.0105\n",
      "Epoch 87/100\n",
      "717/717 [==============================] - 60s 84ms/step - loss: 5.4924e-05 - val_loss: 0.0094\n",
      "Epoch 88/100\n",
      "717/717 [==============================] - 60s 84ms/step - loss: 5.2410e-05 - val_loss: 0.0082\n",
      "Epoch 89/100\n",
      "717/717 [==============================] - 58s 81ms/step - loss: 4.9816e-05 - val_loss: 0.0092\n",
      "Epoch 90/100\n",
      "717/717 [==============================] - 59s 82ms/step - loss: 5.4574e-05 - val_loss: 0.0105\n",
      "Epoch 91/100\n",
      "717/717 [==============================] - 58s 82ms/step - loss: 4.9854e-05 - val_loss: 0.0096\n",
      "Epoch 92/100\n",
      "717/717 [==============================] - 58s 81ms/step - loss: 4.9426e-05 - val_loss: 0.0093\n",
      "Epoch 93/100\n",
      "717/717 [==============================] - 58s 81ms/step - loss: 5.3502e-05 - val_loss: 0.0078\n",
      "Epoch 94/100\n",
      "717/717 [==============================] - 58s 81ms/step - loss: 4.9211e-05 - val_loss: 0.0110\n",
      "Epoch 95/100\n",
      "717/717 [==============================] - 59s 82ms/step - loss: 4.9695e-05 - val_loss: 0.0090\n",
      "Epoch 96/100\n",
      "717/717 [==============================] - 58s 81ms/step - loss: 5.3208e-05 - val_loss: 0.0075\n",
      "Epoch 97/100\n",
      "717/717 [==============================] - 60s 84ms/step - loss: 5.1533e-05 - val_loss: 0.0085\n",
      "Epoch 98/100\n",
      "717/717 [==============================] - 58s 81ms/step - loss: 5.7384e-05 - val_loss: 0.0085\n",
      "Epoch 99/100\n",
      "717/717 [==============================] - 58s 81ms/step - loss: 5.2434e-05 - val_loss: 0.0084\n",
      "Epoch 100/100\n",
      "717/717 [==============================] - 66s 92ms/step - loss: 5.2014e-05 - val_loss: 0.0085\n"
     ]
    },
    {
     "data": {
      "text/plain": [
       "<tensorflow.python.keras.callbacks.History at 0x25b6ac279a0>"
      ]
     },
     "execution_count": 15,
     "metadata": {},
     "output_type": "execute_result"
    }
   ],
   "source": [
    "model.fit(generator,epochs = 100 ,\n",
    "            validation_data = validation_generator)"
   ]
  },
  {
   "cell_type": "code",
   "execution_count": 31,
   "metadata": {},
   "outputs": [
    {
     "ename": "TypeError",
     "evalue": "no numeric data to plot",
     "output_type": "error",
     "traceback": [
      "\u001b[1;31m---------------------------------------------------------------------------\u001b[0m",
      "\u001b[1;31mTypeError\u001b[0m                                 Traceback (most recent call last)",
      "\u001b[1;32m<ipython-input-31-4eecfee358d0>\u001b[0m in \u001b[0;36m<module>\u001b[1;34m\u001b[0m\n\u001b[0;32m      1\u001b[0m \u001b[0mloss\u001b[0m \u001b[1;33m=\u001b[0m \u001b[0mpd\u001b[0m\u001b[1;33m.\u001b[0m\u001b[0mDataFrame\u001b[0m\u001b[1;33m(\u001b[0m\u001b[0mmodel\u001b[0m\u001b[1;33m.\u001b[0m\u001b[0mhistory\u001b[0m\u001b[1;33m.\u001b[0m\u001b[0mhistory\u001b[0m\u001b[1;33m)\u001b[0m\u001b[1;33m\u001b[0m\u001b[1;33m\u001b[0m\u001b[0m\n\u001b[1;32m----> 2\u001b[1;33m \u001b[0mloss\u001b[0m\u001b[1;33m.\u001b[0m\u001b[0mplot\u001b[0m\u001b[1;33m(\u001b[0m\u001b[1;33m)\u001b[0m\u001b[1;33m\u001b[0m\u001b[1;33m\u001b[0m\u001b[0m\n\u001b[0m",
      "\u001b[1;32m~\\anaconda3\\envs\\tf\\lib\\site-packages\\pandas\\plotting\\_core.py\u001b[0m in \u001b[0;36m__call__\u001b[1;34m(self, *args, **kwargs)\u001b[0m\n\u001b[0;32m    947\u001b[0m                     \u001b[0mdata\u001b[0m\u001b[1;33m.\u001b[0m\u001b[0mcolumns\u001b[0m \u001b[1;33m=\u001b[0m \u001b[0mlabel_name\u001b[0m\u001b[1;33m\u001b[0m\u001b[1;33m\u001b[0m\u001b[0m\n\u001b[0;32m    948\u001b[0m \u001b[1;33m\u001b[0m\u001b[0m\n\u001b[1;32m--> 949\u001b[1;33m         \u001b[1;32mreturn\u001b[0m \u001b[0mplot_backend\u001b[0m\u001b[1;33m.\u001b[0m\u001b[0mplot\u001b[0m\u001b[1;33m(\u001b[0m\u001b[0mdata\u001b[0m\u001b[1;33m,\u001b[0m \u001b[0mkind\u001b[0m\u001b[1;33m=\u001b[0m\u001b[0mkind\u001b[0m\u001b[1;33m,\u001b[0m \u001b[1;33m**\u001b[0m\u001b[0mkwargs\u001b[0m\u001b[1;33m)\u001b[0m\u001b[1;33m\u001b[0m\u001b[1;33m\u001b[0m\u001b[0m\n\u001b[0m\u001b[0;32m    950\u001b[0m \u001b[1;33m\u001b[0m\u001b[0m\n\u001b[0;32m    951\u001b[0m     \u001b[0m__call__\u001b[0m\u001b[1;33m.\u001b[0m\u001b[0m__doc__\u001b[0m \u001b[1;33m=\u001b[0m \u001b[0m__doc__\u001b[0m\u001b[1;33m\u001b[0m\u001b[1;33m\u001b[0m\u001b[0m\n",
      "\u001b[1;32m~\\anaconda3\\envs\\tf\\lib\\site-packages\\pandas\\plotting\\_matplotlib\\__init__.py\u001b[0m in \u001b[0;36mplot\u001b[1;34m(data, kind, **kwargs)\u001b[0m\n\u001b[0;32m     59\u001b[0m             \u001b[0mkwargs\u001b[0m\u001b[1;33m[\u001b[0m\u001b[1;34m\"ax\"\u001b[0m\u001b[1;33m]\u001b[0m \u001b[1;33m=\u001b[0m \u001b[0mgetattr\u001b[0m\u001b[1;33m(\u001b[0m\u001b[0max\u001b[0m\u001b[1;33m,\u001b[0m \u001b[1;34m\"left_ax\"\u001b[0m\u001b[1;33m,\u001b[0m \u001b[0max\u001b[0m\u001b[1;33m)\u001b[0m\u001b[1;33m\u001b[0m\u001b[1;33m\u001b[0m\u001b[0m\n\u001b[0;32m     60\u001b[0m     \u001b[0mplot_obj\u001b[0m \u001b[1;33m=\u001b[0m \u001b[0mPLOT_CLASSES\u001b[0m\u001b[1;33m[\u001b[0m\u001b[0mkind\u001b[0m\u001b[1;33m]\u001b[0m\u001b[1;33m(\u001b[0m\u001b[0mdata\u001b[0m\u001b[1;33m,\u001b[0m \u001b[1;33m**\u001b[0m\u001b[0mkwargs\u001b[0m\u001b[1;33m)\u001b[0m\u001b[1;33m\u001b[0m\u001b[1;33m\u001b[0m\u001b[0m\n\u001b[1;32m---> 61\u001b[1;33m     \u001b[0mplot_obj\u001b[0m\u001b[1;33m.\u001b[0m\u001b[0mgenerate\u001b[0m\u001b[1;33m(\u001b[0m\u001b[1;33m)\u001b[0m\u001b[1;33m\u001b[0m\u001b[1;33m\u001b[0m\u001b[0m\n\u001b[0m\u001b[0;32m     62\u001b[0m     \u001b[0mplot_obj\u001b[0m\u001b[1;33m.\u001b[0m\u001b[0mdraw\u001b[0m\u001b[1;33m(\u001b[0m\u001b[1;33m)\u001b[0m\u001b[1;33m\u001b[0m\u001b[1;33m\u001b[0m\u001b[0m\n\u001b[0;32m     63\u001b[0m     \u001b[1;32mreturn\u001b[0m \u001b[0mplot_obj\u001b[0m\u001b[1;33m.\u001b[0m\u001b[0mresult\u001b[0m\u001b[1;33m\u001b[0m\u001b[1;33m\u001b[0m\u001b[0m\n",
      "\u001b[1;32m~\\anaconda3\\envs\\tf\\lib\\site-packages\\pandas\\plotting\\_matplotlib\\core.py\u001b[0m in \u001b[0;36mgenerate\u001b[1;34m(self)\u001b[0m\n\u001b[0;32m    267\u001b[0m     \u001b[1;32mdef\u001b[0m \u001b[0mgenerate\u001b[0m\u001b[1;33m(\u001b[0m\u001b[0mself\u001b[0m\u001b[1;33m)\u001b[0m\u001b[1;33m:\u001b[0m\u001b[1;33m\u001b[0m\u001b[1;33m\u001b[0m\u001b[0m\n\u001b[0;32m    268\u001b[0m         \u001b[0mself\u001b[0m\u001b[1;33m.\u001b[0m\u001b[0m_args_adjust\u001b[0m\u001b[1;33m(\u001b[0m\u001b[1;33m)\u001b[0m\u001b[1;33m\u001b[0m\u001b[1;33m\u001b[0m\u001b[0m\n\u001b[1;32m--> 269\u001b[1;33m         \u001b[0mself\u001b[0m\u001b[1;33m.\u001b[0m\u001b[0m_compute_plot_data\u001b[0m\u001b[1;33m(\u001b[0m\u001b[1;33m)\u001b[0m\u001b[1;33m\u001b[0m\u001b[1;33m\u001b[0m\u001b[0m\n\u001b[0m\u001b[0;32m    270\u001b[0m         \u001b[0mself\u001b[0m\u001b[1;33m.\u001b[0m\u001b[0m_setup_subplots\u001b[0m\u001b[1;33m(\u001b[0m\u001b[1;33m)\u001b[0m\u001b[1;33m\u001b[0m\u001b[1;33m\u001b[0m\u001b[0m\n\u001b[0;32m    271\u001b[0m         \u001b[0mself\u001b[0m\u001b[1;33m.\u001b[0m\u001b[0m_make_plot\u001b[0m\u001b[1;33m(\u001b[0m\u001b[1;33m)\u001b[0m\u001b[1;33m\u001b[0m\u001b[1;33m\u001b[0m\u001b[0m\n",
      "\u001b[1;32m~\\anaconda3\\envs\\tf\\lib\\site-packages\\pandas\\plotting\\_matplotlib\\core.py\u001b[0m in \u001b[0;36m_compute_plot_data\u001b[1;34m(self)\u001b[0m\n\u001b[0;32m    416\u001b[0m         \u001b[1;31m# no non-numeric frames or series allowed\u001b[0m\u001b[1;33m\u001b[0m\u001b[1;33m\u001b[0m\u001b[1;33m\u001b[0m\u001b[0m\n\u001b[0;32m    417\u001b[0m         \u001b[1;32mif\u001b[0m \u001b[0mis_empty\u001b[0m\u001b[1;33m:\u001b[0m\u001b[1;33m\u001b[0m\u001b[1;33m\u001b[0m\u001b[0m\n\u001b[1;32m--> 418\u001b[1;33m             \u001b[1;32mraise\u001b[0m \u001b[0mTypeError\u001b[0m\u001b[1;33m(\u001b[0m\u001b[1;34m\"no numeric data to plot\"\u001b[0m\u001b[1;33m)\u001b[0m\u001b[1;33m\u001b[0m\u001b[1;33m\u001b[0m\u001b[0m\n\u001b[0m\u001b[0;32m    419\u001b[0m \u001b[1;33m\u001b[0m\u001b[0m\n\u001b[0;32m    420\u001b[0m         \u001b[1;31m# GH25587: cast ExtensionArray of pandas (IntegerArray, etc.) to\u001b[0m\u001b[1;33m\u001b[0m\u001b[1;33m\u001b[0m\u001b[1;33m\u001b[0m\u001b[0m\n",
      "\u001b[1;31mTypeError\u001b[0m: no numeric data to plot"
     ]
    }
   ],
   "source": [
    "loss = pd.DataFrame(model.history.history)\n",
    "loss.plot()"
   ]
  },
  {
   "cell_type": "code",
   "execution_count": 17,
   "metadata": {},
   "outputs": [],
   "source": [
    "n_features = 1\n",
    "train_predictions = []\n",
    "first_step = train_data[-time_step:]\n",
    "current_step = first_step.reshape((1, time_step, n_features))"
   ]
  },
  {
   "cell_type": "code",
   "execution_count": 18,
   "metadata": {},
   "outputs": [],
   "source": [
    "for i in range(training_size):\n",
    "    \n",
    "    # get prediction 1 time stamp ahead ([0] is for grabbing just the number instead of [array])\n",
    "    current_prediction = model.predict(current_step)[0]\n",
    "\n",
    "    train_predictions.append(current_prediction) \n",
    "    \n",
    "    # update batch to now include prediction and drop first value\n",
    "    current_step = np.append(current_step[:,1:,:],[[current_prediction]],axis=1)"
   ]
  },
  {
   "cell_type": "code",
   "execution_count": 19,
   "metadata": {},
   "outputs": [],
   "source": [
    "test_predictions = []\n",
    "first_step = test_data[-time_step:]\n",
    "current_step = first_step.reshape((1, time_step, n_features))\n",
    "\n",
    "for i in range(test_size):\n",
    "    \n",
    "    # get prediction 1 time stamp ahead ([0] is for grabbing just the number instead of [array])\n",
    "    current_prediction = model.predict(current_step)[0]\n",
    "\n",
    "    test_predictions.append(current_prediction) \n",
    "    \n",
    "    # update batch to now include prediction and drop first value\n",
    "    current_step = np.append(current_step[:,1:,:],[[current_prediction]],axis=1)"
   ]
  },
  {
   "cell_type": "code",
   "execution_count": 20,
   "metadata": {},
   "outputs": [
    {
     "name": "stdout",
     "output_type": "stream",
     "text": [
      "817\n",
      "817\n",
      "440\n",
      "440\n"
     ]
    }
   ],
   "source": [
    "print(training_size)\n",
    "print(len(train_predictions))\n",
    "print(test_size)\n",
    "print(len(test_predictions))"
   ]
  },
  {
   "cell_type": "code",
   "execution_count": 21,
   "metadata": {},
   "outputs": [],
   "source": [
    "true_train_predictions = scaler.inverse_transform(train_predictions)\n",
    "true_test_predictions = scaler.inverse_transform(test_predictions)"
   ]
  },
  {
   "cell_type": "code",
   "execution_count": 22,
   "metadata": {},
   "outputs": [
    {
     "name": "stdout",
     "output_type": "stream",
     "text": [
      "257.60665740286385\n",
      "257.60665740286385\n",
      "253.62679076099005\n",
      "253.62679076099005\n"
     ]
    }
   ],
   "source": [
    "### Calculate RMSE performance metrics\n",
    "print(math.sqrt(mean_squared_error(train_data, true_train_predictions)))\n",
    "### Test Data RMSE\n",
    "print(math.sqrt(mean_squared_error(train_data,true_train_predictions)))\n",
    "### Calculate RMSE performance metrics\n",
    "print(math.sqrt(mean_squared_error(test_data, true_test_predictions)))\n",
    "### Test Data RMSE\n",
    "print(math.sqrt(mean_squared_error(test_data,true_test_predictions)))"
   ]
  },
  {
   "cell_type": "code",
   "execution_count": 30,
   "metadata": {},
   "outputs": [
    {
     "data": {
      "image/png": "[encoded data removed]",
      "text/plain": [
       "<Figure size 432x288 with 1 Axes>"
      ]
     },
     "metadata": {
      "needs_background": "light"
     },
     "output_type": "display_data"
    }
   ],
   "source": [
    "### Plotting \n",
    "# shift train predictions for plotting\n",
    "look_back=100\n",
    "trainPredictPlot = np.empty_like(df1)\n",
    "trainPredictPlot[:, :] = np.nan\n",
    "trainPredictPlot[look_back:len(true_train_predictions)+look_back, :] = true_train_predictions\n",
    "# shift test predictions for plotting\n",
    "testPredictPlot = np.empty_like(df1)\n",
    "testPredictPlot[:, :] = np.nan\n",
    "#testPredictPlot[len(true_test_predictions)+(look_back*2)+1:len(df1)-1, :] = true_test_predictions\n",
    "# plot baseline and predictions\n",
    "plt.plot(scaler.inverse_transform(df1))\n",
    "plt.plot(scaler.inverse_transform(trainPredictPlot))\n",
    "#plt.plot(testPredictPlot)\n",
    "plt.show()"
   ]
  },
  {
   "cell_type": "code",
   "execution_count": 24,
   "metadata": {},
   "outputs": [],
   "source": [
    "future_predictions = []\n",
    "n_future_steps = 30\n",
    "first_step = test_data[340:]\n",
    "current_step = first_step.reshape((1, time_step, n_features))\n",
    "\n",
    "for i in range(n_future_steps):\n",
    "    \n",
    "    # get prediction 1 time stamp ahead ([0] is for grabbing just the number instead of [array])\n",
    "    current_prediction = model.predict(current_step)[0]\n",
    "\n",
    "    future_predictions.append(current_prediction) \n",
    "    \n",
    "    # update batch to now include prediction and drop first value\n",
    "    current_step = np.append(current_step[:,1:,:],[[current_prediction]],axis=1)"
   ]
  },
  {
   "cell_type": "code",
   "execution_count": 25,
   "metadata": {},
   "outputs": [],
   "source": [
    "#future_predictions = np.array(future_predictions)\n",
    "#type(future_predictions)"
   ]
  },
  {
   "cell_type": "code",
   "execution_count": 27,
   "metadata": {},
   "outputs": [
    {
     "data": {
      "text/plain": [
       "[<matplotlib.lines.Line2D at 0x25b782c3790>]"
      ]
     },
     "execution_count": 27,
     "metadata": {},
     "output_type": "execute_result"
    },
    {
     "data": {
      "image/png": "[encoded data removed]",
      "text/plain": [
       "<Figure size 432x288 with 1 Axes>"
      ]
     },
     "metadata": {
      "needs_background": "light"
     },
     "output_type": "display_data"
    }
   ],
   "source": [
    "day_new = np.arange(1,101)\n",
    "day_pred = np.arange(101,131)\n",
    "plt.plot(day_new,scaler.inverse_transform(df1[1157:]))\n",
    "plt.plot(day_pred,scaler.inverse_transform(future_predictions))"
   ]
  }
 ],
 "metadata": {
  "kernelspec": {
   "display_name": "Python 3",
   "language": "python",
   "name": "python3"
  },
  "language_info": {
   "codemirror_mode": {
    "name": "ipython",
    "version": 3
   },
   "file_extension": ".py",
   "mimetype": "text/x-python",
   "name": "python",
   "nbconvert_exporter": "python",
   "pygments_lexer": "ipython3",
   "version": "3.8.5"
  }
 },
 "nbformat": 4,
 "nbformat_minor": 4
}
