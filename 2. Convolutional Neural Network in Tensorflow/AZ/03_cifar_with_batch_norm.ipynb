{
 "cells": [
  {
   "cell_type": "code",
   "execution_count": 1,
   "metadata": {},
   "outputs": [],
   "source": [
    "## CNN - with Batch Normalization - Example 07"
   ]
  },
  {
   "cell_type": "code",
   "execution_count": 2,
   "metadata": {
    "id": "cBJh6ib6MEIW"
   },
   "outputs": [],
   "source": [
    "import numpy as np\n",
    "import matplotlib.pyplot as plt\n",
    "import tensorflow as tf\n",
    "from tensorflow.keras.layers import Input, Conv2D, Dense, Flatten, Dropout, GlobalMaxPooling2D, MaxPooling2D, BatchNormalization\n",
    "from tensorflow.keras.models import Model"
   ]
  },
  {
   "cell_type": "markdown",
   "metadata": {},
   "source": [
    "### Load the data"
   ]
  },
  {
   "cell_type": "code",
   "execution_count": 9,
   "metadata": {
    "colab": {
     "base_uri": "https://localhost:8080/"
    },
    "id": "H_EGZv1TL4S_",
    "outputId": "d1523a06-2bad-449f-9604-cf33210283fc"
   },
   "outputs": [],
   "source": [
    "cifar10 = tf.keras.datasets.cifar10\n",
    "\n",
    "(x_train, y_train), (x_test, y_test) = cifar10.load_data()\n"
   ]
  },
  {
   "cell_type": "markdown",
   "metadata": {},
   "source": [
    "#### Normalize"
   ]
  },
  {
   "cell_type": "code",
   "execution_count": 4,
   "metadata": {},
   "outputs": [],
   "source": [
    "x_train, x_test = x_train / 255.0, x_test / 255.0"
   ]
  },
  {
   "cell_type": "markdown",
   "metadata": {},
   "source": [
    "#### Flatten"
   ]
  },
  {
   "cell_type": "code",
   "execution_count": 14,
   "metadata": {},
   "outputs": [
    {
     "data": {
      "text/plain": [
       "(10000, 1)"
      ]
     },
     "execution_count": 14,
     "metadata": {},
     "output_type": "execute_result"
    }
   ],
   "source": [
    "y_test.shape"
   ]
  },
  {
   "cell_type": "code",
   "execution_count": 15,
   "metadata": {},
   "outputs": [
    {
     "data": {
      "text/plain": [
       "3"
      ]
     },
     "execution_count": 15,
     "metadata": {},
     "output_type": "execute_result"
    }
   ],
   "source": [
    "y_test[0][0]"
   ]
  },
  {
   "cell_type": "code",
   "execution_count": 16,
   "metadata": {},
   "outputs": [],
   "source": [
    "y_train, y_test = y_train.flatten(), y_test.flatten()\n"
   ]
  },
  {
   "cell_type": "code",
   "execution_count": 17,
   "metadata": {},
   "outputs": [
    {
     "data": {
      "text/plain": [
       "3"
      ]
     },
     "execution_count": 17,
     "metadata": {},
     "output_type": "execute_result"
    }
   ],
   "source": [
    "y_test[0]"
   ]
  },
  {
   "cell_type": "markdown",
   "metadata": {},
   "source": [
    "#### Shape of data"
   ]
  },
  {
   "cell_type": "code",
   "execution_count": 6,
   "metadata": {},
   "outputs": [
    {
     "name": "stdout",
     "output_type": "stream",
     "text": [
      "x_train.shape: (50000, 32, 32, 3)\n",
      "y_train.shape (50000,)\n"
     ]
    }
   ],
   "source": [
    "print(\"x_train.shape:\", x_train.shape)\n",
    "print(\"y_train.shape\", y_train.shape)"
   ]
  },
  {
   "cell_type": "markdown",
   "metadata": {},
   "source": [
    "#### No of classes"
   ]
  },
  {
   "cell_type": "code",
   "execution_count": 3,
   "metadata": {
    "colab": {
     "base_uri": "https://localhost:8080/"
    },
    "id": "1Wr15bYpMwbB",
    "outputId": "dfe2b3cd-ccf9-4c72-ab60-e8060fabd38f"
   },
   "outputs": [
    {
     "name": "stdout",
     "output_type": "stream",
     "text": [
      "number of classes: 10\n"
     ]
    }
   ],
   "source": [
    "# number of classes\n",
    "K = len(set(y_train))\n",
    "print(\"number of classes:\", K)"
   ]
  },
  {
   "cell_type": "markdown",
   "metadata": {
    "id": "iNXHzda97mMI"
   },
   "source": [
    "### Batch Normalization"
   ]
  },
  {
   "cell_type": "markdown",
   "metadata": {
    "id": "1Rg0VQDO7mMJ"
   },
   "source": [
    "#### Why does Batch Normalization work for over fitting?"
   ]
  },
  {
   "cell_type": "markdown",
   "metadata": {
    "id": "6-3KRtzA7mMJ"
   },
   "source": [
    "What is the benefit of batch normalizaton?\n",
    "Typically normalization is done at the input layer when data is fed, later layers can't be normalized. So batch normalization provides a way to normalize the data before the hidden \n",
    "layer. It works because it introduces the NOISE at every layer which reduces the overfitting.\n",
    "Noise adds the assumption for something new might come instead of overfit the data."
   ]
  },
  {
   "cell_type": "markdown",
   "metadata": {
    "id": "7wxahhWH7mMJ"
   },
   "source": [
    "#### Model # 1"
   ]
  },
  {
   "cell_type": "code",
   "execution_count": 4,
   "metadata": {
    "id": "Mmo66uQoMA1Q"
   },
   "outputs": [],
   "source": [
    "# Build the model using the functional API\n",
    "i = Input(shape=x_train[0].shape)\n",
    "# x = Conv2D(32, (3, 3), strides=2, activation='relu')(i)\n",
    "# x = Conv2D(64, (3, 3), strides=2, activation='relu')(x)\n",
    "# x = Conv2D(128, (3, 3), strides=2, activation='relu')(x)\n",
    "\n",
    "x = Conv2D(32, (3, 3), activation='relu', padding='same')(i)\n",
    "x = BatchNormalization()(x)\n",
    "x = Conv2D(32, (3, 3), activation='relu', padding='same')(x)\n",
    "x = BatchNormalization()(x)\n",
    "x = MaxPooling2D((2, 2))(x)\n",
    "# x = Dropout(0.2)(x)\n",
    "x = Conv2D(64, (3, 3), activation='relu', padding='same')(x)\n",
    "x = BatchNormalization()(x)\n",
    "x = Conv2D(64, (3, 3), activation='relu', padding='same')(x)\n",
    "x = BatchNormalization()(x)\n",
    "x = MaxPooling2D((2, 2))(x)\n",
    "# x = Dropout(0.2)(x)\n",
    "x = Conv2D(128, (3, 3), activation='relu', padding='same')(x)\n",
    "x = BatchNormalization()(x)\n",
    "x = Conv2D(128, (3, 3), activation='relu', padding='same')(x)\n",
    "x = BatchNormalization()(x)\n",
    "x = MaxPooling2D((2, 2))(x)\n",
    "# x = Dropout(0.2)(x)\n",
    "\n",
    "# x = GlobalMaxPooling2D()(x)\n",
    "x = Flatten()(x)\n",
    "x = Dropout(0.2)(x)\n",
    "x = Dense(1024, activation='relu')(x)\n",
    "x = Dropout(0.2)(x)\n",
    "x = Dense(K, activation='softmax')(x)\n",
    "\n",
    "model = Model(i, x)"
   ]
  },
  {
   "cell_type": "code",
   "execution_count": 5,
   "metadata": {
    "id": "0zF9n0P7NcP-"
   },
   "outputs": [],
   "source": [
    "model.compile(optimizer='adam',\n",
    "              loss='sparse_categorical_crossentropy',\n",
    "              metrics=['accuracy'])"
   ]
  },
  {
   "cell_type": "markdown",
   "metadata": {
    "id": "fee97CP97mMK"
   },
   "source": [
    "##### Summary"
   ]
  },
  {
   "cell_type": "code",
   "execution_count": 6,
   "metadata": {
    "colab": {
     "base_uri": "https://localhost:8080/"
    },
    "id": "qyfrf_j57mML",
    "outputId": "c50f52d9-1e36-4c65-8199-1399738f4cb9"
   },
   "outputs": [
    {
     "name": "stdout",
     "output_type": "stream",
     "text": [
      "Model: \"model\"\n",
      "_________________________________________________________________\n",
      "Layer (type)                 Output Shape              Param #   \n",
      "=================================================================\n",
      "input_1 (InputLayer)         [(None, 32, 32, 3)]       0         \n",
      "_________________________________________________________________\n",
      "conv2d (Conv2D)              (None, 32, 32, 32)        896       \n",
      "_________________________________________________________________\n",
      "batch_normalization (BatchNo (None, 32, 32, 32)        128       \n",
      "_________________________________________________________________\n",
      "conv2d_1 (Conv2D)            (None, 32, 32, 32)        9248      \n",
      "_________________________________________________________________\n",
      "batch_normalization_1 (Batch (None, 32, 32, 32)        128       \n",
      "_________________________________________________________________\n",
      "max_pooling2d (MaxPooling2D) (None, 16, 16, 32)        0         \n",
      "_________________________________________________________________\n",
      "conv2d_2 (Conv2D)            (None, 16, 16, 64)        18496     \n",
      "_________________________________________________________________\n",
      "batch_normalization_2 (Batch (None, 16, 16, 64)        256       \n",
      "_________________________________________________________________\n",
      "conv2d_3 (Conv2D)            (None, 16, 16, 64)        36928     \n",
      "_________________________________________________________________\n",
      "batch_normalization_3 (Batch (None, 16, 16, 64)        256       \n",
      "_________________________________________________________________\n",
      "max_pooling2d_1 (MaxPooling2 (None, 8, 8, 64)          0         \n",
      "_________________________________________________________________\n",
      "conv2d_4 (Conv2D)            (None, 8, 8, 128)         73856     \n",
      "_________________________________________________________________\n",
      "batch_normalization_4 (Batch (None, 8, 8, 128)         512       \n",
      "_________________________________________________________________\n",
      "conv2d_5 (Conv2D)            (None, 8, 8, 128)         147584    \n",
      "_________________________________________________________________\n",
      "batch_normalization_5 (Batch (None, 8, 8, 128)         512       \n",
      "_________________________________________________________________\n",
      "max_pooling2d_2 (MaxPooling2 (None, 4, 4, 128)         0         \n",
      "_________________________________________________________________\n",
      "flatten (Flatten)            (None, 2048)              0         \n",
      "_________________________________________________________________\n",
      "dropout (Dropout)            (None, 2048)              0         \n",
      "_________________________________________________________________\n",
      "dense (Dense)                (None, 1024)              2098176   \n",
      "_________________________________________________________________\n",
      "dropout_1 (Dropout)          (None, 1024)              0         \n",
      "_________________________________________________________________\n",
      "dense_1 (Dense)              (None, 10)                10250     \n",
      "=================================================================\n",
      "Total params: 2,397,226\n",
      "Trainable params: 2,396,330\n",
      "Non-trainable params: 896\n",
      "_________________________________________________________________\n"
     ]
    }
   ],
   "source": [
    "model.summary()"
   ]
  },
  {
   "cell_type": "code",
   "execution_count": 7,
   "metadata": {
    "colab": {
     "base_uri": "https://localhost:8080/"
    },
    "id": "BBzAGEjOkvFz",
    "outputId": "0700ba09-baf0-40e3-e19e-401e7bc78c7c"
   },
   "outputs": [
    {
     "name": "stdout",
     "output_type": "stream",
     "text": [
      "Epoch 1/50\n",
      "1563/1563 [==============================] - 17s 6ms/step - loss: 1.7086 - accuracy: 0.4532 - val_loss: 0.9832 - val_accuracy: 0.6582\n",
      "Epoch 2/50\n",
      "1563/1563 [==============================] - 9s 6ms/step - loss: 0.8822 - accuracy: 0.6951 - val_loss: 0.7823 - val_accuracy: 0.7337\n",
      "Epoch 3/50\n",
      "1563/1563 [==============================] - 9s 6ms/step - loss: 0.6889 - accuracy: 0.7618 - val_loss: 0.7146 - val_accuracy: 0.7542\n",
      "Epoch 4/50\n",
      "1563/1563 [==============================] - 9s 6ms/step - loss: 0.5700 - accuracy: 0.8021 - val_loss: 0.6747 - val_accuracy: 0.7738\n",
      "Epoch 5/50\n",
      "1563/1563 [==============================] - 9s 6ms/step - loss: 0.4835 - accuracy: 0.8298 - val_loss: 0.7549 - val_accuracy: 0.7535\n",
      "Epoch 6/50\n",
      "1563/1563 [==============================] - 9s 6ms/step - loss: 0.4069 - accuracy: 0.8586 - val_loss: 0.6300 - val_accuracy: 0.7861\n",
      "Epoch 7/50\n",
      "1563/1563 [==============================] - 9s 6ms/step - loss: 0.3356 - accuracy: 0.8820 - val_loss: 0.6302 - val_accuracy: 0.8099\n",
      "Epoch 8/50\n",
      "1563/1563 [==============================] - 9s 6ms/step - loss: 0.2771 - accuracy: 0.9057 - val_loss: 0.6742 - val_accuracy: 0.7946\n",
      "Epoch 9/50\n",
      "1563/1563 [==============================] - 9s 6ms/step - loss: 0.2292 - accuracy: 0.9198 - val_loss: 0.6591 - val_accuracy: 0.8069\n",
      "Epoch 10/50\n",
      "1563/1563 [==============================] - 9s 6ms/step - loss: 0.1991 - accuracy: 0.9307 - val_loss: 0.6666 - val_accuracy: 0.8153\n",
      "Epoch 11/50\n",
      "1563/1563 [==============================] - 9s 6ms/step - loss: 0.1722 - accuracy: 0.9418 - val_loss: 0.6754 - val_accuracy: 0.8159\n",
      "Epoch 12/50\n",
      "1563/1563 [==============================] - 9s 6ms/step - loss: 0.1533 - accuracy: 0.9479 - val_loss: 0.6964 - val_accuracy: 0.8143\n",
      "Epoch 13/50\n",
      "1563/1563 [==============================] - 9s 6ms/step - loss: 0.1392 - accuracy: 0.9517 - val_loss: 0.7113 - val_accuracy: 0.8174\n",
      "Epoch 14/50\n",
      "1563/1563 [==============================] - 9s 6ms/step - loss: 0.1377 - accuracy: 0.9529 - val_loss: 0.7203 - val_accuracy: 0.8227\n",
      "Epoch 15/50\n",
      "1563/1563 [==============================] - 9s 6ms/step - loss: 0.1203 - accuracy: 0.9598 - val_loss: 0.6969 - val_accuracy: 0.8249\n",
      "Epoch 16/50\n",
      "1563/1563 [==============================] - 9s 6ms/step - loss: 0.1125 - accuracy: 0.9621 - val_loss: 0.8116 - val_accuracy: 0.8082\n",
      "Epoch 17/50\n",
      "1563/1563 [==============================] - 9s 6ms/step - loss: 0.1069 - accuracy: 0.9635 - val_loss: 0.7800 - val_accuracy: 0.8249\n",
      "Epoch 18/50\n",
      "1563/1563 [==============================] - 9s 6ms/step - loss: 0.0999 - accuracy: 0.9663 - val_loss: 0.7382 - val_accuracy: 0.8288\n",
      "Epoch 19/50\n",
      "1563/1563 [==============================] - 9s 6ms/step - loss: 0.0963 - accuracy: 0.9680 - val_loss: 0.7808 - val_accuracy: 0.8174\n",
      "Epoch 20/50\n",
      "1563/1563 [==============================] - 9s 6ms/step - loss: 0.0867 - accuracy: 0.9711 - val_loss: 0.7236 - val_accuracy: 0.8227\n",
      "Epoch 21/50\n",
      "1563/1563 [==============================] - 9s 6ms/step - loss: 0.0783 - accuracy: 0.9735 - val_loss: 0.7731 - val_accuracy: 0.8231\n",
      "Epoch 22/50\n",
      "1563/1563 [==============================] - 9s 6ms/step - loss: 0.0791 - accuracy: 0.9735 - val_loss: 0.7860 - val_accuracy: 0.8308\n",
      "Epoch 23/50\n",
      "1563/1563 [==============================] - 9s 6ms/step - loss: 0.0830 - accuracy: 0.9735 - val_loss: 0.7584 - val_accuracy: 0.8209\n",
      "Epoch 24/50\n",
      "1563/1563 [==============================] - 9s 6ms/step - loss: 0.0724 - accuracy: 0.9758 - val_loss: 0.8287 - val_accuracy: 0.8194\n",
      "Epoch 25/50\n",
      "1563/1563 [==============================] - 9s 6ms/step - loss: 0.0678 - accuracy: 0.9769 - val_loss: 0.8464 - val_accuracy: 0.8167\n",
      "Epoch 26/50\n",
      "1563/1563 [==============================] - 9s 6ms/step - loss: 0.0678 - accuracy: 0.9782 - val_loss: 0.8340 - val_accuracy: 0.8266\n",
      "Epoch 27/50\n",
      "1563/1563 [==============================] - 9s 6ms/step - loss: 0.0641 - accuracy: 0.9790 - val_loss: 0.8298 - val_accuracy: 0.8322\n",
      "Epoch 28/50\n",
      "1563/1563 [==============================] - 9s 6ms/step - loss: 0.0676 - accuracy: 0.9773 - val_loss: 0.8924 - val_accuracy: 0.8199\n",
      "Epoch 29/50\n",
      "1563/1563 [==============================] - 9s 6ms/step - loss: 0.0551 - accuracy: 0.9811 - val_loss: 0.7857 - val_accuracy: 0.8332\n",
      "Epoch 30/50\n",
      "1563/1563 [==============================] - 9s 6ms/step - loss: 0.0576 - accuracy: 0.9817 - val_loss: 0.9432 - val_accuracy: 0.8260\n",
      "Epoch 31/50\n",
      "1563/1563 [==============================] - 9s 6ms/step - loss: 0.0562 - accuracy: 0.9826 - val_loss: 0.8005 - val_accuracy: 0.8331\n",
      "Epoch 32/50\n",
      "1563/1563 [==============================] - 9s 6ms/step - loss: 0.0511 - accuracy: 0.9829 - val_loss: 0.8201 - val_accuracy: 0.8337\n",
      "Epoch 33/50\n",
      "1563/1563 [==============================] - 9s 6ms/step - loss: 0.0548 - accuracy: 0.9832 - val_loss: 0.8536 - val_accuracy: 0.8263\n",
      "Epoch 34/50\n",
      "1563/1563 [==============================] - 9s 6ms/step - loss: 0.0538 - accuracy: 0.9826 - val_loss: 0.8765 - val_accuracy: 0.8387\n",
      "Epoch 35/50\n",
      "1563/1563 [==============================] - 9s 6ms/step - loss: 0.0500 - accuracy: 0.9834 - val_loss: 0.8761 - val_accuracy: 0.8331\n",
      "Epoch 36/50\n",
      "1563/1563 [==============================] - 9s 6ms/step - loss: 0.0463 - accuracy: 0.9842 - val_loss: 0.7792 - val_accuracy: 0.8277\n",
      "Epoch 37/50\n",
      "1563/1563 [==============================] - 9s 6ms/step - loss: 0.0496 - accuracy: 0.9830 - val_loss: 0.8722 - val_accuracy: 0.8355\n",
      "Epoch 38/50\n",
      "1563/1563 [==============================] - 9s 6ms/step - loss: 0.0486 - accuracy: 0.9838 - val_loss: 0.9083 - val_accuracy: 0.8319\n",
      "Epoch 39/50\n",
      "1563/1563 [==============================] - 9s 6ms/step - loss: 0.0429 - accuracy: 0.9868 - val_loss: 0.9367 - val_accuracy: 0.8244\n",
      "Epoch 40/50\n",
      "1563/1563 [==============================] - 9s 6ms/step - loss: 0.0416 - accuracy: 0.9872 - val_loss: 0.9625 - val_accuracy: 0.8306\n",
      "Epoch 41/50\n",
      "1563/1563 [==============================] - 9s 6ms/step - loss: 0.0482 - accuracy: 0.9831 - val_loss: 0.9196 - val_accuracy: 0.8330\n",
      "Epoch 42/50\n",
      "1563/1563 [==============================] - 9s 6ms/step - loss: 0.0422 - accuracy: 0.9861 - val_loss: 0.9092 - val_accuracy: 0.8318\n",
      "Epoch 43/50\n",
      "1563/1563 [==============================] - 9s 6ms/step - loss: 0.0443 - accuracy: 0.9864 - val_loss: 0.7905 - val_accuracy: 0.8414\n",
      "Epoch 44/50\n",
      "1563/1563 [==============================] - 9s 6ms/step - loss: 0.0418 - accuracy: 0.9864 - val_loss: 0.8900 - val_accuracy: 0.8362\n",
      "Epoch 45/50\n",
      "1563/1563 [==============================] - 9s 6ms/step - loss: 0.0413 - accuracy: 0.9874 - val_loss: 0.8507 - val_accuracy: 0.8337\n",
      "Epoch 46/50\n",
      "1563/1563 [==============================] - 9s 6ms/step - loss: 0.0421 - accuracy: 0.9867 - val_loss: 0.9658 - val_accuracy: 0.8400\n",
      "Epoch 47/50\n",
      "1563/1563 [==============================] - 9s 6ms/step - loss: 0.0432 - accuracy: 0.9866 - val_loss: 0.8935 - val_accuracy: 0.8336\n",
      "Epoch 48/50\n",
      "1563/1563 [==============================] - 9s 6ms/step - loss: 0.0353 - accuracy: 0.9888 - val_loss: 0.8938 - val_accuracy: 0.8274\n",
      "Epoch 49/50\n",
      "1563/1563 [==============================] - 9s 6ms/step - loss: 0.0420 - accuracy: 0.9864 - val_loss: 0.8814 - val_accuracy: 0.8381\n",
      "Epoch 50/50\n",
      "1563/1563 [==============================] - 9s 6ms/step - loss: 0.0414 - accuracy: 0.9863 - val_loss: 0.9327 - val_accuracy: 0.8335\n"
     ]
    }
   ],
   "source": [
    "history = model.fit(x_train, y_train, validation_data=(x_test, y_test), epochs=50)"
   ]
  },
  {
   "cell_type": "markdown",
   "metadata": {
    "id": "ZBPM2NX67mML"
   },
   "source": [
    "##### Fit with data augmentation"
   ]
  },
  {
   "cell_type": "code",
   "execution_count": 8,
   "metadata": {
    "colab": {
     "base_uri": "https://localhost:8080/"
    },
    "id": "af61hXUrYjsZ",
    "outputId": "cf074aa4-8f6a-42d3-ec56-4870fa001937"
   },
   "outputs": [
    {
     "name": "stdout",
     "output_type": "stream",
     "text": [
      "1562\n"
     ]
    }
   ],
   "source": [
    "# Fit with data augmentation\n",
    "# Note: if you run this AFTER calling the previous model.fit(), it will CONTINUE training where it left off\n",
    "batch_size = 32\n",
    "data_generator = tf.keras.preprocessing.image.ImageDataGenerator(width_shift_range=0.1, height_shift_range=0.1, horizontal_flip=True)\n",
    "train_generator = data_generator.flow(x_train, y_train, batch_size)\n",
    "steps_per_epoch = x_train.shape[0] // batch_size\n",
    "print(steps_per_epoch)\n"
   ]
  },
  {
   "cell_type": "code",
   "execution_count": 9,
   "metadata": {
    "colab": {
     "base_uri": "https://localhost:8080/"
    },
    "id": "_C-cB6DA7mMN",
    "outputId": "476c91c6-8b09-4759-bbfc-0571c54536dc"
   },
   "outputs": [
    {
     "name": "stdout",
     "output_type": "stream",
     "text": [
      "Epoch 1/50\n",
      "1562/1562 [==============================] - 27s 17ms/step - loss: 0.5637 - accuracy: 0.8198 - val_loss: 0.5155 - val_accuracy: 0.8364\n",
      "Epoch 2/50\n",
      "1562/1562 [==============================] - 26s 17ms/step - loss: 0.4424 - accuracy: 0.8548 - val_loss: 0.4903 - val_accuracy: 0.8450\n",
      "Epoch 3/50\n",
      "1562/1562 [==============================] - 26s 17ms/step - loss: 0.4146 - accuracy: 0.8630 - val_loss: 0.4754 - val_accuracy: 0.8480\n",
      "Epoch 4/50\n",
      "1562/1562 [==============================] - 26s 16ms/step - loss: 0.3961 - accuracy: 0.8680 - val_loss: 0.4442 - val_accuracy: 0.8531\n",
      "Epoch 5/50\n",
      "1562/1562 [==============================] - 26s 17ms/step - loss: 0.3778 - accuracy: 0.8742 - val_loss: 0.4632 - val_accuracy: 0.8542\n",
      "Epoch 6/50\n",
      "1562/1562 [==============================] - 26s 17ms/step - loss: 0.3611 - accuracy: 0.8785 - val_loss: 0.4484 - val_accuracy: 0.8553\n",
      "Epoch 7/50\n",
      "1562/1562 [==============================] - 26s 17ms/step - loss: 0.3514 - accuracy: 0.8823 - val_loss: 0.4490 - val_accuracy: 0.8522\n",
      "Epoch 8/50\n",
      "1562/1562 [==============================] - 26s 16ms/step - loss: 0.3311 - accuracy: 0.8895 - val_loss: 0.4728 - val_accuracy: 0.8584\n",
      "Epoch 9/50\n",
      "1562/1562 [==============================] - 26s 17ms/step - loss: 0.3243 - accuracy: 0.8887 - val_loss: 0.4735 - val_accuracy: 0.8512\n",
      "Epoch 10/50\n",
      "1562/1562 [==============================] - 26s 17ms/step - loss: 0.3119 - accuracy: 0.8954 - val_loss: 0.4609 - val_accuracy: 0.8638\n",
      "Epoch 11/50\n",
      "1562/1562 [==============================] - 26s 17ms/step - loss: 0.3080 - accuracy: 0.8967 - val_loss: 0.4382 - val_accuracy: 0.8658\n",
      "Epoch 12/50\n",
      "1562/1562 [==============================] - 26s 17ms/step - loss: 0.2997 - accuracy: 0.8992 - val_loss: 0.4282 - val_accuracy: 0.8711\n",
      "Epoch 13/50\n",
      "1562/1562 [==============================] - 26s 17ms/step - loss: 0.2916 - accuracy: 0.9004 - val_loss: 0.4484 - val_accuracy: 0.8648\n",
      "Epoch 14/50\n",
      "1562/1562 [==============================] - 26s 17ms/step - loss: 0.2837 - accuracy: 0.9034 - val_loss: 0.4438 - val_accuracy: 0.8631\n",
      "Epoch 15/50\n",
      "1562/1562 [==============================] - 26s 17ms/step - loss: 0.2776 - accuracy: 0.9056 - val_loss: 0.4658 - val_accuracy: 0.8634\n",
      "Epoch 16/50\n",
      "1562/1562 [==============================] - 26s 17ms/step - loss: 0.2700 - accuracy: 0.9095 - val_loss: 0.4988 - val_accuracy: 0.8548\n",
      "Epoch 17/50\n",
      "1562/1562 [==============================] - 26s 16ms/step - loss: 0.2647 - accuracy: 0.9110 - val_loss: 0.4524 - val_accuracy: 0.8694\n",
      "Epoch 18/50\n",
      "1562/1562 [==============================] - 26s 17ms/step - loss: 0.2646 - accuracy: 0.9106 - val_loss: 0.4021 - val_accuracy: 0.8749\n",
      "Epoch 19/50\n",
      "1562/1562 [==============================] - 26s 17ms/step - loss: 0.2521 - accuracy: 0.9146 - val_loss: 0.4432 - val_accuracy: 0.8671\n",
      "Epoch 20/50\n",
      "1562/1562 [==============================] - 26s 16ms/step - loss: 0.2470 - accuracy: 0.9150 - val_loss: 0.4407 - val_accuracy: 0.8701\n",
      "Epoch 21/50\n",
      "1562/1562 [==============================] - 26s 17ms/step - loss: 0.2418 - accuracy: 0.9189 - val_loss: 0.4154 - val_accuracy: 0.8731\n",
      "Epoch 22/50\n",
      "1562/1562 [==============================] - 26s 17ms/step - loss: 0.2427 - accuracy: 0.9183 - val_loss: 0.4293 - val_accuracy: 0.8703\n",
      "Epoch 23/50\n",
      "1562/1562 [==============================] - 26s 17ms/step - loss: 0.2372 - accuracy: 0.9190 - val_loss: 0.4315 - val_accuracy: 0.8765\n",
      "Epoch 24/50\n",
      "1562/1562 [==============================] - 26s 17ms/step - loss: 0.2299 - accuracy: 0.9225 - val_loss: 0.4557 - val_accuracy: 0.8633\n",
      "Epoch 25/50\n",
      "1562/1562 [==============================] - 26s 17ms/step - loss: 0.2306 - accuracy: 0.9221 - val_loss: 0.4837 - val_accuracy: 0.8670\n",
      "Epoch 26/50\n",
      "1562/1562 [==============================] - 26s 17ms/step - loss: 0.2195 - accuracy: 0.9245 - val_loss: 0.4080 - val_accuracy: 0.8713\n",
      "Epoch 27/50\n",
      "1562/1562 [==============================] - 26s 17ms/step - loss: 0.2235 - accuracy: 0.9243 - val_loss: 0.4150 - val_accuracy: 0.8754\n",
      "Epoch 28/50\n",
      "1562/1562 [==============================] - 26s 17ms/step - loss: 0.2135 - accuracy: 0.9270 - val_loss: 0.4702 - val_accuracy: 0.8711\n",
      "Epoch 29/50\n",
      "1562/1562 [==============================] - 26s 17ms/step - loss: 0.2130 - accuracy: 0.9274 - val_loss: 0.4262 - val_accuracy: 0.8783\n",
      "Epoch 30/50\n",
      "1562/1562 [==============================] - 26s 17ms/step - loss: 0.2093 - accuracy: 0.9283 - val_loss: 0.4318 - val_accuracy: 0.8835\n",
      "Epoch 31/50\n",
      "1562/1562 [==============================] - 26s 17ms/step - loss: 0.2114 - accuracy: 0.9290 - val_loss: 0.4284 - val_accuracy: 0.8736\n",
      "Epoch 32/50\n",
      "1562/1562 [==============================] - 26s 16ms/step - loss: 0.2045 - accuracy: 0.9305 - val_loss: 0.4493 - val_accuracy: 0.8741\n",
      "Epoch 33/50\n",
      "1562/1562 [==============================] - 26s 17ms/step - loss: 0.2027 - accuracy: 0.9309 - val_loss: 0.3936 - val_accuracy: 0.8841\n",
      "Epoch 34/50\n",
      "1562/1562 [==============================] - 26s 17ms/step - loss: 0.2007 - accuracy: 0.9319 - val_loss: 0.4200 - val_accuracy: 0.8784\n",
      "Epoch 35/50\n",
      "1562/1562 [==============================] - 26s 17ms/step - loss: 0.1985 - accuracy: 0.9320 - val_loss: 0.4137 - val_accuracy: 0.8796\n",
      "Epoch 36/50\n",
      "1562/1562 [==============================] - 26s 17ms/step - loss: 0.1970 - accuracy: 0.9338 - val_loss: 0.4179 - val_accuracy: 0.8806\n",
      "Epoch 37/50\n",
      "1562/1562 [==============================] - 26s 17ms/step - loss: 0.1935 - accuracy: 0.9340 - val_loss: 0.4027 - val_accuracy: 0.8828\n",
      "Epoch 38/50\n",
      "1562/1562 [==============================] - 26s 17ms/step - loss: 0.1914 - accuracy: 0.9355 - val_loss: 0.4063 - val_accuracy: 0.8836\n",
      "Epoch 39/50\n",
      "1562/1562 [==============================] - 26s 17ms/step - loss: 0.1905 - accuracy: 0.9348 - val_loss: 0.4592 - val_accuracy: 0.8735\n",
      "Epoch 40/50\n",
      "1562/1562 [==============================] - 26s 17ms/step - loss: 0.1851 - accuracy: 0.9366 - val_loss: 0.4695 - val_accuracy: 0.8754\n",
      "Epoch 41/50\n",
      "1562/1562 [==============================] - 26s 17ms/step - loss: 0.1877 - accuracy: 0.9364 - val_loss: 0.5385 - val_accuracy: 0.8570\n",
      "Epoch 42/50\n",
      "1562/1562 [==============================] - 26s 17ms/step - loss: 0.1849 - accuracy: 0.9366 - val_loss: 0.4180 - val_accuracy: 0.8790\n",
      "Epoch 43/50\n",
      "1562/1562 [==============================] - 26s 17ms/step - loss: 0.1783 - accuracy: 0.9403 - val_loss: 0.4060 - val_accuracy: 0.8784\n",
      "Epoch 44/50\n",
      "1562/1562 [==============================] - 26s 17ms/step - loss: 0.1749 - accuracy: 0.9397 - val_loss: 0.4646 - val_accuracy: 0.8777\n",
      "Epoch 45/50\n",
      "1562/1562 [==============================] - 26s 17ms/step - loss: 0.1802 - accuracy: 0.9384 - val_loss: 0.4520 - val_accuracy: 0.8771\n",
      "Epoch 46/50\n",
      "1562/1562 [==============================] - 26s 17ms/step - loss: 0.1739 - accuracy: 0.9409 - val_loss: 0.4350 - val_accuracy: 0.8833\n",
      "Epoch 47/50\n",
      "1562/1562 [==============================] - 26s 17ms/step - loss: 0.1767 - accuracy: 0.9396 - val_loss: 0.4567 - val_accuracy: 0.8789\n",
      "Epoch 48/50\n",
      "1562/1562 [==============================] - 26s 17ms/step - loss: 0.1700 - accuracy: 0.9420 - val_loss: 0.4622 - val_accuracy: 0.8788\n",
      "Epoch 49/50\n",
      "1562/1562 [==============================] - 26s 17ms/step - loss: 0.1753 - accuracy: 0.9424 - val_loss: 0.4143 - val_accuracy: 0.8828\n",
      "Epoch 50/50\n",
      "1562/1562 [==============================] - 26s 17ms/step - loss: 0.1732 - accuracy: 0.9424 - val_loss: 0.4394 - val_accuracy: 0.8846\n"
     ]
    }
   ],
   "source": [
    "history = model.fit(train_generator, validation_data=(x_test, y_test), steps_per_epoch=steps_per_epoch, epochs=50)"
   ]
  },
  {
   "cell_type": "code",
   "execution_count": 14,
   "metadata": {
    "id": "9qlSQ7AtD2y9"
   },
   "outputs": [],
   "source": [
    "from tensorflow.keras.models import load_model\r\n",
    "model.save('03_cifar_with_batch_norm.h5')"
   ]
  },
  {
   "cell_type": "code",
   "execution_count": 10,
   "metadata": {
    "colab": {
     "base_uri": "https://localhost:8080/",
     "height": 541
    },
    "id": "RewjYDO5EOje",
    "outputId": "b147a022-4b5c-4ff0-a30e-fd41125927e8"
   },
   "outputs": [
    {
     "data": {
      "image/png": "[encoded data removed]",
      "text/plain": [
       "<Figure size 432x288 with 1 Axes>"
      ]
     },
     "metadata": {
      "needs_background": "light",
      "tags": []
     },
     "output_type": "display_data"
    },
    {
     "data": {
      "image/png": "[encoded data removed]",
      "text/plain": [
       "<Figure size 432x288 with 1 Axes>"
      ]
     },
     "metadata": {
      "needs_background": "light",
      "tags": []
     },
     "output_type": "display_data"
    }
   ],
   "source": [
    "def plot_graphs(history, string):\n",
    "  plt.plot(history.history[string])\n",
    "  plt.plot(history.history['val_'+string])\n",
    "  plt.xlabel(\"Epochs\")\n",
    "  plt.ylabel(string)\n",
    "  plt.legend([string, 'val_'+string])\n",
    "  plt.show()\n",
    "  \n",
    "plot_graphs(history, \"loss\")\n",
    "plot_graphs(history, \"accuracy\")"
   ]
  },
  {
   "cell_type": "markdown",
   "metadata": {
    "id": "LuQWgUkE7mMO",
    "tags": []
   },
   "source": [
    "##### Model Evaluation"
   ]
  },
  {
   "cell_type": "markdown",
   "metadata": {},
   "source": [
    "##### Predictions"
   ]
  },
  {
   "cell_type": "code",
   "execution_count": null,
   "metadata": {},
   "outputs": [],
   "source": [
    "y_prediction = model.predict(x_test).argmax(axis=1)"
   ]
  },
  {
   "cell_type": "markdown",
   "metadata": {},
   "source": [
    "##### Reports"
   ]
  },
  {
   "cell_type": "code",
   "execution_count": 11,
   "metadata": {
    "colab": {
     "base_uri": "https://localhost:8080/",
     "height": 857
    },
    "id": "WEsKGsplEnF4",
    "outputId": "3af6e2d8-a46f-4b71-b02d-7c340934a053"
   },
   "outputs": [
    {
     "name": "stdout",
     "output_type": "stream",
     "text": [
      "              precision    recall  f1-score   support\n",
      "\n",
      "           0       0.90      0.90      0.90      1000\n",
      "           1       0.94      0.96      0.95      1000\n",
      "           2       0.88      0.81      0.84      1000\n",
      "           3       0.78      0.76      0.77      1000\n",
      "           4       0.86      0.88      0.87      1000\n",
      "           5       0.88      0.79      0.83      1000\n",
      "           6       0.82      0.96      0.88      1000\n",
      "           7       0.93      0.91      0.92      1000\n",
      "           8       0.95      0.94      0.94      1000\n",
      "           9       0.91      0.94      0.92      1000\n",
      "\n",
      "    accuracy                           0.88     10000\n",
      "   macro avg       0.89      0.88      0.88     10000\n",
      "weighted avg       0.89      0.88      0.88     10000\n",
      "\n",
      "[[902   6  24   7   9   1   9   4  21  17]\n",
      " [  1 956   0   0   1   0   3   0   5  34]\n",
      " [ 28   2 810  28  36  17  57   8   4  10]\n",
      " [ 16   4  26 763  30  62  68  17   6   8]\n",
      " [  7   1  19  26 877  10  35  23   1   1]\n",
      " [  6   1  19 105  34 791  24  15   1   4]\n",
      " [  3   1  12  19   2   2 957   0   2   2]\n",
      " [  5   1   8  23  25  12   7 913   1   5]\n",
      " [ 27   7   3   2   1   0   6   0 937  17]\n",
      " [  4  39   0   3   2   0   4   0   8 940]]\n"
     ]
    },
    {
     "data": {
      "text/plain": [
       "<matplotlib.axes._subplots.AxesSubplot at 0x7f9bb8d9b910>"
      ]
     },
     "execution_count": 11,
     "metadata": {
      "tags": []
     },
     "output_type": "execute_result"
    },
    {
     "data": {
      "image/png": "[encoded data removed]",
      "text/plain": [
       "<Figure size 720x432 with 2 Axes>"
      ]
     },
     "metadata": {
      "needs_background": "light",
      "tags": []
     },
     "output_type": "display_data"
    }
   ],
   "source": [
    "from sklearn.metrics import classification_report,confusion_matrix\n",
    "\n",
    "print(classification_report(y_test,y_prediction))\n",
    "print(confusion_matrix(y_test,y_prediction))\n",
    "\n",
    "import seaborn as sns\n",
    "plt.figure(figsize=(10,6))\n",
    "sns.heatmap(confusion_matrix(y_test,y_prediction),annot=True)"
   ]
  },
  {
   "cell_type": "code",
   "execution_count": 12,
   "metadata": {
    "id": "AgQqQHXNXDgw"
   },
   "outputs": [],
   "source": [
    "# label mapping\n",
    "labels = '''airplane\n",
    "automobile\n",
    "bird\n",
    "cat\n",
    "deer\n",
    "dog\n",
    "frog\n",
    "horse\n",
    "ship\n",
    "truck'''.split()"
   ]
  },
  {
   "cell_type": "markdown",
   "metadata": {
    "id": "G4BPClwo7mMP",
    "tags": []
   },
   "source": [
    "##### Predictions go wrong!"
   ]
  },
  {
   "cell_type": "code",
   "execution_count": 13,
   "metadata": {
    "colab": {
     "base_uri": "https://localhost:8080/",
     "height": 281
    },
    "id": "jjmW4STFO-Ny",
    "outputId": "f3c31a09-c0a9-4a3f-80b7-d8494e719539"
   },
   "outputs": [
    {
     "data": {
      "image/png": "[encoded data removed]",
      "text/plain": [
       "<Figure size 432x288 with 1 Axes>"
      ]
     },
     "metadata": {
      "needs_background": "light",
      "tags": []
     },
     "output_type": "display_data"
    }
   ],
   "source": [
    "# Show some misclassified examples\n",
    "misclassified_idx = np.where(y_prediction != y_test)[0]\n",
    "i = np.random.choice(misclassified_idx)\n",
    "plt.imshow(x_test[i], cmap='gray')\n",
    "plt.title(\"True label: %s Predicted: %s\" % (labels[y_test[i]], labels[y_prediction[i]]));"
   ]
  },
  {
   "cell_type": "markdown",
   "metadata": {},
   "source": [
    "#### Conclusion : Final thoughts"
   ]
  }
 ],
 "metadata": {
  "accelerator": "GPU",
  "colab": {
   "collapsed_sections": [],
   "name": "TF2.0 CIFAR Improved.ipynb",
   "provenance": [],
   "toc_visible": true
  },
  "kernelspec": {
   "display_name": "Python 3",
   "language": "python",
   "name": "python3"
  },
  "language_info": {
   "codemirror_mode": {
    "name": "ipython",
    "version": 3
   },
   "file_extension": ".py",
   "mimetype": "text/x-python",
   "name": "python",
   "nbconvert_exporter": "python",
   "pygments_lexer": "ipython3",
   "version": "3.8.5"
  }
 },
 "nbformat": 4,
 "nbformat_minor": 4
}
