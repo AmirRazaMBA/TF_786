{
 "cells": [
  {
   "cell_type": "markdown",
   "metadata": {
    "id": "rnUgWE1-u75L"
   },
   "source": [
    "# CNN - Example 03"
   ]
  },
  {
   "cell_type": "code",
   "execution_count": null,
   "metadata": {
    "id": "5HDhfftMGc_i"
   },
   "outputs": [],
   "source": [
    "import math\n",
    "import numpy as np\n",
    "import pandas as pd\n",
    "import seaborn as sns\n",
    "import matplotlib.pyplot as plt\n",
    "import tensorflow as tf\n",
    "from tensorflow.keras.models import Sequential\n",
    "from tensorflow.keras.layers import Conv2D, Flatten, MaxPooling2D, Dense"
   ]
  },
  {
   "cell_type": "markdown",
   "metadata": {
    "id": "jayZLaRlu75V",
    "tags": []
   },
   "source": [
    "## Load Tensorflow Dataset (tfds)"
   ]
  },
  {
   "cell_type": "code",
   "execution_count": null,
   "metadata": {},
   "outputs": [],
   "source": [
    "# from google.colab import drive\n",
    "# drive.mount('/content/drive', force_remount=True)"
   ]
  },
  {
   "cell_type": "code",
   "execution_count": null,
   "metadata": {
    "id": "QAORYzw0u75V"
   },
   "outputs": [],
   "source": [
    "# Import TensorFlow Datasets\n",
    "import tensorflow_datasets as tfds"
   ]
  },
  {
   "cell_type": "code",
   "execution_count": null,
   "metadata": {
    "id": "uusvhUp9Gg37"
   },
   "outputs": [],
   "source": [
    "tfds.disable_progress_bar()"
   ]
  },
  {
   "cell_type": "code",
   "execution_count": null,
   "metadata": {
    "id": "-Hf89U4hu75W"
   },
   "outputs": [],
   "source": [
    "import logging"
   ]
  },
  {
   "cell_type": "code",
   "execution_count": null,
   "metadata": {
    "id": "UXZ44qIaG0Ru"
   },
   "outputs": [],
   "source": [
    "logger = tf.get_logger()\n",
    "logger.setLevel(logging.ERROR)"
   ]
  },
  {
   "cell_type": "markdown",
   "metadata": {
    "id": "yR0EdgrLCaWR"
   },
   "source": [
    "### Get train/test dataset"
   ]
  },
  {
   "cell_type": "code",
   "execution_count": null,
   "metadata": {
    "colab": {
     "base_uri": "https://localhost:8080/"
    },
    "id": "7MqDQO0KCaWS",
    "outputId": "c735093c-a0f0-490d-bd4a-873b9f58f815"
   },
   "outputs": [
    {
     "name": "stdout",
     "output_type": "stream",
     "text": [
      "\u001b[1mDownloading and preparing dataset fashion_mnist/3.0.1 (download: 29.45 MiB, generated: 36.42 MiB, total: 65.87 MiB) to /root/tensorflow_datasets/fashion_mnist/3.0.1...\u001b[0m\n",
      "Shuffling and writing examples to /root/tensorflow_datasets/fashion_mnist/3.0.1.incompleteVRH7NO/fashion_mnist-train.tfrecord\n",
      "Shuffling and writing examples to /root/tensorflow_datasets/fashion_mnist/3.0.1.incompleteVRH7NO/fashion_mnist-test.tfrecord\n",
      "\u001b[1mDataset fashion_mnist downloaded and prepared to /root/tensorflow_datasets/fashion_mnist/3.0.1. Subsequent calls will reuse this data.\u001b[0m\n"
     ]
    }
   ],
   "source": [
    "dataset, metadata = tfds.load('fashion_mnist', as_supervised=True, with_info=True)"
   ]
  },
  {
   "cell_type": "code",
   "execution_count": null,
   "metadata": {
    "id": "wZL_JMq9u75Y"
   },
   "outputs": [],
   "source": [
    "train_dataset, test_dataset = dataset['train'], dataset['test']"
   ]
  },
  {
   "cell_type": "code",
   "execution_count": null,
   "metadata": {
    "id": "IjnLH5S2CaWx"
   },
   "outputs": [],
   "source": [
    "class_names = ['T-shirt/top', 'Trouser', 'Pullover', 'Dress', 'Coat',\n",
    "               'Sandal', 'Shirt', 'Sneaker', 'Bag', 'Ankle boot']"
   ]
  },
  {
   "cell_type": "code",
   "execution_count": null,
   "metadata": {
    "id": "rJ-K12VAu75Z"
   },
   "outputs": [],
   "source": [
    "def get_name(id):\n",
    "    return class_names[id]"
   ]
  },
  {
   "cell_type": "code",
   "execution_count": null,
   "metadata": {
    "colab": {
     "base_uri": "https://localhost:8080/"
    },
    "id": "MaOTZxFzi48X",
    "outputId": "73050f8a-0e15-4105-fe1f-fea185208a7a"
   },
   "outputs": [
    {
     "name": "stdout",
     "output_type": "stream",
     "text": [
      "Number of training examples: 60000\n",
      "Number of test examples:     10000\n"
     ]
    }
   ],
   "source": [
    "num_train_examples = metadata.splits['train'].num_examples\n",
    "num_test_examples = metadata.splits['test'].num_examples\n",
    "print(\"Number of training examples: {}\".format(num_train_examples))\n",
    "print(\"Number of test examples:     {}\".format(num_test_examples))"
   ]
  },
  {
   "cell_type": "code",
   "execution_count": null,
   "metadata": {
    "colab": {
     "base_uri": "https://localhost:8080/",
     "height": 214
    },
    "id": "J1hAOkysu75a",
    "outputId": "727411bd-aeda-48d4-fed3-074686953090"
   },
   "outputs": [
    {
     "data": {
      "text/html": [
       "<style  type=\"text/css\" >\n",
       "</style><table id=\"T_92e7e818_8cc9_11eb_982f_0242ac1c0002\" ><thead>    <tr>        <th class=\"blank level0\" ></th>        <th class=\"col_heading level0 col0\" >image</th>        <th class=\"col_heading level0 col1\" >label</th>    </tr></thead><tbody>\n",
       "                <tr>\n",
       "                        <th id=\"T_92e7e818_8cc9_11eb_982f_0242ac1c0002level0_row0\" class=\"row_heading level0 row0\" >0</th>\n",
       "                        <td id=\"T_92e7e818_8cc9_11eb_982f_0242ac1c0002row0_col0\" class=\"data row0 col0\" ><img src=\"data:image/png;base64,iVBORw0KGgoAAAANSUhEUgAAABwAAAAcCAAAAABXZoBIAAAB90lEQVR4nFXSv2/TQBQH8O+75zvbcWLkNG3S0hBAQi0bCwMSLB3YGBj4N/gv+H+YkFiQkCispRNSIVKV0ibCiiuT1K7tu2NI4oRbTrrPvR96esDqtF+NRien5z/e3K+faHm/ONDJ5Pnb4N2n/r44+/gfvu5dzTmPJ/lgV0E+HL7fwL2jiXVRsZ8LquAXgw9DABAAgD6gbAVOM1Ox0pT2AQAOAMBjbR3SpZSWDNg2DdaRUUsSLEBkNCj3dngzsulYNlpqSJKY7ZXhRqQObZCDNcFok5eHeatZYwNbfmkX/4S9ReD+LWrs3JAAs2aQIO3O+o3Cr3E/69xLFUAQBGQYWLlTYzCXvfmdQsCS1WxUJ267NUoRPwZuTAVrhMmCVtqS62799HeUFYrJoBRXR/gSBjUq1ndfXipoAJDZ0wtscz0EFkV4PW9qw4C4jU7R9coVOob95ITlokSxexw9E3qVVlnTTBNFgABIevHXgz+8QtYC8VRpI4wVwsBMaeatUDqwozywIJ0zCUcl3mKWC3S3v0USLOAXFsClN3bqtJVMzrpQwnih4yjZSJypWHXbrRqHsdfMBMgGtvRVHJLqjRcoi+gXjh+UkgFGqIbobMWPlhh2/AuMx/Uuoy11J17WTHuzJ+v1BjD9fO3Hy5o/3dgAdo34fp6lAP4BaVXEQOlmPXkAAAAASUVORK5CYII=\" alt=\"Img\" /></td>\n",
       "                        <td id=\"T_92e7e818_8cc9_11eb_982f_0242ac1c0002row0_col1\" class=\"data row0 col1\" >2 (Pullover)</td>\n",
       "            </tr>\n",
       "            <tr>\n",
       "                        <th id=\"T_92e7e818_8cc9_11eb_982f_0242ac1c0002level0_row1\" class=\"row_heading level0 row1\" >1</th>\n",
       "                        <td id=\"T_92e7e818_8cc9_11eb_982f_0242ac1c0002row1_col0\" class=\"data row1 col0\" ><img src=\"data:image/png;base64,iVBORw0KGgoAAAANSUhEUgAAABwAAAAcCAAAAABXZoBIAAABRUlEQVR4nG3SsUoDQRAG4H92b+9yBpQkIilttAi+ga2tj+E72dgKNpaiNoJFQE1xCkkUBY0I0Ug4uZCEy+3uWOUEd6ca/o+dHZYllLVbH1vBleaJXSbBH16+ZbmmokXHcOqAszkzT3UC9+S+meeZJaG3yojKboapskzMDbm8VJQY54KJmCz28B/rsGDDkBabDtZQEEdVMkDDQYA4Sger1qDp4AjKht+JtIzMwQmI7foaWGLgjjXKhD9daIG2i/ehoNkjSKLn4oViVBcwYQoXTwvS1QmCsOvBjlJWGkAkHsRLXLAA07kPk2ihcoji3UWJEUj1wYhdZBDizitCIX3Y0PIKnyvBjg+3C0QIBLd8C22wqEGAlQ9T2AA3UnpeiPAU6S6uyX65KPAAfYtn6J6LwF0QjzEUlWGZlP/W4uxw9oH2EfdL/AUAToacy84HiAAAAABJRU5ErkJggg==\" alt=\"Img\" /></td>\n",
       "                        <td id=\"T_92e7e818_8cc9_11eb_982f_0242ac1c0002row1_col1\" class=\"data row1 col1\" >1 (Trouser)</td>\n",
       "            </tr>\n",
       "            <tr>\n",
       "                        <th id=\"T_92e7e818_8cc9_11eb_982f_0242ac1c0002level0_row2\" class=\"row_heading level0 row2\" >2</th>\n",
       "                        <td id=\"T_92e7e818_8cc9_11eb_982f_0242ac1c0002row2_col0\" class=\"data row2 col0\" ><img src=\"data:image/png;base64,iVBORw0KGgoAAAANSUhEUgAAABwAAAAcCAAAAABXZoBIAAACNUlEQVR4nLXSP09TURgH4N977rn3tKW0lZbSlPAngkFCJCYog8bEBBMnTVxc+AIOTMbBzZjI7uTqoJsTDkZNNE6yMWgHEzEQEKhtba+lvbe955z3+Cl4PsMDnAmCYGD+zrQnjbW+NIYq/TDaTACAyOHikyoPiUHkyCTODpCfe/gB5Miz648PeolRgXVwwmoOIqXTY92NhpCM6PdxwMJ0PcAIZwSfDjhuLHpw0qHGEcuQUoYQiNhTg5EkcH5CIIEHz21O2SAFEoIGUibKUjp1Gt8Gy6trpR/eMGFoAlgZLVmn+yLXfNTekvdbNk58bRURkYV10J6z/iB4sxmKF2uFng94sMw2xTIlFGnPmenu97tir16IKbHOChKCHThhIYQVqeT1UODzYc7L5LM+CIID7UYFkSM2nZ1Y4nqnl2WXGDg48g8G4x3pI6ta997tShSO0PTZETzf2kFFB3lBjvvZZb0tsVsUHW/UDHX8r5DBiGMib6SYo6PUvoSUQbWPpdxCT9cjlfEDJKTs24XSeEtC8/HRavPj9rWZS+XKaStK2zSr/Kdi+RASjamfmVzz/Lje3plYuTLZPBb9ISpL+3NDSESy9qylRCZTOul8qZVvrvyphyK6cBBqSGyV5l0Yj8kwOzv1N998NX1jefZXq4osQMDLyXRrT+ZlYEwkrSVbXTWjncbT9yDBixvF8lxXjfpQrq6139gNc+XLX9fJEQBg9tYMDMCebberJ+cmMrX99rd0fDan8R+0vRdlaUCaaAAAAABJRU5ErkJggg==\" alt=\"Img\" /></td>\n",
       "                        <td id=\"T_92e7e818_8cc9_11eb_982f_0242ac1c0002row2_col1\" class=\"data row2 col1\" >8 (Bag)</td>\n",
       "            </tr>\n",
       "            <tr>\n",
       "                        <th id=\"T_92e7e818_8cc9_11eb_982f_0242ac1c0002level0_row3\" class=\"row_heading level0 row3\" >3</th>\n",
       "                        <td id=\"T_92e7e818_8cc9_11eb_982f_0242ac1c0002row3_col0\" class=\"data row3 col0\" ><img src=\"data:image/png;base64,iVBORw0KGgoAAAANSUhEUgAAABwAAAAcCAAAAABXZoBIAAABvElEQVR4nG3Sv2pUQRTH8e+ZuffqumDUiE2CRMHCwkIQxc5GH8HOQmsfQATB3tInsBafxBeQLMSwMcEkRDa77t67c2fmZ7Hx7vrnlPOB3znDOUZX7s3x9Z0701f8px5lZUn1h9f/2nOdfm/Gk+ao1dO/7e3+8dFw2jSzwdeDnXd/2if92N8bDFMe7B7sjvRx1e43w8OUw8np4f5kPj0aNvcWIwLwzDlORq2LvTVmo+SLFwAUADzMhRQaV9YJyVx8sIIbqYwyT5TPZq5K1wAwAOaN2cSZIVPOl1O6UC17VirkzQyEeVC5MhCymM0MYV6xPHt1AFskVyaSzBmuDuciWx3exFoTv0NSgFsd3saXwUDIsqqKYgU3URk9OAOXXajERofrREtCBsreILDe4VooFfEgkQvfqkhXltiCCgQSocyqmktLjG4SLQhJNjcbW+p3mNUfZMsGCHzYrlCHZm6vzItvmtT7Vph16GDaIy0GcrN+jfPLWJj41i+W5OZ5TLuMVVTwoTDAnBOtorplV239eNTWLrrcJsujJ3Uqu/vanumssqSJJH3pLuHG1c+99yebyueZZ44vvgx3fw6AX7hL+g+o9X4yAAAAAElFTkSuQmCC\" alt=\"Img\" /></td>\n",
       "                        <td id=\"T_92e7e818_8cc9_11eb_982f_0242ac1c0002row3_col1\" class=\"data row3 col1\" >4 (Coat)</td>\n",
       "            </tr>\n",
       "            <tr>\n",
       "                        <th id=\"T_92e7e818_8cc9_11eb_982f_0242ac1c0002level0_row4\" class=\"row_heading level0 row4\" >4</th>\n",
       "                        <td id=\"T_92e7e818_8cc9_11eb_982f_0242ac1c0002row4_col0\" class=\"data row4 col0\" ><img src=\"data:image/png;base64,iVBORw0KGgoAAAANSUhEUgAAABwAAAAcCAAAAABXZoBIAAABNElEQVR4nG3QzUrDQBSG4e+c+UlsSv0pgiJuRN248A70crwTr0XwGnTjQtCVSAURoWApNJLWptUmTWbGVaMwc5bvs/jgEJq7PHrVrqDj6cWq0B9OeWKFiIRurYps7JyfhQGp4vSk5+FZpWJLjsG7Pq7XwsEAxHurxA1aUzOcIFPHPn4rWGmsgZM+znS1dBsRWSIfc3LEn7GpFsbHCbsyurPzyTzz8YMXc33TQSXffHxngrjVFMUvPmaVhqhnKslLH5FKGJRa9xHAgRYWruAshBlRhVxaFcKa5BBPa+iEUEH+YCjMZgjbqA/QQp2E0Ci5gxaLPIT9drKEizrjEN4rlWIo2mkIH0qRYiz4MYSjJWJkJryZFXIdTC74IXzZLey7shfG7S6ybuKaIP/h9cDi6tCMmvALE8J6nUvEEaAAAAAASUVORK5CYII=\" alt=\"Img\" /></td>\n",
       "                        <td id=\"T_92e7e818_8cc9_11eb_982f_0242ac1c0002row4_col1\" class=\"data row4 col1\" >1 (Trouser)</td>\n",
       "            </tr>\n",
       "    </tbody></table>"
      ],
      "text/plain": [
       "                                               image  label\n",
       "0  [[[0], [0], [0], [0], [0], [0], [0], [0], [0],...      2\n",
       "1  [[[0], [0], [0], [0], [0], [0], [0], [0], [0],...      1\n",
       "2  [[[0], [0], [0], [0], [0], [0], [0], [0], [0],...      8\n",
       "3  [[[0], [0], [0], [0], [0], [0], [0], [0], [0],...      4\n",
       "4  [[[0], [0], [0], [0], [0], [0], [0], [0], [0],...      1"
      ]
     },
     "execution_count": 12,
     "metadata": {
      "tags": []
     },
     "output_type": "execute_result"
    }
   ],
   "source": [
    "tfds.as_dataframe(train_dataset.take(5), metadata)"
   ]
  },
  {
   "cell_type": "markdown",
   "metadata": {
    "id": "NPaUHLI2u75b"
   },
   "source": [
    "### Normalize"
   ]
  },
  {
   "cell_type": "markdown",
   "metadata": {
    "id": "cVaw3gZbu75c"
   },
   "source": [
    "# Preprocess the data"
   ]
  },
  {
   "cell_type": "markdown",
   "metadata": {
    "id": "RZQwxn9Iu75d"
   },
   "source": [
    "The value of each pixel in the image data is an integer in the range `[0,255]`.\n",
    "For the model to work properly, these values need to be normalized to the range `[0,1]`.\n",
    "So here we create a normalization function, and then apply it to each image in the test and train datasets."
   ]
  },
  {
   "cell_type": "code",
   "execution_count": null,
   "metadata": {
    "id": "ES6uQoLKCaWr"
   },
   "outputs": [],
   "source": [
    "def normalize(images, labels):\n",
    "    images = tf.cast(images, tf.float32)\n",
    "    images /= 255\n",
    "    return images, labels"
   ]
  },
  {
   "cell_type": "markdown",
   "metadata": {},
   "source": [
    "# The map function applies the normalize function to each element in the train\n",
    "# and test datasets\n",
    "train_dataset = train_dataset.map(normalize)\n",
    "test_dataset = test_dataset.map(normalize)"
   ]
  },
  {
   "cell_type": "markdown",
   "metadata": {
    "id": "W7pdguEuu75e"
   },
   "source": [
    "The first time you use the dataset, the images will be loaded from disk\n",
    "Caching will keep them in memory, making training faster. Moving cache below\n",
    "train_dataset = train_dataset.cache()\n",
    "test_dataset = test_dataset.cache()"
   ]
  },
  {
   "cell_type": "markdown",
   "metadata": {
    "id": "lIQbEiJGXM-q"
   },
   "source": [
    "### Explore the data"
   ]
  },
  {
   "cell_type": "code",
   "execution_count": null,
   "metadata": {
    "colab": {
     "base_uri": "https://localhost:8080/",
     "height": 282
    },
    "id": "oSzE9l7PjHx0",
    "outputId": "5d82ab11-8e49-4ee7-862b-0538bf63269c"
   },
   "outputs": [
    {
     "name": "stdout",
     "output_type": "stream",
     "text": [
      "Coat\n"
     ]
    },
    {
     "data": {
      "image/png": "[encoded data removed]",
      "text/plain": [
       "<Figure size 432x288 with 1 Axes>"
      ]
     },
     "metadata": {
      "needs_background": "light",
      "tags": []
     },
     "output_type": "display_data"
    }
   ],
   "source": [
    "# Take a single image, and remove the color dimension by reshaping\n",
    "for image, label in test_dataset.take(1):\n",
    "    break\n",
    "image = image.numpy().reshape((28, 28))\n",
    "plt.imshow(image, cmap=plt.cm.binary)\n",
    "print(get_name(label))"
   ]
  },
  {
   "cell_type": "markdown",
   "metadata": {
    "id": "Ee638AlnCaWz"
   },
   "source": [
    "Display the first 25 images from the *training set* and display the class name below each image. Verify that the\n",
    "data is in the correct format and we're ready to build and train the network."
   ]
  },
  {
   "cell_type": "markdown",
   "metadata": {
    "id": "7EEGnXjRu75g"
   },
   "source": [
    "### Display few images"
   ]
  },
  {
   "cell_type": "code",
   "execution_count": null,
   "metadata": {
    "colab": {
     "base_uri": "https://localhost:8080/",
     "height": 589
    },
    "id": "oZTImqg_CaW1",
    "outputId": "0d8f9016-dfee-4fba-9635-9abdaf6c00a0"
   },
   "outputs": [
    {
     "data": {
      "image/png": "[encoded data removed]",
      "text/plain": [
       "<Figure size 720x720 with 25 Axes>"
      ]
     },
     "metadata": {
      "tags": []
     },
     "output_type": "display_data"
    }
   ],
   "source": [
    "plt.figure(figsize=(10, 10), facecolor=\"red\")\n",
    "i = 0\n",
    "for (image, label) in test_dataset.take(25):\n",
    "    image = image.numpy().reshape((28, 28))\n",
    "    plt.subplot(5, 5, i + 1)\n",
    "    plt.xticks([])\n",
    "    plt.yticks([])\n",
    "    plt.grid(False)\n",
    "    plt.imshow(image, cmap=plt.cm.binary)\n",
    "    plt.xlabel(class_names[label])\n",
    "    i += 1\n",
    "plt.show()"
   ]
  },
  {
   "cell_type": "markdown",
   "metadata": {
    "id": "IcN4gS0nu75h"
   },
   "source": [
    "## Model # 1"
   ]
  },
  {
   "cell_type": "code",
   "execution_count": null,
   "metadata": {
    "id": "9ODch-OFCaW4"
   },
   "outputs": [],
   "source": [
    "model = Sequential()\n",
    "model.add(Conv2D(32, (3, 3), padding='same', activation=tf.nn.relu, input_shape=(28, 28, 1)))\n",
    "model.add(MaxPooling2D((2, 2), strides=2))\n",
    "model.add(Conv2D(64, (3, 3), padding='same', activation=tf.nn.relu))\n",
    "model.add(MaxPooling2D((2, 2), strides=2))\n",
    "model.add(Flatten())\n",
    "model.add(Dense(128, activation='relu'))\n",
    "model.add(Dense(10, activation='softmax'))"
   ]
  },
  {
   "cell_type": "code",
   "execution_count": null,
   "metadata": {
    "colab": {
     "base_uri": "https://localhost:8080/"
    },
    "id": "e7yR8jkFu75i",
    "outputId": "6d14b2da-0e3b-491e-bf80-cd6ed0ea6669"
   },
   "outputs": [
    {
     "name": "stdout",
     "output_type": "stream",
     "text": [
      "Model: \"sequential\"\n",
      "_________________________________________________________________\n",
      "Layer (type)                 Output Shape              Param #   \n",
      "=================================================================\n",
      "conv2d (Conv2D)              (None, 28, 28, 32)        320       \n",
      "_________________________________________________________________\n",
      "max_pooling2d (MaxPooling2D) (None, 14, 14, 32)        0         \n",
      "_________________________________________________________________\n",
      "conv2d_1 (Conv2D)            (None, 14, 14, 64)        18496     \n",
      "_________________________________________________________________\n",
      "max_pooling2d_1 (MaxPooling2 (None, 7, 7, 64)          0         \n",
      "_________________________________________________________________\n",
      "flatten (Flatten)            (None, 3136)              0         \n",
      "_________________________________________________________________\n",
      "dense (Dense)                (None, 128)               401536    \n",
      "_________________________________________________________________\n",
      "dense_1 (Dense)              (None, 10)                1290      \n",
      "=================================================================\n",
      "Total params: 421,642\n",
      "Trainable params: 421,642\n",
      "Non-trainable params: 0\n",
      "_________________________________________________________________\n"
     ]
    }
   ],
   "source": [
    "model.summary()"
   ]
  },
  {
   "cell_type": "markdown",
   "metadata": {
    "id": "C-OZKm4qu75i"
   },
   "source": [
    "Loss function — An algorithm for measuring how far the model's outputs are from the desired output. The goal of\n",
    "training is this measures loss. Optimizer —An algorithm for adjusting the inner parameters of the model in order to\n",
    "minimize loss. Metrics —Used to monitor the training and testing steps. The following example uses accuracy,\n",
    "the fraction of the images that are correctly classified."
   ]
  },
  {
   "cell_type": "code",
   "execution_count": null,
   "metadata": {
    "id": "Lhan11blCaW7"
   },
   "outputs": [],
   "source": [
    "model.compile(optimizer='adam',\n",
    "              loss=tf.keras.losses.SparseCategoricalCrossentropy(),\n",
    "              metrics=['accuracy'])"
   ]
  },
  {
   "cell_type": "markdown",
   "metadata": {
    "id": "qKF6uW-BCaW-"
   },
   "source": [
    "### Train the model\n",
    "\n",
    "First, we define the iteration behavior for the train dataset: 1. Repeat forever by specifying `dataset.repeat()`\n",
    "2. The `dataset.shuffle(60000)` randomizes the order so our model cannot learn anything from the order of the\n",
    "examples. 3. And `dataset.batch(32)` tells `model.fit` to use batches of 32 images and labels when updating the\n",
    "model variables. 4. The `epochs=5` parameter limits training to 5 full iterations of the training dataset,\n",
    "so a total of 5 * 60000 = 300000 examples.\n",
    "\n",
    "(Don't worry about `steps_per_epoch`, the requirement to have this flag will soon be removed.)"
   ]
  },
  {
   "cell_type": "markdown",
   "metadata": {
    "id": "AbX0GGEuu75j"
   },
   "source": [
    "#### Normalize, Cache, Repeat, Shuffle Batch and Prefetch."
   ]
  },
  {
   "cell_type": "code",
   "execution_count": null,
   "metadata": {
    "id": "o_Dp8971McQ1"
   },
   "outputs": [],
   "source": [
    "BATCH_SIZE = 32\n",
    "#AUTOTUNE = tensorflow.core.experimental.AUTOTUNE\n",
    "AUTOTUNE = tf.data.AUTOTUNE\n",
    "train_dataset = train_dataset.map(normalize).cache().repeat().shuffle(num_train_examples).batch(BATCH_SIZE).prefetch(AUTOTUNE)\n",
    "test_dataset = test_dataset.map(normalize).batch(BATCH_SIZE).cache().prefetch(AUTOTUNE)"
   ]
  },
  {
   "cell_type": "code",
   "execution_count": null,
   "metadata": {
    "colab": {
     "base_uri": "https://localhost:8080/"
    },
    "collapsed": true,
    "id": "xvwvpA64CaW_",
    "jupyter": {
     "outputs_hidden": true
    },
    "outputId": "b6cbf6cc-aff0-49ed-813e-45df430c3cfd",
    "tags": []
   },
   "outputs": [
    {
     "name": "stdout",
     "output_type": "stream",
     "text": [
      "Epoch 1/100\n",
      "1875/1875 [==============================] - 44s 6ms/step - loss: 0.5320 - accuracy: 0.8085\n",
      "Epoch 2/100\n",
      "1875/1875 [==============================] - 11s 6ms/step - loss: 0.2845 - accuracy: 0.8967\n",
      "Epoch 3/100\n",
      "1875/1875 [==============================] - 10s 6ms/step - loss: 0.2210 - accuracy: 0.9199\n",
      "Epoch 4/100\n",
      "1875/1875 [==============================] - 10s 6ms/step - loss: 0.2006 - accuracy: 0.9254\n",
      "Epoch 5/100\n",
      "1875/1875 [==============================] - 10s 6ms/step - loss: 0.1660 - accuracy: 0.9385\n",
      "Epoch 6/100\n",
      "1875/1875 [==============================] - 10s 6ms/step - loss: 0.1420 - accuracy: 0.9485\n",
      "Epoch 7/100\n",
      "1875/1875 [==============================] - 11s 6ms/step - loss: 0.1202 - accuracy: 0.9547\n",
      "Epoch 8/100\n",
      "1875/1875 [==============================] - 10s 6ms/step - loss: 0.1055 - accuracy: 0.9602\n",
      "Epoch 9/100\n",
      "1875/1875 [==============================] - 10s 6ms/step - loss: 0.0853 - accuracy: 0.9700\n",
      "Epoch 10/100\n",
      "1875/1875 [==============================] - 10s 6ms/step - loss: 0.0679 - accuracy: 0.9742\n",
      "Epoch 11/100\n",
      "1875/1875 [==============================] - 10s 6ms/step - loss: 0.0619 - accuracy: 0.9771\n",
      "Epoch 12/100\n",
      "1875/1875 [==============================] - 10s 6ms/step - loss: 0.0543 - accuracy: 0.9799\n",
      "Epoch 13/100\n",
      "1875/1875 [==============================] - 10s 5ms/step - loss: 0.0481 - accuracy: 0.9823\n",
      "Epoch 14/100\n",
      "1875/1875 [==============================] - 10s 5ms/step - loss: 0.0420 - accuracy: 0.9850\n",
      "Epoch 15/100\n",
      "1875/1875 [==============================] - 10s 5ms/step - loss: 0.0322 - accuracy: 0.9875\n",
      "Epoch 16/100\n",
      "1875/1875 [==============================] - 10s 5ms/step - loss: 0.0346 - accuracy: 0.9869\n",
      "Epoch 17/100\n",
      "1875/1875 [==============================] - 10s 5ms/step - loss: 0.0310 - accuracy: 0.9884\n",
      "Epoch 18/100\n",
      "1875/1875 [==============================] - 10s 5ms/step - loss: 0.0278 - accuracy: 0.9898\n",
      "Epoch 19/100\n",
      "1875/1875 [==============================] - 10s 5ms/step - loss: 0.0262 - accuracy: 0.9908\n",
      "Epoch 20/100\n",
      "1875/1875 [==============================] - 10s 5ms/step - loss: 0.0255 - accuracy: 0.9909\n",
      "Epoch 21/100\n",
      "1875/1875 [==============================] - 10s 5ms/step - loss: 0.0267 - accuracy: 0.9902\n",
      "Epoch 22/100\n",
      "1875/1875 [==============================] - 10s 5ms/step - loss: 0.0223 - accuracy: 0.9917\n",
      "Epoch 23/100\n",
      "1875/1875 [==============================] - 10s 6ms/step - loss: 0.0214 - accuracy: 0.9923\n",
      "Epoch 24/100\n",
      "1875/1875 [==============================] - 10s 6ms/step - loss: 0.0214 - accuracy: 0.9930\n",
      "Epoch 25/100\n",
      "1875/1875 [==============================] - 10s 6ms/step - loss: 0.0225 - accuracy: 0.9922\n",
      "Epoch 26/100\n",
      "1875/1875 [==============================] - 10s 6ms/step - loss: 0.0191 - accuracy: 0.9937\n",
      "Epoch 27/100\n",
      "1875/1875 [==============================] - 10s 6ms/step - loss: 0.0179 - accuracy: 0.9935\n",
      "Epoch 28/100\n",
      "1875/1875 [==============================] - 10s 6ms/step - loss: 0.0201 - accuracy: 0.9936\n",
      "Epoch 29/100\n",
      "1875/1875 [==============================] - 10s 6ms/step - loss: 0.0188 - accuracy: 0.9945\n",
      "Epoch 30/100\n",
      "1875/1875 [==============================] - 10s 6ms/step - loss: 0.0151 - accuracy: 0.9948\n",
      "Epoch 31/100\n",
      "1875/1875 [==============================] - 10s 6ms/step - loss: 0.0176 - accuracy: 0.9939\n",
      "Epoch 32/100\n",
      "1875/1875 [==============================] - 10s 6ms/step - loss: 0.0149 - accuracy: 0.9950\n",
      "Epoch 33/100\n",
      "1875/1875 [==============================] - 10s 6ms/step - loss: 0.0144 - accuracy: 0.9950\n",
      "Epoch 34/100\n",
      "1875/1875 [==============================] - 10s 6ms/step - loss: 0.0144 - accuracy: 0.9955\n",
      "Epoch 35/100\n",
      "1875/1875 [==============================] - 10s 6ms/step - loss: 0.0137 - accuracy: 0.9953\n",
      "Epoch 36/100\n",
      "1875/1875 [==============================] - 10s 6ms/step - loss: 0.0152 - accuracy: 0.9950\n",
      "Epoch 37/100\n",
      "1875/1875 [==============================] - 11s 6ms/step - loss: 0.0137 - accuracy: 0.9956\n",
      "Epoch 38/100\n",
      "1875/1875 [==============================] - 10s 6ms/step - loss: 0.0104 - accuracy: 0.9964\n",
      "Epoch 39/100\n",
      "1875/1875 [==============================] - 10s 6ms/step - loss: 0.0167 - accuracy: 0.9950\n",
      "Epoch 40/100\n",
      "1875/1875 [==============================] - 10s 6ms/step - loss: 0.0171 - accuracy: 0.9950\n",
      "Epoch 41/100\n",
      "1875/1875 [==============================] - 10s 6ms/step - loss: 0.0131 - accuracy: 0.9957\n",
      "Epoch 42/100\n",
      "1875/1875 [==============================] - 10s 6ms/step - loss: 0.0177 - accuracy: 0.9944\n",
      "Epoch 43/100\n",
      "1875/1875 [==============================] - 10s 6ms/step - loss: 0.0134 - accuracy: 0.9960\n",
      "Epoch 44/100\n",
      "1875/1875 [==============================] - 10s 6ms/step - loss: 0.0150 - accuracy: 0.9960\n",
      "Epoch 45/100\n",
      "1875/1875 [==============================] - 10s 6ms/step - loss: 0.0118 - accuracy: 0.9964\n",
      "Epoch 46/100\n",
      "1875/1875 [==============================] - 10s 6ms/step - loss: 0.0178 - accuracy: 0.9950\n",
      "Epoch 47/100\n",
      "1875/1875 [==============================] - 10s 6ms/step - loss: 0.0102 - accuracy: 0.9969\n",
      "Epoch 48/100\n",
      "1875/1875 [==============================] - 10s 6ms/step - loss: 0.0136 - accuracy: 0.9960\n",
      "Epoch 49/100\n",
      "1875/1875 [==============================] - 10s 6ms/step - loss: 0.0091 - accuracy: 0.9977\n",
      "Epoch 50/100\n",
      "1875/1875 [==============================] - 10s 6ms/step - loss: 0.0157 - accuracy: 0.9951\n",
      "Epoch 51/100\n",
      "1875/1875 [==============================] - 10s 6ms/step - loss: 0.0112 - accuracy: 0.9968\n",
      "Epoch 52/100\n",
      "1875/1875 [==============================] - 10s 6ms/step - loss: 0.0152 - accuracy: 0.9962\n",
      "Epoch 53/100\n",
      "1875/1875 [==============================] - 10s 6ms/step - loss: 0.0125 - accuracy: 0.9962\n",
      "Epoch 54/100\n",
      "1875/1875 [==============================] - 10s 6ms/step - loss: 0.0168 - accuracy: 0.9957\n",
      "Epoch 55/100\n",
      "1875/1875 [==============================] - 10s 6ms/step - loss: 0.0075 - accuracy: 0.9974\n",
      "Epoch 56/100\n",
      "1875/1875 [==============================] - 10s 6ms/step - loss: 0.0092 - accuracy: 0.9974\n",
      "Epoch 57/100\n",
      "1875/1875 [==============================] - 10s 6ms/step - loss: 0.0111 - accuracy: 0.9965\n",
      "Epoch 58/100\n",
      "1875/1875 [==============================] - 10s 6ms/step - loss: 0.0107 - accuracy: 0.9962\n",
      "Epoch 59/100\n",
      "1875/1875 [==============================] - 10s 6ms/step - loss: 0.0119 - accuracy: 0.9966\n",
      "Epoch 60/100\n",
      "1875/1875 [==============================] - 10s 6ms/step - loss: 0.0095 - accuracy: 0.9970\n",
      "Epoch 61/100\n",
      "1875/1875 [==============================] - 10s 6ms/step - loss: 0.0114 - accuracy: 0.9965\n",
      "Epoch 62/100\n",
      "1875/1875 [==============================] - 10s 6ms/step - loss: 0.0083 - accuracy: 0.9974\n",
      "Epoch 63/100\n",
      "1875/1875 [==============================] - 10s 6ms/step - loss: 0.0106 - accuracy: 0.9970\n",
      "Epoch 64/100\n",
      "1875/1875 [==============================] - 10s 6ms/step - loss: 0.0112 - accuracy: 0.9970\n",
      "Epoch 65/100\n",
      "1875/1875 [==============================] - 10s 6ms/step - loss: 0.0168 - accuracy: 0.9961\n",
      "Epoch 66/100\n",
      "1875/1875 [==============================] - 10s 6ms/step - loss: 0.0124 - accuracy: 0.9966\n",
      "Epoch 67/100\n",
      "1875/1875 [==============================] - 11s 6ms/step - loss: 0.0085 - accuracy: 0.9976\n",
      "Epoch 68/100\n",
      "1875/1875 [==============================] - 10s 6ms/step - loss: 0.0133 - accuracy: 0.9959\n",
      "Epoch 69/100\n",
      "1875/1875 [==============================] - 10s 6ms/step - loss: 0.0108 - accuracy: 0.9974\n",
      "Epoch 70/100\n",
      "1875/1875 [==============================] - 10s 6ms/step - loss: 0.0118 - accuracy: 0.9969\n",
      "Epoch 71/100\n",
      "1875/1875 [==============================] - 10s 6ms/step - loss: 0.0059 - accuracy: 0.9984\n",
      "Epoch 72/100\n",
      "1875/1875 [==============================] - 10s 6ms/step - loss: 0.0146 - accuracy: 0.9956\n",
      "Epoch 73/100\n",
      "1875/1875 [==============================] - 10s 6ms/step - loss: 0.0116 - accuracy: 0.9968\n",
      "Epoch 74/100\n",
      "1875/1875 [==============================] - 10s 6ms/step - loss: 0.0099 - accuracy: 0.9970\n",
      "Epoch 75/100\n",
      "1875/1875 [==============================] - 10s 6ms/step - loss: 0.0119 - accuracy: 0.9967\n",
      "Epoch 76/100\n",
      "1875/1875 [==============================] - 10s 6ms/step - loss: 0.0126 - accuracy: 0.9971\n",
      "Epoch 77/100\n",
      "1875/1875 [==============================] - 10s 6ms/step - loss: 0.0091 - accuracy: 0.9977\n",
      "Epoch 78/100\n",
      "1875/1875 [==============================] - 10s 6ms/step - loss: 0.0066 - accuracy: 0.9981\n",
      "Epoch 79/100\n",
      "1875/1875 [==============================] - 10s 6ms/step - loss: 0.0078 - accuracy: 0.9976\n",
      "Epoch 80/100\n",
      "1875/1875 [==============================] - 10s 6ms/step - loss: 0.0102 - accuracy: 0.9970\n",
      "Epoch 81/100\n",
      "1875/1875 [==============================] - 10s 6ms/step - loss: 0.0083 - accuracy: 0.9974\n",
      "Epoch 82/100\n",
      "1875/1875 [==============================] - 10s 6ms/step - loss: 0.0123 - accuracy: 0.9968\n",
      "Epoch 83/100\n",
      "1875/1875 [==============================] - 10s 6ms/step - loss: 0.0088 - accuracy: 0.9975\n",
      "Epoch 84/100\n",
      "1875/1875 [==============================] - 10s 6ms/step - loss: 0.0098 - accuracy: 0.9974\n",
      "Epoch 85/100\n",
      "1875/1875 [==============================] - 11s 6ms/step - loss: 0.0074 - accuracy: 0.9977\n",
      "Epoch 86/100\n",
      "1875/1875 [==============================] - 10s 6ms/step - loss: 0.0088 - accuracy: 0.9976\n",
      "Epoch 87/100\n",
      "1875/1875 [==============================] - 10s 6ms/step - loss: 0.0088 - accuracy: 0.9976\n",
      "Epoch 88/100\n",
      "1875/1875 [==============================] - 10s 6ms/step - loss: 0.0148 - accuracy: 0.9961\n",
      "Epoch 89/100\n",
      "1875/1875 [==============================] - 10s 6ms/step - loss: 0.0072 - accuracy: 0.9979\n",
      "Epoch 90/100\n",
      "1875/1875 [==============================] - 10s 6ms/step - loss: 0.0121 - accuracy: 0.9972\n",
      "Epoch 91/100\n",
      "1875/1875 [==============================] - 11s 6ms/step - loss: 0.0110 - accuracy: 0.9972\n",
      "Epoch 92/100\n",
      "1875/1875 [==============================] - 10s 6ms/step - loss: 0.0076 - accuracy: 0.9978\n",
      "Epoch 93/100\n",
      "1875/1875 [==============================] - 10s 6ms/step - loss: 0.0116 - accuracy: 0.9972\n",
      "Epoch 94/100\n",
      "1875/1875 [==============================] - 10s 6ms/step - loss: 0.0109 - accuracy: 0.9975\n",
      "Epoch 95/100\n",
      "1875/1875 [==============================] - 10s 6ms/step - loss: 0.0107 - accuracy: 0.9972\n",
      "Epoch 96/100\n",
      "1875/1875 [==============================] - 11s 6ms/step - loss: 0.0077 - accuracy: 0.9979\n",
      "Epoch 97/100\n",
      "1875/1875 [==============================] - 11s 6ms/step - loss: 0.0123 - accuracy: 0.9970\n",
      "Epoch 98/100\n",
      "1875/1875 [==============================] - 11s 6ms/step - loss: 0.0076 - accuracy: 0.9983\n",
      "Epoch 99/100\n",
      "1875/1875 [==============================] - 10s 6ms/step - loss: 0.0080 - accuracy: 0.9979\n",
      "Epoch 100/100\n",
      "1875/1875 [==============================] - 10s 6ms/step - loss: 0.0081 - accuracy: 0.9981\n"
     ]
    }
   ],
   "source": [
    "history = model.fit(train_dataset, epochs = 100, steps_per_epoch=math.ceil(num_train_examples / BATCH_SIZE))"
   ]
  },
  {
   "cell_type": "markdown",
   "metadata": {
    "id": "71BRprPyu75k"
   },
   "source": [
    "### Save the trained model"
   ]
  },
  {
   "cell_type": "code",
   "execution_count": null,
   "metadata": {
    "id": "o1UDG8e5u75k"
   },
   "outputs": [],
   "source": [
    "model_filename = \"colab_model/02_fashion_mnist_tfds_model\""
   ]
  },
  {
   "cell_type": "code",
   "execution_count": null,
   "metadata": {
    "id": "mu6ZTQLpu75k",
    "lines_to_next_cell": 2
   },
   "outputs": [],
   "source": [
    "model.save(model_filename)"
   ]
  },
  {
   "cell_type": "code",
   "execution_count": null,
   "metadata": {
    "colab": {
     "base_uri": "https://localhost:8080/"
    },
    "id": "5xY7sR1df8hO",
    "outputId": "15b4d715-f957-48e0-dbed-6ba9d4c68d38"
   },
   "outputs": [
    {
     "name": "stdout",
     "output_type": "stream",
     "text": [
      "2.4.1\n"
     ]
    }
   ],
   "source": [
    "print(tf.__version__)"
   ]
  },
  {
   "cell_type": "code",
   "execution_count": null,
   "metadata": {
    "colab": {
     "base_uri": "https://localhost:8080/"
    },
    "id": "IE-2wpp6bw2t",
    "outputId": "a2ff5063-5746-41d5-e766-f8bdec4ce4a3"
   },
   "outputs": [
    {
     "name": "stdout",
     "output_type": "stream",
     "text": [
      "colab_model  drive  sample_data\n"
     ]
    }
   ],
   "source": [
    "!ls"
   ]
  },
  {
   "cell_type": "code",
   "execution_count": null,
   "metadata": {
    "id": "jyvhoaQFWO-B"
   },
   "outputs": [],
   "source": [
    "!cp -r colab_model/02_fashion_mnist_tfds_model /content/drive/MyDrive/ColabModels/"
   ]
  },
  {
   "cell_type": "markdown",
   "metadata": {
    "id": "oEw4bZgGCaXB",
    "tags": []
   },
   "source": [
    "### Evaluate"
   ]
  },
  {
   "cell_type": "markdown",
   "metadata": {
    "id": "uQD7InnDu75l",
    "tags": []
   },
   "source": [
    "#### Eval - Train"
   ]
  },
  {
   "cell_type": "code",
   "execution_count": null,
   "metadata": {
    "colab": {
     "base_uri": "https://localhost:8080/"
    },
    "id": "5ECNvI45u75l",
    "outputId": "590f0dab-1d42-4896-fc07-1b9df1828128"
   },
   "outputs": [
    {
     "data": {
      "text/plain": [
       "['loss', 'accuracy']"
      ]
     },
     "execution_count": 39,
     "metadata": {
      "tags": []
     },
     "output_type": "execute_result"
    }
   ],
   "source": [
    "model.metrics_names"
   ]
  },
  {
   "cell_type": "code",
   "execution_count": null,
   "metadata": {
    "colab": {
     "base_uri": "https://localhost:8080/",
     "height": 343
    },
    "id": "FX4X5Au5u75l",
    "outputId": "fdcc2da5-eecb-4682-efa0-1dd3c824c290"
   },
   "outputs": [
    {
     "data": {
      "text/html": [
       "<div>\n",
       "<style scoped>\n",
       "    .dataframe tbody tr th:only-of-type {\n",
       "        vertical-align: middle;\n",
       "    }\n",
       "\n",
       "    .dataframe tbody tr th {\n",
       "        vertical-align: top;\n",
       "    }\n",
       "\n",
       "    .dataframe thead th {\n",
       "        text-align: right;\n",
       "    }\n",
       "</style>\n",
       "<table border=\"1\" class=\"dataframe\">\n",
       "  <thead>\n",
       "    <tr style=\"text-align: right;\">\n",
       "      <th></th>\n",
       "      <th>loss</th>\n",
       "      <th>accuracy</th>\n",
       "    </tr>\n",
       "  </thead>\n",
       "  <tbody>\n",
       "    <tr>\n",
       "      <th>0</th>\n",
       "      <td>0.413486</td>\n",
       "      <td>0.850917</td>\n",
       "    </tr>\n",
       "    <tr>\n",
       "      <th>1</th>\n",
       "      <td>0.263639</td>\n",
       "      <td>0.904267</td>\n",
       "    </tr>\n",
       "    <tr>\n",
       "      <th>2</th>\n",
       "      <td>0.217258</td>\n",
       "      <td>0.919200</td>\n",
       "    </tr>\n",
       "    <tr>\n",
       "      <th>3</th>\n",
       "      <td>0.185276</td>\n",
       "      <td>0.932283</td>\n",
       "    </tr>\n",
       "    <tr>\n",
       "      <th>4</th>\n",
       "      <td>0.158623</td>\n",
       "      <td>0.941700</td>\n",
       "    </tr>\n",
       "    <tr>\n",
       "      <th>5</th>\n",
       "      <td>0.134851</td>\n",
       "      <td>0.950400</td>\n",
       "    </tr>\n",
       "    <tr>\n",
       "      <th>6</th>\n",
       "      <td>0.112667</td>\n",
       "      <td>0.957933</td>\n",
       "    </tr>\n",
       "    <tr>\n",
       "      <th>7</th>\n",
       "      <td>0.097638</td>\n",
       "      <td>0.963933</td>\n",
       "    </tr>\n",
       "    <tr>\n",
       "      <th>8</th>\n",
       "      <td>0.082853</td>\n",
       "      <td>0.970050</td>\n",
       "    </tr>\n",
       "    <tr>\n",
       "      <th>9</th>\n",
       "      <td>0.069150</td>\n",
       "      <td>0.974833</td>\n",
       "    </tr>\n",
       "  </tbody>\n",
       "</table>\n",
       "</div>"
      ],
      "text/plain": [
       "       loss  accuracy\n",
       "0  0.413486  0.850917\n",
       "1  0.263639  0.904267\n",
       "2  0.217258  0.919200\n",
       "3  0.185276  0.932283\n",
       "4  0.158623  0.941700\n",
       "5  0.134851  0.950400\n",
       "6  0.112667  0.957933\n",
       "7  0.097638  0.963933\n",
       "8  0.082853  0.970050\n",
       "9  0.069150  0.974833"
      ]
     },
     "execution_count": 40,
     "metadata": {
      "tags": []
     },
     "output_type": "execute_result"
    }
   ],
   "source": [
    "pd.DataFrame(history.history).head(10)"
   ]
  },
  {
   "cell_type": "code",
   "execution_count": null,
   "metadata": {
    "colab": {
     "base_uri": "https://localhost:8080/",
     "height": 282
    },
    "id": "iXt9_y9Zu75l",
    "outputId": "06593b46-04e6-41eb-e414-138a3623dc73"
   },
   "outputs": [
    {
     "data": {
      "text/plain": [
       "<matplotlib.axes._subplots.AxesSubplot at 0x7f8225d06990>"
      ]
     },
     "execution_count": 41,
     "metadata": {
      "tags": []
     },
     "output_type": "execute_result"
    },
    {
     "data": {
      "image/png": "[encoded data removed]",
      "text/plain": [
       "<Figure size 432x288 with 1 Axes>"
      ]
     },
     "metadata": {
      "needs_background": "light",
      "tags": []
     },
     "output_type": "display_data"
    }
   ],
   "source": [
    "pd.DataFrame(history.history).plot()"
   ]
  },
  {
   "cell_type": "code",
   "execution_count": null,
   "metadata": {
    "id": "vp5Vrw7nu75l"
   },
   "outputs": [],
   "source": [
    "losses = pd.DataFrame(history.history)"
   ]
  },
  {
   "cell_type": "code",
   "execution_count": null,
   "metadata": {
    "colab": {
     "base_uri": "https://localhost:8080/"
    },
    "id": "2b2Q1oQCu75l",
    "outputId": "c84e64f2-5274-42f0-bce6-7b2568b718cb"
   },
   "outputs": [
    {
     "name": "stdout",
     "output_type": "stream",
     "text": [
      "        loss  accuracy\n",
      "0   0.413486  0.850917\n",
      "1   0.263639  0.904267\n",
      "2   0.217258  0.919200\n",
      "3   0.185276  0.932283\n",
      "4   0.158623  0.941700\n",
      "..       ...       ...\n",
      "95  0.007361  0.998400\n",
      "96  0.012991  0.997133\n",
      "97  0.006799  0.998017\n",
      "98  0.010506  0.997567\n",
      "99  0.009541  0.997500\n",
      "\n",
      "[100 rows x 2 columns]\n"
     ]
    }
   ],
   "source": [
    "print(losses)"
   ]
  },
  {
   "cell_type": "code",
   "execution_count": null,
   "metadata": {
    "colab": {
     "base_uri": "https://localhost:8080/",
     "height": 282
    },
    "id": "c6Yundt1u75m",
    "outputId": "6d1cdf8a-b0d0-4fd5-90f4-85205b3b21b9"
   },
   "outputs": [
    {
     "data": {
      "text/plain": [
       "<matplotlib.axes._subplots.AxesSubplot at 0x7f8225e52a10>"
      ]
     },
     "execution_count": 44,
     "metadata": {
      "tags": []
     },
     "output_type": "execute_result"
    },
    {
     "data": {
      "image/png": "[encoded data removed]",
      "text/plain": [
       "<Figure size 432x288 with 1 Axes>"
      ]
     },
     "metadata": {
      "needs_background": "light",
      "tags": []
     },
     "output_type": "display_data"
    }
   ],
   "source": [
    "losses[['loss', 'accuracy']].plot()"
   ]
  },
  {
   "cell_type": "markdown",
   "metadata": {
    "id": "L8Sk6MoYu75m"
   },
   "source": [
    "#### Eval - Test"
   ]
  },
  {
   "cell_type": "code",
   "execution_count": null,
   "metadata": {
    "id": "uHCAuO87pQhY"
   },
   "outputs": [],
   "source": [
    "new_model = tf.keras.models.load_model(saved_model_filename)\n",
    "new_model.summary()\n",
    "test_loss, test_accuracy = new_model.evaluate(test_dataset, steps=math.ceil(num_test_examples / 32))"
   ]
  },
  {
   "cell_type": "code",
   "execution_count": null,
   "metadata": {
    "colab": {
     "base_uri": "https://localhost:8080/"
    },
    "id": "DOeqSKJyu75m",
    "outputId": "adc9be04-f3fb-4776-803f-864e0eac7087"
   },
   "outputs": [
    {
     "name": "stdout",
     "output_type": "stream",
     "text": [
      "Loss on test dataset: 1.3593275547027588\n",
      "Accuracy on test dataset: 0.9154999852180481\n"
     ]
    }
   ],
   "source": [
    "print('Loss on test dataset:', test_loss)\n",
    "print('Accuracy on test dataset:', test_accuracy)"
   ]
  },
  {
   "cell_type": "markdown",
   "metadata": {
    "id": "BojwFO8Qu75m"
   },
   "source": [
    "As it turns out, the accuracy on the test dataset is smaller than the accuracy on the training dataset. \n",
    "This is completely normal, since the model was trained on the `train_dataset`. \n",
    "When the model sees images it has never seen during training, (that is, from the `test_dataset`), \n",
    "we can expect performance to go down. "
   ]
  },
  {
   "cell_type": "code",
   "execution_count": null,
   "metadata": {
    "colab": {
     "base_uri": "https://localhost:8080/"
    },
    "id": "PWHFvEssu75m",
    "outputId": "e08a9aa2-cc13-45a4-e26d-fef7acd67c64"
   },
   "outputs": [
    {
     "name": "stdout",
     "output_type": "stream",
     "text": [
      "Loss and Accuracy on Train dataset:\n"
     ]
    }
   ],
   "source": [
    "print(\"Loss and Accuracy on Train dataset:\")"
   ]
  },
  {
   "cell_type": "code",
   "execution_count": null,
   "metadata": {
    "colab": {
     "base_uri": "https://localhost:8080/",
     "height": 195
    },
    "id": "7WzO7-7pu75n",
    "outputId": "6ac77059-cbfb-4cb2-aea6-01064b8d8998"
   },
   "outputs": [
    {
     "data": {
      "text/html": [
       "<div>\n",
       "<style scoped>\n",
       "    .dataframe tbody tr th:only-of-type {\n",
       "        vertical-align: middle;\n",
       "    }\n",
       "\n",
       "    .dataframe tbody tr th {\n",
       "        vertical-align: top;\n",
       "    }\n",
       "\n",
       "    .dataframe thead th {\n",
       "        text-align: right;\n",
       "    }\n",
       "</style>\n",
       "<table border=\"1\" class=\"dataframe\">\n",
       "  <thead>\n",
       "    <tr style=\"text-align: right;\">\n",
       "      <th></th>\n",
       "      <th>loss</th>\n",
       "      <th>accuracy</th>\n",
       "    </tr>\n",
       "  </thead>\n",
       "  <tbody>\n",
       "    <tr>\n",
       "      <th>95</th>\n",
       "      <td>0.007361</td>\n",
       "      <td>0.998400</td>\n",
       "    </tr>\n",
       "    <tr>\n",
       "      <th>96</th>\n",
       "      <td>0.012991</td>\n",
       "      <td>0.997133</td>\n",
       "    </tr>\n",
       "    <tr>\n",
       "      <th>97</th>\n",
       "      <td>0.006799</td>\n",
       "      <td>0.998017</td>\n",
       "    </tr>\n",
       "    <tr>\n",
       "      <th>98</th>\n",
       "      <td>0.010506</td>\n",
       "      <td>0.997567</td>\n",
       "    </tr>\n",
       "    <tr>\n",
       "      <th>99</th>\n",
       "      <td>0.009541</td>\n",
       "      <td>0.997500</td>\n",
       "    </tr>\n",
       "  </tbody>\n",
       "</table>\n",
       "</div>"
      ],
      "text/plain": [
       "        loss  accuracy\n",
       "95  0.007361  0.998400\n",
       "96  0.012991  0.997133\n",
       "97  0.006799  0.998017\n",
       "98  0.010506  0.997567\n",
       "99  0.009541  0.997500"
      ]
     },
     "execution_count": 48,
     "metadata": {
      "tags": []
     },
     "output_type": "execute_result"
    }
   ],
   "source": [
    "pd.DataFrame(history.history).tail()"
   ]
  },
  {
   "cell_type": "markdown",
   "metadata": {
    "id": "xsoS7CPDCaXH"
   },
   "source": [
    "### Predictions"
   ]
  },
  {
   "cell_type": "code",
   "execution_count": null,
   "metadata": {
    "colab": {
     "base_uri": "https://localhost:8080/"
    },
    "id": "d5-93KBmu75n",
    "outputId": "c7bb8bdf-57cd-4d02-da05-0739d43a91d9"
   },
   "outputs": [
    {
     "name": "stdout",
     "output_type": "stream",
     "text": [
      "9.78125\n"
     ]
    }
   ],
   "source": [
    "print(len(test_dataset) / BATCH_SIZE)"
   ]
  },
  {
   "cell_type": "code",
   "execution_count": null,
   "metadata": {
    "id": "t2ibvXFuu75n",
    "tags": []
   },
   "outputs": [],
   "source": [
    "for test_images, test_labels in test_dataset.take(1):\n",
    "    x_test = test_images.numpy()\n",
    "    y_test = test_labels.numpy()"
   ]
  },
  {
   "cell_type": "code",
   "execution_count": null,
   "metadata": {
    "id": "PWMN8yWmu75o"
   },
   "outputs": [],
   "source": [
    "y_prediction = np.argmax(new_model.predict(x_test), axis=-1)"
   ]
  },
  {
   "cell_type": "code",
   "execution_count": null,
   "metadata": {
    "colab": {
     "base_uri": "https://localhost:8080/"
    },
    "id": "lgLn2rpKu75o",
    "outputId": "1aed2b6e-d8c6-4717-8643-6ac272c22d2e"
   },
   "outputs": [
    {
     "name": "stdout",
     "output_type": "stream",
     "text": [
      "32\n"
     ]
    }
   ],
   "source": [
    "print(len(y_test))"
   ]
  },
  {
   "cell_type": "code",
   "execution_count": null,
   "metadata": {
    "colab": {
     "base_uri": "https://localhost:8080/"
    },
    "id": "5oB64ME5u75o",
    "outputId": "4c68edd7-0bd8-4931-97ec-87da9d92e825"
   },
   "outputs": [
    {
     "name": "stdout",
     "output_type": "stream",
     "text": [
      "32\n"
     ]
    }
   ],
   "source": [
    "print(len(y_prediction))"
   ]
  },
  {
   "cell_type": "code",
   "execution_count": null,
   "metadata": {
    "id": "EprrCzgGu75o"
   },
   "outputs": [],
   "source": [
    "from sklearn.metrics import classification_report, confusion_matrix"
   ]
  },
  {
   "cell_type": "code",
   "execution_count": null,
   "metadata": {
    "colab": {
     "base_uri": "https://localhost:8080/"
    },
    "id": "cC7ArYgGu75p",
    "outputId": "6fc07568-8dc6-41a7-8f8b-cfa10a3cf24a"
   },
   "outputs": [
    {
     "name": "stdout",
     "output_type": "stream",
     "text": [
      "              precision    recall  f1-score   support\n",
      "\n",
      "           0       0.80      1.00      0.89         4\n",
      "           1       1.00      1.00      1.00         1\n",
      "           2       1.00      0.80      0.89         5\n",
      "           3       1.00      1.00      1.00         1\n",
      "           4       1.00      1.00      1.00         8\n",
      "           5       1.00      1.00      1.00         3\n",
      "           7       1.00      1.00      1.00         7\n",
      "           8       1.00      1.00      1.00         1\n",
      "           9       1.00      1.00      1.00         2\n",
      "\n",
      "    accuracy                           0.97        32\n",
      "   macro avg       0.98      0.98      0.98        32\n",
      "weighted avg       0.97      0.97      0.97        32\n",
      "\n",
      "[[4 0 0 0 0 0 0 0 0]\n",
      " [0 1 0 0 0 0 0 0 0]\n",
      " [1 0 4 0 0 0 0 0 0]\n",
      " [0 0 0 1 0 0 0 0 0]\n",
      " [0 0 0 0 8 0 0 0 0]\n",
      " [0 0 0 0 0 3 0 0 0]\n",
      " [0 0 0 0 0 0 7 0 0]\n",
      " [0 0 0 0 0 0 0 1 0]\n",
      " [0 0 0 0 0 0 0 0 2]]\n"
     ]
    }
   ],
   "source": [
    "print(classification_report(y_test, y_prediction))\n",
    "print(confusion_matrix(y_test, y_prediction))"
   ]
  },
  {
   "cell_type": "code",
   "execution_count": null,
   "metadata": {
    "colab": {
     "base_uri": "https://localhost:8080/",
     "height": 395
    },
    "id": "JhPM_KbNu75p",
    "outputId": "f4a4ad74-f08a-416f-a6f8-4d424716639d"
   },
   "outputs": [
    {
     "data": {
      "text/plain": [
       "<matplotlib.axes._subplots.AxesSubplot at 0x7f822024fb50>"
      ]
     },
     "execution_count": 56,
     "metadata": {
      "tags": []
     },
     "output_type": "execute_result"
    },
    {
     "data": {
      "image/png": "[encoded data removed]",
      "text/plain": [
       "<Figure size 720x432 with 2 Axes>"
      ]
     },
     "metadata": {
      "needs_background": "light",
      "tags": []
     },
     "output_type": "display_data"
    }
   ],
   "source": [
    "plt.figure(figsize=(10, 6))\n",
    "sns.heatmap(confusion_matrix(y_test, y_prediction), annot=True)"
   ]
  },
  {
   "cell_type": "markdown",
   "metadata": {
    "id": "gMYSI24ru75p"
   },
   "source": [
    "### Predictions go wrong!"
   ]
  },
  {
   "cell_type": "code",
   "execution_count": null,
   "metadata": {
    "colab": {
     "base_uri": "https://localhost:8080/",
     "height": 281
    },
    "id": "ssJWKjESu75p",
    "outputId": "a89faa65-576c-4a10-9826-8141fe881fd1"
   },
   "outputs": [
    {
     "data": {
      "image/png": "[encoded data removed]",
      "text/plain": [
       "<Figure size 432x288 with 1 Axes>"
      ]
     },
     "metadata": {
      "needs_background": "light",
      "tags": []
     },
     "output_type": "display_data"
    }
   ],
   "source": [
    "# Show some misclassified examples\n",
    "misclassified_idx = np.where(y_prediction != y_test)[0]\n",
    "i = np.random.choice(misclassified_idx)\n",
    "plt.imshow(x_test[i].reshape(28, 28), cmap='gray')\n",
    "# plt.title(\"True label: %s Predicted: %s\" % (y_test[i], y_prediction[i]));\n",
    "t = get_name(y_test[i])\n",
    "p = get_name(y_prediction[i])\n",
    "plt.title(\"True label: %s Predicted: %s\" % (t, p));"
   ]
  },
  {
   "cell_type": "code",
   "execution_count": null,
   "metadata": {
    "colab": {
     "base_uri": "https://localhost:8080/"
    },
    "id": "hpiawAvtu75q",
    "outputId": "d72b4b74-2853-4be8-883b-19c589af6071"
   },
   "outputs": [
    {
     "name": "stdout",
     "output_type": "stream",
     "text": [
      "Percentage of wrong predications : 3.125 %\n",
      "Models maximum accuracy            : 99.83999729156494 %\n"
     ]
    }
   ],
   "source": [
    "print(\"Percentage of wrong predications : \" + str(len(misclassified_idx) / len(y_prediction) * 100) + \" %\")\n",
    "print(\"Models maximum accuracy            : \" + str(np.max(history.history['accuracy']) * 100) + \" %\")\n",
    "# print(\"Models maximum validation accuracy : \" + str(np.max(history.history['val_accuracy'])*100) + \" %\")"
   ]
  },
  {
   "cell_type": "markdown",
   "metadata": {
    "id": "EkTF21F6u75q"
   },
   "source": [
    "### Additonal Files(s) to test the model"
   ]
  },
  {
   "cell_type": "code",
   "execution_count": null,
   "metadata": {
    "id": "WU6gR9h2u75q"
   },
   "outputs": [],
   "source": [
    "# Grab an image from the test dataset\n",
    "img = test_images[0]"
   ]
  },
  {
   "cell_type": "code",
   "execution_count": null,
   "metadata": {
    "colab": {
     "base_uri": "https://localhost:8080/"
    },
    "id": "_uVetdJmu75q",
    "outputId": "9d99ead4-8cc3-4ee1-b060-af02e6915868"
   },
   "outputs": [
    {
     "name": "stdout",
     "output_type": "stream",
     "text": [
      "(28, 28, 1)\n"
     ]
    }
   ],
   "source": [
    "print(img.shape)"
   ]
  },
  {
   "cell_type": "code",
   "execution_count": null,
   "metadata": {
    "id": "JO489RK9u75r"
   },
   "outputs": [],
   "source": [
    "img = np.array([img])"
   ]
  },
  {
   "cell_type": "code",
   "execution_count": null,
   "metadata": {
    "colab": {
     "base_uri": "https://localhost:8080/"
    },
    "id": "FMATPgZmu75r",
    "outputId": "540e5457-0172-4be7-c2fb-b1b26649cd87"
   },
   "outputs": [
    {
     "name": "stdout",
     "output_type": "stream",
     "text": [
      "(1, 28, 28, 1)\n"
     ]
    }
   ],
   "source": [
    "print(img.shape)"
   ]
  },
  {
   "cell_type": "code",
   "execution_count": null,
   "metadata": {
    "id": "ebseZ7qOu75s"
   },
   "outputs": [],
   "source": [
    "predictions_single = new_model.predict(img)"
   ]
  },
  {
   "cell_type": "code",
   "execution_count": null,
   "metadata": {
    "colab": {
     "base_uri": "https://localhost:8080/"
    },
    "id": "jT0V107Eu75s",
    "outputId": "e71993c3-ca55-4a58-8661-59e01e3bf278"
   },
   "outputs": [
    {
     "name": "stdout",
     "output_type": "stream",
     "text": [
      "[[6.2822927e-36 0.0000000e+00 1.1262141e-16 0.0000000e+00 1.0000000e+00\n",
      "  0.0000000e+00 2.4346427e-17 0.0000000e+00 0.0000000e+00 0.0000000e+00]]\n"
     ]
    }
   ],
   "source": [
    "print(predictions_single)"
   ]
  },
  {
   "cell_type": "code",
   "execution_count": null,
   "metadata": {
    "colab": {
     "base_uri": "https://localhost:8080/"
    },
    "id": "2tRmdq_8CaXb",
    "outputId": "59b9ebab-7599-4189-96e1-4cf44ee529c8"
   },
   "outputs": [
    {
     "data": {
      "text/plain": [
       "4"
      ]
     },
     "execution_count": 65,
     "metadata": {
      "tags": []
     },
     "output_type": "execute_result"
    }
   ],
   "source": [
    "np.argmax(predictions_single[0])"
   ]
  },
  {
   "cell_type": "markdown",
   "metadata": {
    "id": "-KtnHECKZni_"
   },
   "source": [
    "### Exercises\n",
    "\n",
    "Experiment with different models and see how the accuracy results differ. In particular change the following\n",
    "parameters: *   Set training epochs set to 1 *   Number of neurons in the Dense layer following the Flatten one.\n",
    "For example, go really low (e.g. 10) in ranges up to 512 and see how accuracy changes *   Add additional Dense\n",
    "layers between the Flatten and the final Dense(10), experiment with different units in these layers *   Don't\n",
    "normalize the pixel values, and see the effect that has\n",
    "\n",
    "\n",
    "Remember to enable GPU to make everything run faster (Runtime -> Change runtime type -> Hardware accelerator -> GPU).\n",
    "Also, if you run into trouble, simply reset the entire environment and start from the beginning:\n",
    "*   Edit -> Clear all outputs\n",
    "*   Runtime -> Reset all runtimes"
   ]
  }
 ],
 "metadata": {
  "accelerator": "GPU",
  "colab": {
   "collapsed_sections": [],
   "name": "02_fashion_mnist_tfds.ipynb",
   "provenance": [],
   "toc_visible": true
  },
  "jupytext": {
   "encoding": "# -*- coding: utf-8 -*-",
   "formats": "ipynb,py:nomarker"
  },
  "kernelspec": {
   "display_name": "Python 3",
   "language": "python",
   "name": "python3"
  },
  "language_info": {
   "codemirror_mode": {
    "name": "ipython",
    "version": 3
   },
   "file_extension": ".py",
   "mimetype": "text/x-python",
   "name": "python",
   "nbconvert_exporter": "python",
   "pygments_lexer": "ipython3",
   "version": "3.8.5"
  },
  "toc": {
   "base_numbering": 1,
   "nav_menu": {},
   "number_sections": true,
   "sideBar": true,
   "skip_h1_title": false,
   "title_cell": "Table of Contents",
   "title_sidebar": "Contents",
   "toc_cell": false,
   "toc_position": {
    "height": "calc(100% - 180px)",
    "left": "10px",
    "top": "150px",
    "width": "236.364px"
   },
   "toc_section_display": true,
   "toc_window_display": true
  }
 },
 "nbformat": 4,
 "nbformat_minor": 4
}
