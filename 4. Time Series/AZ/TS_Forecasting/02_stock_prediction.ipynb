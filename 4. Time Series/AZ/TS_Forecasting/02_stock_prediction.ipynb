{
  "nbformat": 4,
  "nbformat_minor": 0,
  "metadata": {
    "accelerator": "GPU",
    "colab": {
      "name": "02_stock_prediction.ipynb",
      "provenance": [],
      "toc_visible": true
    },
    "kernelspec": {
      "display_name": "Python 3",
      "language": "python",
      "name": "python3"
    },
    "language_info": {
      "codemirror_mode": {
        "name": "ipython",
        "version": 3
      },
      "file_extension": ".py",
      "mimetype": "text/x-python",
      "name": "python",
      "nbconvert_exporter": "python",
      "pygments_lexer": "ipython3",
      "version": "3.8.5"
    }
  },
  "cells": [
    {
      "cell_type": "markdown",
      "metadata": {
        "id": "IC-mh5vfEwuu"
      },
      "source": [
        "### Stock Market Prediction And Forecasting Using Stacked LSTM"
      ]
    },
    {
      "cell_type": "markdown",
      "metadata": {
        "id": "0VKHg02JB7qW"
      },
      "source": [
        "## Step 1 : Imports"
      ]
    },
    {
      "cell_type": "code",
      "metadata": {
        "id": "LlebCpebEwu2"
      },
      "source": [
        "import math\n",
        "import numpy as np\n",
        "import pandas as pd\n",
        "import matplotlib.pyplot as plt\n",
        "import pandas_datareader as pdr\n",
        "import tensorflow as tf\n",
        "\n",
        "from sklearn.metrics import mean_squared_error\n",
        "from tensorflow.keras.preprocessing.sequence import TimeseriesGenerator\n",
        "from tensorflow.keras.models import Sequential\n",
        "from tensorflow.keras.layers import Dense\n",
        "from tensorflow.keras.layers import LSTM"
      ],
      "execution_count": 1,
      "outputs": []
    },
    {
      "cell_type": "markdown",
      "metadata": {
        "id": "jlKa0MerB7qY"
      },
      "source": [
        "## Step 2 : Load Dataset"
      ]
    },
    {
      "cell_type": "code",
      "metadata": {
        "id": "KnRj0GIMEwu3"
      },
      "source": [
        "KEY = \"e46970bde5460c8e6caece2452083771f7320e41\""
      ],
      "execution_count": 2,
      "outputs": []
    },
    {
      "cell_type": "code",
      "metadata": {
        "colab": {
          "base_uri": "https://localhost:8080/"
        },
        "id": "NXIrZNWmEwu4",
        "outputId": "621ec94e-3010-49a5-df8b-d8a1e226a2ae"
      },
      "source": [
        "df_master = pdr.get_data_tiingo('AAPL', api_key = KEY)\n",
        "df_master.to_csv('AAPL.csv')\n",
        "df_master=pd.read_csv('AAPL.csv')\n",
        "df_master.info()"
      ],
      "execution_count": 3,
      "outputs": [
        {
          "output_type": "stream",
          "text": [
            "<class 'pandas.core.frame.DataFrame'>\n",
            "RangeIndex: 1257 entries, 0 to 1256\n",
            "Data columns (total 14 columns):\n",
            " #   Column       Non-Null Count  Dtype  \n",
            "---  ------       --------------  -----  \n",
            " 0   symbol       1257 non-null   object \n",
            " 1   date         1257 non-null   object \n",
            " 2   close        1257 non-null   float64\n",
            " 3   high         1257 non-null   float64\n",
            " 4   low          1257 non-null   float64\n",
            " 5   open         1257 non-null   float64\n",
            " 6   volume       1257 non-null   int64  \n",
            " 7   adjClose     1257 non-null   float64\n",
            " 8   adjHigh      1257 non-null   float64\n",
            " 9   adjLow       1257 non-null   float64\n",
            " 10  adjOpen      1257 non-null   float64\n",
            " 11  adjVolume    1257 non-null   int64  \n",
            " 12  divCash      1257 non-null   float64\n",
            " 13  splitFactor  1257 non-null   float64\n",
            "dtypes: float64(10), int64(2), object(2)\n",
            "memory usage: 137.6+ KB\n"
          ],
          "name": "stdout"
        }
      ]
    },
    {
      "cell_type": "code",
      "metadata": {
        "colab": {
          "base_uri": "https://localhost:8080/",
          "height": 279
        },
        "id": "selOcYqMOlY5",
        "outputId": "323741be-7b9e-4572-f134-8d27f71acb0a"
      },
      "source": [
        "df_master.head()"
      ],
      "execution_count": 4,
      "outputs": [
        {
          "output_type": "execute_result",
          "data": {
            "text/html": [
              "<div>\n",
              "<style scoped>\n",
              "    .dataframe tbody tr th:only-of-type {\n",
              "        vertical-align: middle;\n",
              "    }\n",
              "\n",
              "    .dataframe tbody tr th {\n",
              "        vertical-align: top;\n",
              "    }\n",
              "\n",
              "    .dataframe thead th {\n",
              "        text-align: right;\n",
              "    }\n",
              "</style>\n",
              "<table border=\"1\" class=\"dataframe\">\n",
              "  <thead>\n",
              "    <tr style=\"text-align: right;\">\n",
              "      <th></th>\n",
              "      <th>symbol</th>\n",
              "      <th>date</th>\n",
              "      <th>close</th>\n",
              "      <th>high</th>\n",
              "      <th>low</th>\n",
              "      <th>open</th>\n",
              "      <th>volume</th>\n",
              "      <th>adjClose</th>\n",
              "      <th>adjHigh</th>\n",
              "      <th>adjLow</th>\n",
              "      <th>adjOpen</th>\n",
              "      <th>adjVolume</th>\n",
              "      <th>divCash</th>\n",
              "      <th>splitFactor</th>\n",
              "    </tr>\n",
              "  </thead>\n",
              "  <tbody>\n",
              "    <tr>\n",
              "      <th>0</th>\n",
              "      <td>AAPL</td>\n",
              "      <td>2016-03-10 00:00:00+00:00</td>\n",
              "      <td>101.17</td>\n",
              "      <td>102.24</td>\n",
              "      <td>100.15</td>\n",
              "      <td>101.41</td>\n",
              "      <td>33513577</td>\n",
              "      <td>23.520683</td>\n",
              "      <td>23.769444</td>\n",
              "      <td>23.283547</td>\n",
              "      <td>23.576480</td>\n",
              "      <td>134054308</td>\n",
              "      <td>0.0</td>\n",
              "      <td>1.0</td>\n",
              "    </tr>\n",
              "    <tr>\n",
              "      <th>1</th>\n",
              "      <td>AAPL</td>\n",
              "      <td>2016-03-11 00:00:00+00:00</td>\n",
              "      <td>102.26</td>\n",
              "      <td>102.28</td>\n",
              "      <td>101.50</td>\n",
              "      <td>102.24</td>\n",
              "      <td>27408237</td>\n",
              "      <td>23.774094</td>\n",
              "      <td>23.778743</td>\n",
              "      <td>23.597404</td>\n",
              "      <td>23.769444</td>\n",
              "      <td>109632948</td>\n",
              "      <td>0.0</td>\n",
              "      <td>1.0</td>\n",
              "    </tr>\n",
              "    <tr>\n",
              "      <th>2</th>\n",
              "      <td>AAPL</td>\n",
              "      <td>2016-03-14 00:00:00+00:00</td>\n",
              "      <td>102.52</td>\n",
              "      <td>102.91</td>\n",
              "      <td>101.78</td>\n",
              "      <td>101.91</td>\n",
              "      <td>25076062</td>\n",
              "      <td>23.834540</td>\n",
              "      <td>23.925210</td>\n",
              "      <td>23.662500</td>\n",
              "      <td>23.692723</td>\n",
              "      <td>100304248</td>\n",
              "      <td>0.0</td>\n",
              "      <td>1.0</td>\n",
              "    </tr>\n",
              "    <tr>\n",
              "      <th>3</th>\n",
              "      <td>AAPL</td>\n",
              "      <td>2016-03-15 00:00:00+00:00</td>\n",
              "      <td>104.58</td>\n",
              "      <td>105.18</td>\n",
              "      <td>103.85</td>\n",
              "      <td>103.96</td>\n",
              "      <td>40067734</td>\n",
              "      <td>24.313463</td>\n",
              "      <td>24.452955</td>\n",
              "      <td>24.143748</td>\n",
              "      <td>24.169321</td>\n",
              "      <td>160270936</td>\n",
              "      <td>0.0</td>\n",
              "      <td>1.0</td>\n",
              "    </tr>\n",
              "    <tr>\n",
              "      <th>4</th>\n",
              "      <td>AAPL</td>\n",
              "      <td>2016-03-16 00:00:00+00:00</td>\n",
              "      <td>105.97</td>\n",
              "      <td>106.31</td>\n",
              "      <td>104.59</td>\n",
              "      <td>104.61</td>\n",
              "      <td>38303493</td>\n",
              "      <td>24.636619</td>\n",
              "      <td>24.715665</td>\n",
              "      <td>24.315788</td>\n",
              "      <td>24.320437</td>\n",
              "      <td>153213972</td>\n",
              "      <td>0.0</td>\n",
              "      <td>1.0</td>\n",
              "    </tr>\n",
              "  </tbody>\n",
              "</table>\n",
              "</div>"
            ],
            "text/plain": [
              "  symbol                       date   close  ...  adjVolume  divCash  splitFactor\n",
              "0   AAPL  2016-03-10 00:00:00+00:00  101.17  ...  134054308      0.0          1.0\n",
              "1   AAPL  2016-03-11 00:00:00+00:00  102.26  ...  109632948      0.0          1.0\n",
              "2   AAPL  2016-03-14 00:00:00+00:00  102.52  ...  100304248      0.0          1.0\n",
              "3   AAPL  2016-03-15 00:00:00+00:00  104.58  ...  160270936      0.0          1.0\n",
              "4   AAPL  2016-03-16 00:00:00+00:00  105.97  ...  153213972      0.0          1.0\n",
              "\n",
              "[5 rows x 14 columns]"
            ]
          },
          "metadata": {
            "tags": []
          },
          "execution_count": 4
        }
      ]
    },
    {
      "cell_type": "code",
      "metadata": {
        "colab": {
          "base_uri": "https://localhost:8080/",
          "height": 279
        },
        "id": "PgPnjBXBEwu6",
        "outputId": "c19bca76-d92f-4d64-980e-8b1b3e2a749f"
      },
      "source": [
        "df_master.tail()"
      ],
      "execution_count": 5,
      "outputs": [
        {
          "output_type": "execute_result",
          "data": {
            "text/html": [
              "<div>\n",
              "<style scoped>\n",
              "    .dataframe tbody tr th:only-of-type {\n",
              "        vertical-align: middle;\n",
              "    }\n",
              "\n",
              "    .dataframe tbody tr th {\n",
              "        vertical-align: top;\n",
              "    }\n",
              "\n",
              "    .dataframe thead th {\n",
              "        text-align: right;\n",
              "    }\n",
              "</style>\n",
              "<table border=\"1\" class=\"dataframe\">\n",
              "  <thead>\n",
              "    <tr style=\"text-align: right;\">\n",
              "      <th></th>\n",
              "      <th>symbol</th>\n",
              "      <th>date</th>\n",
              "      <th>close</th>\n",
              "      <th>high</th>\n",
              "      <th>low</th>\n",
              "      <th>open</th>\n",
              "      <th>volume</th>\n",
              "      <th>adjClose</th>\n",
              "      <th>adjHigh</th>\n",
              "      <th>adjLow</th>\n",
              "      <th>adjOpen</th>\n",
              "      <th>adjVolume</th>\n",
              "      <th>divCash</th>\n",
              "      <th>splitFactor</th>\n",
              "    </tr>\n",
              "  </thead>\n",
              "  <tbody>\n",
              "    <tr>\n",
              "      <th>1252</th>\n",
              "      <td>AAPL</td>\n",
              "      <td>2021-03-02 00:00:00+00:00</td>\n",
              "      <td>125.12</td>\n",
              "      <td>128.720</td>\n",
              "      <td>125.01</td>\n",
              "      <td>128.41</td>\n",
              "      <td>102260945</td>\n",
              "      <td>125.12</td>\n",
              "      <td>128.720</td>\n",
              "      <td>125.01</td>\n",
              "      <td>128.41</td>\n",
              "      <td>102260945</td>\n",
              "      <td>0.0</td>\n",
              "      <td>1.0</td>\n",
              "    </tr>\n",
              "    <tr>\n",
              "      <th>1253</th>\n",
              "      <td>AAPL</td>\n",
              "      <td>2021-03-03 00:00:00+00:00</td>\n",
              "      <td>122.06</td>\n",
              "      <td>125.710</td>\n",
              "      <td>121.84</td>\n",
              "      <td>124.81</td>\n",
              "      <td>112966340</td>\n",
              "      <td>122.06</td>\n",
              "      <td>125.710</td>\n",
              "      <td>121.84</td>\n",
              "      <td>124.81</td>\n",
              "      <td>112966340</td>\n",
              "      <td>0.0</td>\n",
              "      <td>1.0</td>\n",
              "    </tr>\n",
              "    <tr>\n",
              "      <th>1254</th>\n",
              "      <td>AAPL</td>\n",
              "      <td>2021-03-04 00:00:00+00:00</td>\n",
              "      <td>120.13</td>\n",
              "      <td>123.600</td>\n",
              "      <td>118.62</td>\n",
              "      <td>121.75</td>\n",
              "      <td>178154975</td>\n",
              "      <td>120.13</td>\n",
              "      <td>123.600</td>\n",
              "      <td>118.62</td>\n",
              "      <td>121.75</td>\n",
              "      <td>178154975</td>\n",
              "      <td>0.0</td>\n",
              "      <td>1.0</td>\n",
              "    </tr>\n",
              "    <tr>\n",
              "      <th>1255</th>\n",
              "      <td>AAPL</td>\n",
              "      <td>2021-03-05 00:00:00+00:00</td>\n",
              "      <td>121.42</td>\n",
              "      <td>121.935</td>\n",
              "      <td>117.57</td>\n",
              "      <td>120.98</td>\n",
              "      <td>153766601</td>\n",
              "      <td>121.42</td>\n",
              "      <td>121.935</td>\n",
              "      <td>117.57</td>\n",
              "      <td>120.98</td>\n",
              "      <td>153766601</td>\n",
              "      <td>0.0</td>\n",
              "      <td>1.0</td>\n",
              "    </tr>\n",
              "    <tr>\n",
              "      <th>1256</th>\n",
              "      <td>AAPL</td>\n",
              "      <td>2021-03-08 00:00:00+00:00</td>\n",
              "      <td>116.36</td>\n",
              "      <td>121.000</td>\n",
              "      <td>116.21</td>\n",
              "      <td>120.93</td>\n",
              "      <td>154376610</td>\n",
              "      <td>116.36</td>\n",
              "      <td>121.000</td>\n",
              "      <td>116.21</td>\n",
              "      <td>120.93</td>\n",
              "      <td>154376610</td>\n",
              "      <td>0.0</td>\n",
              "      <td>1.0</td>\n",
              "    </tr>\n",
              "  </tbody>\n",
              "</table>\n",
              "</div>"
            ],
            "text/plain": [
              "     symbol                       date   close  ...  adjVolume  divCash  splitFactor\n",
              "1252   AAPL  2021-03-02 00:00:00+00:00  125.12  ...  102260945      0.0          1.0\n",
              "1253   AAPL  2021-03-03 00:00:00+00:00  122.06  ...  112966340      0.0          1.0\n",
              "1254   AAPL  2021-03-04 00:00:00+00:00  120.13  ...  178154975      0.0          1.0\n",
              "1255   AAPL  2021-03-05 00:00:00+00:00  121.42  ...  153766601      0.0          1.0\n",
              "1256   AAPL  2021-03-08 00:00:00+00:00  116.36  ...  154376610      0.0          1.0\n",
              "\n",
              "[5 rows x 14 columns]"
            ]
          },
          "metadata": {
            "tags": []
          },
          "execution_count": 5
        }
      ]
    },
    {
      "cell_type": "code",
      "metadata": {
        "id": "dQB4m5wSEwu6"
      },
      "source": [
        "#df1 = df_master.reset_index()['close']"
      ],
      "execution_count": 6,
      "outputs": []
    },
    {
      "cell_type": "code",
      "metadata": {
        "id": "qFe3q3q_OlY7"
      },
      "source": [
        "df = df_master[['date','close']].copy()"
      ],
      "execution_count": 7,
      "outputs": []
    },
    {
      "cell_type": "code",
      "metadata": {
        "colab": {
          "base_uri": "https://localhost:8080/"
        },
        "id": "fftolsL3OlY7",
        "outputId": "78947afa-f306-4603-8109-3e5ea0963df2"
      },
      "source": [
        "df.info()"
      ],
      "execution_count": 8,
      "outputs": [
        {
          "output_type": "stream",
          "text": [
            "<class 'pandas.core.frame.DataFrame'>\n",
            "RangeIndex: 1257 entries, 0 to 1256\n",
            "Data columns (total 2 columns):\n",
            " #   Column  Non-Null Count  Dtype  \n",
            "---  ------  --------------  -----  \n",
            " 0   date    1257 non-null   object \n",
            " 1   close   1257 non-null   float64\n",
            "dtypes: float64(1), object(1)\n",
            "memory usage: 19.8+ KB\n"
          ],
          "name": "stdout"
        }
      ]
    },
    {
      "cell_type": "code",
      "metadata": {
        "id": "a5s3ZZCUOlY7"
      },
      "source": [
        "df['date']= pd.to_datetime(df['date'])"
      ],
      "execution_count": 9,
      "outputs": []
    },
    {
      "cell_type": "code",
      "metadata": {
        "colab": {
          "base_uri": "https://localhost:8080/"
        },
        "id": "Ty3IGHpvOlY8",
        "outputId": "73a730b2-609b-4730-ecc9-cfb290054383"
      },
      "source": [
        "df['date'].dt.strftime('%Y-%m-%d')"
      ],
      "execution_count": 10,
      "outputs": [
        {
          "output_type": "execute_result",
          "data": {
            "text/plain": [
              "0       2016-03-10\n",
              "1       2016-03-11\n",
              "2       2016-03-14\n",
              "3       2016-03-15\n",
              "4       2016-03-16\n",
              "           ...    \n",
              "1252    2021-03-02\n",
              "1253    2021-03-03\n",
              "1254    2021-03-04\n",
              "1255    2021-03-05\n",
              "1256    2021-03-08\n",
              "Name: date, Length: 1257, dtype: object"
            ]
          },
          "metadata": {
            "tags": []
          },
          "execution_count": 10
        }
      ]
    },
    {
      "cell_type": "code",
      "metadata": {
        "id": "4vqag_XjOlY8"
      },
      "source": [
        "df.set_index('date', inplace = True)"
      ],
      "execution_count": 11,
      "outputs": []
    },
    {
      "cell_type": "code",
      "metadata": {
        "colab": {
          "base_uri": "https://localhost:8080/",
          "height": 482
        },
        "id": "ay_dQMawEwu7",
        "outputId": "f5a22ad6-2e2d-4530-b765-ee7cdbef7eef"
      },
      "source": [
        "df.plot(figsize=(12,8))"
      ],
      "execution_count": 12,
      "outputs": [
        {
          "output_type": "execute_result",
          "data": {
            "text/plain": [
              "<matplotlib.axes._subplots.AxesSubplot at 0x7f30e88185d0>"
            ]
          },
          "metadata": {
            "tags": []
          },
          "execution_count": 12
        },
        {
          "output_type": "display_data",
          "data": {
            "image/png": "[encoded data removed]",
            "text/plain": [
              "<Figure size 864x576 with 1 Axes>"
            ]
          },
          "metadata": {
            "tags": [],
            "needs_background": "light"
          }
        }
      ]
    },
    {
      "cell_type": "markdown",
      "metadata": {
        "id": "Wr4hy6duB7qk"
      },
      "source": [
        "## Step 3 : Train Test Split"
      ]
    },
    {
      "cell_type": "code",
      "metadata": {
        "colab": {
          "base_uri": "https://localhost:8080/"
        },
        "id": "R_cuw6BsOlZB",
        "outputId": "e093711a-0c39-4aab-8c1b-87353325b6e9"
      },
      "source": [
        "len(df)"
      ],
      "execution_count": 13,
      "outputs": [
        {
          "output_type": "execute_result",
          "data": {
            "text/plain": [
              "1257"
            ]
          },
          "metadata": {
            "tags": []
          },
          "execution_count": 13
        }
      ]
    },
    {
      "cell_type": "code",
      "metadata": {
        "id": "WZ5Oj096OlZB"
      },
      "source": [
        "test_size =  int(len(df)*0.35)\n",
        "test_ind = len(df)- test_size"
      ],
      "execution_count": 14,
      "outputs": []
    },
    {
      "cell_type": "code",
      "metadata": {
        "colab": {
          "base_uri": "https://localhost:8080/"
        },
        "id": "sojDtaA3OlZC",
        "outputId": "e90a988d-b6f0-4474-dd8c-92d3319783e0"
      },
      "source": [
        "test_size"
      ],
      "execution_count": 15,
      "outputs": [
        {
          "output_type": "execute_result",
          "data": {
            "text/plain": [
              "439"
            ]
          },
          "metadata": {
            "tags": []
          },
          "execution_count": 15
        }
      ]
    },
    {
      "cell_type": "code",
      "metadata": {
        "id": "XvsRr42xOlZD"
      },
      "source": [
        "train = df.iloc[:test_ind]\n",
        "test = df.iloc[test_ind:]"
      ],
      "execution_count": 16,
      "outputs": []
    },
    {
      "cell_type": "code",
      "metadata": {
        "colab": {
          "base_uri": "https://localhost:8080/"
        },
        "id": "uooxkEcrzV2T",
        "outputId": "b657e68e-4d39-436e-f22d-e1aa6b42ca2c"
      },
      "source": [
        "print(len(train))\n",
        "print(len(test))"
      ],
      "execution_count": 17,
      "outputs": [
        {
          "output_type": "stream",
          "text": [
            "818\n",
            "439\n"
          ],
          "name": "stdout"
        }
      ]
    },
    {
      "cell_type": "markdown",
      "metadata": {
        "id": "3KtyuUvEB7qn"
      },
      "source": [
        "## Step 4 : Normalize"
      ]
    },
    {
      "cell_type": "code",
      "metadata": {
        "id": "rnYF6h4bzV2T"
      },
      "source": [
        "from sklearn.preprocessing import MinMaxScaler\n",
        "scaler = MinMaxScaler()\n",
        "scaler.fit(train)\n",
        "train = scaler.transform(train)\n",
        "test = scaler.transform(test)"
      ],
      "execution_count": 18,
      "outputs": []
    },
    {
      "cell_type": "markdown",
      "metadata": {
        "id": "MNwE0w_2B7qo"
      },
      "source": [
        "## Step 5 : Time Series Generator"
      ]
    },
    {
      "cell_type": "code",
      "metadata": {
        "id": "99oQxKuxOlZE"
      },
      "source": [
        "# Please modify based on the problem : \n",
        "# Note n_inputs should be < size of test . \n",
        "# Here size of test = 439 so use 100\n",
        "n_features = 1\n",
        "n_input = 100\n",
        "batch_size = 1\n",
        "\n",
        "train_generator = TimeseriesGenerator(train, \n",
        "                                      train, \n",
        "                                      length = n_input, \n",
        "                                      batch_size = batch_size,\n",
        "                                      shuffle = True)\n",
        "\n",
        "# Shuffle is not needed b/c model will not see this data.\n",
        "test_generator = TimeseriesGenerator(test, \n",
        "                                     test, \n",
        "                                     length = n_input, \n",
        "                                     batch_size = batch_size)"
      ],
      "execution_count": 19,
      "outputs": []
    },
    {
      "cell_type": "code",
      "metadata": {
        "colab": {
          "base_uri": "https://localhost:8080/"
        },
        "id": "R5mIVCzfEwu9",
        "outputId": "ed28f861-bfcd-4696-d43b-496efaf1206d"
      },
      "source": [
        "print(len(train_generator))\n",
        "print(len(test_generator))"
      ],
      "execution_count": 20,
      "outputs": [
        {
          "output_type": "stream",
          "text": [
            "718\n",
            "339\n"
          ],
          "name": "stdout"
        }
      ]
    },
    {
      "cell_type": "markdown",
      "metadata": {
        "id": "rrTmtlAiB7qq"
      },
      "source": [
        "## Step 6 : Model"
      ]
    },
    {
      "cell_type": "code",
      "metadata": {
        "colab": {
          "base_uri": "https://localhost:8080/"
        },
        "id": "a-B_cijSEwu9",
        "outputId": "f2944cfa-fc66-46e1-8fd4-4fd4a7364b2b"
      },
      "source": [
        "model=Sequential()\n",
        "model.add(LSTM(50,return_sequences=True,input_shape = (n_input,n_features)))\n",
        "model.add(LSTM(50,return_sequences=True))\n",
        "model.add(LSTM(50))\n",
        "model.add(Dense(1))\n",
        "model.compile(loss='mean_squared_error',optimizer='adam')\n",
        "model.summary()"
      ],
      "execution_count": 21,
      "outputs": [
        {
          "output_type": "stream",
          "text": [
            "Model: \"sequential\"\n",
            "_________________________________________________________________\n",
            "Layer (type)                 Output Shape              Param #   \n",
            "=================================================================\n",
            "lstm (LSTM)                  (None, 100, 50)           10400     \n",
            "_________________________________________________________________\n",
            "lstm_1 (LSTM)                (None, 100, 50)           20200     \n",
            "_________________________________________________________________\n",
            "lstm_2 (LSTM)                (None, 50)                20200     \n",
            "_________________________________________________________________\n",
            "dense (Dense)                (None, 1)                 51        \n",
            "=================================================================\n",
            "Total params: 50,851\n",
            "Trainable params: 50,851\n",
            "Non-trainable params: 0\n",
            "_________________________________________________________________\n"
          ],
          "name": "stdout"
        }
      ]
    },
    {
      "cell_type": "code",
      "metadata": {
        "id": "qVfuscL7B7qr"
      },
      "source": [
        "# from tensorflow.keras.callbacks import EarlyStopping\n",
        "# early_stop = EarlyStopping(monitor ='val_loss', patience = 50)"
      ],
      "execution_count": 22,
      "outputs": []
    },
    {
      "cell_type": "code",
      "metadata": {
        "colab": {
          "base_uri": "https://localhost:8080/"
        },
        "id": "cYY7dGwcEwu-",
        "outputId": "6fe92ff8-21ad-4bef-f6e7-de2d3e8be12a"
      },
      "source": [
        "history = model.fit(train_generator, epochs = 100 ,\n",
        "                    validation_data = test_generator)"
      ],
      "execution_count": 23,
      "outputs": [
        {
          "output_type": "stream",
          "text": [
            "Epoch 1/100\n",
            "718/718 [==============================] - 73s 56ms/step - loss: 0.0159 - val_loss: 0.1430\n",
            "Epoch 2/100\n",
            "718/718 [==============================] - 38s 54ms/step - loss: 0.0030 - val_loss: 0.0951\n",
            "Epoch 3/100\n",
            "718/718 [==============================] - 39s 54ms/step - loss: 0.0016 - val_loss: 0.0530\n",
            "Epoch 4/100\n",
            "718/718 [==============================] - 39s 54ms/step - loss: 0.0013 - val_loss: 0.0507\n",
            "Epoch 5/100\n",
            "718/718 [==============================] - 39s 54ms/step - loss: 0.0013 - val_loss: 0.0274\n",
            "Epoch 6/100\n",
            "718/718 [==============================] - 38s 54ms/step - loss: 0.0010 - val_loss: 0.0528\n",
            "Epoch 7/100\n",
            "718/718 [==============================] - 38s 54ms/step - loss: 9.5580e-04 - val_loss: 0.0298\n",
            "Epoch 8/100\n",
            "718/718 [==============================] - 39s 54ms/step - loss: 8.7043e-04 - val_loss: 0.0349\n",
            "Epoch 9/100\n",
            "718/718 [==============================] - 39s 54ms/step - loss: 8.8990e-04 - val_loss: 0.0403\n",
            "Epoch 10/100\n",
            "718/718 [==============================] - 39s 54ms/step - loss: 6.1504e-04 - val_loss: 0.0371\n",
            "Epoch 11/100\n",
            "718/718 [==============================] - 38s 53ms/step - loss: 8.6704e-04 - val_loss: 0.0396\n",
            "Epoch 12/100\n",
            "718/718 [==============================] - 37s 52ms/step - loss: 5.3275e-04 - val_loss: 0.0758\n",
            "Epoch 13/100\n",
            "718/718 [==============================] - 37s 52ms/step - loss: 6.2963e-04 - val_loss: 0.0436\n",
            "Epoch 14/100\n",
            "718/718 [==============================] - 37s 52ms/step - loss: 6.7376e-04 - val_loss: 0.0430\n",
            "Epoch 15/100\n",
            "718/718 [==============================] - 37s 51ms/step - loss: 4.8950e-04 - val_loss: 0.0420\n",
            "Epoch 16/100\n",
            "718/718 [==============================] - 37s 51ms/step - loss: 8.5374e-04 - val_loss: 0.0350\n",
            "Epoch 17/100\n",
            "718/718 [==============================] - 37s 51ms/step - loss: 7.7582e-04 - val_loss: 0.0713\n",
            "Epoch 18/100\n",
            "718/718 [==============================] - 37s 52ms/step - loss: 4.8222e-04 - val_loss: 0.0635\n",
            "Epoch 19/100\n",
            "718/718 [==============================] - 37s 51ms/step - loss: 6.0085e-04 - val_loss: 0.0559\n",
            "Epoch 20/100\n",
            "718/718 [==============================] - 37s 51ms/step - loss: 7.1505e-04 - val_loss: 0.0766\n",
            "Epoch 21/100\n",
            "718/718 [==============================] - 37s 52ms/step - loss: 6.2901e-04 - val_loss: 0.1038\n",
            "Epoch 22/100\n",
            "718/718 [==============================] - 37s 52ms/step - loss: 7.1745e-04 - val_loss: 0.0853\n",
            "Epoch 23/100\n",
            "718/718 [==============================] - 37s 51ms/step - loss: 7.1701e-04 - val_loss: 0.0956\n",
            "Epoch 24/100\n",
            "718/718 [==============================] - 37s 52ms/step - loss: 5.3540e-04 - val_loss: 0.1031\n",
            "Epoch 25/100\n",
            "718/718 [==============================] - 37s 52ms/step - loss: 5.6642e-04 - val_loss: 0.1119\n",
            "Epoch 26/100\n",
            "718/718 [==============================] - 37s 52ms/step - loss: 8.2098e-04 - val_loss: 0.0808\n",
            "Epoch 27/100\n",
            "718/718 [==============================] - 37s 52ms/step - loss: 5.2090e-04 - val_loss: 0.0901\n",
            "Epoch 28/100\n",
            "718/718 [==============================] - 37s 52ms/step - loss: 5.6256e-04 - val_loss: 0.1060\n",
            "Epoch 29/100\n",
            "718/718 [==============================] - 37s 52ms/step - loss: 4.8977e-04 - val_loss: 0.1037\n",
            "Epoch 30/100\n",
            "718/718 [==============================] - 37s 51ms/step - loss: 6.0256e-04 - val_loss: 0.0901\n",
            "Epoch 31/100\n",
            "718/718 [==============================] - 37s 51ms/step - loss: 4.2999e-04 - val_loss: 0.1032\n",
            "Epoch 32/100\n",
            "718/718 [==============================] - 37s 51ms/step - loss: 5.4111e-04 - val_loss: 0.1011\n",
            "Epoch 33/100\n",
            "718/718 [==============================] - 37s 52ms/step - loss: 4.4746e-04 - val_loss: 0.0987\n",
            "Epoch 34/100\n",
            "718/718 [==============================] - 37s 51ms/step - loss: 6.3980e-04 - val_loss: 0.0951\n",
            "Epoch 35/100\n",
            "718/718 [==============================] - 37s 51ms/step - loss: 4.8751e-04 - val_loss: 0.1017\n",
            "Epoch 36/100\n",
            "718/718 [==============================] - 37s 51ms/step - loss: 5.4234e-04 - val_loss: 0.1329\n",
            "Epoch 37/100\n",
            "718/718 [==============================] - 37s 51ms/step - loss: 3.4570e-04 - val_loss: 0.0784\n",
            "Epoch 38/100\n",
            "718/718 [==============================] - 37s 51ms/step - loss: 7.6445e-04 - val_loss: 0.1047\n",
            "Epoch 39/100\n",
            "718/718 [==============================] - 37s 51ms/step - loss: 4.5065e-04 - val_loss: 0.1293\n",
            "Epoch 40/100\n",
            "718/718 [==============================] - 37s 52ms/step - loss: 4.5361e-04 - val_loss: 0.0970\n",
            "Epoch 41/100\n",
            "718/718 [==============================] - 37s 52ms/step - loss: 4.7810e-04 - val_loss: 0.1211\n",
            "Epoch 42/100\n",
            "718/718 [==============================] - 38s 52ms/step - loss: 5.6454e-04 - val_loss: 0.1042\n",
            "Epoch 43/100\n",
            "718/718 [==============================] - 37s 51ms/step - loss: 5.7335e-04 - val_loss: 0.1151\n",
            "Epoch 44/100\n",
            "718/718 [==============================] - 37s 52ms/step - loss: 4.6695e-04 - val_loss: 0.1291\n",
            "Epoch 45/100\n",
            "718/718 [==============================] - 38s 52ms/step - loss: 5.6428e-04 - val_loss: 0.1281\n",
            "Epoch 46/100\n",
            "718/718 [==============================] - 38s 52ms/step - loss: 3.8906e-04 - val_loss: 0.1209\n",
            "Epoch 47/100\n",
            "718/718 [==============================] - 37s 52ms/step - loss: 4.9214e-04 - val_loss: 0.1080\n",
            "Epoch 48/100\n",
            "718/718 [==============================] - 37s 52ms/step - loss: 4.9320e-04 - val_loss: 0.1052\n",
            "Epoch 49/100\n",
            "718/718 [==============================] - 37s 52ms/step - loss: 3.7780e-04 - val_loss: 0.1223\n",
            "Epoch 50/100\n",
            "718/718 [==============================] - 37s 51ms/step - loss: 4.4569e-04 - val_loss: 0.1220\n",
            "Epoch 51/100\n",
            "718/718 [==============================] - 37s 52ms/step - loss: 6.0521e-04 - val_loss: 0.1279\n",
            "Epoch 52/100\n",
            "718/718 [==============================] - 37s 51ms/step - loss: 4.7326e-04 - val_loss: 0.1313\n",
            "Epoch 53/100\n",
            "718/718 [==============================] - 37s 51ms/step - loss: 3.9004e-04 - val_loss: 0.1229\n",
            "Epoch 54/100\n",
            "718/718 [==============================] - 37s 51ms/step - loss: 3.4773e-04 - val_loss: 0.1177\n",
            "Epoch 55/100\n",
            "718/718 [==============================] - 37s 51ms/step - loss: 4.4865e-04 - val_loss: 0.1168\n",
            "Epoch 56/100\n",
            "718/718 [==============================] - 37s 51ms/step - loss: 5.2641e-04 - val_loss: 0.1251\n",
            "Epoch 57/100\n",
            "718/718 [==============================] - 37s 51ms/step - loss: 4.4484e-04 - val_loss: 0.1166\n",
            "Epoch 58/100\n",
            "718/718 [==============================] - 37s 51ms/step - loss: 5.8470e-04 - val_loss: 0.1413\n",
            "Epoch 59/100\n",
            "718/718 [==============================] - 37s 51ms/step - loss: 4.8395e-04 - val_loss: 0.1435\n",
            "Epoch 60/100\n",
            "718/718 [==============================] - 37s 51ms/step - loss: 5.0229e-04 - val_loss: 0.1190\n",
            "Epoch 61/100\n",
            "718/718 [==============================] - 37s 51ms/step - loss: 5.4683e-04 - val_loss: 0.1463\n",
            "Epoch 62/100\n",
            "718/718 [==============================] - 37s 51ms/step - loss: 5.4946e-04 - val_loss: 0.1242\n",
            "Epoch 63/100\n",
            "718/718 [==============================] - 37s 51ms/step - loss: 5.2379e-04 - val_loss: 0.1356\n",
            "Epoch 64/100\n",
            "718/718 [==============================] - 37s 51ms/step - loss: 4.4018e-04 - val_loss: 0.1307\n",
            "Epoch 65/100\n",
            "718/718 [==============================] - 37s 51ms/step - loss: 3.8886e-04 - val_loss: 0.1314\n",
            "Epoch 66/100\n",
            "718/718 [==============================] - 37s 52ms/step - loss: 3.9477e-04 - val_loss: 0.1450\n",
            "Epoch 67/100\n",
            "718/718 [==============================] - 37s 51ms/step - loss: 4.1691e-04 - val_loss: 0.1328\n",
            "Epoch 68/100\n",
            "718/718 [==============================] - 37s 51ms/step - loss: 5.4121e-04 - val_loss: 0.1525\n",
            "Epoch 69/100\n",
            "718/718 [==============================] - 37s 51ms/step - loss: 4.8762e-04 - val_loss: 0.1441\n",
            "Epoch 70/100\n",
            "718/718 [==============================] - 37s 51ms/step - loss: 4.5163e-04 - val_loss: 0.1394\n",
            "Epoch 71/100\n",
            "718/718 [==============================] - 37s 51ms/step - loss: 4.2579e-04 - val_loss: 0.1303\n",
            "Epoch 72/100\n",
            "718/718 [==============================] - 37s 51ms/step - loss: 5.7491e-04 - val_loss: 0.1356\n",
            "Epoch 73/100\n",
            "718/718 [==============================] - 37s 51ms/step - loss: 3.4083e-04 - val_loss: 0.1501\n",
            "Epoch 74/100\n",
            "718/718 [==============================] - 37s 51ms/step - loss: 5.3438e-04 - val_loss: 0.1509\n",
            "Epoch 75/100\n",
            "718/718 [==============================] - 37s 51ms/step - loss: 4.7069e-04 - val_loss: 0.1462\n",
            "Epoch 76/100\n",
            "718/718 [==============================] - 37s 51ms/step - loss: 4.0948e-04 - val_loss: 0.1575\n",
            "Epoch 77/100\n",
            "718/718 [==============================] - 37s 51ms/step - loss: 4.9454e-04 - val_loss: 0.1477\n",
            "Epoch 78/100\n",
            "718/718 [==============================] - 37s 51ms/step - loss: 3.2173e-04 - val_loss: 0.1380\n",
            "Epoch 79/100\n",
            "718/718 [==============================] - 37s 52ms/step - loss: 3.8751e-04 - val_loss: 0.1397\n",
            "Epoch 80/100\n",
            "718/718 [==============================] - 37s 52ms/step - loss: 5.2413e-04 - val_loss: 0.1385\n",
            "Epoch 81/100\n",
            "718/718 [==============================] - 37s 51ms/step - loss: 4.8676e-04 - val_loss: 0.1450\n",
            "Epoch 82/100\n",
            "718/718 [==============================] - 37s 51ms/step - loss: 4.0638e-04 - val_loss: 0.1397\n",
            "Epoch 83/100\n",
            "718/718 [==============================] - 37s 51ms/step - loss: 4.2619e-04 - val_loss: 0.1327\n",
            "Epoch 84/100\n",
            "718/718 [==============================] - 37s 51ms/step - loss: 4.4615e-04 - val_loss: 0.1407\n",
            "Epoch 85/100\n",
            "718/718 [==============================] - 37s 51ms/step - loss: 4.8047e-04 - val_loss: 0.1671\n",
            "Epoch 86/100\n",
            "718/718 [==============================] - 37s 51ms/step - loss: 5.4671e-04 - val_loss: 0.1355\n",
            "Epoch 87/100\n",
            "718/718 [==============================] - 37s 51ms/step - loss: 4.3399e-04 - val_loss: 0.1541\n",
            "Epoch 88/100\n",
            "718/718 [==============================] - 37s 51ms/step - loss: 4.2458e-04 - val_loss: 0.1474\n",
            "Epoch 89/100\n",
            "718/718 [==============================] - 37s 51ms/step - loss: 4.1827e-04 - val_loss: 0.1505\n",
            "Epoch 90/100\n",
            "718/718 [==============================] - 37s 51ms/step - loss: 3.8357e-04 - val_loss: 0.1510\n",
            "Epoch 91/100\n",
            "718/718 [==============================] - 37s 52ms/step - loss: 4.4555e-04 - val_loss: 0.1507\n",
            "Epoch 92/100\n",
            "718/718 [==============================] - 37s 51ms/step - loss: 3.5608e-04 - val_loss: 0.1490\n",
            "Epoch 93/100\n",
            "718/718 [==============================] - 37s 51ms/step - loss: 3.5982e-04 - val_loss: 0.1725\n",
            "Epoch 94/100\n",
            "718/718 [==============================] - 37s 52ms/step - loss: 4.9920e-04 - val_loss: 0.1675\n",
            "Epoch 95/100\n",
            "718/718 [==============================] - 37s 51ms/step - loss: 5.6531e-04 - val_loss: 0.1452\n",
            "Epoch 96/100\n",
            "718/718 [==============================] - 37s 52ms/step - loss: 5.4879e-04 - val_loss: 0.1603\n",
            "Epoch 97/100\n",
            "718/718 [==============================] - 37s 51ms/step - loss: 4.4534e-04 - val_loss: 0.1581\n",
            "Epoch 98/100\n",
            "718/718 [==============================] - 37s 51ms/step - loss: 3.8128e-04 - val_loss: 0.1676\n",
            "Epoch 99/100\n",
            "718/718 [==============================] - 37s 51ms/step - loss: 4.4357e-04 - val_loss: 0.1531\n",
            "Epoch 100/100\n",
            "718/718 [==============================] - 37s 51ms/step - loss: 6.0231e-04 - val_loss: 0.1578\n"
          ],
          "name": "stdout"
        }
      ]
    },
    {
      "cell_type": "code",
      "metadata": {
        "colab": {
          "base_uri": "https://localhost:8080/",
          "height": 282
        },
        "id": "pkCSkq--Ewu-",
        "outputId": "c602482a-ccc7-42fe-ec2f-ae08a7f37be6"
      },
      "source": [
        "loss = pd.DataFrame(model.history.history)\n",
        "loss.plot()"
      ],
      "execution_count": 24,
      "outputs": [
        {
          "output_type": "execute_result",
          "data": {
            "text/plain": [
              "<matplotlib.axes._subplots.AxesSubplot at 0x7f303958b1d0>"
            ]
          },
          "metadata": {
            "tags": []
          },
          "execution_count": 24
        },
        {
          "output_type": "display_data",
          "data": {
            "image/png": "[encoded data removed]",
            "text/plain": [
              "<Figure size 432x288 with 1 Axes>"
            ]
          },
          "metadata": {
            "tags": [],
            "needs_background": "light"
          }
        }
      ]
    },
    {
      "cell_type": "markdown",
      "metadata": {
        "id": "UJnlVJk5B7qs"
      },
      "source": [
        "## Step 7 : Seed Data"
      ]
    },
    {
      "cell_type": "code",
      "metadata": {
        "id": "sbrQXBPTzV2V"
      },
      "source": [
        "batch = train[-n_input:].reshape((1, n_input, n_features))   # stepping stone value"
      ],
      "execution_count": 25,
      "outputs": []
    },
    {
      "cell_type": "markdown",
      "metadata": {
        "id": "atFqeK-pB7qt"
      },
      "source": [
        "## Step 8 : Prediction"
      ]
    },
    {
      "cell_type": "code",
      "metadata": {
        "id": "NvnY0STqB7qu"
      },
      "source": [
        "pred_list = []\n",
        "for i in range(n_input):   \n",
        "    pred_list.append(model.predict(batch)[0])                # predict and save in list\n",
        "    batch = np.append(batch[:,1:,:],[[pred_list[i]]],axis=1) # next value for prediction"
      ],
      "execution_count": 26,
      "outputs": []
    },
    {
      "cell_type": "code",
      "metadata": {
        "colab": {
          "base_uri": "https://localhost:8080/"
        },
        "id": "rQBytNC4B7qv",
        "outputId": "879c2222-6c89-480d-e99b-e0c5e3d56ae1"
      },
      "source": [
        "# We have done Predictions for these date times\n",
        "df[-n_input:].index   # for the past 100 steps"
      ],
      "execution_count": 27,
      "outputs": [
        {
          "output_type": "execute_result",
          "data": {
            "text/plain": [
              "DatetimeIndex(['2020-10-13 00:00:00+00:00', '2020-10-14 00:00:00+00:00',\n",
              "               '2020-10-15 00:00:00+00:00', '2020-10-16 00:00:00+00:00',\n",
              "               '2020-10-19 00:00:00+00:00', '2020-10-20 00:00:00+00:00',\n",
              "               '2020-10-21 00:00:00+00:00', '2020-10-22 00:00:00+00:00',\n",
              "               '2020-10-23 00:00:00+00:00', '2020-10-26 00:00:00+00:00',\n",
              "               '2020-10-27 00:00:00+00:00', '2020-10-28 00:00:00+00:00',\n",
              "               '2020-10-29 00:00:00+00:00', '2020-10-30 00:00:00+00:00',\n",
              "               '2020-11-02 00:00:00+00:00', '2020-11-03 00:00:00+00:00',\n",
              "               '2020-11-04 00:00:00+00:00', '2020-11-05 00:00:00+00:00',\n",
              "               '2020-11-06 00:00:00+00:00', '2020-11-09 00:00:00+00:00',\n",
              "               '2020-11-10 00:00:00+00:00', '2020-11-11 00:00:00+00:00',\n",
              "               '2020-11-12 00:00:00+00:00', '2020-11-13 00:00:00+00:00',\n",
              "               '2020-11-16 00:00:00+00:00', '2020-11-17 00:00:00+00:00',\n",
              "               '2020-11-18 00:00:00+00:00', '2020-11-19 00:00:00+00:00',\n",
              "               '2020-11-20 00:00:00+00:00', '2020-11-23 00:00:00+00:00',\n",
              "               '2020-11-24 00:00:00+00:00', '2020-11-25 00:00:00+00:00',\n",
              "               '2020-11-27 00:00:00+00:00', '2020-11-30 00:00:00+00:00',\n",
              "               '2020-12-01 00:00:00+00:00', '2020-12-02 00:00:00+00:00',\n",
              "               '2020-12-03 00:00:00+00:00', '2020-12-04 00:00:00+00:00',\n",
              "               '2020-12-07 00:00:00+00:00', '2020-12-08 00:00:00+00:00',\n",
              "               '2020-12-09 00:00:00+00:00', '2020-12-10 00:00:00+00:00',\n",
              "               '2020-12-11 00:00:00+00:00', '2020-12-14 00:00:00+00:00',\n",
              "               '2020-12-15 00:00:00+00:00', '2020-12-16 00:00:00+00:00',\n",
              "               '2020-12-17 00:00:00+00:00', '2020-12-18 00:00:00+00:00',\n",
              "               '2020-12-21 00:00:00+00:00', '2020-12-22 00:00:00+00:00',\n",
              "               '2020-12-23 00:00:00+00:00', '2020-12-24 00:00:00+00:00',\n",
              "               '2020-12-28 00:00:00+00:00', '2020-12-29 00:00:00+00:00',\n",
              "               '2020-12-30 00:00:00+00:00', '2020-12-31 00:00:00+00:00',\n",
              "               '2021-01-04 00:00:00+00:00', '2021-01-05 00:00:00+00:00',\n",
              "               '2021-01-06 00:00:00+00:00', '2021-01-07 00:00:00+00:00',\n",
              "               '2021-01-08 00:00:00+00:00', '2021-01-11 00:00:00+00:00',\n",
              "               '2021-01-12 00:00:00+00:00', '2021-01-13 00:00:00+00:00',\n",
              "               '2021-01-14 00:00:00+00:00', '2021-01-15 00:00:00+00:00',\n",
              "               '2021-01-19 00:00:00+00:00', '2021-01-20 00:00:00+00:00',\n",
              "               '2021-01-21 00:00:00+00:00', '2021-01-22 00:00:00+00:00',\n",
              "               '2021-01-25 00:00:00+00:00', '2021-01-26 00:00:00+00:00',\n",
              "               '2021-01-27 00:00:00+00:00', '2021-01-28 00:00:00+00:00',\n",
              "               '2021-01-29 00:00:00+00:00', '2021-02-01 00:00:00+00:00',\n",
              "               '2021-02-02 00:00:00+00:00', '2021-02-03 00:00:00+00:00',\n",
              "               '2021-02-04 00:00:00+00:00', '2021-02-05 00:00:00+00:00',\n",
              "               '2021-02-08 00:00:00+00:00', '2021-02-09 00:00:00+00:00',\n",
              "               '2021-02-10 00:00:00+00:00', '2021-02-11 00:00:00+00:00',\n",
              "               '2021-02-12 00:00:00+00:00', '2021-02-16 00:00:00+00:00',\n",
              "               '2021-02-17 00:00:00+00:00', '2021-02-18 00:00:00+00:00',\n",
              "               '2021-02-19 00:00:00+00:00', '2021-02-22 00:00:00+00:00',\n",
              "               '2021-02-23 00:00:00+00:00', '2021-02-24 00:00:00+00:00',\n",
              "               '2021-02-25 00:00:00+00:00', '2021-02-26 00:00:00+00:00',\n",
              "               '2021-03-01 00:00:00+00:00', '2021-03-02 00:00:00+00:00',\n",
              "               '2021-03-03 00:00:00+00:00', '2021-03-04 00:00:00+00:00',\n",
              "               '2021-03-05 00:00:00+00:00', '2021-03-08 00:00:00+00:00'],\n",
              "              dtype='datetime64[ns, UTC]', name='date', freq=None)"
            ]
          },
          "metadata": {
            "tags": []
          },
          "execution_count": 27
        }
      ]
    },
    {
      "cell_type": "code",
      "metadata": {
        "id": "8zX7KToBzV2V"
      },
      "source": [
        "df_predict = pd.DataFrame(scaler.inverse_transform(pred_list),\n",
        "                          index=df[-n_input:].index, \n",
        "                          columns=['Prediction'])"
      ],
      "execution_count": 28,
      "outputs": []
    },
    {
      "cell_type": "code",
      "metadata": {
        "colab": {
          "base_uri": "https://localhost:8080/",
          "height": 431
        },
        "id": "E8m6a-smzV2W",
        "outputId": "78506054-bbdf-4ec5-e218-2a1417dd317b"
      },
      "source": [
        "df_predict"
      ],
      "execution_count": 29,
      "outputs": [
        {
          "output_type": "execute_result",
          "data": {
            "text/html": [
              "<div>\n",
              "<style scoped>\n",
              "    .dataframe tbody tr th:only-of-type {\n",
              "        vertical-align: middle;\n",
              "    }\n",
              "\n",
              "    .dataframe tbody tr th {\n",
              "        vertical-align: top;\n",
              "    }\n",
              "\n",
              "    .dataframe thead th {\n",
              "        text-align: right;\n",
              "    }\n",
              "</style>\n",
              "<table border=\"1\" class=\"dataframe\">\n",
              "  <thead>\n",
              "    <tr style=\"text-align: right;\">\n",
              "      <th></th>\n",
              "      <th>Prediction</th>\n",
              "    </tr>\n",
              "    <tr>\n",
              "      <th>date</th>\n",
              "      <th></th>\n",
              "    </tr>\n",
              "  </thead>\n",
              "  <tbody>\n",
              "    <tr>\n",
              "      <th>2020-10-13 00:00:00+00:00</th>\n",
              "      <td>195.218377</td>\n",
              "    </tr>\n",
              "    <tr>\n",
              "      <th>2020-10-14 00:00:00+00:00</th>\n",
              "      <td>197.730590</td>\n",
              "    </tr>\n",
              "    <tr>\n",
              "      <th>2020-10-15 00:00:00+00:00</th>\n",
              "      <td>200.352997</td>\n",
              "    </tr>\n",
              "    <tr>\n",
              "      <th>2020-10-16 00:00:00+00:00</th>\n",
              "      <td>202.942744</td>\n",
              "    </tr>\n",
              "    <tr>\n",
              "      <th>2020-10-19 00:00:00+00:00</th>\n",
              "      <td>205.486155</td>\n",
              "    </tr>\n",
              "    <tr>\n",
              "      <th>...</th>\n",
              "      <td>...</td>\n",
              "    </tr>\n",
              "    <tr>\n",
              "      <th>2021-03-02 00:00:00+00:00</th>\n",
              "      <td>232.023182</td>\n",
              "    </tr>\n",
              "    <tr>\n",
              "      <th>2021-03-03 00:00:00+00:00</th>\n",
              "      <td>232.023157</td>\n",
              "    </tr>\n",
              "    <tr>\n",
              "      <th>2021-03-04 00:00:00+00:00</th>\n",
              "      <td>232.023140</td>\n",
              "    </tr>\n",
              "    <tr>\n",
              "      <th>2021-03-05 00:00:00+00:00</th>\n",
              "      <td>232.023140</td>\n",
              "    </tr>\n",
              "    <tr>\n",
              "      <th>2021-03-08 00:00:00+00:00</th>\n",
              "      <td>232.023132</td>\n",
              "    </tr>\n",
              "  </tbody>\n",
              "</table>\n",
              "<p>100 rows × 1 columns</p>\n",
              "</div>"
            ],
            "text/plain": [
              "                           Prediction\n",
              "date                                 \n",
              "2020-10-13 00:00:00+00:00  195.218377\n",
              "2020-10-14 00:00:00+00:00  197.730590\n",
              "2020-10-15 00:00:00+00:00  200.352997\n",
              "2020-10-16 00:00:00+00:00  202.942744\n",
              "2020-10-19 00:00:00+00:00  205.486155\n",
              "...                               ...\n",
              "2021-03-02 00:00:00+00:00  232.023182\n",
              "2021-03-03 00:00:00+00:00  232.023157\n",
              "2021-03-04 00:00:00+00:00  232.023140\n",
              "2021-03-05 00:00:00+00:00  232.023140\n",
              "2021-03-08 00:00:00+00:00  232.023132\n",
              "\n",
              "[100 rows x 1 columns]"
            ]
          },
          "metadata": {
            "tags": []
          },
          "execution_count": 29
        }
      ]
    },
    {
      "cell_type": "markdown",
      "metadata": {
        "id": "pSM8bZz0B7qx"
      },
      "source": [
        "## Step 9 : Prediction + Actual"
      ]
    },
    {
      "cell_type": "code",
      "metadata": {
        "id": "s5GyitSjzV2W"
      },
      "source": [
        "df_test = pd.concat([df,df_predict], axis=1)"
      ],
      "execution_count": 30,
      "outputs": []
    },
    {
      "cell_type": "code",
      "metadata": {
        "colab": {
          "base_uri": "https://localhost:8080/",
          "height": 0
        },
        "id": "axA2yEpqzV2a",
        "outputId": "b5505a84-826c-4233-c496-6d1a51942c5f"
      },
      "source": [
        "# Just to do sanity check that there is no prediction beyond our test window\n",
        "df_test[-102:]"
      ],
      "execution_count": 31,
      "outputs": [
        {
          "output_type": "execute_result",
          "data": {
            "text/html": [
              "<div>\n",
              "<style scoped>\n",
              "    .dataframe tbody tr th:only-of-type {\n",
              "        vertical-align: middle;\n",
              "    }\n",
              "\n",
              "    .dataframe tbody tr th {\n",
              "        vertical-align: top;\n",
              "    }\n",
              "\n",
              "    .dataframe thead th {\n",
              "        text-align: right;\n",
              "    }\n",
              "</style>\n",
              "<table border=\"1\" class=\"dataframe\">\n",
              "  <thead>\n",
              "    <tr style=\"text-align: right;\">\n",
              "      <th></th>\n",
              "      <th>close</th>\n",
              "      <th>Prediction</th>\n",
              "    </tr>\n",
              "    <tr>\n",
              "      <th>date</th>\n",
              "      <th></th>\n",
              "      <th></th>\n",
              "    </tr>\n",
              "  </thead>\n",
              "  <tbody>\n",
              "    <tr>\n",
              "      <th>2020-10-09 00:00:00+00:00</th>\n",
              "      <td>116.97</td>\n",
              "      <td>NaN</td>\n",
              "    </tr>\n",
              "    <tr>\n",
              "      <th>2020-10-12 00:00:00+00:00</th>\n",
              "      <td>124.40</td>\n",
              "      <td>NaN</td>\n",
              "    </tr>\n",
              "    <tr>\n",
              "      <th>2020-10-13 00:00:00+00:00</th>\n",
              "      <td>121.10</td>\n",
              "      <td>195.218377</td>\n",
              "    </tr>\n",
              "    <tr>\n",
              "      <th>2020-10-14 00:00:00+00:00</th>\n",
              "      <td>121.19</td>\n",
              "      <td>197.730590</td>\n",
              "    </tr>\n",
              "    <tr>\n",
              "      <th>2020-10-15 00:00:00+00:00</th>\n",
              "      <td>120.71</td>\n",
              "      <td>200.352997</td>\n",
              "    </tr>\n",
              "    <tr>\n",
              "      <th>...</th>\n",
              "      <td>...</td>\n",
              "      <td>...</td>\n",
              "    </tr>\n",
              "    <tr>\n",
              "      <th>2021-03-02 00:00:00+00:00</th>\n",
              "      <td>125.12</td>\n",
              "      <td>232.023182</td>\n",
              "    </tr>\n",
              "    <tr>\n",
              "      <th>2021-03-03 00:00:00+00:00</th>\n",
              "      <td>122.06</td>\n",
              "      <td>232.023157</td>\n",
              "    </tr>\n",
              "    <tr>\n",
              "      <th>2021-03-04 00:00:00+00:00</th>\n",
              "      <td>120.13</td>\n",
              "      <td>232.023140</td>\n",
              "    </tr>\n",
              "    <tr>\n",
              "      <th>2021-03-05 00:00:00+00:00</th>\n",
              "      <td>121.42</td>\n",
              "      <td>232.023140</td>\n",
              "    </tr>\n",
              "    <tr>\n",
              "      <th>2021-03-08 00:00:00+00:00</th>\n",
              "      <td>116.36</td>\n",
              "      <td>232.023132</td>\n",
              "    </tr>\n",
              "  </tbody>\n",
              "</table>\n",
              "<p>102 rows × 2 columns</p>\n",
              "</div>"
            ],
            "text/plain": [
              "                            close  Prediction\n",
              "date                                         \n",
              "2020-10-09 00:00:00+00:00  116.97         NaN\n",
              "2020-10-12 00:00:00+00:00  124.40         NaN\n",
              "2020-10-13 00:00:00+00:00  121.10  195.218377\n",
              "2020-10-14 00:00:00+00:00  121.19  197.730590\n",
              "2020-10-15 00:00:00+00:00  120.71  200.352997\n",
              "...                           ...         ...\n",
              "2021-03-02 00:00:00+00:00  125.12  232.023182\n",
              "2021-03-03 00:00:00+00:00  122.06  232.023157\n",
              "2021-03-04 00:00:00+00:00  120.13  232.023140\n",
              "2021-03-05 00:00:00+00:00  121.42  232.023140\n",
              "2021-03-08 00:00:00+00:00  116.36  232.023132\n",
              "\n",
              "[102 rows x 2 columns]"
            ]
          },
          "metadata": {
            "tags": []
          },
          "execution_count": 31
        }
      ]
    },
    {
      "cell_type": "markdown",
      "metadata": {
        "id": "xAq2zxRGB7qy"
      },
      "source": [
        "## Step 10 : Evaluation"
      ]
    },
    {
      "cell_type": "code",
      "metadata": {
        "colab": {
          "base_uri": "https://localhost:8080/"
        },
        "id": "PSuO8RxSzV2b",
        "outputId": "5b82fa82-b6ad-4bc8-fbaf-02be16acebbd"
      },
      "source": [
        "from sklearn.metrics import max_error\n",
        "from sklearn.metrics import mean_squared_error\n",
        "from sklearn.metrics import mean_absolute_error\n",
        "\n",
        "test_errors = {}\n",
        "\n",
        "test_errors ['MAX_Error'] = max_error(df_test.iloc[-n_input:, [0]], df_test.iloc[-n_input:, [1]])\n",
        "test_errors ['MAE'] = mean_absolute_error(df_test.iloc[-n_input:, [0]], df_test.iloc[-n_input:, [1]])\n",
        "test_errors ['RMSE'] = mean_squared_error(df_test.iloc[-n_input:, [0]], df_test.iloc[-n_input:, [1]], squared=False)\n",
        "test_errors ['MSE'] = mean_squared_error(df_test.iloc[-n_input:, [0]], df_test.iloc[-n_input:, [1]], squared=True)\n",
        "\n",
        "pd.Series(test_errors)\n"
      ],
      "execution_count": 34,
      "outputs": [
        {
          "output_type": "execute_result",
          "data": {
            "text/plain": [
              "MAX_Error      117.616610\n",
              "MAE            103.239031\n",
              "RMSE           103.597879\n",
              "MSE          10732.520567\n",
              "dtype: float64"
            ]
          },
          "metadata": {
            "tags": []
          },
          "execution_count": 34
        }
      ]
    },
    {
      "cell_type": "code",
      "metadata": {
        "colab": {
          "base_uri": "https://localhost:8080/",
          "height": 77
        },
        "id": "uiv9ItRKRSdg",
        "outputId": "a372ddfe-3c99-4c18-aa2e-9a19410d9d20"
      },
      "source": [
        "loss.tail(1)"
      ],
      "execution_count": 36,
      "outputs": [
        {
          "output_type": "execute_result",
          "data": {
            "text/html": [
              "<div>\n",
              "<style scoped>\n",
              "    .dataframe tbody tr th:only-of-type {\n",
              "        vertical-align: middle;\n",
              "    }\n",
              "\n",
              "    .dataframe tbody tr th {\n",
              "        vertical-align: top;\n",
              "    }\n",
              "\n",
              "    .dataframe thead th {\n",
              "        text-align: right;\n",
              "    }\n",
              "</style>\n",
              "<table border=\"1\" class=\"dataframe\">\n",
              "  <thead>\n",
              "    <tr style=\"text-align: right;\">\n",
              "      <th></th>\n",
              "      <th>loss</th>\n",
              "      <th>val_loss</th>\n",
              "    </tr>\n",
              "  </thead>\n",
              "  <tbody>\n",
              "    <tr>\n",
              "      <th>99</th>\n",
              "      <td>0.000461</td>\n",
              "      <td>0.157754</td>\n",
              "    </tr>\n",
              "  </tbody>\n",
              "</table>\n",
              "</div>"
            ],
            "text/plain": [
              "        loss  val_loss\n",
              "99  0.000461  0.157754"
            ]
          },
          "metadata": {
            "tags": []
          },
          "execution_count": 36
        }
      ]
    },
    {
      "cell_type": "markdown",
      "metadata": {
        "tags": [],
        "id": "oY5GQ1U8B7q0"
      },
      "source": [
        "## Step 11 : Plot"
      ]
    },
    {
      "cell_type": "code",
      "metadata": {
        "colab": {
          "base_uri": "https://localhost:8080/",
          "height": 270
        },
        "id": "ETUSyy7KzV2c",
        "outputId": "da061d04-adb9-4501-9520-8e93015bf49f"
      },
      "source": [
        "plt.figure(figsize=(20, 5))\n",
        "plt.plot(df_test.index, df_test['close'])\n",
        "plt.plot(df_test.index, df_test['Prediction'], color='r')\n",
        "plt.legend([\"close\", \"Prediction\"], loc='best', fontsize='xx-large')\n",
        "plt.xticks(fontsize=18)\n",
        "plt.yticks(fontsize=16)\n",
        "plt.show()"
      ],
      "execution_count": 37,
      "outputs": [
        {
          "output_type": "display_data",
          "data": {
            "image/png": "[encoded data removed]",
            "text/plain": [
              "<Figure size 1440x360 with 1 Axes>"
            ]
          },
          "metadata": {
            "tags": [],
            "needs_background": "light"
          }
        }
      ]
    },
    {
      "cell_type": "markdown",
      "metadata": {
        "id": "cYg_75oTB7q1"
      },
      "source": [
        "## Step 12 : Future Forecasting"
      ]
    },
    {
      "cell_type": "markdown",
      "metadata": {
        "tags": [],
        "id": "AMrycL_CB7q1"
      },
      "source": [
        "### Optional : "
      ]
    },
    {
      "cell_type": "code",
      "metadata": {
        "id": "i8G7qxXBzV2e"
      },
      "source": [
        "# optional if we want to re-train for the full dataset (no test train ds)\n",
        "'''\n",
        "train = df\n",
        "len(train)\n",
        "scaler.fit(train)\n",
        "train = scaler.transform(train)\n",
        "\n",
        "generator = TimeseriesGenerator(train, \n",
        "                                train, \n",
        "                                length = n_input, \n",
        "                                batch_size = n_batch_size)\n",
        "\n",
        "model.fit(generator,epochs=100)\n",
        "'''"
      ],
      "execution_count": null,
      "outputs": []
    },
    {
      "cell_type": "markdown",
      "metadata": {
        "tags": [],
        "id": "B5HE644_B7q2"
      },
      "source": [
        "### Prediction : "
      ]
    },
    {
      "cell_type": "code",
      "metadata": {
        "id": "S0UaEEJwzV2g"
      },
      "source": [
        "future_days = 30   # 30 days\n",
        "\n",
        "pred_list = []\n",
        "\n",
        "batch = train[-n_input:].reshape((1, n_input, n_features))\n",
        "\n",
        "for i in range(future_days):   \n",
        "    pred_list.append(model.predict(batch)[0]) \n",
        "    batch = np.append(batch[:,1:,:],\n",
        "                      [[pred_list[i]]],\n",
        "                      axis=1)"
      ],
      "execution_count": 38,
      "outputs": []
    },
    {
      "cell_type": "code",
      "metadata": {
        "id": "DgOZl8ASzV2h"
      },
      "source": [
        "from pandas.tseries.offsets import DateOffset\n",
        "add_dates = [df.index[-1] + DateOffset(days=x) for x in range(0, future_days + 1) ]\n",
        "future_dates = pd.DataFrame(index = add_dates[1:],\n",
        "                            columns = df.columns)"
      ],
      "execution_count": 39,
      "outputs": []
    },
    {
      "cell_type": "code",
      "metadata": {
        "colab": {
          "base_uri": "https://localhost:8080/"
        },
        "id": "pBFIb-CizV2h",
        "outputId": "481a36f5-2bd7-4b1e-e5eb-49b02bef1491"
      },
      "source": [
        "len(future_dates)"
      ],
      "execution_count": 40,
      "outputs": [
        {
          "output_type": "execute_result",
          "data": {
            "text/plain": [
              "30"
            ]
          },
          "metadata": {
            "tags": []
          },
          "execution_count": 40
        }
      ]
    },
    {
      "cell_type": "code",
      "metadata": {
        "id": "tPcsdCNezV2i"
      },
      "source": [
        "df_predict = pd.DataFrame(scaler.inverse_transform(pred_list),\n",
        "                          index=future_dates[-future_days:].index, \n",
        "                          columns=['Prediction'])"
      ],
      "execution_count": 41,
      "outputs": []
    },
    {
      "cell_type": "code",
      "metadata": {
        "id": "Yiku7mSTzV2i"
      },
      "source": [
        "df_projected = pd.concat([df,df_predict], axis=1)"
      ],
      "execution_count": 42,
      "outputs": []
    },
    {
      "cell_type": "code",
      "metadata": {
        "id": "p1R6z2OHzV2j",
        "colab": {
          "base_uri": "https://localhost:8080/",
          "height": 270
        },
        "outputId": "aa6e3d29-1a6d-4013-9f78-38b0af5a6f91"
      },
      "source": [
        "plt.figure(figsize=(20, 5))\n",
        "plt.plot(df_projected.index, df_projected['close'])\n",
        "plt.plot(df_projected.index, df_projected['Prediction'], color='r')\n",
        "plt.legend([\"close\", \"Prediction\"], loc='best', fontsize='xx-large')\n",
        "plt.xticks(fontsize=18)\n",
        "plt.yticks(fontsize=16)\n",
        "plt.show()"
      ],
      "execution_count": 43,
      "outputs": [
        {
          "output_type": "display_data",
          "data": {
            "image/png": "[encoded data removed]",
            "text/plain": [
              "<Figure size 1440x360 with 1 Axes>"
            ]
          },
          "metadata": {
            "tags": [],
            "needs_background": "light"
          }
        }
      ]
    },
    {
      "cell_type": "markdown",
      "metadata": {
        "id": "TKOGGNbnzV2k"
      },
      "source": [
        "## Conclusion : "
      ]
    },
    {
      "cell_type": "code",
      "metadata": {
        "id": "5UecYepdB7q6"
      },
      "source": [
        ""
      ],
      "execution_count": null,
      "outputs": []
    }
  ]
}