{
 "cells": [
  {
   "cell_type": "markdown",
   "metadata": {
    "id": "IC-mh5vfEwuu"
   },
   "source": [
    "# This time train is using the full df for the future forecasting\n",
    "train = df\n",
    "len(train)### Stock Market Prediction And Forecasting Using Stacked LSTM"
   ]
  },
  {
   "cell_type": "code",
   "execution_count": 1,
   "metadata": {
    "id": "LlebCpebEwu2"
   },
   "outputs": [],
   "source": [
    "import math\n",
    "import numpy as np\n",
    "import pandas as pd\n",
    "import matplotlib.pyplot as plt\n",
    "import pandas_datareader as pdr\n",
    "import tensorflow as tf\n",
    "\n",
    "from sklearn.metrics import mean_squared_error\n",
    "from tensorflow.keras.preprocessing.sequence import TimeseriesGenerator\n",
    "from tensorflow.keras.models import Sequential\n",
    "from tensorflow.keras.layers import Dense\n",
    "from tensorflow.keras.layers import LSTM"
   ]
  },
  {
   "cell_type": "code",
   "execution_count": 2,
   "metadata": {
    "id": "KnRj0GIMEwu3"
   },
   "outputs": [],
   "source": [
    "KEY = \"e46970bde5460c8e6caece2452083771f7320e41\""
   ]
  },
  {
   "cell_type": "code",
   "execution_count": 3,
   "metadata": {
    "colab": {
     "base_uri": "https://localhost:8080/"
    },
    "id": "NXIrZNWmEwu4",
    "outputId": "74e3f8ad-2767-48c3-89a9-e57b4cbe5e31"
   },
   "outputs": [
    {
     "name": "stdout",
     "output_type": "stream",
     "text": [
      "<class 'pandas.core.frame.DataFrame'>\n",
      "RangeIndex: 1257 entries, 0 to 1256\n",
      "Data columns (total 14 columns):\n",
      " #   Column       Non-Null Count  Dtype  \n",
      "---  ------       --------------  -----  \n",
      " 0   symbol       1257 non-null   object \n",
      " 1   date         1257 non-null   object \n",
      " 2   close        1257 non-null   float64\n",
      " 3   high         1257 non-null   float64\n",
      " 4   low          1257 non-null   float64\n",
      " 5   open         1257 non-null   float64\n",
      " 6   volume       1257 non-null   int64  \n",
      " 7   adjClose     1257 non-null   float64\n",
      " 8   adjHigh      1257 non-null   float64\n",
      " 9   adjLow       1257 non-null   float64\n",
      " 10  adjOpen      1257 non-null   float64\n",
      " 11  adjVolume    1257 non-null   int64  \n",
      " 12  divCash      1257 non-null   float64\n",
      " 13  splitFactor  1257 non-null   float64\n",
      "dtypes: float64(10), int64(2), object(2)\n",
      "memory usage: 137.6+ KB\n"
     ]
    }
   ],
   "source": [
    "df_master = pdr.get_data_tiingo('AAPL', api_key = KEY)\n",
    "df_master.to_csv('AAPL.csv')\n",
    "df_master=pd.read_csv('AAPL.csv')\n",
    "df_master.info()"
   ]
  },
  {
   "cell_type": "code",
   "execution_count": 4,
   "metadata": {
    "colab": {
     "base_uri": "https://localhost:8080/",
     "height": 305
    },
    "id": "selOcYqMOlY5",
    "outputId": "832a7ea9-e11d-4975-d95c-699089f73617"
   },
   "outputs": [
    {
     "data": {
      "text/html": [
       "<div>\n",
       "<style scoped>\n",
       "    .dataframe tbody tr th:only-of-type {\n",
       "        vertical-align: middle;\n",
       "    }\n",
       "\n",
       "    .dataframe tbody tr th {\n",
       "        vertical-align: top;\n",
       "    }\n",
       "\n",
       "    .dataframe thead th {\n",
       "        text-align: right;\n",
       "    }\n",
       "</style>\n",
       "<table border=\"1\" class=\"dataframe\">\n",
       "  <thead>\n",
       "    <tr style=\"text-align: right;\">\n",
       "      <th></th>\n",
       "      <th>symbol</th>\n",
       "      <th>date</th>\n",
       "      <th>close</th>\n",
       "      <th>high</th>\n",
       "      <th>low</th>\n",
       "      <th>open</th>\n",
       "      <th>volume</th>\n",
       "      <th>adjClose</th>\n",
       "      <th>adjHigh</th>\n",
       "      <th>adjLow</th>\n",
       "      <th>adjOpen</th>\n",
       "      <th>adjVolume</th>\n",
       "      <th>divCash</th>\n",
       "      <th>splitFactor</th>\n",
       "    </tr>\n",
       "  </thead>\n",
       "  <tbody>\n",
       "    <tr>\n",
       "      <th>0</th>\n",
       "      <td>AAPL</td>\n",
       "      <td>2016-01-06 00:00:00+00:00</td>\n",
       "      <td>100.70</td>\n",
       "      <td>102.37</td>\n",
       "      <td>99.8700</td>\n",
       "      <td>100.56</td>\n",
       "      <td>68457388</td>\n",
       "      <td>23.320970</td>\n",
       "      <td>23.707723</td>\n",
       "      <td>23.128752</td>\n",
       "      <td>23.288548</td>\n",
       "      <td>273829552</td>\n",
       "      <td>0.0</td>\n",
       "      <td>1.0</td>\n",
       "    </tr>\n",
       "    <tr>\n",
       "      <th>1</th>\n",
       "      <td>AAPL</td>\n",
       "      <td>2016-01-07 00:00:00+00:00</td>\n",
       "      <td>96.45</td>\n",
       "      <td>100.13</td>\n",
       "      <td>96.4300</td>\n",
       "      <td>98.68</td>\n",
       "      <td>81094428</td>\n",
       "      <td>22.336719</td>\n",
       "      <td>23.188965</td>\n",
       "      <td>22.332087</td>\n",
       "      <td>22.853161</td>\n",
       "      <td>324377712</td>\n",
       "      <td>0.0</td>\n",
       "      <td>1.0</td>\n",
       "    </tr>\n",
       "    <tr>\n",
       "      <th>2</th>\n",
       "      <td>AAPL</td>\n",
       "      <td>2016-01-08 00:00:00+00:00</td>\n",
       "      <td>96.96</td>\n",
       "      <td>99.11</td>\n",
       "      <td>96.7600</td>\n",
       "      <td>98.55</td>\n",
       "      <td>70798016</td>\n",
       "      <td>22.454829</td>\n",
       "      <td>22.952744</td>\n",
       "      <td>22.408511</td>\n",
       "      <td>22.823055</td>\n",
       "      <td>283192064</td>\n",
       "      <td>0.0</td>\n",
       "      <td>1.0</td>\n",
       "    </tr>\n",
       "    <tr>\n",
       "      <th>3</th>\n",
       "      <td>AAPL</td>\n",
       "      <td>2016-01-11 00:00:00+00:00</td>\n",
       "      <td>98.53</td>\n",
       "      <td>99.06</td>\n",
       "      <td>97.3400</td>\n",
       "      <td>98.97</td>\n",
       "      <td>49739377</td>\n",
       "      <td>22.818423</td>\n",
       "      <td>22.941165</td>\n",
       "      <td>22.542833</td>\n",
       "      <td>22.920322</td>\n",
       "      <td>198957508</td>\n",
       "      <td>0.0</td>\n",
       "      <td>1.0</td>\n",
       "    </tr>\n",
       "    <tr>\n",
       "      <th>4</th>\n",
       "      <td>AAPL</td>\n",
       "      <td>2016-01-12 00:00:00+00:00</td>\n",
       "      <td>99.96</td>\n",
       "      <td>100.69</td>\n",
       "      <td>98.8399</td>\n",
       "      <td>100.55</td>\n",
       "      <td>49154227</td>\n",
       "      <td>23.149595</td>\n",
       "      <td>23.318654</td>\n",
       "      <td>22.890192</td>\n",
       "      <td>23.286232</td>\n",
       "      <td>196616908</td>\n",
       "      <td>0.0</td>\n",
       "      <td>1.0</td>\n",
       "    </tr>\n",
       "  </tbody>\n",
       "</table>\n",
       "</div>"
      ],
      "text/plain": [
       "  symbol                       date   close    high      low    open  \\\n",
       "0   AAPL  2016-01-06 00:00:00+00:00  100.70  102.37  99.8700  100.56   \n",
       "1   AAPL  2016-01-07 00:00:00+00:00   96.45  100.13  96.4300   98.68   \n",
       "2   AAPL  2016-01-08 00:00:00+00:00   96.96   99.11  96.7600   98.55   \n",
       "3   AAPL  2016-01-11 00:00:00+00:00   98.53   99.06  97.3400   98.97   \n",
       "4   AAPL  2016-01-12 00:00:00+00:00   99.96  100.69  98.8399  100.55   \n",
       "\n",
       "     volume   adjClose    adjHigh     adjLow    adjOpen  adjVolume  divCash  \\\n",
       "0  68457388  23.320970  23.707723  23.128752  23.288548  273829552      0.0   \n",
       "1  81094428  22.336719  23.188965  22.332087  22.853161  324377712      0.0   \n",
       "2  70798016  22.454829  22.952744  22.408511  22.823055  283192064      0.0   \n",
       "3  49739377  22.818423  22.941165  22.542833  22.920322  198957508      0.0   \n",
       "4  49154227  23.149595  23.318654  22.890192  23.286232  196616908      0.0   \n",
       "\n",
       "   splitFactor  \n",
       "0          1.0  \n",
       "1          1.0  \n",
       "2          1.0  \n",
       "3          1.0  \n",
       "4          1.0  "
      ]
     },
     "execution_count": 4,
     "metadata": {},
     "output_type": "execute_result"
    }
   ],
   "source": [
    "df_master.head()"
   ]
  },
  {
   "cell_type": "code",
   "execution_count": 5,
   "metadata": {
    "colab": {
     "base_uri": "https://localhost:8080/",
     "height": 305
    },
    "id": "PgPnjBXBEwu6",
    "outputId": "fdca9946-a48b-435f-e50f-9b1301e25d60"
   },
   "outputs": [
    {
     "data": {
      "text/html": [
       "<div>\n",
       "<style scoped>\n",
       "    .dataframe tbody tr th:only-of-type {\n",
       "        vertical-align: middle;\n",
       "    }\n",
       "\n",
       "    .dataframe tbody tr th {\n",
       "        vertical-align: top;\n",
       "    }\n",
       "\n",
       "    .dataframe thead th {\n",
       "        text-align: right;\n",
       "    }\n",
       "</style>\n",
       "<table border=\"1\" class=\"dataframe\">\n",
       "  <thead>\n",
       "    <tr style=\"text-align: right;\">\n",
       "      <th></th>\n",
       "      <th>symbol</th>\n",
       "      <th>date</th>\n",
       "      <th>close</th>\n",
       "      <th>high</th>\n",
       "      <th>low</th>\n",
       "      <th>open</th>\n",
       "      <th>volume</th>\n",
       "      <th>adjClose</th>\n",
       "      <th>adjHigh</th>\n",
       "      <th>adjLow</th>\n",
       "      <th>adjOpen</th>\n",
       "      <th>adjVolume</th>\n",
       "      <th>divCash</th>\n",
       "      <th>splitFactor</th>\n",
       "    </tr>\n",
       "  </thead>\n",
       "  <tbody>\n",
       "    <tr>\n",
       "      <th>1252</th>\n",
       "      <td>AAPL</td>\n",
       "      <td>2020-12-24 00:00:00+00:00</td>\n",
       "      <td>131.97</td>\n",
       "      <td>133.460</td>\n",
       "      <td>131.1000</td>\n",
       "      <td>131.32</td>\n",
       "      <td>54930064</td>\n",
       "      <td>131.97</td>\n",
       "      <td>133.460</td>\n",
       "      <td>131.1000</td>\n",
       "      <td>131.32</td>\n",
       "      <td>54930064</td>\n",
       "      <td>0.0</td>\n",
       "      <td>1.0</td>\n",
       "    </tr>\n",
       "    <tr>\n",
       "      <th>1253</th>\n",
       "      <td>AAPL</td>\n",
       "      <td>2020-12-28 00:00:00+00:00</td>\n",
       "      <td>136.69</td>\n",
       "      <td>137.340</td>\n",
       "      <td>133.5100</td>\n",
       "      <td>133.99</td>\n",
       "      <td>123124632</td>\n",
       "      <td>136.69</td>\n",
       "      <td>137.340</td>\n",
       "      <td>133.5100</td>\n",
       "      <td>133.99</td>\n",
       "      <td>123124632</td>\n",
       "      <td>0.0</td>\n",
       "      <td>1.0</td>\n",
       "    </tr>\n",
       "    <tr>\n",
       "      <th>1254</th>\n",
       "      <td>AAPL</td>\n",
       "      <td>2020-12-29 00:00:00+00:00</td>\n",
       "      <td>134.87</td>\n",
       "      <td>138.789</td>\n",
       "      <td>134.3409</td>\n",
       "      <td>138.05</td>\n",
       "      <td>121047324</td>\n",
       "      <td>134.87</td>\n",
       "      <td>138.789</td>\n",
       "      <td>134.3409</td>\n",
       "      <td>138.05</td>\n",
       "      <td>121047324</td>\n",
       "      <td>0.0</td>\n",
       "      <td>1.0</td>\n",
       "    </tr>\n",
       "    <tr>\n",
       "      <th>1255</th>\n",
       "      <td>AAPL</td>\n",
       "      <td>2020-12-30 00:00:00+00:00</td>\n",
       "      <td>133.72</td>\n",
       "      <td>135.990</td>\n",
       "      <td>133.4000</td>\n",
       "      <td>135.58</td>\n",
       "      <td>96452124</td>\n",
       "      <td>133.72</td>\n",
       "      <td>135.990</td>\n",
       "      <td>133.4000</td>\n",
       "      <td>135.58</td>\n",
       "      <td>96452124</td>\n",
       "      <td>0.0</td>\n",
       "      <td>1.0</td>\n",
       "    </tr>\n",
       "    <tr>\n",
       "      <th>1256</th>\n",
       "      <td>AAPL</td>\n",
       "      <td>2020-12-31 00:00:00+00:00</td>\n",
       "      <td>132.69</td>\n",
       "      <td>134.740</td>\n",
       "      <td>131.7200</td>\n",
       "      <td>134.08</td>\n",
       "      <td>99116586</td>\n",
       "      <td>132.69</td>\n",
       "      <td>134.740</td>\n",
       "      <td>131.7200</td>\n",
       "      <td>134.08</td>\n",
       "      <td>99116586</td>\n",
       "      <td>0.0</td>\n",
       "      <td>1.0</td>\n",
       "    </tr>\n",
       "  </tbody>\n",
       "</table>\n",
       "</div>"
      ],
      "text/plain": [
       "     symbol                       date   close     high       low    open  \\\n",
       "1252   AAPL  2020-12-24 00:00:00+00:00  131.97  133.460  131.1000  131.32   \n",
       "1253   AAPL  2020-12-28 00:00:00+00:00  136.69  137.340  133.5100  133.99   \n",
       "1254   AAPL  2020-12-29 00:00:00+00:00  134.87  138.789  134.3409  138.05   \n",
       "1255   AAPL  2020-12-30 00:00:00+00:00  133.72  135.990  133.4000  135.58   \n",
       "1256   AAPL  2020-12-31 00:00:00+00:00  132.69  134.740  131.7200  134.08   \n",
       "\n",
       "         volume  adjClose  adjHigh    adjLow  adjOpen  adjVolume  divCash  \\\n",
       "1252   54930064    131.97  133.460  131.1000   131.32   54930064      0.0   \n",
       "1253  123124632    136.69  137.340  133.5100   133.99  123124632      0.0   \n",
       "1254  121047324    134.87  138.789  134.3409   138.05  121047324      0.0   \n",
       "1255   96452124    133.72  135.990  133.4000   135.58   96452124      0.0   \n",
       "1256   99116586    132.69  134.740  131.7200   134.08   99116586      0.0   \n",
       "\n",
       "      splitFactor  \n",
       "1252          1.0  \n",
       "1253          1.0  \n",
       "1254          1.0  \n",
       "1255          1.0  \n",
       "1256          1.0  "
      ]
     },
     "execution_count": 5,
     "metadata": {},
     "output_type": "execute_result"
    }
   ],
   "source": [
    "df_master.tail()"
   ]
  },
  {
   "cell_type": "code",
   "execution_count": 6,
   "metadata": {
    "id": "dQB4m5wSEwu6"
   },
   "outputs": [],
   "source": [
    "#df1 = df_master.reset_index()['close']"
   ]
  },
  {
   "cell_type": "code",
   "execution_count": 7,
   "metadata": {
    "id": "qFe3q3q_OlY7"
   },
   "outputs": [],
   "source": [
    "df = df_master[['date','close']].copy()"
   ]
  },
  {
   "cell_type": "code",
   "execution_count": 8,
   "metadata": {
    "colab": {
     "base_uri": "https://localhost:8080/"
    },
    "id": "fftolsL3OlY7",
    "outputId": "3f2b7f93-4330-4749-c74e-17fa783b16a4"
   },
   "outputs": [
    {
     "name": "stdout",
     "output_type": "stream",
     "text": [
      "<class 'pandas.core.frame.DataFrame'>\n",
      "RangeIndex: 1257 entries, 0 to 1256\n",
      "Data columns (total 2 columns):\n",
      " #   Column  Non-Null Count  Dtype  \n",
      "---  ------  --------------  -----  \n",
      " 0   date    1257 non-null   object \n",
      " 1   close   1257 non-null   float64\n",
      "dtypes: float64(1), object(1)\n",
      "memory usage: 19.8+ KB\n"
     ]
    }
   ],
   "source": [
    "df.info()"
   ]
  },
  {
   "cell_type": "code",
   "execution_count": 9,
   "metadata": {
    "id": "a5s3ZZCUOlY7"
   },
   "outputs": [],
   "source": [
    "df['date']= pd.to_datetime(df['date'])"
   ]
  },
  {
   "cell_type": "code",
   "execution_count": 10,
   "metadata": {
    "colab": {
     "base_uri": "https://localhost:8080/"
    },
    "id": "Ty3IGHpvOlY8",
    "outputId": "a3c2c212-edb5-4a79-f7a4-0cb712cafdf5"
   },
   "outputs": [
    {
     "data": {
      "text/plain": [
       "0       2016-01-06\n",
       "1       2016-01-07\n",
       "2       2016-01-08\n",
       "3       2016-01-11\n",
       "4       2016-01-12\n",
       "           ...    \n",
       "1252    2020-12-24\n",
       "1253    2020-12-28\n",
       "1254    2020-12-29\n",
       "1255    2020-12-30\n",
       "1256    2020-12-31\n",
       "Name: date, Length: 1257, dtype: object"
      ]
     },
     "execution_count": 10,
     "metadata": {},
     "output_type": "execute_result"
    }
   ],
   "source": [
    "df['date'].dt.strftime('%Y-%m-%d')"
   ]
  },
  {
   "cell_type": "code",
   "execution_count": 11,
   "metadata": {
    "id": "4vqag_XjOlY8"
   },
   "outputs": [],
   "source": [
    "df.set_index('date', inplace = True)"
   ]
  },
  {
   "cell_type": "code",
   "execution_count": 12,
   "metadata": {
    "colab": {
     "base_uri": "https://localhost:8080/",
     "height": 482
    },
    "id": "ay_dQMawEwu7",
    "outputId": "70e4e687-336d-4db0-879e-f8dcdad43147"
   },
   "outputs": [
    {
     "data": {
      "text/plain": [
       "<AxesSubplot:xlabel='date'>"
      ]
     },
     "execution_count": 12,
     "metadata": {},
     "output_type": "execute_result"
    },
    {
     "data": {
      "image/png": "[encoded data removed]",
      "text/plain": [
       "<Figure size 864x576 with 1 Axes>"
      ]
     },
     "metadata": {
      "needs_background": "light"
     },
     "output_type": "display_data"
    }
   ],
   "source": [
    "df.plot(figsize=(12,8))"
   ]
  },
  {
   "cell_type": "code",
   "execution_count": 13,
   "metadata": {
    "colab": {
     "base_uri": "https://localhost:8080/"
    },
    "id": "R_cuw6BsOlZB",
    "outputId": "73533bc0-e6d5-4c2f-ce36-96b938b5123a"
   },
   "outputs": [
    {
     "data": {
      "text/plain": [
       "1257"
      ]
     },
     "execution_count": 13,
     "metadata": {},
     "output_type": "execute_result"
    }
   ],
   "source": [
    "len(df)"
   ]
  },
  {
   "cell_type": "code",
   "execution_count": 14,
   "metadata": {
    "id": "WZ5Oj096OlZB"
   },
   "outputs": [],
   "source": [
    "test_size =  int(len(df)*0.35)\n",
    "test_ind = len(df)- test_size"
   ]
  },
  {
   "cell_type": "code",
   "execution_count": 15,
   "metadata": {
    "colab": {
     "base_uri": "https://localhost:8080/"
    },
    "id": "sojDtaA3OlZC",
    "outputId": "131740ca-d6bd-48ed-e72d-930cc173cbc3"
   },
   "outputs": [
    {
     "data": {
      "text/plain": [
       "439"
      ]
     },
     "execution_count": 15,
     "metadata": {},
     "output_type": "execute_result"
    }
   ],
   "source": [
    "test_size"
   ]
  },
  {
   "cell_type": "code",
   "execution_count": 16,
   "metadata": {
    "id": "XvsRr42xOlZD"
   },
   "outputs": [],
   "source": [
    "train = df.iloc[:test_ind]\n",
    "test = df.iloc[test_ind:]"
   ]
  },
  {
   "cell_type": "code",
   "execution_count": 17,
   "metadata": {},
   "outputs": [
    {
     "name": "stdout",
     "output_type": "stream",
     "text": [
      "818\n",
      "439\n"
     ]
    }
   ],
   "source": [
    "print(len(train))\n",
    "print(len(test))"
   ]
  },
  {
   "cell_type": "code",
   "execution_count": 18,
   "metadata": {},
   "outputs": [],
   "source": [
    "from sklearn.preprocessing import MinMaxScaler\n",
    "scaler = MinMaxScaler()\n",
    "scaler.fit(train)\n",
    "train = scaler.transform(train)\n",
    "test = scaler.transform(test)"
   ]
  },
  {
   "cell_type": "code",
   "execution_count": 19,
   "metadata": {
    "id": "99oQxKuxOlZE"
   },
   "outputs": [],
   "source": [
    "n_input = 100\n",
    "n_features = 1\n",
    "n_batch_size = 1\n",
    "\n",
    "train_generator = TimeseriesGenerator(train, train, \n",
    "                                length = n_input, \n",
    "                                batch_size = n_batch_size)\n",
    "\n",
    "test_generator = TimeseriesGenerator(test, test, \n",
    "                                           length = n_input, \n",
    "                                           batch_size = n_batch_size)"
   ]
  },
  {
   "cell_type": "code",
   "execution_count": 20,
   "metadata": {
    "colab": {
     "base_uri": "https://localhost:8080/"
    },
    "id": "R5mIVCzfEwu9",
    "outputId": "30abdb74-983a-4bfc-98f1-9e670e555c71"
   },
   "outputs": [
    {
     "name": "stdout",
     "output_type": "stream",
     "text": [
      "718\n",
      "339\n"
     ]
    }
   ],
   "source": [
    "print(len(train_generator))\n",
    "print(len(test_generator))"
   ]
  },
  {
   "cell_type": "code",
   "execution_count": 21,
   "metadata": {
    "colab": {
     "base_uri": "https://localhost:8080/"
    },
    "id": "a-B_cijSEwu9",
    "outputId": "4b5e401f-6517-4abd-c8e2-9aede0e906fd"
   },
   "outputs": [
    {
     "name": "stdout",
     "output_type": "stream",
     "text": [
      "Model: \"sequential\"\n",
      "_________________________________________________________________\n",
      "Layer (type)                 Output Shape              Param #   \n",
      "=================================================================\n",
      "lstm (LSTM)                  (None, 100, 50)           10400     \n",
      "_________________________________________________________________\n",
      "lstm_1 (LSTM)                (None, 100, 50)           20200     \n",
      "_________________________________________________________________\n",
      "lstm_2 (LSTM)                (None, 50)                20200     \n",
      "_________________________________________________________________\n",
      "dense (Dense)                (None, 1)                 51        \n",
      "=================================================================\n",
      "Total params: 50,851\n",
      "Trainable params: 50,851\n",
      "Non-trainable params: 0\n",
      "_________________________________________________________________\n"
     ]
    }
   ],
   "source": [
    "model=Sequential()\n",
    "model.add(LSTM(50,return_sequences=True,input_shape = (n_input,n_features)))\n",
    "model.add(LSTM(50,return_sequences=True))\n",
    "model.add(LSTM(50))\n",
    "model.add(Dense(1))\n",
    "model.compile(loss='mean_squared_error',optimizer='adam')\n",
    "model.summary()"
   ]
  },
  {
   "cell_type": "code",
   "execution_count": 22,
   "metadata": {
    "colab": {
     "base_uri": "https://localhost:8080/"
    },
    "id": "cYY7dGwcEwu-",
    "outputId": "4a0fe4c1-1b3a-4f99-a8c6-d9d575ed1618"
   },
   "outputs": [
    {
     "name": "stdout",
     "output_type": "stream",
     "text": [
      "Epoch 1/2\n",
      "718/718 [==============================] - 62s 86ms/step - loss: 0.0049 - val_loss: 0.2112\n",
      "Epoch 2/2\n",
      "718/718 [==============================] - 64s 89ms/step - loss: 0.0023 - val_loss: 0.0755: 1s\n"
     ]
    },
    {
     "data": {
      "text/plain": [
       "<tensorflow.python.keras.callbacks.History at 0x28eef0e9e80>"
      ]
     },
     "execution_count": 22,
     "metadata": {},
     "output_type": "execute_result"
    }
   ],
   "source": [
    "model.fit(train_generator, epochs = 2 ,\n",
    "            validation_data = test_generator)"
   ]
  },
  {
   "cell_type": "code",
   "execution_count": 23,
   "metadata": {
    "colab": {
     "base_uri": "https://localhost:8080/",
     "height": 282
    },
    "id": "pkCSkq--Ewu-",
    "outputId": "8c4e5d19-d0d2-4bdb-cafc-e8951ecbb694"
   },
   "outputs": [
    {
     "data": {
      "text/plain": [
       "<AxesSubplot:>"
      ]
     },
     "execution_count": 23,
     "metadata": {},
     "output_type": "execute_result"
    },
    {
     "data": {
      "image/png": "[encoded data removed]",
      "text/plain": [
       "<Figure size 432x288 with 1 Axes>"
      ]
     },
     "metadata": {
      "needs_background": "light"
     },
     "output_type": "display_data"
    }
   ],
   "source": [
    "loss = pd.DataFrame(model.history.history)\n",
    "loss.plot()"
   ]
  },
  {
   "cell_type": "code",
   "execution_count": 26,
   "metadata": {},
   "outputs": [],
   "source": [
    "pred_list = []\n",
    "\n",
    "batch = train[-n_input:].reshape((1, n_input, n_features))   # stepping stone value\n",
    "\n",
    "for i in range(n_input):   \n",
    "    pred_list.append(model.predict(batch)[0])                # predict and save in list\n",
    "    batch = np.append(batch[:,1:,:],[[pred_list[i]]],axis=1) # next value for prediction"
   ]
  },
  {
   "cell_type": "code",
   "execution_count": 27,
   "metadata": {},
   "outputs": [],
   "source": [
    "df_predict = pd.DataFrame(scaler.inverse_transform(pred_list),\n",
    "                          index=df[-n_input:].index, \n",
    "                          columns=['Prediction'])"
   ]
  },
  {
   "cell_type": "code",
   "execution_count": 28,
   "metadata": {},
   "outputs": [
    {
     "data": {
      "text/html": [
       "<div>\n",
       "<style scoped>\n",
       "    .dataframe tbody tr th:only-of-type {\n",
       "        vertical-align: middle;\n",
       "    }\n",
       "\n",
       "    .dataframe tbody tr th {\n",
       "        vertical-align: top;\n",
       "    }\n",
       "\n",
       "    .dataframe thead th {\n",
       "        text-align: right;\n",
       "    }\n",
       "</style>\n",
       "<table border=\"1\" class=\"dataframe\">\n",
       "  <thead>\n",
       "    <tr style=\"text-align: right;\">\n",
       "      <th></th>\n",
       "      <th>Prediction</th>\n",
       "    </tr>\n",
       "    <tr>\n",
       "      <th>date</th>\n",
       "      <th></th>\n",
       "    </tr>\n",
       "  </thead>\n",
       "  <tbody>\n",
       "    <tr>\n",
       "      <th>2020-08-11 00:00:00+00:00</th>\n",
       "      <td>188.146312</td>\n",
       "    </tr>\n",
       "    <tr>\n",
       "      <th>2020-08-12 00:00:00+00:00</th>\n",
       "      <td>188.597583</td>\n",
       "    </tr>\n",
       "    <tr>\n",
       "      <th>2020-08-13 00:00:00+00:00</th>\n",
       "      <td>188.335170</td>\n",
       "    </tr>\n",
       "    <tr>\n",
       "      <th>2020-08-14 00:00:00+00:00</th>\n",
       "      <td>187.599742</td>\n",
       "    </tr>\n",
       "    <tr>\n",
       "      <th>2020-08-17 00:00:00+00:00</th>\n",
       "      <td>186.612831</td>\n",
       "    </tr>\n",
       "    <tr>\n",
       "      <th>...</th>\n",
       "      <td>...</td>\n",
       "    </tr>\n",
       "    <tr>\n",
       "      <th>2020-12-24 00:00:00+00:00</th>\n",
       "      <td>136.675605</td>\n",
       "    </tr>\n",
       "    <tr>\n",
       "      <th>2020-12-28 00:00:00+00:00</th>\n",
       "      <td>136.307633</td>\n",
       "    </tr>\n",
       "    <tr>\n",
       "      <th>2020-12-29 00:00:00+00:00</th>\n",
       "      <td>135.942280</td>\n",
       "    </tr>\n",
       "    <tr>\n",
       "      <th>2020-12-30 00:00:00+00:00</th>\n",
       "      <td>135.579529</td>\n",
       "    </tr>\n",
       "    <tr>\n",
       "      <th>2020-12-31 00:00:00+00:00</th>\n",
       "      <td>135.219350</td>\n",
       "    </tr>\n",
       "  </tbody>\n",
       "</table>\n",
       "<p>100 rows × 1 columns</p>\n",
       "</div>"
      ],
      "text/plain": [
       "                           Prediction\n",
       "date                                 \n",
       "2020-08-11 00:00:00+00:00  188.146312\n",
       "2020-08-12 00:00:00+00:00  188.597583\n",
       "2020-08-13 00:00:00+00:00  188.335170\n",
       "2020-08-14 00:00:00+00:00  187.599742\n",
       "2020-08-17 00:00:00+00:00  186.612831\n",
       "...                               ...\n",
       "2020-12-24 00:00:00+00:00  136.675605\n",
       "2020-12-28 00:00:00+00:00  136.307633\n",
       "2020-12-29 00:00:00+00:00  135.942280\n",
       "2020-12-30 00:00:00+00:00  135.579529\n",
       "2020-12-31 00:00:00+00:00  135.219350\n",
       "\n",
       "[100 rows x 1 columns]"
      ]
     },
     "execution_count": 28,
     "metadata": {},
     "output_type": "execute_result"
    }
   ],
   "source": [
    "df_predict"
   ]
  },
  {
   "cell_type": "code",
   "execution_count": 29,
   "metadata": {},
   "outputs": [],
   "source": [
    "df_test = pd.concat([df,df_predict], axis=1)"
   ]
  },
  {
   "cell_type": "code",
   "execution_count": 30,
   "metadata": {},
   "outputs": [
    {
     "data": {
      "text/html": [
       "<div>\n",
       "<style scoped>\n",
       "    .dataframe tbody tr th:only-of-type {\n",
       "        vertical-align: middle;\n",
       "    }\n",
       "\n",
       "    .dataframe tbody tr th {\n",
       "        vertical-align: top;\n",
       "    }\n",
       "\n",
       "    .dataframe thead th {\n",
       "        text-align: right;\n",
       "    }\n",
       "</style>\n",
       "<table border=\"1\" class=\"dataframe\">\n",
       "  <thead>\n",
       "    <tr style=\"text-align: right;\">\n",
       "      <th></th>\n",
       "      <th>close</th>\n",
       "      <th>Prediction</th>\n",
       "    </tr>\n",
       "    <tr>\n",
       "      <th>date</th>\n",
       "      <th></th>\n",
       "      <th></th>\n",
       "    </tr>\n",
       "  </thead>\n",
       "  <tbody>\n",
       "    <tr>\n",
       "      <th>2016-01-06 00:00:00+00:00</th>\n",
       "      <td>100.70</td>\n",
       "      <td>NaN</td>\n",
       "    </tr>\n",
       "    <tr>\n",
       "      <th>2016-01-07 00:00:00+00:00</th>\n",
       "      <td>96.45</td>\n",
       "      <td>NaN</td>\n",
       "    </tr>\n",
       "    <tr>\n",
       "      <th>2016-01-08 00:00:00+00:00</th>\n",
       "      <td>96.96</td>\n",
       "      <td>NaN</td>\n",
       "    </tr>\n",
       "    <tr>\n",
       "      <th>2016-01-11 00:00:00+00:00</th>\n",
       "      <td>98.53</td>\n",
       "      <td>NaN</td>\n",
       "    </tr>\n",
       "    <tr>\n",
       "      <th>2016-01-12 00:00:00+00:00</th>\n",
       "      <td>99.96</td>\n",
       "      <td>NaN</td>\n",
       "    </tr>\n",
       "    <tr>\n",
       "      <th>...</th>\n",
       "      <td>...</td>\n",
       "      <td>...</td>\n",
       "    </tr>\n",
       "    <tr>\n",
       "      <th>2020-12-24 00:00:00+00:00</th>\n",
       "      <td>131.97</td>\n",
       "      <td>136.675605</td>\n",
       "    </tr>\n",
       "    <tr>\n",
       "      <th>2020-12-28 00:00:00+00:00</th>\n",
       "      <td>136.69</td>\n",
       "      <td>136.307633</td>\n",
       "    </tr>\n",
       "    <tr>\n",
       "      <th>2020-12-29 00:00:00+00:00</th>\n",
       "      <td>134.87</td>\n",
       "      <td>135.942280</td>\n",
       "    </tr>\n",
       "    <tr>\n",
       "      <th>2020-12-30 00:00:00+00:00</th>\n",
       "      <td>133.72</td>\n",
       "      <td>135.579529</td>\n",
       "    </tr>\n",
       "    <tr>\n",
       "      <th>2020-12-31 00:00:00+00:00</th>\n",
       "      <td>132.69</td>\n",
       "      <td>135.219350</td>\n",
       "    </tr>\n",
       "  </tbody>\n",
       "</table>\n",
       "<p>1257 rows × 2 columns</p>\n",
       "</div>"
      ],
      "text/plain": [
       "                            close  Prediction\n",
       "date                                         \n",
       "2016-01-06 00:00:00+00:00  100.70         NaN\n",
       "2016-01-07 00:00:00+00:00   96.45         NaN\n",
       "2016-01-08 00:00:00+00:00   96.96         NaN\n",
       "2016-01-11 00:00:00+00:00   98.53         NaN\n",
       "2016-01-12 00:00:00+00:00   99.96         NaN\n",
       "...                           ...         ...\n",
       "2020-12-24 00:00:00+00:00  131.97  136.675605\n",
       "2020-12-28 00:00:00+00:00  136.69  136.307633\n",
       "2020-12-29 00:00:00+00:00  134.87  135.942280\n",
       "2020-12-30 00:00:00+00:00  133.72  135.579529\n",
       "2020-12-31 00:00:00+00:00  132.69  135.219350\n",
       "\n",
       "[1257 rows x 2 columns]"
      ]
     },
     "execution_count": 30,
     "metadata": {},
     "output_type": "execute_result"
    }
   ],
   "source": [
    "df_test"
   ]
  },
  {
   "cell_type": "code",
   "execution_count": 31,
   "metadata": {},
   "outputs": [
    {
     "data": {
      "text/plain": [
       "115.68681750575426"
      ]
     },
     "execution_count": 31,
     "metadata": {},
     "output_type": "execute_result"
    }
   ],
   "source": [
    "from sklearn.metrics import mean_squared_error\n",
    "np.sqrt(mean_squared_error(df_test.iloc[-n_input:, [0]], df_test.iloc[-n_input:, [1]])) #error acceptable?"
   ]
  },
  {
   "cell_type": "code",
   "execution_count": 32,
   "metadata": {},
   "outputs": [
    {
     "data": {
      "text/html": [
       "<div>\n",
       "<style scoped>\n",
       "    .dataframe tbody tr th:only-of-type {\n",
       "        vertical-align: middle;\n",
       "    }\n",
       "\n",
       "    .dataframe tbody tr th {\n",
       "        vertical-align: top;\n",
       "    }\n",
       "\n",
       "    .dataframe thead th {\n",
       "        text-align: right;\n",
       "    }\n",
       "</style>\n",
       "<table border=\"1\" class=\"dataframe\">\n",
       "  <thead>\n",
       "    <tr style=\"text-align: right;\">\n",
       "      <th></th>\n",
       "      <th>close</th>\n",
       "      <th>Prediction</th>\n",
       "    </tr>\n",
       "    <tr>\n",
       "      <th>date</th>\n",
       "      <th></th>\n",
       "      <th></th>\n",
       "    </tr>\n",
       "  </thead>\n",
       "  <tbody>\n",
       "    <tr>\n",
       "      <th>2016-01-06 00:00:00+00:00</th>\n",
       "      <td>100.70</td>\n",
       "      <td>NaN</td>\n",
       "    </tr>\n",
       "    <tr>\n",
       "      <th>2016-01-07 00:00:00+00:00</th>\n",
       "      <td>96.45</td>\n",
       "      <td>NaN</td>\n",
       "    </tr>\n",
       "    <tr>\n",
       "      <th>2016-01-08 00:00:00+00:00</th>\n",
       "      <td>96.96</td>\n",
       "      <td>NaN</td>\n",
       "    </tr>\n",
       "    <tr>\n",
       "      <th>2016-01-11 00:00:00+00:00</th>\n",
       "      <td>98.53</td>\n",
       "      <td>NaN</td>\n",
       "    </tr>\n",
       "    <tr>\n",
       "      <th>2016-01-12 00:00:00+00:00</th>\n",
       "      <td>99.96</td>\n",
       "      <td>NaN</td>\n",
       "    </tr>\n",
       "  </tbody>\n",
       "</table>\n",
       "</div>"
      ],
      "text/plain": [
       "                            close  Prediction\n",
       "date                                         \n",
       "2016-01-06 00:00:00+00:00  100.70         NaN\n",
       "2016-01-07 00:00:00+00:00   96.45         NaN\n",
       "2016-01-08 00:00:00+00:00   96.96         NaN\n",
       "2016-01-11 00:00:00+00:00   98.53         NaN\n",
       "2016-01-12 00:00:00+00:00   99.96         NaN"
      ]
     },
     "execution_count": 32,
     "metadata": {},
     "output_type": "execute_result"
    }
   ],
   "source": [
    "df_test.head()"
   ]
  },
  {
   "cell_type": "code",
   "execution_count": 33,
   "metadata": {},
   "outputs": [
    {
     "data": {
      "image/png": "[encoded data removed]",
      "text/plain": [
       "<Figure size 1440x360 with 1 Axes>"
      ]
     },
     "metadata": {
      "needs_background": "light"
     },
     "output_type": "display_data"
    }
   ],
   "source": [
    "plt.figure(figsize=(20, 5))\n",
    "plt.plot(df_test.index, df_test['close'])\n",
    "plt.plot(df_test.index, df_test['Prediction'], color='r')\n",
    "plt.legend([\"close\", \"Prediction\"], loc='best', fontsize='xx-large')\n",
    "plt.xticks(fontsize=18)\n",
    "plt.yticks(fontsize=16)\n",
    "plt.show()"
   ]
  },
  {
   "cell_type": "code",
   "execution_count": 34,
   "metadata": {},
   "outputs": [
    {
     "data": {
      "text/plain": [
       "1257"
      ]
     },
     "execution_count": 34,
     "metadata": {},
     "output_type": "execute_result"
    }
   ],
   "source": [
    "# This time train is using the full df for the future forecasting\n",
    "train = df\n",
    "len(train)"
   ]
  },
  {
   "cell_type": "code",
   "execution_count": 35,
   "metadata": {},
   "outputs": [],
   "source": [
    "scaler.fit(train)\n",
    "train = scaler.transform(train)"
   ]
  },
  {
   "cell_type": "code",
   "execution_count": 37,
   "metadata": {},
   "outputs": [],
   "source": [
    "generator = TimeseriesGenerator(train, \n",
    "                                train, \n",
    "                                length = n_input, \n",
    "                                batch_size = n_batch_size)"
   ]
  },
  {
   "cell_type": "code",
   "execution_count": 38,
   "metadata": {},
   "outputs": [
    {
     "name": "stdout",
     "output_type": "stream",
     "text": [
      "Epoch 1/2\n",
      "1157/1157 [==============================] - 95s 82ms/step - loss: 0.0031\n",
      "Epoch 2/2\n",
      "1157/1157 [==============================] - 91s 79ms/step - loss: 0.0037\n"
     ]
    },
    {
     "data": {
      "text/plain": [
       "<tensorflow.python.keras.callbacks.History at 0x28e8cca8550>"
      ]
     },
     "execution_count": 38,
     "metadata": {},
     "output_type": "execute_result"
    }
   ],
   "source": [
    "model.fit(generator,epochs=2)"
   ]
  },
  {
   "cell_type": "code",
   "execution_count": 45,
   "metadata": {},
   "outputs": [],
   "source": [
    "pred_list = []\n",
    "n_future_length = 30   # 30 days\n",
    "batch = train[-n_input:].reshape((1, n_input, n_features))\n",
    "\n",
    "for i in range(n_future_length):   \n",
    "    pred_list.append(model.predict(batch)[0]) \n",
    "    batch = np.append(batch[:,1:,:],[[pred_list[i]]],axis=1)"
   ]
  },
  {
   "cell_type": "code",
   "execution_count": 52,
   "metadata": {},
   "outputs": [],
   "source": [
    "from pandas.tseries.offsets import DateOffset\n",
    "add_dates = [df.index[-1] + DateOffset(days=x) for x in range(0, n_future_length + 1) ]\n",
    "future_dates = pd.DataFrame(index = add_dates[1:],\n",
    "                            columns = df.columns)"
   ]
  },
  {
   "cell_type": "code",
   "execution_count": 57,
   "metadata": {},
   "outputs": [
    {
     "data": {
      "text/plain": [
       "30"
      ]
     },
     "execution_count": 57,
     "metadata": {},
     "output_type": "execute_result"
    }
   ],
   "source": [
    "len(future_dates)"
   ]
  },
  {
   "cell_type": "code",
   "execution_count": 54,
   "metadata": {},
   "outputs": [],
   "source": [
    "df_predict = pd.DataFrame(scaler.inverse_transform(pred_list),\n",
    "                          index=future_dates[-n_future_length:].index, \n",
    "                          columns=['Prediction'])"
   ]
  },
  {
   "cell_type": "code",
   "execution_count": 55,
   "metadata": {},
   "outputs": [],
   "source": [
    "df_projected = pd.concat([df,df_predict], axis=1)"
   ]
  },
  {
   "cell_type": "code",
   "execution_count": 56,
   "metadata": {},
   "outputs": [
    {
     "data": {
      "image/png": "[encoded data removed]",
      "text/plain": [
       "<Figure size 1440x360 with 1 Axes>"
      ]
     },
     "metadata": {
      "needs_background": "light"
     },
     "output_type": "display_data"
    }
   ],
   "source": [
    "plt.figure(figsize=(20, 5))\n",
    "plt.plot(df_projected.index, df_projected['close'])\n",
    "plt.plot(df_projected.index, df_projected['Prediction'], color='r')\n",
    "plt.legend([\"close\", \"Prediction\"], loc='best', fontsize='xx-large')\n",
    "plt.xticks(fontsize=18)\n",
    "plt.yticks(fontsize=16)\n",
    "plt.show()"
   ]
  },
  {
   "cell_type": "code",
   "execution_count": null,
   "metadata": {},
   "outputs": [],
   "source": []
  }
 ],
 "metadata": {
  "accelerator": "GPU",
  "colab": {
   "name": "07_stock_prediction.ipynb",
   "provenance": [],
   "toc_visible": true
  },
  "kernelspec": {
   "display_name": "Python 3",
   "language": "python",
   "name": "python3"
  },
  "language_info": {
   "codemirror_mode": {
    "name": "ipython",
    "version": 3
   },
   "file_extension": ".py",
   "mimetype": "text/x-python",
   "name": "python",
   "nbconvert_exporter": "python",
   "pygments_lexer": "ipython3",
   "version": "3.8.5"
  }
 },
 "nbformat": 4,
 "nbformat_minor": 4
}
