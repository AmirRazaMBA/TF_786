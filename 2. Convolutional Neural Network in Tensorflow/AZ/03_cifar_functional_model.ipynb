{
 "cells": [
  {
   "cell_type": "markdown",
   "metadata": {},
   "source": [
    "## CNN - Example 06"
   ]
  },
  {
   "cell_type": "code",
   "execution_count": 2,
   "metadata": {},
   "outputs": [],
   "source": [
    "import numpy as np\n",
    "import pandas as pd\n",
    "import matplotlib.pyplot as plt\n",
    "import seaborn as sns\n",
    "import tensorflow as tf\n",
    "from tensorflow.keras.layers import Input, Conv2D, Dense, Flatten, Dropout, GlobalMaxPooling2D\n",
    "from tensorflow.keras.models import Model"
   ]
  },
  {
   "cell_type": "markdown",
   "metadata": {},
   "source": [
    "### Load Dataset"
   ]
  },
  {
   "cell_type": "code",
   "execution_count": 3,
   "metadata": {
    "colab": {
     "base_uri": "https://localhost:8080/"
    },
    "id": "H_EGZv1TL4S_",
    "outputId": "ba96b1a5-f22c-487f-d9db-071747040b67"
   },
   "outputs": [],
   "source": [
    "# Load in the data\n",
    "cifar10 = tf.keras.datasets.cifar10\n",
    "\n",
    "(X_train, y_train), (X_test, y_test) = cifar10.load_data()"
   ]
  },
  {
   "cell_type": "markdown",
   "metadata": {},
   "source": [
    "#### Normalize"
   ]
  },
  {
   "cell_type": "code",
   "execution_count": 4,
   "metadata": {
    "colab": {
     "base_uri": "https://localhost:8080/"
    },
    "id": "H_EGZv1TL4S_",
    "outputId": "ba96b1a5-f22c-487f-d9db-071747040b67"
   },
   "outputs": [],
   "source": [
    "X_train = X_train / 255.0\n",
    "X_test  = X_test / 255.0"
   ]
  },
  {
   "cell_type": "code",
   "execution_count": 6,
   "metadata": {},
   "outputs": [
    {
     "name": "stdout",
     "output_type": "stream",
     "text": [
      "x_train.shape: (50000, 32, 32, 3)\n",
      "y_train.shape (50000, 1)\n"
     ]
    }
   ],
   "source": [
    "print(\"x_train.shape:\", X_train.shape)\n",
    "print(\"y_train.shape\", y_train.shape)"
   ]
  },
  {
   "cell_type": "code",
   "execution_count": 7,
   "metadata": {},
   "outputs": [
    {
     "name": "stdout",
     "output_type": "stream",
     "text": [
      "y_train.shape (50000, 1)\n",
      "y_train before flatten() : [[6]\n",
      " [9]\n",
      " [9]\n",
      " ...\n",
      " [9]\n",
      " [1]\n",
      " [1]]\n"
     ]
    }
   ],
   "source": [
    "print(\"y_train.shape\", y_train.shape)\n",
    "print(\"y_train before flatten() :\", y_train)"
   ]
  },
  {
   "cell_type": "markdown",
   "metadata": {},
   "source": [
    "#### Flatten the label vector"
   ]
  },
  {
   "cell_type": "code",
   "execution_count": 8,
   "metadata": {
    "colab": {
     "base_uri": "https://localhost:8080/"
    },
    "id": "H_EGZv1TL4S_",
    "outputId": "ba96b1a5-f22c-487f-d9db-071747040b67"
   },
   "outputs": [],
   "source": [
    "# Flatten the label vector\n",
    "y_train = y_train.flatten()\n",
    "y_test  = y_test.flatten()"
   ]
  },
  {
   "cell_type": "code",
   "execution_count": 9,
   "metadata": {},
   "outputs": [
    {
     "name": "stdout",
     "output_type": "stream",
     "text": [
      "y_train.shape (50000,)\n",
      "y_train after flatten() : [6 9 9 ... 9 1 1]\n",
      "y_train[0] after flatten() : 6\n"
     ]
    }
   ],
   "source": [
    "print(\"y_train.shape\", y_train.shape)\n",
    "print(\"y_train after flatten() :\", y_train)\n",
    "print(\"y_train[0] after flatten() :\", y_train[0])"
   ]
  },
  {
   "cell_type": "markdown",
   "metadata": {},
   "source": [
    "#### Find number of classes"
   ]
  },
  {
   "cell_type": "code",
   "execution_count": 10,
   "metadata": {
    "colab": {
     "base_uri": "https://localhost:8080/"
    },
    "id": "1Wr15bYpMwbB",
    "outputId": "9493ddba-ba98-4b0a-f30b-9fe5c2a1dd38"
   },
   "outputs": [
    {
     "name": "stdout",
     "output_type": "stream",
     "text": [
      "Number of label classes: 10\n"
     ]
    }
   ],
   "source": [
    "# number of classes\n",
    "K = len(set(y_train))\n",
    "print(\"Number of label classes:\", K)"
   ]
  },
  {
   "cell_type": "markdown",
   "metadata": {},
   "source": [
    "#### One hot encoding"
   ]
  },
  {
   "cell_type": "code",
   "execution_count": 11,
   "metadata": {},
   "outputs": [
    {
     "name": "stdout",
     "output_type": "stream",
     "text": [
      "y_train.shape (50000,)\n",
      "y_cat_train.shape (50000, 10)\n",
      "y_train[0] after flatten() : 6\n",
      "y_cat_train after one hot encoding : [0. 0. 0. 0. 0. 0. 1. 0. 0. 0.]\n"
     ]
    }
   ],
   "source": [
    "from tensorflow.keras.utils import to_categorical\n",
    "\n",
    "y_cat_train = to_categorical(y_train, K)\n",
    "y_cat_test = to_categorical(y_test, K)\n",
    "\n",
    "print(\"y_train.shape\", y_train.shape)\n",
    "print(\"y_cat_train.shape\", y_cat_train.shape)\n",
    "print(\"y_train[0] after flatten() :\", y_train[0])\n",
    "print(\"y_cat_train after one hot encoding :\", y_cat_train[0])"
   ]
  },
  {
   "cell_type": "markdown",
   "metadata": {},
   "source": [
    "### Model # 1"
   ]
  },
  {
   "cell_type": "code",
   "execution_count": 13,
   "metadata": {
    "id": "Mmo66uQoMA1Q"
   },
   "outputs": [],
   "source": [
    "# Build the model using the functional API\n",
    "i = Input(shape=X_train[0].shape)\n",
    "x = Conv2D(32, (3, 3), strides=2, activation='relu')(i)\n",
    "x = Conv2D(64, (3, 3), strides=2, activation='relu')(x)\n",
    "x = Conv2D(128, (3, 3), strides=2, activation='relu')(x)\n",
    "x = Flatten()(x)\n",
    "x = Dropout(0.5)(x)\n",
    "x = Dense(1024, activation='relu')(x)\n",
    "x = Dropout(0.2)(x)\n",
    "x = Dense(K, activation='softmax')(x)\n",
    "\n",
    "model = Model(i, x)"
   ]
  },
  {
   "cell_type": "code",
   "execution_count": 14,
   "metadata": {
    "colab": {
     "base_uri": "https://localhost:8080/"
    },
    "id": "0zF9n0P7NcP-",
    "outputId": "7f4d80dd-923d-4d5f-8eff-d6c35fc49196"
   },
   "outputs": [],
   "source": [
    "# Compile and fit\n",
    "model.compile(optimizer='adam',\n",
    "              loss='sparse_categorical_crossentropy',\n",
    "              metrics=['accuracy'])"
   ]
  },
  {
   "cell_type": "code",
   "execution_count": 15,
   "metadata": {},
   "outputs": [
    {
     "name": "stdout",
     "output_type": "stream",
     "text": [
      "Model: \"functional_1\"\n",
      "_________________________________________________________________\n",
      "Layer (type)                 Output Shape              Param #   \n",
      "=================================================================\n",
      "input_1 (InputLayer)         [(None, 32, 32, 3)]       0         \n",
      "_________________________________________________________________\n",
      "conv2d (Conv2D)              (None, 15, 15, 32)        896       \n",
      "_________________________________________________________________\n",
      "conv2d_1 (Conv2D)            (None, 7, 7, 64)          18496     \n",
      "_________________________________________________________________\n",
      "conv2d_2 (Conv2D)            (None, 3, 3, 128)         73856     \n",
      "_________________________________________________________________\n",
      "flatten (Flatten)            (None, 1152)              0         \n",
      "_________________________________________________________________\n",
      "dropout (Dropout)            (None, 1152)              0         \n",
      "_________________________________________________________________\n",
      "dense (Dense)                (None, 1024)              1180672   \n",
      "_________________________________________________________________\n",
      "dropout_1 (Dropout)          (None, 1024)              0         \n",
      "_________________________________________________________________\n",
      "dense_1 (Dense)              (None, 10)                10250     \n",
      "=================================================================\n",
      "Total params: 1,284,170\n",
      "Trainable params: 1,284,170\n",
      "Non-trainable params: 0\n",
      "_________________________________________________________________\n"
     ]
    }
   ],
   "source": [
    "model.summary()"
   ]
  },
  {
   "cell_type": "code",
   "execution_count": 44,
   "metadata": {
    "colab": {
     "base_uri": "https://localhost:8080/"
    },
    "id": "XKQRfwg6B_J4",
    "outputId": "9da2c48d-712f-4148-fcfe-cbf62d649a86"
   },
   "outputs": [
    {
     "name": "stdout",
     "output_type": "stream",
     "text": [
      "Epoch 1/15\n",
      "1563/1563 [==============================] - 36s 23ms/step - loss: 0.6358 - accuracy: 0.7716 - val_loss: 0.8419 - val_accuracy: 0.7063\n",
      "Epoch 2/15\n",
      "1563/1563 [==============================] - 34s 22ms/step - loss: 0.6161 - accuracy: 0.7803 - val_loss: 0.8132 - val_accuracy: 0.7228\n",
      "Epoch 3/15\n",
      "1563/1563 [==============================] - 33s 21ms/step - loss: 0.6002 - accuracy: 0.7887 - val_loss: 0.8312 - val_accuracy: 0.7156\n",
      "Epoch 4/15\n",
      "1563/1563 [==============================] - 34s 22ms/step - loss: 0.5925 - accuracy: 0.7892 - val_loss: 0.8274 - val_accuracy: 0.7170\n",
      "Epoch 5/15\n",
      "1563/1563 [==============================] - 35s 22ms/step - loss: 0.5760 - accuracy: 0.7956 - val_loss: 0.8126 - val_accuracy: 0.7213\n",
      "Epoch 6/15\n",
      "1563/1563 [==============================] - 35s 23ms/step - loss: 0.5685 - accuracy: 0.7994 - val_loss: 0.8191 - val_accuracy: 0.7207\n",
      "Epoch 7/15\n",
      "1563/1563 [==============================] - 35s 22ms/step - loss: 0.5463 - accuracy: 0.8061 - val_loss: 0.8294 - val_accuracy: 0.7159\n",
      "Epoch 8/15\n",
      "1563/1563 [==============================] - 35s 22ms/step - loss: 0.5384 - accuracy: 0.8091 - val_loss: 0.8256 - val_accuracy: 0.7179\n",
      "Epoch 9/15\n",
      "1563/1563 [==============================] - 35s 22ms/step - loss: 0.5256 - accuracy: 0.8162 - val_loss: 0.8355 - val_accuracy: 0.7139\n",
      "Epoch 10/15\n",
      "1563/1563 [==============================] - 36s 23ms/step - loss: 0.5255 - accuracy: 0.8147 - val_loss: 0.8279 - val_accuracy: 0.7251\n",
      "Epoch 11/15\n",
      "1563/1563 [==============================] - 43s 27ms/step - loss: 0.5176 - accuracy: 0.8199 - val_loss: 0.8320 - val_accuracy: 0.7201s: 0.5078 - accuracy: 0.821 - ETA: 12s - loss: 0.5077 - accuracy: 0. - ETA: - - ETA - ETA: 3s - loss: 0.5162 - ac\n",
      "Epoch 12/15\n",
      "1563/1563 [==============================] - 40s 26ms/step - loss: 0.5053 - accuracy: 0.8243 - val_loss: 0.8601 - val_accuracy: 0.7117\n",
      "Epoch 13/15\n",
      "1563/1563 [==============================] - 39s 25ms/step - loss: 0.4963 - accuracy: 0.8268 - val_loss: 0.8286 - val_accuracy: 0.7180\n",
      "Epoch 14/15\n",
      "1563/1563 [==============================] - 36s 23ms/step - loss: 0.4927 - accuracy: 0.8271 - val_loss: 0.8234 - val_accuracy: 0.7196\n",
      "Epoch 15/15\n",
      "1563/1563 [==============================] - 35s 23ms/step - loss: 0.4823 - accuracy: 0.8301 - val_loss: 0.8439 - val_accuracy: 0.7206\n"
     ]
    }
   ],
   "source": [
    "# Model using flatten y_test\n",
    "model_history = model.fit(X_train, y_train, \n",
    "                          validation_data=(X_test, y_test), \n",
    "                          epochs=15)"
   ]
  },
  {
   "cell_type": "markdown",
   "metadata": {},
   "source": [
    "#### Model Evaluation"
   ]
  },
  {
   "cell_type": "code",
   "execution_count": 45,
   "metadata": {},
   "outputs": [
    {
     "name": "stdout",
     "output_type": "stream",
     "text": [
      "['loss', 'accuracy']\n"
     ]
    }
   ],
   "source": [
    "print(model.metrics_names)"
   ]
  },
  {
   "cell_type": "markdown",
   "metadata": {},
   "source": [
    "##### Eval - Train"
   ]
  },
  {
   "cell_type": "code",
   "execution_count": 46,
   "metadata": {},
   "outputs": [
    {
     "data": {
      "text/html": [
       "<div>\n",
       "<style scoped>\n",
       "    .dataframe tbody tr th:only-of-type {\n",
       "        vertical-align: middle;\n",
       "    }\n",
       "\n",
       "    .dataframe tbody tr th {\n",
       "        vertical-align: top;\n",
       "    }\n",
       "\n",
       "    .dataframe thead th {\n",
       "        text-align: right;\n",
       "    }\n",
       "</style>\n",
       "<table border=\"1\" class=\"dataframe\">\n",
       "  <thead>\n",
       "    <tr style=\"text-align: right;\">\n",
       "      <th></th>\n",
       "      <th>loss</th>\n",
       "      <th>accuracy</th>\n",
       "      <th>val_loss</th>\n",
       "      <th>val_accuracy</th>\n",
       "    </tr>\n",
       "  </thead>\n",
       "  <tbody>\n",
       "    <tr>\n",
       "      <th>0</th>\n",
       "      <td>0.635757</td>\n",
       "      <td>0.77162</td>\n",
       "      <td>0.841877</td>\n",
       "      <td>0.7063</td>\n",
       "    </tr>\n",
       "    <tr>\n",
       "      <th>1</th>\n",
       "      <td>0.616085</td>\n",
       "      <td>0.78026</td>\n",
       "      <td>0.813213</td>\n",
       "      <td>0.7228</td>\n",
       "    </tr>\n",
       "    <tr>\n",
       "      <th>2</th>\n",
       "      <td>0.600223</td>\n",
       "      <td>0.78874</td>\n",
       "      <td>0.831176</td>\n",
       "      <td>0.7156</td>\n",
       "    </tr>\n",
       "    <tr>\n",
       "      <th>3</th>\n",
       "      <td>0.592502</td>\n",
       "      <td>0.78922</td>\n",
       "      <td>0.827396</td>\n",
       "      <td>0.7170</td>\n",
       "    </tr>\n",
       "    <tr>\n",
       "      <th>4</th>\n",
       "      <td>0.576025</td>\n",
       "      <td>0.79560</td>\n",
       "      <td>0.812550</td>\n",
       "      <td>0.7213</td>\n",
       "    </tr>\n",
       "  </tbody>\n",
       "</table>\n",
       "</div>"
      ],
      "text/plain": [
       "       loss  accuracy  val_loss  val_accuracy\n",
       "0  0.635757   0.77162  0.841877        0.7063\n",
       "1  0.616085   0.78026  0.813213        0.7228\n",
       "2  0.600223   0.78874  0.831176        0.7156\n",
       "3  0.592502   0.78922  0.827396        0.7170\n",
       "4  0.576025   0.79560  0.812550        0.7213"
      ]
     },
     "execution_count": 46,
     "metadata": {},
     "output_type": "execute_result"
    }
   ],
   "source": [
    "pd.DataFrame(model_history.history).head()"
   ]
  },
  {
   "cell_type": "code",
   "execution_count": 47,
   "metadata": {},
   "outputs": [
    {
     "data": {
      "text/html": [
       "<div>\n",
       "<style scoped>\n",
       "    .dataframe tbody tr th:only-of-type {\n",
       "        vertical-align: middle;\n",
       "    }\n",
       "\n",
       "    .dataframe tbody tr th {\n",
       "        vertical-align: top;\n",
       "    }\n",
       "\n",
       "    .dataframe thead th {\n",
       "        text-align: right;\n",
       "    }\n",
       "</style>\n",
       "<table border=\"1\" class=\"dataframe\">\n",
       "  <thead>\n",
       "    <tr style=\"text-align: right;\">\n",
       "      <th></th>\n",
       "      <th>loss</th>\n",
       "      <th>accuracy</th>\n",
       "      <th>val_loss</th>\n",
       "      <th>val_accuracy</th>\n",
       "    </tr>\n",
       "  </thead>\n",
       "  <tbody>\n",
       "    <tr>\n",
       "      <th>14</th>\n",
       "      <td>0.482284</td>\n",
       "      <td>0.8301</td>\n",
       "      <td>0.843937</td>\n",
       "      <td>0.7206</td>\n",
       "    </tr>\n",
       "  </tbody>\n",
       "</table>\n",
       "</div>"
      ],
      "text/plain": [
       "        loss  accuracy  val_loss  val_accuracy\n",
       "14  0.482284    0.8301  0.843937        0.7206"
      ]
     },
     "execution_count": 47,
     "metadata": {},
     "output_type": "execute_result"
    }
   ],
   "source": [
    "pd.DataFrame(model_history.history).tail(1)"
   ]
  },
  {
   "cell_type": "code",
   "execution_count": 48,
   "metadata": {
    "colab": {
     "base_uri": "https://localhost:8080/",
     "height": 541
    },
    "id": "ji1ZmKKWERSc",
    "outputId": "927a8367-f4b5-4a7b-965b-c1d535dc0afc"
   },
   "outputs": [],
   "source": [
    "def plot_graphs(history, string):\n",
    "  plt.plot(history.history[string])\n",
    "  plt.plot(history.history['val_'+string])\n",
    "  plt.xlabel(\"Epochs\")\n",
    "  plt.ylabel(string)\n",
    "  plt.legend([string, 'val_'+string])\n",
    "  plt.show()"
   ]
  },
  {
   "cell_type": "code",
   "execution_count": 49,
   "metadata": {},
   "outputs": [
    {
     "data": {
      "image/png": "[encoded data removed]",
      "text/plain": [
       "<Figure size 432x288 with 1 Axes>"
      ]
     },
     "metadata": {
      "needs_background": "light"
     },
     "output_type": "display_data"
    },
    {
     "data": {
      "image/png": "[encoded data removed]",
      "text/plain": [
       "<Figure size 432x288 with 1 Axes>"
      ]
     },
     "metadata": {
      "needs_background": "light"
     },
     "output_type": "display_data"
    }
   ],
   "source": [
    "plot_graphs(model_history, \"loss\")    \n",
    "plot_graphs(model_history, \"accuracy\")"
   ]
  },
  {
   "cell_type": "markdown",
   "metadata": {},
   "source": [
    "##### Eval - Test"
   ]
  },
  {
   "cell_type": "code",
   "execution_count": 50,
   "metadata": {},
   "outputs": [],
   "source": [
    "test_metrics = model.evaluate(X_test,y_test,verbose=0)"
   ]
  },
  {
   "cell_type": "code",
   "execution_count": 51,
   "metadata": {},
   "outputs": [
    {
     "name": "stdout",
     "output_type": "stream",
     "text": [
      "Loss on test dataset: 0.8439367413520813\n",
      "Accuracy on test dataset: 0.7206000089645386\n"
     ]
    }
   ],
   "source": [
    "print('Loss on test dataset:', test_metrics[0])\n",
    "print('Accuracy on test dataset:', test_metrics[1])"
   ]
  },
  {
   "cell_type": "code",
   "execution_count": 52,
   "metadata": {},
   "outputs": [
    {
     "name": "stdout",
     "output_type": "stream",
     "text": [
      "Loss and Accuracy on Train dataset:\n"
     ]
    }
   ],
   "source": [
    "print(\"Loss and Accuracy on Train dataset:\")"
   ]
  },
  {
   "cell_type": "code",
   "execution_count": 53,
   "metadata": {},
   "outputs": [
    {
     "data": {
      "text/html": [
       "<div>\n",
       "<style scoped>\n",
       "    .dataframe tbody tr th:only-of-type {\n",
       "        vertical-align: middle;\n",
       "    }\n",
       "\n",
       "    .dataframe tbody tr th {\n",
       "        vertical-align: top;\n",
       "    }\n",
       "\n",
       "    .dataframe thead th {\n",
       "        text-align: right;\n",
       "    }\n",
       "</style>\n",
       "<table border=\"1\" class=\"dataframe\">\n",
       "  <thead>\n",
       "    <tr style=\"text-align: right;\">\n",
       "      <th></th>\n",
       "      <th>loss</th>\n",
       "      <th>accuracy</th>\n",
       "      <th>val_loss</th>\n",
       "      <th>val_accuracy</th>\n",
       "    </tr>\n",
       "  </thead>\n",
       "  <tbody>\n",
       "    <tr>\n",
       "      <th>14</th>\n",
       "      <td>0.482284</td>\n",
       "      <td>0.8301</td>\n",
       "      <td>0.843937</td>\n",
       "      <td>0.7206</td>\n",
       "    </tr>\n",
       "  </tbody>\n",
       "</table>\n",
       "</div>"
      ],
      "text/plain": [
       "        loss  accuracy  val_loss  val_accuracy\n",
       "14  0.482284    0.8301  0.843937        0.7206"
      ]
     },
     "execution_count": 53,
     "metadata": {},
     "output_type": "execute_result"
    }
   ],
   "source": [
    "pd.DataFrame(model_history.history).tail(1)"
   ]
  },
  {
   "cell_type": "markdown",
   "metadata": {},
   "source": [
    "#### Predictions"
   ]
  },
  {
   "cell_type": "code",
   "execution_count": 54,
   "metadata": {},
   "outputs": [],
   "source": [
    "y_prediction = np.argmax(model.predict(X_test), axis=-1)"
   ]
  },
  {
   "cell_type": "markdown",
   "metadata": {},
   "source": [
    "#### Reports"
   ]
  },
  {
   "cell_type": "code",
   "execution_count": 55,
   "metadata": {
    "colab": {
     "base_uri": "https://localhost:8080/",
     "height": 857
    },
    "id": "ZYNTtslJCQ2f",
    "outputId": "4e9ec735-fefc-4908-f90a-c42e6a3468c1"
   },
   "outputs": [
    {
     "name": "stdout",
     "output_type": "stream",
     "text": [
      "              precision    recall  f1-score   support\n",
      "\n",
      "           0       0.75      0.76      0.75      1000\n",
      "           1       0.82      0.85      0.83      1000\n",
      "           2       0.72      0.55      0.62      1000\n",
      "           3       0.52      0.50      0.51      1000\n",
      "           4       0.68      0.69      0.68      1000\n",
      "           5       0.56      0.64      0.60      1000\n",
      "           6       0.74      0.82      0.78      1000\n",
      "           7       0.79      0.76      0.78      1000\n",
      "           8       0.80      0.86      0.83      1000\n",
      "           9       0.82      0.79      0.80      1000\n",
      "\n",
      "    accuracy                           0.72     10000\n",
      "   macro avg       0.72      0.72      0.72     10000\n",
      "weighted avg       0.72      0.72      0.72     10000\n",
      "\n",
      "[[755  26  23  17  23  16   7   7  93  33]\n",
      " [ 14 848   6   9   2   7   9   5  32  68]\n",
      " [ 82   7 549  75  78  87  73  21  19   9]\n",
      " [ 27  11  43 498  69 206  78  40  12  16]\n",
      " [ 25   5  54  70 686  47  56  45   9   3]\n",
      " [ 13   3  31 175  40 640  31  54   6   7]\n",
      " [  8   7  24  48  35  41 819   5  13   0]\n",
      " [ 20   4  15  32  58  83   8 759   3  18]\n",
      " [ 42  27   8   9  10   8   5   5 865  21]\n",
      " [ 24  97   9  21   4   6  14  14  24 787]]\n"
     ]
    },
    {
     "data": {
      "text/plain": [
       "<AxesSubplot:>"
      ]
     },
     "execution_count": 55,
     "metadata": {},
     "output_type": "execute_result"
    },
    {
     "data": {
      "image/png": "[encoded data removed]",
      "text/plain": [
       "<Figure size 720x432 with 2 Axes>"
      ]
     },
     "metadata": {
      "needs_background": "light"
     },
     "output_type": "display_data"
    }
   ],
   "source": [
    "from sklearn.metrics import classification_report,confusion_matrix\n",
    "print(classification_report(y_test,y_prediction))\n",
    "print(confusion_matrix(y_test,y_prediction))\n",
    "\n",
    "import seaborn as sns\n",
    "plt.figure(figsize=(10,6))\n",
    "sns.heatmap(confusion_matrix(y_test,y_prediction),annot=True)"
   ]
  },
  {
   "cell_type": "markdown",
   "metadata": {},
   "source": [
    "#### Get the Y labels as text"
   ]
  },
  {
   "cell_type": "code",
   "execution_count": 56,
   "metadata": {
    "id": "AgQqQHXNXDgw",
    "tags": []
   },
   "outputs": [],
   "source": [
    "# label mapping\n",
    "labels = '''airplane\n",
    "automobile\n",
    "bird\n",
    "cat\n",
    "deer\n",
    "dog\n",
    "frog\n",
    "horse\n",
    "ship\n",
    "truck'''.split()"
   ]
  },
  {
   "cell_type": "markdown",
   "metadata": {},
   "source": [
    "#### Predictions go wrong!"
   ]
  },
  {
   "cell_type": "code",
   "execution_count": 57,
   "metadata": {
    "colab": {
     "base_uri": "https://localhost:8080/",
     "height": 281
    },
    "id": "jjmW4STFO-Ny",
    "outputId": "4a0f639d-dc6b-4955-b605-612ec1ea2c04"
   },
   "outputs": [
    {
     "data": {
      "image/png": "[encoded data removed]",
      "text/plain": [
       "<Figure size 432x288 with 1 Axes>"
      ]
     },
     "metadata": {
      "needs_background": "light"
     },
     "output_type": "display_data"
    }
   ],
   "source": [
    "# Show some misclassified examples\n",
    "misclassified_idx = np.where(y_prediction != y_test)[0]\n",
    "\n",
    "i = np.random.choice(misclassified_idx)\n",
    "plt.imshow(X_test[i], cmap='gray')\n",
    "plt.title(\"True label: %s Predicted: %s\" % (labels[y_test[i]], labels[y_prediction[i]]));"
   ]
  },
  {
   "cell_type": "markdown",
   "metadata": {},
   "source": [
    "#### Conclusion : Final thoughts"
   ]
  },
  {
   "cell_type": "code",
   "execution_count": 58,
   "metadata": {},
   "outputs": [],
   "source": [
    "# Rule of thumb\n",
    "# 1. High Bias                        accuracy = 80% val-accuracy = 78%   (2%  gap)\n",
    "# 2. High Variance                    accuracy = 98% val-accuracy = 80%   (18% gap)\n",
    "# 3. High Bias and High Variance      accuracy = 80% val-accuracy = 60%   (20% gap)\n",
    "# 4. Low Bias and Low Variance        accuracy = 98% val-accuracy = 96%   (2%  gap)"
   ]
  },
  {
   "cell_type": "code",
   "execution_count": 59,
   "metadata": {},
   "outputs": [
    {
     "name": "stdout",
     "output_type": "stream",
     "text": [
      "Percentage of wrong predcitions : 27.939999999999998 %\n"
     ]
    }
   ],
   "source": [
    "print(\"Percentage of wrong predcitions : \" + str(len(misclassified_idx)/len(y_prediction)*100) + \" %\")"
   ]
  },
  {
   "cell_type": "code",
   "execution_count": 60,
   "metadata": {},
   "outputs": [
    {
     "name": "stdout",
     "output_type": "stream",
     "text": [
      "Model's maximum accuracy            : 83.00999999046326 %\n",
      "Model's maximum validation accuracy : 72.50999808311462 %\n"
     ]
    }
   ],
   "source": [
    "print(\"Model's maximum accuracy            : \" + str(np.max(model_history.history['accuracy'])*100) + \" %\")\n",
    "print(\"Model's maximum validation accuracy : \" + str(np.max(model_history.history['val_accuracy'])*100) + \" %\")"
   ]
  },
  {
   "cell_type": "code",
   "execution_count": 61,
   "metadata": {},
   "outputs": [],
   "source": [
    "# Model has High Bias and High Variance with 5% gap. It should be improved further to 99%"
   ]
  },
  {
   "cell_type": "markdown",
   "metadata": {},
   "source": [
    "### Model # 2\n",
    "\n",
    "Train model using one hot encoding ys"
   ]
  },
  {
   "cell_type": "code",
   "execution_count": 66,
   "metadata": {},
   "outputs": [],
   "source": [
    "# Compile and fit\n",
    "model.compile(optimizer='adam',\n",
    "              loss='categorical_crossentropy',\n",
    "              #tf.losses.sparse_softmax_cross_entropy(labels, logits),\n",
    "              metrics=['accuracy'])"
   ]
  },
  {
   "cell_type": "code",
   "execution_count": 67,
   "metadata": {},
   "outputs": [
    {
     "name": "stdout",
     "output_type": "stream",
     "text": [
      "Epoch 1/15\n",
      "1563/1563 [==============================] - 33s 21ms/step - loss: 0.4914 - accuracy: 0.82730s\n",
      "Epoch 2/15\n",
      "1563/1563 [==============================] - 39s 25ms/step - loss: 0.4746 - accuracy: 0.8346\n",
      "Epoch 3/15\n",
      "1563/1563 [==============================] - 37s 24ms/step - loss: 0.4656 - accuracy: 0.8385\n",
      "Epoch 4/15\n",
      "1563/1563 [==============================] - 38s 24ms/step - loss: 0.4620 - accuracy: 0.8395\n",
      "Epoch 5/15\n",
      "1563/1563 [==============================] - 36s 23ms/step - loss: 0.4575 - accuracy: 0.8416\n",
      "Epoch 6/15\n",
      "1563/1563 [==============================] - 38s 24ms/step - loss: 0.4560 - accuracy: 0.84173s - loss: 0.4 - E\n",
      "Epoch 7/15\n",
      "1563/1563 [==============================] - 38s 25ms/step - loss: 0.4490 - accuracy: 0.8447\n",
      "Epoch 8/15\n",
      "1563/1563 [==============================] - 36s 23ms/step - loss: 0.4483 - accuracy: 0.84560s - loss: 0.4485 - accu\n",
      "Epoch 9/15\n",
      "1563/1563 [==============================] - 34s 22ms/step - loss: 0.4390 - accuracy: 0.8463\n",
      "Epoch 10/15\n",
      "1563/1563 [==============================] - 35s 23ms/step - loss: 0.4359 - accuracy: 0.8494: 22s - loss: 0.4279 - accuracy: 0.853 - ETA: 22s - loss: 0. - ETA: 22s - loss: 0 - ETA: 20s -  - ETA: 19s - loss: 0.425 - ETA: 17s - loss: 0.4293 - a - ETA: 1 - ETA: 15s - \n",
      "Epoch 11/15\n",
      "1563/1563 [==============================] - 38s 24ms/step - loss: 0.4255 - accuracy: 0.85461s - loss: 0.4237 - accuracy - ETA: 0s - loss: 0.4245 - accuracy: 0.85 - ETA: 0s - loss:\n",
      "Epoch 12/15\n",
      "1563/1563 [==============================] - 36s 23ms/step - loss: 0.4198 - accuracy: 0.8555\n",
      "Epoch 13/15\n",
      "1563/1563 [==============================] - 36s 23ms/step - loss: 0.4274 - accuracy: 0.8525\n",
      "Epoch 14/15\n",
      "1563/1563 [==============================] - 35s 22ms/step - loss: 0.4206 - accuracy: 0.8553\n",
      "Epoch 15/15\n",
      "1563/1563 [==============================] - 39s 25ms/step - loss: 0.4153 - accuracy: 0.8566\n"
     ]
    }
   ],
   "source": [
    "# Model using one hot encoding for y_train\n",
    "model2_history = model.fit(X_train, \n",
    "                           y_cat_train, \n",
    "                           #validation_data=(X_test, y_cat_test), \n",
    "                           epochs=15)"
   ]
  },
  {
   "cell_type": "markdown",
   "metadata": {},
   "source": [
    "##### Eval - Test"
   ]
  },
  {
   "cell_type": "code",
   "execution_count": 69,
   "metadata": {},
   "outputs": [],
   "source": [
    "test_metrics = model.evaluate(X_test,y_cat_test,verbose=0)"
   ]
  },
  {
   "cell_type": "code",
   "execution_count": 70,
   "metadata": {},
   "outputs": [
    {
     "name": "stdout",
     "output_type": "stream",
     "text": [
      "Loss on test dataset: 0.8578584790229797\n",
      "Accuracy on test dataset: 0.7200000286102295\n"
     ]
    }
   ],
   "source": [
    "print('Loss on test dataset:', test_metrics[0])\n",
    "print('Accuracy on test dataset:', test_metrics[1])"
   ]
  },
  {
   "cell_type": "code",
   "execution_count": 71,
   "metadata": {},
   "outputs": [
    {
     "name": "stdout",
     "output_type": "stream",
     "text": [
      "Loss and Accuracy on Train dataset:\n"
     ]
    }
   ],
   "source": [
    "print(\"Loss and Accuracy on Train dataset:\")"
   ]
  },
  {
   "cell_type": "code",
   "execution_count": 72,
   "metadata": {},
   "outputs": [
    {
     "data": {
      "text/html": [
       "<div>\n",
       "<style scoped>\n",
       "    .dataframe tbody tr th:only-of-type {\n",
       "        vertical-align: middle;\n",
       "    }\n",
       "\n",
       "    .dataframe tbody tr th {\n",
       "        vertical-align: top;\n",
       "    }\n",
       "\n",
       "    .dataframe thead th {\n",
       "        text-align: right;\n",
       "    }\n",
       "</style>\n",
       "<table border=\"1\" class=\"dataframe\">\n",
       "  <thead>\n",
       "    <tr style=\"text-align: right;\">\n",
       "      <th></th>\n",
       "      <th>loss</th>\n",
       "      <th>accuracy</th>\n",
       "    </tr>\n",
       "  </thead>\n",
       "  <tbody>\n",
       "    <tr>\n",
       "      <th>14</th>\n",
       "      <td>0.415347</td>\n",
       "      <td>0.85662</td>\n",
       "    </tr>\n",
       "  </tbody>\n",
       "</table>\n",
       "</div>"
      ],
      "text/plain": [
       "        loss  accuracy\n",
       "14  0.415347   0.85662"
      ]
     },
     "execution_count": 72,
     "metadata": {},
     "output_type": "execute_result"
    }
   ],
   "source": [
    "pd.DataFrame(model2_history.history).tail(1)"
   ]
  },
  {
   "cell_type": "markdown",
   "metadata": {},
   "source": [
    "#### Predictions"
   ]
  },
  {
   "cell_type": "code",
   "execution_count": 73,
   "metadata": {},
   "outputs": [],
   "source": [
    "y_prediction = np.argmax(model.predict(X_test), axis=-1)"
   ]
  },
  {
   "cell_type": "markdown",
   "metadata": {},
   "source": [
    "#### Reports"
   ]
  },
  {
   "cell_type": "code",
   "execution_count": 74,
   "metadata": {
    "colab": {
     "base_uri": "https://localhost:8080/",
     "height": 857
    },
    "id": "ZYNTtslJCQ2f",
    "outputId": "4e9ec735-fefc-4908-f90a-c42e6a3468c1"
   },
   "outputs": [
    {
     "name": "stdout",
     "output_type": "stream",
     "text": [
      "              precision    recall  f1-score   support\n",
      "\n",
      "           0       0.78      0.77      0.78      1000\n",
      "           1       0.86      0.81      0.83      1000\n",
      "           2       0.69      0.56      0.62      1000\n",
      "           3       0.53      0.53      0.53      1000\n",
      "           4       0.67      0.68      0.68      1000\n",
      "           5       0.59      0.61      0.60      1000\n",
      "           6       0.70      0.85      0.77      1000\n",
      "           7       0.77      0.78      0.77      1000\n",
      "           8       0.85      0.79      0.82      1000\n",
      "           9       0.78      0.81      0.80      1000\n",
      "\n",
      "    accuracy                           0.72     10000\n",
      "   macro avg       0.72      0.72      0.72     10000\n",
      "weighted avg       0.72      0.72      0.72     10000\n",
      "\n",
      "[[774  15  35  18  19  10  10  17  55  47]\n",
      " [ 17 808   5  12   5  12  10   6  25 100]\n",
      " [ 60   3 557  75  93  73  94  28  10   7]\n",
      " [ 14   6  53 530  63 178 104  30  10  12]\n",
      " [ 17   2  42  64 684  36  78  68   7   2]\n",
      " [  8   2  32 193  45 613  41  57   3   6]\n",
      " [  3   7  32  43  29  22 855   3   4   2]\n",
      " [ 13   1  21  38  54  71  11 778   3  10]\n",
      " [ 60  32  18  14  17   9  13   9 791  37]\n",
      " [ 31  60  13  19  10  13  10  15  19 810]]\n"
     ]
    },
    {
     "data": {
      "text/plain": [
       "<AxesSubplot:>"
      ]
     },
     "execution_count": 74,
     "metadata": {},
     "output_type": "execute_result"
    },
    {
     "data": {
      "image/png": "[encoded data removed]",
      "text/plain": [
       "<Figure size 720x432 with 2 Axes>"
      ]
     },
     "metadata": {
      "needs_background": "light"
     },
     "output_type": "display_data"
    }
   ],
   "source": [
    "from sklearn.metrics import classification_report,confusion_matrix\n",
    "print(classification_report(y_test,y_prediction))\n",
    "print(confusion_matrix(y_test,y_prediction))\n",
    "\n",
    "import seaborn as sns\n",
    "plt.figure(figsize=(10,6))\n",
    "sns.heatmap(confusion_matrix(y_test,y_prediction),annot=True)"
   ]
  },
  {
   "cell_type": "markdown",
   "metadata": {},
   "source": [
    "#### Get the Y labels as text"
   ]
  },
  {
   "cell_type": "code",
   "execution_count": 56,
   "metadata": {
    "id": "AgQqQHXNXDgw",
    "tags": []
   },
   "outputs": [],
   "source": [
    "# label mapping\n",
    "labels = '''airplane\n",
    "automobile\n",
    "bird\n",
    "cat\n",
    "deer\n",
    "dog\n",
    "frog\n",
    "horse\n",
    "ship\n",
    "truck'''.split()"
   ]
  },
  {
   "cell_type": "markdown",
   "metadata": {},
   "source": [
    "#### Predictions go wrong!"
   ]
  },
  {
   "cell_type": "code",
   "execution_count": 78,
   "metadata": {
    "colab": {
     "base_uri": "https://localhost:8080/",
     "height": 281
    },
    "id": "jjmW4STFO-Ny",
    "outputId": "4a0f639d-dc6b-4955-b605-612ec1ea2c04"
   },
   "outputs": [
    {
     "name": "stderr",
     "output_type": "stream",
     "text": [
      "<ipython-input-78-546b967b64fa>:2: DeprecationWarning: elementwise comparison failed; this will raise an error in the future.\n",
      "  misclassified_idx = np.where(y_prediction != y_cat_test)[0]\n"
     ]
    },
    {
     "data": {
      "image/png": "[encoded data removed]",
      "text/plain": [
       "<Figure size 432x288 with 1 Axes>"
      ]
     },
     "metadata": {
      "needs_background": "light"
     },
     "output_type": "display_data"
    }
   ],
   "source": [
    "# Show some misclassified examples\n",
    "misclassified_idx = np.where(y_prediction != y_cat_test)[0]\n",
    "\n",
    "i = np.random.choice(misclassified_idx)\n",
    "plt.imshow(X_test[i], cmap='gray')\n",
    "plt.title(\"True label: %s Predicted: %s\" % (labels[y_test[i]], labels[y_prediction[i]]));"
   ]
  },
  {
   "cell_type": "markdown",
   "metadata": {},
   "source": [
    "#### Conclusion : Final thoughts"
   ]
  },
  {
   "cell_type": "code",
   "execution_count": 58,
   "metadata": {},
   "outputs": [],
   "source": [
    "# Rule of thumb\n",
    "# 1. High Bias                        accuracy = 80% val-accuracy = 78%   (2%  gap)\n",
    "# 2. High Variance                    accuracy = 98% val-accuracy = 80%   (18% gap)\n",
    "# 3. High Bias and High Variance      accuracy = 80% val-accuracy = 60%   (20% gap)\n",
    "# 4. Low Bias and Low Variance        accuracy = 98% val-accuracy = 96%   (2%  gap)"
   ]
  },
  {
   "cell_type": "code",
   "execution_count": 59,
   "metadata": {},
   "outputs": [
    {
     "name": "stdout",
     "output_type": "stream",
     "text": [
      "Percentage of wrong predcitions : 27.939999999999998 %\n"
     ]
    }
   ],
   "source": [
    "print(\"Percentage of wrong predcitions : \" + str(len(misclassified_idx)/len(y_prediction)*100) + \" %\")"
   ]
  },
  {
   "cell_type": "code",
   "execution_count": 60,
   "metadata": {},
   "outputs": [
    {
     "name": "stdout",
     "output_type": "stream",
     "text": [
      "Model's maximum accuracy            : 83.00999999046326 %\n",
      "Model's maximum validation accuracy : 72.50999808311462 %\n"
     ]
    }
   ],
   "source": [
    "print(\"Model's maximum accuracy            : \" + str(np.max(model_history.history['accuracy'])*100) + \" %\")\n",
    "print(\"Model's maximum validation accuracy : \" + str(np.max(model_history.history['val_accuracy'])*100) + \" %\")"
   ]
  },
  {
   "cell_type": "code",
   "execution_count": 61,
   "metadata": {},
   "outputs": [],
   "source": [
    "# Model has High Bias and High Variance with 5% gap. It should be improved further to 99%"
   ]
  },
  {
   "cell_type": "code",
   "execution_count": null,
   "metadata": {},
   "outputs": [],
   "source": [
    "# Define a simple sequential model\n",
    "def create_model():\n",
    "  model = tf.keras.models.Sequential([\n",
    "    keras.layers.Dense(512, activation='relu', input_shape=(784,)),\n",
    "    keras.layers.Dropout(0.2),\n",
    "    keras.layers.Dense(10)\n",
    "  ])\n",
    "\n",
    "  model.compile(optimizer='adam',\n",
    "                loss=tf.losses.SparseCategoricalCrossentropy(from_logits=True),\n",
    "                metrics=[tf.metrics.SparseCategoricalAccuracy()])\n",
    "\n",
    "  return model\n"
   ]
  }
 ],
 "metadata": {
  "accelerator": "GPU",
  "colab": {
   "collapsed_sections": [],
   "name": "03_CIFAR_best.ipynb",
   "provenance": []
  },
  "kernelspec": {
   "display_name": "Python 3",
   "language": "python",
   "name": "python3"
  },
  "language_info": {
   "codemirror_mode": {
    "name": "ipython",
    "version": 3
   },
   "file_extension": ".py",
   "mimetype": "text/x-python",
   "name": "python",
   "nbconvert_exporter": "python",
   "pygments_lexer": "ipython3",
   "version": "3.8.5"
  }
 },
 "nbformat": 4,
 "nbformat_minor": 4
}
