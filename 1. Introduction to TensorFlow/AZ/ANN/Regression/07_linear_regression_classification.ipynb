{
 "cells": [
  {
   "cell_type": "markdown",
   "metadata": {},
   "source": [
    "# Linear Regression Classification"
   ]
  },
  {
   "cell_type": "code",
   "execution_count": 1,
   "metadata": {
    "id": "3CtUfU5M6Kfs"
   },
   "outputs": [],
   "source": [
    "import numpy as np\n",
    "import pandas as pd\n",
    "import tensorflow as tf\n",
    "from tensorflow.keras.layers import Input, Dense, Flatten, Activation,Dropout\n",
    "from tensorflow.keras.models import Model, Sequential\n",
    "from sklearn.datasets import load_breast_cancer"
   ]
  },
  {
   "cell_type": "markdown",
   "metadata": {},
   "source": [
    "## Load the data set"
   ]
  },
  {
   "cell_type": "code",
   "execution_count": 2,
   "metadata": {
    "id": "X8TxMlJj6zqo",
    "tags": []
   },
   "outputs": [],
   "source": [
    "data = load_breast_cancer()\n",
    "df = pd.DataFrame(data=data.data, \n",
    "                  index=None, \n",
    "                  columns=data.feature_names, \n",
    "                  dtype=None, \n",
    "                  copy=False)"
   ]
  },
  {
   "cell_type": "code",
   "execution_count": 3,
   "metadata": {},
   "outputs": [],
   "source": [
    "# Another way to load the data as df\n",
    "#df = load_breast_cancer(as_frame=True)\n",
    "#df.frame"
   ]
  },
  {
   "cell_type": "markdown",
   "metadata": {
    "tags": []
   },
   "source": [
    "## Pre-Process the data"
   ]
  },
  {
   "cell_type": "markdown",
   "metadata": {},
   "source": [
    "### Get the train test split"
   ]
  },
  {
   "cell_type": "code",
   "execution_count": 4,
   "metadata": {},
   "outputs": [],
   "source": [
    "X = data.data\n",
    "y = data.target"
   ]
  },
  {
   "cell_type": "code",
   "execution_count": 5,
   "metadata": {
    "id": "jQgRbTTQ6Kfw",
    "tags": []
   },
   "outputs": [],
   "source": [
    "from sklearn.model_selection import train_test_split\n",
    "\n",
    "X_train, X_test, y_train, y_test = train_test_split(X,y,test_size=0.25,random_state=101)"
   ]
  },
  {
   "cell_type": "markdown",
   "metadata": {},
   "source": [
    "### Normalize the data"
   ]
  },
  {
   "cell_type": "code",
   "execution_count": 6,
   "metadata": {},
   "outputs": [
    {
     "data": {
      "text/plain": [
       "(426, 30)"
      ]
     },
     "execution_count": 6,
     "metadata": {},
     "output_type": "execute_result"
    }
   ],
   "source": [
    "from sklearn.preprocessing import MinMaxScaler\n",
    "scaler = MinMaxScaler()\n",
    "scaler.fit(X_train)\n",
    "X_train = scaler.transform(X_train)\n",
    "X_test = scaler.transform(X_test)\n",
    "X_train.shape"
   ]
  },
  {
   "cell_type": "markdown",
   "metadata": {
    "tags": []
   },
   "source": [
    "## Select the Problem Type : \n",
    "### ANN - Multi-Class Classification"
   ]
  },
  {
   "cell_type": "markdown",
   "metadata": {},
   "source": [
    "### Model : Example 1"
   ]
  },
  {
   "cell_type": "markdown",
   "metadata": {
    "tags": []
   },
   "source": [
    "#### Set Hyper Parameters"
   ]
  },
  {
   "cell_type": "markdown",
   "metadata": {},
   "source": [
    "#### Create"
   ]
  },
  {
   "cell_type": "code",
   "execution_count": 7,
   "metadata": {},
   "outputs": [],
   "source": [
    "# Example One: Choosing too many epochs and overfitting!\n",
    "# https://stats.stackexchange.com/questions/181/how-to-choose-the-number-of-hidden-layers-and-nodes-in-a-feedforward-neural-netw\n",
    "# Build the model using the functional API\n",
    "k = 1\n",
    "i = Input(shape=X_train[0].shape)\n",
    "x = Dense(units = 30, activation='relu')(i)\n",
    "x = Dense(units=15,activation='relu')(x)\n",
    "x = Dense(k, activation='sigmoid')(x)\n",
    "\n",
    "model = Model(i, x)"
   ]
  },
  {
   "cell_type": "markdown",
   "metadata": {},
   "source": [
    "#### Compile"
   ]
  },
  {
   "cell_type": "code",
   "execution_count": 8,
   "metadata": {
    "id": "vdPJU0r2DzW5",
    "tags": []
   },
   "outputs": [],
   "source": [
    "# For a binary classification problem\n",
    "model.compile(optimizer='rmsprop',\n",
    "              loss='binary_crossentropy',\n",
    "              metrics=['accuracy'])"
   ]
  },
  {
   "cell_type": "markdown",
   "metadata": {},
   "source": [
    "#### Model Summary"
   ]
  },
  {
   "cell_type": "code",
   "execution_count": 9,
   "metadata": {},
   "outputs": [
    {
     "name": "stdout",
     "output_type": "stream",
     "text": [
      "Model: \"functional_1\"\n",
      "_________________________________________________________________\n",
      "Layer (type)                 Output Shape              Param #   \n",
      "=================================================================\n",
      "input_1 (InputLayer)         [(None, 30)]              0         \n",
      "_________________________________________________________________\n",
      "dense (Dense)                (None, 30)                930       \n",
      "_________________________________________________________________\n",
      "dense_1 (Dense)              (None, 15)                465       \n",
      "_________________________________________________________________\n",
      "dense_2 (Dense)              (None, 1)                 16        \n",
      "=================================================================\n",
      "Total params: 1,411\n",
      "Trainable params: 1,411\n",
      "Non-trainable params: 0\n",
      "_________________________________________________________________\n"
     ]
    }
   ],
   "source": [
    "model.summary()"
   ]
  },
  {
   "cell_type": "markdown",
   "metadata": {
    "tags": []
   },
   "source": [
    "#### Train the model"
   ]
  },
  {
   "cell_type": "code",
   "execution_count": 10,
   "metadata": {
    "tags": []
   },
   "outputs": [],
   "source": [
    "history = model.fit(x=X_train, \n",
    "          y=y_train, \n",
    "          epochs=600,\n",
    "          validation_data=(X_test, y_test), \n",
    "          verbose=0\n",
    "          )"
   ]
  },
  {
   "cell_type": "markdown",
   "metadata": {
    "tags": []
   },
   "source": [
    "#### Evaluate"
   ]
  },
  {
   "cell_type": "code",
   "execution_count": 11,
   "metadata": {
    "colab": {
     "base_uri": "https://localhost:8080/",
     "height": 282
    },
    "id": "CD1JgNna6Kfx",
    "outputId": "2c6fedb5-3b2a-4b95-a0db-edd84f60d883"
   },
   "outputs": [
    {
     "data": {
      "text/plain": [
       "<AxesSubplot:>"
      ]
     },
     "execution_count": 11,
     "metadata": {},
     "output_type": "execute_result"
    },
    {
     "data": {
      "image/png": "[encoded data removed]",
      "text/plain": [
       "<Figure size 432x288 with 1 Axes>"
      ]
     },
     "metadata": {
      "needs_background": "light"
     },
     "output_type": "display_data"
    }
   ],
   "source": [
    "# todo fix this\n",
    "pd.DataFrame(model.history.history).plot()"
   ]
  },
  {
   "cell_type": "markdown",
   "metadata": {
    "tags": []
   },
   "source": [
    "### Model : Example 2"
   ]
  },
  {
   "cell_type": "markdown",
   "metadata": {},
   "source": [
    "#### create\n",
    "#### compile\n",
    "#### summary"
   ]
  },
  {
   "cell_type": "code",
   "execution_count": 12,
   "metadata": {},
   "outputs": [],
   "source": [
    "## Example Two: Early Stopping\n",
    "# https://stats.stackexchange.com/questions/164876/tradeoff-batch-size-vs-number-of-iterations-to-train-a-neural-network\n",
    "# https://datascience.stackexchange.com/questions/18414/are-there-any-rules-for-choosing-the-size-of-a-mini-batch\n",
    "\n",
    "# Let's use early stopping to track the val_loss and stop training once it begins increasing too much!\n",
    "\n",
    "model = Sequential()\n",
    "model.add(Dense(units=30,activation='relu'))\n",
    "model.add(Dense(units=15,activation='relu'))\n",
    "model.add(Dense(units=1,activation='sigmoid'))\n",
    "\n",
    "#model.summary()    #raises an error if input is not provided in the first layer ;)\n",
    "model.compile(optimizer='adam',\n",
    "              loss='binary_crossentropy')"
   ]
  },
  {
   "cell_type": "markdown",
   "metadata": {
    "id": "yDOM4pvc6Kfx"
   },
   "source": [
    "Stop training when a monitored quantity has stopped improving.\n",
    "\n",
    "    Arguments:\n",
    "        monitor: Quantity to be monitored.\n",
    "        min_delta: Minimum change in the monitored quantity\n",
    "            to qualify as an improvement, i.e. an absolute\n",
    "            change of less than min_delta, will count as no\n",
    "            improvement.\n",
    "        patience: Number of epochs with no improvement\n",
    "            after which training will be stopped.\n",
    "        verbose: verbosity mode.\n",
    "        mode: One of `{\"auto\", \"min\", \"max\"}`. In `min` mode,\n",
    "            training will stop when the quantity\n",
    "            monitored has stopped decreasing; in `max`\n",
    "            mode it will stop when the quantity\n",
    "            monitored has stopped increasing; in `auto`\n",
    "            mode, the direction is automatically inferred\n",
    "            from the name of the monitored quantity."
   ]
  },
  {
   "cell_type": "code",
   "execution_count": 13,
   "metadata": {
    "id": "j4KK9-Fs6Kfx",
    "tags": []
   },
   "outputs": [
    {
     "name": "stdout",
     "output_type": "stream",
     "text": [
      "Epoch 1/600\n",
      "14/14 [==============================] - 0s 10ms/step - loss: 0.6953 - val_loss: 0.6703\n",
      "Epoch 2/600\n",
      "14/14 [==============================] - 0s 2ms/step - loss: 0.6545 - val_loss: 0.6368\n",
      "Epoch 3/600\n",
      "14/14 [==============================] - 0s 3ms/step - loss: 0.6163 - val_loss: 0.5986\n",
      "Epoch 4/600\n",
      "14/14 [==============================] - 0s 3ms/step - loss: 0.5757 - val_loss: 0.5570\n",
      "Epoch 5/600\n",
      "14/14 [==============================] - 0s 3ms/step - loss: 0.5359 - val_loss: 0.5144\n",
      "Epoch 6/600\n",
      "14/14 [==============================] - 0s 2ms/step - loss: 0.4909 - val_loss: 0.4704\n",
      "Epoch 7/600\n",
      "14/14 [==============================] - 0s 3ms/step - loss: 0.4425 - val_loss: 0.4184\n",
      "Epoch 8/600\n",
      "14/14 [==============================] - 0s 2ms/step - loss: 0.3964 - val_loss: 0.3694\n",
      "Epoch 9/600\n",
      "14/14 [==============================] - 0s 3ms/step - loss: 0.3521 - val_loss: 0.3288\n",
      "Epoch 10/600\n",
      "14/14 [==============================] - 0s 3ms/step - loss: 0.3171 - val_loss: 0.2935\n",
      "Epoch 11/600\n",
      "14/14 [==============================] - 0s 2ms/step - loss: 0.2852 - val_loss: 0.2645\n",
      "Epoch 12/600\n",
      "14/14 [==============================] - 0s 2ms/step - loss: 0.2587 - val_loss: 0.2421\n",
      "Epoch 13/600\n",
      "14/14 [==============================] - 0s 2ms/step - loss: 0.2376 - val_loss: 0.2221\n",
      "Epoch 14/600\n",
      "14/14 [==============================] - 0s 3ms/step - loss: 0.2230 - val_loss: 0.2065\n",
      "Epoch 15/600\n",
      "14/14 [==============================] - 0s 2ms/step - loss: 0.2084 - val_loss: 0.1914\n",
      "Epoch 16/600\n",
      "14/14 [==============================] - 0s 3ms/step - loss: 0.1966 - val_loss: 0.1838\n",
      "Epoch 17/600\n",
      "14/14 [==============================] - 0s 3ms/step - loss: 0.1820 - val_loss: 0.1711\n",
      "Epoch 18/600\n",
      "14/14 [==============================] - 0s 3ms/step - loss: 0.1721 - val_loss: 0.1642\n",
      "Epoch 19/600\n",
      "14/14 [==============================] - 0s 3ms/step - loss: 0.1635 - val_loss: 0.1556\n",
      "Epoch 20/600\n",
      "14/14 [==============================] - 0s 2ms/step - loss: 0.1576 - val_loss: 0.1520\n",
      "Epoch 21/600\n",
      "14/14 [==============================] - 0s 2ms/step - loss: 0.1490 - val_loss: 0.1428\n",
      "Epoch 22/600\n",
      "14/14 [==============================] - 0s 2ms/step - loss: 0.1435 - val_loss: 0.1418\n",
      "Epoch 23/600\n",
      "14/14 [==============================] - 0s 3ms/step - loss: 0.1379 - val_loss: 0.1356\n",
      "Epoch 24/600\n",
      "14/14 [==============================] - 0s 3ms/step - loss: 0.1323 - val_loss: 0.1319\n",
      "Epoch 25/600\n",
      "14/14 [==============================] - 0s 2ms/step - loss: 0.1277 - val_loss: 0.1328\n",
      "Epoch 26/600\n",
      "14/14 [==============================] - 0s 3ms/step - loss: 0.1227 - val_loss: 0.1255\n",
      "Epoch 27/600\n",
      "14/14 [==============================] - 0s 2ms/step - loss: 0.1172 - val_loss: 0.1243\n",
      "Epoch 28/600\n",
      "14/14 [==============================] - 0s 3ms/step - loss: 0.1136 - val_loss: 0.1204\n",
      "Epoch 29/600\n",
      "14/14 [==============================] - 0s 3ms/step - loss: 0.1114 - val_loss: 0.1202\n",
      "Epoch 30/600\n",
      "14/14 [==============================] - 0s 2ms/step - loss: 0.1063 - val_loss: 0.1155\n",
      "Epoch 31/600\n",
      "14/14 [==============================] - 0s 3ms/step - loss: 0.1033 - val_loss: 0.1159\n",
      "Epoch 32/600\n",
      "14/14 [==============================] - 0s 3ms/step - loss: 0.1003 - val_loss: 0.1142\n",
      "Epoch 33/600\n",
      "14/14 [==============================] - 0s 3ms/step - loss: 0.0987 - val_loss: 0.1157\n",
      "Epoch 34/600\n",
      "14/14 [==============================] - 0s 3ms/step - loss: 0.0979 - val_loss: 0.1148\n",
      "Epoch 35/600\n",
      "14/14 [==============================] - 0s 3ms/step - loss: 0.0922 - val_loss: 0.1090\n",
      "Epoch 36/600\n",
      "14/14 [==============================] - 0s 3ms/step - loss: 0.0895 - val_loss: 0.1113\n",
      "Epoch 37/600\n",
      "14/14 [==============================] - 0s 2ms/step - loss: 0.0881 - val_loss: 0.1108\n",
      "Epoch 38/600\n",
      "14/14 [==============================] - 0s 3ms/step - loss: 0.0858 - val_loss: 0.1074\n",
      "Epoch 39/600\n",
      "14/14 [==============================] - 0s 2ms/step - loss: 0.0848 - val_loss: 0.1082\n",
      "Epoch 40/600\n",
      "14/14 [==============================] - 0s 3ms/step - loss: 0.0819 - val_loss: 0.1062\n",
      "Epoch 41/600\n",
      "14/14 [==============================] - 0s 2ms/step - loss: 0.0805 - val_loss: 0.1054\n",
      "Epoch 42/600\n",
      "14/14 [==============================] - 0s 2ms/step - loss: 0.0783 - val_loss: 0.1108\n",
      "Epoch 43/600\n",
      "14/14 [==============================] - 0s 2ms/step - loss: 0.0787 - val_loss: 0.1061\n",
      "Epoch 44/600\n",
      "14/14 [==============================] - 0s 2ms/step - loss: 0.0795 - val_loss: 0.1055\n",
      "Epoch 45/600\n",
      "14/14 [==============================] - 0s 2ms/step - loss: 0.0746 - val_loss: 0.1054\n",
      "Epoch 46/600\n",
      "14/14 [==============================] - 0s 3ms/step - loss: 0.0730 - val_loss: 0.1041\n",
      "Epoch 47/600\n",
      "14/14 [==============================] - 0s 3ms/step - loss: 0.0736 - val_loss: 0.1004\n",
      "Epoch 48/600\n",
      "14/14 [==============================] - 0s 2ms/step - loss: 0.0780 - val_loss: 0.1037\n",
      "Epoch 49/600\n",
      "14/14 [==============================] - 0s 3ms/step - loss: 0.0813 - val_loss: 0.1019\n",
      "Epoch 50/600\n",
      "14/14 [==============================] - 0s 3ms/step - loss: 0.0729 - val_loss: 0.1084\n",
      "Epoch 51/600\n",
      "14/14 [==============================] - 0s 2ms/step - loss: 0.0704 - val_loss: 0.1009\n",
      "Epoch 52/600\n",
      "14/14 [==============================] - 0s 3ms/step - loss: 0.0675 - val_loss: 0.0997\n",
      "Epoch 53/600\n",
      "14/14 [==============================] - 0s 3ms/step - loss: 0.0674 - val_loss: 0.1012\n",
      "Epoch 54/600\n",
      "14/14 [==============================] - 0s 2ms/step - loss: 0.0657 - val_loss: 0.0995\n",
      "Epoch 55/600\n",
      "14/14 [==============================] - 0s 2ms/step - loss: 0.0657 - val_loss: 0.1028\n",
      "Epoch 56/600\n",
      "14/14 [==============================] - 0s 3ms/step - loss: 0.0647 - val_loss: 0.1012\n",
      "Epoch 57/600\n",
      "14/14 [==============================] - 0s 3ms/step - loss: 0.0645 - val_loss: 0.1105\n",
      "Epoch 58/600\n",
      "14/14 [==============================] - 0s 3ms/step - loss: 0.0658 - val_loss: 0.1004\n",
      "Epoch 59/600\n",
      "14/14 [==============================] - 0s 2ms/step - loss: 0.0622 - val_loss: 0.0997\n",
      "Epoch 60/600\n",
      "14/14 [==============================] - 0s 3ms/step - loss: 0.0642 - val_loss: 0.1088\n",
      "Epoch 61/600\n",
      "14/14 [==============================] - 0s 3ms/step - loss: 0.0645 - val_loss: 0.1005\n",
      "Epoch 62/600\n",
      "14/14 [==============================] - ETA: 0s - loss: 0.031 - 0s 3ms/step - loss: 0.0603 - val_loss: 0.1066\n",
      "Epoch 63/600\n",
      "14/14 [==============================] - 0s 3ms/step - loss: 0.0602 - val_loss: 0.1013\n",
      "Epoch 64/600\n",
      "14/14 [==============================] - 0s 5ms/step - loss: 0.0609 - val_loss: 0.1004\n",
      "Epoch 65/600\n",
      "14/14 [==============================] - 0s 3ms/step - loss: 0.0582 - val_loss: 0.1060\n",
      "Epoch 66/600\n",
      "14/14 [==============================] - 0s 3ms/step - loss: 0.0583 - val_loss: 0.0998\n",
      "Epoch 67/600\n",
      "14/14 [==============================] - 0s 2ms/step - loss: 0.0601 - val_loss: 0.1008\n",
      "Epoch 68/600\n",
      "14/14 [==============================] - 0s 2ms/step - loss: 0.0588 - val_loss: 0.0978\n",
      "Epoch 69/600\n",
      "14/14 [==============================] - 0s 2ms/step - loss: 0.0569 - val_loss: 0.1040\n",
      "Epoch 70/600\n",
      "14/14 [==============================] - 0s 3ms/step - loss: 0.0572 - val_loss: 0.1005\n",
      "Epoch 71/600\n",
      "14/14 [==============================] - 0s 2ms/step - loss: 0.0583 - val_loss: 0.1012\n",
      "Epoch 72/600\n",
      "14/14 [==============================] - 0s 2ms/step - loss: 0.0566 - val_loss: 0.1030\n",
      "Epoch 73/600\n",
      "14/14 [==============================] - 0s 2ms/step - loss: 0.0559 - val_loss: 0.1026\n",
      "Epoch 74/600\n",
      "14/14 [==============================] - 0s 3ms/step - loss: 0.0553 - val_loss: 0.1010\n",
      "Epoch 75/600\n",
      "14/14 [==============================] - 0s 4ms/step - loss: 0.0563 - val_loss: 0.1032\n",
      "Epoch 76/600\n",
      "14/14 [==============================] - 0s 4ms/step - loss: 0.0565 - val_loss: 0.1045\n",
      "Epoch 77/600\n",
      "14/14 [==============================] - 0s 2ms/step - loss: 0.0565 - val_loss: 0.1040\n",
      "Epoch 78/600\n",
      "14/14 [==============================] - 0s 2ms/step - loss: 0.0573 - val_loss: 0.1056\n",
      "Epoch 79/600\n",
      "14/14 [==============================] - 0s 3ms/step - loss: 0.0552 - val_loss: 0.1023\n",
      "Epoch 80/600\n",
      "14/14 [==============================] - 0s 3ms/step - loss: 0.0616 - val_loss: 0.1002\n",
      "Epoch 81/600\n",
      "14/14 [==============================] - 0s 2ms/step - loss: 0.0552 - val_loss: 0.1062\n",
      "Epoch 82/600\n",
      "14/14 [==============================] - 0s 3ms/step - loss: 0.0543 - val_loss: 0.1027\n",
      "Epoch 83/600\n",
      "14/14 [==============================] - 0s 2ms/step - loss: 0.0537 - val_loss: 0.1048\n",
      "Epoch 84/600\n",
      "14/14 [==============================] - 0s 2ms/step - loss: 0.0550 - val_loss: 0.1052\n",
      "Epoch 85/600\n",
      "14/14 [==============================] - 0s 2ms/step - loss: 0.0575 - val_loss: 0.1028\n",
      "Epoch 86/600\n",
      "14/14 [==============================] - 0s 2ms/step - loss: 0.0512 - val_loss: 0.0987\n",
      "Epoch 87/600\n",
      "14/14 [==============================] - 0s 3ms/step - loss: 0.0534 - val_loss: 0.1093\n",
      "Epoch 88/600\n",
      "14/14 [==============================] - 0s 2ms/step - loss: 0.0563 - val_loss: 0.1030\n",
      "Epoch 89/600\n",
      "14/14 [==============================] - 0s 3ms/step - loss: 0.0509 - val_loss: 0.1057\n",
      "Epoch 90/600\n",
      "14/14 [==============================] - 0s 2ms/step - loss: 0.0547 - val_loss: 0.0991\n",
      "Epoch 91/600\n",
      "14/14 [==============================] - 0s 3ms/step - loss: 0.0504 - val_loss: 0.1075\n",
      "Epoch 92/600\n",
      "14/14 [==============================] - 0s 2ms/step - loss: 0.0502 - val_loss: 0.0993\n",
      "Epoch 93/600\n",
      "14/14 [==============================] - 0s 3ms/step - loss: 0.0497 - val_loss: 0.1094\n",
      "Epoch 00093: early stopping\n"
     ]
    },
    {
     "data": {
      "text/plain": [
       "<tensorflow.python.keras.callbacks.History at 0x258d4346580>"
      ]
     },
     "execution_count": 13,
     "metadata": {},
     "output_type": "execute_result"
    }
   ],
   "source": [
    "from tensorflow.keras.callbacks import EarlyStopping\n",
    "\n",
    "early_stop = EarlyStopping(monitor='val_loss', mode='min', verbose=1, patience=25)\n",
    "\n",
    "model.fit(x = X_train, \n",
    "          y = y_train, \n",
    "          epochs = 600,\n",
    "          validation_data = (X_test, y_test), verbose=1, callbacks=[early_stop]\n",
    "          )"
   ]
  },
  {
   "cell_type": "code",
   "execution_count": 14,
   "metadata": {
    "colab": {
     "base_uri": "https://localhost:8080/",
     "height": 282
    },
    "id": "oPTR3ET0Fg40",
    "outputId": "6d8136f0-4711-4a32-a892-6d3496a7fe01"
   },
   "outputs": [
    {
     "data": {
      "text/plain": [
       "<AxesSubplot:>"
      ]
     },
     "execution_count": 14,
     "metadata": {},
     "output_type": "execute_result"
    },
    {
     "data": {
      "image/png": "[encoded data removed]",
      "text/plain": [
       "<Figure size 432x288 with 1 Axes>"
      ]
     },
     "metadata": {
      "needs_background": "light"
     },
     "output_type": "display_data"
    }
   ],
   "source": [
    "pd.DataFrame(model.history.history).plot()"
   ]
  },
  {
   "cell_type": "markdown",
   "metadata": {},
   "source": [
    "### Model : Example 3"
   ]
  },
  {
   "cell_type": "markdown",
   "metadata": {},
   "source": [
    "#### Hyper parameters"
   ]
  },
  {
   "cell_type": "markdown",
   "metadata": {},
   "source": [
    "\n",
    "#### create\n",
    "#### compile\n",
    "#### summary\n"
   ]
  },
  {
   "cell_type": "code",
   "execution_count": 15,
   "metadata": {
    "id": "4647wpLG6Kfx"
   },
   "outputs": [],
   "source": [
    "## Example Three: Adding in DropOut Layers\n",
    "from tensorflow.keras.layers import Dropout\n",
    "model = Sequential()\n",
    "model.add(Dense(units=30,activation='relu'))\n",
    "model.add(Dropout(0.5))\n",
    "\n",
    "model.add(Dense(units=15,activation='relu'))\n",
    "model.add(Dropout(0.5))\n",
    "\n",
    "model.add(Dense(units=1,activation='sigmoid'))\n",
    "model.compile(loss='binary_crossentropy', optimizer='adam')\n",
    "#model.summary()    #raises an error if input is not provided in the first layer ;)"
   ]
  },
  {
   "cell_type": "code",
   "execution_count": 16,
   "metadata": {
    "colab": {
     "base_uri": "https://localhost:8080/"
    },
    "id": "KUDlU2Eo6Kfx",
    "outputId": "a9a3bd9e-d118-4702-8ac0-49af5c456a1b",
    "tags": []
   },
   "outputs": [
    {
     "name": "stdout",
     "output_type": "stream",
     "text": [
      "Epoch 1/600\n",
      "14/14 [==============================] - 0s 10ms/step - loss: 0.7278 - val_loss: 0.7115\n",
      "Epoch 2/600\n",
      "14/14 [==============================] - 0s 3ms/step - loss: 0.7139 - val_loss: 0.6911\n",
      "Epoch 3/600\n",
      "14/14 [==============================] - 0s 2ms/step - loss: 0.6926 - val_loss: 0.6754\n",
      "Epoch 4/600\n",
      "14/14 [==============================] - 0s 2ms/step - loss: 0.6703 - val_loss: 0.6598\n",
      "Epoch 5/600\n",
      "14/14 [==============================] - 0s 2ms/step - loss: 0.6446 - val_loss: 0.6425\n",
      "Epoch 6/600\n",
      "14/14 [==============================] - 0s 3ms/step - loss: 0.6399 - val_loss: 0.6223\n",
      "Epoch 7/600\n",
      "14/14 [==============================] - 0s 2ms/step - loss: 0.6152 - val_loss: 0.5999\n",
      "Epoch 8/600\n",
      "14/14 [==============================] - 0s 2ms/step - loss: 0.5789 - val_loss: 0.5710\n",
      "Epoch 9/600\n",
      "14/14 [==============================] - 0s 2ms/step - loss: 0.5712 - val_loss: 0.5402\n",
      "Epoch 10/600\n",
      "14/14 [==============================] - 0s 2ms/step - loss: 0.5842 - val_loss: 0.5180\n",
      "Epoch 11/600\n",
      "14/14 [==============================] - 0s 2ms/step - loss: 0.5319 - val_loss: 0.4917\n",
      "Epoch 12/600\n",
      "14/14 [==============================] - 0s 3ms/step - loss: 0.5245 - val_loss: 0.4686\n",
      "Epoch 13/600\n",
      "14/14 [==============================] - 0s 3ms/step - loss: 0.4748 - val_loss: 0.4385\n",
      "Epoch 14/600\n",
      "14/14 [==============================] - 0s 3ms/step - loss: 0.4774 - val_loss: 0.4081\n",
      "Epoch 15/600\n",
      "14/14 [==============================] - 0s 3ms/step - loss: 0.4752 - val_loss: 0.3849\n",
      "Epoch 16/600\n",
      "14/14 [==============================] - 0s 3ms/step - loss: 0.4602 - val_loss: 0.3760\n",
      "Epoch 17/600\n",
      "14/14 [==============================] - 0s 3ms/step - loss: 0.4347 - val_loss: 0.3488\n",
      "Epoch 18/600\n",
      "14/14 [==============================] - 0s 3ms/step - loss: 0.4079 - val_loss: 0.3278\n",
      "Epoch 19/600\n",
      "14/14 [==============================] - 0s 3ms/step - loss: 0.3925 - val_loss: 0.3028\n",
      "Epoch 20/600\n",
      "14/14 [==============================] - 0s 2ms/step - loss: 0.3910 - val_loss: 0.2827\n",
      "Epoch 21/600\n",
      "14/14 [==============================] - 0s 2ms/step - loss: 0.3600 - val_loss: 0.2677\n",
      "Epoch 22/600\n",
      "14/14 [==============================] - 0s 2ms/step - loss: 0.3489 - val_loss: 0.2477\n",
      "Epoch 23/600\n",
      "14/14 [==============================] - 0s 3ms/step - loss: 0.3366 - val_loss: 0.2308\n",
      "Epoch 24/600\n",
      "14/14 [==============================] - 0s 3ms/step - loss: 0.3287 - val_loss: 0.2236\n",
      "Epoch 25/600\n",
      "14/14 [==============================] - 0s 2ms/step - loss: 0.3585 - val_loss: 0.2212\n",
      "Epoch 26/600\n",
      "14/14 [==============================] - 0s 2ms/step - loss: 0.3111 - val_loss: 0.2084\n",
      "Epoch 27/600\n",
      "14/14 [==============================] - 0s 3ms/step - loss: 0.3049 - val_loss: 0.1983\n",
      "Epoch 28/600\n",
      "14/14 [==============================] - 0s 3ms/step - loss: 0.2837 - val_loss: 0.1893\n",
      "Epoch 29/600\n",
      "14/14 [==============================] - 0s 2ms/step - loss: 0.3018 - val_loss: 0.1868\n",
      "Epoch 30/600\n",
      "14/14 [==============================] - 0s 3ms/step - loss: 0.2652 - val_loss: 0.1783\n",
      "Epoch 31/600\n",
      "14/14 [==============================] - 0s 3ms/step - loss: 0.2463 - val_loss: 0.1667\n",
      "Epoch 32/600\n",
      "14/14 [==============================] - 0s 3ms/step - loss: 0.2428 - val_loss: 0.1592\n",
      "Epoch 33/600\n",
      "14/14 [==============================] - 0s 3ms/step - loss: 0.2515 - val_loss: 0.1580\n",
      "Epoch 34/600\n",
      "14/14 [==============================] - 0s 3ms/step - loss: 0.2414 - val_loss: 0.1544\n",
      "Epoch 35/600\n",
      "14/14 [==============================] - 0s 2ms/step - loss: 0.2294 - val_loss: 0.1473\n",
      "Epoch 36/600\n",
      "14/14 [==============================] - 0s 3ms/step - loss: 0.2294 - val_loss: 0.1493\n",
      "Epoch 37/600\n",
      "14/14 [==============================] - 0s 3ms/step - loss: 0.2257 - val_loss: 0.1398\n",
      "Epoch 38/600\n",
      "14/14 [==============================] - 0s 2ms/step - loss: 0.2249 - val_loss: 0.1421\n",
      "Epoch 39/600\n",
      "14/14 [==============================] - 0s 3ms/step - loss: 0.1964 - val_loss: 0.1389\n",
      "Epoch 40/600\n",
      "14/14 [==============================] - 0s 2ms/step - loss: 0.1973 - val_loss: 0.1364\n",
      "Epoch 41/600\n",
      "14/14 [==============================] - 0s 2ms/step - loss: 0.2169 - val_loss: 0.1296\n",
      "Epoch 42/600\n",
      "14/14 [==============================] - 0s 3ms/step - loss: 0.1828 - val_loss: 0.1270\n",
      "Epoch 43/600\n",
      "14/14 [==============================] - 0s 3ms/step - loss: 0.1878 - val_loss: 0.1313\n",
      "Epoch 44/600\n",
      "14/14 [==============================] - 0s 3ms/step - loss: 0.2002 - val_loss: 0.1318\n",
      "Epoch 45/600\n",
      "14/14 [==============================] - 0s 3ms/step - loss: 0.1573 - val_loss: 0.1228\n",
      "Epoch 46/600\n",
      "14/14 [==============================] - 0s 3ms/step - loss: 0.1866 - val_loss: 0.1199\n",
      "Epoch 47/600\n",
      "14/14 [==============================] - 0s 2ms/step - loss: 0.1775 - val_loss: 0.1269\n",
      "Epoch 48/600\n",
      "14/14 [==============================] - 0s 2ms/step - loss: 0.1595 - val_loss: 0.1187\n",
      "Epoch 49/600\n",
      "14/14 [==============================] - 0s 3ms/step - loss: 0.1647 - val_loss: 0.1181\n",
      "Epoch 50/600\n",
      "14/14 [==============================] - 0s 2ms/step - loss: 0.1541 - val_loss: 0.1152\n",
      "Epoch 51/600\n",
      "14/14 [==============================] - 0s 3ms/step - loss: 0.1752 - val_loss: 0.1207\n",
      "Epoch 52/600\n",
      "14/14 [==============================] - 0s 3ms/step - loss: 0.1580 - val_loss: 0.1147\n",
      "Epoch 53/600\n",
      "14/14 [==============================] - 0s 3ms/step - loss: 0.1650 - val_loss: 0.1157\n",
      "Epoch 54/600\n",
      "14/14 [==============================] - 0s 3ms/step - loss: 0.1736 - val_loss: 0.1129\n",
      "Epoch 55/600\n",
      "14/14 [==============================] - 0s 3ms/step - loss: 0.1759 - val_loss: 0.1121\n",
      "Epoch 56/600\n",
      "14/14 [==============================] - 0s 3ms/step - loss: 0.1425 - val_loss: 0.1168\n",
      "Epoch 57/600\n",
      "14/14 [==============================] - 0s 3ms/step - loss: 0.1383 - val_loss: 0.1103\n",
      "Epoch 58/600\n",
      "14/14 [==============================] - 0s 2ms/step - loss: 0.1403 - val_loss: 0.1083\n",
      "Epoch 59/600\n",
      "14/14 [==============================] - 0s 2ms/step - loss: 0.1566 - val_loss: 0.1076\n",
      "Epoch 60/600\n",
      "14/14 [==============================] - 0s 2ms/step - loss: 0.1484 - val_loss: 0.1158\n",
      "Epoch 61/600\n",
      "14/14 [==============================] - 0s 3ms/step - loss: 0.1300 - val_loss: 0.1106\n",
      "Epoch 62/600\n",
      "14/14 [==============================] - 0s 2ms/step - loss: 0.1686 - val_loss: 0.1064\n",
      "Epoch 63/600\n",
      "14/14 [==============================] - 0s 3ms/step - loss: 0.1551 - val_loss: 0.1091\n",
      "Epoch 64/600\n",
      "14/14 [==============================] - 0s 3ms/step - loss: 0.1366 - val_loss: 0.1210\n",
      "Epoch 65/600\n",
      "14/14 [==============================] - 0s 2ms/step - loss: 0.1588 - val_loss: 0.1041\n",
      "Epoch 66/600\n",
      "14/14 [==============================] - 0s 3ms/step - loss: 0.1284 - val_loss: 0.1050\n",
      "Epoch 67/600\n",
      "14/14 [==============================] - 0s 2ms/step - loss: 0.1544 - val_loss: 0.1299\n",
      "Epoch 68/600\n",
      "14/14 [==============================] - 0s 3ms/step - loss: 0.1418 - val_loss: 0.1062\n",
      "Epoch 69/600\n",
      "14/14 [==============================] - 0s 3ms/step - loss: 0.1362 - val_loss: 0.1068\n",
      "Epoch 70/600\n",
      "14/14 [==============================] - 0s 3ms/step - loss: 0.1205 - val_loss: 0.1269\n",
      "Epoch 71/600\n",
      "14/14 [==============================] - 0s 2ms/step - loss: 0.1215 - val_loss: 0.1042\n",
      "Epoch 72/600\n",
      "14/14 [==============================] - 0s 2ms/step - loss: 0.1243 - val_loss: 0.1033\n",
      "Epoch 73/600\n",
      "14/14 [==============================] - 0s 3ms/step - loss: 0.1256 - val_loss: 0.1050\n",
      "Epoch 74/600\n",
      "14/14 [==============================] - 0s 3ms/step - loss: 0.1143 - val_loss: 0.1062\n",
      "Epoch 75/600\n",
      "14/14 [==============================] - 0s 2ms/step - loss: 0.1336 - val_loss: 0.1097\n",
      "Epoch 76/600\n",
      "14/14 [==============================] - 0s 3ms/step - loss: 0.1421 - val_loss: 0.1035\n",
      "Epoch 77/600\n",
      "14/14 [==============================] - 0s 2ms/step - loss: 0.1092 - val_loss: 0.1060\n",
      "Epoch 78/600\n",
      "14/14 [==============================] - 0s 3ms/step - loss: 0.1359 - val_loss: 0.1228\n",
      "Epoch 79/600\n",
      "14/14 [==============================] - 0s 3ms/step - loss: 0.1234 - val_loss: 0.1011\n",
      "Epoch 80/600\n",
      "14/14 [==============================] - 0s 2ms/step - loss: 0.1291 - val_loss: 0.1062\n",
      "Epoch 81/600\n",
      "14/14 [==============================] - 0s 3ms/step - loss: 0.1218 - val_loss: 0.1125\n",
      "Epoch 82/600\n",
      "14/14 [==============================] - 0s 3ms/step - loss: 0.1130 - val_loss: 0.1049\n",
      "Epoch 83/600\n",
      "14/14 [==============================] - 0s 2ms/step - loss: 0.1223 - val_loss: 0.1046\n",
      "Epoch 84/600\n",
      "14/14 [==============================] - 0s 3ms/step - loss: 0.1307 - val_loss: 0.1093\n",
      "Epoch 85/600\n",
      "14/14 [==============================] - 0s 3ms/step - loss: 0.1220 - val_loss: 0.1064\n",
      "Epoch 86/600\n",
      "14/14 [==============================] - 0s 3ms/step - loss: 0.1077 - val_loss: 0.1056\n",
      "Epoch 87/600\n",
      "14/14 [==============================] - 0s 3ms/step - loss: 0.1185 - val_loss: 0.1009\n",
      "Epoch 88/600\n",
      "14/14 [==============================] - 0s 3ms/step - loss: 0.1330 - val_loss: 0.1042\n",
      "Epoch 89/600\n",
      "14/14 [==============================] - 0s 3ms/step - loss: 0.1220 - val_loss: 0.1075\n",
      "Epoch 90/600\n",
      "14/14 [==============================] - 0s 3ms/step - loss: 0.1275 - val_loss: 0.1012\n",
      "Epoch 91/600\n",
      "14/14 [==============================] - 0s 3ms/step - loss: 0.1105 - val_loss: 0.0992\n",
      "Epoch 92/600\n",
      "14/14 [==============================] - 0s 3ms/step - loss: 0.1272 - val_loss: 0.1070\n",
      "Epoch 93/600\n",
      "14/14 [==============================] - 0s 3ms/step - loss: 0.1189 - val_loss: 0.1054\n",
      "Epoch 94/600\n",
      "14/14 [==============================] - 0s 3ms/step - loss: 0.1097 - val_loss: 0.1061\n",
      "Epoch 95/600\n",
      "14/14 [==============================] - 0s 2ms/step - loss: 0.1232 - val_loss: 0.1112\n",
      "Epoch 96/600\n",
      "14/14 [==============================] - 0s 3ms/step - loss: 0.0962 - val_loss: 0.1255\n",
      "Epoch 97/600\n",
      "14/14 [==============================] - 0s 2ms/step - loss: 0.1226 - val_loss: 0.1065\n",
      "Epoch 98/600\n",
      "14/14 [==============================] - 0s 3ms/step - loss: 0.0946 - val_loss: 0.1025\n",
      "Epoch 99/600\n",
      "14/14 [==============================] - 0s 3ms/step - loss: 0.1191 - val_loss: 0.1074\n",
      "Epoch 100/600\n",
      "14/14 [==============================] - 0s 3ms/step - loss: 0.1124 - val_loss: 0.1186\n",
      "Epoch 101/600\n",
      "14/14 [==============================] - 0s 2ms/step - loss: 0.1104 - val_loss: 0.1093\n",
      "Epoch 102/600\n",
      "14/14 [==============================] - 0s 2ms/step - loss: 0.1020 - val_loss: 0.1058\n",
      "Epoch 103/600\n",
      "14/14 [==============================] - 0s 3ms/step - loss: 0.1005 - val_loss: 0.1024\n",
      "Epoch 104/600\n",
      "14/14 [==============================] - 0s 3ms/step - loss: 0.1068 - val_loss: 0.1083\n",
      "Epoch 105/600\n",
      "14/14 [==============================] - 0s 3ms/step - loss: 0.1003 - val_loss: 0.1139\n",
      "Epoch 106/600\n",
      "14/14 [==============================] - 0s 3ms/step - loss: 0.1015 - val_loss: 0.1119\n",
      "Epoch 107/600\n",
      "14/14 [==============================] - 0s 3ms/step - loss: 0.1051 - val_loss: 0.1132\n",
      "Epoch 108/600\n",
      "14/14 [==============================] - 0s 8ms/step - loss: 0.0921 - val_loss: 0.1126\n",
      "Epoch 109/600\n",
      "14/14 [==============================] - 0s 2ms/step - loss: 0.0879 - val_loss: 0.1064\n",
      "Epoch 110/600\n",
      "14/14 [==============================] - 0s 2ms/step - loss: 0.0998 - val_loss: 0.1011\n",
      "Epoch 111/600\n",
      "14/14 [==============================] - 0s 3ms/step - loss: 0.1099 - val_loss: 0.1281\n",
      "Epoch 112/600\n",
      "14/14 [==============================] - 0s 3ms/step - loss: 0.0887 - val_loss: 0.1120\n",
      "Epoch 113/600\n",
      "14/14 [==============================] - 0s 3ms/step - loss: 0.0953 - val_loss: 0.1099\n",
      "Epoch 114/600\n",
      "14/14 [==============================] - 0s 3ms/step - loss: 0.0891 - val_loss: 0.1071\n",
      "Epoch 115/600\n",
      "14/14 [==============================] - 0s 2ms/step - loss: 0.1003 - val_loss: 0.1033\n",
      "Epoch 116/600\n",
      "14/14 [==============================] - 0s 3ms/step - loss: 0.0961 - val_loss: 0.1131\n",
      "Epoch 00116: early stopping\n"
     ]
    },
    {
     "data": {
      "text/plain": [
       "<tensorflow.python.keras.callbacks.History at 0x258d57d2cd0>"
      ]
     },
     "execution_count": 16,
     "metadata": {},
     "output_type": "execute_result"
    }
   ],
   "source": [
    "model.fit(x=X_train, \n",
    "          y=y_train, \n",
    "          epochs=600,\n",
    "          validation_data=(X_test, y_test), \n",
    "          verbose=1,\n",
    "          callbacks=[early_stop]\n",
    "          )"
   ]
  },
  {
   "cell_type": "markdown",
   "metadata": {
    "colab": {
     "base_uri": "https://localhost:8080/",
     "height": 282
    },
    "id": "NIUl4zCJF_Ol",
    "outputId": "bdec59f3-9b58-4301-c668-3a3bc76abfac",
    "tags": []
   },
   "source": [
    "#### Evaluate"
   ]
  },
  {
   "cell_type": "code",
   "execution_count": 17,
   "metadata": {},
   "outputs": [
    {
     "data": {
      "text/plain": [
       "<AxesSubplot:>"
      ]
     },
     "execution_count": 17,
     "metadata": {},
     "output_type": "execute_result"
    },
    {
     "data": {
      "image/png": "[encoded data removed]",
      "text/plain": [
       "<Figure size 432x288 with 1 Axes>"
      ]
     },
     "metadata": {
      "needs_background": "light"
     },
     "output_type": "display_data"
    }
   ],
   "source": [
    "pd.DataFrame(model.history.history).plot()"
   ]
  },
  {
   "cell_type": "markdown",
   "metadata": {},
   "source": [
    "### Model Evaluation"
   ]
  },
  {
   "cell_type": "markdown",
   "metadata": {},
   "source": [
    "#### Predictions"
   ]
  },
  {
   "cell_type": "code",
   "execution_count": 18,
   "metadata": {
    "colab": {
     "base_uri": "https://localhost:8080/"
    },
    "id": "W9_JurWI6Kfy",
    "outputId": "7fa2c3cb-959f-4e20-e8c4-ff93235205aa"
   },
   "outputs": [
    {
     "name": "stdout",
     "output_type": "stream",
     "text": [
      "WARNING:tensorflow:From <ipython-input-18-bc83193b8b59>:1: Sequential.predict_classes (from tensorflow.python.keras.engine.sequential) is deprecated and will be removed after 2021-01-01.\n",
      "Instructions for updating:\n",
      "Please use instead:* `np.argmax(model.predict(x), axis=-1)`,   if your model does multi-class classification   (e.g. if it uses a `softmax` last-layer activation).* `(model.predict(x) > 0.5).astype(\"int32\")`,   if your model does binary classification   (e.g. if it uses a `sigmoid` last-layer activation).\n"
     ]
    }
   ],
   "source": [
    "predictions = model.predict_classes(X_test)"
   ]
  },
  {
   "cell_type": "markdown",
   "metadata": {},
   "source": [
    "#### Classsification report and confusion matrix"
   ]
  },
  {
   "cell_type": "code",
   "execution_count": 19,
   "metadata": {
    "id": "0hBl_iBX6Kfy"
   },
   "outputs": [
    {
     "name": "stdout",
     "output_type": "stream",
     "text": [
      "              precision    recall  f1-score   support\n",
      "\n",
      "           0       0.95      0.98      0.96        55\n",
      "           1       0.99      0.97      0.98        88\n",
      "\n",
      "    accuracy                           0.97       143\n",
      "   macro avg       0.97      0.97      0.97       143\n",
      "weighted avg       0.97      0.97      0.97       143\n",
      "\n",
      "[[54  1]\n",
      " [ 3 85]]\n"
     ]
    }
   ],
   "source": [
    "from sklearn.metrics import classification_report,confusion_matrix\n",
    "print(classification_report(y_test,predictions)) # https://en.wikipedia.org/wiki/Precision_and_recall\n",
    "print(confusion_matrix(y_test,predictions))"
   ]
  },
  {
   "cell_type": "markdown",
   "metadata": {},
   "source": []
  }
 ],
 "metadata": {
  "colab": {
   "name": "07-Linear-Classification.ipynb",
   "provenance": []
  },
  "kernelspec": {
   "display_name": "Python 3",
   "language": "python",
   "name": "python3"
  },
  "language_info": {
   "codemirror_mode": {
    "name": "ipython",
    "version": 3
   },
   "file_extension": ".py",
   "mimetype": "text/x-python",
   "name": "python",
   "nbconvert_exporter": "python",
   "pygments_lexer": "ipython3",
   "version": "3.8.5"
  },
  "toc-showtags": true
 },
 "nbformat": 4,
 "nbformat_minor": 4
}
