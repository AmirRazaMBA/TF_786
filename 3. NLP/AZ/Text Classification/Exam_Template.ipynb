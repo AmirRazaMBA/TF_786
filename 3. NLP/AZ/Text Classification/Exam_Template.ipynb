{
 "cells": [
  {
   "cell_type": "markdown",
   "metadata": {
    "id": "hAclqSm3OOml"
   },
   "source": [
    "# Multiple Models LSTMs, CNNs, GRUs with a larger dataset"
   ]
  },
  {
   "cell_type": "code",
   "execution_count": 69,
   "metadata": {
    "id": "L62G7LTwNzoD"
   },
   "outputs": [],
   "source": [
    "import tensorflow as tf\n",
    "import tensorflow_datasets as tfds\n",
    "\n",
    "import numpy as np\n",
    "import pandas as pd"
   ]
  },
  {
   "cell_type": "markdown",
   "metadata": {
    "id": "o2P6xdtIJMyc"
   },
   "source": [
    "# Get the dataset\n"
   ]
  },
  {
   "cell_type": "code",
   "execution_count": 32,
   "metadata": {
    "id": "nCOtiRJZbxCH"
   },
   "outputs": [
    {
     "name": "stdout",
     "output_type": "stream",
     "text": [
      "FeaturesDict({\n",
      "    'idx': tf.int32,\n",
      "    'label': ClassLabel(shape=(), dtype=tf.int64, num_classes=2),\n",
      "    'sentence': Text(shape=(), dtype=tf.string),\n",
      "})\n",
      "2\n",
      "['negative', 'positive']\n"
     ]
    }
   ],
   "source": [
    "# Get the dataset.\n",
    "# It has 70000 items, so might take a while to download\n",
    "dataset, info = tfds.load('glue/sst2', with_info=True)\n",
    "print(info.features)\n",
    "print(info.features[\"label\"].num_classes)\n",
    "print(info.features[\"label\"].names)\n"
   ]
  },
  {
   "cell_type": "code",
   "execution_count": 33,
   "metadata": {
    "id": "yBMPhIdStAe2"
   },
   "outputs": [
    {
     "data": {
      "text/plain": [
       "<PrefetchDataset shapes: {idx: (), label: (), sentence: ()}, types: {idx: tf.int32, label: tf.int64, sentence: tf.string}>"
      ]
     },
     "execution_count": 33,
     "metadata": {},
     "output_type": "execute_result"
    }
   ],
   "source": [
    "# Get the training and validation datasets\n",
    "dataset_train, dataset_validation = dataset['train'], dataset['validation']\n",
    "dataset_train"
   ]
  },
  {
   "cell_type": "code",
   "execution_count": 34,
   "metadata": {
    "id": "jbZ-faiNWu1U"
   },
   "outputs": [
    {
     "name": "stdout",
     "output_type": "stream",
     "text": [
      "Review: tf.Tensor(b'for the uninitiated plays better on video with the sound ', shape=(), dtype=string)\n",
      "Label: 0 \n",
      "\n",
      "Review: tf.Tensor(b'like a giant commercial for universal studios , where much of the action takes place ', shape=(), dtype=string)\n",
      "Label: 0 \n",
      "\n"
     ]
    }
   ],
   "source": [
    "# Print some of the entries\n",
    "for example in dataset_train.take(2):  \n",
    "  review, label = example[\"sentence\"], example[\"label\"]\n",
    "  print(\"Review:\", review)\n",
    "  print(\"Label: %d \\n\" % label.numpy())"
   ]
  },
  {
   "cell_type": "code",
   "execution_count": 35,
   "metadata": {
    "id": "_fVZItTeZSbL"
   },
   "outputs": [
    {
     "name": "stdout",
     "output_type": "stream",
     "text": [
      "\n",
      "Number of training reviews is:  10000\n",
      "b'for the uninitiated plays better on video with the sound '\n",
      "0\n",
      "b'like a giant commercial for universal studios , where much of the action takes place '\n",
      "0\n",
      "\n",
      "Number of validation reviews is:  872\n",
      "b'a valueless kiddie paean to pro basketball underwritten by the nba . '\n",
      "0\n",
      "b\"featuring a dangerously seductive performance from the great daniel auteuil , `` sade '' covers the same period as kaufmann 's `` quills '' with more unsettlingly realistic results . \"\n",
      "1\n"
     ]
    }
   ],
   "source": [
    "# Get the sentences and the labels\n",
    "# for both the training and the validation sets\n",
    "training_reviews = []\n",
    "training_labels = []\n",
    " \n",
    "validation_reviews = []\n",
    "validation_labels = []\n",
    "\n",
    "# The dataset has 67,000 training entries, but that's a lot to process here!\n",
    "\n",
    "# If you want to take the entire dataset: WARNING: takes longer!!\n",
    "# for item in dataset_train.take(-1):\n",
    "\n",
    "# Take 10,000 reviews\n",
    "for item in dataset_train.take(10000):\n",
    "  review, label = item[\"sentence\"], item[\"label\"]\n",
    "  training_reviews.append(str(review.numpy()))\n",
    "  training_labels.append(label.numpy())\n",
    "\n",
    "print (\"\\nNumber of training reviews is: \", len(training_reviews))\n",
    "\n",
    "# print some of the reviews and labels\n",
    "for i in range(0, 2):\n",
    "  print (training_reviews[i])\n",
    "  print (training_labels[i])\n",
    "\n",
    "# Get the validation data\n",
    "# there's only about 800 items, so take them all\n",
    "for item in dataset_validation.take(-1):  \n",
    "  review, label = item[\"sentence\"], item[\"label\"]\n",
    "  validation_reviews.append(str(review.numpy()))\n",
    "  validation_labels.append(label.numpy())\n",
    "\n",
    "print (\"\\nNumber of validation reviews is: \", len(validation_reviews))\n",
    "\n",
    "# Print some of the validation reviews and labels\n",
    "for i in range(0, 2):\n",
    "  print (validation_reviews[i])\n",
    "  print (validation_labels[i])\n"
   ]
  },
  {
   "cell_type": "markdown",
   "metadata": {
    "id": "BY4ZoptJO55o"
   },
   "source": [
    "# Tokenize the words and sequence the sentences\n"
   ]
  },
  {
   "cell_type": "code",
   "execution_count": 36,
   "metadata": {
    "id": "0TWLvXA1Oa_W"
   },
   "outputs": [],
   "source": [
    "# There's a total of 21224 words in the reviews\n",
    "# but many of them are irrelevant like with, it, of, on.\n",
    "# If we take a subset of the training data, then the vocab\n",
    "# will be smaller.\n",
    "\n",
    "# A reasonable review might have about 50 words or so,\n",
    "# so we can set max_length to 50 (but feel free to change it as you like)\n",
    "\n",
    "vocab_size = 4000\n",
    "embedding_dim = 16\n",
    "max_length = 50\n",
    "trunc_type='post'\n",
    "pad_type='post'\n",
    "oov_tok = \"<OOV>\"\n",
    "\n",
    "from tensorflow.keras.preprocessing.text import Tokenizer\n",
    "from tensorflow.keras.preprocessing.sequence import pad_sequences\n",
    "\n",
    "tokenizer = Tokenizer(num_words = vocab_size, oov_token=oov_tok)\n",
    "tokenizer.fit_on_texts(training_reviews)\n",
    "word_index = tokenizer.word_index\n"
   ]
  },
  {
   "cell_type": "markdown",
   "metadata": {
    "id": "JV-Ff5N0ryWv"
   },
   "source": [
    "# Pad the sequences"
   ]
  },
  {
   "cell_type": "code",
   "execution_count": 37,
   "metadata": {
    "id": "B-3scEznH2Va"
   },
   "outputs": [],
   "source": [
    "# Pad the sequences so that they are all the same length\n",
    "training_sequences = tokenizer.texts_to_sequences(training_reviews)\n",
    "training_padded = pad_sequences(training_sequences,maxlen=max_length, \n",
    "                                truncating=trunc_type, padding=pad_type)\n",
    "\n",
    "validation_sequences = tokenizer.texts_to_sequences(validation_reviews)\n",
    "validation_padded = pad_sequences(validation_sequences,maxlen=max_length)\n",
    "\n",
    "training_labels_final = np.array(training_labels)\n",
    "validation_labels_final = np.array(validation_labels)"
   ]
  },
  {
   "cell_type": "markdown",
   "metadata": {
    "id": "PahZm7YEQ8EI"
   },
   "source": [
    "# Create the model using an Embedding"
   ]
  },
  {
   "cell_type": "code",
   "execution_count": 38,
   "metadata": {
    "id": "c_nyQeI0RCCv"
   },
   "outputs": [
    {
     "name": "stdout",
     "output_type": "stream",
     "text": [
      "Model: \"sequential_1\"\n",
      "_________________________________________________________________\n",
      "Layer (type)                 Output Shape              Param #   \n",
      "=================================================================\n",
      "embedding_1 (Embedding)      (None, 50, 16)            64000     \n",
      "_________________________________________________________________\n",
      "global_average_pooling1d_1 ( (None, 16)                0         \n",
      "_________________________________________________________________\n",
      "dense_1 (Dense)              (None, 1)                 17        \n",
      "=================================================================\n",
      "Total params: 64,017\n",
      "Trainable params: 64,017\n",
      "Non-trainable params: 0\n",
      "_________________________________________________________________\n"
     ]
    }
   ],
   "source": [
    "model = tf.keras.Sequential([\n",
    "    tf.keras.layers.Embedding(vocab_size, embedding_dim, input_length=max_length),\n",
    "    tf.keras.layers.GlobalAveragePooling1D(),  \n",
    "    tf.keras.layers.Dense(1, activation='sigmoid')\n",
    "])\n",
    "model.compile(loss='binary_crossentropy',optimizer='adam',metrics=['accuracy'])\n",
    "model.summary()"
   ]
  },
  {
   "cell_type": "markdown",
   "metadata": {
    "id": "3WRXrx8BRO2L"
   },
   "source": [
    "# Train the model"
   ]
  },
  {
   "cell_type": "code",
   "execution_count": 58,
   "metadata": {
    "id": "oBKyVYvxRQ_9"
   },
   "outputs": [
    {
     "name": "stdout",
     "output_type": "stream",
     "text": [
      "Epoch 1/20\n",
      "313/313 [==============================] - 1s 2ms/step - loss: 0.1552 - accuracy: 0.9231 - val_loss: 1.4639 - val_accuracy: 0.7339\n",
      "Epoch 2/20\n",
      "313/313 [==============================] - 1s 2ms/step - loss: 0.1545 - accuracy: 0.9210 - val_loss: 1.4753 - val_accuracy: 0.7339\n",
      "Epoch 3/20\n",
      "313/313 [==============================] - 1s 2ms/step - loss: 0.1533 - accuracy: 0.9232 - val_loss: 1.4976 - val_accuracy: 0.7339\n",
      "Epoch 4/20\n",
      "313/313 [==============================] - 1s 2ms/step - loss: 0.1523 - accuracy: 0.9258 - val_loss: 1.5088 - val_accuracy: 0.7408\n",
      "Epoch 5/20\n",
      "313/313 [==============================] - 1s 2ms/step - loss: 0.1519 - accuracy: 0.9265 - val_loss: 1.5271 - val_accuracy: 0.7351\n",
      "Epoch 6/20\n",
      "313/313 [==============================] - 1s 2ms/step - loss: 0.1504 - accuracy: 0.9254 - val_loss: 1.5479 - val_accuracy: 0.7328\n",
      "Epoch 7/20\n",
      "313/313 [==============================] - 1s 2ms/step - loss: 0.1500 - accuracy: 0.9268 - val_loss: 1.5614 - val_accuracy: 0.7362\n",
      "Epoch 8/20\n",
      "313/313 [==============================] - 1s 2ms/step - loss: 0.1494 - accuracy: 0.9254 - val_loss: 1.5779 - val_accuracy: 0.7351\n",
      "Epoch 9/20\n",
      "313/313 [==============================] - 1s 2ms/step - loss: 0.1490 - accuracy: 0.9253 - val_loss: 1.6004 - val_accuracy: 0.7362\n",
      "Epoch 10/20\n",
      "313/313 [==============================] - 1s 2ms/step - loss: 0.1490 - accuracy: 0.9248 - val_loss: 1.6168 - val_accuracy: 0.7351\n",
      "Epoch 11/20\n",
      "313/313 [==============================] - 1s 2ms/step - loss: 0.1485 - accuracy: 0.9272 - val_loss: 1.6355 - val_accuracy: 0.7339\n",
      "Epoch 12/20\n",
      "313/313 [==============================] - 1s 2ms/step - loss: 0.1472 - accuracy: 0.9267 - val_loss: 1.6528 - val_accuracy: 0.7351\n",
      "Epoch 13/20\n",
      "313/313 [==============================] - 1s 2ms/step - loss: 0.1455 - accuracy: 0.9292 - val_loss: 1.6781 - val_accuracy: 0.7294\n",
      "Epoch 14/20\n",
      "313/313 [==============================] - 1s 2ms/step - loss: 0.1462 - accuracy: 0.9265 - val_loss: 1.6920 - val_accuracy: 0.7305\n",
      "Epoch 15/20\n",
      "313/313 [==============================] - 1s 2ms/step - loss: 0.1456 - accuracy: 0.9255 - val_loss: 1.7121 - val_accuracy: 0.7282\n",
      "Epoch 16/20\n",
      "313/313 [==============================] - 1s 2ms/step - loss: 0.1457 - accuracy: 0.9289 - val_loss: 1.7202 - val_accuracy: 0.7317\n",
      "Epoch 17/20\n",
      "313/313 [==============================] - 1s 2ms/step - loss: 0.1449 - accuracy: 0.9279 - val_loss: 1.7352 - val_accuracy: 0.7339\n",
      "Epoch 18/20\n",
      "313/313 [==============================] - 1s 2ms/step - loss: 0.1442 - accuracy: 0.9268 - val_loss: 1.7564 - val_accuracy: 0.7317\n",
      "Epoch 19/20\n",
      "313/313 [==============================] - 1s 2ms/step - loss: 0.1437 - accuracy: 0.9270 - val_loss: 1.7635 - val_accuracy: 0.7339\n",
      "Epoch 20/20\n",
      "313/313 [==============================] - 1s 2ms/step - loss: 0.1429 - accuracy: 0.9277 - val_loss: 1.7917 - val_accuracy: 0.7317\n"
     ]
    }
   ],
   "source": [
    "num_epochs = 20\n",
    "history = model.fit(training_padded, training_labels_final, epochs=num_epochs, \n",
    "                    validation_data=(validation_padded, validation_labels_final))"
   ]
  },
  {
   "cell_type": "markdown",
   "metadata": {
    "id": "HhLPbUl2AZ0y"
   },
   "source": [
    "# Plot the accurracy and loss"
   ]
  },
  {
   "cell_type": "code",
   "execution_count": 40,
   "metadata": {
    "id": "jzBM1PpJAYfD"
   },
   "outputs": [
    {
     "data": {
      "image/png": "[encoded data removed]",
      "text/plain": [
       "<Figure size 432x288 with 1 Axes>"
      ]
     },
     "metadata": {
      "needs_background": "light"
     },
     "output_type": "display_data"
    },
    {
     "data": {
      "image/png": "[encoded data removed]",
      "text/plain": [
       "<Figure size 432x288 with 1 Axes>"
      ]
     },
     "metadata": {
      "needs_background": "light"
     },
     "output_type": "display_data"
    }
   ],
   "source": [
    "import matplotlib.pyplot as plt\n",
    "\n",
    "\n",
    "def plot_graphs(history, string):\n",
    "  plt.plot(history.history[string])\n",
    "  plt.plot(history.history['val_'+string])\n",
    "  plt.xlabel(\"Epochs\")\n",
    "  plt.ylabel(string)\n",
    "  plt.legend([string, 'val_'+string])\n",
    "  plt.show()\n",
    "  \n",
    "plot_graphs(history, \"accuracy\")\n",
    "plot_graphs(history, \"loss\")"
   ]
  },
  {
   "cell_type": "markdown",
   "metadata": {
    "id": "HEbcMCVEKToB"
   },
   "source": [
    "# Write a function to predict the sentiment of reviews"
   ]
  },
  {
   "cell_type": "code",
   "execution_count": 41,
   "metadata": {
    "id": "K0nKY9M4xzWE"
   },
   "outputs": [],
   "source": [
    "# Write some new reviews \n",
    "\n",
    "review1 = \"\"\"I loved this movie\"\"\"\n",
    "\n",
    "review2 = \"\"\"that was the worst movie I've ever seen\"\"\"\n",
    "\n",
    "review3 = \"\"\"too much violence even for a Bond film\"\"\"\n",
    "\n",
    "review4 = \"\"\"a captivating recounting of a cherished myth\"\"\"\n",
    "\n",
    "new_reviews = [review1, review2, review3, review4]\n"
   ]
  },
  {
   "cell_type": "code",
   "execution_count": 42,
   "metadata": {
    "id": "Qg-maex27KPW"
   },
   "outputs": [
    {
     "name": "stdout",
     "output_type": "stream",
     "text": [
      "I loved this movie\n",
      "[0.38397542]\n",
      "\n",
      "\n",
      "that was the worst movie I've ever seen\n",
      "[0.11524987]\n",
      "\n",
      "\n",
      "too much violence even for a Bond film\n",
      "[0.03048798]\n",
      "\n",
      "\n",
      "a captivating recounting of a cherished myth\n",
      "[0.59611285]\n",
      "\n",
      "\n"
     ]
    }
   ],
   "source": [
    "# Define a function to prepare the new reviews for use with a model\n",
    "# and then use the model to predict the sentiment of the new reviews           \n",
    "\n",
    "def predict_review(model, reviews):\n",
    "  # Create the sequences\n",
    "  padding_type='post'\n",
    "  sample_sequences = tokenizer.texts_to_sequences(reviews)\n",
    "  reviews_padded = pad_sequences(sample_sequences, padding=padding_type, \n",
    "                                 maxlen=max_length) \n",
    "  classes = model.predict(reviews_padded)\n",
    "  for x in range(len(reviews_padded)):\n",
    "    print(reviews[x])\n",
    "    print(classes[x])\n",
    "    print('\\n')\n",
    "\n",
    "predict_review(model, new_reviews)\n"
   ]
  },
  {
   "cell_type": "markdown",
   "metadata": {
    "id": "ycJKbMq3K4iy"
   },
   "source": [
    "# Define a function to train and show the results of models with different layers"
   ]
  },
  {
   "cell_type": "code",
   "execution_count": 43,
   "metadata": {
    "id": "PevUcINXK3gn"
   },
   "outputs": [],
   "source": [
    "def fit_model_and_show_results (model, reviews):\n",
    "  model.summary()\n",
    "  history = model.fit(training_padded, training_labels_final, epochs=num_epochs, \n",
    "                      validation_data=(validation_padded, validation_labels_final))\n",
    "\n",
    "  models_history.insert(history.history)\n",
    "  plot_graphs(history, \"accuracy\")\n",
    "  plot_graphs(history, \"loss\")\n",
    "  predict_review(model, reviews)"
   ]
  },
  {
   "cell_type": "markdown",
   "metadata": {
    "id": "W8jW-OLfTrDM"
   },
   "source": [
    "# Use a CNN"
   ]
  },
  {
   "cell_type": "code",
   "execution_count": 44,
   "metadata": {
    "id": "merAu9T3TtmQ"
   },
   "outputs": [
    {
     "name": "stdout",
     "output_type": "stream",
     "text": [
      "Model: \"sequential_2\"\n",
      "_________________________________________________________________\n",
      "Layer (type)                 Output Shape              Param #   \n",
      "=================================================================\n",
      "embedding_2 (Embedding)      (None, 50, 16)            64000     \n",
      "_________________________________________________________________\n",
      "conv1d (Conv1D)              (None, 46, 16)            1296      \n",
      "_________________________________________________________________\n",
      "global_max_pooling1d (Global (None, 16)                0         \n",
      "_________________________________________________________________\n",
      "dense_2 (Dense)              (None, 1)                 17        \n",
      "=================================================================\n",
      "Total params: 65,313\n",
      "Trainable params: 65,313\n",
      "Non-trainable params: 0\n",
      "_________________________________________________________________\n",
      "Epoch 1/30\n",
      "313/313 [==============================] - 1s 3ms/step - loss: 0.6882 - accuracy: 0.5557 - val_loss: 0.6931 - val_accuracy: 0.5092\n",
      "Epoch 2/30\n",
      "313/313 [==============================] - 1s 3ms/step - loss: 0.6826 - accuracy: 0.5590 - val_loss: 0.6925 - val_accuracy: 0.5092\n",
      "Epoch 3/30\n",
      "313/313 [==============================] - 1s 3ms/step - loss: 0.6788 - accuracy: 0.5590 - val_loss: 0.6908 - val_accuracy: 0.5092\n",
      "Epoch 4/30\n",
      "313/313 [==============================] - 1s 3ms/step - loss: 0.6741 - accuracy: 0.5600 - val_loss: 0.6873 - val_accuracy: 0.5126\n",
      "Epoch 5/30\n",
      "313/313 [==============================] - 1s 3ms/step - loss: 0.6674 - accuracy: 0.5781 - val_loss: 0.6823 - val_accuracy: 0.5677\n",
      "Epoch 6/30\n",
      "313/313 [==============================] - 1s 3ms/step - loss: 0.6570 - accuracy: 0.6150 - val_loss: 0.6741 - val_accuracy: 0.6720\n",
      "Epoch 7/30\n",
      "313/313 [==============================] - 1s 3ms/step - loss: 0.6416 - accuracy: 0.6612 - val_loss: 0.6625 - val_accuracy: 0.6743\n",
      "Epoch 8/30\n",
      "313/313 [==============================] - 1s 2ms/step - loss: 0.6203 - accuracy: 0.7000 - val_loss: 0.6473 - val_accuracy: 0.6869\n",
      "Epoch 9/30\n",
      "313/313 [==============================] - 1s 3ms/step - loss: 0.5942 - accuracy: 0.7389 - val_loss: 0.6294 - val_accuracy: 0.6961\n",
      "Epoch 10/30\n",
      "313/313 [==============================] - 1s 3ms/step - loss: 0.5640 - accuracy: 0.7675 - val_loss: 0.6095 - val_accuracy: 0.7110\n",
      "Epoch 11/30\n",
      "313/313 [==============================] - 1s 3ms/step - loss: 0.5317 - accuracy: 0.7928 - val_loss: 0.5882 - val_accuracy: 0.7259\n",
      "Epoch 12/30\n",
      "313/313 [==============================] - 1s 3ms/step - loss: 0.4987 - accuracy: 0.8090 - val_loss: 0.5672 - val_accuracy: 0.7362\n",
      "Epoch 13/30\n",
      "313/313 [==============================] - 1s 3ms/step - loss: 0.4669 - accuracy: 0.8220 - val_loss: 0.5459 - val_accuracy: 0.7431\n",
      "Epoch 14/30\n",
      "313/313 [==============================] - 1s 3ms/step - loss: 0.4371 - accuracy: 0.8341 - val_loss: 0.5275 - val_accuracy: 0.7489\n",
      "Epoch 15/30\n",
      "313/313 [==============================] - 1s 3ms/step - loss: 0.4100 - accuracy: 0.8417 - val_loss: 0.5127 - val_accuracy: 0.7534\n",
      "Epoch 16/30\n",
      "313/313 [==============================] - 1s 3ms/step - loss: 0.3860 - accuracy: 0.8500 - val_loss: 0.5026 - val_accuracy: 0.7557\n",
      "Epoch 17/30\n",
      "313/313 [==============================] - 1s 3ms/step - loss: 0.3649 - accuracy: 0.8567 - val_loss: 0.4971 - val_accuracy: 0.7603\n",
      "Epoch 18/30\n",
      "313/313 [==============================] - 1s 3ms/step - loss: 0.3460 - accuracy: 0.8630 - val_loss: 0.4916 - val_accuracy: 0.7638\n",
      "Epoch 19/30\n",
      "313/313 [==============================] - 1s 3ms/step - loss: 0.3293 - accuracy: 0.8665 - val_loss: 0.4899 - val_accuracy: 0.7615\n",
      "Epoch 20/30\n",
      "313/313 [==============================] - 1s 3ms/step - loss: 0.3144 - accuracy: 0.8734 - val_loss: 0.4900 - val_accuracy: 0.7615\n",
      "Epoch 21/30\n",
      "313/313 [==============================] - 1s 3ms/step - loss: 0.3009 - accuracy: 0.8755 - val_loss: 0.4921 - val_accuracy: 0.7626\n",
      "Epoch 22/30\n",
      "313/313 [==============================] - 1s 3ms/step - loss: 0.2887 - accuracy: 0.8803 - val_loss: 0.4955 - val_accuracy: 0.7615\n",
      "Epoch 23/30\n",
      "313/313 [==============================] - 1s 3ms/step - loss: 0.2777 - accuracy: 0.8865 - val_loss: 0.4998 - val_accuracy: 0.7580\n",
      "Epoch 24/30\n",
      "313/313 [==============================] - 1s 3ms/step - loss: 0.2676 - accuracy: 0.8905 - val_loss: 0.5047 - val_accuracy: 0.7569\n",
      "Epoch 25/30\n",
      "313/313 [==============================] - 1s 3ms/step - loss: 0.2584 - accuracy: 0.8916 - val_loss: 0.5110 - val_accuracy: 0.7603\n",
      "Epoch 26/30\n",
      "313/313 [==============================] - 1s 3ms/step - loss: 0.2499 - accuracy: 0.8962 - val_loss: 0.5178 - val_accuracy: 0.7603\n",
      "Epoch 27/30\n",
      "313/313 [==============================] - 1s 3ms/step - loss: 0.2422 - accuracy: 0.8971 - val_loss: 0.5249 - val_accuracy: 0.7603\n",
      "Epoch 28/30\n",
      "313/313 [==============================] - 1s 3ms/step - loss: 0.2349 - accuracy: 0.8989 - val_loss: 0.5328 - val_accuracy: 0.7603\n",
      "Epoch 29/30\n",
      "313/313 [==============================] - 1s 2ms/step - loss: 0.2282 - accuracy: 0.9017 - val_loss: 0.5413 - val_accuracy: 0.7592\n",
      "Epoch 30/30\n",
      "313/313 [==============================] - 1s 3ms/step - loss: 0.2220 - accuracy: 0.9030 - val_loss: 0.5504 - val_accuracy: 0.7592\n"
     ]
    },
    {
     "data": {
      "image/png": "[encoded data removed]",
      "text/plain": [
       "<Figure size 432x288 with 1 Axes>"
      ]
     },
     "metadata": {
      "needs_background": "light"
     },
     "output_type": "display_data"
    },
    {
     "data": {
      "image/png": "[encoded data removed]",
      "text/plain": [
       "<Figure size 432x288 with 1 Axes>"
      ]
     },
     "metadata": {
      "needs_background": "light"
     },
     "output_type": "display_data"
    },
    {
     "name": "stdout",
     "output_type": "stream",
     "text": [
      "I loved this movie\n",
      "[0.8705711]\n",
      "\n",
      "\n",
      "that was the worst movie I've ever seen\n",
      "[0.06010312]\n",
      "\n",
      "\n",
      "too much violence even for a Bond film\n",
      "[0.0118604]\n",
      "\n",
      "\n",
      "a captivating recounting of a cherished myth\n",
      "[0.81328976]\n",
      "\n",
      "\n"
     ]
    }
   ],
   "source": [
    "num_epochs = 30\n",
    "\n",
    "model_cnn = tf.keras.Sequential([\n",
    "    tf.keras.layers.Embedding(vocab_size, embedding_dim, input_length=max_length),\n",
    "    tf.keras.layers.Conv1D(16, 5, activation='relu'),\n",
    "    tf.keras.layers.GlobalMaxPooling1D(),\n",
    "    tf.keras.layers.Dense(1, activation='sigmoid')\n",
    "])\n",
    "\n",
    "# Default learning rate for the Adam optimizer is 0.001\n",
    "# Let's slow down the learning rate by 10.\n",
    "learning_rate = 0.0001\n",
    "model_cnn.compile(loss='binary_crossentropy',\n",
    "                  optimizer=tf.keras.optimizers.Adam(learning_rate), \n",
    "                  metrics=['accuracy'])\n",
    "\n",
    "fit_model_and_show_results(model_cnn, new_reviews)"
   ]
  },
  {
   "cell_type": "markdown",
   "metadata": {
    "id": "tXnoq0zITmSM"
   },
   "source": [
    "# Use a GRU"
   ]
  },
  {
   "cell_type": "code",
   "execution_count": 45,
   "metadata": {
    "id": "6jP6KAzZTpQ6"
   },
   "outputs": [
    {
     "name": "stdout",
     "output_type": "stream",
     "text": [
      "Model: \"sequential_3\"\n",
      "_________________________________________________________________\n",
      "Layer (type)                 Output Shape              Param #   \n",
      "=================================================================\n",
      "embedding_3 (Embedding)      (None, 50, 16)            64000     \n",
      "_________________________________________________________________\n",
      "bidirectional (Bidirectional (None, 64)                9600      \n",
      "_________________________________________________________________\n",
      "dense_3 (Dense)              (None, 1)                 65        \n",
      "=================================================================\n",
      "Total params: 73,665\n",
      "Trainable params: 73,665\n",
      "Non-trainable params: 0\n",
      "_________________________________________________________________\n",
      "Epoch 1/30\n",
      "313/313 [==============================] - 8s 27ms/step - loss: 0.6898 - accuracy: 0.5591 - val_loss: 0.6936 - val_accuracy: 0.5092\n",
      "Epoch 2/30\n",
      "313/313 [==============================] - 7s 22ms/step - loss: 0.6864 - accuracy: 0.5590 - val_loss: 0.6951 - val_accuracy: 0.5092\n",
      "Epoch 3/30\n",
      "313/313 [==============================] - 7s 23ms/step - loss: 0.6847 - accuracy: 0.5590 - val_loss: 0.6972 - val_accuracy: 0.5092\n",
      "Epoch 4/30\n",
      "313/313 [==============================] - 7s 22ms/step - loss: 0.6833 - accuracy: 0.5590 - val_loss: 0.6989 - val_accuracy: 0.5092\n",
      "Epoch 5/30\n",
      "313/313 [==============================] - 7s 23ms/step - loss: 0.6813 - accuracy: 0.5590 - val_loss: 0.7020 - val_accuracy: 0.5092\n",
      "Epoch 6/30\n",
      "313/313 [==============================] - 7s 22ms/step - loss: 0.6784 - accuracy: 0.5590 - val_loss: 0.7068 - val_accuracy: 0.5092\n",
      "Epoch 7/30\n",
      "313/313 [==============================] - 7s 22ms/step - loss: 0.6738 - accuracy: 0.5590 - val_loss: 0.7149 - val_accuracy: 0.5092\n",
      "Epoch 8/30\n",
      "313/313 [==============================] - 8s 25ms/step - loss: 0.6671 - accuracy: 0.5670 - val_loss: 0.7336 - val_accuracy: 0.5092\n",
      "Epoch 9/30\n",
      "313/313 [==============================] - 10s 31ms/step - loss: 0.6583 - accuracy: 0.5975 - val_loss: 0.7384 - val_accuracy: 0.5092\n",
      "Epoch 10/30\n",
      "313/313 [==============================] - 9s 29ms/step - loss: 0.6473 - accuracy: 0.6294 - val_loss: 0.7371 - val_accuracy: 0.5092\n",
      "Epoch 11/30\n",
      "313/313 [==============================] - 9s 28ms/step - loss: 0.6334 - accuracy: 0.6516 - val_loss: 0.7308 - val_accuracy: 0.5092\n",
      "Epoch 12/30\n",
      "313/313 [==============================] - 8s 24ms/step - loss: 0.6144 - accuracy: 0.6703 - val_loss: 0.7319 - val_accuracy: 0.5080\n",
      "Epoch 13/30\n",
      "313/313 [==============================] - 8s 25ms/step - loss: 0.5876 - accuracy: 0.6870 - val_loss: 0.6799 - val_accuracy: 0.5126\n",
      "Epoch 14/30\n",
      "313/313 [==============================] - 8s 25ms/step - loss: 0.5561 - accuracy: 0.7117 - val_loss: 0.6214 - val_accuracy: 0.5378\n",
      "Epoch 15/30\n",
      "313/313 [==============================] - 8s 24ms/step - loss: 0.5326 - accuracy: 0.7377 - val_loss: 0.6185 - val_accuracy: 0.5906\n",
      "Epoch 16/30\n",
      "313/313 [==============================] - 7s 22ms/step - loss: 0.5144 - accuracy: 0.7538 - val_loss: 0.6079 - val_accuracy: 0.6560\n",
      "Epoch 17/30\n",
      "313/313 [==============================] - 7s 23ms/step - loss: 0.4973 - accuracy: 0.7691 - val_loss: 0.5974 - val_accuracy: 0.7064\n",
      "Epoch 18/30\n",
      "313/313 [==============================] - 7s 23ms/step - loss: 0.4793 - accuracy: 0.7789 - val_loss: 0.5826 - val_accuracy: 0.7385\n",
      "Epoch 19/30\n",
      "313/313 [==============================] - 7s 23ms/step - loss: 0.4638 - accuracy: 0.7895 - val_loss: 0.5788 - val_accuracy: 0.7408\n",
      "Epoch 20/30\n",
      "313/313 [==============================] - 7s 23ms/step - loss: 0.4490 - accuracy: 0.7983 - val_loss: 0.5553 - val_accuracy: 0.7523\n",
      "Epoch 21/30\n",
      "313/313 [==============================] - 7s 23ms/step - loss: 0.4373 - accuracy: 0.8063 - val_loss: 0.5506 - val_accuracy: 0.7534\n",
      "Epoch 22/30\n",
      "313/313 [==============================] - 7s 23ms/step - loss: 0.4278 - accuracy: 0.8129 - val_loss: 0.5589 - val_accuracy: 0.7626\n",
      "Epoch 23/30\n",
      "313/313 [==============================] - 7s 23ms/step - loss: 0.4163 - accuracy: 0.8193 - val_loss: 0.5422 - val_accuracy: 0.7661\n",
      "Epoch 24/30\n",
      "313/313 [==============================] - 7s 22ms/step - loss: 0.4079 - accuracy: 0.8236 - val_loss: 0.5609 - val_accuracy: 0.7603\n",
      "Epoch 25/30\n",
      "313/313 [==============================] - 7s 23ms/step - loss: 0.3972 - accuracy: 0.8308 - val_loss: 0.5676 - val_accuracy: 0.7592\n",
      "Epoch 26/30\n",
      "313/313 [==============================] - 7s 22ms/step - loss: 0.3897 - accuracy: 0.8326 - val_loss: 0.5451 - val_accuracy: 0.7706\n",
      "Epoch 27/30\n",
      "313/313 [==============================] - 7s 23ms/step - loss: 0.3819 - accuracy: 0.8363 - val_loss: 0.5561 - val_accuracy: 0.7683\n",
      "Epoch 28/30\n",
      "313/313 [==============================] - 7s 22ms/step - loss: 0.3756 - accuracy: 0.8396 - val_loss: 0.5684 - val_accuracy: 0.7626\n",
      "Epoch 29/30\n",
      "313/313 [==============================] - 7s 23ms/step - loss: 0.3682 - accuracy: 0.8414 - val_loss: 0.5700 - val_accuracy: 0.7661 0s - loss: 0.3681 - accu\n",
      "Epoch 30/30\n",
      "313/313 [==============================] - 7s 23ms/step - loss: 0.3611 - accuracy: 0.8459 - val_loss: 0.5749 - val_accuracy: 0.7626\n"
     ]
    },
    {
     "data": {
      "image/png": "[encoded data removed]",
      "text/plain": [
       "<Figure size 432x288 with 1 Axes>"
      ]
     },
     "metadata": {
      "needs_background": "light"
     },
     "output_type": "display_data"
    },
    {
     "data": {
      "image/png": "[encoded data removed]",
      "text/plain": [
       "<Figure size 432x288 with 1 Axes>"
      ]
     },
     "metadata": {
      "needs_background": "light"
     },
     "output_type": "display_data"
    },
    {
     "name": "stdout",
     "output_type": "stream",
     "text": [
      "I loved this movie\n",
      "[0.4174981]\n",
      "\n",
      "\n",
      "that was the worst movie I've ever seen\n",
      "[0.16592634]\n",
      "\n",
      "\n",
      "too much violence even for a Bond film\n",
      "[0.13035515]\n",
      "\n",
      "\n",
      "a captivating recounting of a cherished myth\n",
      "[0.55852205]\n",
      "\n",
      "\n"
     ]
    }
   ],
   "source": [
    "num_epochs = 30\n",
    "\n",
    "model_gru = tf.keras.Sequential([\n",
    "    tf.keras.layers.Embedding(vocab_size, embedding_dim, input_length=max_length),\n",
    "    tf.keras.layers.Bidirectional(tf.keras.layers.GRU(32)),\n",
    "    tf.keras.layers.Dense(1, activation='sigmoid')\n",
    "])\n",
    "\n",
    "learning_rate = 0.00003 # slower than the default learning rate\n",
    "model_gru.compile(loss='binary_crossentropy',\n",
    "                  optimizer=tf.keras.optimizers.Adam(learning_rate),\n",
    "                  metrics=['accuracy'])\n",
    "\n",
    "fit_model_and_show_results(model_gru, new_reviews)"
   ]
  },
  {
   "cell_type": "markdown",
   "metadata": {
    "id": "U13JBiJUG1oq"
   },
   "source": [
    "# Add a bidirectional LSTM"
   ]
  },
  {
   "cell_type": "code",
   "execution_count": 46,
   "metadata": {
    "id": "scTUsFPAG4zP"
   },
   "outputs": [
    {
     "name": "stdout",
     "output_type": "stream",
     "text": [
      "Model: \"sequential_4\"\n",
      "_________________________________________________________________\n",
      "Layer (type)                 Output Shape              Param #   \n",
      "=================================================================\n",
      "embedding_4 (Embedding)      (None, 50, 16)            64000     \n",
      "_________________________________________________________________\n",
      "bidirectional_1 (Bidirection (None, 32)                4224      \n",
      "_________________________________________________________________\n",
      "dense_4 (Dense)              (None, 1)                 33        \n",
      "=================================================================\n",
      "Total params: 68,257\n",
      "Trainable params: 68,257\n",
      "Non-trainable params: 0\n",
      "_________________________________________________________________\n",
      "Epoch 1/30\n",
      "313/313 [==============================] - 7s 23ms/step - loss: 0.6910 - accuracy: 0.5591 - val_loss: 0.6932 - val_accuracy: 0.5092\n",
      "Epoch 2/30\n",
      "313/313 [==============================] - 6s 20ms/step - loss: 0.6878 - accuracy: 0.5590 - val_loss: 0.6938 - val_accuracy: 0.5092\n",
      "Epoch 3/30\n",
      "313/313 [==============================] - 6s 20ms/step - loss: 0.6857 - accuracy: 0.5590 - val_loss: 0.6947 - val_accuracy: 0.5092\n",
      "Epoch 4/30\n",
      "313/313 [==============================] - 6s 20ms/step - loss: 0.6844 - accuracy: 0.5590 - val_loss: 0.6958 - val_accuracy: 0.5092\n",
      "Epoch 5/30\n",
      "313/313 [==============================] - 6s 20ms/step - loss: 0.6832 - accuracy: 0.5590 - val_loss: 0.6967 - val_accuracy: 0.5092\n",
      "Epoch 6/30\n",
      "313/313 [==============================] - 6s 20ms/step - loss: 0.6816 - accuracy: 0.5590 - val_loss: 0.6981 - val_accuracy: 0.5092\n",
      "Epoch 7/30\n",
      "313/313 [==============================] - 6s 20ms/step - loss: 0.6794 - accuracy: 0.5590 - val_loss: 0.7000 - val_accuracy: 0.5092\n",
      "Epoch 8/30\n",
      "313/313 [==============================] - 6s 20ms/step - loss: 0.6765 - accuracy: 0.5590 - val_loss: 0.7011 - val_accuracy: 0.5092\n",
      "Epoch 9/30\n",
      "313/313 [==============================] - 6s 20ms/step - loss: 0.6727 - accuracy: 0.5591 - val_loss: 0.7042 - val_accuracy: 0.5092\n",
      "Epoch 10/30\n",
      "313/313 [==============================] - 6s 19ms/step - loss: 0.6681 - accuracy: 0.5608 - val_loss: 0.7060 - val_accuracy: 0.5092\n",
      "Epoch 11/30\n",
      "313/313 [==============================] - 6s 20ms/step - loss: 0.6625 - accuracy: 0.5707 - val_loss: 0.7078 - val_accuracy: 0.5092\n",
      "Epoch 12/30\n",
      "313/313 [==============================] - 6s 20ms/step - loss: 0.6558 - accuracy: 0.5863 - val_loss: 0.7058 - val_accuracy: 0.5092\n",
      "Epoch 13/30\n",
      "313/313 [==============================] - 6s 20ms/step - loss: 0.6478 - accuracy: 0.6036 - val_loss: 0.7036 - val_accuracy: 0.5092\n",
      "Epoch 14/30\n",
      "313/313 [==============================] - 6s 20ms/step - loss: 0.6378 - accuracy: 0.6179 - val_loss: 0.6951 - val_accuracy: 0.5092\n",
      "Epoch 15/30\n",
      "313/313 [==============================] - 6s 20ms/step - loss: 0.6258 - accuracy: 0.6396 - val_loss: 0.6851 - val_accuracy: 0.5092\n",
      "Epoch 16/30\n",
      "313/313 [==============================] - 6s 20ms/step - loss: 0.6105 - accuracy: 0.6561 - val_loss: 0.6613 - val_accuracy: 0.5103\n",
      "Epoch 17/30\n",
      "313/313 [==============================] - 6s 20ms/step - loss: 0.5914 - accuracy: 0.6821 - val_loss: 0.6237 - val_accuracy: 0.5573\n",
      "Epoch 18/30\n",
      "313/313 [==============================] - 6s 20ms/step - loss: 0.5686 - accuracy: 0.7136 - val_loss: 0.5854 - val_accuracy: 0.6972\n",
      "Epoch 19/30\n",
      "313/313 [==============================] - 6s 20ms/step - loss: 0.5504 - accuracy: 0.7333 - val_loss: 0.5623 - val_accuracy: 0.7374\n",
      "Epoch 20/30\n",
      "313/313 [==============================] - 6s 20ms/step - loss: 0.5382 - accuracy: 0.7522 - val_loss: 0.5497 - val_accuracy: 0.7431\n",
      "Epoch 21/30\n",
      "313/313 [==============================] - 6s 21ms/step - loss: 0.5261 - accuracy: 0.7592 - val_loss: 0.5395 - val_accuracy: 0.7489\n",
      "Epoch 22/30\n",
      "313/313 [==============================] - 7s 21ms/step - loss: 0.5168 - accuracy: 0.7711 - val_loss: 0.5332 - val_accuracy: 0.7546\n",
      "Epoch 23/30\n",
      "313/313 [==============================] - 6s 20ms/step - loss: 0.5063 - accuracy: 0.7742 - val_loss: 0.5269 - val_accuracy: 0.7546\n",
      "Epoch 24/30\n",
      "313/313 [==============================] - 7s 21ms/step - loss: 0.4970 - accuracy: 0.7821 - val_loss: 0.5220 - val_accuracy: 0.7557\n",
      "Epoch 25/30\n",
      "313/313 [==============================] - 7s 21ms/step - loss: 0.4884 - accuracy: 0.7882 - val_loss: 0.5181 - val_accuracy: 0.7603\n",
      "Epoch 26/30\n",
      "313/313 [==============================] - 6s 20ms/step - loss: 0.4788 - accuracy: 0.7944 - val_loss: 0.5155 - val_accuracy: 0.7615\n",
      "Epoch 27/30\n",
      "313/313 [==============================] - 6s 21ms/step - loss: 0.4706 - accuracy: 0.7985 - val_loss: 0.5129 - val_accuracy: 0.7615\n",
      "Epoch 28/30\n",
      "313/313 [==============================] - 6s 21ms/step - loss: 0.4603 - accuracy: 0.8080 - val_loss: 0.5108 - val_accuracy: 0.7672\n",
      "Epoch 29/30\n",
      "313/313 [==============================] - 6s 20ms/step - loss: 0.4476 - accuracy: 0.8143 - val_loss: 0.5105 - val_accuracy: 0.7683\n",
      "Epoch 30/30\n",
      "313/313 [==============================] - 6s 20ms/step - loss: 0.4254 - accuracy: 0.8227 - val_loss: 0.5131 - val_accuracy: 0.7649\n"
     ]
    },
    {
     "data": {
      "image/png": "[encoded data removed]",
      "text/plain": [
       "<Figure size 432x288 with 1 Axes>"
      ]
     },
     "metadata": {
      "needs_background": "light"
     },
     "output_type": "display_data"
    },
    {
     "data": {
      "image/png": "[encoded data removed]",
      "text/plain": [
       "<Figure size 432x288 with 1 Axes>"
      ]
     },
     "metadata": {
      "needs_background": "light"
     },
     "output_type": "display_data"
    },
    {
     "name": "stdout",
     "output_type": "stream",
     "text": [
      "I loved this movie\n",
      "[0.46618906]\n",
      "\n",
      "\n",
      "that was the worst movie I've ever seen\n",
      "[0.2727755]\n",
      "\n",
      "\n",
      "too much violence even for a Bond film\n",
      "[0.2998518]\n",
      "\n",
      "\n",
      "a captivating recounting of a cherished myth\n",
      "[0.5486074]\n",
      "\n",
      "\n"
     ]
    }
   ],
   "source": [
    "num_epochs = 30\n",
    "\n",
    "model_bidi_lstm = tf.keras.Sequential([\n",
    "    tf.keras.layers.Embedding(vocab_size, embedding_dim, input_length=max_length),\n",
    "    tf.keras.layers.Bidirectional(tf.keras.layers.LSTM(embedding_dim)), \n",
    "    tf.keras.layers.Dense(1, activation='sigmoid')\n",
    "])\n",
    "\n",
    "learning_rate = 0.00003\n",
    "model_bidi_lstm.compile(loss='binary_crossentropy',\n",
    "                        optimizer=tf.keras.optimizers.Adam(learning_rate),\n",
    "                        metrics=['accuracy'])\n",
    "fit_model_and_show_results(model_bidi_lstm, new_reviews)"
   ]
  },
  {
   "cell_type": "markdown",
   "metadata": {
    "id": "QsxKPbCnPJTj",
    "tags": []
   },
   "source": [
    "# Use multiple bidirectional LSTMs"
   ]
  },
  {
   "cell_type": "code",
   "execution_count": 47,
   "metadata": {
    "id": "3N6Zul47PMED"
   },
   "outputs": [
    {
     "name": "stdout",
     "output_type": "stream",
     "text": [
      "Model: \"sequential_5\"\n",
      "_________________________________________________________________\n",
      "Layer (type)                 Output Shape              Param #   \n",
      "=================================================================\n",
      "embedding_5 (Embedding)      (None, 50, 16)            64000     \n",
      "_________________________________________________________________\n",
      "bidirectional_2 (Bidirection (None, 50, 32)            4224      \n",
      "_________________________________________________________________\n",
      "bidirectional_3 (Bidirection (None, 32)                6272      \n",
      "_________________________________________________________________\n",
      "dense_5 (Dense)              (None, 1)                 33        \n",
      "=================================================================\n",
      "Total params: 74,529\n",
      "Trainable params: 74,529\n",
      "Non-trainable params: 0\n",
      "_________________________________________________________________\n",
      "Epoch 1/30\n",
      "313/313 [==============================] - 15s 48ms/step - loss: 0.6802 - accuracy: 0.5632 - val_loss: 0.7539 - val_accuracy: 0.5092\n",
      "Epoch 2/30\n",
      "313/313 [==============================] - 12s 37ms/step - loss: 0.5072 - accuracy: 0.7450 - val_loss: 0.7506 - val_accuracy: 0.5138\n",
      "Epoch 3/30\n",
      "313/313 [==============================] - 12s 37ms/step - loss: 0.3556 - accuracy: 0.8382 - val_loss: 0.6933 - val_accuracy: 0.5252\n",
      "Epoch 4/30\n",
      "313/313 [==============================] - 12s 37ms/step - loss: 0.3019 - accuracy: 0.8611 - val_loss: 0.6918 - val_accuracy: 0.5252\n",
      "Epoch 5/30\n",
      "313/313 [==============================] - 12s 38ms/step - loss: 0.2710 - accuracy: 0.8779 - val_loss: 0.6894 - val_accuracy: 0.4266\n",
      "Epoch 6/30\n",
      "313/313 [==============================] - 12s 37ms/step - loss: 0.2476 - accuracy: 0.8871 - val_loss: 0.7206 - val_accuracy: 0.3337\n",
      "Epoch 7/30\n",
      "313/313 [==============================] - 12s 37ms/step - loss: 0.2284 - accuracy: 0.8959 - val_loss: 0.7305 - val_accuracy: 0.4771\n",
      "Epoch 8/30\n",
      "313/313 [==============================] - 12s 37ms/step - loss: 0.2166 - accuracy: 0.9010 - val_loss: 0.7927 - val_accuracy: 0.4404\n",
      "Epoch 9/30\n",
      "313/313 [==============================] - 12s 38ms/step - loss: 0.2009 - accuracy: 0.9028 - val_loss: 0.9193 - val_accuracy: 0.4300\n",
      "Epoch 10/30\n",
      "313/313 [==============================] - 12s 37ms/step - loss: 0.1947 - accuracy: 0.9092 - val_loss: 1.6218 - val_accuracy: 0.4667\n",
      "Epoch 11/30\n",
      "313/313 [==============================] - 12s 38ms/step - loss: 0.1862 - accuracy: 0.9129 - val_loss: 1.3198 - val_accuracy: 0.4656\n",
      "Epoch 12/30\n",
      "313/313 [==============================] - 12s 37ms/step - loss: 0.1813 - accuracy: 0.9152 - val_loss: 1.0875 - val_accuracy: 0.4484\n",
      "Epoch 13/30\n",
      "313/313 [==============================] - 12s 37ms/step - loss: 0.1711 - accuracy: 0.9187 - val_loss: 1.3734 - val_accuracy: 0.4209\n",
      "Epoch 14/30\n",
      "313/313 [==============================] - 12s 38ms/step - loss: 0.1722 - accuracy: 0.9197 - val_loss: 1.9327 - val_accuracy: 0.4381\n",
      "Epoch 15/30\n",
      "313/313 [==============================] - 12s 37ms/step - loss: 0.1641 - accuracy: 0.9249 - val_loss: 1.0974 - val_accuracy: 0.3796\n",
      "Epoch 16/30\n",
      "313/313 [==============================] - 12s 38ms/step - loss: 0.1580 - accuracy: 0.9230 - val_loss: 1.3858 - val_accuracy: 0.3796\n",
      "Epoch 17/30\n",
      "313/313 [==============================] - 12s 38ms/step - loss: 0.1560 - accuracy: 0.9247 - val_loss: 1.4021 - val_accuracy: 0.5149\n",
      "Epoch 18/30\n",
      "313/313 [==============================] - 12s 37ms/step - loss: 0.1526 - accuracy: 0.9279 - val_loss: 1.7238 - val_accuracy: 0.4094\n",
      "Epoch 19/30\n",
      "313/313 [==============================] - 12s 37ms/step - loss: 0.1493 - accuracy: 0.9274 - val_loss: 1.4941 - val_accuracy: 0.3922\n",
      "Epoch 20/30\n",
      "313/313 [==============================] - 12s 38ms/step - loss: 0.1438 - accuracy: 0.9282 - val_loss: 1.4530 - val_accuracy: 0.4450\n",
      "Epoch 21/30\n",
      "313/313 [==============================] - 12s 38ms/step - loss: 0.1404 - accuracy: 0.9307 - val_loss: 1.2728 - val_accuracy: 0.4335\n",
      "Epoch 22/30\n",
      "313/313 [==============================] - 12s 38ms/step - loss: 0.1378 - accuracy: 0.9333 - val_loss: 1.7609 - val_accuracy: 0.4839\n",
      "Epoch 23/30\n",
      "313/313 [==============================] - 12s 38ms/step - loss: 0.1351 - accuracy: 0.9347 - val_loss: 2.0788 - val_accuracy: 0.4472\n",
      "Epoch 24/30\n",
      "313/313 [==============================] - 12s 38ms/step - loss: 0.1369 - accuracy: 0.9328 - val_loss: 1.8368 - val_accuracy: 0.5000\n",
      "Epoch 25/30\n",
      "313/313 [==============================] - 12s 38ms/step - loss: 0.1325 - accuracy: 0.9314 - val_loss: 1.7995 - val_accuracy: 0.4759\n",
      "Epoch 26/30\n",
      "313/313 [==============================] - 12s 38ms/step - loss: 0.1309 - accuracy: 0.9317 - val_loss: 1.9264 - val_accuracy: 0.4541\n",
      "Epoch 27/30\n",
      "313/313 [==============================] - 12s 38ms/step - loss: 0.1315 - accuracy: 0.9325 - val_loss: 1.7253 - val_accuracy: 0.4369\n",
      "Epoch 28/30\n",
      "313/313 [==============================] - 12s 38ms/step - loss: 0.1253 - accuracy: 0.9357 - val_loss: 2.2013 - val_accuracy: 0.4576\n",
      "Epoch 29/30\n",
      "313/313 [==============================] - 12s 38ms/step - loss: 0.1230 - accuracy: 0.9364 - val_loss: 1.8473 - val_accuracy: 0.4794\n",
      "Epoch 30/30\n",
      "313/313 [==============================] - 12s 39ms/step - loss: 0.1214 - accuracy: 0.9357 - val_loss: 1.8726 - val_accuracy: 0.4484\n"
     ]
    },
    {
     "data": {
      "image/png": "[encoded data removed]",
      "text/plain": [
       "<Figure size 432x288 with 1 Axes>"
      ]
     },
     "metadata": {
      "needs_background": "light"
     },
     "output_type": "display_data"
    },
    {
     "data": {
      "image/png": "[encoded data removed]",
      "text/plain": [
       "<Figure size 432x288 with 1 Axes>"
      ]
     },
     "metadata": {
      "needs_background": "light"
     },
     "output_type": "display_data"
    },
    {
     "name": "stdout",
     "output_type": "stream",
     "text": [
      "WARNING:tensorflow:5 out of the last 5 calls to <function Model.make_predict_function.<locals>.predict_function at 0x00000207BC9E5DC0> triggered tf.function retracing. Tracing is expensive and the excessive number of tracings could be due to (1) creating @tf.function repeatedly in a loop, (2) passing tensors with different shapes, (3) passing Python objects instead of tensors. For (1), please define your @tf.function outside of the loop. For (2), @tf.function has experimental_relax_shapes=True option that relaxes argument shapes that can avoid unnecessary retracing. For (3), please refer to https://www.tensorflow.org/tutorials/customization/performance#python_or_tensor_args and https://www.tensorflow.org/api_docs/python/tf/function for  more details.\n"
     ]
    },
    {
     "name": "stderr",
     "output_type": "stream",
     "text": [
      "WARNING:tensorflow:5 out of the last 5 calls to <function Model.make_predict_function.<locals>.predict_function at 0x00000207BC9E5DC0> triggered tf.function retracing. Tracing is expensive and the excessive number of tracings could be due to (1) creating @tf.function repeatedly in a loop, (2) passing tensors with different shapes, (3) passing Python objects instead of tensors. For (1), please define your @tf.function outside of the loop. For (2), @tf.function has experimental_relax_shapes=True option that relaxes argument shapes that can avoid unnecessary retracing. For (3), please refer to https://www.tensorflow.org/tutorials/customization/performance#python_or_tensor_args and https://www.tensorflow.org/api_docs/python/tf/function for  more details.\n"
     ]
    },
    {
     "name": "stdout",
     "output_type": "stream",
     "text": [
      "I loved this movie\n",
      "[0.98021513]\n",
      "\n",
      "\n",
      "that was the worst movie I've ever seen\n",
      "[0.42892283]\n",
      "\n",
      "\n",
      "too much violence even for a Bond film\n",
      "[0.00556195]\n",
      "\n",
      "\n",
      "a captivating recounting of a cherished myth\n",
      "[0.99260116]\n",
      "\n",
      "\n"
     ]
    }
   ],
   "source": [
    "num_epochs = 30\n",
    "\n",
    "model_multiple_bidi_lstm = tf.keras.Sequential([\n",
    "    tf.keras.layers.Embedding(vocab_size, embedding_dim, input_length=max_length),\n",
    "    tf.keras.layers.Bidirectional(tf.keras.layers.LSTM(embedding_dim, \n",
    "                                                       return_sequences=True)),\n",
    "    tf.keras.layers.Bidirectional(tf.keras.layers.LSTM(embedding_dim)),\n",
    "    tf.keras.layers.Dense(1, activation='sigmoid')\n",
    "])\n",
    "\n",
    "learning_rate = 0.0003\n",
    "model_multiple_bidi_lstm.compile(loss='binary_crossentropy',\n",
    "                                 optimizer=tf.keras.optimizers.Adam(learning_rate),\n",
    "                                 metrics=['accuracy'])\n",
    "fit_model_and_show_results(model_multiple_bidi_lstm, new_reviews)"
   ]
  },
  {
   "cell_type": "markdown",
   "metadata": {
    "id": "gdN2tdW4YYJ1",
    "tags": []
   },
   "source": [
    "# Try some more reviews"
   ]
  },
  {
   "cell_type": "code",
   "execution_count": 48,
   "metadata": {
    "id": "e45UQxQl_QAI"
   },
   "outputs": [],
   "source": [
    "# Write some new reviews \n",
    "\n",
    "review1 = \"\"\"I loved this movie\"\"\"\n",
    "\n",
    "review2 = \"\"\"that was the worst movie I've ever seen\"\"\"\n",
    "\n",
    "review3 = \"\"\"too much violence even for a Bond film\"\"\"\n",
    "\n",
    "review4 = \"\"\"a captivating recounting of a cherished myth\"\"\"\n",
    "\n",
    "review5 = \"\"\"I saw this movie yesterday and I was feeling low to start with,\n",
    " but it was such a wonderful movie that it lifted my spirits and brightened \n",
    " my day, you can\\'t go wrong with a movie with Whoopi Goldberg in it.\"\"\"\n",
    "\n",
    "review6 = \"\"\"I don\\'t understand why it received an oscar recommendation\n",
    " for best movie, it was long and boring\"\"\"\n",
    "\n",
    "review7 = \"\"\"the scenery was magnificent, the CGI of the dogs was so realistic I\n",
    " thought they were played by real dogs even though they talked!\"\"\"\n",
    "\n",
    "review8 = \"\"\"The ending was so sad and yet so uplifting at the same time. \n",
    " I'm looking for an excuse to see it again\"\"\"\n",
    "\n",
    "review9 = \"\"\"I had expected so much more from a movie made by the director \n",
    " who made my most favorite movie ever, I was very disappointed in the tedious \n",
    " story\"\"\"\n",
    "\n",
    "review10 = \"I wish I could watch this movie every day for the rest of my life\"\n",
    "\n",
    "more_reviews = [review1, review2, review3, review4, review5, review6, review7, \n",
    "               review8, review9, review10]\n"
   ]
  },
  {
   "cell_type": "code",
   "execution_count": 49,
   "metadata": {
    "id": "cQ4YZHOjYXQ2"
   },
   "outputs": [
    {
     "name": "stdout",
     "output_type": "stream",
     "text": [
      "============================\n",
      " Embeddings only:\n",
      " ============================\n",
      "I loved this movie\n",
      "[0.38397542]\n",
      "\n",
      "\n",
      "that was the worst movie I've ever seen\n",
      "[0.11524987]\n",
      "\n",
      "\n",
      "too much violence even for a Bond film\n",
      "[0.03048798]\n",
      "\n",
      "\n",
      "a captivating recounting of a cherished myth\n",
      "[0.59611285]\n",
      "\n",
      "\n",
      "I saw this movie yesterday and I was feeling low to start with,\n",
      " but it was such a wonderful movie that it lifted my spirits and brightened \n",
      " my day, you can't go wrong with a movie with Whoopi Goldberg in it.\n",
      "[0.2556187]\n",
      "\n",
      "\n",
      "I don't understand why it received an oscar recommendation\n",
      " for best movie, it was long and boring\n",
      "[0.48413792]\n",
      "\n",
      "\n",
      "the scenery was magnificent, the CGI of the dogs was so realistic I\n",
      " thought they were played by real dogs even though they talked!\n",
      "[0.27006054]\n",
      "\n",
      "\n",
      "The ending was so sad and yet so uplifting at the same time. \n",
      " I'm looking for an excuse to see it again\n",
      "[0.48883486]\n",
      "\n",
      "\n",
      "I had expected so much more from a movie made by the director \n",
      " who made my most favorite movie ever, I was very disappointed in the tedious \n",
      " story\n",
      "[0.01061109]\n",
      "\n",
      "\n",
      "I wish I could watch this movie every day for the rest of my life\n",
      "[0.2999388]\n",
      "\n",
      "\n"
     ]
    }
   ],
   "source": [
    "print(\"============================\\n\",\"Embeddings only:\\n\", \"============================\")\n",
    "predict_review(model, more_reviews)"
   ]
  },
  {
   "cell_type": "code",
   "execution_count": 50,
   "metadata": {
    "id": "NI04noTAHK5t"
   },
   "outputs": [
    {
     "name": "stdout",
     "output_type": "stream",
     "text": [
      "============================\n",
      " With CNN\n",
      " ============================\n",
      "I loved this movie\n",
      "[0.8705711]\n",
      "\n",
      "\n",
      "that was the worst movie I've ever seen\n",
      "[0.06010312]\n",
      "\n",
      "\n",
      "too much violence even for a Bond film\n",
      "[0.0118604]\n",
      "\n",
      "\n",
      "a captivating recounting of a cherished myth\n",
      "[0.81328976]\n",
      "\n",
      "\n",
      "I saw this movie yesterday and I was feeling low to start with,\n",
      " but it was such a wonderful movie that it lifted my spirits and brightened \n",
      " my day, you can't go wrong with a movie with Whoopi Goldberg in it.\n",
      "[0.73232913]\n",
      "\n",
      "\n",
      "I don't understand why it received an oscar recommendation\n",
      " for best movie, it was long and boring\n",
      "[0.94315815]\n",
      "\n",
      "\n",
      "the scenery was magnificent, the CGI of the dogs was so realistic I\n",
      " thought they were played by real dogs even though they talked!\n",
      "[0.40501744]\n",
      "\n",
      "\n",
      "The ending was so sad and yet so uplifting at the same time. \n",
      " I'm looking for an excuse to see it again\n",
      "[0.6062768]\n",
      "\n",
      "\n",
      "I had expected so much more from a movie made by the director \n",
      " who made my most favorite movie ever, I was very disappointed in the tedious \n",
      " story\n",
      "[0.03737685]\n",
      "\n",
      "\n",
      "I wish I could watch this movie every day for the rest of my life\n",
      "[0.3840998]\n",
      "\n",
      "\n"
     ]
    }
   ],
   "source": [
    "print(\"============================\\n\",\"With CNN\\n\", \"============================\")\n",
    "predict_review(model_cnn, more_reviews)"
   ]
  },
  {
   "cell_type": "code",
   "execution_count": 51,
   "metadata": {
    "id": "vGJ32sRUHNu6"
   },
   "outputs": [
    {
     "name": "stdout",
     "output_type": "stream",
     "text": [
      "===========================\n",
      " With bidirectional GRU\n",
      " ============================\n",
      "I loved this movie\n",
      "[0.4174981]\n",
      "\n",
      "\n",
      "that was the worst movie I've ever seen\n",
      "[0.16592634]\n",
      "\n",
      "\n",
      "too much violence even for a Bond film\n",
      "[0.13035515]\n",
      "\n",
      "\n",
      "a captivating recounting of a cherished myth\n",
      "[0.55852205]\n",
      "\n",
      "\n",
      "I saw this movie yesterday and I was feeling low to start with,\n",
      " but it was such a wonderful movie that it lifted my spirits and brightened \n",
      " my day, you can't go wrong with a movie with Whoopi Goldberg in it.\n",
      "[0.10798278]\n",
      "\n",
      "\n",
      "I don't understand why it received an oscar recommendation\n",
      " for best movie, it was long and boring\n",
      "[0.11622289]\n",
      "\n",
      "\n",
      "the scenery was magnificent, the CGI of the dogs was so realistic I\n",
      " thought they were played by real dogs even though they talked!\n",
      "[0.12920672]\n",
      "\n",
      "\n",
      "The ending was so sad and yet so uplifting at the same time. \n",
      " I'm looking for an excuse to see it again\n",
      "[0.3099646]\n",
      "\n",
      "\n",
      "I had expected so much more from a movie made by the director \n",
      " who made my most favorite movie ever, I was very disappointed in the tedious \n",
      " story\n",
      "[0.062186]\n",
      "\n",
      "\n",
      "I wish I could watch this movie every day for the rest of my life\n",
      "[0.27901444]\n",
      "\n",
      "\n"
     ]
    }
   ],
   "source": [
    "print(\"===========================\\n\",\"With bidirectional GRU\\n\", \"============================\")\n",
    "predict_review(model_gru, more_reviews)"
   ]
  },
  {
   "cell_type": "code",
   "execution_count": 52,
   "metadata": {
    "id": "IFw9Q0iQHP2P"
   },
   "outputs": [
    {
     "name": "stdout",
     "output_type": "stream",
     "text": [
      "===========================\n",
      " With a single bidirectional LSTM:\n",
      " ===========================\n",
      "I loved this movie\n",
      "[0.46618906]\n",
      "\n",
      "\n",
      "that was the worst movie I've ever seen\n",
      "[0.2727755]\n",
      "\n",
      "\n",
      "too much violence even for a Bond film\n",
      "[0.2998518]\n",
      "\n",
      "\n",
      "a captivating recounting of a cherished myth\n",
      "[0.5486074]\n",
      "\n",
      "\n",
      "I saw this movie yesterday and I was feeling low to start with,\n",
      " but it was such a wonderful movie that it lifted my spirits and brightened \n",
      " my day, you can't go wrong with a movie with Whoopi Goldberg in it.\n",
      "[0.24127814]\n",
      "\n",
      "\n",
      "I don't understand why it received an oscar recommendation\n",
      " for best movie, it was long and boring\n",
      "[0.21244606]\n",
      "\n",
      "\n",
      "the scenery was magnificent, the CGI of the dogs was so realistic I\n",
      " thought they were played by real dogs even though they talked!\n",
      "[0.22832558]\n",
      "\n",
      "\n",
      "The ending was so sad and yet so uplifting at the same time. \n",
      " I'm looking for an excuse to see it again\n",
      "[0.35261583]\n",
      "\n",
      "\n",
      "I had expected so much more from a movie made by the director \n",
      " who made my most favorite movie ever, I was very disappointed in the tedious \n",
      " story\n",
      "[0.13419512]\n",
      "\n",
      "\n",
      "I wish I could watch this movie every day for the rest of my life\n",
      "[0.60471225]\n",
      "\n",
      "\n"
     ]
    }
   ],
   "source": [
    "print(\"===========================\\n\", \"With a single bidirectional LSTM:\\n\", \"===========================\")\n",
    "predict_review(model_bidi_lstm, more_reviews)"
   ]
  },
  {
   "cell_type": "code",
   "execution_count": 53,
   "metadata": {
    "id": "zaw7fEVQHSWK"
   },
   "outputs": [
    {
     "name": "stdout",
     "output_type": "stream",
     "text": [
      "===========================\n",
      " With multiple bidirectional LSTM:\n",
      " ==========================\n",
      "I loved this movie\n",
      "[0.98021513]\n",
      "\n",
      "\n",
      "that was the worst movie I've ever seen\n",
      "[0.42892283]\n",
      "\n",
      "\n",
      "too much violence even for a Bond film\n",
      "[0.00556195]\n",
      "\n",
      "\n",
      "a captivating recounting of a cherished myth\n",
      "[0.99260116]\n",
      "\n",
      "\n",
      "I saw this movie yesterday and I was feeling low to start with,\n",
      " but it was such a wonderful movie that it lifted my spirits and brightened \n",
      " my day, you can't go wrong with a movie with Whoopi Goldberg in it.\n",
      "[0.99944586]\n",
      "\n",
      "\n",
      "I don't understand why it received an oscar recommendation\n",
      " for best movie, it was long and boring\n",
      "[0.9997779]\n",
      "\n",
      "\n",
      "the scenery was magnificent, the CGI of the dogs was so realistic I\n",
      " thought they were played by real dogs even though they talked!\n",
      "[0.9608351]\n",
      "\n",
      "\n",
      "The ending was so sad and yet so uplifting at the same time. \n",
      " I'm looking for an excuse to see it again\n",
      "[0.9992535]\n",
      "\n",
      "\n",
      "I had expected so much more from a movie made by the director \n",
      " who made my most favorite movie ever, I was very disappointed in the tedious \n",
      " story\n",
      "[0.06199583]\n",
      "\n",
      "\n",
      "I wish I could watch this movie every day for the rest of my life\n",
      "[0.02342927]\n",
      "\n",
      "\n"
     ]
    }
   ],
   "source": [
    "print(\"===========================\\n\", \"With multiple bidirectional LSTM:\\n\", \"==========================\")\n",
    "predict_review(model_multiple_bidi_lstm, more_reviews)"
   ]
  }
 ],
 "metadata": {
  "accelerator": "GPU",
  "colab": {
   "name": "l10c02_nlp_multiple_models_for_predicting_sentiment.ipynb",
   "toc_visible": true
  },
  "kernelspec": {
   "display_name": "Python 3",
   "language": "python",
   "name": "python3"
  },
  "language_info": {
   "codemirror_mode": {
    "name": "ipython",
    "version": 3
   },
   "file_extension": ".py",
   "mimetype": "text/x-python",
   "name": "python",
   "nbconvert_exporter": "python",
   "pygments_lexer": "ipython3",
   "version": "3.8.5"
  }
 },
 "nbformat": 4,
 "nbformat_minor": 4
}
