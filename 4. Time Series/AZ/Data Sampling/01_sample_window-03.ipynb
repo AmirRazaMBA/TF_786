{
 "cells": [
  {
   "cell_type": "markdown",
   "metadata": {},
   "source": [
    "# TimeSeriesGenerator"
   ]
  },
  {
   "cell_type": "markdown",
   "metadata": {
    "tags": []
   },
   "source": [
    "## Important code to Understand the concept"
   ]
  },
  {
   "cell_type": "code",
   "execution_count": 1,
   "metadata": {},
   "outputs": [],
   "source": [
    "import numpy as np\n",
    "from tensorflow.keras.preprocessing.sequence import TimeseriesGenerator"
   ]
  },
  {
   "cell_type": "code",
   "execution_count": 2,
   "metadata": {},
   "outputs": [
    {
     "name": "stdout",
     "output_type": "stream",
     "text": [
      "x: [0 1 2 3 4 5 6 7 8 9]\n",
      "y: [0 1 2 3 4 5 6 7 8 9]\n"
     ]
    }
   ],
   "source": [
    "data = np.array([[i] for i in range(10)])\n",
    "targets = np.array([[i] for i in range(10)])\n",
    "print('x: %s' % np.hstack(data))\n",
    "print('y: %s' % np.hstack(targets))"
   ]
  },
  {
   "cell_type": "code",
   "execution_count": 3,
   "metadata": {},
   "outputs": [],
   "source": [
    "time_steps = 5"
   ]
  },
  {
   "cell_type": "code",
   "execution_count": 10,
   "metadata": {},
   "outputs": [
    {
     "name": "stdout",
     "output_type": "stream",
     "text": [
      "x:[0 1 2 3 4] => y:[[5]]\n",
      "x:[1 2 3 4 5] => y:[[6]]\n",
      "x:[2 3 4 5 6] => y:[[7]]\n",
      "x:[3 4 5 6 7] => y:[[8]]\n",
      "x:[4 5 6 7 8] => y:[[9]]\n"
     ]
    }
   ],
   "source": [
    "generator = TimeseriesGenerator(data, \n",
    "                                targets,\n",
    "                                length = time_steps, \n",
    "                                sampling_rate=1,\n",
    "                                batch_size=1)\n",
    "\n",
    "for i in range(len(generator)):\n",
    "\tx, y = generator[i]\n",
    "\tprint('x:%s => y:%s' % (x.flatten(), y))"
   ]
  },
  {
   "cell_type": "code",
   "execution_count": 11,
   "metadata": {},
   "outputs": [
    {
     "name": "stdout",
     "output_type": "stream",
     "text": [
      "x:[0 2 4] => y:[[5]]\n",
      "x:[1 3 5] => y:[[6]]\n",
      "x:[2 4 6] => y:[[7]]\n",
      "x:[3 5 7] => y:[[8]]\n",
      "x:[4 6 8] => y:[[9]]\n"
     ]
    }
   ],
   "source": [
    "generator = TimeseriesGenerator(data, \n",
    "                                targets,\n",
    "                                length = time_steps, \n",
    "                                sampling_rate=2,\n",
    "                                batch_size=1)\n",
    "\n",
    "for i in range(len(generator)):\n",
    "\tx, y = generator[i]\n",
    "\tprint('x:%s => y:%s' % (x.flatten(), y))"
   ]
  },
  {
   "cell_type": "code",
   "execution_count": 12,
   "metadata": {},
   "outputs": [
    {
     "name": "stdout",
     "output_type": "stream",
     "text": [
      "x:[0 1 2 3 4 1 2 3 4 5] => y:[[5]\n",
      " [6]]\n",
      "x:[2 3 4 5 6 3 4 5 6 7] => y:[[7]\n",
      " [8]]\n",
      "x:[4 5 6 7 8] => y:[[9]]\n"
     ]
    }
   ],
   "source": [
    "generator = TimeseriesGenerator(data, \n",
    "                                targets,\n",
    "                                length = time_steps, \n",
    "                                sampling_rate=1,\n",
    "                                batch_size=2)\n",
    "\n",
    "for i in range(len(generator)):\n",
    "\tx, y = generator[i]\n",
    "\tprint('x:%s => y:%s' % (x.flatten(), y))"
   ]
  },
  {
   "cell_type": "code",
   "execution_count": 16,
   "metadata": {},
   "outputs": [
    {
     "name": "stdout",
     "output_type": "stream",
     "text": [
      "x:[0 2 4 1 3 5] => y:[[5]\n",
      " [6]]\n",
      "x:[2 4 6 3 5 7] => y:[[7]\n",
      " [8]]\n",
      "x:[4 6 8] => y:[[9]]\n"
     ]
    }
   ],
   "source": [
    "generator = TimeseriesGenerator(data, \n",
    "                                targets,\n",
    "                                length = time_steps, \n",
    "                                sampling_rate=2,\n",
    "                                batch_size=2)\n",
    "\n",
    "for i in range(len(generator)):\n",
    "\tx, y = generator[i]\n",
    "\tprint('x:%s => y:%s' % (x.flatten(), y))"
   ]
  }
 ],
 "metadata": {
  "colab": {
   "collapsed_sections": [],
   "name": "l08c04_time_windows.ipynb",
   "provenance": [],
   "toc_visible": true
  },
  "kernelspec": {
   "display_name": "Python 3",
   "language": "python",
   "name": "python3"
  },
  "language_info": {
   "codemirror_mode": {
    "name": "ipython",
    "version": 3
   },
   "file_extension": ".py",
   "mimetype": "text/x-python",
   "name": "python",
   "nbconvert_exporter": "python",
   "pygments_lexer": "ipython3",
   "version": "3.8.5"
  }
 },
 "nbformat": 4,
 "nbformat_minor": 4
}
