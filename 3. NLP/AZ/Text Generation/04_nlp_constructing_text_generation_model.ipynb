{
 "cells": [
  {
   "cell_type": "markdown",
   "metadata": {},
   "source": [
    "# Text Generation"
   ]
  },
  {
   "cell_type": "code",
   "execution_count": 17,
   "metadata": {},
   "outputs": [],
   "source": [
    "import string\n",
    "import numpy as np\n",
    "import pandas as pd\n",
    "import matplotlib.pyplot as plt\n",
    "import tensorflow as tf"
   ]
  },
  {
   "cell_type": "code",
   "execution_count": 18,
   "metadata": {
    "id": "2LmLTREBf5ng"
   },
   "outputs": [],
   "source": [
    "from tensorflow.keras.preprocessing.text import Tokenizer\n",
    "from tensorflow.keras.preprocessing.sequence import pad_sequences\n",
    "from tensorflow.keras.models import Sequential\n",
    "from tensorflow.keras.layers import Embedding, LSTM, Dense, Bidirectional"
   ]
  },
  {
   "cell_type": "markdown",
   "metadata": {
    "heading_collapsed": "true",
    "tags": []
   },
   "source": [
    "### Helping Functions"
   ]
  },
  {
   "cell_type": "code",
   "execution_count": 19,
   "metadata": {
    "lines_to_next_cell": 1
   },
   "outputs": [],
   "source": [
    " \n",
    "def create_lyrics_corpus(dataset, field):\n",
    "  # Remove all other punctuation\n",
    "  dataset[field] = dataset[field].str.replace('[{}]'.format(string.punctuation), '')\n",
    "  # Make it lowercase\n",
    "  dataset[field] = dataset[field].str.lower()\n",
    "  # Make it one long string to split by line\n",
    "  lyrics = dataset[field].str.cat()\n",
    "  corpus = lyrics.split('\\n')\n",
    "  # Remove any trailing whitespace\n",
    "  for l in range(len(corpus)):\n",
    "    corpus[l] = corpus[l].rstrip()\n",
    "  # Remove any empty lines\n",
    "  corpus = [l for l in corpus if l != '']\n",
    "\n",
    "  return corpus"
   ]
  },
  {
   "cell_type": "code",
   "execution_count": 20,
   "metadata": {},
   "outputs": [],
   "source": [
    "def tokenize_corpus(corpus, num_words=-1):\n",
    "  # Fit a Tokenizer on the corpus\n",
    "  if num_words > -1:\n",
    "    tokenizer = Tokenizer(num_words=num_words)\n",
    "  else:\n",
    "    tokenizer = Tokenizer()\n",
    "  tokenizer.fit_on_texts(corpus)\n",
    "  return tokenizer"
   ]
  },
  {
   "cell_type": "markdown",
   "metadata": {},
   "source": [
    "## Step 1 : Get the Corpus"
   ]
  },
  {
   "cell_type": "code",
   "execution_count": 21,
   "metadata": {},
   "outputs": [
    {
     "name": "stdout",
     "output_type": "stream",
     "text": [
      "C:\\Users\\Amir\\.keras\\datasets\\songdata.csv\n"
     ]
    }
   ],
   "source": [
    "# Read the dataset from csv - just first 10 songs for now\n",
    "path = tf.keras.utils.get_file('songdata.csv', \n",
    "                               'https://drive.google.com/uc?id=1LiJFZd41ofrWoBtW-pMYsfz1w8Ny0Bj8')\n",
    "print (path)"
   ]
  },
  {
   "cell_type": "code",
   "execution_count": 22,
   "metadata": {},
   "outputs": [],
   "source": [
    "dataset = pd.read_csv(path, dtype=str)[:10]"
   ]
  },
  {
   "cell_type": "code",
   "execution_count": 23,
   "metadata": {},
   "outputs": [],
   "source": [
    "corpus = create_lyrics_corpus(dataset, 'text')"
   ]
  },
  {
   "cell_type": "markdown",
   "metadata": {},
   "source": [
    "## Step 2 : Tokenize the Corpus"
   ]
  },
  {
   "cell_type": "code",
   "execution_count": 24,
   "metadata": {},
   "outputs": [],
   "source": [
    "# Tokenize the corpus\n",
    "tokenizer = tokenize_corpus(corpus)"
   ]
  },
  {
   "cell_type": "code",
   "execution_count": 25,
   "metadata": {},
   "outputs": [],
   "source": [
    "total_words = len(tokenizer.word_index) + 19  # why 19?"
   ]
  },
  {
   "cell_type": "code",
   "execution_count": 26,
   "metadata": {
    "colab": {
     "base_uri": "https://localhost:8080/"
    },
    "id": "apcEXp7WhVBs",
    "outputId": "987eca43-d84a-4f06-f7bd-e006ad0b87c4"
   },
   "outputs": [
    {
     "name": "stdout",
     "output_type": "stream",
     "text": [
      "513\n"
     ]
    }
   ],
   "source": [
    "#print(tokenizer.word_index)\n",
    "print(total_words)"
   ]
  },
  {
   "cell_type": "code",
   "execution_count": 27,
   "metadata": {},
   "outputs": [
    {
     "data": {
      "text/html": [
       "<div>\n",
       "<style scoped>\n",
       "    .dataframe tbody tr th:only-of-type {\n",
       "        vertical-align: middle;\n",
       "    }\n",
       "\n",
       "    .dataframe tbody tr th {\n",
       "        vertical-align: top;\n",
       "    }\n",
       "\n",
       "    .dataframe thead th {\n",
       "        text-align: right;\n",
       "    }\n",
       "</style>\n",
       "<table border=\"1\" class=\"dataframe\">\n",
       "  <thead>\n",
       "    <tr style=\"text-align: right;\">\n",
       "      <th></th>\n",
       "      <th>artist</th>\n",
       "      <th>song</th>\n",
       "      <th>link</th>\n",
       "      <th>text</th>\n",
       "    </tr>\n",
       "  </thead>\n",
       "  <tbody>\n",
       "    <tr>\n",
       "      <th>0</th>\n",
       "      <td>ABBA</td>\n",
       "      <td>Ahe's My Kind Of Girl</td>\n",
       "      <td>/a/abba/ahes+my+kind+of+girl_20598417.html</td>\n",
       "      <td>look at her face its a wonderful face  \\nand i...</td>\n",
       "    </tr>\n",
       "    <tr>\n",
       "      <th>1</th>\n",
       "      <td>ABBA</td>\n",
       "      <td>Andante, Andante</td>\n",
       "      <td>/a/abba/andante+andante_20002708.html</td>\n",
       "      <td>take it easy with me please  \\ntouch me gently...</td>\n",
       "    </tr>\n",
       "    <tr>\n",
       "      <th>2</th>\n",
       "      <td>ABBA</td>\n",
       "      <td>As Good As New</td>\n",
       "      <td>/a/abba/as+good+as+new_20003033.html</td>\n",
       "      <td>ill never know why i had to go  \\nwhy i had to...</td>\n",
       "    </tr>\n",
       "    <tr>\n",
       "      <th>3</th>\n",
       "      <td>ABBA</td>\n",
       "      <td>Bang</td>\n",
       "      <td>/a/abba/bang_20598415.html</td>\n",
       "      <td>making somebody happy is a question of give an...</td>\n",
       "    </tr>\n",
       "    <tr>\n",
       "      <th>4</th>\n",
       "      <td>ABBA</td>\n",
       "      <td>Bang-A-Boomerang</td>\n",
       "      <td>/a/abba/bang+a+boomerang_20002668.html</td>\n",
       "      <td>making somebody happy is a question of give an...</td>\n",
       "    </tr>\n",
       "  </tbody>\n",
       "</table>\n",
       "</div>"
      ],
      "text/plain": [
       "  artist                   song                                        link  \\\n",
       "0   ABBA  Ahe's My Kind Of Girl  /a/abba/ahes+my+kind+of+girl_20598417.html   \n",
       "1   ABBA       Andante, Andante       /a/abba/andante+andante_20002708.html   \n",
       "2   ABBA         As Good As New        /a/abba/as+good+as+new_20003033.html   \n",
       "3   ABBA                   Bang                  /a/abba/bang_20598415.html   \n",
       "4   ABBA       Bang-A-Boomerang      /a/abba/bang+a+boomerang_20002668.html   \n",
       "\n",
       "                                                text  \n",
       "0  look at her face its a wonderful face  \\nand i...  \n",
       "1  take it easy with me please  \\ntouch me gently...  \n",
       "2  ill never know why i had to go  \\nwhy i had to...  \n",
       "3  making somebody happy is a question of give an...  \n",
       "4  making somebody happy is a question of give an...  "
      ]
     },
     "execution_count": 27,
     "metadata": {},
     "output_type": "execute_result"
    }
   ],
   "source": [
    "dataset.head()"
   ]
  },
  {
   "cell_type": "markdown",
   "metadata": {},
   "source": [
    "## Step 3 : Create n-Gram"
   ]
  },
  {
   "cell_type": "code",
   "execution_count": 28,
   "metadata": {
    "id": "QmlTsUqfikVO"
   },
   "outputs": [],
   "source": [
    "sequences = []\n",
    "for line in corpus:\n",
    "\ttoken_list = tokenizer.texts_to_sequences([line])[0]\n",
    "\tfor i in range(1, len(token_list)):\n",
    "\t\tn_gram_sequence = token_list[:i+1]\n",
    "\t\tsequences.append(n_gram_sequence)"
   ]
  },
  {
   "cell_type": "markdown",
   "metadata": {},
   "source": [
    "## Step 4 : Pad sequences"
   ]
  },
  {
   "cell_type": "code",
   "execution_count": 29,
   "metadata": {},
   "outputs": [],
   "source": [
    "# Pad sequences for equal input length \n",
    "max_sequence_len = max([len(seq) for seq in sequences])\n",
    "sequences = np.array(pad_sequences(sequences, maxlen=max_sequence_len, padding='pre'))"
   ]
  },
  {
   "cell_type": "markdown",
   "metadata": {},
   "source": [
    "## Step 5 : X and y - Values"
   ]
  },
  {
   "cell_type": "code",
   "execution_count": 30,
   "metadata": {},
   "outputs": [],
   "source": [
    "# Split sequences between the \"input\" sequence and \"output\" predicted word\n",
    "X  = sequences[:,:-1] \n",
    "y_label  = sequences[:,-1]\n",
    "# One-hot encode the labels\n",
    "y = tf.keras.utils.to_categorical(y_label, num_classes = total_words)"
   ]
  },
  {
   "cell_type": "markdown",
   "metadata": {},
   "source": [
    "### Explore and Trace"
   ]
  },
  {
   "cell_type": "code",
   "execution_count": 31,
   "metadata": {
    "colab": {
     "base_uri": "https://localhost:8080/"
    },
    "id": "Zsmu3aEId49i",
    "outputId": "87f5d91d-bab6-4c53-ad7f-73c2fed5c5b4",
    "tags": []
   },
   "outputs": [
    {
     "name": "stdout",
     "output_type": "stream",
     "text": [
      "32\n",
      "97\n",
      "[  0   0   0   0   0   0   0   0   0   0   0   0   0  81  82 142 197  29\n",
      "   4]\n",
      "[  0   0   0   0   0   0   0   0   0   0   0   0  81  82 142 197  29   4\n",
      " 287]\n",
      "[0. 0. 0. 0. 0. 0. 0. 0. 0. 0. 0. 0. 0. 0. 0. 0. 0. 0. 0. 0. 0. 0. 0. 0.\n",
      " 0. 0. 0. 0. 0. 0. 0. 0. 0. 0. 0. 0. 0. 0. 0. 0. 0. 0. 0. 0. 0. 0. 0. 0.\n",
      " 0. 0. 0. 0. 0. 0. 0. 0. 0. 0. 0. 0. 0. 0. 0. 0. 0. 0. 0. 0. 0. 0. 0. 0.\n",
      " 0. 0. 0. 0. 0. 0. 0. 0. 0. 0. 0. 0. 0. 0. 0. 0. 0. 0. 0. 0. 0. 0. 0. 0.\n",
      " 0. 0. 0. 0. 0. 0. 0. 0. 0. 0. 0. 0. 0. 0. 0. 0. 0. 0. 0. 0. 0. 0. 0. 0.\n",
      " 0. 0. 0. 0. 0. 0. 0. 0. 0. 0. 0. 0. 0. 0. 0. 0. 0. 0. 0. 0. 0. 0. 0. 0.\n",
      " 0. 0. 0. 0. 0. 0. 0. 0. 0. 0. 0. 0. 0. 0. 0. 0. 0. 0. 0. 0. 0. 0. 0. 0.\n",
      " 0. 0. 0. 0. 0. 0. 0. 0. 0. 0. 0. 0. 0. 0. 0. 0. 0. 0. 0. 0. 0. 0. 0. 0.\n",
      " 0. 0. 0. 0. 0. 0. 0. 0. 0. 0. 0. 0. 0. 0. 0. 0. 0. 0. 0. 0. 0. 0. 0. 0.\n",
      " 0. 0. 0. 0. 0. 0. 0. 0. 0. 0. 0. 0. 0. 0. 0. 0. 0. 0. 0. 0. 0. 0. 0. 0.\n",
      " 0. 0. 0. 0. 0. 0. 0. 0. 0. 0. 0. 0. 0. 0. 0. 0. 0. 0. 0. 0. 0. 0. 0. 0.\n",
      " 0. 0. 0. 0. 0. 0. 0. 0. 0. 0. 0. 0. 0. 0. 0. 0. 0. 0. 0. 0. 0. 0. 0. 1.\n",
      " 0. 0. 0. 0. 0. 0. 0. 0. 0. 0. 0. 0. 0. 0. 0. 0. 0. 0. 0. 0. 0. 0. 0. 0.\n",
      " 0. 0. 0. 0. 0. 0. 0. 0. 0. 0. 0. 0. 0. 0. 0. 0. 0. 0. 0. 0. 0. 0. 0. 0.\n",
      " 0. 0. 0. 0. 0. 0. 0. 0. 0. 0. 0. 0. 0. 0. 0. 0. 0. 0. 0. 0. 0. 0. 0. 0.\n",
      " 0. 0. 0. 0. 0. 0. 0. 0. 0. 0. 0. 0. 0. 0. 0. 0. 0. 0. 0. 0. 0. 0. 0. 0.\n",
      " 0. 0. 0. 0. 0. 0. 0. 0. 0. 0. 0. 0. 0. 0. 0. 0. 0. 0. 0. 0. 0. 0. 0. 0.\n",
      " 0. 0. 0. 0. 0. 0. 0. 0. 0. 0. 0. 0. 0. 0. 0. 0. 0. 0. 0. 0. 0. 0. 0. 0.\n",
      " 0. 0. 0. 0. 0. 0. 0. 0. 0. 0. 0. 0. 0. 0. 0. 0. 0. 0. 0. 0. 0. 0. 0. 0.\n",
      " 0. 0. 0. 0. 0. 0. 0. 0. 0. 0. 0. 0. 0. 0. 0. 0. 0. 0. 0. 0. 0. 0. 0. 0.\n",
      " 0. 0. 0. 0. 0. 0. 0. 0. 0. 0. 0. 0. 0. 0. 0. 0. 0. 0. 0. 0. 0. 0. 0. 0.\n",
      " 0. 0. 0. 0. 0. 0. 0. 0. 0.]\n",
      "[0. 0. 0. 0. 0. 0. 0. 0. 0. 0. 0. 0. 0. 0. 0. 0. 0. 0. 0. 0. 0. 0. 0. 0.\n",
      " 0. 0. 0. 0. 0. 0. 0. 0. 0. 0. 0. 0. 0. 0. 0. 0. 0. 0. 0. 0. 0. 0. 0. 0.\n",
      " 0. 0. 0. 0. 0. 0. 0. 0. 0. 0. 0. 0. 0. 0. 0. 0. 0. 0. 0. 0. 0. 0. 0. 0.\n",
      " 0. 0. 0. 0. 0. 0. 0. 0. 0. 0. 0. 0. 0. 0. 0. 0. 0. 0. 0. 0. 0. 0. 0. 0.\n",
      " 0. 0. 0. 0. 0. 0. 0. 0. 0. 0. 0. 0. 0. 0. 0. 0. 0. 0. 0. 0. 0. 0. 0. 0.\n",
      " 0. 0. 0. 0. 0. 0. 0. 0. 0. 0. 0. 0. 0. 0. 0. 0. 0. 0. 0. 0. 0. 0. 0. 0.\n",
      " 0. 0. 0. 0. 0. 0. 0. 0. 0. 0. 0. 0. 0. 0. 0. 0. 0. 0. 0. 0. 0. 0. 0. 0.\n",
      " 0. 0. 0. 0. 0. 0. 0. 0. 0. 0. 0. 0. 0. 0. 0. 0. 0. 0. 0. 0. 0. 0. 0. 0.\n",
      " 0. 0. 0. 0. 0. 1. 0. 0. 0. 0. 0. 0. 0. 0. 0. 0. 0. 0. 0. 0. 0. 0. 0. 0.\n",
      " 0. 0. 0. 0. 0. 0. 0. 0. 0. 0. 0. 0. 0. 0. 0. 0. 0. 0. 0. 0. 0. 0. 0. 0.\n",
      " 0. 0. 0. 0. 0. 0. 0. 0. 0. 0. 0. 0. 0. 0. 0. 0. 0. 0. 0. 0. 0. 0. 0. 0.\n",
      " 0. 0. 0. 0. 0. 0. 0. 0. 0. 0. 0. 0. 0. 0. 0. 0. 0. 0. 0. 0. 0. 0. 0. 0.\n",
      " 0. 0. 0. 0. 0. 0. 0. 0. 0. 0. 0. 0. 0. 0. 0. 0. 0. 0. 0. 0. 0. 0. 0. 0.\n",
      " 0. 0. 0. 0. 0. 0. 0. 0. 0. 0. 0. 0. 0. 0. 0. 0. 0. 0. 0. 0. 0. 0. 0. 0.\n",
      " 0. 0. 0. 0. 0. 0. 0. 0. 0. 0. 0. 0. 0. 0. 0. 0. 0. 0. 0. 0. 0. 0. 0. 0.\n",
      " 0. 0. 0. 0. 0. 0. 0. 0. 0. 0. 0. 0. 0. 0. 0. 0. 0. 0. 0. 0. 0. 0. 0. 0.\n",
      " 0. 0. 0. 0. 0. 0. 0. 0. 0. 0. 0. 0. 0. 0. 0. 0. 0. 0. 0. 0. 0. 0. 0. 0.\n",
      " 0. 0. 0. 0. 0. 0. 0. 0. 0. 0. 0. 0. 0. 0. 0. 0. 0. 0. 0. 0. 0. 0. 0. 0.\n",
      " 0. 0. 0. 0. 0. 0. 0. 0. 0. 0. 0. 0. 0. 0. 0. 0. 0. 0. 0. 0. 0. 0. 0. 0.\n",
      " 0. 0. 0. 0. 0. 0. 0. 0. 0. 0. 0. 0. 0. 0. 0. 0. 0. 0. 0. 0. 0. 0. 0. 0.\n",
      " 0. 0. 0. 0. 0. 0. 0. 0. 0. 0. 0. 0. 0. 0. 0. 0. 0. 0. 0. 0. 0. 0. 0. 0.\n",
      " 0. 0. 0. 0. 0. 0. 0. 0. 0.]\n"
     ]
    }
   ],
   "source": [
    "# Check out how some of our data is being stored\n",
    "# The Tokenizer has just a single index per word\n",
    "print(tokenizer.word_index['know'])\n",
    "print(tokenizer.word_index['feeling'])\n",
    "# Input sequences will have multiple indexes\n",
    "print(X[5])\n",
    "print(X[6])\n",
    "# And the one hot labels will be as long as the full spread of tokenized words\n",
    "print(y[5])\n",
    "print(y[6])"
   ]
  },
  {
   "cell_type": "markdown",
   "metadata": {},
   "source": [
    "## Step 6 : Create Model"
   ]
  },
  {
   "cell_type": "code",
   "execution_count": 33,
   "metadata": {
    "id": "G1YXuxIqfygN",
    "tags": []
   },
   "outputs": [
    {
     "name": "stdout",
     "output_type": "stream",
     "text": [
      "Model: \"sequential_1\"\n",
      "_________________________________________________________________\n",
      "Layer (type)                 Output Shape              Param #   \n",
      "=================================================================\n",
      "embedding_1 (Embedding)      (None, 19, 64)            32832     \n",
      "_________________________________________________________________\n",
      "bidirectional_1 (Bidirection (None, 40)                13600     \n",
      "_________________________________________________________________\n",
      "dense_1 (Dense)              (None, 513)               21033     \n",
      "=================================================================\n",
      "Total params: 67,465\n",
      "Trainable params: 67,465\n",
      "Non-trainable params: 0\n",
      "_________________________________________________________________\n",
      "Epoch 1/200\n",
      "62/62 [==============================] - 1s 11ms/step - loss: 6.0171 - accuracy: 0.0303 0s - loss: 6.0706 - accuracy: 0.\n",
      "Epoch 2/200\n",
      "62/62 [==============================] - 1s 10ms/step - loss: 5.4445 - accuracy: 0.0343\n",
      "Epoch 3/200\n",
      "62/62 [==============================] - 1s 10ms/step - loss: 5.3752 - accuracy: 0.0419\n",
      "Epoch 4/200\n",
      "62/62 [==============================] - 1s 10ms/step - loss: 5.3243 - accuracy: 0.0399\n",
      "Epoch 5/200\n",
      "62/62 [==============================] - 1s 10ms/step - loss: 5.2536 - accuracy: 0.0414\n",
      "Epoch 6/200\n",
      "62/62 [==============================] - 1s 9ms/step - loss: 5.1821 - accuracy: 0.0414\n",
      "Epoch 7/200\n",
      "62/62 [==============================] - 1s 11ms/step - loss: 5.1135 - accuracy: 0.0434\n",
      "Epoch 8/200\n",
      "62/62 [==============================] - 1s 12ms/step - loss: 5.0428 - accuracy: 0.0560\n",
      "Epoch 9/200\n",
      "62/62 [==============================] - ETA: 0s - loss: 4.9676 - accuracy: 0.05 - 1s 11ms/step - loss: 4.9676 - accuracy: 0.0525\n",
      "Epoch 10/200\n",
      "62/62 [==============================] - 1s 13ms/step - loss: 4.8846 - accuracy: 0.0646\n",
      "Epoch 11/200\n",
      "62/62 [==============================] - 1s 11ms/step - loss: 4.7977 - accuracy: 0.0701\n",
      "Epoch 12/200\n",
      "62/62 [==============================] - 1s 10ms/step - loss: 4.7131 - accuracy: 0.0747\n",
      "Epoch 13/200\n",
      "62/62 [==============================] - ETA: 0s - loss: 4.6163 - accuracy: 0.09 - 1s 11ms/step - loss: 4.6305 - accuracy: 0.0893\n",
      "Epoch 14/200\n",
      "62/62 [==============================] - 1s 10ms/step - loss: 4.5435 - accuracy: 0.1085\n",
      "Epoch 15/200\n",
      "62/62 [==============================] - 1s 11ms/step - loss: 4.4620 - accuracy: 0.1251\n",
      "Epoch 16/200\n",
      "62/62 [==============================] - 1s 11ms/step - loss: 4.3810 - accuracy: 0.1216\n",
      "Epoch 17/200\n",
      "62/62 [==============================] - 1s 10ms/step - loss: 4.2961 - accuracy: 0.1307\n",
      "Epoch 18/200\n",
      "62/62 [==============================] - 1s 9ms/step - loss: 4.2139 - accuracy: 0.1443\n",
      "Epoch 19/200\n",
      "62/62 [==============================] - 1s 10ms/step - loss: 4.1364 - accuracy: 0.1453\n",
      "Epoch 20/200\n",
      "62/62 [==============================] - 1s 11ms/step - loss: 4.0589 - accuracy: 0.1645\n",
      "Epoch 21/200\n",
      "62/62 [==============================] - 1s 10ms/step - loss: 3.9835 - accuracy: 0.1912\n",
      "Epoch 22/200\n",
      "62/62 [==============================] - 1s 8ms/step - loss: 3.9108 - accuracy: 0.1988\n",
      "Epoch 23/200\n",
      "62/62 [==============================] - 1s 11ms/step - loss: 3.8322 - accuracy: 0.2134\n",
      "Epoch 24/200\n",
      "62/62 [==============================] - 1s 10ms/step - loss: 3.7728 - accuracy: 0.2341\n",
      "Epoch 25/200\n",
      "62/62 [==============================] - 1s 11ms/step - loss: 3.7054 - accuracy: 0.2397\n",
      "Epoch 26/200\n",
      "62/62 [==============================] - 1s 10ms/step - loss: 3.6308 - accuracy: 0.2674\n",
      "Epoch 27/200\n",
      "62/62 [==============================] - 1s 9ms/step - loss: 3.5718 - accuracy: 0.2765\n",
      "Epoch 28/200\n",
      "62/62 [==============================] - 1s 9ms/step - loss: 3.5246 - accuracy: 0.2805\n",
      "Epoch 29/200\n",
      "62/62 [==============================] - 1s 9ms/step - loss: 3.4416 - accuracy: 0.3032\n",
      "Epoch 30/200\n",
      "62/62 [==============================] - 1s 9ms/step - loss: 3.3677 - accuracy: 0.3219\n",
      "Epoch 31/200\n",
      "62/62 [==============================] - 1s 10ms/step - loss: 3.3042 - accuracy: 0.3385\n",
      "Epoch 32/200\n",
      "62/62 [==============================] - 1s 10ms/step - loss: 3.2471 - accuracy: 0.3507\n",
      "Epoch 33/200\n",
      "62/62 [==============================] - 1s 11ms/step - loss: 3.1776 - accuracy: 0.3729\n",
      "Epoch 34/200\n",
      "62/62 [==============================] - 1s 8ms/step - loss: 3.1333 - accuracy: 0.3734\n",
      "Epoch 35/200\n",
      "62/62 [==============================] - 1s 8ms/step - loss: 3.1475 - accuracy: 0.3688\n",
      "Epoch 36/200\n",
      "62/62 [==============================] - 1s 10ms/step - loss: 3.0913 - accuracy: 0.3804\n",
      "Epoch 37/200\n",
      "62/62 [==============================] - 1s 9ms/step - loss: 2.9796 - accuracy: 0.3946\n",
      "Epoch 38/200\n",
      "62/62 [==============================] - 1s 9ms/step - loss: 2.9100 - accuracy: 0.4107\n",
      "Epoch 39/200\n",
      "62/62 [==============================] - 1s 9ms/step - loss: 2.8529 - accuracy: 0.4248\n",
      "Epoch 40/200\n",
      "62/62 [==============================] - 1s 10ms/step - loss: 2.8006 - accuracy: 0.4334\n",
      "Epoch 41/200\n",
      "62/62 [==============================] - 1s 9ms/step - loss: 2.7562 - accuracy: 0.4339\n",
      "Epoch 42/200\n",
      "62/62 [==============================] - 1s 9ms/step - loss: 2.7281 - accuracy: 0.4420\n",
      "Epoch 43/200\n",
      "62/62 [==============================] - 1s 9ms/step - loss: 2.6733 - accuracy: 0.4400\n",
      "Epoch 44/200\n",
      "62/62 [==============================] - 1s 10ms/step - loss: 2.6296 - accuracy: 0.4526\n",
      "Epoch 45/200\n",
      "62/62 [==============================] - 1s 9ms/step - loss: 2.5885 - accuracy: 0.4566\n",
      "Epoch 46/200\n",
      "62/62 [==============================] - 1s 10ms/step - loss: 2.5547 - accuracy: 0.4642\n",
      "Epoch 47/200\n",
      "62/62 [==============================] - 1s 10ms/step - loss: 2.5113 - accuracy: 0.4667\n",
      "Epoch 48/200\n",
      "62/62 [==============================] - 1s 11ms/step - loss: 2.4494 - accuracy: 0.4758\n",
      "Epoch 49/200\n",
      "62/62 [==============================] - 1s 11ms/step - loss: 2.4063 - accuracy: 0.4823\n",
      "Epoch 50/200\n",
      "62/62 [==============================] - ETA: 0s - loss: 2.3711 - accuracy: 0.49 - 1s 11ms/step - loss: 2.3745 - accuracy: 0.4924\n",
      "Epoch 51/200\n",
      "62/62 [==============================] - 1s 10ms/step - loss: 2.3226 - accuracy: 0.4975\n",
      "Epoch 52/200\n",
      "62/62 [==============================] - 1s 10ms/step - loss: 2.2799 - accuracy: 0.5121\n",
      "Epoch 53/200\n",
      "62/62 [==============================] - 1s 13ms/step - loss: 2.2508 - accuracy: 0.5141\n",
      "Epoch 54/200\n",
      "62/62 [==============================] - 1s 15ms/step - loss: 2.2109 - accuracy: 0.5247\n",
      "Epoch 55/200\n",
      "62/62 [==============================] - 1s 13ms/step - loss: 2.1715 - accuracy: 0.5227\n",
      "Epoch 56/200\n",
      "62/62 [==============================] - 1s 13ms/step - loss: 2.1373 - accuracy: 0.5318\n",
      "Epoch 57/200\n",
      "62/62 [==============================] - 1s 13ms/step - loss: 2.1256 - accuracy: 0.5373\n",
      "Epoch 58/200\n",
      "62/62 [==============================] - 1s 12ms/step - loss: 2.1102 - accuracy: 0.5343\n",
      "Epoch 59/200\n",
      "62/62 [==============================] - 1s 10ms/step - loss: 2.0991 - accuracy: 0.5409\n",
      "Epoch 60/200\n",
      "62/62 [==============================] - 1s 12ms/step - loss: 2.0695 - accuracy: 0.5434\n",
      "Epoch 61/200\n",
      "62/62 [==============================] - 1s 13ms/step - loss: 1.9954 - accuracy: 0.5747\n",
      "Epoch 62/200\n",
      "62/62 [==============================] - 1s 11ms/step - loss: 1.9508 - accuracy: 0.5807\n",
      "Epoch 63/200\n",
      "62/62 [==============================] - 1s 12ms/step - loss: 1.9128 - accuracy: 0.5999\n",
      "Epoch 64/200\n",
      "62/62 [==============================] - 1s 10ms/step - loss: 1.8831 - accuracy: 0.6019\n",
      "Epoch 65/200\n",
      "62/62 [==============================] - 1s 10ms/step - loss: 1.8636 - accuracy: 0.6029\n",
      "Epoch 66/200\n",
      "62/62 [==============================] - 1s 10ms/step - loss: 1.8381 - accuracy: 0.6115\n",
      "Epoch 67/200\n",
      "62/62 [==============================] - 1s 10ms/step - loss: 1.8160 - accuracy: 0.6201 0s - loss: 1.8507 \n",
      "Epoch 68/200\n",
      "62/62 [==============================] - 1s 9ms/step - loss: 1.7756 - accuracy: 0.6282\n",
      "Epoch 69/200\n",
      "62/62 [==============================] - 1s 11ms/step - loss: 1.7478 - accuracy: 0.6322\n",
      "Epoch 70/200\n",
      "62/62 [==============================] - 1s 10ms/step - loss: 1.7161 - accuracy: 0.6398\n",
      "Epoch 71/200\n",
      "62/62 [==============================] - 1s 10ms/step - loss: 1.6879 - accuracy: 0.6534\n",
      "Epoch 72/200\n",
      "62/62 [==============================] - 1s 10ms/step - loss: 1.6632 - accuracy: 0.6564\n",
      "Epoch 73/200\n",
      "62/62 [==============================] - 1s 10ms/step - loss: 1.6391 - accuracy: 0.6594\n",
      "Epoch 74/200\n",
      "62/62 [==============================] - 1s 10ms/step - loss: 1.6106 - accuracy: 0.6675\n",
      "Epoch 75/200\n",
      "62/62 [==============================] - 1s 11ms/step - loss: 1.5828 - accuracy: 0.6771\n",
      "Epoch 76/200\n",
      "62/62 [==============================] - ETA: 0s - loss: 1.5588 - accuracy: 0.68 - 1s 11ms/step - loss: 1.5647 - accuracy: 0.6781\n",
      "Epoch 77/200\n",
      "62/62 [==============================] - 1s 12ms/step - loss: 1.5501 - accuracy: 0.6826\n",
      "Epoch 78/200\n",
      "62/62 [==============================] - 1s 10ms/step - loss: 1.5374 - accuracy: 0.6831\n",
      "Epoch 79/200\n",
      "62/62 [==============================] - 1s 9ms/step - loss: 1.5377 - accuracy: 0.6796\n",
      "Epoch 80/200\n",
      "62/62 [==============================] - 1s 9ms/step - loss: 1.4917 - accuracy: 0.6902\n",
      "Epoch 81/200\n",
      "62/62 [==============================] - 1s 9ms/step - loss: 1.5343 - accuracy: 0.6685\n",
      "Epoch 82/200\n",
      "62/62 [==============================] - 1s 9ms/step - loss: 1.4693 - accuracy: 0.6968\n",
      "Epoch 83/200\n",
      "62/62 [==============================] - 1s 8ms/step - loss: 1.5261 - accuracy: 0.6695\n",
      "Epoch 84/200\n",
      "62/62 [==============================] - 1s 8ms/step - loss: 1.4932 - accuracy: 0.6756\n",
      "Epoch 85/200\n",
      "62/62 [==============================] - 1s 10ms/step - loss: 1.4220 - accuracy: 0.6983\n",
      "Epoch 86/200\n",
      "62/62 [==============================] - 1s 10ms/step - loss: 1.3637 - accuracy: 0.7200\n",
      "Epoch 87/200\n",
      "62/62 [==============================] - 1s 9ms/step - loss: 1.3355 - accuracy: 0.7296\n",
      "Epoch 88/200\n",
      "62/62 [==============================] - 1s 8ms/step - loss: 1.3213 - accuracy: 0.7245\n",
      "Epoch 89/200\n",
      "62/62 [==============================] - 1s 9ms/step - loss: 1.2978 - accuracy: 0.7311\n",
      "Epoch 90/200\n",
      "62/62 [==============================] - 1s 9ms/step - loss: 1.2812 - accuracy: 0.7422\n",
      "Epoch 91/200\n",
      "62/62 [==============================] - 1s 9ms/step - loss: 1.2624 - accuracy: 0.7356\n",
      "Epoch 92/200\n",
      "62/62 [==============================] - 1s 9ms/step - loss: 1.2469 - accuracy: 0.7457\n",
      "Epoch 93/200\n",
      "62/62 [==============================] - 1s 10ms/step - loss: 1.2253 - accuracy: 0.7477\n",
      "Epoch 94/200\n",
      "62/62 [==============================] - 1s 9ms/step - loss: 1.2073 - accuracy: 0.7513\n",
      "Epoch 95/200\n",
      "62/62 [==============================] - 1s 11ms/step - loss: 1.2035 - accuracy: 0.7563 0s - loss: 1.1993 - accuracy: 0.\n",
      "Epoch 96/200\n",
      "62/62 [==============================] - 1s 10ms/step - loss: 1.1850 - accuracy: 0.7538\n",
      "Epoch 97/200\n",
      "62/62 [==============================] - 1s 10ms/step - loss: 1.1612 - accuracy: 0.7563\n",
      "Epoch 98/200\n",
      "62/62 [==============================] - 1s 10ms/step - loss: 1.1744 - accuracy: 0.7533\n",
      "Epoch 99/200\n",
      "62/62 [==============================] - 1s 9ms/step - loss: 1.1983 - accuracy: 0.7341\n",
      "Epoch 100/200\n",
      "62/62 [==============================] - 1s 8ms/step - loss: 1.1312 - accuracy: 0.7603\n",
      "Epoch 101/200\n",
      "62/62 [==============================] - 1s 9ms/step - loss: 1.0969 - accuracy: 0.7674\n",
      "Epoch 102/200\n",
      "62/62 [==============================] - 1s 10ms/step - loss: 1.0909 - accuracy: 0.7674\n",
      "Epoch 103/200\n",
      "62/62 [==============================] - 1s 9ms/step - loss: 1.0825 - accuracy: 0.7704\n",
      "Epoch 104/200\n",
      "62/62 [==============================] - 1s 9ms/step - loss: 1.0851 - accuracy: 0.7644\n",
      "Epoch 105/200\n",
      "62/62 [==============================] - 1s 9ms/step - loss: 1.0573 - accuracy: 0.7684\n",
      "Epoch 106/200\n",
      "62/62 [==============================] - 1s 10ms/step - loss: 1.0383 - accuracy: 0.7785\n",
      "Epoch 107/200\n",
      "62/62 [==============================] - 1s 10ms/step - loss: 1.0124 - accuracy: 0.7820\n",
      "Epoch 108/200\n",
      "62/62 [==============================] - 1s 9ms/step - loss: 1.0049 - accuracy: 0.7856\n",
      "Epoch 109/200\n",
      "62/62 [==============================] - 1s 9ms/step - loss: 1.0013 - accuracy: 0.7825\n",
      "Epoch 110/200\n",
      "62/62 [==============================] - 1s 10ms/step - loss: 0.9793 - accuracy: 0.7851\n",
      "Epoch 111/200\n",
      "62/62 [==============================] - 1s 9ms/step - loss: 0.9772 - accuracy: 0.7851\n",
      "Epoch 112/200\n",
      "62/62 [==============================] - 1s 9ms/step - loss: 0.9674 - accuracy: 0.7846\n",
      "Epoch 113/200\n",
      "62/62 [==============================] - 1s 9ms/step - loss: 0.9508 - accuracy: 0.7901\n",
      "Epoch 114/200\n",
      "62/62 [==============================] - 1s 9ms/step - loss: 0.9358 - accuracy: 0.8002\n",
      "Epoch 115/200\n",
      "62/62 [==============================] - 1s 9ms/step - loss: 0.9244 - accuracy: 0.7982\n",
      "Epoch 116/200\n",
      "62/62 [==============================] - 1s 9ms/step - loss: 0.9142 - accuracy: 0.7987\n",
      "Epoch 117/200\n",
      "62/62 [==============================] - 1s 9ms/step - loss: 0.8987 - accuracy: 0.8052\n",
      "Epoch 118/200\n",
      "62/62 [==============================] - 1s 9ms/step - loss: 0.8962 - accuracy: 0.8032\n",
      "Epoch 119/200\n",
      "62/62 [==============================] - 1s 10ms/step - loss: 0.8942 - accuracy: 0.8032\n",
      "Epoch 120/200\n",
      "62/62 [==============================] - 1s 9ms/step - loss: 0.8941 - accuracy: 0.8007\n",
      "Epoch 121/200\n",
      "62/62 [==============================] - 1s 9ms/step - loss: 0.8777 - accuracy: 0.8063\n",
      "Epoch 122/200\n",
      "62/62 [==============================] - 1s 9ms/step - loss: 0.8558 - accuracy: 0.8158\n",
      "Epoch 123/200\n",
      "62/62 [==============================] - 1s 9ms/step - loss: 0.8364 - accuracy: 0.8219\n",
      "Epoch 124/200\n",
      "62/62 [==============================] - 1s 9ms/step - loss: 0.8266 - accuracy: 0.8224\n",
      "Epoch 125/200\n",
      "62/62 [==============================] - 1s 9ms/step - loss: 0.8254 - accuracy: 0.8179\n",
      "Epoch 126/200\n",
      "62/62 [==============================] - 1s 9ms/step - loss: 0.8234 - accuracy: 0.8244\n",
      "Epoch 127/200\n",
      "62/62 [==============================] - 1s 8ms/step - loss: 0.7980 - accuracy: 0.8259\n",
      "Epoch 128/200\n",
      "62/62 [==============================] - 1s 10ms/step - loss: 0.7954 - accuracy: 0.8274\n",
      "Epoch 129/200\n",
      "62/62 [==============================] - 1s 9ms/step - loss: 0.8111 - accuracy: 0.8209\n",
      "Epoch 130/200\n",
      "62/62 [==============================] - 1s 9ms/step - loss: 0.8035 - accuracy: 0.8244\n",
      "Epoch 131/200\n",
      "62/62 [==============================] - 1s 9ms/step - loss: 0.7822 - accuracy: 0.8305\n",
      "Epoch 132/200\n",
      "62/62 [==============================] - 1s 9ms/step - loss: 0.7664 - accuracy: 0.8310\n",
      "Epoch 133/200\n",
      "62/62 [==============================] - 1s 8ms/step - loss: 0.7525 - accuracy: 0.8370\n",
      "Epoch 134/200\n",
      "62/62 [==============================] - 1s 9ms/step - loss: 0.7426 - accuracy: 0.8406\n",
      "Epoch 135/200\n",
      "62/62 [==============================] - 1s 9ms/step - loss: 0.7317 - accuracy: 0.8441\n",
      "Epoch 136/200\n",
      "62/62 [==============================] - 1s 10ms/step - loss: 0.7241 - accuracy: 0.8391\n",
      "Epoch 137/200\n",
      "62/62 [==============================] - 1s 11ms/step - loss: 0.7162 - accuracy: 0.8436\n",
      "Epoch 138/200\n",
      "62/62 [==============================] - 1s 11ms/step - loss: 0.7089 - accuracy: 0.8466\n",
      "Epoch 139/200\n",
      "62/62 [==============================] - 1s 12ms/step - loss: 0.7030 - accuracy: 0.8461\n",
      "Epoch 140/200\n",
      "62/62 [==============================] - 1s 11ms/step - loss: 0.7057 - accuracy: 0.8431\n",
      "Epoch 141/200\n",
      "62/62 [==============================] - 1s 10ms/step - loss: 0.7271 - accuracy: 0.8380\n",
      "Epoch 142/200\n",
      "62/62 [==============================] - 1s 11ms/step - loss: 0.7104 - accuracy: 0.8441 0s - loss: 0.7187 - accura\n",
      "Epoch 143/200\n",
      "62/62 [==============================] - 1s 10ms/step - loss: 0.7062 - accuracy: 0.8406\n",
      "Epoch 144/200\n",
      "62/62 [==============================] - 1s 11ms/step - loss: 0.6947 - accuracy: 0.8436\n",
      "Epoch 145/200\n",
      "62/62 [==============================] - 1s 10ms/step - loss: 0.6843 - accuracy: 0.8406\n",
      "Epoch 146/200\n",
      "62/62 [==============================] - 1s 10ms/step - loss: 0.6762 - accuracy: 0.8481\n",
      "Epoch 147/200\n",
      "62/62 [==============================] - 1s 11ms/step - loss: 0.6631 - accuracy: 0.8527\n",
      "Epoch 148/200\n",
      "62/62 [==============================] - 1s 10ms/step - loss: 0.6586 - accuracy: 0.8532\n",
      "Epoch 149/200\n",
      "62/62 [==============================] - 1s 11ms/step - loss: 0.6532 - accuracy: 0.8496\n",
      "Epoch 150/200\n",
      "62/62 [==============================] - 1s 10ms/step - loss: 0.6438 - accuracy: 0.8532\n",
      "Epoch 151/200\n",
      "62/62 [==============================] - 1s 11ms/step - loss: 0.6453 - accuracy: 0.8527 0s - loss: 0.6128 - ac\n",
      "Epoch 152/200\n",
      "62/62 [==============================] - 1s 12ms/step - loss: 0.6400 - accuracy: 0.8496\n",
      "Epoch 153/200\n",
      "62/62 [==============================] - 1s 10ms/step - loss: 0.6599 - accuracy: 0.8441\n",
      "Epoch 154/200\n",
      "62/62 [==============================] - 1s 11ms/step - loss: 0.6359 - accuracy: 0.8491\n",
      "Epoch 155/200\n",
      "62/62 [==============================] - 1s 10ms/step - loss: 0.6109 - accuracy: 0.8572\n",
      "Epoch 156/200\n",
      "62/62 [==============================] - 1s 9ms/step - loss: 0.6031 - accuracy: 0.8547\n",
      "Epoch 157/200\n",
      "62/62 [==============================] - 1s 9ms/step - loss: 0.5940 - accuracy: 0.8592\n",
      "Epoch 158/200\n",
      "62/62 [==============================] - 1s 9ms/step - loss: 0.5812 - accuracy: 0.8638\n",
      "Epoch 159/200\n",
      "62/62 [==============================] - 1s 12ms/step - loss: 0.5732 - accuracy: 0.8668\n",
      "Epoch 160/200\n",
      "62/62 [==============================] - 1s 11ms/step - loss: 0.5689 - accuracy: 0.8663\n",
      "Epoch 161/200\n",
      "62/62 [==============================] - 1s 13ms/step - loss: 0.5632 - accuracy: 0.8673\n",
      "Epoch 162/200\n",
      "62/62 [==============================] - 1s 11ms/step - loss: 0.5595 - accuracy: 0.8668\n",
      "Epoch 163/200\n",
      "62/62 [==============================] - 1s 9ms/step - loss: 0.5530 - accuracy: 0.8673\n",
      "Epoch 164/200\n",
      "62/62 [==============================] - 1s 10ms/step - loss: 0.5475 - accuracy: 0.8693\n",
      "Epoch 165/200\n",
      "62/62 [==============================] - 1s 8ms/step - loss: 0.5526 - accuracy: 0.8683\n",
      "Epoch 166/200\n",
      "62/62 [==============================] - 1s 8ms/step - loss: 0.5456 - accuracy: 0.8739\n",
      "Epoch 167/200\n",
      "62/62 [==============================] - 1s 11ms/step - loss: 0.5387 - accuracy: 0.8703\n",
      "Epoch 168/200\n",
      "62/62 [==============================] - 1s 12ms/step - loss: 0.5314 - accuracy: 0.8744\n",
      "Epoch 169/200\n",
      "62/62 [==============================] - 1s 16ms/step - loss: 0.5280 - accuracy: 0.8708\n",
      "Epoch 170/200\n",
      "62/62 [==============================] - 1s 12ms/step - loss: 0.5283 - accuracy: 0.8749\n",
      "Epoch 171/200\n",
      "62/62 [==============================] - 1s 11ms/step - loss: 0.5520 - accuracy: 0.8703\n",
      "Epoch 172/200\n",
      "62/62 [==============================] - 1s 10ms/step - loss: 0.6482 - accuracy: 0.8401\n",
      "Epoch 173/200\n",
      "62/62 [==============================] - 1s 12ms/step - loss: 0.5837 - accuracy: 0.8577\n",
      "Epoch 174/200\n",
      "62/62 [==============================] - 1s 15ms/step - loss: 0.5776 - accuracy: 0.8582\n",
      "Epoch 175/200\n",
      "62/62 [==============================] - 1s 12ms/step - loss: 0.6416 - accuracy: 0.8320\n",
      "Epoch 176/200\n",
      "62/62 [==============================] - 1s 16ms/step - loss: 0.5807 - accuracy: 0.8542\n",
      "Epoch 177/200\n",
      "62/62 [==============================] - 1s 12ms/step - loss: 0.5479 - accuracy: 0.8623\n",
      "Epoch 178/200\n",
      "62/62 [==============================] - 1s 10ms/step - loss: 0.5241 - accuracy: 0.8668\n",
      "Epoch 179/200\n",
      "62/62 [==============================] - 1s 10ms/step - loss: 0.5125 - accuracy: 0.8724\n",
      "Epoch 180/200\n",
      "62/62 [==============================] - 1s 10ms/step - loss: 0.4984 - accuracy: 0.8759\n",
      "Epoch 181/200\n",
      "62/62 [==============================] - 1s 10ms/step - loss: 0.4964 - accuracy: 0.8789\n",
      "Epoch 182/200\n",
      "62/62 [==============================] - 1s 10ms/step - loss: 0.4882 - accuracy: 0.8769\n",
      "Epoch 183/200\n",
      "62/62 [==============================] - 1s 10ms/step - loss: 0.4814 - accuracy: 0.8799\n",
      "Epoch 184/200\n",
      "62/62 [==============================] - 1s 11ms/step - loss: 0.4725 - accuracy: 0.8835\n",
      "Epoch 185/200\n",
      "62/62 [==============================] - 1s 10ms/step - loss: 0.4702 - accuracy: 0.8829\n",
      "Epoch 186/200\n",
      "62/62 [==============================] - 1s 11ms/step - loss: 0.4667 - accuracy: 0.8814\n",
      "Epoch 187/200\n",
      "62/62 [==============================] - 1s 10ms/step - loss: 0.4608 - accuracy: 0.8814\n",
      "Epoch 188/200\n",
      "62/62 [==============================] - 1s 10ms/step - loss: 0.4563 - accuracy: 0.8829\n",
      "Epoch 189/200\n",
      "62/62 [==============================] - 1s 11ms/step - loss: 0.4723 - accuracy: 0.8769\n",
      "Epoch 190/200\n",
      "62/62 [==============================] - 1s 12ms/step - loss: 0.4682 - accuracy: 0.8774\n",
      "Epoch 191/200\n",
      "62/62 [==============================] - 1s 10ms/step - loss: 0.4555 - accuracy: 0.8809\n",
      "Epoch 192/200\n",
      "62/62 [==============================] - 1s 10ms/step - loss: 0.4526 - accuracy: 0.8865\n",
      "Epoch 193/200\n",
      "62/62 [==============================] - 1s 9ms/step - loss: 0.4456 - accuracy: 0.8850\n",
      "Epoch 194/200\n",
      "62/62 [==============================] - 1s 11ms/step - loss: 0.4480 - accuracy: 0.8819 0s - loss: 0.4094 \n",
      "Epoch 195/200\n",
      "62/62 [==============================] - 1s 11ms/step - loss: 0.4394 - accuracy: 0.8855\n",
      "Epoch 196/200\n",
      "62/62 [==============================] - 1s 10ms/step - loss: 0.4378 - accuracy: 0.8865\n",
      "Epoch 197/200\n",
      "62/62 [==============================] - 1s 9ms/step - loss: 0.4690 - accuracy: 0.8779\n",
      "Epoch 198/200\n",
      "62/62 [==============================] - 1s 11ms/step - loss: 0.4941 - accuracy: 0.8734\n",
      "Epoch 199/200\n",
      "62/62 [==============================] - 1s 9ms/step - loss: 0.4621 - accuracy: 0.8819\n",
      "Epoch 200/200\n",
      "62/62 [==============================] - 1s 10ms/step - loss: 0.4386 - accuracy: 0.8845\n"
     ]
    }
   ],
   "source": [
    "model = Sequential()\n",
    "model.add(Embedding(total_words, 64, input_length=max_sequence_len-1))\n",
    "model.add(Bidirectional(LSTM(20)))\n",
    "model.add(Dense(total_words, activation='softmax'))\n",
    "model.compile(loss='categorical_crossentropy', optimizer='adam', metrics=['accuracy'])\n",
    "model.summary()\n",
    "history = model.fit(X, y, epochs=200, verbose=1)"
   ]
  },
  {
   "cell_type": "code",
   "execution_count": 34,
   "metadata": {
    "lines_to_next_cell": 1
   },
   "outputs": [],
   "source": [
    "def plot_graphs(history, string):\n",
    "  plt.plot(history.history[string])\n",
    "  plt.xlabel(\"Epochs\")\n",
    "  plt.ylabel(string)\n",
    "  plt.show()"
   ]
  },
  {
   "cell_type": "code",
   "execution_count": 35,
   "metadata": {
    "colab": {
     "base_uri": "https://localhost:8080/",
     "height": 279
    },
    "id": "aeSNfS7uhch0",
    "outputId": "1b507817-69dc-401d-fa71-549bac6626c3"
   },
   "outputs": [
    {
     "data": {
      "image/png": "[encoded data removed]",
      "text/plain": [
       "<Figure size 432x288 with 1 Axes>"
      ]
     },
     "metadata": {
      "needs_background": "light"
     },
     "output_type": "display_data"
    }
   ],
   "source": [
    "plot_graphs(history, 'accuracy')"
   ]
  },
  {
   "cell_type": "markdown",
   "metadata": {},
   "source": [
    "## Step 7 : Generate Text"
   ]
  },
  {
   "cell_type": "code",
   "execution_count": 36,
   "metadata": {},
   "outputs": [],
   "source": [
    "seed_text = \"im feeling chills\"\n",
    "next_words = 100"
   ]
  },
  {
   "cell_type": "code",
   "execution_count": 37,
   "metadata": {
    "colab": {
     "base_uri": "https://localhost:8080/"
    },
    "id": "DC7zfcgviDTp",
    "outputId": "22b66389-e2c7-4e1c-8759-f91963d75364"
   },
   "outputs": [
    {
     "name": "stdout",
     "output_type": "stream",
     "text": [
      "im feeling chills your music and i do what a walk in my stuff tomorrow talking walk am am am am am more more more more more more more slack seems but no blown thought thought morning thought thought morning closed would weave realized its new new found new love found true crazy wonderful plan shoulder hour am am am am more more more more more more slack more more so seems figure quiet here i realized realized realized its blue think do crazy wonderful didnt do may just advice dreamed realized dreamed chiquitita true shoulder new to dont thought would realized do\n"
     ]
    }
   ],
   "source": [
    "for _ in range(next_words):\n",
    "\ttoken_list = tokenizer.texts_to_sequences([seed_text])[0]\n",
    "\ttoken_list = pad_sequences([token_list], maxlen=max_sequence_len-1, padding='pre')\n",
    "\tpredicted = np.argmax(model.predict(token_list), axis=-1)\n",
    "\toutput_word = \"\"\n",
    "\tfor word, index in tokenizer.word_index.items():\n",
    "\t\tif index == predicted:\n",
    "\t\t\toutput_word = word\n",
    "\t\t\tbreak\n",
    "\tseed_text += \" \" + output_word\n",
    "print(seed_text)"
   ]
  },
  {
   "cell_type": "code",
   "execution_count": null,
   "metadata": {},
   "outputs": [],
   "source": []
  }
 ],
 "metadata": {
  "accelerator": "GPU",
  "colab": {
   "collapsed_sections": [],
   "name": "l10c03_nlp_constructing_text_generation_model.ipynb",
   "provenance": [],
   "toc_visible": true
  },
  "kernelspec": {
   "display_name": "Python 3",
   "language": "python",
   "name": "python3"
  },
  "language_info": {
   "codemirror_mode": {
    "name": "ipython",
    "version": 3
   },
   "file_extension": ".py",
   "mimetype": "text/x-python",
   "name": "python",
   "nbconvert_exporter": "python",
   "pygments_lexer": "ipython3",
   "version": "3.8.5"
  }
 },
 "nbformat": 4,
 "nbformat_minor": 4
}
