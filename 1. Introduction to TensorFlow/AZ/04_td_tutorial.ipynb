{
 "cells": [
  {
   "cell_type": "code",
   "execution_count": 1,
   "metadata": {},
   "outputs": [],
   "source": [
    "import tensorflow as tf"
   ]
  },
  {
   "cell_type": "code",
   "execution_count": 4,
   "metadata": {
    "collapsed": false,
    "jupyter": {
     "outputs_hidden": false
    },
    "pycharm": {
     "name": "#%%\n"
    }
   },
   "outputs": [
    {
     "name": "stdout",
     "output_type": "stream",
     "text": [
      "2.3.0\n",
      "<TensorSliceDataset shapes: (), types: tf.int32>\n",
      "Original dataset\n",
      "tf.Tensor(0, shape=(), dtype=int32)\n",
      "0\n",
      "tf.Tensor(1, shape=(), dtype=int32)\n",
      "1\n",
      "tf.Tensor(2, shape=(), dtype=int32)\n",
      "2\n",
      "tf.Tensor(3, shape=(), dtype=int32)\n",
      "3\n",
      "tf.Tensor(4, shape=(), dtype=int32)\n",
      "4\n",
      "dataset after applying batch method\n",
      "tf.Tensor([0 1], shape=(2,), dtype=int32)\n",
      "tf.Tensor([2 3], shape=(2,), dtype=int32)\n",
      "tf.Tensor([4], shape=(1,), dtype=int32)\n",
      "\n",
      "dataset after applying take() method\n",
      "tf.Tensor([0 1], shape=(2,), dtype=int32)\n",
      "tf.Tensor([2 3], shape=(2,), dtype=int32)\n",
      "tf.Tensor([4], shape=(1,), dtype=int32)\n"
     ]
    }
   ],
   "source": [
    "  print(tf.__version__)\n",
    "\n",
    "  # Create Tensor\n",
    "  tensor1 = tf.range(5)\n",
    "  \n",
    "  #print(dir(tf.data.Dataset))\n",
    "  #Create dataset, this will return object of TensorSliceDataset\n",
    "  dataset = tf.data.Dataset.from_tensor_slices(tensor1)\n",
    "  print(dataset)\n",
    "  print(\"Original dataset\")\n",
    "  for i in dataset:    \n",
    "      print(i)\n",
    "      #print(i.numpy())\n",
    "\n",
    "  dataset = dataset.batch(batch_size=2)\n",
    "  print(\"dataset after applying batch method\")\n",
    "  for i in dataset:\n",
    "      print(i)\n",
    "    \n",
    "  print(\"\\ndataset after applying take() method\")\n",
    "  for i in dataset.take(4):\n",
    "        print(i)"
   ]
  },
  {
   "cell_type": "code",
   "execution_count": 8,
   "metadata": {},
   "outputs": [
    {
     "name": "stdout",
     "output_type": "stream",
     "text": [
      "tf.Tensor([ 5 10], shape=(2,), dtype=int32)\n",
      "tf.Tensor([3 6], shape=(2,), dtype=int32)\n",
      "[ 5 10]\n",
      "[3 6]\n"
     ]
    }
   ],
   "source": [
    "# numpy to dataset\n",
    "ds = tf.data.Dataset.from_tensor_slices([[5, 10], [3, 6]])\n",
    "  \n",
    "# dataset elements as tensors\n",
    "for e in ds:\n",
    "    print(e)\n",
    "    \n",
    "# dataset to numpy\n",
    "for e in ds:\n",
    "    print(e.numpy())"
   ]
  },
  {
   "cell_type": "code",
   "execution_count": 8,
   "metadata": {},
   "outputs": [],
   "source": [
    "# Create Tensor\n",
    "tensor1 = tf.range(6)"
   ]
  },
  {
   "cell_type": "code",
   "execution_count": 9,
   "metadata": {
    "lines_to_next_cell": 2
   },
   "outputs": [
    {
     "name": "stdout",
     "output_type": "stream",
     "text": [
      "<TensorSliceDataset shapes: (), types: tf.int32>\n",
      "Original dataset\n",
      "tf.Tensor(0, shape=(), dtype=int32)\n",
      "tf.Tensor(1, shape=(), dtype=int32)\n",
      "tf.Tensor(2, shape=(), dtype=int32)\n",
      "tf.Tensor(3, shape=(), dtype=int32)\n",
      "tf.Tensor(4, shape=(), dtype=int32)\n",
      "tf.Tensor(5, shape=(), dtype=int32)\n"
     ]
    }
   ],
   "source": [
    "#print(dir(tf.data.Dataset))\n",
    "#Create dataset, this will return object of TensorSliceDataset\n",
    "dataset = tf.data.Dataset.from_tensor_slices(tensor1)\n",
    "print(dataset)\n",
    "print(\"Original dataset\")\n",
    "for i in dataset:    \n",
    "    print(i)"
   ]
  },
  {
   "cell_type": "code",
   "execution_count": 10,
   "metadata": {},
   "outputs": [
    {
     "name": "stdout",
     "output_type": "stream",
     "text": [
      "\n",
      "dataset after applying batch method with repeat()\n",
      "tf.Tensor([0 1], shape=(2,), dtype=int32)\n",
      "tf.Tensor([2 3], shape=(2,), dtype=int32)\n",
      "tf.Tensor([4 5], shape=(2,), dtype=int32)\n",
      "tf.Tensor([0 1], shape=(2,), dtype=int32)\n",
      "tf.Tensor([2 3], shape=(2,), dtype=int32)\n",
      "tf.Tensor([4 5], shape=(2,), dtype=int32)\n",
      "tf.Tensor([0 1], shape=(2,), dtype=int32)\n",
      "tf.Tensor([2 3], shape=(2,), dtype=int32)\n",
      "tf.Tensor([4 5], shape=(2,), dtype=int32)\n"
     ]
    }
   ],
   "source": [
    "#Using batch method with repeat\n",
    "dataset = dataset.repeat(3).batch(batch_size=2)\n",
    "print(\"\\ndataset after applying batch method with repeat()\")\n",
    "for i in dataset:\n",
    "    print(i)"
   ]
  },
  {
   "cell_type": "code",
   "execution_count": 11,
   "metadata": {},
   "outputs": [
    {
     "name": "stdout",
     "output_type": "stream",
     "text": [
      "dataset after applying take() method\n",
      "tf.Tensor([0 1], shape=(2,), dtype=int32)\n",
      "tf.Tensor([2 3], shape=(2,), dtype=int32)\n",
      "tf.Tensor([4 5], shape=(2,), dtype=int32)\n",
      "tf.Tensor([0 1], shape=(2,), dtype=int32)\n"
     ]
    }
   ],
   "source": [
    "print(\"dataset after applying take() method\")\n",
    "for i in dataset.take(4):\n",
    "  print(i)"
   ]
  },
  {
   "cell_type": "code",
   "execution_count": 12,
   "metadata": {},
   "outputs": [
    {
     "name": "stdout",
     "output_type": "stream",
     "text": [
      "dataset after applying map function\n",
      "tf.Tensor([0 1], shape=(2,), dtype=int32)\n",
      "tf.Tensor([ 8 27], shape=(2,), dtype=int32)\n",
      "tf.Tensor([ 64 125], shape=(2,), dtype=int32)\n",
      "tf.Tensor([0 1], shape=(2,), dtype=int32)\n",
      "tf.Tensor([ 8 27], shape=(2,), dtype=int32)\n",
      "tf.Tensor([ 64 125], shape=(2,), dtype=int32)\n",
      "tf.Tensor([0 1], shape=(2,), dtype=int32)\n",
      "tf.Tensor([ 8 27], shape=(2,), dtype=int32)\n",
      "tf.Tensor([ 64 125], shape=(2,), dtype=int32)\n"
     ]
    }
   ],
   "source": [
    "# Transforming dataset items using map()\n",
    "print(\"dataset after applying map function\")\n",
    "dataset = dataset.map(lambda x : x*x*x)\n",
    "for i in dataset:\n",
    "    print(i)"
   ]
  },
  {
   "cell_type": "markdown",
   "metadata": {},
   "source": [
    "note 8, 27, etc"
   ]
  },
  {
   "cell_type": "code",
   "execution_count": null,
   "metadata": {},
   "outputs": [],
   "source": [
    "# Playing 52 deck cards\n",
    "tensor1 = tf.range(52)\n",
    "dataset = tf.data.Dataset.from_tensor_slices(tensor1)\n",
    "print(dataset)\n",
    "print(\"Original dataset\")\n",
    "#for i in dataset:    \n",
    "    #print(i)"
   ]
  },
  {
   "cell_type": "code",
   "execution_count": null,
   "metadata": {},
   "outputs": [],
   "source": [
    "#Using batch method with repeat\n",
    "dataset = dataset.shuffle(52).batch(4)"
   ]
  },
  {
   "cell_type": "code",
   "execution_count": 8,
   "metadata": {
    "lines_to_next_cell": 2
   },
   "outputs": [
    {
     "name": "stdout",
     "output_type": "stream",
     "text": [
      "<TensorSliceDataset shapes: (), types: tf.int32>\n",
      "Original dataset\n",
      "tf.Tensor([ 3 36 51 40], shape=(4,), dtype=int32)\n",
      "tf.Tensor([30  4  8 13], shape=(4,), dtype=int32)\n",
      "tf.Tensor([44  0  9 47], shape=(4,), dtype=int32)\n",
      "tf.Tensor([41  1 10 45], shape=(4,), dtype=int32)\n",
      "tf.Tensor([49 23 34 18], shape=(4,), dtype=int32)\n",
      "tf.Tensor([ 6 17 28  2], shape=(4,), dtype=int32)\n",
      "tf.Tensor([12 26 37 50], shape=(4,), dtype=int32)\n",
      "tf.Tensor([22 31 15 21], shape=(4,), dtype=int32)\n",
      "tf.Tensor([25 24 39 14], shape=(4,), dtype=int32)\n",
      "tf.Tensor([11 33 20 29], shape=(4,), dtype=int32)\n",
      "tf.Tensor([ 5 48 38 16], shape=(4,), dtype=int32)\n",
      "tf.Tensor([35 19 46 27], shape=(4,), dtype=int32)\n",
      "tf.Tensor([32 42  7 43], shape=(4,), dtype=int32)\n"
     ]
    }
   ],
   "source": [
    "for i in dataset:    \n",
    "    print(i)"
   ]
  },
  {
   "cell_type": "code",
   "execution_count": null,
   "metadata": {},
   "outputs": [],
   "source": [
    "# Playing Ludo\n",
    "tensor1 = tf.range(6)\n",
    "dataset = tf.data.Dataset.from_tensor_slices(tensor1)\n",
    "print(dataset)\n",
    "print(\"Original dataset\")\n",
    "#for i in dataset:    \n",
    "    #print(i)"
   ]
  },
  {
   "cell_type": "code",
   "execution_count": null,
   "metadata": {},
   "outputs": [],
   "source": [
    "#Using batch method with repeat\n",
    "dataset = dataset.shuffle(1)"
   ]
  },
  {
   "cell_type": "code",
   "execution_count": 18,
   "metadata": {},
   "outputs": [
    {
     "name": "stdout",
     "output_type": "stream",
     "text": [
      "<TensorSliceDataset shapes: (), types: tf.int32>\n",
      "Original dataset\n",
      "tf.Tensor(0, shape=(), dtype=int32)\n",
      "tf.Tensor(1, shape=(), dtype=int32)\n",
      "tf.Tensor(2, shape=(), dtype=int32)\n",
      "tf.Tensor(3, shape=(), dtype=int32)\n",
      "tf.Tensor(4, shape=(), dtype=int32)\n",
      "tf.Tensor(5, shape=(), dtype=int32)\n",
      "----\n",
      "tf.Tensor(1, shape=(), dtype=int32)\n",
      "tf.Tensor(2, shape=(), dtype=int32)\n",
      "tf.Tensor(3, shape=(), dtype=int32)\n",
      "tf.Tensor(0, shape=(), dtype=int32)\n",
      "tf.Tensor(4, shape=(), dtype=int32)\n",
      "tf.Tensor(5, shape=(), dtype=int32)\n",
      "----\n",
      "tf.Tensor(0, shape=(), dtype=int32)\n",
      "tf.Tensor(1, shape=(), dtype=int32)\n",
      "tf.Tensor(2, shape=(), dtype=int32)\n",
      "tf.Tensor(5, shape=(), dtype=int32)\n",
      "tf.Tensor(4, shape=(), dtype=int32)\n",
      "tf.Tensor(3, shape=(), dtype=int32)\n"
     ]
    }
   ],
   "source": [
    "for i in dataset:    \n",
    "    print(i)"
   ]
  },
  {
   "cell_type": "code",
   "execution_count": null,
   "metadata": {},
   "outputs": [],
   "source": [
    "print(\"----\")\n",
    "dataset = dataset.shuffle(2)"
   ]
  },
  {
   "cell_type": "code",
   "execution_count": null,
   "metadata": {},
   "outputs": [],
   "source": [
    "for i in dataset:    \n",
    "    print(i)    "
   ]
  },
  {
   "cell_type": "code",
   "execution_count": null,
   "metadata": {},
   "outputs": [],
   "source": [
    "print(\"----\")\n",
    "dataset = dataset.shuffle(3)"
   ]
  },
  {
   "cell_type": "code",
   "execution_count": null,
   "metadata": {},
   "outputs": [],
   "source": [
    "for i in dataset:    \n",
    "    print(i)  "
   ]
  }
 ],
 "metadata": {
  "jupytext": {
   "formats": "ipynb,py:nomarker"
  },
  "kernelspec": {
   "display_name": "PyCharm (TF_786)",
   "language": "python",
   "name": "pycharm-cf112a48"
  },
  "language_info": {
   "codemirror_mode": {
    "name": "ipython",
    "version": 3
   },
   "file_extension": ".py",
   "mimetype": "text/x-python",
   "name": "python",
   "nbconvert_exporter": "python",
   "pygments_lexer": "ipython3",
   "version": "3.8.5"
  }
 },
 "nbformat": 4,
 "nbformat_minor": 4
}
