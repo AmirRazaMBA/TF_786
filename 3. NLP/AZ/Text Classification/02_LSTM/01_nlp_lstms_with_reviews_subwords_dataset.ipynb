{
 "cells": [
  {
   "cell_type": "markdown",
   "metadata": {
    "id": "7nyLNypHwp-S"
   },
   "source": [
    "\n",
    "*LSTM Basics*\n",
    "\n",
    "https://youtu.be/gjb68a4XsqE\n",
    "\n",
    "https://youtu.be/ycwthhdx8ws\n",
    "\n",
    "- Simple RNNs are not always enough when working with text data. \n",
    "- Longer sequences, such as a paragraph, often are difficult to handle, as the simple RNN structure loses information about previous inputs fairly quickly.\n",
    "- Long Short-Term Memory models, or LSTMs, help resolve this by keeping a “cell state” across time. These include a “forget gate”, where the cell can choose whether to keep or forget certain words to carry forward in the sequence.\n",
    "- Another interesting aspect of LSTMs is that they can be bidirectional, meaning that information can be passed both forward (later in the text sequence) and backward (earlier in the text sequence).\n",
    "https://video.udacity-data.com/topher/2020/March/5e6fbd24_lstm-forget-gates/lstm-forget-gates.png"
   ]
  },
  {
   "cell_type": "code",
   "execution_count": 19,
   "metadata": {
    "id": "L62G7LTwNzoD"
   },
   "outputs": [],
   "source": [
    "import numpy as np\n",
    "import pandas as pd\n",
    "import matplotlib.pyplot as plt\n",
    "import tensorflow as tf\n",
    "\n",
    "from tensorflow.keras.preprocessing.sequence import pad_sequences"
   ]
  },
  {
   "cell_type": "code",
   "execution_count": 20,
   "metadata": {
    "colab": {
     "base_uri": "https://localhost:8080/"
    },
    "id": "nCOtiRJZbxCH",
    "outputId": "a8a4b832-ad6d-488f-8dcf-fa2ebee2ca8d"
   },
   "outputs": [
    {
     "name": "stdout",
     "output_type": "stream",
     "text": [
      "--2020-12-06 10:34:22--  https://drive.google.com/uc?id=13ySLC_ue6Umt9RJYSeM2t-V0kCv-4C-P\n",
      "Resolving drive.google.com (drive.google.com)... 173.194.216.101, 173.194.216.139, 173.194.216.113, ...\n",
      "Connecting to drive.google.com (drive.google.com)|173.194.216.101|:443... connected.\n",
      "HTTP request sent, awaiting response... 302 Moved Temporarily\n",
      "Location: https://doc-08-ak-docs.googleusercontent.com/docs/securesc/ha0ro937gcuc7l7deffksulhg5h7mbp1/a2fbf44vcpr9vl18cptur98grql2trru/1607250825000/11118900490791463723/*/13ySLC_ue6Umt9RJYSeM2t-V0kCv-4C-P [following]\n",
      "Warning: wildcards not supported in HTTP.\n",
      "--2020-12-06 10:34:22--  https://doc-08-ak-docs.googleusercontent.com/docs/securesc/ha0ro937gcuc7l7deffksulhg5h7mbp1/a2fbf44vcpr9vl18cptur98grql2trru/1607250825000/11118900490791463723/*/13ySLC_ue6Umt9RJYSeM2t-V0kCv-4C-P\n",
      "Resolving doc-08-ak-docs.googleusercontent.com (doc-08-ak-docs.googleusercontent.com)... 64.233.170.132, 2607:f8b0:400c:c0d::84\n",
      "Connecting to doc-08-ak-docs.googleusercontent.com (doc-08-ak-docs.googleusercontent.com)|64.233.170.132|:443... connected.\n",
      "HTTP request sent, awaiting response... 200 OK\n",
      "Length: 127831 (125K) [text/csv]\n",
      "Saving to: ‘/tmp/sentiment.csv’\n",
      "\n",
      "/tmp/sentiment.csv  100%[===================>] 124.83K  --.-KB/s    in 0.001s  \n",
      "\n",
      "2020-12-06 10:34:22 (94.1 MB/s) - ‘/tmp/sentiment.csv’ saved [127831/127831]\n",
      "\n"
     ]
    }
   ],
   "source": [
    "!wget --no-check-certificate \\\n",
    "https://drive.google.com/uc?id=13ySLC_ue6Umt9RJYSeM2t-V0kCv-4C-P -O /tmp/sentiment.csv"
   ]
  },
  {
   "cell_type": "code",
   "execution_count": 21,
   "metadata": {
    "colab": {
     "base_uri": "https://localhost:8080/",
     "height": 195
    },
    "id": "XuqER_KMD-xS",
    "outputId": "228c00d9-4b5d-43bf-83f1-095e4ec573c8"
   },
   "outputs": [
    {
     "data": {
      "text/html": [
       "<div>\n",
       "<style scoped>\n",
       "    .dataframe tbody tr th:only-of-type {\n",
       "        vertical-align: middle;\n",
       "    }\n",
       "\n",
       "    .dataframe tbody tr th {\n",
       "        vertical-align: top;\n",
       "    }\n",
       "\n",
       "    .dataframe thead th {\n",
       "        text-align: right;\n",
       "    }\n",
       "</style>\n",
       "<table border=\"1\" class=\"dataframe\">\n",
       "  <thead>\n",
       "    <tr style=\"text-align: right;\">\n",
       "      <th></th>\n",
       "      <th>Unnamed: 0</th>\n",
       "      <th>text</th>\n",
       "      <th>sentiment</th>\n",
       "    </tr>\n",
       "  </thead>\n",
       "  <tbody>\n",
       "    <tr>\n",
       "      <th>0</th>\n",
       "      <td>0</td>\n",
       "      <td>So there is no way for me to plug it in here i...</td>\n",
       "      <td>0</td>\n",
       "    </tr>\n",
       "    <tr>\n",
       "      <th>1</th>\n",
       "      <td>1</td>\n",
       "      <td>Good case Excellent value.</td>\n",
       "      <td>1</td>\n",
       "    </tr>\n",
       "    <tr>\n",
       "      <th>2</th>\n",
       "      <td>2</td>\n",
       "      <td>Great for the jawbone.</td>\n",
       "      <td>1</td>\n",
       "    </tr>\n",
       "    <tr>\n",
       "      <th>3</th>\n",
       "      <td>3</td>\n",
       "      <td>Tied to charger for conversations lasting more...</td>\n",
       "      <td>0</td>\n",
       "    </tr>\n",
       "    <tr>\n",
       "      <th>4</th>\n",
       "      <td>4</td>\n",
       "      <td>The mic is great.</td>\n",
       "      <td>1</td>\n",
       "    </tr>\n",
       "  </tbody>\n",
       "</table>\n",
       "</div>"
      ],
      "text/plain": [
       "   Unnamed: 0                                               text  sentiment\n",
       "0           0  So there is no way for me to plug it in here i...          0\n",
       "1           1                         Good case Excellent value.          1\n",
       "2           2                             Great for the jawbone.          1\n",
       "3           3  Tied to charger for conversations lasting more...          0\n",
       "4           4                                  The mic is great.          1"
      ]
     },
     "execution_count": 21,
     "metadata": {
      "tags": []
     },
     "output_type": "execute_result"
    }
   ],
   "source": [
    "dataset = pd.read_csv('/tmp/sentiment.csv')\n",
    "dataset.head()"
   ]
  },
  {
   "cell_type": "code",
   "execution_count": 22,
   "metadata": {
    "id": "v1BS-mULI2Vz"
   },
   "outputs": [],
   "source": [
    "# Extract out sentences and labels\n",
    "sentences = dataset['text'].tolist()\n",
    "labels = dataset['sentiment'].tolist()"
   ]
  },
  {
   "cell_type": "code",
   "execution_count": 23,
   "metadata": {
    "colab": {
     "base_uri": "https://localhost:8080/"
    },
    "id": "Tbsx1T2CXPNO",
    "outputId": "42919452-c343-43aa-f882-a883e1080287"
   },
   "outputs": [
    {
     "name": "stdout",
     "output_type": "stream",
     "text": [
      "So there is no way for me to plug it in here in the US unless I go by a converter.\n",
      "0\n",
      "\n",
      "\n",
      "Good case Excellent value.\n",
      "1\n",
      "\n",
      "\n"
     ]
    }
   ],
   "source": [
    "# Print some example sentences and labels\n",
    "for x in range(2):\n",
    "  print(sentences[x])\n",
    "  print(labels[x])\n",
    "  print(\"\\n\")"
   ]
  },
  {
   "cell_type": "code",
   "execution_count": 24,
   "metadata": {
    "colab": {
     "base_uri": "https://localhost:8080/"
    },
    "id": "6NaicNCcLYyf",
    "outputId": "2d326c0d-d136-4775-d1c9-be3189c3286c"
   },
   "outputs": [
    {
     "name": "stdout",
     "output_type": "stream",
     "text": [
      "Vocab size is  999\n"
     ]
    }
   ],
   "source": [
    "# making a bag of words here with numbers assigned\n",
    "import tensorflow_datasets as tfds\n",
    "\n",
    "vocab_size = 1000\n",
    "tokenizer = tfds.deprecated.text.SubwordTextEncoder.build_from_corpus(sentences, \n",
    "                                                                      vocab_size, \n",
    "                                                                      max_subword_length=5)\n",
    "\n",
    "# How big is the vocab size?\n",
    "print(\"Vocab size is \", tokenizer.vocab_size)"
   ]
  },
  {
   "cell_type": "code",
   "execution_count": 25,
   "metadata": {
    "colab": {
     "base_uri": "https://localhost:8080/"
    },
    "id": "xvRVoeIVLevh",
    "outputId": "3a36015e-53ad-4488-8123-283a12f0a060"
   },
   "outputs": [
    {
     "name": "stdout",
     "output_type": "stream",
     "text": [
      "I have to jiggle the plug to get it to line up right to get decent volume.\n",
      "[4, 31, 6, 849, 162, 450, 12, 1, 600, 438, 775, 6, 175, 14, 6, 55, 213, 159, 474, 775, 6, 175, 614, 380, 295, 148, 72, 789]\n"
     ]
    }
   ],
   "source": [
    "# Check that the tokenizer works appropriately\n",
    "num = 5\n",
    "print(sentences[num])\n",
    "encoded = tokenizer.encode(sentences[num])\n",
    "print(encoded)   # shows the code of the words"
   ]
  },
  {
   "cell_type": "code",
   "execution_count": 26,
   "metadata": {
    "colab": {
     "base_uri": "https://localhost:8080/"
    },
    "id": "G_vacTCifklV",
    "outputId": "65b67829-47c6-4a5b-b21e-da66797c0228"
   },
   "outputs": [
    {
     "name": "stdout",
     "output_type": "stream",
     "text": [
      "I \n",
      "have \n",
      "to \n",
      "j\n",
      "ig\n",
      "gl\n",
      "e \n",
      "the \n",
      "pl\n",
      "ug\n",
      " \n",
      "to \n",
      "get \n",
      "it \n",
      "to \n",
      "li\n",
      "ne \n",
      "up \n",
      "right\n",
      " \n",
      "to \n",
      "get \n",
      "dec\n",
      "ent \n",
      "vo\n",
      "lu\n",
      "me\n",
      ".\n"
     ]
    }
   ],
   "source": [
    "# Separately print out each subword, decoded\n",
    "for i in encoded:\n",
    "  print(tokenizer.decode([i]))   # now decode the number to text\n"
   ]
  },
  {
   "cell_type": "code",
   "execution_count": 27,
   "metadata": {
    "id": "lkseMhxjL09F"
   },
   "outputs": [],
   "source": [
    "# For all sentences, replace sentence data with encoded subwords\n",
    "for i, sentence in enumerate(sentences):\n",
    "  sentences[i] = tokenizer.encode(sentence)"
   ]
  },
  {
   "cell_type": "code",
   "execution_count": 28,
   "metadata": {
    "colab": {
     "base_uri": "https://localhost:8080/"
    },
    "id": "y21yRuzmL43U",
    "outputId": "5a8e9a49-1444-440d-da8a-c1d75e5f012e"
   },
   "outputs": [
    {
     "name": "stdout",
     "output_type": "stream",
     "text": [
      "[4, 31, 6, 849, 162, 450, 12, 1, 600, 438, 775, 6, 175, 14, 6, 55, 213, 159, 474, 775, 6, 175, 614, 380, 295, 148, 72, 789]\n"
     ]
    }
   ],
   "source": [
    "# Check the sentences are appropriately replaced\n",
    "print(sentences[5])"
   ]
  },
  {
   "cell_type": "code",
   "execution_count": 29,
   "metadata": {
    "id": "50-hTsogLSL-"
   },
   "outputs": [],
   "source": [
    "# Final pre-processing\n",
    "max_length = 50\n",
    "trunc_type='post'\n",
    "padding_type='post'\n",
    "\n",
    "# Pad all sequences\n",
    "sequences_padded = pad_sequences(sentences, maxlen=max_length, \n",
    "                                 padding=padding_type, truncating=trunc_type)\n",
    "\n",
    "# Separate out the sentences and labels into training and test sets\n",
    "training_size = int(len(sentences) * 0.8)\n",
    "training_sequences = sequences_padded[0:training_size]\n",
    "testing_sequences = sequences_padded[training_size:]\n",
    "training_labels = labels[0:training_size]\n",
    "testing_labels = labels[training_size:]\n",
    "\n",
    "# Make labels into numpy arrays for use with the network later\n",
    "training_labels_final = np.array(training_labels)\n",
    "testing_labels_final = np.array(testing_labels)"
   ]
  },
  {
   "cell_type": "code",
   "execution_count": 30,
   "metadata": {
    "colab": {
     "base_uri": "https://localhost:8080/"
    },
    "id": "c_nyQeI0RCCv",
    "outputId": "9459f1e8-ee80-4dbb-aa20-323ebdd2dbeb"
   },
   "outputs": [
    {
     "name": "stdout",
     "output_type": "stream",
     "text": [
      "Model: \"sequential_1\"\n",
      "_________________________________________________________________\n",
      "Layer (type)                 Output Shape              Param #   \n",
      "=================================================================\n",
      "embedding_1 (Embedding)      (None, 50, 16)            16000     \n",
      "_________________________________________________________________\n",
      "global_average_pooling1d_1 ( (None, 16)                0         \n",
      "_________________________________________________________________\n",
      "dense_2 (Dense)              (None, 6)                 102       \n",
      "_________________________________________________________________\n",
      "dense_3 (Dense)              (None, 1)                 7         \n",
      "=================================================================\n",
      "Total params: 16,109\n",
      "Trainable params: 16,109\n",
      "Non-trainable params: 0\n",
      "_________________________________________________________________\n"
     ]
    }
   ],
   "source": [
    "# Create the model using an Embedding\n",
    "embedding_dim = 16\n",
    "\n",
    "model = tf.keras.Sequential([\n",
    "    tf.keras.layers.Input(shape=(max_length,)),\n",
    "    tf.keras.layers.Embedding(vocab_size, embedding_dim), # words and dimentions              \n",
    "    # tf.keras.layers.Embedding(vocab_size, embedding_dim, input_length=max_length),\n",
    "    tf.keras.layers.GlobalAveragePooling1D(), \n",
    "    tf.keras.layers.Dense(6, activation='relu'),\n",
    "    tf.keras.layers.Dense(1, activation='sigmoid')\n",
    "])\n",
    "\n",
    "model.compile(loss='binary_crossentropy',optimizer='adam',metrics=['accuracy'])\n",
    "\n",
    "model.summary()"
   ]
  },
  {
   "cell_type": "code",
   "execution_count": 31,
   "metadata": {
    "colab": {
     "base_uri": "https://localhost:8080/"
    },
    "id": "oBKyVYvxRQ_9",
    "outputId": "77428a5e-0aa1-4eb9-bb1b-09a25d8b7c9f"
   },
   "outputs": [
    {
     "name": "stdout",
     "output_type": "stream",
     "text": [
      "Epoch 1/30\n",
      "50/50 [==============================] - 0s 4ms/step - loss: 0.6914 - accuracy: 0.5223 - val_loss: 0.6992 - val_accuracy: 0.4110\n",
      "Epoch 2/30\n",
      "50/50 [==============================] - 0s 2ms/step - loss: 0.6889 - accuracy: 0.5223 - val_loss: 0.7006 - val_accuracy: 0.4110\n",
      "Epoch 3/30\n",
      "50/50 [==============================] - 0s 2ms/step - loss: 0.6841 - accuracy: 0.5468 - val_loss: 0.6933 - val_accuracy: 0.4862\n",
      "Epoch 4/30\n",
      "50/50 [==============================] - 0s 2ms/step - loss: 0.6740 - accuracy: 0.5945 - val_loss: 0.6932 - val_accuracy: 0.4837\n",
      "Epoch 5/30\n",
      "50/50 [==============================] - 0s 2ms/step - loss: 0.6588 - accuracy: 0.6296 - val_loss: 0.6775 - val_accuracy: 0.5313\n",
      "Epoch 6/30\n",
      "50/50 [==============================] - 0s 2ms/step - loss: 0.6377 - accuracy: 0.6773 - val_loss: 0.6667 - val_accuracy: 0.5388\n",
      "Epoch 7/30\n",
      "50/50 [==============================] - 0s 2ms/step - loss: 0.6112 - accuracy: 0.7370 - val_loss: 0.6436 - val_accuracy: 0.6316\n",
      "Epoch 8/30\n",
      "50/50 [==============================] - 0s 2ms/step - loss: 0.5792 - accuracy: 0.7640 - val_loss: 0.6225 - val_accuracy: 0.6617\n",
      "Epoch 9/30\n",
      "50/50 [==============================] - 0s 2ms/step - loss: 0.5416 - accuracy: 0.8054 - val_loss: 0.5826 - val_accuracy: 0.7569\n",
      "Epoch 10/30\n",
      "50/50 [==============================] - 0s 2ms/step - loss: 0.5042 - accuracy: 0.8355 - val_loss: 0.5818 - val_accuracy: 0.6992\n",
      "Epoch 11/30\n",
      "50/50 [==============================] - 0s 2ms/step - loss: 0.4672 - accuracy: 0.8456 - val_loss: 0.5626 - val_accuracy: 0.7243\n",
      "Epoch 12/30\n",
      "50/50 [==============================] - 0s 2ms/step - loss: 0.4317 - accuracy: 0.8544 - val_loss: 0.5642 - val_accuracy: 0.6992\n",
      "Epoch 13/30\n",
      "50/50 [==============================] - 0s 2ms/step - loss: 0.4027 - accuracy: 0.8650 - val_loss: 0.5338 - val_accuracy: 0.7419\n",
      "Epoch 14/30\n",
      "50/50 [==============================] - 0s 2ms/step - loss: 0.3752 - accuracy: 0.8745 - val_loss: 0.5224 - val_accuracy: 0.7343\n",
      "Epoch 15/30\n",
      "50/50 [==============================] - 0s 2ms/step - loss: 0.3507 - accuracy: 0.8814 - val_loss: 0.5176 - val_accuracy: 0.7444\n",
      "Epoch 16/30\n",
      "50/50 [==============================] - 0s 2ms/step - loss: 0.3293 - accuracy: 0.8876 - val_loss: 0.5104 - val_accuracy: 0.7519\n",
      "Epoch 17/30\n",
      "50/50 [==============================] - 0s 2ms/step - loss: 0.3109 - accuracy: 0.8933 - val_loss: 0.4915 - val_accuracy: 0.7619\n",
      "Epoch 18/30\n",
      "50/50 [==============================] - 0s 2ms/step - loss: 0.2957 - accuracy: 0.9021 - val_loss: 0.5032 - val_accuracy: 0.7494\n",
      "Epoch 19/30\n",
      "50/50 [==============================] - 0s 2ms/step - loss: 0.2784 - accuracy: 0.9071 - val_loss: 0.4905 - val_accuracy: 0.7569\n",
      "Epoch 20/30\n",
      "50/50 [==============================] - 0s 2ms/step - loss: 0.2657 - accuracy: 0.9109 - val_loss: 0.5259 - val_accuracy: 0.7544\n",
      "Epoch 21/30\n",
      "50/50 [==============================] - 0s 2ms/step - loss: 0.2531 - accuracy: 0.9171 - val_loss: 0.5015 - val_accuracy: 0.7569\n",
      "Epoch 22/30\n",
      "50/50 [==============================] - 0s 2ms/step - loss: 0.2420 - accuracy: 0.9215 - val_loss: 0.5368 - val_accuracy: 0.7494\n",
      "Epoch 23/30\n",
      "50/50 [==============================] - 0s 2ms/step - loss: 0.2319 - accuracy: 0.9228 - val_loss: 0.5427 - val_accuracy: 0.7519\n",
      "Epoch 24/30\n",
      "50/50 [==============================] - 0s 2ms/step - loss: 0.2231 - accuracy: 0.9228 - val_loss: 0.5183 - val_accuracy: 0.7494\n",
      "Epoch 25/30\n",
      "50/50 [==============================] - 0s 2ms/step - loss: 0.2134 - accuracy: 0.9316 - val_loss: 0.5623 - val_accuracy: 0.7469\n",
      "Epoch 26/30\n",
      "50/50 [==============================] - 0s 2ms/step - loss: 0.2054 - accuracy: 0.9303 - val_loss: 0.5628 - val_accuracy: 0.7494\n",
      "Epoch 27/30\n",
      "50/50 [==============================] - 0s 2ms/step - loss: 0.1983 - accuracy: 0.9372 - val_loss: 0.5901 - val_accuracy: 0.7368\n",
      "Epoch 28/30\n",
      "50/50 [==============================] - 0s 2ms/step - loss: 0.1912 - accuracy: 0.9391 - val_loss: 0.5759 - val_accuracy: 0.7419\n",
      "Epoch 29/30\n",
      "50/50 [==============================] - 0s 2ms/step - loss: 0.1846 - accuracy: 0.9429 - val_loss: 0.5596 - val_accuracy: 0.7544\n",
      "Epoch 30/30\n",
      "50/50 [==============================] - 0s 2ms/step - loss: 0.1777 - accuracy: 0.9485 - val_loss: 0.5980 - val_accuracy: 0.7444\n"
     ]
    }
   ],
   "source": [
    "num_epochs = 30\n",
    "\n",
    "history = model.fit(training_sequences, \n",
    "                    training_labels_final, \n",
    "                    epochs=num_epochs, \n",
    "                    validation_data=(testing_sequences, testing_labels_final))"
   ]
  },
  {
   "cell_type": "code",
   "execution_count": 32,
   "metadata": {
    "colab": {
     "base_uri": "https://localhost:8080/",
     "height": 541
    },
    "id": "jzBM1PpJAYfD",
    "outputId": "8c3845cc-db39-4b07-f569-28ecebdef5ce"
   },
   "outputs": [
    {
     "data": {
      "image/png": "[encoded data removed]",
      "text/plain": [
       "<Figure size 432x288 with 1 Axes>"
      ]
     },
     "metadata": {
      "needs_background": "light",
      "tags": []
     },
     "output_type": "display_data"
    },
    {
     "data": {
      "image/png": "[encoded data removed]",
      "text/plain": [
       "<Figure size 432x288 with 1 Axes>"
      ]
     },
     "metadata": {
      "needs_background": "light",
      "tags": []
     },
     "output_type": "display_data"
    }
   ],
   "source": [
    "def plot_graphs(history, string):\n",
    "  plt.plot(history.history[string])\n",
    "  plt.plot(history.history['val_'+string])\n",
    "  plt.xlabel(\"Epochs\")\n",
    "  plt.ylabel(string)\n",
    "  plt.legend([string, 'val_'+string])\n",
    "  plt.show()\n",
    "  \n",
    "plot_graphs(history, \"accuracy\")\n",
    "plot_graphs(history, \"loss\")"
   ]
  },
  {
   "cell_type": "code",
   "execution_count": 33,
   "metadata": {
    "id": "aPNOYiiaha2y"
   },
   "outputs": [],
   "source": [
    "# Define a function to take a series of reviews\n",
    "# and predict whether each one is a positive or negative review\n",
    "\n",
    "# max_length = 100 # previously defined\n",
    "\n",
    "def predict_review(model, new_sentences, maxlen=max_length, show_padded_sequence=True ):\n",
    "  # Keep the original sentences so that we can keep using them later\n",
    "  # Create an array to hold the encoded sequences\n",
    "  new_sequences = []\n",
    "\n",
    "  # Convert the new reviews to sequences\n",
    "  for i, frvw in enumerate(new_sentences):\n",
    "    new_sequences.append(tokenizer.encode(frvw))\n",
    "\n",
    "  trunc_type='post' \n",
    "  padding_type='post'\n",
    "\n",
    "  # Pad all sequences for the new reviews\n",
    "  new_reviews_padded = pad_sequences(new_sequences, maxlen=max_length, \n",
    "                                 padding=padding_type, truncating=trunc_type)             \n",
    "\n",
    "  classes = model.predict(new_reviews_padded)\n",
    "\n",
    "  # The closer the class is to 1, the more positive the review is\n",
    "  for x in range(len(new_sentences)):\n",
    "    \n",
    "    # We can see the padded sequence if desired\n",
    "    # Print the sequence\n",
    "    if (show_padded_sequence):\n",
    "      print(new_reviews_padded[x])\n",
    "    # Print the review as text\n",
    "    print(new_sentences[x])\n",
    "    # Print its predicted class\n",
    "    print(classes[x])\n",
    "    print(\"\\n\")"
   ]
  },
  {
   "cell_type": "code",
   "execution_count": 34,
   "metadata": {
    "colab": {
     "base_uri": "https://localhost:8080/"
    },
    "id": "Qg-maex27KPW",
    "outputId": "4021a90f-8144-47b1-fd4e-cfa9a0336576"
   },
   "outputs": [
    {
     "name": "stdout",
     "output_type": "stream",
     "text": [
      "[  4 281  16  25   0   0   0   0   0   0   0   0   0   0   0   0   0   0\n",
      "   0   0   0   0   0   0   0   0   0   0   0   0   0   0   0   0   0   0\n",
      "   0   0   0   0   0   0   0   0   0   0   0   0   0   0]\n",
      "I love this phone\n",
      "[0.92783487]\n",
      "\n",
      "\n",
      "[812 227 864 100 775   9 525 843   0   0   0   0   0   0   0   0   0   0\n",
      "   0   0   0   0   0   0   0   0   0   0   0   0   0   0   0   0   0   0\n",
      "   0   0   0   0   0   0   0   0   0   0   0   0   0   0]\n",
      "Everything was cold\n",
      "[0.15338445]\n",
      "\n",
      "\n",
      "[812 227 864 100 775   9 109   8 333 731  24  61   4 171  59  77   0   0\n",
      "   0   0   0   0   0   0   0   0   0   0   0   0   0   0   0   0   0   0\n",
      "   0   0   0   0   0   0   0   0   0   0   0   0   0   0]\n",
      "Everything was hot exactly as I wanted\n",
      "[0.3569502]\n",
      "\n",
      "\n",
      "[812 227 864 100 775   9 157 359 853   0   0   0   0   0   0   0   0   0\n",
      "   0   0   0   0   0   0   0   0   0   0   0   0   0   0   0   0   0   0\n",
      "   0   0   0   0   0   0   0   0   0   0   0   0   0   0]\n",
      "Everything was green\n",
      "[0.12009495]\n",
      "\n",
      "\n",
      "[  1 109 228 540 237 635 241 423 340  89 298   0   0   0   0   0   0   0\n",
      "   0   0   0   0   0   0   0   0   0   0   0   0   0   0   0   0   0   0\n",
      "   0   0   0   0   0   0   0   0   0   0   0   0   0   0]\n",
      "the host seated us immediately\n",
      "[0.574946]\n",
      "\n",
      "\n",
      "[154 242  47 635 341  12 569 547 147 319 775 125  85   0   0   0   0   0\n",
      "   0   0   0   0   0   0   0   0   0   0   0   0   0   0   0   0   0   0\n",
      "   0   0   0   0   0   0   0   0   0   0   0   0   0   0]\n",
      "they gave us free chocolate cake\n",
      "[0.7880753]\n",
      "\n",
      "\n",
      "[158 190 853 782   8 607 775 210 232 146 775 470  67 305 101  15   1 328\n",
      " 296  26  19   1 661 641 195   0   0   0   0   0   0   0   0   0   0   0\n",
      "   0   0   0   0   0   0   0   0   0   0   0   0   0   0]\n",
      "we couldn't hear each other talk because of the shouting in the kitchen\n",
      "[0.03803009]\n",
      "\n",
      "\n"
     ]
    }
   ],
   "source": [
    "# Use the model to predict some reviews   \n",
    "fake_reviews = [\"I love this phone\", \n",
    "                \"Everything was cold\",\n",
    "                \"Everything was hot exactly as I wanted\", \n",
    "                \"Everything was green\", \n",
    "                \"the host seated us immediately\",\n",
    "                \"they gave us free chocolate cake\", \n",
    "                \"we couldn't hear each other talk because of the shouting in the kitchen\"\n",
    "              ]\n",
    "\n",
    "predict_review(model, fake_reviews)\n"
   ]
  },
  {
   "cell_type": "code",
   "execution_count": 35,
   "metadata": {
    "id": "PevUcINXK3gn"
   },
   "outputs": [],
   "source": [
    "# A function that will take the model, compile it, train it, graph the accuracy and loss, and then predict some results\n",
    "def fit_model_now (model, sentences) :\n",
    "  model.compile(loss='binary_crossentropy',optimizer='adam',metrics=['accuracy'])\n",
    "  model.summary()\n",
    "  history = model.fit(training_sequences, training_labels_final, epochs=num_epochs, \n",
    "                      validation_data=(testing_sequences, testing_labels_final))\n",
    "  return history\n",
    "\n",
    "def plot_results (history):\n",
    "  plot_graphs(history, \"accuracy\")\n",
    "  plot_graphs(history, \"loss\")\n",
    "\n",
    "def fit_model_and_show_results (model, sentences):\n",
    "  history = fit_model_now(model, sentences)\n",
    "  plot_results(history)\n",
    "  predict_review(model, sentences)"
   ]
  },
  {
   "cell_type": "markdown",
   "metadata": {
    "id": "KvqWx_b60Hl7"
   },
   "source": [
    "*Add a bidirectional LSTM*\n",
    "Create a new model that uses a bidirectional LSTM.\n",
    "\n",
    "Then use the function we have already defined to compile the model, train it, graph the accuracy and loss, then predict some results.\n",
    "\n",
    "The code for an LSTM layer itself is just the LSTM layer from tf.keras.layers, with the number of LSTM cells to use. However, this is typically wrapped within a Bidirectional layer to make use of passing information both forward and backward in the network, as we noted on the previous page.\n",
    "\n",
    "*A bidirectional LSTM layer with 64 nodes*\n",
    "tf.keras.layers.Bidirectional(tf.keras.layers.LSTM(64))\n",
    "\n",
    "One thing to note when using a Bidirectional layer is when you look at the model summary, if you put in 64 LSTM nodes, you will actually see a layer shape with 128 nodes (64x2).\n",
    "No Need to Flatten\n",
    "\n",
    "Unlike our more vanilla neural networks in the last lesson, you no longer need to use Flatten or GlobalAveragePooling1D after the LSTM layer - the LSTM can take the output of an Embedding layer and directly hook up to a fully-connected Dense layer with its own output.\n",
    "Doubling Up\n",
    "\n",
    "You can also feed an LSTM layer into another LSTM layer. To do so, on top of just stacking them in order when you create the model, you also need to set return_sequences to True for the earlier LSTM layer - otherwise, as noted above, the output will be ready for fully-connected layers and not be in the sequence format the LSTM layer expects.\n",
    "\n",
    "Two bidirectional LSTM layers with 64 nodes each\n",
    "tf.keras.layers.Bidirectional(tf.keras.layers.LSTM(64), return_sequences=True)\n",
    "tf.keras.layers.Bidirectional(tf.keras.layers.LSTM(64))\n",
    "\n"
   ]
  },
  {
   "cell_type": "code",
   "execution_count": 36,
   "metadata": {
    "colab": {
     "base_uri": "https://localhost:8080/",
     "height": 1000
    },
    "id": "scTUsFPAG4zP",
    "outputId": "c29be2a9-e19a-4bcd-9eea-f835f6c3d11b"
   },
   "outputs": [
    {
     "name": "stdout",
     "output_type": "stream",
     "text": [
      "Model: \"sequential_2\"\n",
      "_________________________________________________________________\n",
      "Layer (type)                 Output Shape              Param #   \n",
      "=================================================================\n",
      "embedding_2 (Embedding)      (None, 50, 16)            16000     \n",
      "_________________________________________________________________\n",
      "bidirectional (Bidirectional (None, 32)                4224      \n",
      "_________________________________________________________________\n",
      "dense_4 (Dense)              (None, 6)                 198       \n",
      "_________________________________________________________________\n",
      "dense_5 (Dense)              (None, 1)                 7         \n",
      "=================================================================\n",
      "Total params: 20,429\n",
      "Trainable params: 20,429\n",
      "Non-trainable params: 0\n",
      "_________________________________________________________________\n",
      "Epoch 1/30\n",
      "50/50 [==============================] - 2s 41ms/step - loss: 0.6906 - accuracy: 0.5223 - val_loss: 0.7018 - val_accuracy: 0.4110\n",
      "Epoch 2/30\n",
      "50/50 [==============================] - 1s 25ms/step - loss: 0.6632 - accuracy: 0.5731 - val_loss: 0.6493 - val_accuracy: 0.6241\n",
      "Epoch 3/30\n",
      "50/50 [==============================] - 1s 27ms/step - loss: 0.4855 - accuracy: 0.7922 - val_loss: 0.4792 - val_accuracy: 0.7895\n",
      "Epoch 4/30\n",
      "50/50 [==============================] - 1s 24ms/step - loss: 0.3399 - accuracy: 0.8600 - val_loss: 0.4769 - val_accuracy: 0.7694\n",
      "Epoch 5/30\n",
      "50/50 [==============================] - 1s 26ms/step - loss: 0.2514 - accuracy: 0.9058 - val_loss: 0.5401 - val_accuracy: 0.7669\n",
      "Epoch 6/30\n",
      "50/50 [==============================] - 1s 26ms/step - loss: 0.1977 - accuracy: 0.9341 - val_loss: 0.5431 - val_accuracy: 0.7594\n",
      "Epoch 7/30\n",
      "50/50 [==============================] - 1s 25ms/step - loss: 0.1634 - accuracy: 0.9504 - val_loss: 0.7414 - val_accuracy: 0.7368\n",
      "Epoch 8/30\n",
      "50/50 [==============================] - 1s 24ms/step - loss: 0.1311 - accuracy: 0.9617 - val_loss: 0.8555 - val_accuracy: 0.7469\n",
      "Epoch 9/30\n",
      "50/50 [==============================] - 1s 26ms/step - loss: 0.1207 - accuracy: 0.9667 - val_loss: 0.8191 - val_accuracy: 0.7419\n",
      "Epoch 10/30\n",
      "50/50 [==============================] - 1s 24ms/step - loss: 0.0980 - accuracy: 0.9780 - val_loss: 0.9829 - val_accuracy: 0.7569\n",
      "Epoch 11/30\n",
      "50/50 [==============================] - 1s 28ms/step - loss: 0.0859 - accuracy: 0.9793 - val_loss: 1.2345 - val_accuracy: 0.7594\n",
      "Epoch 12/30\n",
      "50/50 [==============================] - 1s 27ms/step - loss: 0.0989 - accuracy: 0.9711 - val_loss: 0.8327 - val_accuracy: 0.7619\n",
      "Epoch 13/30\n",
      "50/50 [==============================] - 1s 25ms/step - loss: 0.0941 - accuracy: 0.9768 - val_loss: 1.1342 - val_accuracy: 0.7419\n",
      "Epoch 14/30\n",
      "50/50 [==============================] - 1s 25ms/step - loss: 0.0666 - accuracy: 0.9874 - val_loss: 1.2346 - val_accuracy: 0.7444\n",
      "Epoch 15/30\n",
      "50/50 [==============================] - 1s 25ms/step - loss: 0.0872 - accuracy: 0.9799 - val_loss: 0.9281 - val_accuracy: 0.7444\n",
      "Epoch 16/30\n",
      "50/50 [==============================] - 1s 25ms/step - loss: 0.0732 - accuracy: 0.9843 - val_loss: 1.2766 - val_accuracy: 0.7419\n",
      "Epoch 17/30\n",
      "50/50 [==============================] - 1s 25ms/step - loss: 0.0529 - accuracy: 0.9912 - val_loss: 1.2626 - val_accuracy: 0.7469\n",
      "Epoch 18/30\n",
      "50/50 [==============================] - 1s 25ms/step - loss: 0.0518 - accuracy: 0.9912 - val_loss: 1.3275 - val_accuracy: 0.7419\n",
      "Epoch 19/30\n",
      "50/50 [==============================] - 1s 24ms/step - loss: 0.0446 - accuracy: 0.9925 - val_loss: 1.4002 - val_accuracy: 0.7444\n",
      "Epoch 20/30\n",
      "50/50 [==============================] - 1s 25ms/step - loss: 0.0413 - accuracy: 0.9937 - val_loss: 1.2914 - val_accuracy: 0.7393\n",
      "Epoch 21/30\n",
      "50/50 [==============================] - 1s 26ms/step - loss: 0.0377 - accuracy: 0.9944 - val_loss: 1.2984 - val_accuracy: 0.7469\n",
      "Epoch 22/30\n",
      "50/50 [==============================] - 1s 25ms/step - loss: 0.0359 - accuracy: 0.9944 - val_loss: 1.3718 - val_accuracy: 0.7469\n",
      "Epoch 23/30\n",
      "50/50 [==============================] - 1s 25ms/step - loss: 0.0350 - accuracy: 0.9944 - val_loss: 1.4550 - val_accuracy: 0.7469\n",
      "Epoch 24/30\n",
      "50/50 [==============================] - 1s 25ms/step - loss: 0.0346 - accuracy: 0.9944 - val_loss: 1.4277 - val_accuracy: 0.7444\n",
      "Epoch 25/30\n",
      "50/50 [==============================] - 1s 25ms/step - loss: 0.0320 - accuracy: 0.9950 - val_loss: 1.4569 - val_accuracy: 0.7469\n",
      "Epoch 26/30\n",
      "50/50 [==============================] - 1s 25ms/step - loss: 0.0315 - accuracy: 0.9950 - val_loss: 1.4757 - val_accuracy: 0.7419\n",
      "Epoch 27/30\n",
      "50/50 [==============================] - 1s 25ms/step - loss: 0.0311 - accuracy: 0.9950 - val_loss: 1.5402 - val_accuracy: 0.7444\n",
      "Epoch 28/30\n",
      "50/50 [==============================] - 1s 25ms/step - loss: 0.0306 - accuracy: 0.9950 - val_loss: 1.5306 - val_accuracy: 0.7419\n",
      "Epoch 29/30\n",
      "50/50 [==============================] - 1s 25ms/step - loss: 0.0303 - accuracy: 0.9950 - val_loss: 1.5480 - val_accuracy: 0.7393\n",
      "Epoch 30/30\n",
      "50/50 [==============================] - 1s 25ms/step - loss: 0.0298 - accuracy: 0.9950 - val_loss: 1.6050 - val_accuracy: 0.7393\n"
     ]
    },
    {
     "data": {
      "image/png": "[encoded data removed]",
      "text/plain": [
       "<Figure size 432x288 with 1 Axes>"
      ]
     },
     "metadata": {
      "needs_background": "light",
      "tags": []
     },
     "output_type": "display_data"
    },
    {
     "data": {
      "image/png": "[encoded data removed]",
      "text/plain": [
       "<Figure size 432x288 with 1 Axes>"
      ]
     },
     "metadata": {
      "needs_background": "light",
      "tags": []
     },
     "output_type": "display_data"
    },
    {
     "name": "stdout",
     "output_type": "stream",
     "text": [
      "[  4 281  16  25   0   0   0   0   0   0   0   0   0   0   0   0   0   0\n",
      "   0   0   0   0   0   0   0   0   0   0   0   0   0   0   0   0   0   0\n",
      "   0   0   0   0   0   0   0   0   0   0   0   0   0   0]\n",
      "I love this phone\n",
      "[0.9976156]\n",
      "\n",
      "\n",
      "[812 227 864 100 775   9 525 843   0   0   0   0   0   0   0   0   0   0\n",
      "   0   0   0   0   0   0   0   0   0   0   0   0   0   0   0   0   0   0\n",
      "   0   0   0   0   0   0   0   0   0   0   0   0   0   0]\n",
      "Everything was cold\n",
      "[0.01536664]\n",
      "\n",
      "\n",
      "[812 227 864 100 775   9 109   8 333 731  24  61   4 171  59  77   0   0\n",
      "   0   0   0   0   0   0   0   0   0   0   0   0   0   0   0   0   0   0\n",
      "   0   0   0   0   0   0   0   0   0   0   0   0   0   0]\n",
      "Everything was hot exactly as I wanted\n",
      "[0.81815934]\n",
      "\n",
      "\n",
      "[812 227 864 100 775   9 157 359 853   0   0   0   0   0   0   0   0   0\n",
      "   0   0   0   0   0   0   0   0   0   0   0   0   0   0   0   0   0   0\n",
      "   0   0   0   0   0   0   0   0   0   0   0   0   0   0]\n",
      "Everything was green\n",
      "[0.01748797]\n",
      "\n",
      "\n",
      "[  1 109 228 540 237 635 241 423 340  89 298   0   0   0   0   0   0   0\n",
      "   0   0   0   0   0   0   0   0   0   0   0   0   0   0   0   0   0   0\n",
      "   0   0   0   0   0   0   0   0   0   0   0   0   0   0]\n",
      "the host seated us immediately\n",
      "[0.9990931]\n",
      "\n",
      "\n",
      "[154 242  47 635 341  12 569 547 147 319 775 125  85   0   0   0   0   0\n",
      "   0   0   0   0   0   0   0   0   0   0   0   0   0   0   0   0   0   0\n",
      "   0   0   0   0   0   0   0   0   0   0   0   0   0   0]\n",
      "they gave us free chocolate cake\n",
      "[0.99960995]\n",
      "\n",
      "\n",
      "[158 190 853 782   8 607 775 210 232 146 775 470  67 305 101  15   1 328\n",
      " 296  26  19   1 661 641 195   0   0   0   0   0   0   0   0   0   0   0\n",
      "   0   0   0   0   0   0   0   0   0   0   0   0   0   0]\n",
      "we couldn't hear each other talk because of the shouting in the kitchen\n",
      "[0.00834629]\n",
      "\n",
      "\n"
     ]
    }
   ],
   "source": [
    "# Define the model\n",
    "model_bidi_lstm = tf.keras.Sequential([\n",
    "    tf.keras.layers.Embedding(vocab_size, embedding_dim, input_length=max_length),\n",
    "    tf.keras.layers.Bidirectional(tf.keras.layers.LSTM(embedding_dim)), \n",
    "    tf.keras.layers.Dense(6, activation='relu'), \n",
    "    tf.keras.layers.Dense(1, activation='sigmoid')\n",
    "])\n",
    "\n",
    "# Compile and train the model and then show the predictions for our extra sentences\n",
    "fit_model_and_show_results(model_bidi_lstm, fake_reviews)\n"
   ]
  },
  {
   "cell_type": "markdown",
   "metadata": {
    "id": "QsxKPbCnPJTj"
   },
   "source": [
    "Use multiple bidirectional layers\n",
    "- Now let's see if we get any improvements from adding another Bidirectional LSTM layer to the model.\n",
    "- Notice that the first Bidirectionl LSTM layer returns a sequence."
   ]
  },
  {
   "cell_type": "code",
   "execution_count": 37,
   "metadata": {
    "colab": {
     "base_uri": "https://localhost:8080/",
     "height": 1000
    },
    "id": "3N6Zul47PMED",
    "outputId": "197131ae-8e59-4391-b475-794999633e29"
   },
   "outputs": [
    {
     "name": "stdout",
     "output_type": "stream",
     "text": [
      "Model: \"sequential_3\"\n",
      "_________________________________________________________________\n",
      "Layer (type)                 Output Shape              Param #   \n",
      "=================================================================\n",
      "embedding_3 (Embedding)      (None, 50, 16)            16000     \n",
      "_________________________________________________________________\n",
      "bidirectional_1 (Bidirection (None, 50, 32)            4224      \n",
      "_________________________________________________________________\n",
      "bidirectional_2 (Bidirection (None, 32)                6272      \n",
      "_________________________________________________________________\n",
      "dense_6 (Dense)              (None, 6)                 198       \n",
      "_________________________________________________________________\n",
      "dense_7 (Dense)              (None, 1)                 7         \n",
      "=================================================================\n",
      "Total params: 26,701\n",
      "Trainable params: 26,701\n",
      "Non-trainable params: 0\n",
      "_________________________________________________________________\n",
      "Epoch 1/30\n",
      "50/50 [==============================] - 4s 73ms/step - loss: 0.6930 - accuracy: 0.5173 - val_loss: 0.6945 - val_accuracy: 0.4110\n",
      "Epoch 2/30\n",
      "50/50 [==============================] - 2s 47ms/step - loss: 0.6927 - accuracy: 0.5223 - val_loss: 0.6958 - val_accuracy: 0.4110\n",
      "Epoch 3/30\n",
      "50/50 [==============================] - 2s 46ms/step - loss: 0.6881 - accuracy: 0.5411 - val_loss: 0.6785 - val_accuracy: 0.6316\n",
      "Epoch 4/30\n",
      "50/50 [==============================] - 2s 47ms/step - loss: 0.5751 - accuracy: 0.7790 - val_loss: 0.5755 - val_accuracy: 0.7368\n",
      "Epoch 5/30\n",
      "50/50 [==============================] - 2s 47ms/step - loss: 0.4336 - accuracy: 0.8412 - val_loss: 0.5417 - val_accuracy: 0.7694\n",
      "Epoch 6/30\n",
      "50/50 [==============================] - 2s 48ms/step - loss: 0.3740 - accuracy: 0.8644 - val_loss: 0.6499 - val_accuracy: 0.7268\n",
      "Epoch 7/30\n",
      "50/50 [==============================] - 2s 47ms/step - loss: 0.3443 - accuracy: 0.8788 - val_loss: 0.5775 - val_accuracy: 0.7719\n",
      "Epoch 8/30\n",
      "50/50 [==============================] - 2s 46ms/step - loss: 0.3150 - accuracy: 0.8920 - val_loss: 0.6066 - val_accuracy: 0.7343\n",
      "Epoch 9/30\n",
      "50/50 [==============================] - 2s 48ms/step - loss: 0.2805 - accuracy: 0.9077 - val_loss: 0.5274 - val_accuracy: 0.7644\n",
      "Epoch 10/30\n",
      "50/50 [==============================] - 2s 47ms/step - loss: 0.2624 - accuracy: 0.9159 - val_loss: 0.6830 - val_accuracy: 0.7469\n",
      "Epoch 11/30\n",
      "50/50 [==============================] - 2s 49ms/step - loss: 0.3201 - accuracy: 0.8914 - val_loss: 0.6048 - val_accuracy: 0.7494\n",
      "Epoch 12/30\n",
      "50/50 [==============================] - 2s 47ms/step - loss: 0.2905 - accuracy: 0.9102 - val_loss: 0.6019 - val_accuracy: 0.7644\n",
      "Epoch 13/30\n",
      "50/50 [==============================] - 2s 49ms/step - loss: 0.2296 - accuracy: 0.9322 - val_loss: 0.6250 - val_accuracy: 0.7469\n",
      "Epoch 14/30\n",
      "50/50 [==============================] - 2s 47ms/step - loss: 0.2223 - accuracy: 0.9335 - val_loss: 0.6842 - val_accuracy: 0.7619\n",
      "Epoch 15/30\n",
      "50/50 [==============================] - 2s 47ms/step - loss: 0.2002 - accuracy: 0.9448 - val_loss: 0.7548 - val_accuracy: 0.7519\n",
      "Epoch 16/30\n",
      "50/50 [==============================] - 2s 47ms/step - loss: 0.1922 - accuracy: 0.9441 - val_loss: 0.7076 - val_accuracy: 0.7594\n",
      "Epoch 17/30\n",
      "50/50 [==============================] - 2s 48ms/step - loss: 0.1807 - accuracy: 0.9485 - val_loss: 0.6845 - val_accuracy: 0.7769\n",
      "Epoch 18/30\n",
      "50/50 [==============================] - 2s 47ms/step - loss: 0.1653 - accuracy: 0.9586 - val_loss: 0.7873 - val_accuracy: 0.7544\n",
      "Epoch 19/30\n",
      "50/50 [==============================] - 2s 47ms/step - loss: 0.1776 - accuracy: 0.9510 - val_loss: 0.7565 - val_accuracy: 0.7444\n",
      "Epoch 20/30\n",
      "50/50 [==============================] - 2s 48ms/step - loss: 0.2289 - accuracy: 0.9253 - val_loss: 0.7379 - val_accuracy: 0.7419\n",
      "Epoch 21/30\n",
      "50/50 [==============================] - 2s 48ms/step - loss: 0.2260 - accuracy: 0.9228 - val_loss: 0.7356 - val_accuracy: 0.6942\n",
      "Epoch 22/30\n",
      "50/50 [==============================] - 2s 48ms/step - loss: 0.2315 - accuracy: 0.9240 - val_loss: 0.6992 - val_accuracy: 0.7444\n",
      "Epoch 23/30\n",
      "50/50 [==============================] - 2s 49ms/step - loss: 0.1996 - accuracy: 0.9460 - val_loss: 0.7054 - val_accuracy: 0.7318\n",
      "Epoch 24/30\n",
      "50/50 [==============================] - 3s 50ms/step - loss: 0.1716 - accuracy: 0.9542 - val_loss: 0.8251 - val_accuracy: 0.7143\n",
      "Epoch 25/30\n",
      "50/50 [==============================] - 2s 47ms/step - loss: 0.1428 - accuracy: 0.9648 - val_loss: 0.8245 - val_accuracy: 0.7318\n",
      "Epoch 26/30\n",
      "50/50 [==============================] - 2s 48ms/step - loss: 0.1302 - accuracy: 0.9724 - val_loss: 0.8882 - val_accuracy: 0.7168\n",
      "Epoch 27/30\n",
      "50/50 [==============================] - 2s 47ms/step - loss: 0.1201 - accuracy: 0.9749 - val_loss: 0.8758 - val_accuracy: 0.7293\n",
      "Epoch 28/30\n",
      "50/50 [==============================] - 3s 51ms/step - loss: 0.1179 - accuracy: 0.9749 - val_loss: 0.9090 - val_accuracy: 0.7268\n",
      "Epoch 29/30\n",
      "50/50 [==============================] - 3s 52ms/step - loss: 0.1136 - accuracy: 0.9761 - val_loss: 0.8854 - val_accuracy: 0.7444\n",
      "Epoch 30/30\n",
      "50/50 [==============================] - 2s 48ms/step - loss: 0.1266 - accuracy: 0.9711 - val_loss: 0.8534 - val_accuracy: 0.7469\n"
     ]
    },
    {
     "data": {
      "image/png": "[encoded data removed]",
      "text/plain": [
       "<Figure size 432x288 with 1 Axes>"
      ]
     },
     "metadata": {
      "needs_background": "light",
      "tags": []
     },
     "output_type": "display_data"
    },
    {
     "data": {
      "image/png": "[encoded data removed]",
      "text/plain": [
       "<Figure size 432x288 with 1 Axes>"
      ]
     },
     "metadata": {
      "needs_background": "light",
      "tags": []
     },
     "output_type": "display_data"
    },
    {
     "name": "stdout",
     "output_type": "stream",
     "text": [
      "[  4 281  16  25   0   0   0   0   0   0   0   0   0   0   0   0   0   0\n",
      "   0   0   0   0   0   0   0   0   0   0   0   0   0   0   0   0   0   0\n",
      "   0   0   0   0   0   0   0   0   0   0   0   0   0   0]\n",
      "I love this phone\n",
      "[0.9780105]\n",
      "\n",
      "\n",
      "[812 227 864 100 775   9 525 843   0   0   0   0   0   0   0   0   0   0\n",
      "   0   0   0   0   0   0   0   0   0   0   0   0   0   0   0   0   0   0\n",
      "   0   0   0   0   0   0   0   0   0   0   0   0   0   0]\n",
      "Everything was cold\n",
      "[0.03275761]\n",
      "\n",
      "\n",
      "[812 227 864 100 775   9 109   8 333 731  24  61   4 171  59  77   0   0\n",
      "   0   0   0   0   0   0   0   0   0   0   0   0   0   0   0   0   0   0\n",
      "   0   0   0   0   0   0   0   0   0   0   0   0   0   0]\n",
      "Everything was hot exactly as I wanted\n",
      "[0.0596998]\n",
      "\n",
      "\n",
      "[812 227 864 100 775   9 157 359 853   0   0   0   0   0   0   0   0   0\n",
      "   0   0   0   0   0   0   0   0   0   0   0   0   0   0   0   0   0   0\n",
      "   0   0   0   0   0   0   0   0   0   0   0   0   0   0]\n",
      "Everything was green\n",
      "[0.07899347]\n",
      "\n",
      "\n",
      "[  1 109 228 540 237 635 241 423 340  89 298   0   0   0   0   0   0   0\n",
      "   0   0   0   0   0   0   0   0   0   0   0   0   0   0   0   0   0   0\n",
      "   0   0   0   0   0   0   0   0   0   0   0   0   0   0]\n",
      "the host seated us immediately\n",
      "[0.03262928]\n",
      "\n",
      "\n",
      "[154 242  47 635 341  12 569 547 147 319 775 125  85   0   0   0   0   0\n",
      "   0   0   0   0   0   0   0   0   0   0   0   0   0   0   0   0   0   0\n",
      "   0   0   0   0   0   0   0   0   0   0   0   0   0   0]\n",
      "they gave us free chocolate cake\n",
      "[0.9604989]\n",
      "\n",
      "\n",
      "[158 190 853 782   8 607 775 210 232 146 775 470  67 305 101  15   1 328\n",
      " 296  26  19   1 661 641 195   0   0   0   0   0   0   0   0   0   0   0\n",
      "   0   0   0   0   0   0   0   0   0   0   0   0   0   0]\n",
      "we couldn't hear each other talk because of the shouting in the kitchen\n",
      "[0.03207463]\n",
      "\n",
      "\n"
     ]
    }
   ],
   "source": [
    "model_multiple_bidi_lstm = tf.keras.Sequential([\n",
    "    tf.keras.layers.Embedding(vocab_size, embedding_dim, input_length=max_length),\n",
    "    tf.keras.layers.Bidirectional(tf.keras.layers.LSTM(embedding_dim, \n",
    "                                                       return_sequences=True)), \n",
    "    tf.keras.layers.Bidirectional(tf.keras.layers.LSTM(embedding_dim)),\n",
    "    tf.keras.layers.Dense(6, activation='relu'),\n",
    "    tf.keras.layers.Dense(1, activation='sigmoid')\n",
    "])\n",
    "\n",
    "fit_model_and_show_results(model_multiple_bidi_lstm, fake_reviews)"
   ]
  },
  {
   "cell_type": "markdown",
   "metadata": {
    "id": "ABVYYPwba8Hx"
   },
   "source": [
    "Compare predictions for all the models\n",
    "\n",
    "Predictions that each of the three models gives for each review:\n",
    "\n",
    "*   Embeddings and a Global Average Pooling layer\n",
    "*   Embeddings and a Bidirectional LSTM layer\n",
    "*   Embeddings and two Bidirectional LSTM layers\n",
    "\n",
    "The results are not always what you might expect. The input dataset is fairly small, it has less than 2000 reviews. Some of the reviews are fairly short, and some of the short ones are fairly repetitive which reduces their impact on improving the  model, such as these two reviews:\n",
    "\n",
    "*   Bad Quality.\n",
    "*   Low Quality.\n",
    "\n",
    "Feel free to add more reviews of your own, or change the reviews. The results will depend on the combination of words in the reviews, and how well they match to reviews in the training set. \n",
    "\n",
    "How do the different models handle things like \"wasn't good\" which contains a positive word (good) but is a poor review?\n"
   ]
  },
  {
   "cell_type": "code",
   "execution_count": 38,
   "metadata": {
    "id": "6XebrXt0jtOy"
   },
   "outputs": [],
   "source": [
    "my_reviews =[\"lovely\", \"dreadful\", \"stay away\",\n",
    "             \"everything was hot exactly as I wanted\",\n",
    "             \"everything was not exactly as I wanted\",\n",
    "             \"they gave us free chocolate cake\",\n",
    "             \"I've never eaten anything so spicy in my life, my throat burned for hours\",\n",
    "             \"for a phone that is as expensive as this one I expect it to be much easier to use than this thing is\",\n",
    "             \"we left there very full for a low price so I'd say you just can't go wrong at this place\",\n",
    "             \"that place does not have quality meals and it isn't a good place to go for dinner\",\n",
    "             ]"
   ]
  },
  {
   "cell_type": "code",
   "execution_count": 39,
   "metadata": {
    "colab": {
     "base_uri": "https://localhost:8080/"
    },
    "id": "tRWGjkJLkY2y",
    "outputId": "38e28275-f183-4541-c26b-f1c8757b6e88"
   },
   "outputs": [
    {
     "name": "stdout",
     "output_type": "stream",
     "text": [
      "===================================\n",
      " Embeddings only:\n",
      " ===================================\n",
      "lovely\n",
      "[0.9412584]\n",
      "\n",
      "\n",
      "dreadful\n",
      "[0.4031545]\n",
      "\n",
      "\n",
      "stay away\n",
      "[0.7141309]\n",
      "\n",
      "\n",
      "everything was hot exactly as I wanted\n",
      "[0.7941674]\n",
      "\n",
      "\n",
      "everything was not exactly as I wanted\n",
      "[0.5258623]\n",
      "\n",
      "\n",
      "they gave us free chocolate cake\n",
      "[0.7880753]\n",
      "\n",
      "\n",
      "I've never eaten anything so spicy in my life, my throat burned for hours\n",
      "[0.05188262]\n",
      "\n",
      "\n",
      "for a phone that is as expensive as this one I expect it to be much easier to use than this thing is\n",
      "[0.46468776]\n",
      "\n",
      "\n",
      "we left there very full for a low price so I'd say you just can't go wrong at this place\n",
      "[0.8464617]\n",
      "\n",
      "\n",
      "that place does not have quality meals and it isn't a good place to go for dinner\n",
      "[0.85991883]\n",
      "\n",
      "\n"
     ]
    }
   ],
   "source": [
    "print(\"===================================\\n\",\"Embeddings only:\\n\", \"===================================\",)\n",
    "predict_review(model, my_reviews, show_padded_sequence=False)"
   ]
  },
  {
   "cell_type": "code",
   "execution_count": 40,
   "metadata": {
    "colab": {
     "base_uri": "https://localhost:8080/"
    },
    "id": "G2FJR3IVBt30",
    "outputId": "c5c5696d-7c0d-4e72-f7cf-b0385c9a347f"
   },
   "outputs": [
    {
     "name": "stdout",
     "output_type": "stream",
     "text": [
      "===================================\n",
      " With a single bidirectional LSTM:\n",
      " ===================================\n",
      "lovely\n",
      "[0.9917456]\n",
      "\n",
      "\n",
      "dreadful\n",
      "[0.01211005]\n",
      "\n",
      "\n",
      "stay away\n",
      "[0.15529776]\n",
      "\n",
      "\n",
      "everything was hot exactly as I wanted\n",
      "[0.99636984]\n",
      "\n",
      "\n",
      "everything was not exactly as I wanted\n",
      "[0.02867186]\n",
      "\n",
      "\n",
      "they gave us free chocolate cake\n",
      "[0.99960995]\n",
      "\n",
      "\n",
      "I've never eaten anything so spicy in my life, my throat burned for hours\n",
      "[0.98648316]\n",
      "\n",
      "\n",
      "for a phone that is as expensive as this one I expect it to be much easier to use than this thing is\n",
      "[0.00992915]\n",
      "\n",
      "\n",
      "we left there very full for a low price so I'd say you just can't go wrong at this place\n",
      "[0.9994263]\n",
      "\n",
      "\n",
      "that place does not have quality meals and it isn't a good place to go for dinner\n",
      "[0.998937]\n",
      "\n",
      "\n"
     ]
    }
   ],
   "source": [
    "print(\"===================================\\n\", \"With a single bidirectional LSTM:\\n\", \"===================================\")\n",
    "predict_review(model_bidi_lstm, my_reviews, show_padded_sequence=False)"
   ]
  },
  {
   "cell_type": "code",
   "execution_count": null,
   "metadata": {
    "colab": {
     "base_uri": "https://localhost:8080/"
    },
    "id": "81v1r3Y2BwvC",
    "outputId": "f9a7c62c-b990-4b31-becb-6f39dc6f3c57"
   },
   "outputs": [
    {
     "name": "stdout",
     "output_type": "stream",
     "text": [
      "===================================\n",
      " With two bidirectional LSTMs:\n",
      " ===================================\n",
      "lovely\n",
      "[0.99997485]\n",
      "\n",
      "\n",
      "dreadful\n",
      "[0.03103709]\n",
      "\n",
      "\n",
      "stay away\n",
      "[0.03165305]\n",
      "\n",
      "\n",
      "everything was hot exactly as I wanted\n",
      "[0.999896]\n",
      "\n",
      "\n",
      "everything was not exactly as I wanted\n",
      "[0.03503439]\n",
      "\n",
      "\n",
      "they gave us free chocolate cake\n",
      "[0.9999732]\n",
      "\n",
      "\n",
      "I've never eaten anything so spicy in my life, my throat burned for hours\n",
      "[0.02836043]\n",
      "\n",
      "\n",
      "for a phone that is as expensive as this one I expect it to be much easier to use than this thing is\n",
      "[0.03087917]\n",
      "\n",
      "\n",
      "we left there very full for a low price so I'd say you just can't go wrong at this place\n",
      "[0.03014374]\n",
      "\n",
      "\n",
      "that place does not have quality meals and it isn't a good place to go for dinner\n",
      "[0.02631652]\n",
      "\n",
      "\n"
     ]
    }
   ],
   "source": [
    "print(\"===================================\\n\",\"With two bidirectional LSTMs:\\n\", \"===================================\")\n",
    "predict_review(model_multiple_bidi_lstm, my_reviews, show_padded_sequence=False)"
   ]
  }
 ],
 "metadata": {
  "colab": {
   "name": "l10c01_nlp_lstms_with_reviews_subwords_dataset.ipynb",
   "provenance": [],
   "toc_visible": true
  },
  "kernelspec": {
   "display_name": "Python 3",
   "language": "python",
   "name": "python3"
  },
  "language_info": {
   "codemirror_mode": {
    "name": "ipython",
    "version": 3
   },
   "file_extension": ".py",
   "mimetype": "text/x-python",
   "name": "python",
   "nbconvert_exporter": "python",
   "pygments_lexer": "ipython3",
   "version": "3.8.5"
  }
 },
 "nbformat": 4,
 "nbformat_minor": 4
}
