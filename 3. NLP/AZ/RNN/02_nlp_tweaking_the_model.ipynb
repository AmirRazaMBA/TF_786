{
 "cells": [
  {
   "cell_type": "code",
   "execution_count": 1,
   "metadata": {
    "colab": {
     "base_uri": "https://localhost:8080/"
    },
    "id": "m83g42sJzGO0",
    "outputId": "ea110235-f661-432c-9ab9-e30726778e62"
   },
   "outputs": [
    {
     "name": "stdout",
     "output_type": "stream",
     "text": [
      "--2020-12-01 11:30:18--  https://drive.google.com/uc?id=13ySLC_ue6Umt9RJYSeM2t-V0kCv-4C-P\n",
      "Resolving drive.google.com (drive.google.com)... 142.250.107.100, 142.250.107.113, 142.250.107.139, ...\n",
      "Connecting to drive.google.com (drive.google.com)|142.250.107.100|:443... connected.\n",
      "HTTP request sent, awaiting response... 302 Moved Temporarily\n",
      "Location: https://doc-08-ak-docs.googleusercontent.com/docs/securesc/ha0ro937gcuc7l7deffksulhg5h7mbp1/i7v9eutf4qhbf20916k8aeb60gji59q6/1606822200000/11118900490791463723/*/13ySLC_ue6Umt9RJYSeM2t-V0kCv-4C-P [following]\n",
      "Warning: wildcards not supported in HTTP.\n",
      "--2020-12-01 11:30:18--  https://doc-08-ak-docs.googleusercontent.com/docs/securesc/ha0ro937gcuc7l7deffksulhg5h7mbp1/i7v9eutf4qhbf20916k8aeb60gji59q6/1606822200000/11118900490791463723/*/13ySLC_ue6Umt9RJYSeM2t-V0kCv-4C-P\n",
      "Resolving doc-08-ak-docs.googleusercontent.com (doc-08-ak-docs.googleusercontent.com)... 74.125.28.132, 2607:f8b0:400e:c04::84\n",
      "Connecting to doc-08-ak-docs.googleusercontent.com (doc-08-ak-docs.googleusercontent.com)|74.125.28.132|:443... connected.\n",
      "HTTP request sent, awaiting response... 200 OK\n",
      "Length: 127831 (125K) [text/csv]\n",
      "Saving to: ‘/tmp/sentiment.csv’\n",
      "\n",
      "/tmp/sentiment.csv  100%[===================>] 124.83K  --.-KB/s    in 0.001s  \n",
      "\n",
      "2020-12-01 11:30:18 (111 MB/s) - ‘/tmp/sentiment.csv’ saved [127831/127831]\n",
      "\n"
     ]
    }
   ],
   "source": [
    "# Various tweaks to data processing and the model itself can impact results. \n",
    "# Visualize how the network sees the related sentiment of each word in the dataset.\n",
    "\n",
    "!wget --no-check-certificate \\\n",
    "    https://drive.google.com/uc?id=13ySLC_ue6Umt9RJYSeM2t-V0kCv-4C-P \\\n",
    "    -O /tmp/sentiment.csv\n",
    "    # https://www.kaggle.com/marklvl/sentiment-labelled-sentences-data-set"
   ]
  },
  {
   "cell_type": "code",
   "execution_count": 2,
   "metadata": {
    "id": "drsUfVVXyxJl"
   },
   "outputs": [],
   "source": [
    "import numpy as np\n",
    "import pandas as pd\n",
    "import tensorflow as tf\n",
    "\n",
    "from tensorflow.keras.preprocessing.text import Tokenizer\n",
    "from tensorflow.keras.preprocessing.sequence import pad_sequences"
   ]
  },
  {
   "cell_type": "code",
   "execution_count": 3,
   "metadata": {
    "colab": {
     "base_uri": "https://localhost:8080/"
    },
    "id": "2B1U6Ne6DyZ1",
    "outputId": "78a4b9c8-348a-4aa2-b3bf-17223a7adedf"
   },
   "outputs": [
    {
     "name": "stdout",
     "output_type": "stream",
     "text": [
      "Downloading data from https://drive.google.com/uc?id=13ySLC_ue6Umt9RJYSeM2t-V0kCv-4C-P\n",
      "131072/127831 [==============================] - 0s 0us/step\n",
      "/root/.keras/datasets/sentiment.csv\n"
     ]
    }
   ],
   "source": [
    "path = tf.keras.utils.get_file('sentiment.csv', \n",
    "                               'https://drive.google.com/uc?id=13ySLC_ue6Umt9RJYSeM2t-V0kCv-4C-P')\n",
    "print (path)"
   ]
  },
  {
   "cell_type": "code",
   "execution_count": 4,
   "metadata": {
    "id": "y4e6GG2CzJUq"
   },
   "outputs": [],
   "source": [
    "dataset = pd.read_csv(path)\n",
    "\n",
    "sentences = dataset['text'].tolist()\n",
    "labels = dataset['sentiment'].tolist()\n",
    "\n",
    "# Separate out the sentences and labels into training and test sets\n",
    "training_size = int(len(sentences) * 0.8)\n",
    "\n",
    "training_sentences = sentences[0:training_size]\n",
    "testing_sentences = sentences[training_size:]\n",
    "training_labels = labels[0:training_size]\n",
    "testing_labels = labels[training_size:]\n",
    "\n",
    "# Make labels into numpy arrays for use with the network later\n",
    "training_labels_final = np.array(training_labels)\n",
    "testing_labels_final = np.array(testing_labels)"
   ]
  },
  {
   "cell_type": "code",
   "execution_count": 5,
   "metadata": {
    "id": "hjPUJFhQzuee"
   },
   "outputs": [],
   "source": [
    "# tokenize the dataset (with tweaks!).  \n",
    "# how might changing the vocab_size, embedding_dim or max_length affect ?\n",
    "# how the model performs?\n",
    "\n",
    "vocab_size = 500\n",
    "embedding_dim = 16\n",
    "max_length = 50\n",
    "trunc_type='post'\n",
    "padding_type='post'\n",
    "oov_tok = \"<OOV>\"\n",
    "\n",
    "tokenizer = Tokenizer(num_words = vocab_size, oov_token=oov_tok)\n",
    "\n",
    "tokenizer.fit_on_texts(training_sentences)\n",
    "\n",
    "word_index = tokenizer.word_index\n",
    "\n",
    "training_sequences = tokenizer.texts_to_sequences(training_sentences)\n",
    "training_padded = pad_sequences(training_sequences, maxlen=max_length, padding=padding_type, truncating=trunc_type)\n",
    "\n",
    "testing_sequences = tokenizer.texts_to_sequences(testing_sentences)\n",
    "testing_padded = pad_sequences(testing_sequences, maxlen=max_length, padding=padding_type, truncating=trunc_type)"
   ]
  },
  {
   "cell_type": "code",
   "execution_count": 24,
   "metadata": {
    "colab": {
     "base_uri": "https://localhost:8080/"
    },
    "id": "ectP92fl0dFO",
    "outputId": "d9adb10f-5e5a-4297-b93b-195cdcfe0f76"
   },
   "outputs": [
    {
     "name": "stdout",
     "output_type": "stream",
     "text": [
      "Model: \"sequential_1\"\n",
      "_________________________________________________________________\n",
      "Layer (type)                 Output Shape              Param #   \n",
      "=================================================================\n",
      "embedding_1 (Embedding)      (None, 50, 16)            8000      \n",
      "_________________________________________________________________\n",
      "global_average_pooling1d_1 ( (None, 16)                0         \n",
      "_________________________________________________________________\n",
      "dense_2 (Dense)              (None, 6)                 102       \n",
      "_________________________________________________________________\n",
      "dense_3 (Dense)              (None, 1)                 7         \n",
      "=================================================================\n",
      "Total params: 8,109\n",
      "Trainable params: 8,109\n",
      "Non-trainable params: 0\n",
      "_________________________________________________________________\n"
     ]
    }
   ],
   "source": [
    "# using GlobalAveragePooling1D instead of Flatten()\n",
    "\n",
    "model = tf.keras.Sequential([\n",
    "    # embedding only needs vocab_size and emedding_dim is the number of neurons. \n",
    "    # input_length is the input layer of the X_train vector (N X max_length)\n",
    "    tf.keras.layers.Embedding(vocab_size, embedding_dim, input_length=max_length),\n",
    "    \n",
    "    tf.keras.layers.GlobalAveragePooling1D(),\n",
    "   \n",
    "    tf.keras.layers.Dense(6, activation='relu'),\n",
    "   \n",
    "    tf.keras.layers.Dense(1, activation='sigmoid')\n",
    "])\n",
    "\n",
    "model.compile(loss='binary_crossentropy',optimizer='adam',metrics=['accuracy'])\n",
    "\n",
    "model.summary()"
   ]
  },
  {
   "cell_type": "code",
   "execution_count": 7,
   "metadata": {
    "colab": {
     "base_uri": "https://localhost:8080/"
    },
    "id": "7TQIaGjs073w",
    "outputId": "01be31ac-3edb-4c9f-fcee-6631fefb7ba5"
   },
   "outputs": [
    {
     "name": "stdout",
     "output_type": "stream",
     "text": [
      "Epoch 1/30\n",
      "50/50 [==============================] - 0s 8ms/step - loss: 0.6925 - accuracy: 0.5129 - val_loss: 0.6971 - val_accuracy: 0.4110\n",
      "Epoch 2/30\n",
      "50/50 [==============================] - 0s 4ms/step - loss: 0.6903 - accuracy: 0.5223 - val_loss: 0.6981 - val_accuracy: 0.4110\n",
      "Epoch 3/30\n",
      "50/50 [==============================] - 0s 4ms/step - loss: 0.6874 - accuracy: 0.5267 - val_loss: 0.6958 - val_accuracy: 0.4286\n",
      "Epoch 4/30\n",
      "50/50 [==============================] - 0s 4ms/step - loss: 0.6835 - accuracy: 0.5656 - val_loss: 0.6915 - val_accuracy: 0.4762\n",
      "Epoch 5/30\n",
      "50/50 [==============================] - 0s 4ms/step - loss: 0.6765 - accuracy: 0.5832 - val_loss: 0.6885 - val_accuracy: 0.4812\n",
      "Epoch 6/30\n",
      "50/50 [==============================] - 0s 4ms/step - loss: 0.6667 - accuracy: 0.6579 - val_loss: 0.6866 - val_accuracy: 0.4812\n",
      "Epoch 7/30\n",
      "50/50 [==============================] - 0s 4ms/step - loss: 0.6530 - accuracy: 0.6767 - val_loss: 0.6667 - val_accuracy: 0.5739\n",
      "Epoch 8/30\n",
      "50/50 [==============================] - 0s 4ms/step - loss: 0.6343 - accuracy: 0.7125 - val_loss: 0.6607 - val_accuracy: 0.5614\n",
      "Epoch 9/30\n",
      "50/50 [==============================] - 0s 4ms/step - loss: 0.6106 - accuracy: 0.7577 - val_loss: 0.6466 - val_accuracy: 0.5739\n",
      "Epoch 10/30\n",
      "50/50 [==============================] - 0s 4ms/step - loss: 0.5848 - accuracy: 0.7790 - val_loss: 0.6149 - val_accuracy: 0.6642\n",
      "Epoch 11/30\n",
      "50/50 [==============================] - 0s 4ms/step - loss: 0.5544 - accuracy: 0.8035 - val_loss: 0.5981 - val_accuracy: 0.6867\n",
      "Epoch 12/30\n",
      "50/50 [==============================] - 0s 4ms/step - loss: 0.5247 - accuracy: 0.8098 - val_loss: 0.5650 - val_accuracy: 0.7845\n",
      "Epoch 13/30\n",
      "50/50 [==============================] - 0s 4ms/step - loss: 0.4983 - accuracy: 0.8223 - val_loss: 0.5555 - val_accuracy: 0.7444\n",
      "Epoch 14/30\n",
      "50/50 [==============================] - 0s 4ms/step - loss: 0.4693 - accuracy: 0.8443 - val_loss: 0.5624 - val_accuracy: 0.6942\n",
      "Epoch 15/30\n",
      "50/50 [==============================] - 0s 4ms/step - loss: 0.4438 - accuracy: 0.8481 - val_loss: 0.5364 - val_accuracy: 0.7393\n",
      "Epoch 16/30\n",
      "50/50 [==============================] - 0s 4ms/step - loss: 0.4207 - accuracy: 0.8569 - val_loss: 0.5160 - val_accuracy: 0.7719\n",
      "Epoch 17/30\n",
      "50/50 [==============================] - 0s 4ms/step - loss: 0.4000 - accuracy: 0.8600 - val_loss: 0.5038 - val_accuracy: 0.7794\n",
      "Epoch 18/30\n",
      "50/50 [==============================] - 0s 4ms/step - loss: 0.3833 - accuracy: 0.8594 - val_loss: 0.5109 - val_accuracy: 0.7469\n",
      "Epoch 19/30\n",
      "50/50 [==============================] - 0s 4ms/step - loss: 0.3651 - accuracy: 0.8675 - val_loss: 0.4900 - val_accuracy: 0.7845\n",
      "Epoch 20/30\n",
      "50/50 [==============================] - 0s 4ms/step - loss: 0.3502 - accuracy: 0.8707 - val_loss: 0.5165 - val_accuracy: 0.7193\n",
      "Epoch 21/30\n",
      "50/50 [==============================] - 0s 4ms/step - loss: 0.3388 - accuracy: 0.8663 - val_loss: 0.4926 - val_accuracy: 0.7644\n",
      "Epoch 22/30\n",
      "50/50 [==============================] - 0s 4ms/step - loss: 0.3268 - accuracy: 0.8770 - val_loss: 0.5228 - val_accuracy: 0.7143\n",
      "Epoch 23/30\n",
      "50/50 [==============================] - 0s 4ms/step - loss: 0.3156 - accuracy: 0.8820 - val_loss: 0.4794 - val_accuracy: 0.7744\n",
      "Epoch 24/30\n",
      "50/50 [==============================] - 0s 4ms/step - loss: 0.3042 - accuracy: 0.8876 - val_loss: 0.4893 - val_accuracy: 0.7519\n",
      "Epoch 25/30\n",
      "50/50 [==============================] - 0s 4ms/step - loss: 0.2944 - accuracy: 0.8876 - val_loss: 0.4999 - val_accuracy: 0.7343\n",
      "Epoch 26/30\n",
      "50/50 [==============================] - 0s 4ms/step - loss: 0.2880 - accuracy: 0.8908 - val_loss: 0.4768 - val_accuracy: 0.7769\n",
      "Epoch 27/30\n",
      "50/50 [==============================] - 0s 4ms/step - loss: 0.2791 - accuracy: 0.8920 - val_loss: 0.4864 - val_accuracy: 0.7594\n",
      "Epoch 28/30\n",
      "50/50 [==============================] - 0s 4ms/step - loss: 0.2725 - accuracy: 0.8952 - val_loss: 0.4965 - val_accuracy: 0.7419\n",
      "Epoch 29/30\n",
      "50/50 [==============================] - 0s 4ms/step - loss: 0.2656 - accuracy: 0.9033 - val_loss: 0.5182 - val_accuracy: 0.7318\n",
      "Epoch 30/30\n",
      "50/50 [==============================] - 0s 4ms/step - loss: 0.2589 - accuracy: 0.8996 - val_loss: 0.4970 - val_accuracy: 0.7494\n"
     ]
    }
   ],
   "source": [
    "num_epochs = 30\n",
    "\n",
    "history = model.fit(training_padded, \n",
    "                    training_labels_final, \n",
    "                    epochs=num_epochs, \n",
    "                    validation_data=(testing_padded, testing_labels_final))"
   ]
  },
  {
   "cell_type": "code",
   "execution_count": 8,
   "metadata": {
    "colab": {
     "base_uri": "https://localhost:8080/",
     "height": 541
    },
    "id": "o9l5vBeU71vH",
    "outputId": "eec3e7cc-7843-41a7-d5f1-f5abc5d932d3"
   },
   "outputs": [
    {
     "data": {
      "image/png": "[encoded data removed]",
      "text/plain": [
       "<Figure size 432x288 with 1 Axes>"
      ]
     },
     "metadata": {
      "needs_background": "light",
      "tags": []
     },
     "output_type": "display_data"
    },
    {
     "data": {
      "image/png": "[encoded data removed]",
      "text/plain": [
       "<Figure size 432x288 with 1 Axes>"
      ]
     },
     "metadata": {
      "needs_background": "light",
      "tags": []
     },
     "output_type": "display_data"
    }
   ],
   "source": [
    "# visualize the training and validation accuracy with different tweaks to the hyperparameters and model.\n",
    "\n",
    "import matplotlib.pyplot as plt\n",
    "\n",
    "def plot_graphs(history, string):\n",
    "  plt.plot(history.history[string])\n",
    "  plt.plot(history.history['val_'+string])\n",
    "  plt.xlabel(\"Epochs\")\n",
    "  plt.ylabel(string)\n",
    "  plt.legend([string, 'val_'+string])\n",
    "  plt.show()\n",
    "  \n",
    "plot_graphs(history, \"accuracy\")\n",
    "plot_graphs(history, \"loss\")"
   ]
  },
  {
   "cell_type": "code",
   "execution_count": 12,
   "metadata": {
    "id": "mrkKHgDGDyZ3"
   },
   "outputs": [],
   "source": [
    "df_history = pd.DataFrame(model.history.history)"
   ]
  },
  {
   "cell_type": "code",
   "execution_count": 13,
   "metadata": {
    "colab": {
     "base_uri": "https://localhost:8080/",
     "height": 282
    },
    "id": "4ZgQoNXrDyZ3",
    "outputId": "be0836a7-7a5b-4806-885b-05495193ef37"
   },
   "outputs": [
    {
     "data": {
      "text/plain": [
       "<matplotlib.axes._subplots.AxesSubplot at 0x7f21cc28e6d8>"
      ]
     },
     "execution_count": 13,
     "metadata": {
      "tags": []
     },
     "output_type": "execute_result"
    },
    {
     "data": {
      "image/png": "[encoded data removed]",
      "text/plain": [
       "<Figure size 432x288 with 1 Axes>"
      ]
     },
     "metadata": {
      "needs_background": "light",
      "tags": []
     },
     "output_type": "display_data"
    }
   ],
   "source": [
    "df_history[['accuracy','val_accuracy']].plot()"
   ]
  },
  {
   "cell_type": "code",
   "execution_count": 23,
   "metadata": {
    "colab": {
     "base_uri": "https://localhost:8080/",
     "height": 282
    },
    "id": "t46lZnJRDyZ3",
    "outputId": "e376a4ac-ed21-4a51-833c-106eb4dc2a3c"
   },
   "outputs": [
    {
     "data": {
      "text/plain": [
       "<matplotlib.axes._subplots.AxesSubplot at 0x7f21de195da0>"
      ]
     },
     "execution_count": 23,
     "metadata": {
      "tags": []
     },
     "output_type": "execute_result"
    },
    {
     "data": {
      "image/png": "[encoded data removed]",
      "text/plain": [
       "<Figure size 432x288 with 1 Axes>"
      ]
     },
     "metadata": {
      "needs_background": "light",
      "tags": []
     },
     "output_type": "display_data"
    }
   ],
   "source": [
    "df_history[['loss','val_loss']].plot()"
   ]
  },
  {
   "cell_type": "code",
   "execution_count": 22,
   "metadata": {
    "colab": {
     "base_uri": "https://localhost:8080/"
    },
    "id": "2Ex4o7Lc8Njl",
    "outputId": "693e4823-c663-4f10-9590-56ba2f11de0a"
   },
   "outputs": [
    {
     "name": "stdout",
     "output_type": "stream",
     "text": [
      "(500, 16)\n"
     ]
    }
   ],
   "source": [
    "# First get the weights of the embedding layer\n",
    "e = model.layers[0]\n",
    "weights = e.get_weights()[0]\n",
    "print(weights.shape) # shape: (vocab_size, embedding_dim)"
   ]
  },
  {
   "cell_type": "code",
   "execution_count": 19,
   "metadata": {
    "id": "bUL1zk5p8WIV"
   },
   "outputs": [],
   "source": [
    "import io\n",
    "\n",
    "# Create the reverse word index\n",
    "reverse_word_index = dict([(value, key) for (key, value) in word_index.items()])\n",
    "\n",
    "# Write out the embedding vectors and metadata\n",
    "out_v = io.open('vecs.tsv', 'w', encoding='utf-8')\n",
    "out_m = io.open('meta.tsv', 'w', encoding='utf-8')\n",
    "for word_num in range(1, vocab_size):\n",
    "  word = reverse_word_index[word_num]\n",
    "  embeddings = weights[word_num]\n",
    "  out_m.write(word + \"\\n\")\n",
    "  out_v.write('\\t'.join([str(x) for x in embeddings]) + \"\\n\")\n",
    "out_v.close()\n",
    "out_m.close()"
   ]
  },
  {
   "cell_type": "code",
   "execution_count": null,
   "metadata": {
    "id": "lqyV8QYnD46U"
   },
   "outputs": [],
   "source": [
    "# Download the files\n",
    "try:\n",
    "  from google.colab import files\n",
    "except ImportError:\n",
    "  pass\n",
    "else:\n",
    "  files.download('vecs.tsv')\n",
    "  files.download('meta.tsv')"
   ]
  },
  {
   "cell_type": "code",
   "execution_count": 18,
   "metadata": {
    "colab": {
     "base_uri": "https://localhost:8080/"
    },
    "id": "JbFTTcaK6Dan",
    "outputId": "c6ec5388-ba8a-4191-8134-85303161b86b"
   },
   "outputs": [
    {
     "name": "stdout",
     "output_type": "stream",
     "text": [
      "['I love this phone', 'I hate spaghetti', 'Everything was cold', 'Everything was hot exactly as I wanted', 'Everything was green', 'the host seated us immediately', 'they gave us free chocolate cake', 'not sure about the wilted flowers on the table', 'only works when I stand on tippy toes', 'does not work when I stand on my head']\n",
      "\n",
      "HOT OFF THE PRESS! HERE ARE SOME NEWLY MINTED, ABSOLUTELY GENUINE REVIEWS!\n",
      "\n",
      "I love this phone\n",
      "[0.9082759]\n",
      "\n",
      "\n",
      "I hate spaghetti\n",
      "[0.17110471]\n",
      "\n",
      "\n",
      "Everything was cold\n",
      "[0.60226107]\n",
      "\n",
      "\n",
      "Everything was hot exactly as I wanted\n",
      "[0.43573427]\n",
      "\n",
      "\n",
      "Everything was green\n",
      "[0.60226107]\n",
      "\n",
      "\n",
      "the host seated us immediately\n",
      "[0.59533167]\n",
      "\n",
      "\n",
      "they gave us free chocolate cake\n",
      "[0.8602181]\n",
      "\n",
      "\n",
      "not sure about the wilted flowers on the table\n",
      "[0.095774]\n",
      "\n",
      "\n",
      "only works when I stand on tippy toes\n",
      "[0.85016596]\n",
      "\n",
      "\n",
      "does not work when I stand on my head\n",
      "[0.0268235]\n",
      "\n",
      "\n"
     ]
    }
   ],
   "source": [
    "# Predicting Sentiment in New Reviews Use the model to predict a review   \n",
    "fake_reviews = ['I love this phone', 'I hate spaghetti', \n",
    "                'Everything was cold',\n",
    "                'Everything was hot exactly as I wanted', \n",
    "                'Everything was green', \n",
    "                'the host seated us immediately',\n",
    "                'they gave us free chocolate cake', \n",
    "                'not sure about the wilted flowers on the table',\n",
    "                'only works when I stand on tippy toes', \n",
    "                'does not work when I stand on my head']\n",
    "\n",
    "print(fake_reviews) \n",
    "\n",
    "# Create the sequences\n",
    "padding_type='post'\n",
    "sample_sequences = tokenizer.texts_to_sequences(fake_reviews)\n",
    "fakes_padded = pad_sequences(sample_sequences, padding=padding_type, maxlen=max_length)           \n",
    "\n",
    "print('\\nHOT OFF THE PRESS! HERE ARE SOME NEWLY MINTED, ABSOLUTELY GENUINE REVIEWS!\\n')              \n",
    "\n",
    "classes = model.predict(fakes_padded)\n",
    "\n",
    "# The closer the class is to 1, the more positive the review is deemed to be\n",
    "for x in range(len(fake_reviews)):\n",
    "  print(fake_reviews[x])\n",
    "  print(classes[x])\n",
    "  print('\\n')\n",
    "\n",
    "# Try adding reviews of your own\n",
    "# Add some negative words (such as \"not\") to the good reviews and see what happens\n",
    "# For example:\n",
    "# they gave us free chocolate cake and did not charge us"
   ]
  }
 ],
 "metadata": {
  "accelerator": "GPU",
  "colab": {
   "collapsed_sections": [],
   "name": "l09c05_nlp_tweaking_the_model.ipynb",
   "provenance": [],
   "toc_visible": true
  },
  "kernelspec": {
   "display_name": "Python 3",
   "language": "python",
   "name": "python3"
  },
  "language_info": {
   "codemirror_mode": {
    "name": "ipython",
    "version": 3
   },
   "file_extension": ".py",
   "mimetype": "text/x-python",
   "name": "python",
   "nbconvert_exporter": "python",
   "pygments_lexer": "ipython3",
   "version": "3.7.7"
  }
 },
 "nbformat": 4,
 "nbformat_minor": 1
}
