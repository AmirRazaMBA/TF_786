{
 "cells": [
  {
   "cell_type": "markdown",
   "metadata": {
    "colab_type": "text",
    "id": "view-in-github"
   },
   "source": [
    "<a href=\"https://colab.research.google.com/github/AmirRazaMBA/TF_CertificationExam/blob/main/Introduction%20to%20TensorFlow/02_simple_model.ipynb\" target=\"_parent\"><img src=\"https://colab.research.google.com/assets/colab-badge.svg\" alt=\"Open In Colab\"/></a>"
   ]
  },
  {
   "cell_type": "code",
   "execution_count": null,
   "metadata": {
    "id": "w5bOPvFaQIqm"
   },
   "outputs": [],
   "source": [
    "import tensorflow as tf\n",
    "import numpy as np\n",
    "import matplotlib.pyplot as plt\n",
    "from tensorflow.keras.models import Sequential\n",
    "from tensorflow.keras.layers import Dense"
   ]
  },
  {
   "cell_type": "code",
   "execution_count": null,
   "metadata": {
    "id": "wEF4H2h3R_5o"
   },
   "outputs": [],
   "source": [
    "celsius_q    = np.array([-40, -10,  0,  8, 15, 22,  38],  dtype=float)\n",
    "fahrenheit_a = np.array([-40,  14, 32, 46, 59, 72, 100],  dtype=float)"
   ]
  },
  {
   "cell_type": "code",
   "execution_count": null,
   "metadata": {
    "id": "z1BLvZ_sSD-Q"
   },
   "outputs": [],
   "source": [
    "#for i,c in enumerate(celsius_q):\n",
    "  #print(str(c) + \" degrees Celsius = degrees Fahrenheit \" + str(fahrenheit_a[i]))"
   ]
  },
  {
   "cell_type": "code",
   "execution_count": null,
   "metadata": {
    "colab": {
     "base_uri": "https://localhost:8080/"
    },
    "id": "w0-C0HoRSG9-",
    "outputId": "2044924b-ccec-4921-8762-499460eacf04"
   },
   "outputs": [],
   "source": [
    "layer_0 = Dense(units=4, input_shape=[1])\n",
    "layer_1 = Dense(units=4)\n",
    "layer_2 = Dense(units=1)\n",
    "\n",
    "model = Sequential()\n",
    "model.add(layer_0)\n",
    "model.add(layer_1)\n",
    "model.add(layer_2)\n",
    "\n",
    "model.compile(loss='mean_squared_error',\n",
    "              optimizer=tf.keras.optimizers.Adam(0.1))\n",
    "model.summary()\n",
    "\n",
    "#  Layer 0 : weights 1 x 4 and bias 4  ; Layer 1 : weights 4 x 4 and bias 4 ; Layer 3 : weights 4 x 1 and bias = 1"
   ]
  },
  {
   "cell_type": "code",
   "execution_count": null,
   "metadata": {},
   "outputs": [],
   "source": [
    "import os, datetime\n",
    "logdir = os.path.join(\"logs\", datetime.datetime.now().strftime(\"%Y%m%d-%H%M%S\"))\n",
    "\n",
    "%load_ext tensorboard\n",
    "%tensorboard --logdir logdir\n",
    "\n",
    "tensorboard_callback = tf.keras.callbacks.TensorBoard(logdir, histogram_freq=1)\n",
    "\n",
    "\n",
    "from tensorboard import notebook\n",
    "notebook.list() # View open TensorBoard instances\n",
    "\n",
    "# Control TensorBoard display. \n",
    "# If no port is provided then most recent TensorBoard\n",
    "\n",
    "notebook.display(port=6006, height=500)"
   ]
  },
  {
   "cell_type": "code",
   "execution_count": null,
   "metadata": {
    "id": "ay8_Sd4MShDO"
   },
   "outputs": [],
   "source": [
    "history = model.fit(x=celsius_q, y=fahrenheit_a, epochs=500, verbose=False ,callbacks=[tensorboard_callback])"
   ]
  },
  {
   "cell_type": "code",
   "execution_count": null,
   "metadata": {
    "colab": {
     "base_uri": "https://localhost:8080/",
     "height": 296
    },
    "id": "I7pas988SOjO",
    "outputId": "8e3d20a0-6eb8-4146-c783-d3033ed530d4"
   },
   "outputs": [],
   "source": [
    "# Check any change in the loss when more layers are added compared to one layer in the last ex?\n",
    "plt.xlabel('Epoch')\n",
    "plt.ylabel(\"Loss\")\n",
    "plt.plot(history.history['loss'])"
   ]
  },
  {
   "cell_type": "code",
   "execution_count": null,
   "metadata": {
    "colab": {
     "base_uri": "https://localhost:8080/"
    },
    "id": "SyZ6kaQ6SQd2",
    "outputId": "5ad042d4-9d16-4895-a315-f7753f1d2bcf"
   },
   "outputs": [],
   "source": [
    "print(model.predict([100.0]))"
   ]
  },
  {
   "cell_type": "code",
   "execution_count": null,
   "metadata": {
    "colab": {
     "base_uri": "https://localhost:8080/"
    },
    "id": "elWiukimSSKe",
    "outputId": "69520f47-0528-4fda-e23c-1c791375e4df"
   },
   "outputs": [],
   "source": [
    "# Note the formula is F = 1.8 * C + 32    , where weight is 1.8 and bias is 32 if only one layer and one unit\n",
    "print(\"These are the layer_0 variables: \" + str(layer_0.get_weights()) + \"\\n\")\n",
    "print(\"These are the layer_1 variables: \" + str(layer_1.get_weights()) + \"\\n\")\n",
    "print(\"These are the layer_2 variables: \" + str(layer_2.get_weights()) + \"\\n\")"
   ]
  }
 ],
 "metadata": {
  "colab": {
   "include_colab_link": true,
   "name": "02_simple_model.ipynb",
   "provenance": []
  },
  "kernelspec": {
   "display_name": "Python 3",
   "language": "python",
   "name": "python3"
  },
  "language_info": {
   "codemirror_mode": {
    "name": "ipython",
    "version": 3
   },
   "file_extension": ".py",
   "mimetype": "text/x-python",
   "name": "python",
   "nbconvert_exporter": "python",
   "pygments_lexer": "ipython3",
   "version": "3.7.7"
  }
 },
 "nbformat": 4,
 "nbformat_minor": 1
}
