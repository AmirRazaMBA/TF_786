{
 "cells": [
  {
   "cell_type": "code",
   "execution_count": null,
   "metadata": {
    "title": "md"
   },
   "outputs": [],
   "source": [
    "Normal Text"
   ]
  },
  {
   "cell_type": "markdown",
   "metadata": {
    "title": "md"
   },
   "source": [
    "# Title\n",
    "## Heading 1\n",
    "### Heading 2\n",
    "### _Bold_\n",
    "### *Italics*"
   ]
  },
  {
   "cell_type": "code",
   "execution_count": null,
   "metadata": {},
   "outputs": [],
   "source": [
    "import numpy as np"
   ]
  }
 ],
 "metadata": {
  "jupytext": {
   "cell_metadata_filter": "title,-all",
   "formats": "py:percent,ipynb",
   "notebook_metadata_filter": "-all",
   "text_representation": {
    "extension": ".py",
    "format_name": "percent"
   }
  },
  "kernelspec": {
   "display_name": "Python 3",
   "language": "python",
   "name": "python3"
  },
  "language_info": {
   "codemirror_mode": {
    "name": "ipython",
    "version": 3
   },
   "file_extension": ".py",
   "mimetype": "text/x-python",
   "name": "python",
   "nbconvert_exporter": "python",
   "pygments_lexer": "ipython3",
   "version": "3.8.5"
  }
 },
 "nbformat": 4,
 "nbformat_minor": 4
}
