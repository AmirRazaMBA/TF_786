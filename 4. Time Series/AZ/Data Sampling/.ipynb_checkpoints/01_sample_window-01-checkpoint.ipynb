{
 "cells": [
  {
   "cell_type": "markdown",
   "metadata": {
    "id": "Ou0PGp_4icRo"
   },
   "source": [
    "# Time windows - 2 methods"
   ]
  },
  {
   "cell_type": "code",
   "execution_count": 1,
   "metadata": {
    "id": "gqWabzlJ63nL"
   },
   "outputs": [],
   "source": [
    "import numpy as np\n",
    "import tensorflow as tf\n",
    "from tensorflow.keras.preprocessing.sequence import TimeseriesGenerator"
   ]
  },
  {
   "cell_type": "code",
   "execution_count": 2,
   "metadata": {
    "id": "1tl-0BOKkEtk"
   },
   "outputs": [],
   "source": [
    "def window_dataset(series, time_steps, batch_size=32,\n",
    "                   shuffle_buffer=1000):\n",
    "    dataset = tf.data.Dataset.from_tensor_slices(series)\n",
    "    dataset = dataset.window(time_steps + 1, shift=1, drop_remainder=True)\n",
    "    dataset = dataset.flat_map(lambda window: window.batch(time_steps + 1))\n",
    "    #dataset = dataset.shuffle(shuffle_buffer)\n",
    "    dataset = dataset.map(lambda window: (window[:-1], window[-1]))\n",
    "    dataset = dataset.batch(batch_size).prefetch(1)\n",
    "    return dataset"
   ]
  },
  {
   "cell_type": "code",
   "execution_count": 3,
   "metadata": {},
   "outputs": [
    {
     "name": "stdout",
     "output_type": "stream",
     "text": [
      "[0 1 2 3 4 5 6 7 8 9]\n"
     ]
    }
   ],
   "source": [
    "x = np.arange(10)\n",
    "print(x)"
   ]
  },
  {
   "cell_type": "code",
   "execution_count": 4,
   "metadata": {},
   "outputs": [],
   "source": [
    "time_steps = 4\n",
    "batch_size = 1\n",
    "train_set = window_dataset(x, time_steps, batch_size) "
   ]
  },
  {
   "cell_type": "code",
   "execution_count": 5,
   "metadata": {},
   "outputs": [
    {
     "name": "stdout",
     "output_type": "stream",
     "text": [
      "x :\n",
      " [[0 1 2 3]]\n",
      "y :\n",
      " [4]\n",
      "x :\n",
      " [[1 2 3 4]]\n",
      "y :\n",
      " [5]\n",
      "x :\n",
      " [[2 3 4 5]]\n",
      "y :\n",
      " [6]\n",
      "x :\n",
      " [[3 4 5 6]]\n",
      "y :\n",
      " [7]\n",
      "x :\n",
      " [[4 5 6 7]]\n",
      "y :\n",
      " [8]\n",
      "x :\n",
      " [[5 6 7 8]]\n",
      "y :\n",
      " [9]\n"
     ]
    }
   ],
   "source": [
    "for x, y in train_set:\n",
    "    print(\"x :\\n\", x.numpy())\n",
    "    print(\"y :\\n\", y.numpy())"
   ]
  },
  {
   "cell_type": "code",
   "execution_count": 6,
   "metadata": {},
   "outputs": [
    {
     "name": "stdout",
     "output_type": "stream",
     "text": [
      "Samples: 6\n",
      "[[0 1 2 3]] => [4]\n",
      "[[1 2 3 4]] => [5]\n",
      "[[2 3 4 5]] => [6]\n",
      "[[3 4 5 6]] => [7]\n",
      "[[4 5 6 7]] => [8]\n",
      "[[5 6 7 8]] => [9]\n"
     ]
    }
   ],
   "source": [
    "# define dataset\n",
    "series = np.array([1, 2, 3, 4, 5, 6, 7, 8, 9, 10])\n",
    "series = np.arange(10)\n",
    "\n",
    "time_steps = 4  # steps here\n",
    "\n",
    "generator = TimeseriesGenerator(series, series, length=time_steps, batch_size=1)\n",
    "\n",
    "# number of samples\n",
    "print('Samples: %d' % len(generator))\n",
    "\n",
    "for i in range(len(generator)):\n",
    "\tx, y = generator[i]\n",
    "\tprint('%s => %s' % (x, y))"
   ]
  }
 ],
 "metadata": {
  "colab": {
   "collapsed_sections": [],
   "name": "l08c04_time_windows.ipynb",
   "provenance": [],
   "toc_visible": true
  },
  "kernelspec": {
   "display_name": "Python 3",
   "language": "python",
   "name": "python3"
  },
  "language_info": {
   "codemirror_mode": {
    "name": "ipython",
    "version": 3
   },
   "file_extension": ".py",
   "mimetype": "text/x-python",
   "name": "python",
   "nbconvert_exporter": "python",
   "pygments_lexer": "ipython3",
   "version": "3.8.5"
  }
 },
 "nbformat": 4,
 "nbformat_minor": 4
}
