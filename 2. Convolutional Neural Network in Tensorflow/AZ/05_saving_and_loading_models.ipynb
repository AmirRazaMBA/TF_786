{
 "cells": [
  {
   "cell_type": "code",
   "execution_count": null,
   "metadata": {
    "id": "e3BXzUGabcI9"
   },
   "outputs": [],
   "source": [
    "!pip install -U tensorflow_hub\n",
    "!pip install -U tensorflow_datasets"
   ]
  },
  {
   "cell_type": "code",
   "execution_count": null,
   "metadata": {
    "id": "OGNpmn43C0O6"
   },
   "outputs": [],
   "source": [
    "import time\n",
    "import numpy as np\n",
    "import matplotlib.pylab as plt\n",
    "\n",
    "import tensorflow as tf\n",
    "import tensorflow_hub as hub\n",
    "import tensorflow_datasets as tfds\n",
    "\n",
    "\n",
    "from tensorflow.keras import layers"
   ]
  },
  {
   "cell_type": "code",
   "execution_count": null,
   "metadata": {
    "id": "DrIUV3V0xDL_"
   },
   "outputs": [],
   "source": [
    "tfds.disable_progress_bar()\n",
    "\n",
    "(train_examples, validation_examples), info = tfds.load(\n",
    "    'cats_vs_dogs',\n",
    "    split=['train[:80%]', 'train[80%:]'],\n",
    "    with_info=True,\n",
    "    as_supervised=True,\n",
    ")"
   ]
  },
  {
   "cell_type": "code",
   "execution_count": null,
   "metadata": {},
   "outputs": [],
   "source": [
    "def format_image(image, label):\n",
    "  # `hub` image modules exepct their data normalized to the [0,1] range.\n",
    "  image = tf.image.resize(image, (IMAGE_RES, IMAGE_RES))/255.0\n",
    "  return  image, label"
   ]
  },
  {
   "cell_type": "code",
   "execution_count": null,
   "metadata": {
    "id": "we_ftzQxNf7e"
   },
   "outputs": [],
   "source": [
    "# Dogs vs. Cats dataset are not all the same size\n",
    "# we need to reformat all images to the resolution expected by MobileNet (224, 224)\n",
    "\n",
    "num_examples = info.splits['train'].num_examples\n",
    "\n",
    "BATCH_SIZE = 32\n",
    "IMAGE_RES = 224\n",
    "\n",
    "train_batches      = train_examples.cache().shuffle(num_examples//4).map(format_image).batch(BATCH_SIZE).prefetch(1)\n",
    "validation_batches = validation_examples.cache().map(format_image).batch(BATCH_SIZE).prefetch(1)"
   ]
  },
  {
   "cell_type": "code",
   "execution_count": null,
   "metadata": {
    "id": "5wB030nezBwI"
   },
   "outputs": [],
   "source": [
    "URL = \"https://tfhub.dev/google/tf2-preview/mobilenet_v2/feature_vector/4\"\n",
    "feature_extractor = hub.KerasLayer(URL,\n",
    "                                   input_shape=(IMAGE_RES, IMAGE_RES,3))"
   ]
  },
  {
   "cell_type": "code",
   "execution_count": null,
   "metadata": {
    "id": "Jg5ar6rcE4H-"
   },
   "outputs": [],
   "source": [
    "# Freeze the variables in the feature extractor layer, so that the training only modifies the final classifier layer.\n",
    "feature_extractor.trainable = False"
   ]
  },
  {
   "cell_type": "code",
   "execution_count": null,
   "metadata": {
    "id": "mGcY27fY1q3Q"
   },
   "outputs": [],
   "source": [
    "model = tf.keras.Sequential([\n",
    "  feature_extractor,\n",
    "  layers.Dense(2)\n",
    "])\n",
    "\n",
    "model.summary()"
   ]
  },
  {
   "cell_type": "code",
   "execution_count": null,
   "metadata": {
    "id": "3n0Wb9ylKd8R"
   },
   "outputs": [],
   "source": [
    "model.compile(\n",
    "  optimizer='adam', \n",
    "  loss=tf.losses.SparseCategoricalCrossentropy(from_logits=True),\n",
    "  metrics=['accuracy'])\n",
    "\n",
    "EPOCHS = 3\n",
    "history = model.fit(train_batches,\n",
    "                    epochs=EPOCHS,\n",
    "                    validation_data=validation_batches)"
   ]
  },
  {
   "cell_type": "code",
   "execution_count": null,
   "metadata": {
    "id": "W_Zvg2i0fzJu"
   },
   "outputs": [],
   "source": [
    "# Get the ordered list of class names.\n",
    "\n",
    "class_names = np.array(info.features['label'].names)\n",
    "class_names"
   ]
  },
  {
   "cell_type": "code",
   "execution_count": null,
   "metadata": {
    "id": "fCLVCpEjJ_VP"
   },
   "outputs": [],
   "source": [
    "# Run an image batch through the model and convert the indices to class names.\n",
    "\n",
    "image_batch, label_batch = next(iter(train_batches.take(1)))\n",
    "image_batch = image_batch.numpy()\n",
    "label_batch = label_batch.numpy()\n",
    "\n",
    "predicted_batch = model.predict(image_batch)\n",
    "predicted_batch = tf.squeeze(predicted_batch).numpy()\n",
    "predicted_ids = np.argmax(predicted_batch, axis=-1)\n",
    "predicted_class_names = class_names[predicted_ids]\n",
    "predicted_class_names"
   ]
  },
  {
   "cell_type": "code",
   "execution_count": null,
   "metadata": {
    "id": "nL9IhOmGI5dJ"
   },
   "outputs": [],
   "source": [
    "print(\"Labels: \", label_batch)\n",
    "print(\"Predicted labels: \", predicted_ids)"
   ]
  },
  {
   "cell_type": "code",
   "execution_count": null,
   "metadata": {
    "id": "wC_AYRJU9NQe"
   },
   "outputs": [],
   "source": [
    "plt.figure(figsize=(10,9))\n",
    "for n in range(30):\n",
    "  plt.subplot(6,5,n+1)\n",
    "  plt.imshow(image_batch[n])\n",
    "  color = \"blue\" if predicted_ids[n] == label_batch[n] else \"red\"\n",
    "  plt.title(predicted_class_names[n].title(), color=color)\n",
    "  plt.axis('off')\n",
    "_ = plt.suptitle(\"Model predictions (blue: correct, red: incorrect)\")"
   ]
  },
  {
   "cell_type": "code",
   "execution_count": null,
   "metadata": {
    "id": "tCnNWTkZ3Ckz"
   },
   "outputs": [],
   "source": [
    "t = time.time()\n",
    "\n",
    "export_path_keras = \"./{}.h5\".format(int(t))\n",
    "print(export_path_keras)\n",
    "\n",
    "model.save(export_path_keras)\n",
    "\n",
    "'''\n",
    "The model's architecture\n",
    "The model's weight values (which were learned during training)\n",
    "The model's training config (what you passed to compile), if any\n",
    "The optimizer and its state, if any (this enables you to restart training where you left off)\n",
    "'''"
   ]
  },
  {
   "cell_type": "code",
   "execution_count": null,
   "metadata": {
    "id": "9tdJWVHmnKxJ"
   },
   "outputs": [],
   "source": [
    "!ls"
   ]
  },
  {
   "cell_type": "code",
   "execution_count": null,
   "metadata": {
    "id": "Rx-z3Qwx5RnB"
   },
   "outputs": [],
   "source": [
    "reloaded = tf.keras.models.load_model(\n",
    "  export_path_keras, \n",
    "  # `custom_objects` tells keras how to load a `hub.KerasLayer`\n",
    "  custom_objects={'KerasLayer': hub.KerasLayer})\n",
    "\n",
    "reloaded.summary()"
   ]
  },
  {
   "cell_type": "code",
   "execution_count": null,
   "metadata": {
    "id": "MFljA-Hd85Tu"
   },
   "outputs": [],
   "source": [
    "result_batch = model.predict(image_batch)\n",
    "reloaded_result_batch = reloaded.predict(image_batch)\n",
    "\n",
    "# The difference in output should be zero:\n",
    "(abs(result_batch - reloaded_result_batch)).max()"
   ]
  },
  {
   "cell_type": "code",
   "execution_count": null,
   "metadata": {
    "id": "NEv-fnHEAplx"
   },
   "outputs": [],
   "source": [
    "# we can also take our `reloaded` model and keep training it.\n",
    "\n",
    "EPOCHS = 3\n",
    "history = reloaded.fit(train_batches,\n",
    "                    epochs=EPOCHS,\n",
    "                    validation_data=validation_batches)"
   ]
  },
  {
   "cell_type": "code",
   "execution_count": null,
   "metadata": {
    "id": "LtpeKMfoGXrj"
   },
   "outputs": [],
   "source": [
    "# export model\n",
    "\n",
    "t = time.time()\n",
    "\n",
    "export_path_sm = \"./{}\".format(int(t))\n",
    "print(export_path_sm)\n",
    "\n",
    "tf.saved_model.save(model, export_path_sm)"
   ]
  },
  {
   "cell_type": "code",
   "execution_count": null,
   "metadata": {
    "id": "5h6B1wITlu-9"
   },
   "outputs": [],
   "source": [
    "!ls {export_path_sm}"
   ]
  },
  {
   "cell_type": "code",
   "execution_count": null,
   "metadata": {
    "id": "c7_PM7lofG2V"
   },
   "outputs": [],
   "source": [
    "reloaded_sm = tf.saved_model.load(export_path_sm)"
   ]
  },
  {
   "cell_type": "code",
   "execution_count": null,
   "metadata": {
    "id": "lpQldy_bm3Ty"
   },
   "outputs": [],
   "source": [
    "reload_sm_result_batch = reloaded_sm(image_batch, training=False).numpy()"
   ]
  },
  {
   "cell_type": "code",
   "execution_count": null,
   "metadata": {
    "id": "hoCwmkGznR_0"
   },
   "outputs": [],
   "source": [
    "(abs(result_batch - reload_sm_result_batch)).max()"
   ]
  },
  {
   "cell_type": "code",
   "execution_count": null,
   "metadata": {
    "id": "Vi1jaqh8yvt6"
   },
   "outputs": [],
   "source": [
    "# Loading the SavedModel as a Keras Model\n",
    "t = time.time()\n",
    "\n",
    "export_path_sm = \"./{}\".format(int(t))\n",
    "print(export_path_sm)\n",
    "tf.saved_model.save(model, export_path_sm)"
   ]
  },
  {
   "cell_type": "code",
   "execution_count": null,
   "metadata": {
    "id": "1VPE2_QQGmAP"
   },
   "outputs": [],
   "source": [
    "reload_sm_keras = tf.keras.models.load_model(\n",
    "  export_path_sm,\n",
    "  custom_objects={'KerasLayer': hub.KerasLayer})\n",
    "\n",
    "reload_sm_keras.summary()"
   ]
  },
  {
   "cell_type": "code",
   "execution_count": null,
   "metadata": {
    "id": "-0oCJrNLKdKj"
   },
   "outputs": [],
   "source": [
    "result_batch = model.predict(image_batch)\n",
    "reload_sm_keras_result_batch = reload_sm_keras.predict(image_batch)"
   ]
  },
  {
   "cell_type": "markdown",
   "metadata": {
    "id": "jUQaxzFj2Q8k"
   },
   "source": [
    "We can check that the reloaded Keras model and the previous model give the same result."
   ]
  },
  {
   "cell_type": "code",
   "execution_count": null,
   "metadata": {
    "id": "DJCD9JJxKg9F"
   },
   "outputs": [],
   "source": [
    "(abs(result_batch - reload_sm_keras_result_batch)).max()"
   ]
  },
  {
   "cell_type": "code",
   "execution_count": null,
   "metadata": {
    "id": "WPRFoU1xPCGF"
   },
   "outputs": [],
   "source": [
    "# download model\n",
    "!zip -r model.zip {export_path_sm}"
   ]
  },
  {
   "cell_type": "code",
   "execution_count": null,
   "metadata": {
    "id": "ALP-DfwSQRL8"
   },
   "outputs": [],
   "source": [
    "!ls"
   ]
  },
  {
   "cell_type": "code",
   "execution_count": null,
   "metadata": {
    "id": "lOXYrlDkNjKQ"
   },
   "outputs": [],
   "source": [
    "try:\n",
    "  from google.colab import files\n",
    "  files.download('./model.zip')\n",
    "except ImportError:\n",
    "  pass"
   ]
  }
 ],
 "metadata": {
  "accelerator": "GPU",
  "colab": {
   "collapsed_sections": [],
   "name": "l07c01_saving_and_loading_models.ipynb",
   "provenance": [],
   "toc_visible": true
  },
  "kernelspec": {
   "display_name": "Python 3",
   "language": "python",
   "name": "python3"
  },
  "language_info": {
   "codemirror_mode": {
    "name": "ipython",
    "version": 3
   },
   "file_extension": ".py",
   "mimetype": "text/x-python",
   "name": "python",
   "nbconvert_exporter": "python",
   "pygments_lexer": "ipython3",
   "version": "3.8.5"
  }
 },
 "nbformat": 4,
 "nbformat_minor": 4
}
