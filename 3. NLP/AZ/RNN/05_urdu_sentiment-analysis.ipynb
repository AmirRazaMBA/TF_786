{
 "cells": [
  {
   "cell_type": "code",
   "execution_count": 3,
   "metadata": {
    "id": "4azPFCw-rY95"
   },
   "outputs": [],
   "source": [
    "import os\n",
    "import numpy as np # linear algebra\n",
    "import pandas as pd # data processing, CSV file I/O (e.g. pd.read_csv)"
   ]
  },
  {
   "cell_type": "code",
   "execution_count": 2,
   "metadata": {
    "colab": {
     "base_uri": "https://localhost:8080/"
    },
    "id": "j2MaW-1nrY97",
    "outputId": "d99b0354-0edf-40ba-e550-6d13b80d58cb"
   },
   "outputs": [
    {
     "name": "stdout",
     "output_type": "stream",
     "text": [
      "Collecting urduhack"
     ]
    },
    {
     "name": "stderr",
     "output_type": "stream",
     "text": [
      "ERROR: After October 2020 you may experience errors when installing or updating packages. This is because pip will change the way that it resolves dependency conflicts.\n",
      "\n",
      "We recommend you use --use-feature=2020-resolver to test your packages with the new resolver before it becomes the default.\n",
      "\n",
      "tensorflow 2.3.1 requires numpy<1.19.0,>=1.16.0, but you'll have numpy 1.19.1 which is incompatible.\n"
     ]
    },
    {
     "name": "stdout",
     "output_type": "stream",
     "text": [
      "\n",
      "  Downloading urduhack-1.1.1-py3-none-any.whl (105 kB)\n",
      "Collecting regex\n",
      "  Downloading regex-2020.11.13-cp37-cp37m-win_amd64.whl (269 kB)\n",
      "Requirement already satisfied: Click~=7.1 in c:\\users\\amir\\anaconda3\\envs\\tf\\lib\\site-packages (from urduhack) (7.1.2)\n",
      "Collecting tf2crf\n",
      "  Downloading tf2crf-0.1.29-py2.py3-none-any.whl (9.3 kB)\n",
      "Collecting tensorflow-datasets~=3.1\n",
      "  Downloading tensorflow_datasets-3.2.1-py3-none-any.whl (3.4 MB)\n",
      "Collecting tensorflow-addons>=0.8.2\n",
      "  Downloading tensorflow_addons-0.11.2-cp37-cp37m-win_amd64.whl (911 kB)\n",
      "Collecting tensorflow>=2.1.0\n",
      "  Downloading tensorflow-2.3.1-cp37-cp37m-win_amd64.whl (342.5 MB)\n",
      "Requirement already satisfied: six in c:\\users\\amir\\anaconda3\\envs\\tf\\lib\\site-packages (from tensorflow-datasets~=3.1->urduhack) (1.15.0)\n",
      "Requirement already satisfied: attrs>=18.1.0 in c:\\users\\amir\\anaconda3\\envs\\tf\\lib\\site-packages (from tensorflow-datasets~=3.1->urduhack) (19.3.0)\n",
      "Requirement already satisfied: numpy in c:\\users\\amir\\anaconda3\\envs\\tf\\lib\\site-packages (from tensorflow-datasets~=3.1->urduhack) (1.19.1)\n",
      "Requirement already satisfied: dill in c:\\users\\amir\\anaconda3\\envs\\tf\\lib\\site-packages (from tensorflow-datasets~=3.1->urduhack) (0.3.2)\n",
      "Requirement already satisfied: future in c:\\users\\amir\\anaconda3\\envs\\tf\\lib\\site-packages (from tensorflow-datasets~=3.1->urduhack) (0.18.2)\n",
      "Requirement already satisfied: protobuf>=3.6.1 in c:\\users\\amir\\anaconda3\\envs\\tf\\lib\\site-packages (from tensorflow-datasets~=3.1->urduhack) (3.12.3)\n",
      "Requirement already satisfied: wrapt in c:\\users\\amir\\anaconda3\\envs\\tf\\lib\\site-packages (from tensorflow-datasets~=3.1->urduhack) (1.12.1)\n",
      "Requirement already satisfied: absl-py in c:\\users\\amir\\anaconda3\\envs\\tf\\lib\\site-packages (from tensorflow-datasets~=3.1->urduhack) (0.9.0)\n",
      "Requirement already satisfied: requests>=2.19.0 in c:\\users\\amir\\anaconda3\\envs\\tf\\lib\\site-packages (from tensorflow-datasets~=3.1->urduhack) (2.24.0)\n",
      "Requirement already satisfied: tqdm in c:\\users\\amir\\anaconda3\\envs\\tf\\lib\\site-packages (from tensorflow-datasets~=3.1->urduhack) (4.50.2)\n",
      "Requirement already satisfied: termcolor in c:\\users\\amir\\anaconda3\\envs\\tf\\lib\\site-packages (from tensorflow-datasets~=3.1->urduhack) (1.1.0)\n",
      "Requirement already satisfied: promise in c:\\users\\amir\\anaconda3\\envs\\tf\\lib\\site-packages (from tensorflow-datasets~=3.1->urduhack) (2.3)\n",
      "Requirement already satisfied: tensorflow-metadata in c:\\users\\amir\\anaconda3\\envs\\tf\\lib\\site-packages (from tensorflow-datasets~=3.1->urduhack) (0.14.0)\n",
      "Collecting typeguard>=2.7\n",
      "  Downloading typeguard-2.10.0-py3-none-any.whl (16 kB)\n",
      "Requirement already satisfied: grpcio>=1.8.6 in c:\\users\\amir\\anaconda3\\envs\\tf\\lib\\site-packages (from tensorflow>=2.1.0->tf2crf->urduhack) (1.27.2)\n",
      "Requirement already satisfied: h5py<2.11.0,>=2.10.0 in c:\\users\\amir\\anaconda3\\envs\\tf\\lib\\site-packages (from tensorflow>=2.1.0->tf2crf->urduhack) (2.10.0)\n",
      "Collecting astunparse==1.6.3\n",
      "  Using cached astunparse-1.6.3-py2.py3-none-any.whl (12 kB)\n",
      "Collecting tensorboard<3,>=2.3.0\n",
      "  Downloading tensorboard-2.4.0-py3-none-any.whl (10.6 MB)\n",
      "Collecting keras-preprocessing<1.2,>=1.1.1\n",
      "  Using cached Keras_Preprocessing-1.1.2-py2.py3-none-any.whl (42 kB)\n",
      "Requirement already satisfied: opt-einsum>=2.3.2 in c:\\users\\amir\\anaconda3\\envs\\tf\\lib\\site-packages (from tensorflow>=2.1.0->tf2crf->urduhack) (3.1.0)\n",
      "Requirement already satisfied: wheel>=0.26 in c:\\users\\amir\\anaconda3\\envs\\tf\\lib\\site-packages (from tensorflow>=2.1.0->tf2crf->urduhack) (0.34.2)\n",
      "Requirement already satisfied: google-pasta>=0.1.8 in c:\\users\\amir\\anaconda3\\envs\\tf\\lib\\site-packages (from tensorflow>=2.1.0->tf2crf->urduhack) (0.2.0)\n",
      "Collecting tensorflow-estimator<2.4.0,>=2.3.0\n",
      "  Downloading tensorflow_estimator-2.3.0-py2.py3-none-any.whl (459 kB)\n",
      "Collecting gast==0.3.3\n",
      "  Using cached gast-0.3.3-py2.py3-none-any.whl (9.7 kB)\n",
      "Requirement already satisfied: setuptools in c:\\users\\amir\\anaconda3\\envs\\tf\\lib\\site-packages (from protobuf>=3.6.1->tensorflow-datasets~=3.1->urduhack) (49.3.1.post20200810)\n",
      "Requirement already satisfied: idna<3,>=2.5 in c:\\users\\amir\\anaconda3\\envs\\tf\\lib\\site-packages (from requests>=2.19.0->tensorflow-datasets~=3.1->urduhack) (2.10)\n",
      "Requirement already satisfied: chardet<4,>=3.0.2 in c:\\users\\amir\\anaconda3\\envs\\tf\\lib\\site-packages (from requests>=2.19.0->tensorflow-datasets~=3.1->urduhack) (3.0.4)\n",
      "Requirement already satisfied: certifi>=2017.4.17 in c:\\users\\amir\\anaconda3\\envs\\tf\\lib\\site-packages (from requests>=2.19.0->tensorflow-datasets~=3.1->urduhack) (2020.6.20)\n",
      "Requirement already satisfied: urllib3!=1.25.0,!=1.25.1,<1.26,>=1.21.1 in c:\\users\\amir\\anaconda3\\envs\\tf\\lib\\site-packages (from requests>=2.19.0->tensorflow-datasets~=3.1->urduhack) (1.25.10)\n",
      "Requirement already satisfied: googleapis-common-protos in c:\\users\\amir\\anaconda3\\envs\\tf\\lib\\site-packages (from tensorflow-metadata->tensorflow-datasets~=3.1->urduhack) (1.52.0)\n",
      "Requirement already satisfied: markdown>=2.6.8 in c:\\users\\amir\\anaconda3\\envs\\tf\\lib\\site-packages (from tensorboard<3,>=2.3.0->tensorflow>=2.1.0->tf2crf->urduhack) (3.1.1)\n",
      "Requirement already satisfied: google-auth<2,>=1.6.3 in c:\\users\\amir\\anaconda3\\envs\\tf\\lib\\site-packages (from tensorboard<3,>=2.3.0->tensorflow>=2.1.0->tf2crf->urduhack) (1.20.1)\n",
      "Requirement already satisfied: tensorboard-plugin-wit>=1.6.0 in c:\\users\\amir\\anaconda3\\envs\\tf\\lib\\site-packages (from tensorboard<3,>=2.3.0->tensorflow>=2.1.0->tf2crf->urduhack) (1.6.0)\n",
      "Requirement already satisfied: werkzeug>=0.11.15 in c:\\users\\amir\\anaconda3\\envs\\tf\\lib\\site-packages (from tensorboard<3,>=2.3.0->tensorflow>=2.1.0->tf2crf->urduhack) (0.16.1)\n",
      "Requirement already satisfied: google-auth-oauthlib<0.5,>=0.4.1 in c:\\users\\amir\\anaconda3\\envs\\tf\\lib\\site-packages (from tensorboard<3,>=2.3.0->tensorflow>=2.1.0->tf2crf->urduhack) (0.4.1)\n",
      "Requirement already satisfied: cachetools<5.0,>=2.0.0 in c:\\users\\amir\\anaconda3\\envs\\tf\\lib\\site-packages (from google-auth<2,>=1.6.3->tensorboard<3,>=2.3.0->tensorflow>=2.1.0->tf2crf->urduhack) (4.1.1)\n",
      "Requirement already satisfied: pyasn1-modules>=0.2.1 in c:\\users\\amir\\anaconda3\\envs\\tf\\lib\\site-packages (from google-auth<2,>=1.6.3->tensorboard<3,>=2.3.0->tensorflow>=2.1.0->tf2crf->urduhack) (0.2.7)\n",
      "Requirement already satisfied: rsa<5,>=3.1.4; python_version >= \"3.5\" in c:\\users\\amir\\anaconda3\\envs\\tf\\lib\\site-packages (from google-auth<2,>=1.6.3->tensorboard<3,>=2.3.0->tensorflow>=2.1.0->tf2crf->urduhack) (4.6)\n",
      "Requirement already satisfied: requests-oauthlib>=0.7.0 in c:\\users\\amir\\anaconda3\\envs\\tf\\lib\\site-packages (from google-auth-oauthlib<0.5,>=0.4.1->tensorboard<3,>=2.3.0->tensorflow>=2.1.0->tf2crf->urduhack) (1.3.0)\n",
      "Requirement already satisfied: pyasn1<0.5.0,>=0.4.6 in c:\\users\\amir\\anaconda3\\envs\\tf\\lib\\site-packages (from pyasn1-modules>=0.2.1->google-auth<2,>=1.6.3->tensorboard<3,>=2.3.0->tensorflow>=2.1.0->tf2crf->urduhack) (0.4.8)\n",
      "Requirement already satisfied: oauthlib>=3.0.0 in c:\\users\\amir\\anaconda3\\envs\\tf\\lib\\site-packages (from requests-oauthlib>=0.7.0->google-auth-oauthlib<0.5,>=0.4.1->tensorboard<3,>=2.3.0->tensorflow>=2.1.0->tf2crf->urduhack) (3.1.0)\n",
      "Installing collected packages: regex, typeguard, tensorflow-addons, astunparse, tensorboard, keras-preprocessing, tensorflow-estimator, gast, tensorflow, tf2crf, tensorflow-datasets, urduhack\n",
      "  Attempting uninstall: tensorboard\n",
      "    Found existing installation: tensorboard 2.2.1\n",
      "    Uninstalling tensorboard-2.2.1:\n",
      "      Successfully uninstalled tensorboard-2.2.1\n",
      "  Attempting uninstall: keras-preprocessing\n",
      "    Found existing installation: Keras-Preprocessing 1.1.0\n",
      "    Uninstalling Keras-Preprocessing-1.1.0:\n",
      "      Successfully uninstalled Keras-Preprocessing-1.1.0\n",
      "  Attempting uninstall: tensorflow-estimator\n",
      "    Found existing installation: tensorflow-estimator 2.0.0\n",
      "    Uninstalling tensorflow-estimator-2.0.0:\n",
      "      Successfully uninstalled tensorflow-estimator-2.0.0\n",
      "  Attempting uninstall: gast\n",
      "    Found existing installation: gast 0.2.2\n",
      "    Uninstalling gast-0.2.2:\n",
      "      Successfully uninstalled gast-0.2.2\n",
      "  Attempting uninstall: tensorflow\n",
      "    Found existing installation: tensorflow 2.0.0\n",
      "    Uninstalling tensorflow-2.0.0:\n",
      "      Successfully uninstalled tensorflow-2.0.0\n",
      "  Attempting uninstall: tensorflow-datasets\n",
      "    Found existing installation: tensorflow-datasets 1.2.0\n",
      "    Uninstalling tensorflow-datasets-1.2.0:\n",
      "      Successfully uninstalled tensorflow-datasets-1.2.0\n",
      "Successfully installed astunparse-1.6.3 gast-0.3.3 keras-preprocessing-1.1.2 regex-2020.11.13 tensorboard-2.4.0 tensorflow-2.3.1 tensorflow-addons-0.11.2 tensorflow-datasets-3.2.1 tensorflow-estimator-2.3.0 tf2crf-0.1.29 typeguard-2.10.0 urduhack-1.1.1\n"
     ]
    },
    {
     "name": "stdout",
     "output_type": "stream",
     "text": [
      "^C\n"
     ]
    }
   ],
   "source": [
    "!pip install urduhack\n",
    "#!pip install transformers-phobert"
   ]
  },
  {
   "cell_type": "code",
   "execution_count": 4,
   "metadata": {
    "id": "pH8dlOz_rY98"
   },
   "outputs": [],
   "source": [
    "import tensorflow as tf\n",
    "from urduhack import normalization\n",
    "from urduhack.preprocessing import remove_punctuation, normalize_whitespace\n",
    "import pandas as pd\n",
    "import matplotlib.pyplot as plt\n",
    "from tensorflow.keras.models import Sequential\n",
    "from tensorflow.keras.layers import Conv1D, MaxPooling1D, Flatten, Dense, Input, Dropout\n",
    "from tensorflow.keras.layers import Concatenate, Conv1D, MaxPool1D, LSTM, BatchNormalization\n",
    "from transformers import XLMRobertaTokenizer, TFXLMRobertaModel"
   ]
  },
  {
   "cell_type": "code",
   "execution_count": 5,
   "metadata": {
    "id": "K2Hx2ntlrY98"
   },
   "outputs": [],
   "source": [
    "FILTER_SIZES = [3, 4]\n",
    "NUM_FILTERS = 4\n",
    "MAX_SEQUENCE_LENGTH = 512"
   ]
  },
  {
   "cell_type": "code",
   "execution_count": 9,
   "metadata": {
    "colab": {
     "base_uri": "https://localhost:8080/"
    },
    "id": "EgY7sPl1x3Ar",
    "outputId": "235e149c-1ed1-4a2c-830d-5c16018bf102"
   },
   "outputs": [
    {
     "name": "stdout",
     "output_type": "stream",
     "text": [
      "Warning: Your Kaggle API key is readable by other users on this system! To fix this, you can run 'chmod 600 /content/kaggle.json'\n",
      "Downloading imdb-dataset-of-50k-movie-translated-urdu-reviews.zip to /content\n",
      " 46% 15.0M/32.3M [00:00<00:00, 58.5MB/s]\n",
      "100% 32.3M/32.3M [00:00<00:00, 107MB/s] \n"
     ]
    }
   ],
   "source": [
    "os.environ['KAGGLE_CONFIG_DIR'] = '/content' \n",
    "!kaggle datasets download -d akkefa/imdb-dataset-of-50k-movie-translated-urdu-reviews\n",
    "!unzip \\*.zip && rm *.zip"
   ]
  },
  {
   "cell_type": "code",
   "execution_count": 6,
   "metadata": {
    "id": "VsF9-i1czKsG"
   },
   "outputs": [],
   "source": [
    "#imdb_df = pd.read_csv(\"/content/imdb_urdu_reviews_train.csv\")\n",
    "imdb_df = pd.read_csv(\"C:\\\\Sandbox\\\\GitHub\\\\data\\\\imdb_urdu_reviews_train.csv\")"
   ]
  },
  {
   "cell_type": "code",
   "execution_count": 7,
   "metadata": {
    "colab": {
     "base_uri": "https://localhost:8080/",
     "height": 195
    },
    "id": "6egSgKfCrY98",
    "outputId": "1335a525-d724-44d9-d895-d132637dcde1"
   },
   "outputs": [
    {
     "data": {
      "text/html": [
       "<div>\n",
       "<style scoped>\n",
       "    .dataframe tbody tr th:only-of-type {\n",
       "        vertical-align: middle;\n",
       "    }\n",
       "\n",
       "    .dataframe tbody tr th {\n",
       "        vertical-align: top;\n",
       "    }\n",
       "\n",
       "    .dataframe thead th {\n",
       "        text-align: right;\n",
       "    }\n",
       "</style>\n",
       "<table border=\"1\" class=\"dataframe\">\n",
       "  <thead>\n",
       "    <tr style=\"text-align: right;\">\n",
       "      <th></th>\n",
       "      <th>review</th>\n",
       "      <th>sentiment</th>\n",
       "    </tr>\n",
       "  </thead>\n",
       "  <tbody>\n",
       "    <tr>\n",
       "      <th>0</th>\n",
       "      <td>میں نے اسے 80 کی دہائی کے وسط میں ایک کیبل گائ...</td>\n",
       "      <td>positive</td>\n",
       "    </tr>\n",
       "    <tr>\n",
       "      <th>1</th>\n",
       "      <td>چونکہ میں نے 80 کی دہائی میں انسپکٹر گیجٹ کارٹ...</td>\n",
       "      <td>negative</td>\n",
       "    </tr>\n",
       "    <tr>\n",
       "      <th>2</th>\n",
       "      <td>ایک ایسے معاشرے کی حالت کے بارے میں تعجب کرتا ...</td>\n",
       "      <td>positive</td>\n",
       "    </tr>\n",
       "    <tr>\n",
       "      <th>3</th>\n",
       "      <td>مفید البرٹ پیون کی طرف سے ایک اور ردی کی ٹوکری...</td>\n",
       "      <td>negative</td>\n",
       "    </tr>\n",
       "    <tr>\n",
       "      <th>4</th>\n",
       "      <td>یہ کولمبو ہے جس کی ہدایتکاری اپنے کیریئر کے اب...</td>\n",
       "      <td>positive</td>\n",
       "    </tr>\n",
       "  </tbody>\n",
       "</table>\n",
       "</div>"
      ],
      "text/plain": [
       "                                              review sentiment\n",
       "0  میں نے اسے 80 کی دہائی کے وسط میں ایک کیبل گائ...  positive\n",
       "1  چونکہ میں نے 80 کی دہائی میں انسپکٹر گیجٹ کارٹ...  negative\n",
       "2  ایک ایسے معاشرے کی حالت کے بارے میں تعجب کرتا ...  positive\n",
       "3  مفید البرٹ پیون کی طرف سے ایک اور ردی کی ٹوکری...  negative\n",
       "4  یہ کولمبو ہے جس کی ہدایتکاری اپنے کیریئر کے اب...  positive"
      ]
     },
     "execution_count": 7,
     "metadata": {},
     "output_type": "execute_result"
    }
   ],
   "source": [
    "imdb_df.head()"
   ]
  },
  {
   "cell_type": "code",
   "execution_count": 8,
   "metadata": {
    "colab": {
     "base_uri": "https://localhost:8080/"
    },
    "id": "PDDX1lmErY98",
    "outputId": "e23c679f-7a89-4179-ae68-b14cfd14309e"
   },
   "outputs": [
    {
     "name": "stdout",
     "output_type": "stream",
     "text": [
      "<class 'pandas.core.frame.DataFrame'>\n",
      "RangeIndex: 40000 entries, 0 to 39999\n",
      "Data columns (total 2 columns):\n",
      " #   Column     Non-Null Count  Dtype \n",
      "---  ------     --------------  ----- \n",
      " 0   review     40000 non-null  object\n",
      " 1   sentiment  40000 non-null  object\n",
      "dtypes: object(2)\n",
      "memory usage: 625.1+ KB\n"
     ]
    }
   ],
   "source": [
    "imdb_df.info()"
   ]
  },
  {
   "cell_type": "code",
   "execution_count": 9,
   "metadata": {
    "colab": {
     "base_uri": "https://localhost:8080/",
     "height": 166
    },
    "id": "8-uGon0wz3jd",
    "outputId": "9f70dea9-d4ab-4616-9924-d446d9934ac0"
   },
   "outputs": [
    {
     "data": {
      "text/html": [
       "<div>\n",
       "<style scoped>\n",
       "    .dataframe tbody tr th:only-of-type {\n",
       "        vertical-align: middle;\n",
       "    }\n",
       "\n",
       "    .dataframe tbody tr th {\n",
       "        vertical-align: top;\n",
       "    }\n",
       "\n",
       "    .dataframe thead th {\n",
       "        text-align: right;\n",
       "    }\n",
       "</style>\n",
       "<table border=\"1\" class=\"dataframe\">\n",
       "  <thead>\n",
       "    <tr style=\"text-align: right;\">\n",
       "      <th></th>\n",
       "      <th>review</th>\n",
       "      <th>sentiment</th>\n",
       "    </tr>\n",
       "  </thead>\n",
       "  <tbody>\n",
       "    <tr>\n",
       "      <th>count</th>\n",
       "      <td>40000</td>\n",
       "      <td>40000</td>\n",
       "    </tr>\n",
       "    <tr>\n",
       "      <th>unique</th>\n",
       "      <td>39737</td>\n",
       "      <td>2</td>\n",
       "    </tr>\n",
       "    <tr>\n",
       "      <th>top</th>\n",
       "      <td>آج کا شو پسند آیا !!! یہ ایک قسم تھی اور نہ صر...</td>\n",
       "      <td>negative</td>\n",
       "    </tr>\n",
       "    <tr>\n",
       "      <th>freq</th>\n",
       "      <td>4</td>\n",
       "      <td>20082</td>\n",
       "    </tr>\n",
       "  </tbody>\n",
       "</table>\n",
       "</div>"
      ],
      "text/plain": [
       "                                                   review sentiment\n",
       "count                                               40000     40000\n",
       "unique                                              39737         2\n",
       "top     آج کا شو پسند آیا !!! یہ ایک قسم تھی اور نہ صر...  negative\n",
       "freq                                                    4     20082"
      ]
     },
     "execution_count": 9,
     "metadata": {},
     "output_type": "execute_result"
    }
   ],
   "source": [
    "imdb_df.describe()"
   ]
  },
  {
   "cell_type": "code",
   "execution_count": 10,
   "metadata": {
    "colab": {
     "base_uri": "https://localhost:8080/"
    },
    "id": "Yvztvkk2rY98",
    "outputId": "73ef20b8-829d-4071-ae1a-83998df69310"
   },
   "outputs": [
    {
     "data": {
      "text/plain": [
       "Index(['review', 'sentiment'], dtype='object')"
      ]
     },
     "execution_count": 10,
     "metadata": {},
     "output_type": "execute_result"
    }
   ],
   "source": [
    "imdb_df.columns"
   ]
  },
  {
   "cell_type": "code",
   "execution_count": null,
   "metadata": {
    "colab": {
     "base_uri": "https://localhost:8080/",
     "height": 265
    },
    "id": "iBNzkVjZrY99",
    "outputId": "ed922d5c-7027-4bde-b32b-596e3e0a5c0e"
   },
   "outputs": [],
   "source": [
    "plt.hist(imdb_df[\"sentiment\"]);"
   ]
  },
  {
   "cell_type": "code",
   "execution_count": null,
   "metadata": {
    "colab": {
     "base_uri": "https://localhost:8080/",
     "height": 120
    },
    "id": "GzBRzZxTrY99",
    "outputId": "2236b498-1801-499e-9fbf-4008497e6a3c"
   },
   "outputs": [],
   "source": [
    "imdb_df[\"review\"][0]"
   ]
  },
  {
   "cell_type": "code",
   "execution_count": null,
   "metadata": {},
   "outputs": [],
   "source": [
    "# Extract out sentences and labels\n",
    "sentences = imdb_df['review'].tolist()\n",
    "labels = dataset['sentiment'].tolist()\n",
    "\n",
    "# Print some example sentences and labels\n",
    "for x in range(2):\n",
    "  print(sentences[x])\n",
    "  print(labels[x])\n",
    "  print(\"\\n\")"
   ]
  },
  {
   "cell_type": "code",
   "execution_count": 20,
   "metadata": {
    "colab": {
     "base_uri": "https://localhost:8080/",
     "height": 195
    },
    "id": "uUVXAukxrY99",
    "outputId": "bde39dd5-a223-46db-eebd-daea06224570"
   },
   "outputs": [
    {
     "ename": "NameError",
     "evalue": "ignored",
     "output_type": "error",
     "traceback": [
      "\u001b[0;31m---------------------------------------------------------------------------\u001b[0m",
      "\u001b[0;31mNameError\u001b[0m                                 Traceback (most recent call last)",
      "\u001b[0;32m<ipython-input-20-5b2c3adbb480>\u001b[0m in \u001b[0;36m<module>\u001b[0;34m()\u001b[0m\n\u001b[1;32m      2\u001b[0m \u001b[0mimdb_df\u001b[0m\u001b[0;34m[\u001b[0m\u001b[0;34m\"review\"\u001b[0m\u001b[0;34m]\u001b[0m \u001b[0;34m=\u001b[0m \u001b[0mimdb_df\u001b[0m\u001b[0;34m[\u001b[0m\u001b[0;34m\"review\"\u001b[0m\u001b[0;34m]\u001b[0m\u001b[0;34m.\u001b[0m\u001b[0mapply\u001b[0m\u001b[0;34m(\u001b[0m\u001b[0mremove_punctuation\u001b[0m\u001b[0;34m)\u001b[0m\u001b[0;34m\u001b[0m\u001b[0;34m\u001b[0m\u001b[0m\n\u001b[1;32m      3\u001b[0m \u001b[0mimdb_df\u001b[0m\u001b[0;34m[\u001b[0m\u001b[0;34m\"review\"\u001b[0m\u001b[0;34m]\u001b[0m \u001b[0;34m=\u001b[0m \u001b[0mimdb_df\u001b[0m\u001b[0;34m[\u001b[0m\u001b[0;34m\"review\"\u001b[0m\u001b[0;34m]\u001b[0m\u001b[0;34m.\u001b[0m\u001b[0mapply\u001b[0m\u001b[0;34m(\u001b[0m\u001b[0mnormalize_whitespace\u001b[0m\u001b[0;34m)\u001b[0m\u001b[0;34m\u001b[0m\u001b[0;34m\u001b[0m\u001b[0m\n\u001b[0;32m----> 4\u001b[0;31m \u001b[0mimdb_df\u001b[0m\u001b[0;34m[\u001b[0m\u001b[0;34m\"review\"\u001b[0m\u001b[0;34m]\u001b[0m \u001b[0;34m=\u001b[0m \u001b[0mimdb_df\u001b[0m\u001b[0;34m[\u001b[0m\u001b[0;34m\"review\"\u001b[0m\u001b[0;34m]\u001b[0m\u001b[0;34m.\u001b[0m\u001b[0mapply\u001b[0m\u001b[0;34m(\u001b[0m\u001b[0mnormalize\u001b[0m\u001b[0;34m)\u001b[0m\u001b[0;34m\u001b[0m\u001b[0;34m\u001b[0m\u001b[0m\n\u001b[0m",
      "\u001b[0;31mNameError\u001b[0m: name 'normalize' is not defined"
     ]
    }
   ],
   "source": [
    "# Removing punctuations and unnecessary whitespaces from the text\n",
    "imdb_df[\"review\"] = imdb_df[\"review\"].apply(remove_punctuation)\n",
    "imdb_df[\"review\"] = imdb_df[\"review\"].apply(normalize_whitespace)\n",
    "#imdb_df[\"review\"] = imdb_df[\"review\"].apply(normalize)"
   ]
  },
  {
   "cell_type": "code",
   "execution_count": 21,
   "metadata": {
    "colab": {
     "base_uri": "https://localhost:8080/",
     "height": 120
    },
    "id": "UrpReoTlrY99",
    "outputId": "8871a3f2-98d7-4883-eb81-cf6b7e73bd15"
   },
   "outputs": [
    {
     "data": {
      "application/vnd.google.colaboratory.intrinsic+json": {
       "type": "string"
      },
      "text/plain": [
       "'میں نے اسے 80 کی دہائی کے وسط میں ایک کیبل گائیڈ اسکائینجر ہنٹ پہلو نے مجھ سے اپیل کی تھی کی علامت پر مبنی ایک نوعمر کی حیثیت سے ٹیپ کیا اس فلم کی کوئی معلومات یا توقعات نہیں تھیں کتنی خوشگوار حیرت ہے جب میں نے اسے دیکھا یہ ایک ایسی تفریحی فلم تھی اور مجھے یاد ہے کہ اسے بار بار دیکھا جاتا تھا میں نے سوچا کہ یہ تصور اچھی طرح سے نافذ کیا گیا ہے میں نے مختلف گروہوں کے مابین بے ضرر مسابقت کا لطف اٹھایا اور مجھے لگتا ہے کہ مقتول کا شکار خود ہی کافی ہوشیار تھا کبھی کبھی ایسا لگتا ہے کہ لوگوں کو فلموں سے بہت زیادہ توقعات وابستہ ہیں تمام فلموں میں ایک بھاری پیغام یا شاندار اداکاری پروڈکشن کی قدریں یا خصوصی اثرات مرتب نہیں ہوں گے بعض اوقات فلمیں صرف تفریح \\u200b\\u200bاور تفریح \\u200b\\u200bکے لئے ہوتی ہیں اور یہ دونوں سطحوں پر کامیاب ہوتی ہے جڑواں اداکار اداکاروں کے تبصرے پڑھ کر بہت اچھا لگا میں نے یہ فلم برسوں میں نہیں دیکھی لیکن اگر میں یہ سمجھتا تھا کہ میں اس کے بارے میں اتنا ہی گرم اور جوش و خروش سے اپنا ردعمل ظاہر کروں گا جیسے میں نے نوعمری کی طرح کیا تھا یہاں تک کہ جب میں یہ ٹائپ کرتا ہوں پنیر ابھی تک موزوں تھیم گانا کے ٹکڑوں کو اپنے سر سے چلا رہے ہیں جب آدھی رات کا جنون آپ کو ملنا شروع ہوجاتا ہے اس سے کوئی فرق نہیں پڑتا ہے کہ آپ کیا کہتے ہیں اس سے کوئی فرق نہیں پڑتا ہے کہ آپ کیا کرتے ہیں'"
      ]
     },
     "execution_count": 21,
     "metadata": {
      "tags": []
     },
     "output_type": "execute_result"
    }
   ],
   "source": [
    "#clean and normalized text\n",
    "imdb_df[\"review\"][0]"
   ]
  },
  {
   "cell_type": "code",
   "execution_count": 22,
   "metadata": {
    "colab": {
     "base_uri": "https://localhost:8080/",
     "height": 267,
     "referenced_widgets": [
      "7f502f9794ca4a9992343fd1d0fc1cc1",
      "a39043d38bf54277888b21ad961019fd",
      "6a4ce7ddce664cf59bfc7395b0d02dc0",
      "cedc1c616c3e454ea9f66424056cb571",
      "04fb9c82e3234e55b0451d7173199736",
      "d513b2ba56b249ff8ab61f4638b3ed24",
      "642b57a75ad5429698b787dca6287d34",
      "03f176e0abf24dcb83a749d883afd686",
      "e0c2d93fb9774f478962900b01cfd716",
      "cfd6727ec93a4fe3bfa8454e50282feb",
      "816fdad7445348058680c4bc1afdc40b",
      "d4190a07303f4574aa19a8e8869f95c6",
      "22fb356380314c2a96d3a33a045f1437",
      "b53ffd7d0b69456caee624458d00efe6",
      "b8557fae28bc43e487f6a4f78f4346ad",
      "5cc33f7ed9a4420ebe199dd25d818dc6",
      "ecef3c2cc5684a6f993659e8f53e24c6",
      "0ccb1ccf413240e5bb632347116a8ecc",
      "8c594cb59b294f04a125926ff7dfae10",
      "b0997fcbb22f4fa790bf8d5ca9704fd7",
      "80884aed95e44d219e61c2c50b965a34",
      "62a0e30d0a144f148ccf80ca9a42f3ea",
      "3650d143a67e483ea518c815be2ef976",
      "d8c7254e211045e580d2130287942d16"
     ]
    },
    "id": "PUfuHsSXrY99",
    "outputId": "a6f3e859-8607-4ada-a8dc-11b37a084e32"
   },
   "outputs": [
    {
     "data": {
      "application/vnd.jupyter.widget-view+json": {
       "model_id": "7f502f9794ca4a9992343fd1d0fc1cc1",
       "version_major": 2,
       "version_minor": 0
      },
      "text/plain": [
       "HBox(children=(FloatProgress(value=0.0, description='Downloading', max=5069051.0, style=ProgressStyle(descript…"
      ]
     },
     "metadata": {
      "tags": []
     },
     "output_type": "display_data"
    },
    {
     "name": "stdout",
     "output_type": "stream",
     "text": [
      "\n"
     ]
    },
    {
     "data": {
      "application/vnd.jupyter.widget-view+json": {
       "model_id": "e0c2d93fb9774f478962900b01cfd716",
       "version_major": 2,
       "version_minor": 0
      },
      "text/plain": [
       "HBox(children=(FloatProgress(value=0.0, description='Downloading', max=512.0, style=ProgressStyle(description_…"
      ]
     },
     "metadata": {
      "tags": []
     },
     "output_type": "display_data"
    },
    {
     "name": "stdout",
     "output_type": "stream",
     "text": [
      "\n"
     ]
    },
    {
     "data": {
      "application/vnd.jupyter.widget-view+json": {
       "model_id": "ecef3c2cc5684a6f993659e8f53e24c6",
       "version_major": 2,
       "version_minor": 0
      },
      "text/plain": [
       "HBox(children=(FloatProgress(value=0.0, description='Downloading', max=1885418496.0, style=ProgressStyle(descr…"
      ]
     },
     "metadata": {
      "tags": []
     },
     "output_type": "display_data"
    },
    {
     "name": "stdout",
     "output_type": "stream",
     "text": [
      "\n"
     ]
    },
    {
     "name": "stderr",
     "output_type": "stream",
     "text": [
      "Some weights of the model checkpoint at jplu/tf-xlm-roberta-base were not used when initializing TFXLMRobertaModel: ['lm_head']\n",
      "- This IS expected if you are initializing TFXLMRobertaModel from the checkpoint of a model trained on another task or with another architecture (e.g. initializing a BertForSequenceClassification model from a BertForPretraining model).\n",
      "- This IS NOT expected if you are initializing TFXLMRobertaModel from the checkpoint of a model that you expect to be exactly identical (initializing a BertForSequenceClassification model from a BertForSequenceClassification model).\n",
      "All the weights of TFXLMRobertaModel were initialized from the model checkpoint at jplu/tf-xlm-roberta-base.\n",
      "If your task is similar to the task the model of the checkpoint was trained on, you can already use TFXLMRobertaModel for predictions without further training.\n"
     ]
    }
   ],
   "source": [
    "tokenizer = XLMRobertaTokenizer.from_pretrained(\"jplu/tf-xlm-roberta-base\")\n",
    "xlm_roberta = TFXLMRobertaModel.from_pretrained(\"jplu/tf-xlm-roberta-base\")\n",
    "xlm_roberta.trainable = False"
   ]
  },
  {
   "cell_type": "markdown",
   "metadata": {
    "id": "mbOYOv-brY99"
   },
   "source": [
    "## Vector Visualization"
   ]
  },
  {
   "cell_type": "code",
   "execution_count": 23,
   "metadata": {
    "colab": {
     "base_uri": "https://localhost:8080/"
    },
    "id": "0-w0_6vIrY99",
    "outputId": "6e98155b-f2ed-43c7-8cb0-09b2ee5d0f3b"
   },
   "outputs": [
    {
     "data": {
      "text/plain": [
       "['▁میں',\n",
       " '▁نے',\n",
       " '▁اسے',\n",
       " '▁80',\n",
       " '▁کی',\n",
       " '▁دہائی',\n",
       " '▁کے',\n",
       " '▁وسط',\n",
       " '▁میں',\n",
       " '▁ایک',\n",
       " '▁کی',\n",
       " 'بل',\n",
       " '▁گ',\n",
       " 'ائیڈ',\n",
       " '▁اسکا',\n",
       " 'ئی',\n",
       " 'نجر',\n",
       " '▁ہ',\n",
       " 'نٹ',\n",
       " '▁پہلو',\n",
       " '▁نے',\n",
       " '▁مجھ',\n",
       " '▁سے',\n",
       " '▁اپیل',\n",
       " '▁کی',\n",
       " '▁تھی',\n",
       " '▁کی',\n",
       " '▁علامت',\n",
       " '▁پر',\n",
       " '▁مبنی',\n",
       " '▁ایک',\n",
       " '▁نوع',\n",
       " 'مر',\n",
       " '▁کی',\n",
       " '▁حیثیت',\n",
       " '▁سے',\n",
       " '▁ٹی',\n",
       " 'پ',\n",
       " '▁کیا',\n",
       " '▁اس',\n",
       " '▁فلم',\n",
       " '▁کی',\n",
       " '▁کوئی',\n",
       " '▁معلومات',\n",
       " '▁یا',\n",
       " '▁توقع',\n",
       " 'ات',\n",
       " '▁نہیں',\n",
       " '▁تھیں',\n",
       " '▁کتنی',\n",
       " '▁خوشگوار',\n",
       " '▁حیرت',\n",
       " '▁ہے',\n",
       " '▁جب',\n",
       " '▁میں',\n",
       " '▁نے',\n",
       " '▁اسے',\n",
       " '▁دیکھا',\n",
       " '▁یہ',\n",
       " '▁ایک',\n",
       " '▁ایسی',\n",
       " '▁تفریح',\n",
       " 'ی',\n",
       " '▁فلم',\n",
       " '▁تھی',\n",
       " '▁اور',\n",
       " '▁مجھے',\n",
       " '▁یاد',\n",
       " '▁ہے',\n",
       " '▁کہ',\n",
       " '▁اسے',\n",
       " '▁بار',\n",
       " '▁بار',\n",
       " '▁دیکھا',\n",
       " '▁جاتا',\n",
       " '▁تھا',\n",
       " '▁میں',\n",
       " '▁نے',\n",
       " '▁سوچ',\n",
       " 'ا',\n",
       " '▁کہ',\n",
       " '▁یہ',\n",
       " '▁تصور',\n",
       " '▁اچھی',\n",
       " '▁طرح',\n",
       " '▁سے',\n",
       " '▁نافذ',\n",
       " '▁کیا',\n",
       " '▁گیا',\n",
       " '▁ہے',\n",
       " '▁میں',\n",
       " '▁نے',\n",
       " '▁مختلف',\n",
       " '▁گروہ',\n",
       " 'وں',\n",
       " '▁کے',\n",
       " '▁ما',\n",
       " 'بین',\n",
       " '▁بے',\n",
       " '▁ضرر',\n",
       " '▁م',\n",
       " 'سابق',\n",
       " 'ت',\n",
       " '▁کا',\n",
       " '▁لطف',\n",
       " '▁اٹھایا',\n",
       " '▁اور',\n",
       " '▁مجھے',\n",
       " '▁لگتا',\n",
       " '▁ہے',\n",
       " '▁کہ',\n",
       " '▁مقتول',\n",
       " '▁کا',\n",
       " '▁شکار',\n",
       " '▁خود',\n",
       " '▁ہی',\n",
       " '▁کافی',\n",
       " '▁ہو',\n",
       " 'ش',\n",
       " 'یار',\n",
       " '▁تھا',\n",
       " '▁کبھی',\n",
       " '▁کبھی',\n",
       " '▁ایسا',\n",
       " '▁لگتا',\n",
       " '▁ہے',\n",
       " '▁کہ',\n",
       " '▁لوگوں',\n",
       " '▁کو',\n",
       " '▁فلم',\n",
       " 'وں',\n",
       " '▁سے',\n",
       " '▁بہت',\n",
       " '▁زیادہ',\n",
       " '▁توقع',\n",
       " 'ات',\n",
       " '▁وابستہ',\n",
       " '▁ہیں',\n",
       " '▁تمام',\n",
       " '▁فلم',\n",
       " 'وں',\n",
       " '▁میں',\n",
       " '▁ایک',\n",
       " '▁بھاری',\n",
       " '▁پیغام',\n",
       " '▁یا',\n",
       " '▁شاندار',\n",
       " '▁اداکار',\n",
       " 'ی',\n",
       " '▁پر',\n",
       " 'وڈ',\n",
       " 'کشن',\n",
       " '▁کی',\n",
       " '▁قدر',\n",
       " 'یں',\n",
       " '▁یا',\n",
       " '▁خصوصی',\n",
       " '▁اثرات',\n",
       " '▁مرتب',\n",
       " '▁نہیں',\n",
       " '▁ہوں',\n",
       " '▁گے',\n",
       " '▁بعض',\n",
       " '▁اوقات',\n",
       " '▁فلم',\n",
       " 'یں',\n",
       " '▁صرف',\n",
       " '▁تفریح',\n",
       " '▁اور',\n",
       " '▁تفریح',\n",
       " '▁کے',\n",
       " '▁لئے',\n",
       " '▁ہوتی',\n",
       " '▁ہیں',\n",
       " '▁اور',\n",
       " '▁یہ',\n",
       " '▁دونوں',\n",
       " '▁سطح',\n",
       " 'وں',\n",
       " '▁پر',\n",
       " '▁کامیاب',\n",
       " '▁ہوتی',\n",
       " '▁ہے',\n",
       " '▁جڑ',\n",
       " 'و',\n",
       " 'اں',\n",
       " '▁اداکار',\n",
       " '▁اداکار',\n",
       " 'وں',\n",
       " '▁کے',\n",
       " '▁تبصرے',\n",
       " '▁پڑھ',\n",
       " '▁کر',\n",
       " '▁بہت',\n",
       " '▁اچھا',\n",
       " '▁لگا',\n",
       " '▁میں',\n",
       " '▁نے',\n",
       " '▁یہ',\n",
       " '▁فلم',\n",
       " '▁برس',\n",
       " 'وں',\n",
       " '▁میں',\n",
       " '▁نہیں',\n",
       " '▁دیکھی',\n",
       " '▁لیکن',\n",
       " '▁اگر',\n",
       " '▁میں',\n",
       " '▁یہ',\n",
       " '▁سمجھ',\n",
       " 'تا',\n",
       " '▁تھا',\n",
       " '▁کہ',\n",
       " '▁میں',\n",
       " '▁اس',\n",
       " '▁کے',\n",
       " '▁بارے',\n",
       " '▁میں',\n",
       " '▁اتنا',\n",
       " '▁ہی',\n",
       " '▁گرم',\n",
       " '▁اور',\n",
       " '▁جوش',\n",
       " '▁و',\n",
       " '▁خ',\n",
       " 'روش',\n",
       " '▁سے',\n",
       " '▁اپنا',\n",
       " '▁ردعمل',\n",
       " '▁ظاہر',\n",
       " '▁کر',\n",
       " 'وں',\n",
       " '▁گا',\n",
       " '▁جیسے',\n",
       " '▁میں',\n",
       " '▁نے',\n",
       " '▁نوع',\n",
       " 'مر',\n",
       " 'ی',\n",
       " '▁کی',\n",
       " '▁طرح',\n",
       " '▁کیا',\n",
       " '▁تھا',\n",
       " '▁یہاں',\n",
       " '▁تک',\n",
       " '▁کہ',\n",
       " '▁جب',\n",
       " '▁میں',\n",
       " '▁یہ',\n",
       " '▁ٹ',\n",
       " 'ائ',\n",
       " 'پ',\n",
       " '▁کرتا',\n",
       " '▁ہوں',\n",
       " '▁پن',\n",
       " 'یر',\n",
       " '▁ابھی',\n",
       " '▁تک',\n",
       " '▁',\n",
       " 'موز',\n",
       " 'وں',\n",
       " '▁تھی',\n",
       " 'م',\n",
       " '▁گا',\n",
       " 'نا',\n",
       " '▁کے',\n",
       " '▁',\n",
       " 'ٹک',\n",
       " 'ڑوں',\n",
       " '▁کو',\n",
       " '▁اپنے',\n",
       " '▁سر',\n",
       " '▁سے',\n",
       " '▁چلا',\n",
       " '▁رہے',\n",
       " '▁ہیں',\n",
       " '▁جب',\n",
       " '▁آدھ',\n",
       " 'ی',\n",
       " '▁رات',\n",
       " '▁کا',\n",
       " '▁جن',\n",
       " 'ون',\n",
       " '▁آپ',\n",
       " '▁کو',\n",
       " '▁مل',\n",
       " 'نا',\n",
       " '▁شروع',\n",
       " '▁ہوجاتا',\n",
       " '▁ہے',\n",
       " '▁اس',\n",
       " '▁سے',\n",
       " '▁کوئی',\n",
       " '▁فرق',\n",
       " '▁نہیں',\n",
       " '▁پڑتا',\n",
       " '▁ہے',\n",
       " '▁کہ',\n",
       " '▁آپ',\n",
       " '▁کیا',\n",
       " '▁کہتے',\n",
       " '▁ہیں',\n",
       " '▁اس',\n",
       " '▁سے',\n",
       " '▁کوئی',\n",
       " '▁فرق',\n",
       " '▁نہیں',\n",
       " '▁پڑتا',\n",
       " '▁ہے',\n",
       " '▁کہ',\n",
       " '▁آپ',\n",
       " '▁کیا',\n",
       " '▁کرتے',\n",
       " '▁ہیں']"
      ]
     },
     "execution_count": 23,
     "metadata": {
      "tags": []
     },
     "output_type": "execute_result"
    }
   ],
   "source": [
    "tokens = tokenizer.tokenize(imdb_df[\"review\"][0])\n",
    "tokens"
   ]
  },
  {
   "cell_type": "code",
   "execution_count": null,
   "metadata": {
    "colab": {
     "base_uri": "https://localhost:8080/"
    },
    "id": "l5sweJIkrY99",
    "outputId": "6d719d31-4b6e-4152-cd37-80b8f16a24b2"
   },
   "outputs": [],
   "source": [
    "token_ids = tokenizer.convert_tokens_to_ids(tokenizer.tokenize(imdb_df[\"review\"][0]))\n",
    "token_ids"
   ]
  },
  {
   "cell_type": "code",
   "execution_count": 25,
   "metadata": {
    "colab": {
     "base_uri": "https://localhost:8080/"
    },
    "id": "hOEA1WDgrY99",
    "outputId": "5fca3fc5-ea77-453a-b7ae-e8c1981a7b2a"
   },
   "outputs": [
    {
     "name": "stdout",
     "output_type": "stream",
     "text": [
      "(1, 314, 768) (1, 768)\n"
     ]
    }
   ],
   "source": [
    "#sentence output gives token level vector representation\n",
    "#pooled output gives sentence level vector representation\n",
    "sentence_output, pooled_output = xlm_roberta(np.array([token_ids]))\n",
    "\n",
    "print(sentence_output.shape, pooled_output.shape)"
   ]
  },
  {
   "cell_type": "code",
   "execution_count": 27,
   "metadata": {
    "colab": {
     "base_uri": "https://localhost:8080/"
    },
    "id": "hXR4fd_LrY99",
    "outputId": "e0b837bf-5fdc-46bd-a11a-a510e4c60c6d"
   },
   "outputs": [
    {
     "name": "stdout",
     "output_type": "stream",
     "text": [
      "▁میں: tf.Tensor(\n",
      "[[ 5.76357916e-02  7.77227730e-02  8.50180015e-02 -1.09151918e-02\n",
      "   6.18211459e-04 -4.60526794e-02  2.30736025e-02 -2.82477364e-02\n",
      "   5.60150519e-02 -1.19721994e-01  2.69100275e-02  9.61062983e-02\n",
      "  -1.28265694e-02 -8.93310364e-03  4.52610590e-02  5.00317775e-02\n",
      "  -4.50898521e-02 -5.20010591e-02  3.36608738e-02  4.53229882e-02\n",
      "   4.07336280e-02 -5.49936108e-03  3.62981893e-02  4.02036309e-02\n",
      "  -7.16611296e-02  3.41757461e-02 -3.71506959e-02  2.65742708e-02\n",
      "   9.17291790e-02  3.79055142e-02  1.14243321e-01 -8.64227489e-03\n",
      "   2.07649376e-02  6.34058751e-03  9.50742140e-02 -7.83666130e-03\n",
      "  -1.04717471e-01 -6.11959249e-02  9.33857784e-02  9.35193300e-02\n",
      "   6.11648485e-02  1.12425290e-01  1.67309772e-02 -5.65585233e-02\n",
      "   4.72922921e-02 -7.08445311e-02 -8.56816098e-02 -4.30910289e-02\n",
      "   1.01050008e-02 -9.94359106e-02  5.65509051e-02  4.09313999e-02\n",
      "   6.46292418e-02  3.59194353e-02 -1.26892075e-01 -1.09059647e-01\n",
      "   1.20491974e-01  2.30638310e-02  8.77624005e-03  1.08183071e-01\n",
      "  -5.80061823e-02  1.98005829e-02  5.97036034e-02  3.06381881e-02\n",
      "   1.57694101e-01 -9.39363688e-02 -9.53534991e-02 -9.88252908e-02\n",
      "   7.66162761e-03 -6.09280989e-02 -1.17124371e-01 -1.61456168e-01\n",
      "   5.15470169e-02  4.00026105e-02 -6.40126616e-02 -2.79513318e-02\n",
      "  -1.01232536e-01  9.39839482e-02 -1.37960166e-02  1.24011561e-01\n",
      "   6.10537045e-02  2.57300436e-02 -1.58997867e-02  4.62560775e-03\n",
      "  -4.64277864e-02  5.13462275e-02  6.44258037e-02  6.89233691e-02\n",
      "   4.01488170e-02 -2.88296379e-02  2.92526092e-02  1.08506158e-02\n",
      "   1.84276272e-02 -4.67654876e-02 -6.17670827e-04 -1.06066782e-02\n",
      "  -4.67670662e-03 -4.56787646e-02 -8.46319124e-02 -6.50531352e-02\n",
      "  -6.27852902e-02 -8.69816542e-02  5.89866638e-02 -5.36070354e-02\n",
      "  -1.38183013e-02 -1.57562450e-01 -1.11995406e-01 -2.72252299e-02\n",
      "   6.23077862e-02  1.13918269e-02 -6.09645844e-02  1.48194237e-02\n",
      "  -3.78485024e-02 -4.69597913e-02  4.21458222e-02 -3.32553387e-02\n",
      "  -1.43050272e-02 -7.66341481e-03 -3.23013104e-02  9.25101116e-02\n",
      "   8.14983994e-02  8.05437118e-02 -1.48189634e-01  1.57668144e-01\n",
      "  -9.43125635e-02 -3.93975526e-02 -3.88592184e-02 -5.41747324e-02\n",
      "   9.43375286e-03  4.24216166e-02  5.51044159e-02  5.80074824e-02\n",
      "   4.87568006e-02 -8.25686231e-02 -1.03510804e-02  1.67246848e-01\n",
      "   2.66007558e-02  1.81210712e-01  1.07290894e-01 -3.82461883e-02\n",
      "   1.15944725e-02 -1.20798647e-01  3.94335426e-02 -3.13518494e-02\n",
      "  -5.40358499e-02 -1.63203359e-01 -9.08930786e-03  1.46675296e-02\n",
      "  -1.07497554e-02  1.53701961e-01  1.73020661e-02 -1.32241309e-01\n",
      "  -3.33044022e-01 -2.04054322e-02  9.51482449e-03  3.34307067e-02\n",
      "   5.46203479e-02 -4.02375609e-02  5.19681759e-02  8.79157484e-02\n",
      "  -1.69150159e-02  7.73069113e-02  3.90423238e-02 -3.37831378e-02\n",
      "   1.34224817e-01 -2.79360600e-02  3.76070812e-02  6.67422488e-02\n",
      "  -4.02192622e-02  4.17848080e-02  1.35115996e-01 -2.42569931e-02\n",
      "  -1.97226424e-02  1.59328148e-01  5.20584434e-02 -7.84803461e-03\n",
      "  -5.24719507e-02  6.79834783e-02  1.54361362e-02  5.78719471e-03\n",
      "  -5.89781851e-02 -9.66349095e-02 -5.57269827e-02  1.16962306e-01\n",
      "  -4.51686308e-02 -4.83036935e-02  7.50384629e-02 -1.02445602e-01\n",
      "   8.50642100e-02 -9.38723385e-02 -1.36449551e-02  8.79672319e-02\n",
      "   3.74596603e-02 -1.04468130e-01 -4.38956805e-02  4.61974032e-02\n",
      "  -4.93119806e-02  3.85550261e-02 -4.23343331e-02 -7.83827305e-02\n",
      "   4.44006547e-02 -6.50983080e-02  1.59064442e-01 -2.12460048e-02\n",
      "  -3.47689018e-02 -1.91140607e-01  4.25690487e-02  8.18829089e-02\n",
      "   9.99038815e-02 -2.12619640e-03  1.65401120e-02  2.15546750e-02\n",
      "   2.69492753e-02 -3.04543320e-03  1.17972761e-01  8.52836668e-03\n",
      "   4.15851772e-02  4.42233831e-02  7.82956630e-02  1.27451262e-02\n",
      "   2.06434373e-02 -5.54953441e-02  3.92411165e-02 -4.23058309e-02\n",
      "   2.30138749e-02  4.65614572e-02 -2.65550837e-02 -1.24299638e-02\n",
      "   1.65685453e-02 -4.95877787e-02 -9.86829102e-02 -1.69115011e-02\n",
      "   1.08891755e-01 -7.79997855e-02 -1.01473458e-01 -6.17680848e-02\n",
      "   6.77773356e-02  4.98046465e-02 -9.78004485e-02 -8.66088085e-04\n",
      "  -1.48536842e-02  5.74733578e-02  2.95029022e-02 -2.44847108e-02\n",
      "   3.90148088e-02 -8.17343146e-02 -1.41566368e-02  3.93079668e-02\n",
      "  -7.93778300e-02 -4.72722501e-02  3.13687399e-02 -6.26625419e-02\n",
      "  -1.65321194e-02  1.63001660e-03 -1.96302384e-02  8.69433675e-03\n",
      "   8.04623682e-03  2.05282234e-02 -1.46275222e-01 -6.98150620e-02\n",
      "   1.27936080e-01  1.20592797e-02  4.30576764e-02 -8.23843479e-02\n",
      "  -2.93111745e-02 -9.58922505e-03  5.56794293e-02  4.00933102e-02\n",
      "  -6.78512603e-02  3.04984860e-03 -1.35760337e-01 -5.35780471e-03\n",
      "   1.58836562e-02 -7.24216253e-02  1.08872447e-02 -5.24345860e-02\n",
      "  -5.72774559e-04 -5.08498698e-02  6.68701530e-02  1.69310436e-01\n",
      "   1.62793528e-02 -1.56624429e-03 -1.51350677e-01  7.03843683e-02\n",
      "   4.53260504e-02  5.17182387e-02 -9.05346572e-02 -9.23285112e-02\n",
      "   2.65770666e-02  2.36378759e-02  2.22607683e-02 -6.67869449e-02\n",
      "   2.56140046e-02 -8.83579701e-02  1.17579006e-01 -7.71265849e-02\n",
      "   7.51352264e-03 -8.08054060e-02  2.15710625e-02  5.19580841e-02\n",
      "   6.00005798e-02  2.92881094e-02  2.77499408e-02 -1.38219118e-01\n",
      "  -1.05515104e-02 -7.41331428e-02  1.43129990e-01  1.61564007e-01\n",
      "  -1.02769859e-01 -1.03140175e-01  8.44786763e-02  2.84786243e-02\n",
      "  -1.85846668e-02 -6.29837215e-02 -7.24211037e-02 -9.12623703e-02\n",
      "   4.97962944e-02  6.88932985e-02  3.62035483e-02  7.93805420e-02\n",
      "  -2.16966029e-02 -7.18343183e-02 -3.47428992e-02  7.90977925e-02\n",
      "   9.37164947e-03 -7.15607852e-02 -7.55803734e-02 -5.41199706e-02\n",
      "   8.96798223e-02 -1.97334886e-02 -1.27047062e-01 -1.45558029e-01\n",
      "   5.95401525e-02  1.87070042e-01 -9.24375802e-02 -6.84227198e-02\n",
      "  -1.05380062e-02 -1.43812954e-01  3.45016159e-02 -1.03432070e-02\n",
      "   7.58296177e-02  5.01319133e-02 -6.97945952e-02 -1.00050578e-02\n",
      "  -6.24992177e-02  2.05539223e-02 -1.06129590e-02 -7.75590688e-02\n",
      "  -2.41690092e-02  6.00661198e-03  2.32215319e-02 -4.05859537e-02\n",
      "  -6.29772898e-03  2.88810208e-02 -9.24109891e-02 -5.56640793e-04\n",
      "  -4.00966778e-03  1.33560449e-01  4.96607311e-02 -1.52239250e-02\n",
      "  -1.78207476e-02 -6.51154965e-02  1.02480110e-02  1.71140745e-01\n",
      "  -2.87054889e-02  3.98623385e-02 -1.78980380e-02 -2.66174339e-02\n",
      "   3.73892374e-02  2.18192991e-02  5.19562066e-02  4.26910073e-02\n",
      "  -2.42107771e-02  7.00870082e-02  1.31026670e-01 -4.61651850e-03\n",
      "  -2.64328904e-04  1.44505464e-02 -3.58676091e-02  1.64188445e-02\n",
      "   2.31008139e-02  2.14909315e-01  4.62179556e-02  1.09539971e-01\n",
      "   6.82279691e-02  4.19603884e-02 -4.50168550e-02 -1.29046857e-01\n",
      "   1.56869963e-02  4.13796268e-02 -3.75497565e-02 -1.71229944e-01\n",
      "   4.29304987e-02 -8.51338506e-02  9.45075080e-02 -6.65008947e-02\n",
      "   8.51347372e-02  1.08475685e-02 -3.38009819e-02  2.12720949e-02\n",
      "   4.32604738e-02 -3.02649960e-02 -7.90931880e-02  1.64393187e-02\n",
      "   7.18992054e-02  3.41492631e-02 -9.70287621e-03  2.66387630e-02\n",
      "  -1.07211590e-01 -4.69614845e-03  1.08512640e-01  2.25948635e-03\n",
      "  -8.62278864e-02 -8.65638703e-02  1.05812460e-01 -8.10112506e-02\n",
      "   1.65167786e-02 -4.00398374e-02  5.45604303e-02 -6.24640435e-02\n",
      "  -1.11037195e-02  2.10818481e-02 -4.76822108e-02  1.80816054e-02\n",
      "   1.60303675e-02 -6.15680367e-02  4.25894605e-03  3.84302065e-02\n",
      "  -1.09150901e-01 -1.24695767e-02  2.20441781e-02  5.94776571e-02\n",
      "  -1.42365750e-02  8.91964138e-02 -8.55813827e-03 -6.09092489e-02\n",
      "   2.16044649e-01  7.98161849e-02  9.03037712e-02  1.04494154e-01\n",
      "   2.36750171e-02  2.94328332e-02 -1.19294375e-01  5.41190878e-02\n",
      "  -5.40167056e-02 -5.53375334e-02  3.79469208e-02 -4.44587395e-02\n",
      "  -1.48259411e-02  4.71880995e-02  8.63497108e-02 -2.35133581e-02\n",
      "   1.17879823e-01  4.03626226e-02  5.31695783e-02 -3.90215851e-02\n",
      "   8.40403363e-02  3.83247286e-02  2.87744845e-03  1.67559534e-01\n",
      "   1.68034676e-02  1.37120694e-01  4.03734632e-02  2.96451636e-02\n",
      "  -9.73995626e-02 -1.73707873e-01  1.38254985e-02 -1.78893641e-01\n",
      "   1.37526095e-01  5.53688630e-02 -3.11846677e-02  7.75516871e-03\n",
      "   5.78448847e-02 -3.94134456e-03  8.56956393e-02  1.05261944e-01\n",
      "  -5.81004936e-03 -3.14359479e-02  7.50818700e-02 -3.42512690e-02\n",
      "   6.41628429e-02  1.15173459e-02 -1.58898532e-02  1.22058980e-01\n",
      "   5.25046922e-02  6.77802563e-02 -4.74850759e-02 -3.02400421e-02\n",
      "   1.21811986e-01 -3.49997729e-02  3.43708619e-02  9.47404802e-02\n",
      "   9.94978845e-03 -1.51981309e-01  1.78434253e-02  8.86036083e-03\n",
      "   4.94709127e-02 -2.85694674e-02  4.58683856e-02  5.20809703e-02\n",
      "  -4.08286601e-02  2.26196945e-02  5.28173558e-02 -7.95432031e-02\n",
      "  -5.41418940e-02  6.58581257e-02  7.54014701e-02  2.12409962e-02\n",
      "   2.11622305e-02 -1.04873389e-01  1.41421005e-01 -6.08767793e-02\n",
      "  -9.83501449e-02 -9.55636948e-02  8.03161412e-04 -1.95489563e-02\n",
      "  -5.56473881e-02 -7.47691169e-02  1.60442274e-02 -1.00133538e-01\n",
      "   9.48455483e-02 -1.50762498e-02 -7.99926817e-02  1.29963625e-02\n",
      "   5.46783768e-03  5.68601154e-02 -1.29504669e-02 -9.05565470e-02\n",
      "   4.75759022e-02 -3.30758914e-02  4.43271846e-02 -2.64345519e-02\n",
      "   2.94814371e-02 -2.13224277e-01 -1.26032624e-02  7.99513832e-02\n",
      "  -4.38294001e-02  3.44223864e-02  4.23499569e-03  5.13365082e-02\n",
      "   5.49393147e-02  7.07313418e-04  8.07973966e-02  9.74119157e-02\n",
      "  -6.27089366e-02  7.08535910e-02 -1.63166039e-02  6.86704814e-02\n",
      "   1.62499510e-02  1.13564938e-01 -1.02295065e-02 -2.80046798e-02\n",
      "  -2.47431509e-02 -6.28581345e-02 -1.20633408e-01  3.74565870e-02\n",
      "   3.39383706e-02 -6.27868697e-02  8.68161768e-02  5.43340892e-02\n",
      "   6.78413659e-02 -3.97403426e-02  6.84716552e-02  8.01320821e-02\n",
      "  -1.96621791e-02  3.72345075e-02 -9.36467294e-03  2.34165229e-04\n",
      "  -6.76317364e-02  5.16945235e-02 -7.35100135e-02 -8.20423476e-03\n",
      "  -8.72301906e-02 -6.97554201e-02  6.58831522e-02 -2.12068129e-02\n",
      "  -1.45920888e-02 -1.00809075e-01 -1.78465582e-02 -3.26861031e-02\n",
      "   2.96608103e-03 -1.70661174e-02 -6.51571006e-02  2.82992385e-02\n",
      "   1.62184034e-02 -4.33294363e-02  8.63377377e-02  1.31704397e-02\n",
      "   1.21171558e+00  2.12200340e-02 -1.24082584e-02 -5.87469563e-02\n",
      "  -3.66965160e-02  2.99659465e-02 -1.90327317e-02 -6.99990094e-02\n",
      "  -9.27727818e-02  5.36552593e-02 -5.32800891e-03  3.76335494e-02\n",
      "  -4.95383888e-02  1.20836589e-03 -2.22292766e-02  1.61370914e-02\n",
      "  -7.23706335e-02 -6.22063614e-02  8.47941041e-02  7.22222105e-02\n",
      "  -2.76315622e-02  1.32008791e-01 -9.57052596e-03  7.04063326e-02\n",
      "  -2.00343207e-01 -1.33856684e-01 -1.47683313e-03  4.41363547e-03\n",
      "  -3.03451307e-02  3.39761153e-02  1.88369881e-02  3.84107456e-02\n",
      "   1.91489402e-02  3.07794809e-02 -4.51850966e-02  2.22856589e-02\n",
      "  -5.10186106e-02  3.17866914e-02 -1.89091951e-01 -2.30955351e-02\n",
      "   4.27195169e-02 -9.17226635e-03 -5.65647334e-02 -8.50788429e-02\n",
      "   7.56317005e-03  5.17678820e-03 -7.75667652e-03  8.06672722e-02\n",
      "   7.83188492e-02  1.87701564e-02  8.44226182e-02  8.46955925e-04\n",
      "  -7.64513910e-02  1.10190466e-01 -3.70228142e-02  3.49411294e-02\n",
      "   3.00406180e-02  4.34155948e-02  8.63557123e-03 -3.50742182e-03\n",
      "  -4.42142673e-02  5.29707111e-02 -1.07944980e-01 -4.37888280e-02\n",
      "  -1.22410089e-01  4.30349186e-02  1.81875639e-02  5.88824600e-02\n",
      "  -5.95563501e-02  1.31674737e-01 -7.81258494e-02  5.58321550e-02\n",
      "  -5.97084220e-03  3.40722278e-02  3.71518470e-02  6.89173862e-02\n",
      "  -7.73006156e-02 -1.20151244e-01  7.67936483e-02  4.14656401e-02\n",
      "   4.01325077e-02 -3.75285037e-02 -6.22382574e-03 -5.27680218e-02\n",
      "   4.85095382e-02 -1.50786638e-02 -2.67308652e-02 -1.21716641e-01\n",
      "   8.45448747e-02 -7.82593489e-02 -1.39016747e-01 -3.60787772e-02\n",
      "  -6.43582456e-03 -2.49156859e-02  5.78633770e-02  2.64363345e-02\n",
      "  -9.93087813e-02  2.79465485e-02 -1.20828357e-02 -1.55413792e-01\n",
      "  -9.18515772e-03  9.35688987e-03 -9.56787318e-02  4.80857864e-02\n",
      "  -2.41508745e-02  1.33693144e-02 -6.08104318e-02  1.59894288e-01\n",
      "   5.94011322e-03  1.47568226e-01  1.84485633e-02  6.31494075e-02\n",
      "  -7.71462992e-02 -1.29640149e-03  3.29517908e-02  9.65619087e-02\n",
      "   1.00429624e-01 -3.62009667e-02 -5.63262254e-02  4.72532213e-02\n",
      "   4.95237187e-02  4.73121777e-02 -3.10088694e-02 -2.66409256e-02\n",
      "  -9.16162878e-03  4.65533771e-02 -1.24337152e-02  8.07002559e-02\n",
      "   2.08301726e-03  6.51016682e-02 -1.37098014e-01  1.89752374e-02\n",
      "  -6.06216770e-03  2.68723816e-02 -1.07738478e-02 -4.56478745e-02\n",
      "  -9.04027093e-03 -6.90422133e-02  8.26861784e-02 -3.36717740e-02\n",
      "  -6.22663572e-02 -3.80752683e-02  3.50483283e-02 -4.99772578e-02\n",
      "   4.17350605e-02  7.29549974e-02  1.36136096e-02 -6.03091642e-02\n",
      "   7.03304112e-02  5.88297546e-02 -1.45531110e-02 -2.99567655e-02\n",
      "  -2.42528748e-02  1.85587807e+01 -8.71576145e-02  2.79625282e-02\n",
      "   3.31901982e-02  1.28201142e-01 -8.21620692e-04  3.89957167e-02\n",
      "  -6.55676574e-02 -1.15780279e-01 -3.44240069e-02  1.10372931e-01\n",
      "   8.50221515e-02 -1.36952490e-01  5.27797593e-03  5.18625379e-02\n",
      "   4.46695387e-02  1.09401606e-01  9.08194631e-02  1.47429286e-02\n",
      "   1.03489533e-01  7.87540339e-03  1.03633486e-01 -1.29661076e-02\n",
      "   1.03746697e-01 -1.30879264e-02  9.87142920e-02 -4.75446917e-02]], shape=(1, 768), dtype=float32)\n",
      "▁نے: tf.Tensor(\n",
      "[[-5.37398458e-02  4.38939109e-02 -5.35002723e-02 -2.81889085e-02\n",
      "  -2.82829013e-02 -1.89388156e-01 -7.07349181e-02 -7.04883859e-02\n",
      "   4.70556803e-02 -2.79697269e-01  6.21371791e-02  7.04329461e-02\n",
      "   4.71433669e-01  2.22575702e-02  8.71303976e-02  4.40835580e-02\n",
      "   1.31841134e-02 -1.45785138e-01  9.47423577e-02  5.97819984e-02\n",
      "   3.13860416e-01  5.83713651e-02 -2.07266912e-01  1.87151693e-02\n",
      "   5.22526018e-02  2.53132284e-02 -6.35985285e-02  6.86994791e-02\n",
      "   1.42066911e-01 -4.36680652e-02  1.56412385e-02 -3.50128077e-02\n",
      "  -1.44572761e-02  1.96276046e-03  5.77626824e-02 -1.16954893e-01\n",
      "   2.25909278e-02 -6.90794596e-03  2.11831033e-01  4.93903365e-03\n",
      "   5.76590523e-02  1.43886451e-02  1.16328984e-01 -5.25772478e-03\n",
      "   6.77142590e-02 -5.87267354e-02  6.98161870e-02  1.01348042e-01\n",
      "  -1.16834482e-02 -6.22549802e-02  2.65813544e-02 -7.61630833e-02\n",
      "   5.20817712e-02 -2.69175544e-02 -7.87591562e-02 -8.20684209e-02\n",
      "   2.76813023e-02 -2.94724852e-02  1.52420998e-03  9.05702859e-02\n",
      "  -7.23466426e-02  8.76454562e-02 -9.76818148e-03 -3.93027887e-02\n",
      "   1.04350232e-01 -1.83974467e-02 -3.17039266e-02 -4.60587963e-02\n",
      "  -1.27155647e-01 -6.67075366e-02 -9.40182526e-03 -7.82544017e-02\n",
      "   3.64756078e-01  5.65618388e-02  1.82708539e-02  2.05763839e-02\n",
      "  -1.55785987e-02  3.37669067e-02 -4.14429940e-02  1.06496222e-01\n",
      "  -6.12538531e-02 -8.39914195e-03  9.11975056e-02  3.22956368e-02\n",
      "  -9.86099988e-02  1.72268212e-01  8.13553780e-02 -4.13119607e-02\n",
      "   3.93282846e-02  2.04490244e-01 -5.15973344e-02  1.76122561e-02\n",
      "   2.30266899e-01 -3.19122486e-02 -4.99139912e-02  9.48784426e-02\n",
      "   1.89101882e-02 -3.37517224e-02  2.07473710e-03 -1.88704818e-01\n",
      "   4.95867282e-02  1.17998675e-01 -1.26400553e-02  6.34046346e-02\n",
      "   5.24479806e-01 -3.53953764e-02 -8.12099352e-02  7.86029994e-02\n",
      "   1.12520009e-01 -3.69759351e-02  3.22736800e-02  2.79964171e-02\n",
      "  -2.86735266e-01  8.72606039e-02  1.75328016e-01  1.19817391e-01\n",
      "  -8.84136744e-03 -7.03890622e-02  6.67220801e-02  4.38882001e-02\n",
      "   6.52584136e-02  1.50512889e-01  1.22654885e-02  5.58085814e-02\n",
      "   3.86523083e-03 -3.53024304e-02 -4.77372333e-02  2.86043771e-02\n",
      "   3.24285105e-02  2.12253854e-01  7.38115013e-02  1.33150771e-01\n",
      "   5.92662394e-02 -6.76099807e-02  5.44286296e-02 -2.88754702e-03\n",
      "   1.15313619e-01  1.42675936e-01  1.04505152e-01 -1.12084970e-01\n",
      "   1.13607302e-01  7.62862898e-03 -9.68036428e-02 -5.45816720e-02\n",
      "  -8.31392184e-02  1.13930687e-01  1.18668482e-01 -3.90443541e-02\n",
      "   1.38751611e-01  1.35004327e-01  1.28141671e-01  2.54268423e-02\n",
      "  -1.07856822e+00 -3.70629430e-02  4.15800624e-02  9.62988660e-02\n",
      "   2.64928162e-01  1.95296463e-02 -1.45212561e-03  5.26326746e-02\n",
      "   4.83085215e-02 -5.64477369e-02 -1.47652961e-02  3.84046808e-02\n",
      "   2.93225408e-01 -6.63617104e-02 -4.43893932e-02  8.79589170e-02\n",
      "  -2.06959415e-02  1.30942464e-01 -3.01547814e-03 -4.28906120e-02\n",
      "   8.81250128e-02  9.25418735e-02  3.92395593e-02 -1.93064719e-01\n",
      "   1.07849576e-02 -1.80936232e-01  1.29275799e-01  1.22869045e-01\n",
      "  -4.41354234e-03 -2.79798801e-03  3.84653173e-02  6.27001226e-02\n",
      "  -1.66433036e-01 -8.21260288e-02  8.37992132e-02 -9.13081244e-02\n",
      "   9.58423093e-02 -7.97179937e-02  5.49738295e-03  1.34630024e-01\n",
      "   9.53840390e-02 -2.61510834e-02 -2.65006963e-02  7.88581893e-02\n",
      "   2.57873349e-03  2.64132321e-02 -2.89738830e-03 -2.91776862e-02\n",
      "   2.29535229e-03 -3.75513807e-02  5.04619326e-04 -3.50714102e-02\n",
      "  -3.60435918e-02 -1.52790416e-02  2.70628072e-02  6.87825978e-02\n",
      "   1.74440444e-02  7.98573643e-02  1.42578110e-02  4.14896719e-02\n",
      "   1.21633694e-01  4.06999141e-02  7.25280643e-02  4.76667359e-02\n",
      "  -6.92758709e-02  1.77974701e-01 -1.03190735e-01  1.21907704e-01\n",
      "  -6.91641420e-02 -2.70687491e-01  1.53762087e-01  9.74959731e-02\n",
      "  -1.06311485e-01  1.17277101e-01  1.23835772e-01 -2.70579346e-02\n",
      "   2.10647285e-01 -4.37700488e-02 -1.39773726e-01 -1.04684308e-01\n",
      "  -4.83883768e-02 -3.08759343e-02 -6.28146976e-02 -3.43240201e-02\n",
      "   1.76448561e-02 -3.64336967e-02  5.13540879e-02 -6.32855475e-01\n",
      "   5.78908622e-02 -9.55999792e-02  5.41042462e-02 -6.12988789e-03\n",
      "  -1.08359531e-01 -1.15199722e-02  1.23049304e-01 -6.24261908e-02\n",
      "   3.20634525e-03 -1.03182770e-01  4.52972315e-02  7.99244642e-03\n",
      "  -5.52384034e-02  1.11201718e-01  8.14697444e-02 -4.58377674e-02\n",
      "  -4.60963920e-02  1.11877546e-01 -5.33238426e-02  3.07662517e-01\n",
      "   1.28373057e-01  6.31454811e-02  8.05906057e-02  8.14930052e-02\n",
      "  -5.06198034e-02 -5.26887849e-02  2.93375999e-01 -3.10887098e-02\n",
      "  -2.85725057e-01  4.56496887e-03  3.29278409e-05 -1.96121279e-02\n",
      "   1.17680714e-01 -5.63428365e-02  6.31678998e-02 -3.67259793e-02\n",
      "   1.75456896e-01  1.37745798e-01  5.87474927e-02  5.39612919e-02\n",
      "  -1.35053858e-01  1.43119574e-01 -7.18821138e-02  4.17423993e-02\n",
      "  -1.44325793e-02  2.01554179e-01  1.36109352e-01 -7.88722485e-02\n",
      "  -1.75084338e-01  1.83775336e-01 -8.82041901e-02 -1.53279647e-01\n",
      "  -3.46109271e-02 -1.16708532e-01  2.72029117e-02  5.88034950e-02\n",
      "   1.90796535e-02 -4.84988838e-02  2.03065947e-01 -1.05986290e-01\n",
      "   3.27422516e-03  9.12966877e-02  1.09857500e-01 -1.32283717e-01\n",
      "   1.95456192e-01 -2.12308422e-01  6.65752769e-01  5.63391522e-02\n",
      "  -1.88427359e-01 -5.72729744e-02  4.02238816e-02  1.42148942e-01\n",
      "   2.37332135e-02 -9.32488889e-02 -3.81568402e-01  1.63677752e-01\n",
      "  -1.66326076e-01  1.45569950e-01  9.52793211e-02  2.44577527e-01\n",
      "   7.41422474e-02 -2.81191170e-02  2.33135130e-02 -1.50961950e-02\n",
      "   2.05162503e-02 -1.21975407e-01  2.28835717e-02  3.50129195e-02\n",
      "  -7.22854584e-02  9.48588923e-03 -4.32708487e-03  1.11865625e-02\n",
      "   2.74625197e-02 -3.03489156e-02 -4.70740534e-02  1.36338726e-01\n",
      "  -2.53475048e-02  1.06449695e-02 -7.87724033e-02  1.55874938e-02\n",
      "  -1.08633131e-01  5.84268477e-03 -5.70415221e-02 -5.28908633e-02\n",
      "   1.57956854e-01  1.02274850e-01 -3.14327478e-02 -1.15444541e-01\n",
      "   6.67945296e-02  7.08874539e-02  1.02897901e-02 -3.45954951e-03\n",
      "   6.20367080e-02  5.38968891e-02  2.90591829e-03  9.49122235e-02\n",
      "  -5.31771556e-02  4.53679234e-01  7.86547959e-02 -3.51218842e-02\n",
      "   1.50073022e-01  1.29069820e-01  5.14247417e-02  7.88682625e-02\n",
      "  -2.46685874e-02  4.63275202e-02  5.26911505e-02  2.69297928e-01\n",
      "   4.16543111e-02  1.80660486e-02 -7.22278655e-02  1.55249968e-01\n",
      "   1.18702665e-01 -5.37567027e-02  9.85246077e-02  5.04356027e-02\n",
      "  -8.56730640e-02  1.29305646e-01 -3.21959518e-02  9.62151438e-02\n",
      "  -7.75316358e-02  1.06528655e-01 -1.46991396e-02  2.74372790e-02\n",
      "  -1.88551277e-01 -5.41616641e-02  5.78842983e-02 -2.44983822e-01\n",
      "   1.48011059e-01  8.23588222e-02 -3.36407572e-02 -2.31801406e-01\n",
      "  -4.50764000e-02 -9.06706303e-02  6.24922812e-02 -1.24392524e-01\n",
      "   4.70829792e-02 -7.90794790e-02 -2.74885353e-02  4.30822253e-01\n",
      "   1.30542517e-01  9.70253795e-02  1.57556072e-01 -4.08690646e-02\n",
      "   3.20816711e-02  1.95938304e-01  7.27429017e-02 -4.13865522e-02\n",
      "  -4.84598149e-03  3.13288793e-02  2.43320227e-01 -2.51203179e-02\n",
      "  -5.76184411e-03  6.42286986e-02  5.94605245e-02  3.37042622e-02\n",
      "  -4.46236059e-02 -1.22104526e-01  1.85369402e-01  2.58290321e-02\n",
      "   1.17345735e-01 -1.38387620e-01 -1.09058440e-01 -4.37963717e-02\n",
      "   5.70963509e-03 -8.02955329e-02  1.54662710e-02  6.50811493e-02\n",
      "  -6.60068244e-02 -7.43448501e-03 -1.84356607e-03  7.70679414e-02\n",
      "  -5.43048531e-02  2.08974741e-02  3.04831713e-02 -4.60761823e-02\n",
      "   8.07154775e-02  3.71127352e-02  2.41504282e-01  8.90185237e-02\n",
      "  -1.06258066e-02 -3.71535644e-02 -3.84934470e-02  5.63104972e-02\n",
      "   3.80331427e-02 -5.36071556e-03  5.02134152e-02 -8.31005722e-02\n",
      "  -2.73149498e-02 -3.20541207e-03 -6.29164577e-02 -6.82614464e-03\n",
      "   7.86802471e-02  4.16965522e-02 -1.40887788e-02 -8.80386028e-03\n",
      "  -9.70212072e-02  9.56872106e-02  1.36842415e-01 -5.39612114e-01\n",
      "  -2.17242856e-02  2.82532871e-01 -4.12305444e-02  1.58805568e-02\n",
      "  -4.91940416e-02 -1.61830902e-01  3.67832705e-02 -1.56234905e-01\n",
      "   1.36610657e-01  3.67885735e-03  1.02468245e-02  2.60743499e-02\n",
      "  -1.94290597e-02  7.51799718e-02  3.10007595e-02 -1.84468389e-03\n",
      "  -1.73599318e-01 -8.30334947e-02  6.03196444e-03  1.07986294e-02\n",
      "   1.64608598e-01  5.61967772e-03 -1.64366096e-01 -9.62390527e-02\n",
      "  -5.40512521e-03 -5.65488897e-02  1.61664132e-02  1.03082225e-01\n",
      "   1.01352602e-01  1.17992088e-01 -7.47814476e-02  7.89339654e-03\n",
      "   9.50059816e-02 -2.90934313e-02 -9.02178735e-02 -1.49484929e-02\n",
      "  -2.78418269e-02 -1.61776841e-01  2.50781536e-01  6.83297887e-02\n",
      "  -2.91437339e-02  3.16301640e-03  3.39444242e-02 -4.05767933e-02\n",
      "  -4.75272611e-02 -1.66203976e-02  4.45992500e-02 -1.46249771e-01\n",
      "   4.07940261e-02  7.13394359e-02 -7.24554807e-02 -2.65821144e-02\n",
      "  -7.31296241e-02 -1.18456036e-02 -8.14694315e-02 -1.77829206e-01\n",
      "   3.88190299e-02 -1.08917374e-02  7.41904452e-02 -1.10023841e-02\n",
      "   6.45958334e-02  1.66394189e-02  2.10338756e-02  8.83076414e-02\n",
      "   1.50728211e-01  2.26331130e-02  6.66895583e-02 -6.09002076e-02\n",
      "  -9.73156560e-03 -1.60313472e-01 -6.80054352e-02 -1.48958489e-02\n",
      "  -3.85212228e-02 -4.21429187e-01 -1.42569482e-01  5.15921675e-02\n",
      "   8.71469602e-02  7.52438083e-02 -1.12525910e-01  3.52644771e-02\n",
      "   9.24585760e-03 -3.79187316e-02  1.94381893e-01 -5.54803647e-02\n",
      "   7.32569303e-03 -4.31384193e-03  4.24987376e-02 -1.38102723e-02\n",
      "   4.96340767e-02  5.50708622e-02 -4.46225656e-03  2.71607757e-01\n",
      "   7.13072717e-03  7.62088746e-02 -9.71127376e-02  8.78274739e-02\n",
      "  -1.24361636e-02  2.19670609e-02  6.71698898e-02  1.09519303e-01\n",
      "   1.07377119e-01  2.36839615e-02  3.00938245e-02 -1.97286513e-02\n",
      "   5.48771024e-02 -2.20106803e-02 -5.12011573e-02 -1.19885597e-02\n",
      "  -4.90542129e-02 -2.44342670e-01  1.43862158e-01  4.78290915e-02\n",
      "  -1.05843665e-02 -1.24907866e-01  4.79397364e-02 -3.36685255e-02\n",
      "   5.90667129e-02 -1.34496123e-01  1.42409414e-01 -1.42692789e-01\n",
      "  -1.69932902e-01  2.50610039e-02  3.50171514e-02  2.44017512e-01\n",
      "  -4.12137359e-02 -2.12503839e-02  3.24584916e-02  1.82109758e-01\n",
      "  -6.61433601e+00 -1.22086160e-01 -3.71923856e-03 -6.53781444e-02\n",
      "   5.74808903e-02 -6.91016316e-02 -4.99181822e-02  3.17125022e-02\n",
      "  -6.69860467e-02 -1.53703289e-02 -2.07230039e-02  4.67606522e-02\n",
      "   6.42376952e-03 -5.69050200e-03 -2.53634490e-02 -6.80048019e-02\n",
      "   5.35082445e-02 -2.63387799e-01  2.44682990e-02  1.61544785e-01\n",
      "  -1.74395740e-02  3.90375778e-02  2.05864534e-02  6.87613040e-02\n",
      "   2.24038102e-02 -1.14684597e-01  1.42707583e-03 -6.80561513e-02\n",
      "   3.86074632e-02 -1.35865007e-02  1.16399109e-01  2.17385322e-01\n",
      "   1.48290247e-02 -4.58029583e-02  2.40279287e-02 -4.40857112e-02\n",
      "   7.96058327e-02 -3.71065587e-02 -1.49820969e-01 -1.39812946e-01\n",
      "   1.27778174e-02  5.26525438e-01  1.32388696e-02  3.80611885e-03\n",
      "   3.44482288e-02 -2.07703605e-01  4.47250903e-03  3.23491842e-02\n",
      "  -5.30786142e-02  7.76227657e-03  4.30277497e-01 -4.35316935e-02\n",
      "   1.66381627e-01  8.85795727e-02  6.40850812e-02 -8.49644318e-02\n",
      "  -6.03599027e-02  1.52082935e-01  3.68758515e-02 -4.44078632e-02\n",
      "  -2.37444371e-01 -1.35205891e-02  3.17237526e-02 -5.96832298e-02\n",
      "  -1.37562633e-01  2.24677682e-01 -6.93080015e-03  4.13276814e-02\n",
      "   5.08040339e-02  7.28794262e-02 -7.53040612e-02 -4.11324427e-02\n",
      "   1.80046543e-01  4.23950814e-02  3.94489504e-02  1.23942256e-01\n",
      "  -4.82938699e-02 -7.61869550e-03  2.78668940e-01  2.83814128e-03\n",
      "   2.07040399e-01  1.89606640e-02 -5.18516377e-02 -9.31117870e-03\n",
      "   4.97187078e-02  1.54282153e-01 -1.31894767e-01  1.90492067e-02\n",
      "   3.63038331e-02  7.50928819e-02 -4.64908630e-02  7.36214817e-02\n",
      "  -4.60450239e-02  2.56085992e-02  7.41437823e-02 -3.31361331e-02\n",
      "  -2.24199295e-01 -6.41391277e-02 -3.91705334e-02 -2.04591919e-02\n",
      "   1.09011635e-01  8.39796811e-02  5.16419560e-02  6.52499050e-02\n",
      "  -2.18810868e-02 -3.23935062e-01 -1.94033653e-01  9.31748822e-02\n",
      "  -2.38042381e-02 -1.97329968e-02  9.08447243e-03 -2.95923520e-02\n",
      "  -5.64343669e-02  8.19528028e-02 -9.02226008e-03  1.08588964e-01\n",
      "  -1.02418423e-01 -3.65010984e-02 -2.03101277e-01 -1.05574220e-01\n",
      "   4.71844934e-02  2.78456900e-02  5.80554120e-02  2.95788068e-02\n",
      "  -8.03469121e-03  3.60406414e-02  3.96197252e-02  1.79158062e-01\n",
      "  -1.96207277e-02  2.55954042e-02  1.37190476e-01 -9.03817173e-03\n",
      "  -1.17087737e-01 -3.20093706e-02  2.84426033e-01 -1.09801956e-01\n",
      "   1.72567870e-02 -6.63009807e-02  2.89665703e-02 -4.94207144e-02\n",
      "  -3.61730218e-01 -3.67398143e-01  7.09859058e-02 -2.07473963e-01\n",
      "   3.56160998e-02 -5.75385615e-03  7.36184418e-02  3.05321440e-02\n",
      "   1.78483337e-01  7.21215159e-02 -5.03182877e-03 -2.94877961e-02\n",
      "   4.26693410e-02  1.78418026e+01 -3.63947898e-02 -1.84731837e-02\n",
      "  -6.53733313e-03  2.64790859e-02 -5.70587488e-03  2.36919317e-02\n",
      "   1.25553012e-01 -8.15354824e-01 -3.06566153e-02  3.01188026e-02\n",
      "   5.48510812e-02  2.14772373e-02  4.81870808e-02 -7.21106306e-04\n",
      "  -9.76409167e-02  6.21040575e-02 -4.35503833e-02  4.36445810e-02\n",
      "   3.56516540e-02 -4.46064249e-02  3.41747701e-02  4.44662943e-03\n",
      "  -3.13290618e-02 -1.01648018e-01  7.54033923e-02 -5.59367277e-02]], shape=(1, 768), dtype=float32)\n"
     ]
    }
   ],
   "source": [
    "for i in range(2):\n",
    "    print(str(tokens[i]) + \": \" + str(sentence_output[:, i, :]))"
   ]
  },
  {
   "cell_type": "code",
   "execution_count": 28,
   "metadata": {
    "id": "LoFEEG7urY99"
   },
   "outputs": [],
   "source": [
    "texts = imdb_df[\"review\"].values.tolist()"
   ]
  },
  {
   "cell_type": "code",
   "execution_count": 29,
   "metadata": {
    "colab": {
     "base_uri": "https://localhost:8080/"
    },
    "id": "h8svo_6erY99",
    "outputId": "8dd7ce21-afc7-4f03-eb18-3f543f021ed7"
   },
   "outputs": [
    {
     "name": "stderr",
     "output_type": "stream",
     "text": [
      "/usr/local/lib/python3.6/dist-packages/transformers/tokenization_utils_base.py:1770: FutureWarning: The `pad_to_max_length` argument is deprecated and will be removed in a future version, use `padding=True` or `padding='longest'` to pad to the longest sequence in the batch, or use `padding='max_length'` to pad to a max length. In this case, you can give a specific length with `max_length` (e.g. `max_length=45`) or leave max_length to None to pad to the maximal input size of the model (e.g. 512 for Bert).\n",
      "  FutureWarning,\n"
     ]
    }
   ],
   "source": [
    "#tokenizer.encode directly converts text to tokens to ids and adds special_tokens(cls_tokens, unk_token, sep_tokens) as well as padding\n",
    "encoded = []\n",
    "for text in texts:\n",
    "    input_ids = tokenizer.encode(text, max_length=MAX_SEQUENCE_LENGTH, pad_to_max_length=True, add_special_tokens=True, truncation=True)\n",
    "    encoded.append(input_ids)"
   ]
  },
  {
   "cell_type": "code",
   "execution_count": 30,
   "metadata": {
    "id": "hP-5tMPmrY99"
   },
   "outputs": [],
   "source": [
    "data = np.array(encoded)"
   ]
  },
  {
   "cell_type": "code",
   "execution_count": 31,
   "metadata": {
    "id": "CVXRjrIDrY99"
   },
   "outputs": [],
   "source": [
    "labels = imdb_df[\"sentiment\"].values.tolist()\n",
    "from sklearn.preprocessing import LabelEncoder\n",
    "en = LabelEncoder()\n",
    "labels = en.fit_transform(labels)\n",
    "labels = tf.keras.utils.to_categorical(labels)"
   ]
  },
  {
   "cell_type": "code",
   "execution_count": 33,
   "metadata": {
    "id": "8HNGh3S3rY99"
   },
   "outputs": [],
   "source": [
    "n_classes = len(np.unique(labels))"
   ]
  },
  {
   "cell_type": "code",
   "execution_count": 34,
   "metadata": {
    "id": "0fJzuSlErY99"
   },
   "outputs": [],
   "source": [
    "VALIDATION_SPLIT = 0.15\n",
    "num_validation_samples = int(VALIDATION_SPLIT * data.shape[0])\n",
    "indices = np.arange(data.shape[0])\n",
    "np.random.shuffle(indices)\n",
    "data = data[indices]\n",
    "labels = labels[indices]\n",
    "\n",
    "x_train = data[:-num_validation_samples]\n",
    "y_train = labels[:-num_validation_samples]\n",
    "x_val = data[-num_validation_samples:]\n",
    "y_val = labels[-num_validation_samples:]"
   ]
  },
  {
   "cell_type": "code",
   "execution_count": 35,
   "metadata": {
    "id": "RYdjCRo_rY99"
   },
   "outputs": [],
   "source": [
    "sequence_input = Input(shape=(MAX_SEQUENCE_LENGTH,), dtype='int32')\n",
    "sequence_ouput, _ = xlm_roberta(sequence_input)\n",
    "\n",
    "conv_blocks = []\n",
    "for k_size in FILTER_SIZES:\n",
    "    conv = Conv1D(filters=NUM_FILTERS,\n",
    "                         kernel_size=k_size,\n",
    "                         padding=\"valid\",\n",
    "                         activation=\"relu\",\n",
    "                         strides=1)(sequence_ouput)\n",
    "    conv = Dropout(0.25)(conv)\n",
    "    conv = MaxPooling1D(pool_size=MAX_SEQUENCE_LENGTH - k_size + 1)(conv)\n",
    "    conv = Flatten()(conv)\n",
    "    conv_blocks.append(conv)\n",
    "concat = Concatenate()(conv_blocks) if len(conv_blocks) > 1 else conv_blocks[0]\n",
    "x = Dropout(0.2)(concat)\n",
    "x = Dense(512, activation=\"relu\")(x)\n",
    "preds = Dense(n_classes, activation=\"softmax\")(x)"
   ]
  },
  {
   "cell_type": "code",
   "execution_count": 36,
   "metadata": {
    "id": "shvVFmM_rY99"
   },
   "outputs": [],
   "source": [
    "model = tf.keras.Model(sequence_input, preds)\n",
    "model.compile(loss='binary_crossentropy',\n",
    "              optimizer=tf.keras.optimizers.Adam(learning_rate=0.0003),\n",
    "              metrics=['acc'])"
   ]
  },
  {
   "cell_type": "code",
   "execution_count": 37,
   "metadata": {
    "colab": {
     "base_uri": "https://localhost:8080/"
    },
    "id": "1D9IAbojrY99",
    "outputId": "bd5372c5-222c-4670-b00f-cb529ee92c32"
   },
   "outputs": [
    {
     "name": "stdout",
     "output_type": "stream",
     "text": [
      "Model: \"functional_1\"\n",
      "__________________________________________________________________________________________________\n",
      "Layer (type)                    Output Shape         Param #     Connected to                     \n",
      "==================================================================================================\n",
      "input_1 (InputLayer)            [(None, 512)]        0                                            \n",
      "__________________________________________________________________________________________________\n",
      "tfxlm_roberta_model (TFXLMRober ((None, 512, 768), ( 278043648   input_1[0][0]                    \n",
      "__________________________________________________________________________________________________\n",
      "conv1d (Conv1D)                 (None, 510, 4)       9220        tfxlm_roberta_model[0][0]        \n",
      "__________________________________________________________________________________________________\n",
      "conv1d_1 (Conv1D)               (None, 509, 4)       12292       tfxlm_roberta_model[0][0]        \n",
      "__________________________________________________________________________________________________\n",
      "dropout_38 (Dropout)            (None, 510, 4)       0           conv1d[0][0]                     \n",
      "__________________________________________________________________________________________________\n",
      "dropout_39 (Dropout)            (None, 509, 4)       0           conv1d_1[0][0]                   \n",
      "__________________________________________________________________________________________________\n",
      "max_pooling1d (MaxPooling1D)    (None, 1, 4)         0           dropout_38[0][0]                 \n",
      "__________________________________________________________________________________________________\n",
      "max_pooling1d_1 (MaxPooling1D)  (None, 1, 4)         0           dropout_39[0][0]                 \n",
      "__________________________________________________________________________________________________\n",
      "flatten (Flatten)               (None, 4)            0           max_pooling1d[0][0]              \n",
      "__________________________________________________________________________________________________\n",
      "flatten_1 (Flatten)             (None, 4)            0           max_pooling1d_1[0][0]            \n",
      "__________________________________________________________________________________________________\n",
      "concatenate (Concatenate)       (None, 8)            0           flatten[0][0]                    \n",
      "                                                                 flatten_1[0][0]                  \n",
      "__________________________________________________________________________________________________\n",
      "dropout_40 (Dropout)            (None, 8)            0           concatenate[0][0]                \n",
      "__________________________________________________________________________________________________\n",
      "dense (Dense)                   (None, 512)          4608        dropout_40[0][0]                 \n",
      "__________________________________________________________________________________________________\n",
      "dense_1 (Dense)                 (None, 2)            1026        dense[0][0]                      \n",
      "==================================================================================================\n",
      "Total params: 278,070,794\n",
      "Trainable params: 27,146\n",
      "Non-trainable params: 278,043,648\n",
      "__________________________________________________________________________________________________\n"
     ]
    }
   ],
   "source": [
    "model.summary()"
   ]
  },
  {
   "cell_type": "code",
   "execution_count": null,
   "metadata": {
    "colab": {
     "base_uri": "https://localhost:8080/"
    },
    "id": "eAGcKF-prY9-",
    "outputId": "f66276cd-e99d-4b14-e744-8c6601ec3a39"
   },
   "outputs": [
    {
     "name": "stdout",
     "output_type": "stream",
     "text": [
      "Epoch 1/10\n",
      "   2/2125 [..............................] - ETA: 12:25 - loss: 0.7374 - acc: 0.3125WARNING:tensorflow:Callbacks method `on_train_batch_end` is slow compared to the batch time (batch time: 0.1052s vs `on_train_batch_end` time: 0.5963s). Check your callbacks.\n",
      "2125/2125 [==============================] - ETA: 0s - loss: 0.6942 - acc: 0.5014WARNING:tensorflow:Callbacks method `on_test_batch_end` is slow compared to the batch time (batch time: 0.0152s vs `on_test_batch_end` time: 0.5858s). Check your callbacks.\n",
      "2125/2125 [==============================] - 1772s 834ms/step - loss: 0.6942 - acc: 0.5014 - val_loss: 0.6928 - val_acc: 0.4983\n",
      "Epoch 2/10\n",
      "2125/2125 [==============================] - 1781s 838ms/step - loss: 0.6922 - acc: 0.5145 - val_loss: 0.6931 - val_acc: 0.4985\n",
      "Epoch 3/10\n",
      " 167/2125 [=>............................] - ETA: 23:46 - loss: 0.6912 - acc: 0.5333"
     ]
    }
   ],
   "source": [
    "es = tf.keras.callbacks.EarlyStopping(monitor='val_loss', min_delta=0, patience=2, mode='auto')\n",
    "history = model.fit(x_train, y_train, validation_data=(x_val, y_val),\n",
    "                    epochs=10, batch_size=16, callbacks=[es])"
   ]
  },
  {
   "cell_type": "code",
   "execution_count": null,
   "metadata": {
    "id": "gYSuW_tErY9-"
   },
   "outputs": [],
   "source": [
    "def plot_graphs(history, string):\n",
    "    plt.plot(history.history[string])\n",
    "    plt.plot(history.history['val_'+string])\n",
    "    plt.xlabel(\"Epochs\")\n",
    "    plt.ylabel(string)\n",
    "    plt.legend([string, 'val_'+string])\n",
    "    plt.show();\n",
    "    \n",
    "plot_graphs(history, \"acc\");\n",
    "plot_graphs(history, \"loss\");"
   ]
  },
  {
   "cell_type": "code",
   "execution_count": null,
   "metadata": {
    "id": "sQERAN_lrY9-"
   },
   "outputs": [],
   "source": [
    "text = \"اگر آپ ہیل بوائے کے ساتھ کھوئے ہوئے صندوق کے چھاپوں کو عبور کرتے ہیں اور پرل ہاربر اور ہدایت کار جو جانسٹن کے اپنے دی روکیٹیئر کو شامل کرتے ہیں تو ، آپ اس فلم کی تخلیق کرنے کے راستے میں ٹھیک ہوجائیں گے۔ یہ اچھی طرح سے چل رہا ہے ، محب وطن جنگ عظیم دوم کی مہم جوئی سائنس فائی / فنتاسی تصوف کا ایک کم جمہوریہ اور ہیرو ہے جس کی جڑیں اکٹھا کرنا بہت آسان ہے۔ راجرز / کیپٹن امریکہ ، بہت اچھا آدمی ہے ، حقیقت میں ، کہ وہ کبھی کبھی تھوڑا سا کمزور ہوتا ہے - وہ یقینا a ایک بہت بڑا رول ماڈل ہے ، لیکن آپ اپنے آپ کو یہ خواہش پاسکتے ہیں کہ اس کے پاس تھوڑا سا ولورائن یا ٹونی اسٹارک کی سنیارک تھی۔ (فلم میں مجموعی طور پر مزاح سے تھوڑا سا مختصر ہے ، دراصل ، کیپٹن امریکہ کی رگ ٹیگ آف سپاہیوں کی ٹیم زیادہ تر قہقہوں دیتی ہے ، لیکن ان میں اتنا زیادہ سکرین ٹائم نہیں ملتا ہے۔)\""
   ]
  },
  {
   "cell_type": "code",
   "execution_count": null,
   "metadata": {
    "id": "HqSm8iQerY9-"
   },
   "outputs": [],
   "source": [
    "text = remove_punctuation(text)\n",
    "text = normalize_whitespace(text)\n",
    "text = normalize(text)"
   ]
  },
  {
   "cell_type": "code",
   "execution_count": null,
   "metadata": {
    "id": "ijP6Q-dDrY9-"
   },
   "outputs": [],
   "source": [
    "encoded = tokenizer.encode(text, add_special_tokens=True, max_length=MAX_SEQUENCE_LENGTH, pad_to_max_length=True)\n",
    "encoded = np.asarray([encoded])\n",
    "predictions = model.predict(encoded)"
   ]
  },
  {
   "cell_type": "code",
   "execution_count": null,
   "metadata": {
    "id": "waf_96g7rY9-"
   },
   "outputs": [],
   "source": [
    "print(np.argmax(predictions))"
   ]
  }
 ],
 "metadata": {
  "accelerator": "GPU",
  "colab": {
   "name": "05_urdu_sentiment-analysis.ipynb",
   "provenance": [],
   "toc_visible": true
  },
  "kernelspec": {
   "display_name": "Python 3",
   "language": "python",
   "name": "python3"
  },
  "language_info": {
   "codemirror_mode": {
    "name": "ipython",
    "version": 3
   },
   "file_extension": ".py",
   "mimetype": "text/x-python",
   "name": "python",
   "nbconvert_exporter": "python",
   "pygments_lexer": "ipython3",
   "version": "3.7.7"
  },
  "widgets": {
   "application/vnd.jupyter.widget-state+json": {
    "03f176e0abf24dcb83a749d883afd686": {
     "model_module": "@jupyter-widgets/base",
     "model_name": "LayoutModel",
     "state": {
      "_model_module": "@jupyter-widgets/base",
      "_model_module_version": "1.2.0",
      "_model_name": "LayoutModel",
      "_view_count": null,
      "_view_module": "@jupyter-widgets/base",
      "_view_module_version": "1.2.0",
      "_view_name": "LayoutView",
      "align_content": null,
      "align_items": null,
      "align_self": null,
      "border": null,
      "bottom": null,
      "display": null,
      "flex": null,
      "flex_flow": null,
      "grid_area": null,
      "grid_auto_columns": null,
      "grid_auto_flow": null,
      "grid_auto_rows": null,
      "grid_column": null,
      "grid_gap": null,
      "grid_row": null,
      "grid_template_areas": null,
      "grid_template_columns": null,
      "grid_template_rows": null,
      "height": null,
      "justify_content": null,
      "justify_items": null,
      "left": null,
      "margin": null,
      "max_height": null,
      "max_width": null,
      "min_height": null,
      "min_width": null,
      "object_fit": null,
      "object_position": null,
      "order": null,
      "overflow": null,
      "overflow_x": null,
      "overflow_y": null,
      "padding": null,
      "right": null,
      "top": null,
      "visibility": null,
      "width": null
     }
    },
    "04fb9c82e3234e55b0451d7173199736": {
     "model_module": "@jupyter-widgets/controls",
     "model_name": "ProgressStyleModel",
     "state": {
      "_model_module": "@jupyter-widgets/controls",
      "_model_module_version": "1.5.0",
      "_model_name": "ProgressStyleModel",
      "_view_count": null,
      "_view_module": "@jupyter-widgets/base",
      "_view_module_version": "1.2.0",
      "_view_name": "StyleView",
      "bar_color": null,
      "description_width": "initial"
     }
    },
    "0ccb1ccf413240e5bb632347116a8ecc": {
     "model_module": "@jupyter-widgets/base",
     "model_name": "LayoutModel",
     "state": {
      "_model_module": "@jupyter-widgets/base",
      "_model_module_version": "1.2.0",
      "_model_name": "LayoutModel",
      "_view_count": null,
      "_view_module": "@jupyter-widgets/base",
      "_view_module_version": "1.2.0",
      "_view_name": "LayoutView",
      "align_content": null,
      "align_items": null,
      "align_self": null,
      "border": null,
      "bottom": null,
      "display": null,
      "flex": null,
      "flex_flow": null,
      "grid_area": null,
      "grid_auto_columns": null,
      "grid_auto_flow": null,
      "grid_auto_rows": null,
      "grid_column": null,
      "grid_gap": null,
      "grid_row": null,
      "grid_template_areas": null,
      "grid_template_columns": null,
      "grid_template_rows": null,
      "height": null,
      "justify_content": null,
      "justify_items": null,
      "left": null,
      "margin": null,
      "max_height": null,
      "max_width": null,
      "min_height": null,
      "min_width": null,
      "object_fit": null,
      "object_position": null,
      "order": null,
      "overflow": null,
      "overflow_x": null,
      "overflow_y": null,
      "padding": null,
      "right": null,
      "top": null,
      "visibility": null,
      "width": null
     }
    },
    "22fb356380314c2a96d3a33a045f1437": {
     "model_module": "@jupyter-widgets/controls",
     "model_name": "ProgressStyleModel",
     "state": {
      "_model_module": "@jupyter-widgets/controls",
      "_model_module_version": "1.5.0",
      "_model_name": "ProgressStyleModel",
      "_view_count": null,
      "_view_module": "@jupyter-widgets/base",
      "_view_module_version": "1.2.0",
      "_view_name": "StyleView",
      "bar_color": null,
      "description_width": "initial"
     }
    },
    "3650d143a67e483ea518c815be2ef976": {
     "model_module": "@jupyter-widgets/controls",
     "model_name": "DescriptionStyleModel",
     "state": {
      "_model_module": "@jupyter-widgets/controls",
      "_model_module_version": "1.5.0",
      "_model_name": "DescriptionStyleModel",
      "_view_count": null,
      "_view_module": "@jupyter-widgets/base",
      "_view_module_version": "1.2.0",
      "_view_name": "StyleView",
      "description_width": ""
     }
    },
    "5cc33f7ed9a4420ebe199dd25d818dc6": {
     "model_module": "@jupyter-widgets/base",
     "model_name": "LayoutModel",
     "state": {
      "_model_module": "@jupyter-widgets/base",
      "_model_module_version": "1.2.0",
      "_model_name": "LayoutModel",
      "_view_count": null,
      "_view_module": "@jupyter-widgets/base",
      "_view_module_version": "1.2.0",
      "_view_name": "LayoutView",
      "align_content": null,
      "align_items": null,
      "align_self": null,
      "border": null,
      "bottom": null,
      "display": null,
      "flex": null,
      "flex_flow": null,
      "grid_area": null,
      "grid_auto_columns": null,
      "grid_auto_flow": null,
      "grid_auto_rows": null,
      "grid_column": null,
      "grid_gap": null,
      "grid_row": null,
      "grid_template_areas": null,
      "grid_template_columns": null,
      "grid_template_rows": null,
      "height": null,
      "justify_content": null,
      "justify_items": null,
      "left": null,
      "margin": null,
      "max_height": null,
      "max_width": null,
      "min_height": null,
      "min_width": null,
      "object_fit": null,
      "object_position": null,
      "order": null,
      "overflow": null,
      "overflow_x": null,
      "overflow_y": null,
      "padding": null,
      "right": null,
      "top": null,
      "visibility": null,
      "width": null
     }
    },
    "62a0e30d0a144f148ccf80ca9a42f3ea": {
     "model_module": "@jupyter-widgets/base",
     "model_name": "LayoutModel",
     "state": {
      "_model_module": "@jupyter-widgets/base",
      "_model_module_version": "1.2.0",
      "_model_name": "LayoutModel",
      "_view_count": null,
      "_view_module": "@jupyter-widgets/base",
      "_view_module_version": "1.2.0",
      "_view_name": "LayoutView",
      "align_content": null,
      "align_items": null,
      "align_self": null,
      "border": null,
      "bottom": null,
      "display": null,
      "flex": null,
      "flex_flow": null,
      "grid_area": null,
      "grid_auto_columns": null,
      "grid_auto_flow": null,
      "grid_auto_rows": null,
      "grid_column": null,
      "grid_gap": null,
      "grid_row": null,
      "grid_template_areas": null,
      "grid_template_columns": null,
      "grid_template_rows": null,
      "height": null,
      "justify_content": null,
      "justify_items": null,
      "left": null,
      "margin": null,
      "max_height": null,
      "max_width": null,
      "min_height": null,
      "min_width": null,
      "object_fit": null,
      "object_position": null,
      "order": null,
      "overflow": null,
      "overflow_x": null,
      "overflow_y": null,
      "padding": null,
      "right": null,
      "top": null,
      "visibility": null,
      "width": null
     }
    },
    "642b57a75ad5429698b787dca6287d34": {
     "model_module": "@jupyter-widgets/controls",
     "model_name": "DescriptionStyleModel",
     "state": {
      "_model_module": "@jupyter-widgets/controls",
      "_model_module_version": "1.5.0",
      "_model_name": "DescriptionStyleModel",
      "_view_count": null,
      "_view_module": "@jupyter-widgets/base",
      "_view_module_version": "1.2.0",
      "_view_name": "StyleView",
      "description_width": ""
     }
    },
    "6a4ce7ddce664cf59bfc7395b0d02dc0": {
     "model_module": "@jupyter-widgets/controls",
     "model_name": "FloatProgressModel",
     "state": {
      "_dom_classes": [],
      "_model_module": "@jupyter-widgets/controls",
      "_model_module_version": "1.5.0",
      "_model_name": "FloatProgressModel",
      "_view_count": null,
      "_view_module": "@jupyter-widgets/controls",
      "_view_module_version": "1.5.0",
      "_view_name": "ProgressView",
      "bar_style": "success",
      "description": "Downloading: 100%",
      "description_tooltip": null,
      "layout": "IPY_MODEL_d513b2ba56b249ff8ab61f4638b3ed24",
      "max": 5069051,
      "min": 0,
      "orientation": "horizontal",
      "style": "IPY_MODEL_04fb9c82e3234e55b0451d7173199736",
      "value": 5069051
     }
    },
    "7f502f9794ca4a9992343fd1d0fc1cc1": {
     "model_module": "@jupyter-widgets/controls",
     "model_name": "HBoxModel",
     "state": {
      "_dom_classes": [],
      "_model_module": "@jupyter-widgets/controls",
      "_model_module_version": "1.5.0",
      "_model_name": "HBoxModel",
      "_view_count": null,
      "_view_module": "@jupyter-widgets/controls",
      "_view_module_version": "1.5.0",
      "_view_name": "HBoxView",
      "box_style": "",
      "children": [
       "IPY_MODEL_6a4ce7ddce664cf59bfc7395b0d02dc0",
       "IPY_MODEL_cedc1c616c3e454ea9f66424056cb571"
      ],
      "layout": "IPY_MODEL_a39043d38bf54277888b21ad961019fd"
     }
    },
    "80884aed95e44d219e61c2c50b965a34": {
     "model_module": "@jupyter-widgets/controls",
     "model_name": "ProgressStyleModel",
     "state": {
      "_model_module": "@jupyter-widgets/controls",
      "_model_module_version": "1.5.0",
      "_model_name": "ProgressStyleModel",
      "_view_count": null,
      "_view_module": "@jupyter-widgets/base",
      "_view_module_version": "1.2.0",
      "_view_name": "StyleView",
      "bar_color": null,
      "description_width": "initial"
     }
    },
    "816fdad7445348058680c4bc1afdc40b": {
     "model_module": "@jupyter-widgets/controls",
     "model_name": "FloatProgressModel",
     "state": {
      "_dom_classes": [],
      "_model_module": "@jupyter-widgets/controls",
      "_model_module_version": "1.5.0",
      "_model_name": "FloatProgressModel",
      "_view_count": null,
      "_view_module": "@jupyter-widgets/controls",
      "_view_module_version": "1.5.0",
      "_view_name": "ProgressView",
      "bar_style": "success",
      "description": "Downloading: 100%",
      "description_tooltip": null,
      "layout": "IPY_MODEL_b53ffd7d0b69456caee624458d00efe6",
      "max": 512,
      "min": 0,
      "orientation": "horizontal",
      "style": "IPY_MODEL_22fb356380314c2a96d3a33a045f1437",
      "value": 512
     }
    },
    "8c594cb59b294f04a125926ff7dfae10": {
     "model_module": "@jupyter-widgets/controls",
     "model_name": "FloatProgressModel",
     "state": {
      "_dom_classes": [],
      "_model_module": "@jupyter-widgets/controls",
      "_model_module_version": "1.5.0",
      "_model_name": "FloatProgressModel",
      "_view_count": null,
      "_view_module": "@jupyter-widgets/controls",
      "_view_module_version": "1.5.0",
      "_view_name": "ProgressView",
      "bar_style": "success",
      "description": "Downloading: 100%",
      "description_tooltip": null,
      "layout": "IPY_MODEL_62a0e30d0a144f148ccf80ca9a42f3ea",
      "max": 1885418496,
      "min": 0,
      "orientation": "horizontal",
      "style": "IPY_MODEL_80884aed95e44d219e61c2c50b965a34",
      "value": 1885418496
     }
    },
    "a39043d38bf54277888b21ad961019fd": {
     "model_module": "@jupyter-widgets/base",
     "model_name": "LayoutModel",
     "state": {
      "_model_module": "@jupyter-widgets/base",
      "_model_module_version": "1.2.0",
      "_model_name": "LayoutModel",
      "_view_count": null,
      "_view_module": "@jupyter-widgets/base",
      "_view_module_version": "1.2.0",
      "_view_name": "LayoutView",
      "align_content": null,
      "align_items": null,
      "align_self": null,
      "border": null,
      "bottom": null,
      "display": null,
      "flex": null,
      "flex_flow": null,
      "grid_area": null,
      "grid_auto_columns": null,
      "grid_auto_flow": null,
      "grid_auto_rows": null,
      "grid_column": null,
      "grid_gap": null,
      "grid_row": null,
      "grid_template_areas": null,
      "grid_template_columns": null,
      "grid_template_rows": null,
      "height": null,
      "justify_content": null,
      "justify_items": null,
      "left": null,
      "margin": null,
      "max_height": null,
      "max_width": null,
      "min_height": null,
      "min_width": null,
      "object_fit": null,
      "object_position": null,
      "order": null,
      "overflow": null,
      "overflow_x": null,
      "overflow_y": null,
      "padding": null,
      "right": null,
      "top": null,
      "visibility": null,
      "width": null
     }
    },
    "b0997fcbb22f4fa790bf8d5ca9704fd7": {
     "model_module": "@jupyter-widgets/controls",
     "model_name": "HTMLModel",
     "state": {
      "_dom_classes": [],
      "_model_module": "@jupyter-widgets/controls",
      "_model_module_version": "1.5.0",
      "_model_name": "HTMLModel",
      "_view_count": null,
      "_view_module": "@jupyter-widgets/controls",
      "_view_module_version": "1.5.0",
      "_view_name": "HTMLView",
      "description": "",
      "description_tooltip": null,
      "layout": "IPY_MODEL_d8c7254e211045e580d2130287942d16",
      "placeholder": "​",
      "style": "IPY_MODEL_3650d143a67e483ea518c815be2ef976",
      "value": " 1.89G/1.89G [00:31&lt;00:00, 60.6MB/s]"
     }
    },
    "b53ffd7d0b69456caee624458d00efe6": {
     "model_module": "@jupyter-widgets/base",
     "model_name": "LayoutModel",
     "state": {
      "_model_module": "@jupyter-widgets/base",
      "_model_module_version": "1.2.0",
      "_model_name": "LayoutModel",
      "_view_count": null,
      "_view_module": "@jupyter-widgets/base",
      "_view_module_version": "1.2.0",
      "_view_name": "LayoutView",
      "align_content": null,
      "align_items": null,
      "align_self": null,
      "border": null,
      "bottom": null,
      "display": null,
      "flex": null,
      "flex_flow": null,
      "grid_area": null,
      "grid_auto_columns": null,
      "grid_auto_flow": null,
      "grid_auto_rows": null,
      "grid_column": null,
      "grid_gap": null,
      "grid_row": null,
      "grid_template_areas": null,
      "grid_template_columns": null,
      "grid_template_rows": null,
      "height": null,
      "justify_content": null,
      "justify_items": null,
      "left": null,
      "margin": null,
      "max_height": null,
      "max_width": null,
      "min_height": null,
      "min_width": null,
      "object_fit": null,
      "object_position": null,
      "order": null,
      "overflow": null,
      "overflow_x": null,
      "overflow_y": null,
      "padding": null,
      "right": null,
      "top": null,
      "visibility": null,
      "width": null
     }
    },
    "b8557fae28bc43e487f6a4f78f4346ad": {
     "model_module": "@jupyter-widgets/controls",
     "model_name": "DescriptionStyleModel",
     "state": {
      "_model_module": "@jupyter-widgets/controls",
      "_model_module_version": "1.5.0",
      "_model_name": "DescriptionStyleModel",
      "_view_count": null,
      "_view_module": "@jupyter-widgets/base",
      "_view_module_version": "1.2.0",
      "_view_name": "StyleView",
      "description_width": ""
     }
    },
    "cedc1c616c3e454ea9f66424056cb571": {
     "model_module": "@jupyter-widgets/controls",
     "model_name": "HTMLModel",
     "state": {
      "_dom_classes": [],
      "_model_module": "@jupyter-widgets/controls",
      "_model_module_version": "1.5.0",
      "_model_name": "HTMLModel",
      "_view_count": null,
      "_view_module": "@jupyter-widgets/controls",
      "_view_module_version": "1.5.0",
      "_view_name": "HTMLView",
      "description": "",
      "description_tooltip": null,
      "layout": "IPY_MODEL_03f176e0abf24dcb83a749d883afd686",
      "placeholder": "​",
      "style": "IPY_MODEL_642b57a75ad5429698b787dca6287d34",
      "value": " 5.07M/5.07M [00:01&lt;00:00, 4.62MB/s]"
     }
    },
    "cfd6727ec93a4fe3bfa8454e50282feb": {
     "model_module": "@jupyter-widgets/base",
     "model_name": "LayoutModel",
     "state": {
      "_model_module": "@jupyter-widgets/base",
      "_model_module_version": "1.2.0",
      "_model_name": "LayoutModel",
      "_view_count": null,
      "_view_module": "@jupyter-widgets/base",
      "_view_module_version": "1.2.0",
      "_view_name": "LayoutView",
      "align_content": null,
      "align_items": null,
      "align_self": null,
      "border": null,
      "bottom": null,
      "display": null,
      "flex": null,
      "flex_flow": null,
      "grid_area": null,
      "grid_auto_columns": null,
      "grid_auto_flow": null,
      "grid_auto_rows": null,
      "grid_column": null,
      "grid_gap": null,
      "grid_row": null,
      "grid_template_areas": null,
      "grid_template_columns": null,
      "grid_template_rows": null,
      "height": null,
      "justify_content": null,
      "justify_items": null,
      "left": null,
      "margin": null,
      "max_height": null,
      "max_width": null,
      "min_height": null,
      "min_width": null,
      "object_fit": null,
      "object_position": null,
      "order": null,
      "overflow": null,
      "overflow_x": null,
      "overflow_y": null,
      "padding": null,
      "right": null,
      "top": null,
      "visibility": null,
      "width": null
     }
    },
    "d4190a07303f4574aa19a8e8869f95c6": {
     "model_module": "@jupyter-widgets/controls",
     "model_name": "HTMLModel",
     "state": {
      "_dom_classes": [],
      "_model_module": "@jupyter-widgets/controls",
      "_model_module_version": "1.5.0",
      "_model_name": "HTMLModel",
      "_view_count": null,
      "_view_module": "@jupyter-widgets/controls",
      "_view_module_version": "1.5.0",
      "_view_name": "HTMLView",
      "description": "",
      "description_tooltip": null,
      "layout": "IPY_MODEL_5cc33f7ed9a4420ebe199dd25d818dc6",
      "placeholder": "​",
      "style": "IPY_MODEL_b8557fae28bc43e487f6a4f78f4346ad",
      "value": " 512/512 [00:00&lt;00:00, 2.86kB/s]"
     }
    },
    "d513b2ba56b249ff8ab61f4638b3ed24": {
     "model_module": "@jupyter-widgets/base",
     "model_name": "LayoutModel",
     "state": {
      "_model_module": "@jupyter-widgets/base",
      "_model_module_version": "1.2.0",
      "_model_name": "LayoutModel",
      "_view_count": null,
      "_view_module": "@jupyter-widgets/base",
      "_view_module_version": "1.2.0",
      "_view_name": "LayoutView",
      "align_content": null,
      "align_items": null,
      "align_self": null,
      "border": null,
      "bottom": null,
      "display": null,
      "flex": null,
      "flex_flow": null,
      "grid_area": null,
      "grid_auto_columns": null,
      "grid_auto_flow": null,
      "grid_auto_rows": null,
      "grid_column": null,
      "grid_gap": null,
      "grid_row": null,
      "grid_template_areas": null,
      "grid_template_columns": null,
      "grid_template_rows": null,
      "height": null,
      "justify_content": null,
      "justify_items": null,
      "left": null,
      "margin": null,
      "max_height": null,
      "max_width": null,
      "min_height": null,
      "min_width": null,
      "object_fit": null,
      "object_position": null,
      "order": null,
      "overflow": null,
      "overflow_x": null,
      "overflow_y": null,
      "padding": null,
      "right": null,
      "top": null,
      "visibility": null,
      "width": null
     }
    },
    "d8c7254e211045e580d2130287942d16": {
     "model_module": "@jupyter-widgets/base",
     "model_name": "LayoutModel",
     "state": {
      "_model_module": "@jupyter-widgets/base",
      "_model_module_version": "1.2.0",
      "_model_name": "LayoutModel",
      "_view_count": null,
      "_view_module": "@jupyter-widgets/base",
      "_view_module_version": "1.2.0",
      "_view_name": "LayoutView",
      "align_content": null,
      "align_items": null,
      "align_self": null,
      "border": null,
      "bottom": null,
      "display": null,
      "flex": null,
      "flex_flow": null,
      "grid_area": null,
      "grid_auto_columns": null,
      "grid_auto_flow": null,
      "grid_auto_rows": null,
      "grid_column": null,
      "grid_gap": null,
      "grid_row": null,
      "grid_template_areas": null,
      "grid_template_columns": null,
      "grid_template_rows": null,
      "height": null,
      "justify_content": null,
      "justify_items": null,
      "left": null,
      "margin": null,
      "max_height": null,
      "max_width": null,
      "min_height": null,
      "min_width": null,
      "object_fit": null,
      "object_position": null,
      "order": null,
      "overflow": null,
      "overflow_x": null,
      "overflow_y": null,
      "padding": null,
      "right": null,
      "top": null,
      "visibility": null,
      "width": null
     }
    },
    "e0c2d93fb9774f478962900b01cfd716": {
     "model_module": "@jupyter-widgets/controls",
     "model_name": "HBoxModel",
     "state": {
      "_dom_classes": [],
      "_model_module": "@jupyter-widgets/controls",
      "_model_module_version": "1.5.0",
      "_model_name": "HBoxModel",
      "_view_count": null,
      "_view_module": "@jupyter-widgets/controls",
      "_view_module_version": "1.5.0",
      "_view_name": "HBoxView",
      "box_style": "",
      "children": [
       "IPY_MODEL_816fdad7445348058680c4bc1afdc40b",
       "IPY_MODEL_d4190a07303f4574aa19a8e8869f95c6"
      ],
      "layout": "IPY_MODEL_cfd6727ec93a4fe3bfa8454e50282feb"
     }
    },
    "ecef3c2cc5684a6f993659e8f53e24c6": {
     "model_module": "@jupyter-widgets/controls",
     "model_name": "HBoxModel",
     "state": {
      "_dom_classes": [],
      "_model_module": "@jupyter-widgets/controls",
      "_model_module_version": "1.5.0",
      "_model_name": "HBoxModel",
      "_view_count": null,
      "_view_module": "@jupyter-widgets/controls",
      "_view_module_version": "1.5.0",
      "_view_name": "HBoxView",
      "box_style": "",
      "children": [
       "IPY_MODEL_8c594cb59b294f04a125926ff7dfae10",
       "IPY_MODEL_b0997fcbb22f4fa790bf8d5ca9704fd7"
      ],
      "layout": "IPY_MODEL_0ccb1ccf413240e5bb632347116a8ecc"
     }
    }
   }
  }
 },
 "nbformat": 4,
 "nbformat_minor": 1
}
