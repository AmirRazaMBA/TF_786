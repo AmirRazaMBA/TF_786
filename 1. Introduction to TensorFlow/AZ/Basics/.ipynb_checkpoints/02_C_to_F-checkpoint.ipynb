{
 "cells": [
  {
   "cell_type": "markdown",
   "metadata": {
    "colab_type": "text",
    "id": "view-in-github"
   },
   "source": [
    "<a href=\"https://colab.research.google.com/github/AmirRazaMBA/TF_CertificationExam/blob/main/Introduction%20to%20TensorFlow/01_simple_model.ipynb\" target=\"_parent\"><img src=\"https://colab.research.google.com/assets/colab-badge.svg\" alt=\"Open In Colab\"/></a>"
   ]
  },
  {
   "cell_type": "code",
   "execution_count": null,
   "metadata": {
    "id": "w5bOPvFaQIqm"
   },
   "outputs": [],
   "source": [
    "import tensorflow as tf\n",
    "import numpy as np\n",
    "import matplotlib.pyplot as plt\n",
    "from tensorflow.keras.models import Sequential\n",
    "from tensorflow.keras.layers import Dense"
   ]
  },
  {
   "cell_type": "code",
   "execution_count": null,
   "metadata": {
    "id": "wEF4H2h3R_5o"
   },
   "outputs": [],
   "source": [
    "celsius_q    = np.array([-40, -10,  0,  8, 15, 22,  38],  dtype=float)\n",
    "fahrenheit_a = np.array([-40,  14, 32, 46, 59, 72, 100],  dtype=float)"
   ]
  },
  {
   "cell_type": "code",
   "execution_count": null,
   "metadata": {
    "colab": {
     "base_uri": "https://localhost:8080/"
    },
    "id": "z1BLvZ_sSD-Q",
    "outputId": "442a2fe4-13cb-4618-86bf-fa4b77f4cbc7"
   },
   "outputs": [],
   "source": [
    "for i,c in enumerate(celsius_q):\n",
    "  print(str(c) + \" degrees Celsius = degrees Fahrenheit \" + str(fahrenheit_a[i]))"
   ]
  },
  {
   "cell_type": "code",
   "execution_count": null,
   "metadata": {
    "colab": {
     "base_uri": "https://localhost:8080/"
    },
    "id": "w0-C0HoRSG9-",
    "outputId": "8724160e-9216-42ab-c304-7693cf818b2a"
   },
   "outputs": [],
   "source": [
    "layer_0 = Dense(units=1, input_shape=[1])\n",
    "\n",
    "model = Sequential()\n",
    "model.add(layer_0)\n",
    "model.compile(loss='mean_squared_error',\n",
    "              optimizer=tf.keras.optimizers.Adam(0.1))\n",
    "model.summary()"
   ]
  },
  {
   "cell_type": "code",
   "execution_count": null,
   "metadata": {
    "id": "ay8_Sd4MShDO"
   },
   "outputs": [],
   "source": [
    "history = model.fit(x=celsius_q, y=fahrenheit_a, epochs=500, verbose=False)"
   ]
  },
  {
   "cell_type": "code",
   "execution_count": null,
   "metadata": {
    "colab": {
     "base_uri": "https://localhost:8080/",
     "height": 296
    },
    "id": "I7pas988SOjO",
    "outputId": "2758d191-7b14-4afd-803a-90813ad5c553"
   },
   "outputs": [],
   "source": [
    "plt.xlabel('Epoch')\n",
    "plt.ylabel(\"Loss\")\n",
    "plt.plot(history.history['loss'])"
   ]
  },
  {
   "cell_type": "code",
   "execution_count": null,
   "metadata": {
    "colab": {
     "base_uri": "https://localhost:8080/"
    },
    "id": "SyZ6kaQ6SQd2",
    "outputId": "e84ede3c-b3b1-46f5-b90d-ee4c3581d8a2"
   },
   "outputs": [],
   "source": [
    "print(model.predict([100.0]))"
   ]
  },
  {
   "cell_type": "code",
   "execution_count": null,
   "metadata": {
    "colab": {
     "base_uri": "https://localhost:8080/"
    },
    "id": "elWiukimSSKe",
    "outputId": "ecb17893-07e6-4ca1-b0f8-b8a746e4d480"
   },
   "outputs": [],
   "source": [
    "print(\"These are the layer variables: \" + str(layer_0.get_weights()))\n",
    "# Note the formula is F = 1.8 * C + 32    , where weight is 1.8 and bias is 32"
   ]
  }
 ],
 "metadata": {
  "colab": {
   "include_colab_link": true,
   "name": "01_simple_model.ipynb",
   "provenance": []
  },
  "kernelspec": {
   "display_name": "Python 3",
   "language": "python",
   "name": "python3"
  },
  "language_info": {
   "codemirror_mode": {
    "name": "ipython",
    "version": 3
   },
   "file_extension": ".py",
   "mimetype": "text/x-python",
   "name": "python",
   "nbconvert_exporter": "python",
   "pygments_lexer": "ipython3",
   "version": "3.7.7"
  }
 },
 "nbformat": 4,
 "nbformat_minor": 1
}
