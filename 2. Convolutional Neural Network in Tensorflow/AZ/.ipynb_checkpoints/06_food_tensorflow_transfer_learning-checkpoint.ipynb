{
 "cells": [
  {
   "cell_type": "code",
   "execution_count": null,
   "metadata": {
    "id": "a4s4g3_Bcwu8"
   },
   "outputs": [],
   "source": [
    "import sys, os\n",
    "import numpy as np\n",
    "import pandas as pd\n",
    "import matplotlib.pyplot as plt\n",
    "import tensorflow as tf\n",
    "\n",
    "from tensorflow.keras.layers import Input, Dense, Flatten\n",
    "from tensorflow.keras.applications.vgg16 import VGG16 as PretrainedModel, \\\n",
    "  preprocess_input\n",
    "\n",
    "from tensorflow.keras.models import Model\n",
    "from tensorflow.keras.optimizers import SGD, Adam\n",
    "from tensorflow.keras.preprocessing import image\n",
    "from tensorflow.keras.preprocessing.image import ImageDataGenerator\n",
    "\n",
    "from glob import glob\n",
    "\n"
   ]
  },
  {
   "cell_type": "code",
   "execution_count": null,
   "metadata": {
    "colab": {
     "base_uri": "https://localhost:8080/",
     "height": 34
    },
    "id": "uCLh-5xFc1t-",
    "outputId": "a5bfb480-7a2e-4842-9514-9c373af60c7b"
   },
   "outputs": [],
   "source": [
    "# Data from: https://mmspg.epfl.ch/downloads/food-image-datasets/\n",
    "# !wget --passive-ftp --prefer-family=ipv4 --ftp-user FoodImage@grebvm2.epfl.ch \\\n",
    "#  --ftp-password Cahc1moo -nc ftp://tremplin.epfl.ch/Food-5K.zip\n",
    "!wget -nc https://lazyprogrammer.me/course_files/Food-5K.zip"
   ]
  },
  {
   "cell_type": "code",
   "execution_count": null,
   "metadata": {
    "id": "iV7mpJWzTfz0"
   },
   "outputs": [],
   "source": [
    "!unzip -qq -o Food-5K.zip"
   ]
  },
  {
   "cell_type": "code",
   "execution_count": null,
   "metadata": {
    "colab": {
     "base_uri": "https://localhost:8080/",
     "height": 34
    },
    "id": "V7NhBksadZHd",
    "outputId": "6db9a77e-dea2-45da-c02f-826c46cd5c34"
   },
   "outputs": [],
   "source": [
    "!ls"
   ]
  },
  {
   "cell_type": "code",
   "execution_count": null,
   "metadata": {
    "id": "iCEVGNaVsANP"
   },
   "outputs": [],
   "source": [
    "!mv Food-5K/* ."
   ]
  },
  {
   "cell_type": "code",
   "execution_count": null,
   "metadata": {
    "colab": {
     "base_uri": "https://localhost:8080/",
     "height": 1000
    },
    "id": "wBoKecJJdaHn",
    "outputId": "306aa1be-3f97-4a29-8bb7-30cbb26f0174"
   },
   "outputs": [],
   "source": [
    "!ls training"
   ]
  },
  {
   "cell_type": "code",
   "execution_count": null,
   "metadata": {
    "colab": {
     "base_uri": "https://localhost:8080/",
     "height": 269
    },
    "id": "MaVWeWH8de8n",
    "outputId": "ac2e0287-bdb4-42b5-b0d7-ffcdc1f241ec"
   },
   "outputs": [],
   "source": [
    "# look at an image for fun\n",
    "plt.imshow(image.load_img('training/0_808.jpg'))\n",
    "plt.show()"
   ]
  },
  {
   "cell_type": "code",
   "execution_count": null,
   "metadata": {
    "colab": {
     "base_uri": "https://localhost:8080/",
     "height": 269
    },
    "id": "HIDkquFadrEW",
    "outputId": "78ce5413-4d9c-42df-fc0c-2f4deb9733d6"
   },
   "outputs": [],
   "source": [
    "# Food images start with 1, non-food images start with 0\n",
    "plt.imshow(image.load_img('training/1_616.jpg'))\n",
    "plt.show()"
   ]
  },
  {
   "cell_type": "code",
   "execution_count": null,
   "metadata": {
    "id": "pVu4y1DKdxEG"
   },
   "outputs": [],
   "source": [
    "!mkdir data"
   ]
  },
  {
   "cell_type": "code",
   "execution_count": null,
   "metadata": {
    "id": "-uafzUUKd55M"
   },
   "outputs": [],
   "source": [
    "# Make directories to store the data Keras-style\n",
    "!mkdir data/train\n",
    "!mkdir data/test\n",
    "!mkdir data/train/nonfood\n",
    "!mkdir data/train/food\n",
    "!mkdir data/test/nonfood\n",
    "!mkdir data/test/food"
   ]
  },
  {
   "cell_type": "code",
   "execution_count": null,
   "metadata": {
    "id": "0eRi8crEeGRf"
   },
   "outputs": [],
   "source": [
    "# Move the images\n",
    "# Note: we will consider 'training' to be the train set\n",
    "#       'validation' folder will be the test set\n",
    "#       ignore the 'evaluation' set\n",
    "!mv training/0*.jpg data/train/nonfood\n",
    "!mv training/1*.jpg data/train/food\n",
    "!mv validation/0*.jpg data/test/nonfood\n",
    "!mv validation/1*.jpg data/test/food"
   ]
  },
  {
   "cell_type": "code",
   "execution_count": null,
   "metadata": {
    "id": "xu1nf5xkeiXs"
   },
   "outputs": [],
   "source": [
    "train_path = 'data/train'\n",
    "valid_path = 'data/test'"
   ]
  },
  {
   "cell_type": "code",
   "execution_count": null,
   "metadata": {
    "id": "pS1RfyFueujP"
   },
   "outputs": [],
   "source": [
    "# These images are pretty big and of different sizes\n",
    "# Let's load them all in as the same (smaller) size\n",
    "IMAGE_SIZE = [200, 200]"
   ]
  },
  {
   "cell_type": "code",
   "execution_count": null,
   "metadata": {
    "id": "iQ9p_iH1fEvv"
   },
   "outputs": [],
   "source": [
    "# useful for getting number of files\n",
    "image_files = glob(train_path + '/*/*.jpg')\n",
    "valid_image_files = glob(valid_path + '/*/*.jpg')"
   ]
  },
  {
   "cell_type": "code",
   "execution_count": null,
   "metadata": {
    "id": "FsFgJn-6fI36"
   },
   "outputs": [],
   "source": [
    "# useful for getting number of classes\n",
    "folders = glob(train_path + '/*')\n",
    "folders"
   ]
  },
  {
   "cell_type": "code",
   "execution_count": null,
   "metadata": {
    "colab": {
     "base_uri": "https://localhost:8080/",
     "height": 269
    },
    "id": "Tt6ccnhhfJ6y",
    "outputId": "a5b2ab72-ce90-4d01-f142-0caf9d8e3824"
   },
   "outputs": [],
   "source": [
    "# look at an image for fun\n",
    "plt.imshow(image.load_img(np.random.choice(image_files)))\n",
    "plt.show()"
   ]
  },
  {
   "cell_type": "code",
   "execution_count": null,
   "metadata": {
    "id": "Mz1weoVCfN0-"
   },
   "outputs": [],
   "source": [
    "ptm = PretrainedModel(\n",
    "    input_shape=IMAGE_SIZE + [3],\n",
    "    weights='imagenet',\n",
    "    include_top=False)"
   ]
  },
  {
   "cell_type": "code",
   "execution_count": null,
   "metadata": {
    "id": "Np0VZQiCUU7l"
   },
   "outputs": [],
   "source": [
    "# map the data into feature vectors\n",
    "x = Flatten()(ptm.output)"
   ]
  },
  {
   "cell_type": "code",
   "execution_count": null,
   "metadata": {
    "id": "G6Q5CwKAUcTA"
   },
   "outputs": [],
   "source": [
    "# create a model object\n",
    "model = Model(inputs=ptm.input, outputs=x)"
   ]
  },
  {
   "cell_type": "code",
   "execution_count": null,
   "metadata": {
    "colab": {
     "base_uri": "https://localhost:8080/",
     "height": 833
    },
    "id": "yNYDOBVSUc5b",
    "outputId": "b222560a-098c-4d4c-8adc-9b600a2108cf"
   },
   "outputs": [],
   "source": [
    "# view the structure of the model\n",
    "model.summary()"
   ]
  },
  {
   "cell_type": "code",
   "execution_count": null,
   "metadata": {
    "id": "wKC5ilt4hc1K"
   },
   "outputs": [],
   "source": [
    "# create an instance of ImageDataGenerator\n",
    "gen = ImageDataGenerator(preprocessing_function=preprocess_input)"
   ]
  },
  {
   "cell_type": "code",
   "execution_count": null,
   "metadata": {
    "colab": {
     "base_uri": "https://localhost:8080/",
     "height": 51
    },
    "id": "SgtuBIoThuZc",
    "outputId": "3d37ce55-8c68-45e7-b51a-c35a8aa47160"
   },
   "outputs": [],
   "source": [
    "batch_size = 128\n",
    "\n",
    "# create generators\n",
    "train_generator = gen.flow_from_directory(\n",
    "  train_path,\n",
    "  target_size=IMAGE_SIZE,\n",
    "  batch_size=batch_size,\n",
    "  class_mode='binary',\n",
    ")\n",
    "\n",
    "valid_generator = gen.flow_from_directory(\n",
    "  valid_path,\n",
    "  target_size=IMAGE_SIZE,\n",
    "  batch_size=batch_size,\n",
    "  class_mode='binary',\n",
    ")"
   ]
  },
  {
   "cell_type": "code",
   "execution_count": null,
   "metadata": {
    "id": "1cb-03rshyEg"
   },
   "outputs": [],
   "source": [
    "Ntrain = len(image_files)\n",
    "Nvalid = len(valid_image_files)\n",
    "\n",
    "# Figure out the output size\n",
    "feat = model.predict(np.random.random([1] + IMAGE_SIZE + [3]))\n",
    "D = feat.shape[1]\n",
    "\n",
    "X_train = np.zeros((Ntrain, D))\n",
    "Y_train = np.zeros(Ntrain)\n",
    "X_valid = np.zeros((Nvalid, D))\n",
    "Y_valid = np.zeros(Nvalid)"
   ]
  },
  {
   "cell_type": "code",
   "execution_count": null,
   "metadata": {
    "colab": {
     "base_uri": "https://localhost:8080/",
     "height": 459
    },
    "id": "pxIU-bQDipHs",
    "outputId": "9f5ebe90-7e12-4c82-b9fa-394c2c22e072"
   },
   "outputs": [],
   "source": [
    "# populate X_train and Y_train\n",
    "i = 0\n",
    "for x, y in train_generator:\n",
    "  # get features\n",
    "  features = model.predict(x)\n",
    "  \n",
    "  # size of the batch (may not always be batch_size)\n",
    "  sz = len(y)\n",
    "  \n",
    "  # assign to X_train and Ytrain\n",
    "  X_train[i:i + sz] = features\n",
    "  Y_train[i:i + sz] = y\n",
    "  \n",
    "  # increment i\n",
    "  i += sz\n",
    "  print(i)\n",
    "\n",
    "  if i >= Ntrain:\n",
    "    print('breaking now')\n",
    "    break\n",
    "print(i)"
   ]
  },
  {
   "cell_type": "code",
   "execution_count": null,
   "metadata": {
    "colab": {
     "base_uri": "https://localhost:8080/",
     "height": 51
    },
    "id": "CI8RchK_j8SS",
    "outputId": "2b956400-f531-444a-fd9e-d4bbd089ce17"
   },
   "outputs": [],
   "source": [
    "# populate X_valid and Y_valid\n",
    "i = 0\n",
    "for x, y in valid_generator:\n",
    "  # get features\n",
    "  features = model.predict(x)\n",
    "  \n",
    "  # size of the batch (may not always be batch_size)\n",
    "  sz = len(y)\n",
    "  \n",
    "  # assign to X_train and Ytrain\n",
    "  X_valid[i:i + sz] = features\n",
    "  Y_valid[i:i + sz] = y\n",
    "  \n",
    "  # increment i\n",
    "  i += sz\n",
    "\n",
    "  if i >= Nvalid:\n",
    "    print('breaking now')\n",
    "    break\n",
    "print(i)"
   ]
  },
  {
   "cell_type": "code",
   "execution_count": null,
   "metadata": {
    "colab": {
     "base_uri": "https://localhost:8080/",
     "height": 34
    },
    "id": "3F2L6jO_rqHk",
    "outputId": "c97eb5ad-e9e0-48dd-a149-507a675e2b7d"
   },
   "outputs": [],
   "source": [
    "X_train.max(), X_train.min()"
   ]
  },
  {
   "cell_type": "code",
   "execution_count": null,
   "metadata": {
    "id": "3JnlqNMCo_vZ"
   },
   "outputs": [],
   "source": [
    "from sklearn.preprocessing import StandardScaler\n",
    "\n",
    "scaler = StandardScaler()\n",
    "\n",
    "X_train2 = scaler.fit_transform(X_train)\n",
    "X_valid2 = scaler.transform(X_valid)"
   ]
  },
  {
   "cell_type": "code",
   "execution_count": null,
   "metadata": {
    "colab": {
     "base_uri": "https://localhost:8080/",
     "height": 105
    },
    "id": "-lkdfR9Jpzbz",
    "outputId": "f63ef9b7-e2e4-4cd2-aa01-b876b2c90a71"
   },
   "outputs": [],
   "source": [
    "# Try the built-in logistic regression\n",
    "\n",
    "from sklearn.linear_model import LogisticRegression\n",
    "logr = LogisticRegression()\n",
    "logr.fit(X_train2, Y_train)\n",
    "print(logr.score(X_train2, Y_train))\n",
    "print(logr.score(X_valid2, Y_valid))"
   ]
  },
  {
   "cell_type": "code",
   "execution_count": null,
   "metadata": {
    "id": "clg_EhMCoR5h"
   },
   "outputs": [],
   "source": [
    "# Do logistic regression in Tensorflow\n",
    "\n",
    "i = Input(shape=(D,))\n",
    "x = Dense(1, activation='sigmoid')(i)\n",
    "linearmodel = Model(i, x)"
   ]
  },
  {
   "cell_type": "code",
   "execution_count": null,
   "metadata": {
    "id": "pj_TJTTVoogC"
   },
   "outputs": [],
   "source": [
    "linearmodel.compile(\n",
    "    loss='binary_crossentropy',\n",
    "    optimizer='adam',\n",
    "    metrics=['accuracy'])"
   ]
  },
  {
   "cell_type": "code",
   "execution_count": null,
   "metadata": {
    "colab": {
     "base_uri": "https://localhost:8080/",
     "height": 428
    },
    "id": "dVfCD538ozcC",
    "outputId": "c290441a-9544-4463-ca4e-c54b4f23b5c7"
   },
   "outputs": [],
   "source": [
    "# Can try both normalized and unnormalized data\n",
    "r = linearmodel.fit(\n",
    "    X_train, Y_train,\n",
    "    batch_size=128,\n",
    "    epochs=10,\n",
    "    validation_data=(X_valid, Y_valid),\n",
    ")"
   ]
  },
  {
   "cell_type": "code",
   "execution_count": null,
   "metadata": {
    "colab": {
     "base_uri": "https://localhost:8080/",
     "height": 269
    },
    "id": "kKT3gbm7R7K-",
    "outputId": "48fae9f4-0747-4677-bc64-a6fbc094b728"
   },
   "outputs": [],
   "source": [
    "# loss\n",
    "plt.plot(r.history['loss'], label='train loss')\n",
    "plt.plot(r.history['val_loss'], label='val loss')\n",
    "plt.legend()\n",
    "plt.show()"
   ]
  },
  {
   "cell_type": "code",
   "execution_count": null,
   "metadata": {
    "colab": {
     "base_uri": "https://localhost:8080/",
     "height": 269
    },
    "id": "nVQfwyV1R-fu",
    "outputId": "125e8e78-6f32-4519-db8b-7fa050fb9e05"
   },
   "outputs": [],
   "source": [
    "# accuracies\n",
    "plt.plot(r.history['accuracy'], label='train acc')\n",
    "plt.plot(r.history['val_accuracy'], label='val acc')\n",
    "plt.legend()\n",
    "plt.show()"
   ]
  }
 ],
 "metadata": {
  "accelerator": "GPU",
  "colab": {
   "collapsed_sections": [],
   "name": "TF2.0 Transfer Learning.ipynb",
   "provenance": []
  },
  "kernelspec": {
   "display_name": "Python 3",
   "language": "python",
   "name": "python3"
  },
  "language_info": {
   "codemirror_mode": {
    "name": "ipython",
    "version": 3
   },
   "file_extension": ".py",
   "mimetype": "text/x-python",
   "name": "python",
   "nbconvert_exporter": "python",
   "pygments_lexer": "ipython3",
   "version": "3.7.7"
  }
 },
 "nbformat": 4,
 "nbformat_minor": 1
}
