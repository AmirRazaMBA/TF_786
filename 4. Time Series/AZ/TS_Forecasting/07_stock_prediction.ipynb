{
  "nbformat": 4,
  "nbformat_minor": 0,
  "metadata": {
    "accelerator": "GPU",
    "colab": {
      "name": "05_stock_prediction.ipynb",
      "provenance": [],
      "toc_visible": true
    },
    "kernelspec": {
      "display_name": "Python 3",
      "language": "python",
      "name": "python3"
    },
    "language_info": {
      "codemirror_mode": {
        "name": "ipython",
        "version": 3
      },
      "file_extension": ".py",
      "mimetype": "text/x-python",
      "name": "python",
      "nbconvert_exporter": "python",
      "pygments_lexer": "ipython3",
      "version": "3.8.5"
    }
  },
  "cells": [
    {
      "cell_type": "markdown",
      "metadata": {
        "id": "IC-mh5vfEwuu"
      },
      "source": [
        "### Stock Market Prediction And Forecasting Using Stacked LSTM"
      ]
    },
    {
      "cell_type": "code",
      "metadata": {
        "id": "LlebCpebEwu2"
      },
      "source": [
        "import math\n",
        "import numpy as np\n",
        "import pandas as pd\n",
        "import matplotlib.pyplot as plt\n",
        "import pandas_datareader as pdr\n",
        "import tensorflow as tf\n",
        "\n",
        "from sklearn.metrics import mean_squared_error\n",
        "from tensorflow.keras.preprocessing.sequence import TimeseriesGenerator\n",
        "from tensorflow.keras.models import Sequential\n",
        "from tensorflow.keras.layers import Dense\n",
        "from tensorflow.keras.layers import LSTM"
      ],
      "execution_count": 1,
      "outputs": []
    },
    {
      "cell_type": "code",
      "metadata": {
        "id": "KnRj0GIMEwu3"
      },
      "source": [
        "KEY = \"e46970bde5460c8e6caece2452083771f7320e41\""
      ],
      "execution_count": 2,
      "outputs": []
    },
    {
      "cell_type": "code",
      "metadata": {
        "colab": {
          "base_uri": "https://localhost:8080/"
        },
        "id": "NXIrZNWmEwu4",
        "outputId": "74e3f8ad-2767-48c3-89a9-e57b4cbe5e31"
      },
      "source": [
        "df_master = pdr.get_data_tiingo('AAPL', api_key = KEY)\n",
        "df_master.to_csv('AAPL.csv')\n",
        "df_master=pd.read_csv('AAPL.csv')\n",
        "df_master.info()"
      ],
      "execution_count": 3,
      "outputs": [
        {
          "output_type": "stream",
          "text": [
            "<class 'pandas.core.frame.DataFrame'>\n",
            "RangeIndex: 1259 entries, 0 to 1258\n",
            "Data columns (total 14 columns):\n",
            " #   Column       Non-Null Count  Dtype  \n",
            "---  ------       --------------  -----  \n",
            " 0   symbol       1259 non-null   object \n",
            " 1   date         1259 non-null   object \n",
            " 2   close        1259 non-null   float64\n",
            " 3   high         1259 non-null   float64\n",
            " 4   low          1259 non-null   float64\n",
            " 5   open         1259 non-null   float64\n",
            " 6   volume       1259 non-null   int64  \n",
            " 7   adjClose     1259 non-null   float64\n",
            " 8   adjHigh      1259 non-null   float64\n",
            " 9   adjLow       1259 non-null   float64\n",
            " 10  adjOpen      1259 non-null   float64\n",
            " 11  adjVolume    1259 non-null   int64  \n",
            " 12  divCash      1259 non-null   float64\n",
            " 13  splitFactor  1259 non-null   float64\n",
            "dtypes: float64(10), int64(2), object(2)\n",
            "memory usage: 137.8+ KB\n"
          ],
          "name": "stdout"
        }
      ]
    },
    {
      "cell_type": "code",
      "metadata": {
        "id": "selOcYqMOlY5",
        "outputId": "832a7ea9-e11d-4975-d95c-699089f73617",
        "colab": {
          "base_uri": "https://localhost:8080/",
          "height": 305
        }
      },
      "source": [
        "df_master.head()"
      ],
      "execution_count": 4,
      "outputs": [
        {
          "output_type": "execute_result",
          "data": {
            "text/html": [
              "<div>\n",
              "<style scoped>\n",
              "    .dataframe tbody tr th:only-of-type {\n",
              "        vertical-align: middle;\n",
              "    }\n",
              "\n",
              "    .dataframe tbody tr th {\n",
              "        vertical-align: top;\n",
              "    }\n",
              "\n",
              "    .dataframe thead th {\n",
              "        text-align: right;\n",
              "    }\n",
              "</style>\n",
              "<table border=\"1\" class=\"dataframe\">\n",
              "  <thead>\n",
              "    <tr style=\"text-align: right;\">\n",
              "      <th></th>\n",
              "      <th>symbol</th>\n",
              "      <th>date</th>\n",
              "      <th>close</th>\n",
              "      <th>high</th>\n",
              "      <th>low</th>\n",
              "      <th>open</th>\n",
              "      <th>volume</th>\n",
              "      <th>adjClose</th>\n",
              "      <th>adjHigh</th>\n",
              "      <th>adjLow</th>\n",
              "      <th>adjOpen</th>\n",
              "      <th>adjVolume</th>\n",
              "      <th>divCash</th>\n",
              "      <th>splitFactor</th>\n",
              "    </tr>\n",
              "  </thead>\n",
              "  <tbody>\n",
              "    <tr>\n",
              "      <th>0</th>\n",
              "      <td>AAPL</td>\n",
              "      <td>2016-01-04 00:00:00+00:00</td>\n",
              "      <td>105.35</td>\n",
              "      <td>105.368</td>\n",
              "      <td>102.00</td>\n",
              "      <td>102.61</td>\n",
              "      <td>67649387</td>\n",
              "      <td>24.397857</td>\n",
              "      <td>24.402026</td>\n",
              "      <td>23.622035</td>\n",
              "      <td>23.763304</td>\n",
              "      <td>270597548</td>\n",
              "      <td>0.0</td>\n",
              "      <td>1.0</td>\n",
              "    </tr>\n",
              "    <tr>\n",
              "      <th>1</th>\n",
              "      <td>AAPL</td>\n",
              "      <td>2016-01-05 00:00:00+00:00</td>\n",
              "      <td>102.71</td>\n",
              "      <td>105.850</td>\n",
              "      <td>102.41</td>\n",
              "      <td>105.75</td>\n",
              "      <td>55790992</td>\n",
              "      <td>23.786463</td>\n",
              "      <td>24.513651</td>\n",
              "      <td>23.716987</td>\n",
              "      <td>24.490493</td>\n",
              "      <td>223163968</td>\n",
              "      <td>0.0</td>\n",
              "      <td>1.0</td>\n",
              "    </tr>\n",
              "    <tr>\n",
              "      <th>2</th>\n",
              "      <td>AAPL</td>\n",
              "      <td>2016-01-06 00:00:00+00:00</td>\n",
              "      <td>100.70</td>\n",
              "      <td>102.370</td>\n",
              "      <td>99.87</td>\n",
              "      <td>100.56</td>\n",
              "      <td>68457388</td>\n",
              "      <td>23.320970</td>\n",
              "      <td>23.707723</td>\n",
              "      <td>23.128752</td>\n",
              "      <td>23.288548</td>\n",
              "      <td>273829552</td>\n",
              "      <td>0.0</td>\n",
              "      <td>1.0</td>\n",
              "    </tr>\n",
              "    <tr>\n",
              "      <th>3</th>\n",
              "      <td>AAPL</td>\n",
              "      <td>2016-01-07 00:00:00+00:00</td>\n",
              "      <td>96.45</td>\n",
              "      <td>100.130</td>\n",
              "      <td>96.43</td>\n",
              "      <td>98.68</td>\n",
              "      <td>81094428</td>\n",
              "      <td>22.336719</td>\n",
              "      <td>23.188965</td>\n",
              "      <td>22.332087</td>\n",
              "      <td>22.853161</td>\n",
              "      <td>324377712</td>\n",
              "      <td>0.0</td>\n",
              "      <td>1.0</td>\n",
              "    </tr>\n",
              "    <tr>\n",
              "      <th>4</th>\n",
              "      <td>AAPL</td>\n",
              "      <td>2016-01-08 00:00:00+00:00</td>\n",
              "      <td>96.96</td>\n",
              "      <td>99.110</td>\n",
              "      <td>96.76</td>\n",
              "      <td>98.55</td>\n",
              "      <td>70798016</td>\n",
              "      <td>22.454829</td>\n",
              "      <td>22.952744</td>\n",
              "      <td>22.408511</td>\n",
              "      <td>22.823055</td>\n",
              "      <td>283192064</td>\n",
              "      <td>0.0</td>\n",
              "      <td>1.0</td>\n",
              "    </tr>\n",
              "  </tbody>\n",
              "</table>\n",
              "</div>"
            ],
            "text/plain": [
              "  symbol                       date   close  ...  adjVolume  divCash  splitFactor\n",
              "0   AAPL  2016-01-04 00:00:00+00:00  105.35  ...  270597548      0.0          1.0\n",
              "1   AAPL  2016-01-05 00:00:00+00:00  102.71  ...  223163968      0.0          1.0\n",
              "2   AAPL  2016-01-06 00:00:00+00:00  100.70  ...  273829552      0.0          1.0\n",
              "3   AAPL  2016-01-07 00:00:00+00:00   96.45  ...  324377712      0.0          1.0\n",
              "4   AAPL  2016-01-08 00:00:00+00:00   96.96  ...  283192064      0.0          1.0\n",
              "\n",
              "[5 rows x 14 columns]"
            ]
          },
          "metadata": {
            "tags": []
          },
          "execution_count": 4
        }
      ]
    },
    {
      "cell_type": "code",
      "metadata": {
        "colab": {
          "base_uri": "https://localhost:8080/",
          "height": 305
        },
        "id": "PgPnjBXBEwu6",
        "outputId": "fdca9946-a48b-435f-e50f-9b1301e25d60"
      },
      "source": [
        "df_master.tail()"
      ],
      "execution_count": 5,
      "outputs": [
        {
          "output_type": "execute_result",
          "data": {
            "text/html": [
              "<div>\n",
              "<style scoped>\n",
              "    .dataframe tbody tr th:only-of-type {\n",
              "        vertical-align: middle;\n",
              "    }\n",
              "\n",
              "    .dataframe tbody tr th {\n",
              "        vertical-align: top;\n",
              "    }\n",
              "\n",
              "    .dataframe thead th {\n",
              "        text-align: right;\n",
              "    }\n",
              "</style>\n",
              "<table border=\"1\" class=\"dataframe\">\n",
              "  <thead>\n",
              "    <tr style=\"text-align: right;\">\n",
              "      <th></th>\n",
              "      <th>symbol</th>\n",
              "      <th>date</th>\n",
              "      <th>close</th>\n",
              "      <th>high</th>\n",
              "      <th>low</th>\n",
              "      <th>open</th>\n",
              "      <th>volume</th>\n",
              "      <th>adjClose</th>\n",
              "      <th>adjHigh</th>\n",
              "      <th>adjLow</th>\n",
              "      <th>adjOpen</th>\n",
              "      <th>adjVolume</th>\n",
              "      <th>divCash</th>\n",
              "      <th>splitFactor</th>\n",
              "    </tr>\n",
              "  </thead>\n",
              "  <tbody>\n",
              "    <tr>\n",
              "      <th>1254</th>\n",
              "      <td>AAPL</td>\n",
              "      <td>2020-12-24 00:00:00+00:00</td>\n",
              "      <td>131.97</td>\n",
              "      <td>133.460</td>\n",
              "      <td>131.1000</td>\n",
              "      <td>131.32</td>\n",
              "      <td>54930064</td>\n",
              "      <td>131.97</td>\n",
              "      <td>133.460</td>\n",
              "      <td>131.1000</td>\n",
              "      <td>131.32</td>\n",
              "      <td>54930064</td>\n",
              "      <td>0.0</td>\n",
              "      <td>1.0</td>\n",
              "    </tr>\n",
              "    <tr>\n",
              "      <th>1255</th>\n",
              "      <td>AAPL</td>\n",
              "      <td>2020-12-28 00:00:00+00:00</td>\n",
              "      <td>136.69</td>\n",
              "      <td>137.340</td>\n",
              "      <td>133.5100</td>\n",
              "      <td>133.99</td>\n",
              "      <td>123124632</td>\n",
              "      <td>136.69</td>\n",
              "      <td>137.340</td>\n",
              "      <td>133.5100</td>\n",
              "      <td>133.99</td>\n",
              "      <td>123124632</td>\n",
              "      <td>0.0</td>\n",
              "      <td>1.0</td>\n",
              "    </tr>\n",
              "    <tr>\n",
              "      <th>1256</th>\n",
              "      <td>AAPL</td>\n",
              "      <td>2020-12-29 00:00:00+00:00</td>\n",
              "      <td>134.87</td>\n",
              "      <td>138.789</td>\n",
              "      <td>134.3409</td>\n",
              "      <td>138.05</td>\n",
              "      <td>121047324</td>\n",
              "      <td>134.87</td>\n",
              "      <td>138.789</td>\n",
              "      <td>134.3409</td>\n",
              "      <td>138.05</td>\n",
              "      <td>121047324</td>\n",
              "      <td>0.0</td>\n",
              "      <td>1.0</td>\n",
              "    </tr>\n",
              "    <tr>\n",
              "      <th>1257</th>\n",
              "      <td>AAPL</td>\n",
              "      <td>2020-12-30 00:00:00+00:00</td>\n",
              "      <td>133.72</td>\n",
              "      <td>135.990</td>\n",
              "      <td>133.4000</td>\n",
              "      <td>135.58</td>\n",
              "      <td>96452124</td>\n",
              "      <td>133.72</td>\n",
              "      <td>135.990</td>\n",
              "      <td>133.4000</td>\n",
              "      <td>135.58</td>\n",
              "      <td>96452124</td>\n",
              "      <td>0.0</td>\n",
              "      <td>1.0</td>\n",
              "    </tr>\n",
              "    <tr>\n",
              "      <th>1258</th>\n",
              "      <td>AAPL</td>\n",
              "      <td>2020-12-31 00:00:00+00:00</td>\n",
              "      <td>132.69</td>\n",
              "      <td>134.740</td>\n",
              "      <td>131.7200</td>\n",
              "      <td>134.08</td>\n",
              "      <td>99116586</td>\n",
              "      <td>132.69</td>\n",
              "      <td>134.740</td>\n",
              "      <td>131.7200</td>\n",
              "      <td>134.08</td>\n",
              "      <td>99116586</td>\n",
              "      <td>0.0</td>\n",
              "      <td>1.0</td>\n",
              "    </tr>\n",
              "  </tbody>\n",
              "</table>\n",
              "</div>"
            ],
            "text/plain": [
              "     symbol                       date   close  ...  adjVolume  divCash  splitFactor\n",
              "1254   AAPL  2020-12-24 00:00:00+00:00  131.97  ...   54930064      0.0          1.0\n",
              "1255   AAPL  2020-12-28 00:00:00+00:00  136.69  ...  123124632      0.0          1.0\n",
              "1256   AAPL  2020-12-29 00:00:00+00:00  134.87  ...  121047324      0.0          1.0\n",
              "1257   AAPL  2020-12-30 00:00:00+00:00  133.72  ...   96452124      0.0          1.0\n",
              "1258   AAPL  2020-12-31 00:00:00+00:00  132.69  ...   99116586      0.0          1.0\n",
              "\n",
              "[5 rows x 14 columns]"
            ]
          },
          "metadata": {
            "tags": []
          },
          "execution_count": 5
        }
      ]
    },
    {
      "cell_type": "code",
      "metadata": {
        "id": "dQB4m5wSEwu6"
      },
      "source": [
        "#df1 = df_master.reset_index()['close']"
      ],
      "execution_count": 6,
      "outputs": []
    },
    {
      "cell_type": "code",
      "metadata": {
        "id": "qFe3q3q_OlY7"
      },
      "source": [
        "df = df_master[['date','close']].copy()"
      ],
      "execution_count": 7,
      "outputs": []
    },
    {
      "cell_type": "code",
      "metadata": {
        "id": "fftolsL3OlY7",
        "outputId": "3f2b7f93-4330-4749-c74e-17fa783b16a4",
        "colab": {
          "base_uri": "https://localhost:8080/"
        }
      },
      "source": [
        "df.info()"
      ],
      "execution_count": 8,
      "outputs": [
        {
          "output_type": "stream",
          "text": [
            "<class 'pandas.core.frame.DataFrame'>\n",
            "RangeIndex: 1259 entries, 0 to 1258\n",
            "Data columns (total 2 columns):\n",
            " #   Column  Non-Null Count  Dtype  \n",
            "---  ------  --------------  -----  \n",
            " 0   date    1259 non-null   object \n",
            " 1   close   1259 non-null   float64\n",
            "dtypes: float64(1), object(1)\n",
            "memory usage: 19.8+ KB\n"
          ],
          "name": "stdout"
        }
      ]
    },
    {
      "cell_type": "code",
      "metadata": {
        "id": "a5s3ZZCUOlY7"
      },
      "source": [
        "df['date']= pd.to_datetime(df['date'])"
      ],
      "execution_count": 9,
      "outputs": []
    },
    {
      "cell_type": "code",
      "metadata": {
        "id": "Ty3IGHpvOlY8",
        "outputId": "a3c2c212-edb5-4a79-f7a4-0cb712cafdf5",
        "colab": {
          "base_uri": "https://localhost:8080/"
        }
      },
      "source": [
        "df['date'].dt.strftime('%Y-%m-%d')"
      ],
      "execution_count": 10,
      "outputs": [
        {
          "output_type": "execute_result",
          "data": {
            "text/plain": [
              "0       2016-01-04\n",
              "1       2016-01-05\n",
              "2       2016-01-06\n",
              "3       2016-01-07\n",
              "4       2016-01-08\n",
              "           ...    \n",
              "1254    2020-12-24\n",
              "1255    2020-12-28\n",
              "1256    2020-12-29\n",
              "1257    2020-12-30\n",
              "1258    2020-12-31\n",
              "Name: date, Length: 1259, dtype: object"
            ]
          },
          "metadata": {
            "tags": []
          },
          "execution_count": 10
        }
      ]
    },
    {
      "cell_type": "code",
      "metadata": {
        "id": "4vqag_XjOlY8"
      },
      "source": [
        "df.set_index('date', inplace = True)"
      ],
      "execution_count": 11,
      "outputs": []
    },
    {
      "cell_type": "code",
      "metadata": {
        "id": "72ahyg_mOlY9",
        "outputId": "a0029569-5f18-4f20-ea09-42004844c71b",
        "colab": {
          "base_uri": "https://localhost:8080/"
        }
      },
      "source": [
        "df.info()"
      ],
      "execution_count": 12,
      "outputs": [
        {
          "output_type": "stream",
          "text": [
            "<class 'pandas.core.frame.DataFrame'>\n",
            "DatetimeIndex: 1259 entries, 2016-01-04 00:00:00+00:00 to 2020-12-31 00:00:00+00:00\n",
            "Data columns (total 1 columns):\n",
            " #   Column  Non-Null Count  Dtype  \n",
            "---  ------  --------------  -----  \n",
            " 0   close   1259 non-null   float64\n",
            "dtypes: float64(1)\n",
            "memory usage: 19.7 KB\n"
          ],
          "name": "stdout"
        }
      ]
    },
    {
      "cell_type": "code",
      "metadata": {
        "colab": {
          "base_uri": "https://localhost:8080/",
          "height": 482
        },
        "id": "ay_dQMawEwu7",
        "outputId": "70e4e687-336d-4db0-879e-f8dcdad43147"
      },
      "source": [
        "df.plot(figsize=(12,8))"
      ],
      "execution_count": 13,
      "outputs": [
        {
          "output_type": "execute_result",
          "data": {
            "text/plain": [
              "<matplotlib.axes._subplots.AxesSubplot at 0x7fe15f955898>"
            ]
          },
          "metadata": {
            "tags": []
          },
          "execution_count": 13
        },
        {
          "output_type": "display_data",
          "data": {
            "image/png": "[encoded data removed]",
            "text/plain": [
              "<Figure size 864x576 with 1 Axes>"
            ]
          },
          "metadata": {
            "tags": [],
            "needs_background": "light"
          }
        }
      ]
    },
    {
      "cell_type": "code",
      "metadata": {
        "id": "R_cuw6BsOlZB",
        "outputId": "73533bc0-e6d5-4c2f-ce36-96b938b5123a",
        "colab": {
          "base_uri": "https://localhost:8080/"
        }
      },
      "source": [
        "len(df)"
      ],
      "execution_count": 14,
      "outputs": [
        {
          "output_type": "execute_result",
          "data": {
            "text/plain": [
              "1259"
            ]
          },
          "metadata": {
            "tags": []
          },
          "execution_count": 14
        }
      ]
    },
    {
      "cell_type": "code",
      "metadata": {
        "id": "WZ5Oj096OlZB"
      },
      "source": [
        "test_size =  int(len(df)*0.35)\n",
        "test_ind = len(df)- test_size"
      ],
      "execution_count": 15,
      "outputs": []
    },
    {
      "cell_type": "code",
      "metadata": {
        "id": "sojDtaA3OlZC",
        "outputId": "131740ca-d6bd-48ed-e72d-930cc173cbc3",
        "colab": {
          "base_uri": "https://localhost:8080/"
        }
      },
      "source": [
        "test_size"
      ],
      "execution_count": 16,
      "outputs": [
        {
          "output_type": "execute_result",
          "data": {
            "text/plain": [
              "440"
            ]
          },
          "metadata": {
            "tags": []
          },
          "execution_count": 16
        }
      ]
    },
    {
      "cell_type": "code",
      "metadata": {
        "id": "XvsRr42xOlZD"
      },
      "source": [
        "train = df.iloc[:test_ind]\n",
        "test = df.iloc[test_ind:]"
      ],
      "execution_count": 17,
      "outputs": []
    },
    {
      "cell_type": "code",
      "metadata": {
        "id": "uRprqDgNEwu7",
        "outputId": "3fe2984a-d25f-4552-aa00-8165cf277e54",
        "colab": {
          "base_uri": "https://localhost:8080/"
        }
      },
      "source": [
        "from sklearn.preprocessing import MinMaxScaler\n",
        "scaler = MinMaxScaler(feature_range = (0,1))\n",
        "scaler.fit(train)"
      ],
      "execution_count": 18,
      "outputs": [
        {
          "output_type": "execute_result",
          "data": {
            "text/plain": [
              "MinMaxScaler(copy=True, feature_range=(0, 1))"
            ]
          },
          "metadata": {
            "tags": []
          },
          "execution_count": 18
        }
      ]
    },
    {
      "cell_type": "code",
      "metadata": {
        "id": "OPKJVq67OlZE"
      },
      "source": [
        "scaled_train = scaler.transform(train)\n",
        "scaled_test = scaler.transform(test)"
      ],
      "execution_count": 19,
      "outputs": []
    },
    {
      "cell_type": "code",
      "metadata": {
        "id": "t4YQSop2Ewu9"
      },
      "source": [
        "time_step = 100"
      ],
      "execution_count": 20,
      "outputs": []
    },
    {
      "cell_type": "code",
      "metadata": {
        "id": "99oQxKuxOlZE"
      },
      "source": [
        "time_step = 100\n",
        "n_features = 1\n",
        "\n",
        "generator = TimeseriesGenerator(scaled_train, scaled_train, \n",
        "                                length=time_step, batch_size=1)\n",
        "\n",
        "validation_generator = TimeseriesGenerator(scaled_test, scaled_test, \n",
        "                                           length = time_step, batch_size = 1)"
      ],
      "execution_count": 21,
      "outputs": []
    },
    {
      "cell_type": "code",
      "metadata": {
        "colab": {
          "base_uri": "https://localhost:8080/"
        },
        "id": "R5mIVCzfEwu9",
        "outputId": "30abdb74-983a-4bfc-98f1-9e670e555c71"
      },
      "source": [
        "print(len(generator))\n",
        "print(len(validation_generator))"
      ],
      "execution_count": 22,
      "outputs": [
        {
          "output_type": "stream",
          "text": [
            "719\n",
            "340\n"
          ],
          "name": "stdout"
        }
      ]
    },
    {
      "cell_type": "code",
      "metadata": {
        "colab": {
          "base_uri": "https://localhost:8080/"
        },
        "id": "a-B_cijSEwu9",
        "outputId": "4b5e401f-6517-4abd-c8e2-9aede0e906fd"
      },
      "source": [
        "model=Sequential()\n",
        "model.add(LSTM(50,return_sequences=True,input_shape=(100,n_features)))\n",
        "model.add(LSTM(50,return_sequences=True))\n",
        "model.add(LSTM(50))\n",
        "model.add(Dense(1))\n",
        "model.compile(loss='mean_squared_error',optimizer='adam')\n",
        "model.summary()"
      ],
      "execution_count": 23,
      "outputs": [
        {
          "output_type": "stream",
          "text": [
            "Model: \"sequential\"\n",
            "_________________________________________________________________\n",
            "Layer (type)                 Output Shape              Param #   \n",
            "=================================================================\n",
            "lstm (LSTM)                  (None, 100, 50)           10400     \n",
            "_________________________________________________________________\n",
            "lstm_1 (LSTM)                (None, 100, 50)           20200     \n",
            "_________________________________________________________________\n",
            "lstm_2 (LSTM)                (None, 50)                20200     \n",
            "_________________________________________________________________\n",
            "dense (Dense)                (None, 1)                 51        \n",
            "=================================================================\n",
            "Total params: 50,851\n",
            "Trainable params: 50,851\n",
            "Non-trainable params: 0\n",
            "_________________________________________________________________\n"
          ],
          "name": "stdout"
        }
      ]
    },
    {
      "cell_type": "code",
      "metadata": {
        "colab": {
          "base_uri": "https://localhost:8080/"
        },
        "id": "cYY7dGwcEwu-",
        "outputId": "4a0fe4c1-1b3a-4f99-a8c6-d9d575ed1618"
      },
      "source": [
        "model.fit(generator,epochs = 100 ,\n",
        "            validation_data = validation_generator)"
      ],
      "execution_count": 24,
      "outputs": [
        {
          "output_type": "stream",
          "text": [
            "Epoch 1/100\n",
            "719/719 [==============================] - 22s 17ms/step - loss: 0.0165 - val_loss: 0.1046\n",
            "Epoch 2/100\n",
            "719/719 [==============================] - 11s 16ms/step - loss: 0.0020 - val_loss: 0.0816\n",
            "Epoch 3/100\n",
            "719/719 [==============================] - 11s 16ms/step - loss: 0.0020 - val_loss: 0.0487\n",
            "Epoch 4/100\n",
            "719/719 [==============================] - 11s 16ms/step - loss: 0.0015 - val_loss: 0.0321\n",
            "Epoch 5/100\n",
            "719/719 [==============================] - 11s 16ms/step - loss: 0.0013 - val_loss: 0.0324\n",
            "Epoch 6/100\n",
            "719/719 [==============================] - 11s 16ms/step - loss: 9.5222e-04 - val_loss: 0.0429\n",
            "Epoch 7/100\n",
            "719/719 [==============================] - 11s 16ms/step - loss: 8.5053e-04 - val_loss: 0.0369\n",
            "Epoch 8/100\n",
            "719/719 [==============================] - 11s 16ms/step - loss: 6.6891e-04 - val_loss: 0.0402\n",
            "Epoch 9/100\n",
            "719/719 [==============================] - 11s 16ms/step - loss: 7.9694e-04 - val_loss: 0.0532\n",
            "Epoch 10/100\n",
            "719/719 [==============================] - 11s 15ms/step - loss: 7.7180e-04 - val_loss: 0.0418\n",
            "Epoch 11/100\n",
            "719/719 [==============================] - 11s 16ms/step - loss: 7.5609e-04 - val_loss: 0.0415\n",
            "Epoch 12/100\n",
            "719/719 [==============================] - 11s 15ms/step - loss: 6.1511e-04 - val_loss: 0.0521\n",
            "Epoch 13/100\n",
            "719/719 [==============================] - 11s 15ms/step - loss: 6.0668e-04 - val_loss: 0.0557\n",
            "Epoch 14/100\n",
            "719/719 [==============================] - 11s 15ms/step - loss: 5.7524e-04 - val_loss: 0.0489\n",
            "Epoch 15/100\n",
            "719/719 [==============================] - 11s 15ms/step - loss: 5.5326e-04 - val_loss: 0.0523\n",
            "Epoch 16/100\n",
            "719/719 [==============================] - 11s 15ms/step - loss: 5.4086e-04 - val_loss: 0.0554\n",
            "Epoch 17/100\n",
            "719/719 [==============================] - 11s 15ms/step - loss: 5.7419e-04 - val_loss: 0.0666\n",
            "Epoch 18/100\n",
            "719/719 [==============================] - 11s 15ms/step - loss: 6.5539e-04 - val_loss: 0.0639\n",
            "Epoch 19/100\n",
            "719/719 [==============================] - 11s 15ms/step - loss: 6.3148e-04 - val_loss: 0.0580\n",
            "Epoch 20/100\n",
            "719/719 [==============================] - 11s 15ms/step - loss: 5.1392e-04 - val_loss: 0.0559\n",
            "Epoch 21/100\n",
            "719/719 [==============================] - 11s 15ms/step - loss: 5.0872e-04 - val_loss: 0.0811\n",
            "Epoch 22/100\n",
            "719/719 [==============================] - 11s 15ms/step - loss: 6.1365e-04 - val_loss: 0.0527\n",
            "Epoch 23/100\n",
            "719/719 [==============================] - 11s 15ms/step - loss: 5.7210e-04 - val_loss: 0.0644\n",
            "Epoch 24/100\n",
            "719/719 [==============================] - 10s 15ms/step - loss: 6.3221e-04 - val_loss: 0.0634\n",
            "Epoch 25/100\n",
            "719/719 [==============================] - 11s 15ms/step - loss: 4.7307e-04 - val_loss: 0.0723\n",
            "Epoch 26/100\n",
            "719/719 [==============================] - 11s 15ms/step - loss: 6.2427e-04 - val_loss: 0.0757\n",
            "Epoch 27/100\n",
            "719/719 [==============================] - 10s 14ms/step - loss: 4.8971e-04 - val_loss: 0.1072\n",
            "Epoch 28/100\n",
            "719/719 [==============================] - 11s 15ms/step - loss: 5.8634e-04 - val_loss: 0.0779\n",
            "Epoch 29/100\n",
            "719/719 [==============================] - 11s 15ms/step - loss: 5.1047e-04 - val_loss: 0.0870\n",
            "Epoch 30/100\n",
            "719/719 [==============================] - 10s 14ms/step - loss: 5.1684e-04 - val_loss: 0.0981\n",
            "Epoch 31/100\n",
            "719/719 [==============================] - 10s 15ms/step - loss: 4.0525e-04 - val_loss: 0.1384\n",
            "Epoch 32/100\n",
            "719/719 [==============================] - 10s 14ms/step - loss: 7.3663e-04 - val_loss: 0.0795\n",
            "Epoch 33/100\n",
            "719/719 [==============================] - 10s 14ms/step - loss: 5.1991e-04 - val_loss: 0.0800\n",
            "Epoch 34/100\n",
            "719/719 [==============================] - 10s 14ms/step - loss: 4.5631e-04 - val_loss: 0.0744\n",
            "Epoch 35/100\n",
            "719/719 [==============================] - 10s 14ms/step - loss: 5.2690e-04 - val_loss: 0.0712\n",
            "Epoch 36/100\n",
            "719/719 [==============================] - 10s 15ms/step - loss: 6.0062e-04 - val_loss: 0.0919\n",
            "Epoch 37/100\n",
            "719/719 [==============================] - 10s 15ms/step - loss: 6.4662e-04 - val_loss: 0.0876\n",
            "Epoch 38/100\n",
            "719/719 [==============================] - 10s 14ms/step - loss: 5.0806e-04 - val_loss: 0.0960\n",
            "Epoch 39/100\n",
            "719/719 [==============================] - 10s 14ms/step - loss: 4.2407e-04 - val_loss: 0.1011\n",
            "Epoch 40/100\n",
            "719/719 [==============================] - 11s 15ms/step - loss: 5.1481e-04 - val_loss: 0.0964\n",
            "Epoch 41/100\n",
            "719/719 [==============================] - 10s 14ms/step - loss: 4.4514e-04 - val_loss: 0.0771\n",
            "Epoch 42/100\n",
            "719/719 [==============================] - 10s 14ms/step - loss: 4.8289e-04 - val_loss: 0.0752\n",
            "Epoch 43/100\n",
            "719/719 [==============================] - 11s 15ms/step - loss: 5.0175e-04 - val_loss: 0.0807\n",
            "Epoch 44/100\n",
            "719/719 [==============================] - 11s 16ms/step - loss: 5.4870e-04 - val_loss: 0.1011\n",
            "Epoch 45/100\n",
            "719/719 [==============================] - 11s 15ms/step - loss: 4.3656e-04 - val_loss: 0.0965\n",
            "Epoch 46/100\n",
            "719/719 [==============================] - 11s 16ms/step - loss: 4.8906e-04 - val_loss: 0.1279\n",
            "Epoch 47/100\n",
            "719/719 [==============================] - 12s 16ms/step - loss: 6.1310e-04 - val_loss: 0.1123\n",
            "Epoch 48/100\n",
            "719/719 [==============================] - 11s 15ms/step - loss: 5.9555e-04 - val_loss: 0.1183\n",
            "Epoch 49/100\n",
            "719/719 [==============================] - 11s 15ms/step - loss: 4.6917e-04 - val_loss: 0.0973\n",
            "Epoch 50/100\n",
            "719/719 [==============================] - 11s 15ms/step - loss: 3.6830e-04 - val_loss: 0.0856\n",
            "Epoch 51/100\n",
            "719/719 [==============================] - 11s 15ms/step - loss: 4.1180e-04 - val_loss: 0.1159\n",
            "Epoch 52/100\n",
            "719/719 [==============================] - 11s 15ms/step - loss: 3.7681e-04 - val_loss: 0.0965\n",
            "Epoch 53/100\n",
            "719/719 [==============================] - 11s 15ms/step - loss: 4.8804e-04 - val_loss: 0.1111\n",
            "Epoch 54/100\n",
            "719/719 [==============================] - 11s 15ms/step - loss: 4.0873e-04 - val_loss: 0.1084\n",
            "Epoch 55/100\n",
            "719/719 [==============================] - 11s 15ms/step - loss: 4.3790e-04 - val_loss: 0.1042\n",
            "Epoch 56/100\n",
            "719/719 [==============================] - 11s 15ms/step - loss: 4.4290e-04 - val_loss: 0.0969\n",
            "Epoch 57/100\n",
            "719/719 [==============================] - 11s 15ms/step - loss: 4.7408e-04 - val_loss: 0.0914\n",
            "Epoch 58/100\n",
            "719/719 [==============================] - 11s 15ms/step - loss: 4.4884e-04 - val_loss: 0.0981\n",
            "Epoch 59/100\n",
            "719/719 [==============================] - 11s 15ms/step - loss: 4.0252e-04 - val_loss: 0.1071\n",
            "Epoch 60/100\n",
            "719/719 [==============================] - 11s 15ms/step - loss: 3.9926e-04 - val_loss: 0.1013\n",
            "Epoch 61/100\n",
            "719/719 [==============================] - 11s 15ms/step - loss: 4.8589e-04 - val_loss: 0.1134\n",
            "Epoch 62/100\n",
            "719/719 [==============================] - 11s 15ms/step - loss: 4.4660e-04 - val_loss: 0.1007\n",
            "Epoch 63/100\n",
            "719/719 [==============================] - 11s 15ms/step - loss: 5.4067e-04 - val_loss: 0.1119\n",
            "Epoch 64/100\n",
            "719/719 [==============================] - 11s 15ms/step - loss: 4.7530e-04 - val_loss: 0.1073\n",
            "Epoch 65/100\n",
            "719/719 [==============================] - 11s 15ms/step - loss: 5.1477e-04 - val_loss: 0.1252\n",
            "Epoch 66/100\n",
            "719/719 [==============================] - 11s 15ms/step - loss: 5.0956e-04 - val_loss: 0.1091\n",
            "Epoch 67/100\n",
            "719/719 [==============================] - 11s 16ms/step - loss: 4.4780e-04 - val_loss: 0.1340\n",
            "Epoch 68/100\n",
            "719/719 [==============================] - 11s 16ms/step - loss: 3.5593e-04 - val_loss: 0.1358\n",
            "Epoch 69/100\n",
            "719/719 [==============================] - 11s 16ms/step - loss: 4.9583e-04 - val_loss: 0.1198\n",
            "Epoch 70/100\n",
            "719/719 [==============================] - 11s 16ms/step - loss: 4.2964e-04 - val_loss: 0.1269\n",
            "Epoch 71/100\n",
            "719/719 [==============================] - 11s 15ms/step - loss: 4.6202e-04 - val_loss: 0.1125\n",
            "Epoch 72/100\n",
            "719/719 [==============================] - 11s 16ms/step - loss: 4.2750e-04 - val_loss: 0.1249\n",
            "Epoch 73/100\n",
            "719/719 [==============================] - 11s 15ms/step - loss: 4.5783e-04 - val_loss: 0.1325\n",
            "Epoch 74/100\n",
            "719/719 [==============================] - 11s 15ms/step - loss: 4.5243e-04 - val_loss: 0.1177\n",
            "Epoch 75/100\n",
            "719/719 [==============================] - 12s 16ms/step - loss: 4.2827e-04 - val_loss: 0.1229\n",
            "Epoch 76/100\n",
            "719/719 [==============================] - 11s 16ms/step - loss: 4.2262e-04 - val_loss: 0.1095\n",
            "Epoch 77/100\n",
            "719/719 [==============================] - 11s 15ms/step - loss: 4.1359e-04 - val_loss: 0.1257\n",
            "Epoch 78/100\n",
            "719/719 [==============================] - 11s 15ms/step - loss: 5.1688e-04 - val_loss: 0.1231\n",
            "Epoch 79/100\n",
            "719/719 [==============================] - 11s 15ms/step - loss: 4.3790e-04 - val_loss: 0.1242\n",
            "Epoch 80/100\n",
            "719/719 [==============================] - 11s 15ms/step - loss: 4.7355e-04 - val_loss: 0.1267\n",
            "Epoch 81/100\n",
            "719/719 [==============================] - 11s 15ms/step - loss: 4.9635e-04 - val_loss: 0.1193\n",
            "Epoch 82/100\n",
            "719/719 [==============================] - 11s 15ms/step - loss: 4.2516e-04 - val_loss: 0.1130\n",
            "Epoch 83/100\n",
            "719/719 [==============================] - 11s 15ms/step - loss: 4.5993e-04 - val_loss: 0.1323\n",
            "Epoch 84/100\n",
            "719/719 [==============================] - 11s 15ms/step - loss: 3.4206e-04 - val_loss: 0.1275\n",
            "Epoch 85/100\n",
            "719/719 [==============================] - 11s 16ms/step - loss: 4.1852e-04 - val_loss: 0.1528\n",
            "Epoch 86/100\n",
            "719/719 [==============================] - 11s 16ms/step - loss: 4.7556e-04 - val_loss: 0.1241\n",
            "Epoch 87/100\n",
            "719/719 [==============================] - 11s 15ms/step - loss: 3.9695e-04 - val_loss: 0.1479\n",
            "Epoch 88/100\n",
            "719/719 [==============================] - 11s 15ms/step - loss: 3.8338e-04 - val_loss: 0.1259\n",
            "Epoch 89/100\n",
            "719/719 [==============================] - 11s 15ms/step - loss: 3.9906e-04 - val_loss: 0.1492\n",
            "Epoch 90/100\n",
            "719/719 [==============================] - 11s 15ms/step - loss: 4.3627e-04 - val_loss: 0.1607\n",
            "Epoch 91/100\n",
            "719/719 [==============================] - 11s 15ms/step - loss: 3.9376e-04 - val_loss: 0.1436\n",
            "Epoch 92/100\n",
            "719/719 [==============================] - 11s 15ms/step - loss: 4.5424e-04 - val_loss: 0.1350\n",
            "Epoch 93/100\n",
            "719/719 [==============================] - 11s 15ms/step - loss: 5.3914e-04 - val_loss: 0.1292\n",
            "Epoch 94/100\n",
            "719/719 [==============================] - 11s 15ms/step - loss: 4.2049e-04 - val_loss: 0.1353\n",
            "Epoch 95/100\n",
            "719/719 [==============================] - 11s 15ms/step - loss: 3.5479e-04 - val_loss: 0.1409\n",
            "Epoch 96/100\n",
            "719/719 [==============================] - 11s 15ms/step - loss: 3.5510e-04 - val_loss: 0.1552\n",
            "Epoch 97/100\n",
            "719/719 [==============================] - 11s 15ms/step - loss: 3.9629e-04 - val_loss: 0.1357\n",
            "Epoch 98/100\n",
            "719/719 [==============================] - 11s 15ms/step - loss: 4.5273e-04 - val_loss: 0.1447\n",
            "Epoch 99/100\n",
            "719/719 [==============================] - 11s 15ms/step - loss: 3.6474e-04 - val_loss: 0.1630\n",
            "Epoch 100/100\n",
            "719/719 [==============================] - 11s 15ms/step - loss: 4.0290e-04 - val_loss: 0.1412\n"
          ],
          "name": "stdout"
        },
        {
          "output_type": "execute_result",
          "data": {
            "text/plain": [
              "<tensorflow.python.keras.callbacks.History at 0x7fe0f6f52278>"
            ]
          },
          "metadata": {
            "tags": []
          },
          "execution_count": 24
        }
      ]
    },
    {
      "cell_type": "code",
      "metadata": {
        "colab": {
          "base_uri": "https://localhost:8080/",
          "height": 282
        },
        "id": "pkCSkq--Ewu-",
        "outputId": "8c4e5d19-d0d2-4bdb-cafc-e8951ecbb694"
      },
      "source": [
        "loss = pd.DataFrame(model.history.history)\n",
        "loss.plot()"
      ],
      "execution_count": 25,
      "outputs": [
        {
          "output_type": "execute_result",
          "data": {
            "text/plain": [
              "<matplotlib.axes._subplots.AxesSubplot at 0x7fe0fffcba58>"
            ]
          },
          "metadata": {
            "tags": []
          },
          "execution_count": 25
        },
        {
          "output_type": "display_data",
          "data": {
            "image/png": "[encoded data removed]",
            "text/plain": [
              "<Figure size 432x288 with 1 Axes>"
            ]
          },
          "metadata": {
            "tags": [],
            "needs_background": "light"
          }
        }
      ]
    },
    {
      "cell_type": "code",
      "metadata": {
        "colab": {
          "base_uri": "https://localhost:8080/"
        },
        "id": "6hDTfsaYKm3T",
        "outputId": "65f5b5f5-3090-478a-d412-f98b48c3a0fc"
      },
      "source": [
        "!mkdir -p saved_model\r\n",
        "model.save('saved_model/my_model')"
      ],
      "execution_count": 26,
      "outputs": [
        {
          "output_type": "stream",
          "text": [
            "WARNING:absl:Found untraced functions such as lstm_cell_layer_call_and_return_conditional_losses, lstm_cell_layer_call_fn, lstm_cell_1_layer_call_and_return_conditional_losses, lstm_cell_1_layer_call_fn, lstm_cell_2_layer_call_and_return_conditional_losses while saving (showing 5 of 15). These functions will not be directly callable after loading.\n",
            "WARNING:absl:Found untraced functions such as lstm_cell_layer_call_and_return_conditional_losses, lstm_cell_layer_call_fn, lstm_cell_1_layer_call_and_return_conditional_losses, lstm_cell_1_layer_call_fn, lstm_cell_2_layer_call_and_return_conditional_losses while saving (showing 5 of 15). These functions will not be directly callable after loading.\n"
          ],
          "name": "stderr"
        },
        {
          "output_type": "stream",
          "text": [
            "INFO:tensorflow:Assets written to: saved_model/my_model/assets\n"
          ],
          "name": "stdout"
        },
        {
          "output_type": "stream",
          "text": [
            "INFO:tensorflow:Assets written to: saved_model/my_model/assets\n"
          ],
          "name": "stderr"
        }
      ]
    },
    {
      "cell_type": "code",
      "metadata": {
        "id": "sTlx4MCDUHeE"
      },
      "source": [
        "#my_model = tf.keras.models.load_model('saved_model/my_model')\r\n",
        "#my_model.summary()"
      ],
      "execution_count": 27,
      "outputs": []
    },
    {
      "cell_type": "code",
      "metadata": {
        "id": "HYwe-7gfOlZH"
      },
      "source": [
        "train_predictions = []\n",
        "\n",
        "first_step = scaled_train[-time_step:]\n",
        "current_step = first_step.reshape((1, time_step, n_features))\n",
        "\n",
        "for i in range(len(train)):\n",
        "    current_pred = model.predict(current_step)[0]\n",
        "    train_predictions.append(current_pred) \n",
        "    current_step = np.append(current_step[:,1:,:], [[current_pred]], axis=1)"
      ],
      "execution_count": 28,
      "outputs": []
    },
    {
      "cell_type": "code",
      "metadata": {
        "id": "Cz25zIv5OlZI"
      },
      "source": [
        "test_predictions = []\n",
        "\n",
        "test_first_step = scaled_test[-time_step:]\n",
        "test_current_step = test_first_step.reshape((1, time_step, n_features))\n",
        "\n",
        "for i in range(len(test)):\n",
        "    test_current_pred = model.predict(test_current_step)[0]\n",
        "    test_predictions.append(test_current_pred) \n",
        "    test_current_step = np.append(test_current_step[:,1:,:], [[test_current_pred]], axis=1)"
      ],
      "execution_count": 29,
      "outputs": []
    },
    {
      "cell_type": "code",
      "metadata": {
        "colab": {
          "base_uri": "https://localhost:8080/"
        },
        "id": "u_SYNiKOEwu_",
        "outputId": "ab974a7b-4fac-494d-f117-3bb12dc5e3b7"
      },
      "source": [
        "print(len(df))\n",
        "print(test_size)\n",
        "training_size = len(df)-test_size\n",
        "print(training_size)\n",
        "print(len(train_predictions))\n",
        "print(len(test_predictions))\n",
        "print(training_size + test_size)"
      ],
      "execution_count": 37,
      "outputs": [
        {
          "output_type": "stream",
          "text": [
            "1259\n",
            "440\n",
            "819\n",
            "819\n",
            "440\n",
            "1259\n"
          ],
          "name": "stdout"
        }
      ]
    },
    {
      "cell_type": "code",
      "metadata": {
        "id": "aYp14KIzEwvA"
      },
      "source": [
        "true_train_predictions = scaler.inverse_transform(train_predictions)\n",
        "true_test_predictions = scaler.inverse_transform(test_predictions)"
      ],
      "execution_count": 38,
      "outputs": []
    },
    {
      "cell_type": "code",
      "metadata": {
        "id": "FywadF-WOlZI",
        "outputId": "59033802-f49d-4795-d00c-53d709b7283d",
        "colab": {
          "base_uri": "https://localhost:8080/"
        }
      },
      "source": [
        "len(true_train_predictions)"
      ],
      "execution_count": 39,
      "outputs": [
        {
          "output_type": "execute_result",
          "data": {
            "text/plain": [
              "819"
            ]
          },
          "metadata": {
            "tags": []
          },
          "execution_count": 39
        }
      ]
    },
    {
      "cell_type": "code",
      "metadata": {
        "id": "pveothAKOlZJ",
        "outputId": "1aa59b02-345a-4f81-ec18-371d34b6b1c0",
        "colab": {
          "base_uri": "https://localhost:8080/"
        }
      },
      "source": [
        "len(true_test_predictions)"
      ],
      "execution_count": 40,
      "outputs": [
        {
          "output_type": "execute_result",
          "data": {
            "text/plain": [
              "440"
            ]
          },
          "metadata": {
            "tags": []
          },
          "execution_count": 40
        }
      ]
    },
    {
      "cell_type": "code",
      "metadata": {
        "id": "nq8HGffJOlZL",
        "outputId": "69e6b2ec-0ca4-48a5-e8bc-e378a9d9c8e3",
        "colab": {
          "base_uri": "https://localhost:8080/"
        }
      },
      "source": [
        "train.loc[:,'predictions'] = true_train_predictions"
      ],
      "execution_count": 45,
      "outputs": [
        {
          "output_type": "stream",
          "text": [
            "/usr/local/lib/python3.6/dist-packages/pandas/core/indexing.py:1596: SettingWithCopyWarning: \n",
            "A value is trying to be set on a copy of a slice from a DataFrame.\n",
            "Try using .loc[row_indexer,col_indexer] = value instead\n",
            "\n",
            "See the caveats in the documentation: https://pandas.pydata.org/pandas-docs/stable/user_guide/indexing.html#returning-a-view-versus-a-copy\n",
            "  self.obj[key] = _infer_fill_value(value)\n",
            "/usr/local/lib/python3.6/dist-packages/pandas/core/indexing.py:1781: SettingWithCopyWarning: \n",
            "A value is trying to be set on a copy of a slice from a DataFrame.\n",
            "Try using .loc[row_indexer,col_indexer] = value instead\n",
            "\n",
            "See the caveats in the documentation: https://pandas.pydata.org/pandas-docs/stable/user_guide/indexing.html#returning-a-view-versus-a-copy\n",
            "  self.obj[item_labels[indexer[info_axis]]] = value\n"
          ],
          "name": "stderr"
        }
      ]
    },
    {
      "cell_type": "code",
      "metadata": {
        "id": "mI1fw5q2EwvB"
      },
      "source": [
        "#future_predictions = np.array(future_predictions)\n",
        "#type(future_predictions)"
      ],
      "execution_count": 42,
      "outputs": []
    },
    {
      "cell_type": "code",
      "metadata": {
        "id": "iPJVwFENOlZJ"
      },
      "source": [
        "from sklearn.metrics import mean_squared_error"
      ],
      "execution_count": 46,
      "outputs": []
    },
    {
      "cell_type": "code",
      "metadata": {
        "id": "NPAcyO0tOlZK",
        "outputId": "3f5522b9-96eb-4c2e-cb03-aa99e6544f77",
        "colab": {
          "base_uri": "https://localhost:8080/"
        }
      },
      "source": [
        "np.sqrt(mean_squared_error(train['close'],train['predictions']))"
      ],
      "execution_count": 47,
      "outputs": [
        {
          "output_type": "execute_result",
          "data": {
            "text/plain": [
              "98.72421110664162"
            ]
          },
          "metadata": {
            "tags": []
          },
          "execution_count": 47
        }
      ]
    },
    {
      "cell_type": "code",
      "metadata": {
        "id": "wZDHemJxOlZL",
        "outputId": "9821830e-fa6e-46ca-86a2-6ddf99339797",
        "colab": {
          "base_uri": "https://localhost:8080/",
          "height": 294
        }
      },
      "source": [
        "train.plot()"
      ],
      "execution_count": 69,
      "outputs": [
        {
          "output_type": "execute_result",
          "data": {
            "text/plain": [
              "<matplotlib.axes._subplots.AxesSubplot at 0x7fe0fe691390>"
            ]
          },
          "metadata": {
            "tags": []
          },
          "execution_count": 69
        },
        {
          "output_type": "display_data",
          "data": {
            "image/png": "[encoded data removed]",
            "text/plain": [
              "<Figure size 432x288 with 1 Axes>"
            ]
          },
          "metadata": {
            "tags": [],
            "needs_background": "light"
          }
        }
      ]
    },
    {
      "cell_type": "code",
      "metadata": {
        "id": "R_3i9CoOOlZL",
        "outputId": "e7c52a71-ec5f-46c1-eff4-e945680941ee",
        "colab": {
          "base_uri": "https://localhost:8080/"
        }
      },
      "source": [
        "test.loc[:,'predictions'] = true_test_predictions"
      ],
      "execution_count": 49,
      "outputs": [
        {
          "output_type": "stream",
          "text": [
            "/usr/local/lib/python3.6/dist-packages/pandas/core/indexing.py:1596: SettingWithCopyWarning: \n",
            "A value is trying to be set on a copy of a slice from a DataFrame.\n",
            "Try using .loc[row_indexer,col_indexer] = value instead\n",
            "\n",
            "See the caveats in the documentation: https://pandas.pydata.org/pandas-docs/stable/user_guide/indexing.html#returning-a-view-versus-a-copy\n",
            "  self.obj[key] = _infer_fill_value(value)\n",
            "/usr/local/lib/python3.6/dist-packages/pandas/core/indexing.py:1781: SettingWithCopyWarning: \n",
            "A value is trying to be set on a copy of a slice from a DataFrame.\n",
            "Try using .loc[row_indexer,col_indexer] = value instead\n",
            "\n",
            "See the caveats in the documentation: https://pandas.pydata.org/pandas-docs/stable/user_guide/indexing.html#returning-a-view-versus-a-copy\n",
            "  self.obj[item_labels[indexer[info_axis]]] = value\n"
          ],
          "name": "stderr"
        }
      ]
    },
    {
      "cell_type": "code",
      "metadata": {
        "id": "GpRwApJJOlZK",
        "outputId": "ac76bea5-2bcc-46e9-8217-f90400f45217",
        "colab": {
          "base_uri": "https://localhost:8080/"
        }
      },
      "source": [
        "np.sqrt(mean_squared_error(test['close'],test['predictions']))"
      ],
      "execution_count": 50,
      "outputs": [
        {
          "output_type": "execute_result",
          "data": {
            "text/plain": [
              "90.27843416655968"
            ]
          },
          "metadata": {
            "tags": []
          },
          "execution_count": 50
        }
      ]
    },
    {
      "cell_type": "code",
      "metadata": {
        "id": "uvlJ16bAOlZO",
        "outputId": "2e40be03-dac6-4992-eeca-8beb00d28cb6",
        "colab": {
          "base_uri": "https://localhost:8080/",
          "height": 294
        }
      },
      "source": [
        "test.plot()"
      ],
      "execution_count": 51,
      "outputs": [
        {
          "output_type": "execute_result",
          "data": {
            "text/plain": [
              "<matplotlib.axes._subplots.AxesSubplot at 0x7fe0fe32bf98>"
            ]
          },
          "metadata": {
            "tags": []
          },
          "execution_count": 51
        },
        {
          "output_type": "display_data",
          "data": {
            "image/png": "[encoded data removed]",
            "text/plain": [
              "<Figure size 432x288 with 1 Axes>"
            ]
          },
          "metadata": {
            "tags": [],
            "needs_background": "light"
          }
        }
      ]
    },
    {
      "cell_type": "code",
      "metadata": {
        "id": "8VL0hsXAOlZO"
      },
      "source": [
        "future_predictions = []\n",
        "\n",
        "test_first_step = scaled_test[-time_step:]\n",
        "test_current_step = test_first_step.reshape((1, time_step, n_features))\n",
        "no_days = 30\n",
        "# predict next 30 days \n",
        "for i in range(no_days):\n",
        "    test_current_pred = model.predict(test_current_step)[0]\n",
        "    future_predictions.append(test_current_pred) \n",
        "    test_current_step = np.append(test_current_step[:,1:,:], [[test_current_pred]], axis=1)"
      ],
      "execution_count": 52,
      "outputs": []
    },
    {
      "cell_type": "code",
      "metadata": {
        "id": "MJWmffd1OlZP",
        "outputId": "76c0868c-6ce7-4869-edc4-3f04a0dca34a",
        "colab": {
          "base_uri": "https://localhost:8080/"
        }
      },
      "source": [
        "len(future_predictions)"
      ],
      "execution_count": 53,
      "outputs": [
        {
          "output_type": "execute_result",
          "data": {
            "text/plain": [
              "30"
            ]
          },
          "metadata": {
            "tags": []
          },
          "execution_count": 53
        }
      ]
    },
    {
      "cell_type": "code",
      "metadata": {
        "id": "unUAQWObOlZQ"
      },
      "source": [
        "true_future_predictions = scaler.inverse_transform(future_predictions)"
      ],
      "execution_count": 54,
      "outputs": []
    },
    {
      "cell_type": "code",
      "metadata": {
        "id": "1IxyNwECOlZQ",
        "outputId": "21de3bce-a95b-49ab-9bdc-8d43a48c33e2",
        "colab": {
          "base_uri": "https://localhost:8080/",
          "height": 228
        }
      },
      "source": [
        "test.tail()"
      ],
      "execution_count": 55,
      "outputs": [
        {
          "output_type": "execute_result",
          "data": {
            "text/html": [
              "<div>\n",
              "<style scoped>\n",
              "    .dataframe tbody tr th:only-of-type {\n",
              "        vertical-align: middle;\n",
              "    }\n",
              "\n",
              "    .dataframe tbody tr th {\n",
              "        vertical-align: top;\n",
              "    }\n",
              "\n",
              "    .dataframe thead th {\n",
              "        text-align: right;\n",
              "    }\n",
              "</style>\n",
              "<table border=\"1\" class=\"dataframe\">\n",
              "  <thead>\n",
              "    <tr style=\"text-align: right;\">\n",
              "      <th></th>\n",
              "      <th>close</th>\n",
              "      <th>predictions</th>\n",
              "    </tr>\n",
              "    <tr>\n",
              "      <th>date</th>\n",
              "      <th></th>\n",
              "      <th></th>\n",
              "    </tr>\n",
              "  </thead>\n",
              "  <tbody>\n",
              "    <tr>\n",
              "      <th>2020-12-24 00:00:00+00:00</th>\n",
              "      <td>131.97</td>\n",
              "      <td>241.566168</td>\n",
              "    </tr>\n",
              "    <tr>\n",
              "      <th>2020-12-28 00:00:00+00:00</th>\n",
              "      <td>136.69</td>\n",
              "      <td>241.566134</td>\n",
              "    </tr>\n",
              "    <tr>\n",
              "      <th>2020-12-29 00:00:00+00:00</th>\n",
              "      <td>134.87</td>\n",
              "      <td>241.566083</td>\n",
              "    </tr>\n",
              "    <tr>\n",
              "      <th>2020-12-30 00:00:00+00:00</th>\n",
              "      <td>133.72</td>\n",
              "      <td>241.566050</td>\n",
              "    </tr>\n",
              "    <tr>\n",
              "      <th>2020-12-31 00:00:00+00:00</th>\n",
              "      <td>132.69</td>\n",
              "      <td>241.565982</td>\n",
              "    </tr>\n",
              "  </tbody>\n",
              "</table>\n",
              "</div>"
            ],
            "text/plain": [
              "                            close  predictions\n",
              "date                                          \n",
              "2020-12-24 00:00:00+00:00  131.97   241.566168\n",
              "2020-12-28 00:00:00+00:00  136.69   241.566134\n",
              "2020-12-29 00:00:00+00:00  134.87   241.566083\n",
              "2020-12-30 00:00:00+00:00  133.72   241.566050\n",
              "2020-12-31 00:00:00+00:00  132.69   241.565982"
            ]
          },
          "metadata": {
            "tags": []
          },
          "execution_count": 55
        }
      ]
    },
    {
      "cell_type": "code",
      "metadata": {
        "id": "6BRA3CHzOlZR"
      },
      "source": [
        "dates = pd.date_range('1/1/2021', periods=no_days, freq='D')"
      ],
      "execution_count": 56,
      "outputs": []
    },
    {
      "cell_type": "code",
      "metadata": {
        "id": "kbyljXOYOlZR",
        "outputId": "74a91899-01d4-45c7-a6d7-87e6303fb78d",
        "colab": {
          "base_uri": "https://localhost:8080/"
        }
      },
      "source": [
        "dates"
      ],
      "execution_count": 57,
      "outputs": [
        {
          "output_type": "execute_result",
          "data": {
            "text/plain": [
              "DatetimeIndex(['2021-01-01', '2021-01-02', '2021-01-03', '2021-01-04',\n",
              "               '2021-01-05', '2021-01-06', '2021-01-07', '2021-01-08',\n",
              "               '2021-01-09', '2021-01-10', '2021-01-11', '2021-01-12',\n",
              "               '2021-01-13', '2021-01-14', '2021-01-15', '2021-01-16',\n",
              "               '2021-01-17', '2021-01-18', '2021-01-19', '2021-01-20',\n",
              "               '2021-01-21', '2021-01-22', '2021-01-23', '2021-01-24',\n",
              "               '2021-01-25', '2021-01-26', '2021-01-27', '2021-01-28',\n",
              "               '2021-01-29', '2021-01-30'],\n",
              "              dtype='datetime64[ns]', freq='D')"
            ]
          },
          "metadata": {
            "tags": []
          },
          "execution_count": 57
        }
      ]
    },
    {
      "cell_type": "code",
      "metadata": {
        "id": "N5QBdxbsOlZS"
      },
      "source": [
        "df_future = pd.DataFrame(data=true_future_predictions, columns=['Future'],           \n",
        "                         index=dates )"
      ],
      "execution_count": 58,
      "outputs": []
    },
    {
      "cell_type": "code",
      "metadata": {
        "id": "fSiLDLkzOlZS"
      },
      "source": [
        "df_future = df_future.rename(columns = {'index':'DATE'})"
      ],
      "execution_count": 59,
      "outputs": []
    },
    {
      "cell_type": "code",
      "metadata": {
        "id": "Z531ntDFOlZT",
        "outputId": "76817a9f-ccbc-4216-b2da-e27f04bdb1e7",
        "colab": {
          "base_uri": "https://localhost:8080/",
          "height": 950
        }
      },
      "source": [
        "df_future"
      ],
      "execution_count": 60,
      "outputs": [
        {
          "output_type": "execute_result",
          "data": {
            "text/html": [
              "<div>\n",
              "<style scoped>\n",
              "    .dataframe tbody tr th:only-of-type {\n",
              "        vertical-align: middle;\n",
              "    }\n",
              "\n",
              "    .dataframe tbody tr th {\n",
              "        vertical-align: top;\n",
              "    }\n",
              "\n",
              "    .dataframe thead th {\n",
              "        text-align: right;\n",
              "    }\n",
              "</style>\n",
              "<table border=\"1\" class=\"dataframe\">\n",
              "  <thead>\n",
              "    <tr style=\"text-align: right;\">\n",
              "      <th></th>\n",
              "      <th>Future</th>\n",
              "    </tr>\n",
              "  </thead>\n",
              "  <tbody>\n",
              "    <tr>\n",
              "      <th>2021-01-01</th>\n",
              "      <td>133.384668</td>\n",
              "    </tr>\n",
              "    <tr>\n",
              "      <th>2021-01-02</th>\n",
              "      <td>134.144194</td>\n",
              "    </tr>\n",
              "    <tr>\n",
              "      <th>2021-01-03</th>\n",
              "      <td>135.009799</td>\n",
              "    </tr>\n",
              "    <tr>\n",
              "      <th>2021-01-04</th>\n",
              "      <td>135.965102</td>\n",
              "    </tr>\n",
              "    <tr>\n",
              "      <th>2021-01-05</th>\n",
              "      <td>136.950931</td>\n",
              "    </tr>\n",
              "    <tr>\n",
              "      <th>2021-01-06</th>\n",
              "      <td>137.966568</td>\n",
              "    </tr>\n",
              "    <tr>\n",
              "      <th>2021-01-07</th>\n",
              "      <td>139.023362</td>\n",
              "    </tr>\n",
              "    <tr>\n",
              "      <th>2021-01-08</th>\n",
              "      <td>140.129242</td>\n",
              "    </tr>\n",
              "    <tr>\n",
              "      <th>2021-01-09</th>\n",
              "      <td>141.283824</td>\n",
              "    </tr>\n",
              "    <tr>\n",
              "      <th>2021-01-10</th>\n",
              "      <td>142.481265</td>\n",
              "    </tr>\n",
              "    <tr>\n",
              "      <th>2021-01-11</th>\n",
              "      <td>143.714707</td>\n",
              "    </tr>\n",
              "    <tr>\n",
              "      <th>2021-01-12</th>\n",
              "      <td>144.979341</td>\n",
              "    </tr>\n",
              "    <tr>\n",
              "      <th>2021-01-13</th>\n",
              "      <td>146.273531</td>\n",
              "    </tr>\n",
              "    <tr>\n",
              "      <th>2021-01-14</th>\n",
              "      <td>147.598533</td>\n",
              "    </tr>\n",
              "    <tr>\n",
              "      <th>2021-01-15</th>\n",
              "      <td>148.957699</td>\n",
              "    </tr>\n",
              "    <tr>\n",
              "      <th>2021-01-16</th>\n",
              "      <td>150.355530</td>\n",
              "    </tr>\n",
              "    <tr>\n",
              "      <th>2021-01-17</th>\n",
              "      <td>151.796963</td>\n",
              "    </tr>\n",
              "    <tr>\n",
              "      <th>2021-01-18</th>\n",
              "      <td>153.286858</td>\n",
              "    </tr>\n",
              "    <tr>\n",
              "      <th>2021-01-19</th>\n",
              "      <td>154.829716</td>\n",
              "    </tr>\n",
              "    <tr>\n",
              "      <th>2021-01-20</th>\n",
              "      <td>156.429554</td>\n",
              "    </tr>\n",
              "    <tr>\n",
              "      <th>2021-01-21</th>\n",
              "      <td>158.089928</td>\n",
              "    </tr>\n",
              "    <tr>\n",
              "      <th>2021-01-22</th>\n",
              "      <td>159.814033</td>\n",
              "    </tr>\n",
              "    <tr>\n",
              "      <th>2021-01-23</th>\n",
              "      <td>161.604867</td>\n",
              "    </tr>\n",
              "    <tr>\n",
              "      <th>2021-01-24</th>\n",
              "      <td>163.465470</td>\n",
              "    </tr>\n",
              "    <tr>\n",
              "      <th>2021-01-25</th>\n",
              "      <td>165.399147</td>\n",
              "    </tr>\n",
              "    <tr>\n",
              "      <th>2021-01-26</th>\n",
              "      <td>167.409698</td>\n",
              "    </tr>\n",
              "    <tr>\n",
              "      <th>2021-01-27</th>\n",
              "      <td>169.501653</td>\n",
              "    </tr>\n",
              "    <tr>\n",
              "      <th>2021-01-28</th>\n",
              "      <td>171.680433</td>\n",
              "    </tr>\n",
              "    <tr>\n",
              "      <th>2021-01-29</th>\n",
              "      <td>173.952485</td>\n",
              "    </tr>\n",
              "    <tr>\n",
              "      <th>2021-01-30</th>\n",
              "      <td>176.325285</td>\n",
              "    </tr>\n",
              "  </tbody>\n",
              "</table>\n",
              "</div>"
            ],
            "text/plain": [
              "                Future\n",
              "2021-01-01  133.384668\n",
              "2021-01-02  134.144194\n",
              "2021-01-03  135.009799\n",
              "2021-01-04  135.965102\n",
              "2021-01-05  136.950931\n",
              "2021-01-06  137.966568\n",
              "2021-01-07  139.023362\n",
              "2021-01-08  140.129242\n",
              "2021-01-09  141.283824\n",
              "2021-01-10  142.481265\n",
              "2021-01-11  143.714707\n",
              "2021-01-12  144.979341\n",
              "2021-01-13  146.273531\n",
              "2021-01-14  147.598533\n",
              "2021-01-15  148.957699\n",
              "2021-01-16  150.355530\n",
              "2021-01-17  151.796963\n",
              "2021-01-18  153.286858\n",
              "2021-01-19  154.829716\n",
              "2021-01-20  156.429554\n",
              "2021-01-21  158.089928\n",
              "2021-01-22  159.814033\n",
              "2021-01-23  161.604867\n",
              "2021-01-24  163.465470\n",
              "2021-01-25  165.399147\n",
              "2021-01-26  167.409698\n",
              "2021-01-27  169.501653\n",
              "2021-01-28  171.680433\n",
              "2021-01-29  173.952485\n",
              "2021-01-30  176.325285"
            ]
          },
          "metadata": {
            "tags": []
          },
          "execution_count": 60
        }
      ]
    },
    {
      "cell_type": "code",
      "metadata": {
        "id": "wYrKEHGUOlZU",
        "outputId": "c9d2e275-5e16-4b87-c1b6-458e7e7eccd5",
        "colab": {
          "base_uri": "https://localhost:8080/",
          "height": 317
        }
      },
      "source": [
        "df_future.plot()"
      ],
      "execution_count": 61,
      "outputs": [
        {
          "output_type": "execute_result",
          "data": {
            "text/plain": [
              "<matplotlib.axes._subplots.AxesSubplot at 0x7fe0d7c75048>"
            ]
          },
          "metadata": {
            "tags": []
          },
          "execution_count": 61
        },
        {
          "output_type": "display_data",
          "data": {
            "image/png": "[encoded data removed]",
            "text/plain": [
              "<Figure size 432x288 with 1 Axes>"
            ]
          },
          "metadata": {
            "tags": [],
            "needs_background": "light"
          }
        }
      ]
    },
    {
      "cell_type": "code",
      "metadata": {
        "id": "tdsNvxNHOlZU",
        "outputId": "8edaee1a-62bf-4448-a51c-402ee9c2fef0",
        "colab": {
          "base_uri": "https://localhost:8080/",
          "height": 294
        }
      },
      "source": [
        "ax = test.plot(label='test')\n",
        "df_future.plot(ax=ax)"
      ],
      "execution_count": 62,
      "outputs": [
        {
          "output_type": "execute_result",
          "data": {
            "text/plain": [
              "<matplotlib.axes._subplots.AxesSubplot at 0x7fe0fe912198>"
            ]
          },
          "metadata": {
            "tags": []
          },
          "execution_count": 62
        },
        {
          "output_type": "display_data",
          "data": {
            "image/png": "[encoded data removed]",
            "text/plain": [
              "<Figure size 432x288 with 1 Axes>"
            ]
          },
          "metadata": {
            "tags": [],
            "needs_background": "light"
          }
        }
      ]
    },
    {
      "cell_type": "code",
      "metadata": {
        "id": "nX4w6SouOlZV",
        "outputId": "3d3ec160-2acf-4240-bcbb-36390d3af7c6",
        "colab": {
          "base_uri": "https://localhost:8080/",
          "height": 580
        }
      },
      "source": [
        "ax = df.plot(figsize=(12,10),label='df')\n",
        "df_future.plot(ax=ax)"
      ],
      "execution_count": 63,
      "outputs": [
        {
          "output_type": "execute_result",
          "data": {
            "text/plain": [
              "<matplotlib.axes._subplots.AxesSubplot at 0x7fe0d7787e10>"
            ]
          },
          "metadata": {
            "tags": []
          },
          "execution_count": 63
        },
        {
          "output_type": "display_data",
          "data": {
            "image/png": "[encoded data removed]",
            "text/plain": [
              "<Figure size 864x720 with 1 Axes>"
            ]
          },
          "metadata": {
            "tags": [],
            "needs_background": "light"
          }
        }
      ]
    }
  ]
}