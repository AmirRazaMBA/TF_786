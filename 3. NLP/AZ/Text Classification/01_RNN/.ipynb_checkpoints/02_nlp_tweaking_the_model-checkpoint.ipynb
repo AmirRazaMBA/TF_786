{
 "cells": [
  {
   "cell_type": "code",
   "execution_count": 2,
   "metadata": {
    "colab": {
     "base_uri": "https://localhost:8080/"
    },
    "id": "m83g42sJzGO0",
    "outputId": "ea110235-f661-432c-9ab9-e30726778e62"
   },
   "outputs": [],
   "source": [
    "# Various tweaks to data processing and the model itself can impact results. \n",
    "# Visualize how the network sees the related sentiment of each word in the dataset.\n",
    "\n",
    "#!wget --no-check-certificate \\\n",
    "#https://drive.google.com/uc?id=13ySLC_ue6Umt9RJYSeM2t-V0kCv-4C-P \\\n",
    "#-O /tmp/sentiment.csv\n",
    "# https://www.kaggle.com/marklvl/sentiment-labelled-sentences-data-set"
   ]
  },
  {
   "cell_type": "code",
   "execution_count": 3,
   "metadata": {
    "id": "drsUfVVXyxJl"
   },
   "outputs": [],
   "source": [
    "import numpy as np\n",
    "import pandas as pd\n",
    "import tensorflow as tf\n",
    "\n",
    "from tensorflow.keras.preprocessing.text import Tokenizer\n",
    "from tensorflow.keras.preprocessing.sequence import pad_sequences"
   ]
  },
  {
   "cell_type": "code",
   "execution_count": 4,
   "metadata": {
    "colab": {
     "base_uri": "https://localhost:8080/"
    },
    "id": "2B1U6Ne6DyZ1",
    "outputId": "78a4b9c8-348a-4aa2-b3bf-17223a7adedf"
   },
   "outputs": [
    {
     "name": "stdout",
     "output_type": "stream",
     "text": [
      "C:\\Users\\Amir\\.keras\\datasets\\sentiment.csv\n"
     ]
    }
   ],
   "source": [
    "path = tf.keras.utils.get_file('sentiment.csv', \n",
    "                               'https://drive.google.com/uc?id=13ySLC_ue6Umt9RJYSeM2t-V0kCv-4C-P')\n",
    "print (path)"
   ]
  },
  {
   "cell_type": "code",
   "execution_count": 5,
   "metadata": {
    "id": "y4e6GG2CzJUq"
   },
   "outputs": [],
   "source": [
    "dataset = pd.read_csv(path)\n",
    "\n",
    "sentences = dataset['text'].tolist()\n",
    "labels = dataset['sentiment'].tolist()\n",
    "\n",
    "# Separate out the sentences and labels into training and test sets\n",
    "training_size = int(len(sentences) * 0.8)\n",
    "\n",
    "training_sentences = sentences[0:training_size]\n",
    "testing_sentences = sentences[training_size:]\n",
    "training_labels = labels[0:training_size]\n",
    "testing_labels = labels[training_size:]\n",
    "\n",
    "# Make labels into numpy arrays for use with the network later\n",
    "training_labels_final = np.array(training_labels)\n",
    "testing_labels_final = np.array(testing_labels)"
   ]
  },
  {
   "cell_type": "code",
   "execution_count": 6,
   "metadata": {
    "id": "hjPUJFhQzuee"
   },
   "outputs": [],
   "source": [
    "# tokenize the dataset (with tweaks!).  \n",
    "# how might changing the vocab_size, embedding_dim or max_length affect ?\n",
    "# how the model performs?\n",
    "\n",
    "vocab_size = 500\n",
    "embedding_dim = 16\n",
    "max_length = 50\n",
    "trunc_type='post'\n",
    "padding_type='post'\n",
    "oov_tok = \"<OOV>\"\n",
    "\n",
    "tokenizer = Tokenizer(num_words = vocab_size, oov_token=oov_tok)\n",
    "\n",
    "tokenizer.fit_on_texts(training_sentences)\n",
    "\n",
    "word_index = tokenizer.word_index\n",
    "\n",
    "training_sequences = tokenizer.texts_to_sequences(training_sentences)\n",
    "training_padded = pad_sequences(training_sequences, maxlen=max_length, padding=padding_type, truncating=trunc_type)\n",
    "\n",
    "testing_sequences = tokenizer.texts_to_sequences(testing_sentences)\n",
    "testing_padded = pad_sequences(testing_sequences, maxlen=max_length, padding=padding_type, truncating=trunc_type)"
   ]
  },
  {
   "cell_type": "code",
   "execution_count": 7,
   "metadata": {
    "colab": {
     "base_uri": "https://localhost:8080/"
    },
    "id": "ectP92fl0dFO",
    "outputId": "d9adb10f-5e5a-4297-b93b-195cdcfe0f76"
   },
   "outputs": [
    {
     "name": "stdout",
     "output_type": "stream",
     "text": [
      "Model: \"sequential\"\n",
      "_________________________________________________________________\n",
      "Layer (type)                 Output Shape              Param #   \n",
      "=================================================================\n",
      "embedding (Embedding)        (None, 50, 16)            8000      \n",
      "_________________________________________________________________\n",
      "global_average_pooling1d (Gl (None, 16)                0         \n",
      "_________________________________________________________________\n",
      "dense (Dense)                (None, 6)                 102       \n",
      "_________________________________________________________________\n",
      "dense_1 (Dense)              (None, 1)                 7         \n",
      "=================================================================\n",
      "Total params: 8,109\n",
      "Trainable params: 8,109\n",
      "Non-trainable params: 0\n",
      "_________________________________________________________________\n"
     ]
    }
   ],
   "source": [
    "# using GlobalAveragePooling1D instead of Flatten()\n",
    "\n",
    "model = tf.keras.Sequential([\n",
    "    # embedding only needs vocab_size and emedding_dim is the number of neurons. \n",
    "    # input_length is the input layer of the X_train vector (N X max_length)\n",
    "    tf.keras.layers.Embedding(vocab_size, embedding_dim, input_length=max_length),\n",
    "    \n",
    "    tf.keras.layers.GlobalAveragePooling1D(),\n",
    "   \n",
    "    tf.keras.layers.Dense(6, activation='relu'),\n",
    "   \n",
    "    tf.keras.layers.Dense(1, activation='sigmoid')\n",
    "])\n",
    "\n",
    "model.compile(loss='binary_crossentropy',optimizer='adam',metrics=['accuracy'])\n",
    "\n",
    "model.summary()"
   ]
  },
  {
   "cell_type": "code",
   "execution_count": 8,
   "metadata": {
    "colab": {
     "base_uri": "https://localhost:8080/"
    },
    "id": "7TQIaGjs073w",
    "outputId": "01be31ac-3edb-4c9f-fcee-6631fefb7ba5"
   },
   "outputs": [
    {
     "name": "stdout",
     "output_type": "stream",
     "text": [
      "Epoch 1/30\n",
      "50/50 [==============================] - 0s 8ms/step - loss: 0.6925 - accuracy: 0.5148 - val_loss: 0.6973 - val_accuracy: 0.4110\n",
      "Epoch 2/30\n",
      "50/50 [==============================] - 0s 4ms/step - loss: 0.6907 - accuracy: 0.5223 - val_loss: 0.6987 - val_accuracy: 0.4110\n",
      "Epoch 3/30\n",
      "50/50 [==============================] - 0s 4ms/step - loss: 0.6887 - accuracy: 0.5229 - val_loss: 0.6980 - val_accuracy: 0.4160\n",
      "Epoch 4/30\n",
      "50/50 [==============================] - 0s 4ms/step - loss: 0.6852 - accuracy: 0.5311 - val_loss: 0.6936 - val_accuracy: 0.4436\n",
      "Epoch 5/30\n",
      "50/50 [==============================] - 0s 4ms/step - loss: 0.6779 - accuracy: 0.5882 - val_loss: 0.6789 - val_accuracy: 0.6165\n",
      "Epoch 6/30\n",
      "50/50 [==============================] - 0s 4ms/step - loss: 0.6647 - accuracy: 0.6842 - val_loss: 0.6797 - val_accuracy: 0.5188\n",
      "Epoch 7/30\n",
      "50/50 [==============================] - 0s 4ms/step - loss: 0.6476 - accuracy: 0.6911 - val_loss: 0.6584 - val_accuracy: 0.6040\n",
      "Epoch 8/30\n",
      "50/50 [==============================] - 0s 4ms/step - loss: 0.6211 - accuracy: 0.7370 - val_loss: 0.6396 - val_accuracy: 0.6391\n",
      "Epoch 9/30\n",
      "50/50 [==============================] - 0s 4ms/step - loss: 0.5896 - accuracy: 0.7640 - val_loss: 0.6193 - val_accuracy: 0.6516\n",
      "Epoch 10/30\n",
      "50/50 [==============================] - 0s 4ms/step - loss: 0.5548 - accuracy: 0.7759 - val_loss: 0.5749 - val_accuracy: 0.7744\n",
      "Epoch 11/30\n",
      "50/50 [==============================] - 0s 4ms/step - loss: 0.5187 - accuracy: 0.8067 - val_loss: 0.5601 - val_accuracy: 0.7794\n",
      "Epoch 12/30\n",
      "50/50 [==============================] - 0s 5ms/step - loss: 0.4850 - accuracy: 0.8274 - val_loss: 0.5370 - val_accuracy: 0.7870\n",
      "Epoch 13/30\n",
      "50/50 [==============================] - 0s 4ms/step - loss: 0.4535 - accuracy: 0.8418 - val_loss: 0.5328 - val_accuracy: 0.7494\n",
      "Epoch 14/30\n",
      "50/50 [==============================] - 0s 4ms/step - loss: 0.4242 - accuracy: 0.8506 - val_loss: 0.5176 - val_accuracy: 0.7619\n",
      "Epoch 15/30\n",
      "50/50 [==============================] - 0s 4ms/step - loss: 0.4008 - accuracy: 0.8525 - val_loss: 0.5047 - val_accuracy: 0.7719\n",
      "Epoch 16/30\n",
      "50/50 [==============================] - 0s 3ms/step - loss: 0.3794 - accuracy: 0.8625 - val_loss: 0.5296 - val_accuracy: 0.7043\n",
      "Epoch 17/30\n",
      "50/50 [==============================] - 0s 3ms/step - loss: 0.3665 - accuracy: 0.8531 - val_loss: 0.4940 - val_accuracy: 0.7694\n",
      "Epoch 18/30\n",
      "50/50 [==============================] - 0s 3ms/step - loss: 0.3433 - accuracy: 0.8738 - val_loss: 0.5022 - val_accuracy: 0.7519\n",
      "Epoch 19/30\n",
      "50/50 [==============================] - 0s 3ms/step - loss: 0.3298 - accuracy: 0.8770 - val_loss: 0.4914 - val_accuracy: 0.7644\n",
      "Epoch 20/30\n",
      "50/50 [==============================] - 0s 2ms/step - loss: 0.3170 - accuracy: 0.8826 - val_loss: 0.4906 - val_accuracy: 0.7594\n",
      "Epoch 21/30\n",
      "50/50 [==============================] - 0s 2ms/step - loss: 0.3038 - accuracy: 0.8858 - val_loss: 0.4885 - val_accuracy: 0.7594\n",
      "Epoch 22/30\n",
      "50/50 [==============================] - 0s 2ms/step - loss: 0.2940 - accuracy: 0.8901 - val_loss: 0.5213 - val_accuracy: 0.7193\n",
      "Epoch 23/30\n",
      "50/50 [==============================] - 0s 2ms/step - loss: 0.2836 - accuracy: 0.8889 - val_loss: 0.4796 - val_accuracy: 0.7769\n",
      "Epoch 24/30\n",
      "50/50 [==============================] - 0s 2ms/step - loss: 0.2754 - accuracy: 0.8977 - val_loss: 0.5020 - val_accuracy: 0.7393\n",
      "Epoch 25/30\n",
      "50/50 [==============================] - 0s 2ms/step - loss: 0.2670 - accuracy: 0.8901 - val_loss: 0.4920 - val_accuracy: 0.7544\n",
      "Epoch 26/30\n",
      "50/50 [==============================] - 0s 2ms/step - loss: 0.2582 - accuracy: 0.9014 - val_loss: 0.5139 - val_accuracy: 0.7343\n",
      "Epoch 27/30\n",
      "50/50 [==============================] - 0s 2ms/step - loss: 0.2528 - accuracy: 0.9021 - val_loss: 0.5050 - val_accuracy: 0.7444\n",
      "Epoch 28/30\n",
      "50/50 [==============================] - 0s 2ms/step - loss: 0.2471 - accuracy: 0.9046 - val_loss: 0.4909 - val_accuracy: 0.7744\n",
      "Epoch 29/30\n",
      "50/50 [==============================] - 0s 2ms/step - loss: 0.2397 - accuracy: 0.9090 - val_loss: 0.5309 - val_accuracy: 0.7318\n",
      "Epoch 30/30\n",
      "50/50 [==============================] - 0s 2ms/step - loss: 0.2364 - accuracy: 0.9090 - val_loss: 0.4906 - val_accuracy: 0.7895\n"
     ]
    }
   ],
   "source": [
    "num_epochs = 30\n",
    "\n",
    "history = model.fit(training_padded, \n",
    "                    training_labels_final, \n",
    "                    epochs=num_epochs, \n",
    "                    validation_data=(testing_padded, testing_labels_final))"
   ]
  },
  {
   "cell_type": "code",
   "execution_count": 9,
   "metadata": {
    "colab": {
     "base_uri": "https://localhost:8080/",
     "height": 541
    },
    "id": "o9l5vBeU71vH",
    "outputId": "eec3e7cc-7843-41a7-d5f1-f5abc5d932d3"
   },
   "outputs": [
    {
     "data": {
      "image/png": "[encoded data removed]",
      "text/plain": [
       "<Figure size 432x288 with 1 Axes>"
      ]
     },
     "metadata": {
      "needs_background": "light"
     },
     "output_type": "display_data"
    },
    {
     "data": {
      "image/png": "[encoded data removed]",
      "text/plain": [
       "<Figure size 432x288 with 1 Axes>"
      ]
     },
     "metadata": {
      "needs_background": "light"
     },
     "output_type": "display_data"
    }
   ],
   "source": [
    "# visualize the training and validation accuracy with different tweaks to the hyperparameters and model.\n",
    "\n",
    "import matplotlib.pyplot as plt\n",
    "\n",
    "def plot_graphs(history, string):\n",
    "  plt.plot(history.history[string])\n",
    "  plt.plot(history.history['val_'+string])\n",
    "  plt.xlabel(\"Epochs\")\n",
    "  plt.ylabel(string)\n",
    "  plt.legend([string, 'val_'+string])\n",
    "  plt.show()\n",
    "  \n",
    "plot_graphs(history, \"accuracy\")\n",
    "plot_graphs(history, \"loss\")"
   ]
  },
  {
   "cell_type": "code",
   "execution_count": 10,
   "metadata": {
    "id": "mrkKHgDGDyZ3"
   },
   "outputs": [],
   "source": [
    "df_history = pd.DataFrame(model.history.history)"
   ]
  },
  {
   "cell_type": "code",
   "execution_count": 11,
   "metadata": {
    "colab": {
     "base_uri": "https://localhost:8080/",
     "height": 282
    },
    "id": "4ZgQoNXrDyZ3",
    "outputId": "be0836a7-7a5b-4806-885b-05495193ef37"
   },
   "outputs": [
    {
     "data": {
      "text/plain": [
       "<AxesSubplot:>"
      ]
     },
     "execution_count": 11,
     "metadata": {},
     "output_type": "execute_result"
    },
    {
     "data": {
      "image/png": "[encoded data removed]",
      "text/plain": [
       "<Figure size 432x288 with 1 Axes>"
      ]
     },
     "metadata": {
      "needs_background": "light"
     },
     "output_type": "display_data"
    }
   ],
   "source": [
    "df_history[['accuracy','val_accuracy']].plot()"
   ]
  },
  {
   "cell_type": "code",
   "execution_count": 12,
   "metadata": {
    "colab": {
     "base_uri": "https://localhost:8080/",
     "height": 282
    },
    "id": "t46lZnJRDyZ3",
    "outputId": "e376a4ac-ed21-4a51-833c-106eb4dc2a3c"
   },
   "outputs": [
    {
     "data": {
      "text/plain": [
       "<AxesSubplot:>"
      ]
     },
     "execution_count": 12,
     "metadata": {},
     "output_type": "execute_result"
    },
    {
     "data": {
      "image/png": "[encoded data removed]",
      "text/plain": [
       "<Figure size 432x288 with 1 Axes>"
      ]
     },
     "metadata": {
      "needs_background": "light"
     },
     "output_type": "display_data"
    }
   ],
   "source": [
    "df_history[['loss','val_loss']].plot()"
   ]
  },
  {
   "cell_type": "code",
   "execution_count": 13,
   "metadata": {
    "colab": {
     "base_uri": "https://localhost:8080/"
    },
    "id": "2Ex4o7Lc8Njl",
    "outputId": "693e4823-c663-4f10-9590-56ba2f11de0a"
   },
   "outputs": [
    {
     "name": "stdout",
     "output_type": "stream",
     "text": [
      "(500, 16)\n"
     ]
    }
   ],
   "source": [
    "# First get the weights of the embedding layer\n",
    "e = model.layers[0]\n",
    "weights = e.get_weights()[0]\n",
    "print(weights.shape) # shape: (vocab_size, embedding_dim)"
   ]
  },
  {
   "cell_type": "code",
   "execution_count": 14,
   "metadata": {
    "id": "bUL1zk5p8WIV"
   },
   "outputs": [
    {
     "data": {
      "text/plain": [
       "'\\nimport io\\n\\n# Create the reverse word index\\nreverse_word_index = dict([(value, key) for (key, value) in word_index.items()])\\n\\n# Write out the embedding vectors and metadata\\nout_v = io.open(\\'vecs.tsv\\', \\'w\\', encoding=\\'utf-8\\')\\nout_m = io.open(\\'meta.tsv\\', \\'w\\', encoding=\\'utf-8\\')\\nfor word_num in range(1, vocab_size):\\n  word = reverse_word_index[word_num]\\n  embeddings = weights[word_num]\\n  out_m.write(word + \"\\n\")\\n  out_v.write(\\'\\t\\'.join([str(x) for x in embeddings]) + \"\\n\")\\nout_v.close()\\nout_m.close()\\n'"
      ]
     },
     "execution_count": 14,
     "metadata": {},
     "output_type": "execute_result"
    }
   ],
   "source": [
    "'''\n",
    "import io\n",
    "\n",
    "# Create the reverse word index\n",
    "reverse_word_index = dict([(value, key) for (key, value) in word_index.items()])\n",
    "\n",
    "# Write out the embedding vectors and metadata\n",
    "out_v = io.open('vecs.tsv', 'w', encoding='utf-8')\n",
    "out_m = io.open('meta.tsv', 'w', encoding='utf-8')\n",
    "for word_num in range(1, vocab_size):\n",
    "  word = reverse_word_index[word_num]\n",
    "  embeddings = weights[word_num]\n",
    "  out_m.write(word + \"\\n\")\n",
    "  out_v.write('\\t'.join([str(x) for x in embeddings]) + \"\\n\")\n",
    "out_v.close()\n",
    "out_m.close()\n",
    "'''"
   ]
  },
  {
   "cell_type": "code",
   "execution_count": 15,
   "metadata": {
    "id": "lqyV8QYnD46U"
   },
   "outputs": [
    {
     "data": {
      "text/plain": [
       "\"\\n# Download the files\\ntry:\\n  from google.colab import files\\nexcept ImportError:\\n  pass\\nelse:\\n  files.download('vecs.tsv')\\n  files.download('meta.tsv')\\n\""
      ]
     },
     "execution_count": 15,
     "metadata": {},
     "output_type": "execute_result"
    }
   ],
   "source": [
    "'''\n",
    "# Download the files\n",
    "try:\n",
    "  from google.colab import files\n",
    "except ImportError:\n",
    "  pass\n",
    "else:\n",
    "  files.download('vecs.tsv')\n",
    "  files.download('meta.tsv')\n",
    "'''"
   ]
  },
  {
   "cell_type": "code",
   "execution_count": 25,
   "metadata": {},
   "outputs": [],
   "source": [
    "reverse_word_index = dict([(value, key) for (key, value) in word_index.items()])\n",
    "\n",
    "def decode_review(text):\n",
    "    return ' '.join([reverse_word_index.get(i, '?') for i in text])"
   ]
  },
  {
   "cell_type": "code",
   "execution_count": 20,
   "metadata": {},
   "outputs": [
    {
     "name": "stdout",
     "output_type": "stream",
     "text": [
      "              precision    recall  f1-score   support\n",
      "\n",
      "           0       0.59      1.00      0.74       235\n",
      "           1       0.00      0.00      0.00       164\n",
      "\n",
      "    accuracy                           0.59       399\n",
      "   macro avg       0.29      0.50      0.37       399\n",
      "weighted avg       0.35      0.59      0.44       399\n",
      "\n",
      "[[235   0]\n",
      " [164   0]]\n"
     ]
    }
   ],
   "source": [
    "from sklearn.metrics import classification_report,confusion_matrix\n",
    "y_prediction = np.argmax(model.predict(testing_padded), axis=-1)\n",
    "print(classification_report(testing_labels_final,y_prediction))\n",
    "print(confusion_matrix(testing_labels_final,y_prediction))"
   ]
  },
  {
   "cell_type": "code",
   "execution_count": 29,
   "metadata": {},
   "outputs": [
    {
     "name": "stdout",
     "output_type": "stream",
     "text": [
      "this place is awesome if you want <OOV> light and <OOV> during the <OOV> ? ? ? ? ? ? ? ? ? ? ? ? ? ? ? ? ? ? ? ? ? ? ? ? ? ? ? ? ? ? ? ? ? ? ? ?\n",
      "Fake label: 1 but predicted: 0\n"
     ]
    }
   ],
   "source": [
    "# Show some misclassified examples\n",
    "misclassified_idx = np.where(y_prediction != testing_labels_final)[0]\n",
    "i = np.random.choice(misclassified_idx)\n",
    "print(decode_review(testing_padded[i]))\n",
    "print(\"Fake label: %s but predicted: %s\" % (testing_labels_final[i], y_prediction[i]))"
   ]
  },
  {
   "cell_type": "code",
   "execution_count": 18,
   "metadata": {
    "colab": {
     "base_uri": "https://localhost:8080/"
    },
    "id": "JbFTTcaK6Dan",
    "outputId": "c6ec5388-ba8a-4191-8134-85303161b86b"
   },
   "outputs": [
    {
     "name": "stdout",
     "output_type": "stream",
     "text": [
      "['I love this phone', 'I hate spaghetti', 'Everything was cold', 'Everything was hot exactly as I wanted', 'Everything was green', 'the host seated us immediately', 'they gave us free chocolate cake', 'not sure about the wilted flowers on the table', 'only works when I stand on tippy toes', 'does not work when I stand on my head']\n",
      "\n",
      "HOT OFF THE PRESS! HERE ARE SOME NEWLY MINTED, ABSOLUTELY GENUINE REVIEWS!\n",
      "\n",
      "I love this phone\n",
      "[0.9082759]\n",
      "\n",
      "\n",
      "I hate spaghetti\n",
      "[0.17110471]\n",
      "\n",
      "\n",
      "Everything was cold\n",
      "[0.60226107]\n",
      "\n",
      "\n",
      "Everything was hot exactly as I wanted\n",
      "[0.43573427]\n",
      "\n",
      "\n",
      "Everything was green\n",
      "[0.60226107]\n",
      "\n",
      "\n",
      "the host seated us immediately\n",
      "[0.59533167]\n",
      "\n",
      "\n",
      "they gave us free chocolate cake\n",
      "[0.8602181]\n",
      "\n",
      "\n",
      "not sure about the wilted flowers on the table\n",
      "[0.095774]\n",
      "\n",
      "\n",
      "only works when I stand on tippy toes\n",
      "[0.85016596]\n",
      "\n",
      "\n",
      "does not work when I stand on my head\n",
      "[0.0268235]\n",
      "\n",
      "\n"
     ]
    }
   ],
   "source": [
    "# Predicting Sentiment in New Reviews Use the model to predict a review   \n",
    "fake_reviews = ['I love this phone', 'I hate spaghetti', \n",
    "                'Everything was cold',\n",
    "                'Everything was hot exactly as I wanted', \n",
    "                'Everything was green', \n",
    "                'the host seated us immediately',\n",
    "                'they gave us free chocolate cake', \n",
    "                'not sure about the wilted flowers on the table',\n",
    "                'only works when I stand on tippy toes', \n",
    "                'does not work when I stand on my head']\n",
    "\n",
    "print(fake_reviews) \n",
    "\n",
    "# Create the sequences\n",
    "padding_type='post'\n",
    "sample_sequences = tokenizer.texts_to_sequences(fake_reviews)\n",
    "fakes_padded = pad_sequences(sample_sequences, padding=padding_type, maxlen=max_length)           \n",
    "\n",
    "print('\\nHOT OFF THE PRESS! HERE ARE SOME NEWLY MINTED, ABSOLUTELY GENUINE REVIEWS!\\n')              \n",
    "\n",
    "classes = model.predict(fakes_padded)\n",
    "\n",
    "# The closer the class is to 1, the more positive the review is deemed to be\n",
    "for x in range(len(fake_reviews)):\n",
    "  print(fake_reviews[x])\n",
    "  print(classes[x])\n",
    "  print('\\n')\n",
    "\n",
    "# Try adding reviews of your own\n",
    "# Add some negative words (such as \"not\") to the good reviews and see what happens\n",
    "# For example:\n",
    "# they gave us free chocolate cake and did not charge us"
   ]
  }
 ],
 "metadata": {
  "accelerator": "GPU",
  "colab": {
   "collapsed_sections": [],
   "name": "l09c05_nlp_tweaking_the_model.ipynb",
   "provenance": [],
   "toc_visible": true
  },
  "kernelspec": {
   "display_name": "Python 3",
   "language": "python",
   "name": "python3"
  },
  "language_info": {
   "codemirror_mode": {
    "name": "ipython",
    "version": 3
   },
   "file_extension": ".py",
   "mimetype": "text/x-python",
   "name": "python",
   "nbconvert_exporter": "python",
   "pygments_lexer": "ipython3",
   "version": "3.8.5"
  }
 },
 "nbformat": 4,
 "nbformat_minor": 4
}
