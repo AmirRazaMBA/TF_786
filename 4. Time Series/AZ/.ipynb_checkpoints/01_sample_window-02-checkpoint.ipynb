{
 "cells": [
  {
   "cell_type": "markdown",
   "metadata": {
    "id": "Ou0PGp_4icRo"
   },
   "source": [
    "## Multivariate"
   ]
  },
  {
   "cell_type": "code",
   "execution_count": 2,
   "metadata": {
    "id": "gqWabzlJ63nL"
   },
   "outputs": [],
   "source": [
    "import numpy as np\n",
    "import tensorflow as tf\n",
    "from numpy import array\n",
    "from numpy import hstack\n",
    "from tensorflow.keras.preprocessing.sequence import TimeseriesGenerator"
   ]
  },
  {
   "cell_type": "code",
   "execution_count": 3,
   "metadata": {},
   "outputs": [
    {
     "name": "stdout",
     "output_type": "stream",
     "text": [
      "[[ 10  15]\n",
      " [ 20  25]\n",
      " [ 30  35]\n",
      " [ 40  45]\n",
      " [ 50  55]\n",
      " [ 60  65]\n",
      " [ 70  75]\n",
      " [ 80  85]\n",
      " [ 90  95]\n",
      " [100 105]]\n",
      "Samples: 8\n",
      "[[[10 15]\n",
      "  [20 25]]] => [[30 35]]\n",
      "[[[20 25]\n",
      "  [30 35]]] => [[40 45]]\n",
      "[[[30 35]\n",
      "  [40 45]]] => [[50 55]]\n",
      "[[[40 45]\n",
      "  [50 55]]] => [[60 65]]\n",
      "[[[50 55]\n",
      "  [60 65]]] => [[70 75]]\n",
      "[[[60 65]\n",
      "  [70 75]]] => [[80 85]]\n",
      "[[[70 75]\n",
      "  [80 85]]] => [[90 95]]\n",
      "[[[80 85]\n",
      "  [90 95]]] => [[100 105]]\n"
     ]
    }
   ],
   "source": [
    "# multivariate one step problem\n",
    "\n",
    "# define dataset\n",
    "in_seq1 = array([10, 20, 30, 40, 50, 60, 70, 80, 90, 100])\n",
    "in_seq2 = array([15, 25, 35, 45, 55, 65, 75, 85, 95, 105])\n",
    "\n",
    "# reshape series\n",
    "in_seq1 = in_seq1.reshape((len(in_seq1), 1))\n",
    "in_seq2 = in_seq2.reshape((len(in_seq2), 1))\n",
    "\n",
    "#print(in_seq1)\n",
    "#print(in_seq2)\n",
    "\n",
    "# horizontally stack columns\n",
    "dataset = hstack((in_seq1, in_seq2))\n",
    "print(dataset)\n",
    "\n",
    "# define generator\n",
    "n_input = 2\n",
    "generator = TimeseriesGenerator(dataset, dataset, length=n_input, batch_size=1)\n",
    "# number of samples\n",
    "print('Samples: %d' % len(generator))\n",
    "# print each sample\n",
    "for i in range(len(generator)):\n",
    "\tx, y = generator[i]\n",
    "\tprint('%s => %s' % (x, y))"
   ]
  }
 ],
 "metadata": {
  "colab": {
   "collapsed_sections": [],
   "name": "l08c04_time_windows.ipynb",
   "provenance": [],
   "toc_visible": true
  },
  "kernelspec": {
   "display_name": "Python 3",
   "language": "python",
   "name": "python3"
  },
  "language_info": {
   "codemirror_mode": {
    "name": "ipython",
    "version": 3
   },
   "file_extension": ".py",
   "mimetype": "text/x-python",
   "name": "python",
   "nbconvert_exporter": "python",
   "pygments_lexer": "ipython3",
   "version": "3.8.5"
  }
 },
 "nbformat": 4,
 "nbformat_minor": 4
}
