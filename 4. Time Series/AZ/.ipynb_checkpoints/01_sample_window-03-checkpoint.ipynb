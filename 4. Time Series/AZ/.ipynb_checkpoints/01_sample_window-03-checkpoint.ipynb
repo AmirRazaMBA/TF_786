{
 "cells": [
  {
   "cell_type": "code",
   "execution_count": 5,
   "metadata": {
    "jupyter": {
     "outputs_hidden": true
    }
   },
   "outputs": [
    {
     "name": "stdout",
     "output_type": "stream",
     "text": [
      "x:\n",
      " [[[0]\n",
      "  [2]\n",
      "  [4]]\n",
      "\n",
      " [[1]\n",
      "  [3]\n",
      "  [5]]]\n",
      " y:\n",
      " [[5]\n",
      " [6]]\n",
      "x:\n",
      " [[[2]\n",
      "  [4]\n",
      "  [6]]\n",
      "\n",
      " [[3]\n",
      "  [5]\n",
      "  [7]]]\n",
      " y:\n",
      " [[7]\n",
      " [8]]\n",
      "x:\n",
      " [[[4]\n",
      "  [6]\n",
      "  [8]]]\n",
      " y:\n",
      " [[9]]\n"
     ]
    }
   ],
   "source": [
    "import numpy as np\n",
    "from tensorflow.keras.preprocessing.sequence import TimeseriesGenerator\n",
    "\n",
    "data = np.array([[i] for i in range(10)])\n",
    "targets = np.array([[i] for i in range(10)])\n",
    "generator = TimeseriesGenerator(data, targets,\n",
    "                               length=5, sampling_rate=2,\n",
    "                               batch_size=2)\n",
    "\n",
    "for i in range(len(generator)):\n",
    "\tx, y = generator[i]\n",
    "\tprint('x:\\n %s\\n y:\\n %s' % (x, y))"
   ]
  },
  {
   "cell_type": "code",
   "execution_count": null,
   "metadata": {},
   "outputs": [],
   "source": []
  }
 ],
 "metadata": {
  "colab": {
   "collapsed_sections": [],
   "name": "l08c04_time_windows.ipynb",
   "provenance": [],
   "toc_visible": true
  },
  "kernelspec": {
   "display_name": "Python 3",
   "language": "python",
   "name": "python3"
  },
  "language_info": {
   "codemirror_mode": {
    "name": "ipython",
    "version": 3
   },
   "file_extension": ".py",
   "mimetype": "text/x-python",
   "name": "python",
   "nbconvert_exporter": "python",
   "pygments_lexer": "ipython3",
   "version": "3.8.5"
  }
 },
 "nbformat": 4,
 "nbformat_minor": 4
}
