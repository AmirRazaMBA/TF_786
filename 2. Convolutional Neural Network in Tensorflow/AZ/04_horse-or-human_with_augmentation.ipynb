{
  "nbformat": 4,
  "nbformat_minor": 0,
  "metadata": {
    "accelerator": "GPU",
    "colab": {
      "name": "Horse-or-Human-WithAugmentation.ipynb",
      "provenance": [],
      "collapsed_sections": [],
      "toc_visible": true,
      "include_colab_link": true
    },
    "kernelspec": {
      "display_name": "Python 3",
      "language": "python",
      "name": "python3"
    },
    "language_info": {
      "codemirror_mode": {
        "name": "ipython",
        "version": 3
      },
      "file_extension": ".py",
      "mimetype": "text/x-python",
      "name": "python",
      "nbconvert_exporter": "python",
      "pygments_lexer": "ipython3",
      "version": "3.7.7"
    }
  },
  "cells": [
    {
      "cell_type": "markdown",
      "metadata": {
        "id": "view-in-github",
        "colab_type": "text"
      },
      "source": [
        "<a href=\"https://colab.research.google.com/github/AmirRazaMBA/TF_786/blob/main/2.%20Convolutional%20Neural%20Network%20in%20Tensorflow/AZ/04_horse-or-human_with_augmentation.ipynb\" target=\"_parent\"><img src=\"https://colab.research.google.com/assets/colab-badge.svg\" alt=\"Open In Colab\"/></a>"
      ]
    },
    {
      "cell_type": "code",
      "metadata": {
        "id": "AUNYgtAj9i3M"
      },
      "source": [
        "import os\n",
        "import zipfile\n",
        "import tensorflow as tf"
      ],
      "execution_count": 1,
      "outputs": []
    },
    {
      "cell_type": "code",
      "metadata": {
        "id": "HLGUJY5-9mZt"
      },
      "source": [
        "# using wget\n",
        "!wget --no-check-certificate \\\n",
        "    https://storage.googleapis.com/laurencemoroney-blog.appspot.com/horse-or-human.zip \\\n",
        "    -O /tmp/horse-or-human.zip\n",
        "\n",
        "!wget --no-check-certificate \\\n",
        "    https://storage.googleapis.com/laurencemoroney-blog.appspot.com/validation-horse-or-human.zip \\\n",
        "    -O /tmp/validation-horse-or-human.zip\n",
        "  "
      ],
      "execution_count": null,
      "outputs": []
    },
    {
      "cell_type": "code",
      "metadata": {
        "id": "UPHeMCqB9sI8",
        "outputId": "ed761aaf-f165-484f-a9f0-3667fb9d7be5",
        "colab": {
          "base_uri": "https://localhost:8080/"
        }
      },
      "source": [
        "# using python code\n",
        "\n",
        "URL = \"https://storage.googleapis.com/laurencemoroney-blog.appspot.com/horse-or-human.zip\"\n",
        "# filename = \"c:\\\\Sandbox\\\\GitHub\\\\TF_786\\\\horse-or-human.zip\"   # windows\n",
        "filename = \"/content/horse-or-human.zip\"                         # unix\n",
        "\n",
        "zip_file = tf.keras.utils.get_file(origin=URL,\n",
        "                                   fname=filename,\n",
        "                                   extract=True)\n",
        "\n",
        "\n",
        "URL = \"https://storage.googleapis.com/laurencemoroney-blog.appspot.com/validation-horse-or-human.zip\"\n",
        "# filename = \"c:\\\\Sandbox\\\\GitHub\\\\TF_786\\\\validation-horse-or-human.zip\"   # windows\n",
        "filename = \"/content/validation-horse-or-human.zip\"                         # unix\n",
        "\n",
        "zip_file = tf.keras.utils.get_file(origin=URL,\n",
        "                                   fname=filename,\n",
        "                                   extract=True)"
      ],
      "execution_count": 2,
      "outputs": [
        {
          "output_type": "stream",
          "text": [
            "Downloading data from https://storage.googleapis.com/laurencemoroney-blog.appspot.com/horse-or-human.zip\n",
            "149577728/149574867 [==============================] - 1s 0us/step\n",
            "Downloading data from https://storage.googleapis.com/laurencemoroney-blog.appspot.com/validation-horse-or-human.zip\n",
            "11485184/11480187 [==============================] - 0s 0us/step\n"
          ],
          "name": "stdout"
        }
      ]
    },
    {
      "cell_type": "code",
      "metadata": {
        "id": "RXZT2UsyIVe_"
      },
      "source": [
        "filepath = '/content/'\n",
        "local_zip = filepath + 'horse-or-human.zip'\n",
        "zip_ref = zipfile.ZipFile(local_zip, 'r')\n",
        "zip_ref.extractall(filepath + 'horse-or-human')\n",
        "local_zip = filepath + 'validation-horse-or-human.zip'\n",
        "zip_ref = zipfile.ZipFile(local_zip, 'r')\n",
        "zip_ref.extractall(filepath + 'validation-horse-or-human')\n",
        "zip_ref.close()\n",
        "# Directory with our training horse pictures\n",
        "train_horse_dir = os.path.join(filepath + 'horse-or-human/horses')\n",
        "\n",
        "# Directory with our training human pictures\n",
        "train_human_dir = os.path.join(filepath + 'horse-or-human/humans')\n",
        "\n",
        "# Directory with our training horse pictures\n",
        "validation_horse_dir = os.path.join(filepath + 'validation-horse-or-human/horses')\n",
        "\n",
        "# Directory with our training human pictures\n",
        "validation_human_dir = os.path.join(filepath + 'validation-horse-or-human/humans')"
      ],
      "execution_count": 4,
      "outputs": []
    },
    {
      "cell_type": "code",
      "metadata": {
        "colab": {
          "base_uri": "https://localhost:8080/"
        },
        "id": "PixZ2s5QbYQ3",
        "outputId": "6621b44b-01ba-46b9-ddc5-6ad97d9d63fd"
      },
      "source": [
        "model = tf.keras.models.Sequential([\n",
        "    # Note the input shape is the desired size of the image 300x300 with 3 bytes color\n",
        "    # This is the first convolution\n",
        "    tf.keras.layers.Conv2D(16, (3,3), activation='relu', input_shape=(300, 300, 3)),\n",
        "    tf.keras.layers.MaxPooling2D(2, 2),\n",
        "    # The second convolution\n",
        "    tf.keras.layers.Conv2D(32, (3,3), activation='relu'),\n",
        "    tf.keras.layers.MaxPooling2D(2,2),\n",
        "    # The third convolution\n",
        "    tf.keras.layers.Conv2D(64, (3,3), activation='relu'),\n",
        "    tf.keras.layers.MaxPooling2D(2,2),\n",
        "    # The fourth convolution\n",
        "    tf.keras.layers.Conv2D(64, (3,3), activation='relu'),\n",
        "    tf.keras.layers.MaxPooling2D(2,2),\n",
        "    # The fifth convolution\n",
        "    tf.keras.layers.Conv2D(64, (3,3), activation='relu'),\n",
        "    tf.keras.layers.MaxPooling2D(2,2),\n",
        "    # Flatten the results to feed into a DNN\n",
        "    tf.keras.layers.Flatten(),\n",
        "    # 512 neuron hidden layer\n",
        "    tf.keras.layers.Dense(512, activation='relu'),\n",
        "    # Only 1 output neuron. It will contain a value from 0-1 where 0 for 1 class ('horses') and 1 for the other ('humans')\n",
        "    tf.keras.layers.Dense(1, activation='sigmoid')\n",
        "])\n",
        "\n",
        "model.summary()"
      ],
      "execution_count": 6,
      "outputs": [
        {
          "output_type": "stream",
          "text": [
            "Model: \"sequential_1\"\n",
            "_________________________________________________________________\n",
            "Layer (type)                 Output Shape              Param #   \n",
            "=================================================================\n",
            "conv2d_5 (Conv2D)            (None, 298, 298, 16)      448       \n",
            "_________________________________________________________________\n",
            "max_pooling2d_5 (MaxPooling2 (None, 149, 149, 16)      0         \n",
            "_________________________________________________________________\n",
            "conv2d_6 (Conv2D)            (None, 147, 147, 32)      4640      \n",
            "_________________________________________________________________\n",
            "max_pooling2d_6 (MaxPooling2 (None, 73, 73, 32)        0         \n",
            "_________________________________________________________________\n",
            "conv2d_7 (Conv2D)            (None, 71, 71, 64)        18496     \n",
            "_________________________________________________________________\n",
            "max_pooling2d_7 (MaxPooling2 (None, 35, 35, 64)        0         \n",
            "_________________________________________________________________\n",
            "conv2d_8 (Conv2D)            (None, 33, 33, 64)        36928     \n",
            "_________________________________________________________________\n",
            "max_pooling2d_8 (MaxPooling2 (None, 16, 16, 64)        0         \n",
            "_________________________________________________________________\n",
            "conv2d_9 (Conv2D)            (None, 14, 14, 64)        36928     \n",
            "_________________________________________________________________\n",
            "max_pooling2d_9 (MaxPooling2 (None, 7, 7, 64)          0         \n",
            "_________________________________________________________________\n",
            "flatten_1 (Flatten)          (None, 3136)              0         \n",
            "_________________________________________________________________\n",
            "dense_2 (Dense)              (None, 512)               1606144   \n",
            "_________________________________________________________________\n",
            "dense_3 (Dense)              (None, 1)                 513       \n",
            "=================================================================\n",
            "Total params: 1,704,097\n",
            "Trainable params: 1,704,097\n",
            "Non-trainable params: 0\n",
            "_________________________________________________________________\n"
          ],
          "name": "stdout"
        }
      ]
    },
    {
      "cell_type": "code",
      "metadata": {
        "id": "8DHWhFP_uhq3"
      },
      "source": [
        "from tensorflow.keras.optimizers import RMSprop\n",
        "\n",
        "model.compile(loss='binary_crossentropy',\n",
        "              optimizer=RMSprop(lr=1e-4),\n",
        "              metrics=['acc'])"
      ],
      "execution_count": 7,
      "outputs": []
    },
    {
      "cell_type": "code",
      "metadata": {
        "colab": {
          "base_uri": "https://localhost:8080/"
        },
        "id": "ClebU9NJg99G",
        "outputId": "d991bb0e-f282-413b-9e6a-d5fac3d01078"
      },
      "source": [
        "from tensorflow.keras.preprocessing.image import ImageDataGenerator\n",
        "\n",
        "# All images will be rescaled by 1./255\n",
        "train_datagen = ImageDataGenerator(\n",
        "      rescale=1./255,\n",
        "      rotation_range=40,\n",
        "      width_shift_range=0.2,\n",
        "      height_shift_range=0.2,\n",
        "      shear_range=0.2,\n",
        "      zoom_range=0.2,\n",
        "      horizontal_flip=True,\n",
        "      fill_mode='nearest')\n",
        "\n",
        "validation_datagen = ImageDataGenerator(rescale=1/255)\n",
        "\n",
        "# Flow training images in batches of 128 using train_datagen generator\n",
        "train_generator = train_datagen.flow_from_directory(\n",
        "        filepath + 'horse-or-human/',  # This is the source directory for training images\n",
        "        target_size=(300, 300),  # All images will be resized to 150x150\n",
        "        batch_size=128,\n",
        "        # Since we use binary_crossentropy loss, we need binary labels\n",
        "        class_mode='binary')\n",
        "\n",
        "# Flow training images in batches of 128 using train_datagen generator\n",
        "validation_generator = validation_datagen.flow_from_directory(\n",
        "        filepath + 'validation-horse-or-human/',  # This is the source directory for training images\n",
        "        target_size=(300, 300),  # All images will be resized to 150x150\n",
        "        batch_size=32,\n",
        "        # Since we use binary_crossentropy loss, we need binary labels\n",
        "        class_mode='binary')"
      ],
      "execution_count": 9,
      "outputs": [
        {
          "output_type": "stream",
          "text": [
            "Found 1027 images belonging to 2 classes.\n",
            "Found 256 images belonging to 2 classes.\n"
          ],
          "name": "stdout"
        }
      ]
    },
    {
      "cell_type": "code",
      "metadata": {
        "colab": {
          "base_uri": "https://localhost:8080/"
        },
        "id": "Fb1_lgobv81m",
        "scrolled": false,
        "outputId": "28174f28-f505-4990-a678-641ffe70e1de"
      },
      "source": [
        "history = model.fit_generator(\n",
        "      train_generator,\n",
        "      steps_per_epoch=8,  \n",
        "      epochs=100,\n",
        "      verbose=1,\n",
        "      validation_data = validation_generator,\n",
        "      validation_steps=8)"
      ],
      "execution_count": 10,
      "outputs": [
        {
          "output_type": "stream",
          "text": [
            "WARNING:tensorflow:From <ipython-input-10-a30881557ec3>:7: Model.fit_generator (from tensorflow.python.keras.engine.training) is deprecated and will be removed in a future version.\n",
            "Instructions for updating:\n",
            "Please use Model.fit, which supports generators.\n",
            "Epoch 1/100\n",
            "2/8 [======>.......................] - ETA: 0s - loss: 0.6939 - acc: 0.4648WARNING:tensorflow:Callbacks method `on_train_batch_end` is slow compared to the batch time (batch time: 0.0838s vs `on_train_batch_end` time: 0.1593s). Check your callbacks.\n",
            "8/8 [==============================] - 16s 2s/step - loss: 0.6872 - acc: 0.5206 - val_loss: 0.6723 - val_acc: 0.5625\n",
            "Epoch 2/100\n",
            "8/8 [==============================] - 18s 2s/step - loss: 0.6738 - acc: 0.5895 - val_loss: 0.6496 - val_acc: 0.6680\n",
            "Epoch 3/100\n",
            "8/8 [==============================] - 18s 2s/step - loss: 0.6853 - acc: 0.6085 - val_loss: 0.6271 - val_acc: 0.7148\n",
            "Epoch 4/100\n",
            "8/8 [==============================] - 18s 2s/step - loss: 0.6227 - acc: 0.7208 - val_loss: 0.6687 - val_acc: 0.5117\n",
            "Epoch 5/100\n",
            "8/8 [==============================] - 18s 2s/step - loss: 0.5923 - acc: 0.7219 - val_loss: 0.5547 - val_acc: 0.7773\n",
            "Epoch 6/100\n",
            "8/8 [==============================] - 21s 3s/step - loss: 0.5710 - acc: 0.7308 - val_loss: 0.7661 - val_acc: 0.5273\n",
            "Epoch 7/100\n",
            "8/8 [==============================] - 18s 2s/step - loss: 0.6007 - acc: 0.6618 - val_loss: 0.8595 - val_acc: 0.5039\n",
            "Epoch 8/100\n",
            "8/8 [==============================] - 20s 3s/step - loss: 0.5215 - acc: 0.7637 - val_loss: 0.9121 - val_acc: 0.5156\n",
            "Epoch 9/100\n",
            "8/8 [==============================] - 18s 2s/step - loss: 0.5405 - acc: 0.7353 - val_loss: 0.7273 - val_acc: 0.5781\n",
            "Epoch 10/100\n",
            "8/8 [==============================] - 18s 2s/step - loss: 0.5106 - acc: 0.7675 - val_loss: 0.9320 - val_acc: 0.5391\n",
            "Epoch 11/100\n",
            "8/8 [==============================] - 18s 2s/step - loss: 0.4821 - acc: 0.7697 - val_loss: 0.8506 - val_acc: 0.5781\n",
            "Epoch 12/100\n",
            "8/8 [==============================] - 18s 2s/step - loss: 0.5138 - acc: 0.7264 - val_loss: 1.0450 - val_acc: 0.5391\n",
            "Epoch 13/100\n",
            "8/8 [==============================] - 19s 2s/step - loss: 0.4600 - acc: 0.7875 - val_loss: 0.8923 - val_acc: 0.5977\n",
            "Epoch 14/100\n",
            "8/8 [==============================] - 18s 2s/step - loss: 0.4854 - acc: 0.7731 - val_loss: 1.1067 - val_acc: 0.5586\n",
            "Epoch 15/100\n",
            "8/8 [==============================] - 19s 2s/step - loss: 0.4771 - acc: 0.7731 - val_loss: 1.1250 - val_acc: 0.5742\n",
            "Epoch 16/100\n",
            "8/8 [==============================] - 19s 2s/step - loss: 0.4590 - acc: 0.7853 - val_loss: 1.2733 - val_acc: 0.5625\n",
            "Epoch 17/100\n",
            "8/8 [==============================] - 19s 2s/step - loss: 0.4797 - acc: 0.7597 - val_loss: 1.2356 - val_acc: 0.5664\n",
            "Epoch 18/100\n",
            "8/8 [==============================] - 22s 3s/step - loss: 0.4233 - acc: 0.8120 - val_loss: 1.4234 - val_acc: 0.5547\n",
            "Epoch 19/100\n",
            "8/8 [==============================] - 19s 2s/step - loss: 0.4191 - acc: 0.8042 - val_loss: 1.3412 - val_acc: 0.5703\n",
            "Epoch 20/100\n",
            "8/8 [==============================] - 19s 2s/step - loss: 0.4881 - acc: 0.7764 - val_loss: 1.1810 - val_acc: 0.5820\n",
            "Epoch 21/100\n",
            "8/8 [==============================] - 19s 2s/step - loss: 0.4006 - acc: 0.8343 - val_loss: 1.4828 - val_acc: 0.5547\n",
            "Epoch 22/100\n",
            "8/8 [==============================] - 19s 2s/step - loss: 0.3921 - acc: 0.8198 - val_loss: 1.3217 - val_acc: 0.6016\n",
            "Epoch 23/100\n",
            "8/8 [==============================] - 19s 2s/step - loss: 0.3896 - acc: 0.8387 - val_loss: 1.6585 - val_acc: 0.5547\n",
            "Epoch 24/100\n",
            "8/8 [==============================] - 21s 3s/step - loss: 0.3699 - acc: 0.8330 - val_loss: 1.3274 - val_acc: 0.6016\n",
            "Epoch 25/100\n",
            "8/8 [==============================] - 19s 2s/step - loss: 0.3634 - acc: 0.8409 - val_loss: 2.0045 - val_acc: 0.5195\n",
            "Epoch 26/100\n",
            "8/8 [==============================] - 19s 2s/step - loss: 0.3799 - acc: 0.8254 - val_loss: 2.0737 - val_acc: 0.5312\n",
            "Epoch 27/100\n",
            "8/8 [==============================] - 21s 3s/step - loss: 0.3788 - acc: 0.8252 - val_loss: 1.6009 - val_acc: 0.5859\n",
            "Epoch 28/100\n",
            "8/8 [==============================] - 21s 3s/step - loss: 0.3883 - acc: 0.8343 - val_loss: 1.5644 - val_acc: 0.5938\n",
            "Epoch 29/100\n",
            "8/8 [==============================] - 22s 3s/step - loss: 0.3302 - acc: 0.8532 - val_loss: 2.1804 - val_acc: 0.5469\n",
            "Epoch 30/100\n",
            "8/8 [==============================] - 19s 2s/step - loss: 0.4585 - acc: 0.7809 - val_loss: 1.3862 - val_acc: 0.5820\n",
            "Epoch 31/100\n",
            "8/8 [==============================] - 19s 2s/step - loss: 0.3269 - acc: 0.8754 - val_loss: 1.5543 - val_acc: 0.5938\n",
            "Epoch 32/100\n",
            "8/8 [==============================] - 19s 2s/step - loss: 0.3457 - acc: 0.8420 - val_loss: 1.2839 - val_acc: 0.6328\n",
            "Epoch 33/100\n",
            "8/8 [==============================] - 19s 2s/step - loss: 0.3011 - acc: 0.8810 - val_loss: 0.3420 - val_acc: 0.8711\n",
            "Epoch 34/100\n",
            "8/8 [==============================] - 20s 2s/step - loss: 0.4253 - acc: 0.8320 - val_loss: 3.4694 - val_acc: 0.5078\n",
            "Epoch 35/100\n",
            "8/8 [==============================] - 22s 3s/step - loss: 0.3317 - acc: 0.8554 - val_loss: 1.7631 - val_acc: 0.5898\n",
            "Epoch 36/100\n",
            "8/8 [==============================] - 21s 3s/step - loss: 0.3153 - acc: 0.8623 - val_loss: 2.1632 - val_acc: 0.5508\n",
            "Epoch 37/100\n",
            "8/8 [==============================] - 19s 2s/step - loss: 0.3690 - acc: 0.8454 - val_loss: 1.8441 - val_acc: 0.5898\n",
            "Epoch 38/100\n",
            "8/8 [==============================] - 19s 2s/step - loss: 0.3481 - acc: 0.8554 - val_loss: 1.9862 - val_acc: 0.5625\n",
            "Epoch 39/100\n",
            "8/8 [==============================] - 19s 2s/step - loss: 0.2744 - acc: 0.8954 - val_loss: 1.7117 - val_acc: 0.6094\n",
            "Epoch 40/100\n",
            "8/8 [==============================] - 19s 2s/step - loss: 0.3225 - acc: 0.8610 - val_loss: 1.8643 - val_acc: 0.5938\n",
            "Epoch 41/100\n",
            "8/8 [==============================] - 20s 2s/step - loss: 0.3011 - acc: 0.8821 - val_loss: 1.8702 - val_acc: 0.6016\n",
            "Epoch 42/100\n",
            "8/8 [==============================] - 19s 2s/step - loss: 0.3117 - acc: 0.8598 - val_loss: 1.5158 - val_acc: 0.6367\n",
            "Epoch 43/100\n",
            "8/8 [==============================] - 21s 3s/step - loss: 0.2490 - acc: 0.8984 - val_loss: 2.2895 - val_acc: 0.5703\n",
            "Epoch 44/100\n",
            "8/8 [==============================] - 21s 3s/step - loss: 0.2804 - acc: 0.8809 - val_loss: 2.2656 - val_acc: 0.5938\n",
            "Epoch 45/100\n",
            "8/8 [==============================] - 19s 2s/step - loss: 0.2769 - acc: 0.8799 - val_loss: 1.6031 - val_acc: 0.6484\n",
            "Epoch 46/100\n",
            "8/8 [==============================] - 19s 2s/step - loss: 0.2654 - acc: 0.8943 - val_loss: 0.3469 - val_acc: 0.8555\n",
            "Epoch 47/100\n",
            "8/8 [==============================] - 19s 2s/step - loss: 0.3147 - acc: 0.8621 - val_loss: 2.2599 - val_acc: 0.5664\n",
            "Epoch 48/100\n",
            "8/8 [==============================] - 19s 2s/step - loss: 0.2725 - acc: 0.8810 - val_loss: 1.6766 - val_acc: 0.6445\n",
            "Epoch 49/100\n",
            "8/8 [==============================] - 19s 2s/step - loss: 0.2335 - acc: 0.9021 - val_loss: 1.1188 - val_acc: 0.7422\n",
            "Epoch 50/100\n",
            "8/8 [==============================] - 19s 2s/step - loss: 0.2971 - acc: 0.8621 - val_loss: 1.9367 - val_acc: 0.6406\n",
            "Epoch 51/100\n",
            "8/8 [==============================] - 20s 2s/step - loss: 0.2744 - acc: 0.8943 - val_loss: 1.0431 - val_acc: 0.7461\n",
            "Epoch 52/100\n",
            "8/8 [==============================] - 20s 2s/step - loss: 0.2921 - acc: 0.8810 - val_loss: 1.8328 - val_acc: 0.6523\n",
            "Epoch 53/100\n",
            "8/8 [==============================] - 20s 3s/step - loss: 0.2554 - acc: 0.8932 - val_loss: 2.4139 - val_acc: 0.5742\n",
            "Epoch 54/100\n",
            "8/8 [==============================] - 20s 3s/step - loss: 0.2174 - acc: 0.9177 - val_loss: 2.9183 - val_acc: 0.5664\n",
            "Epoch 55/100\n",
            "8/8 [==============================] - 21s 3s/step - loss: 0.2727 - acc: 0.8765 - val_loss: 2.4020 - val_acc: 0.5938\n",
            "Epoch 56/100\n",
            "8/8 [==============================] - 22s 3s/step - loss: 0.2183 - acc: 0.9062 - val_loss: 1.5354 - val_acc: 0.6797\n",
            "Epoch 57/100\n",
            "8/8 [==============================] - 23s 3s/step - loss: 0.2678 - acc: 0.8809 - val_loss: 1.6055 - val_acc: 0.6602\n",
            "Epoch 58/100\n",
            "8/8 [==============================] - 23s 3s/step - loss: 0.1974 - acc: 0.9199 - val_loss: 3.5003 - val_acc: 0.5234\n",
            "Epoch 59/100\n",
            "8/8 [==============================] - 22s 3s/step - loss: 0.2309 - acc: 0.9072 - val_loss: 2.1232 - val_acc: 0.6484\n",
            "Epoch 60/100\n",
            "8/8 [==============================] - 19s 2s/step - loss: 0.3321 - acc: 0.8532 - val_loss: 1.6382 - val_acc: 0.6523\n",
            "Epoch 61/100\n",
            "8/8 [==============================] - 19s 2s/step - loss: 0.2038 - acc: 0.9166 - val_loss: 2.5157 - val_acc: 0.6094\n",
            "Epoch 62/100\n",
            "8/8 [==============================] - 19s 2s/step - loss: 0.2113 - acc: 0.9143 - val_loss: 2.7399 - val_acc: 0.5938\n",
            "Epoch 63/100\n",
            "8/8 [==============================] - 22s 3s/step - loss: 0.1910 - acc: 0.9258 - val_loss: 2.6720 - val_acc: 0.6094\n",
            "Epoch 64/100\n",
            "8/8 [==============================] - 22s 3s/step - loss: 0.2236 - acc: 0.9155 - val_loss: 1.6198 - val_acc: 0.6680\n",
            "Epoch 65/100\n",
            "8/8 [==============================] - 19s 2s/step - loss: 0.2028 - acc: 0.9199 - val_loss: 4.8810 - val_acc: 0.5156\n",
            "Epoch 66/100\n",
            "8/8 [==============================] - 20s 2s/step - loss: 0.2485 - acc: 0.8888 - val_loss: 2.1205 - val_acc: 0.6523\n",
            "Epoch 67/100\n",
            "8/8 [==============================] - 21s 3s/step - loss: 0.1894 - acc: 0.9307 - val_loss: 2.1972 - val_acc: 0.6562\n",
            "Epoch 68/100\n",
            "8/8 [==============================] - 19s 2s/step - loss: 0.2496 - acc: 0.8943 - val_loss: 2.6792 - val_acc: 0.6133\n",
            "Epoch 69/100\n",
            "8/8 [==============================] - 19s 2s/step - loss: 0.2005 - acc: 0.9199 - val_loss: 2.4692 - val_acc: 0.6367\n",
            "Epoch 70/100\n",
            "8/8 [==============================] - 19s 2s/step - loss: 0.1604 - acc: 0.9422 - val_loss: 4.2848 - val_acc: 0.5273\n",
            "Epoch 71/100\n",
            "8/8 [==============================] - 19s 2s/step - loss: 0.1755 - acc: 0.9333 - val_loss: 2.6195 - val_acc: 0.6328\n",
            "Epoch 72/100\n",
            "8/8 [==============================] - 21s 3s/step - loss: 0.3668 - acc: 0.8732 - val_loss: 2.5711 - val_acc: 0.6328\n",
            "Epoch 73/100\n",
            "8/8 [==============================] - 21s 3s/step - loss: 0.1645 - acc: 0.9375 - val_loss: 3.0897 - val_acc: 0.5938\n",
            "Epoch 74/100\n",
            "8/8 [==============================] - 19s 2s/step - loss: 0.1611 - acc: 0.9377 - val_loss: 4.2620 - val_acc: 0.5391\n",
            "Epoch 75/100\n",
            "8/8 [==============================] - 19s 2s/step - loss: 0.2382 - acc: 0.8932 - val_loss: 2.6658 - val_acc: 0.6328\n",
            "Epoch 76/100\n",
            "8/8 [==============================] - 19s 2s/step - loss: 0.1458 - acc: 0.9377 - val_loss: 2.6080 - val_acc: 0.6406\n",
            "Epoch 77/100\n",
            "8/8 [==============================] - 19s 2s/step - loss: 0.1761 - acc: 0.9310 - val_loss: 3.6981 - val_acc: 0.5430\n",
            "Epoch 78/100\n",
            "8/8 [==============================] - 21s 3s/step - loss: 0.2179 - acc: 0.9077 - val_loss: 2.6290 - val_acc: 0.6445\n",
            "Epoch 79/100\n",
            "8/8 [==============================] - 19s 2s/step - loss: 0.1993 - acc: 0.9155 - val_loss: 2.0598 - val_acc: 0.6719\n",
            "Epoch 80/100\n",
            "8/8 [==============================] - 22s 3s/step - loss: 0.1516 - acc: 0.9444 - val_loss: 2.5671 - val_acc: 0.6680\n",
            "Epoch 81/100\n",
            "8/8 [==============================] - 19s 2s/step - loss: 0.1764 - acc: 0.9299 - val_loss: 3.2013 - val_acc: 0.6250\n",
            "Epoch 82/100\n",
            "8/8 [==============================] - 19s 2s/step - loss: 0.2136 - acc: 0.9166 - val_loss: 3.3977 - val_acc: 0.5898\n",
            "Epoch 83/100\n",
            "8/8 [==============================] - 19s 2s/step - loss: 0.2796 - acc: 0.9132 - val_loss: 3.3622 - val_acc: 0.6016\n",
            "Epoch 84/100\n",
            "8/8 [==============================] - 19s 2s/step - loss: 0.1573 - acc: 0.9377 - val_loss: 2.7703 - val_acc: 0.6250\n",
            "Epoch 85/100\n",
            "8/8 [==============================] - 21s 3s/step - loss: 0.1473 - acc: 0.9395 - val_loss: 3.8264 - val_acc: 0.5703\n",
            "Epoch 86/100\n",
            "8/8 [==============================] - 19s 2s/step - loss: 0.2064 - acc: 0.9221 - val_loss: 3.1043 - val_acc: 0.5977\n",
            "Epoch 87/100\n",
            "8/8 [==============================] - 19s 2s/step - loss: 0.2254 - acc: 0.9099 - val_loss: 3.6343 - val_acc: 0.5625\n",
            "Epoch 88/100\n",
            "8/8 [==============================] - 19s 2s/step - loss: 0.1537 - acc: 0.9422 - val_loss: 3.3527 - val_acc: 0.5898\n",
            "Epoch 89/100\n",
            "8/8 [==============================] - 19s 2s/step - loss: 0.1344 - acc: 0.9533 - val_loss: 2.2648 - val_acc: 0.6445\n",
            "Epoch 90/100\n",
            "8/8 [==============================] - 19s 2s/step - loss: 0.1284 - acc: 0.9600 - val_loss: 2.1630 - val_acc: 0.6836\n",
            "Epoch 91/100\n",
            "8/8 [==============================] - 19s 2s/step - loss: 0.2011 - acc: 0.9143 - val_loss: 3.1292 - val_acc: 0.6172\n",
            "Epoch 92/100\n",
            "8/8 [==============================] - 19s 2s/step - loss: 0.1862 - acc: 0.9177 - val_loss: 2.2616 - val_acc: 0.6602\n",
            "Epoch 93/100\n",
            "8/8 [==============================] - 22s 3s/step - loss: 0.1712 - acc: 0.9366 - val_loss: 2.4024 - val_acc: 0.6523\n",
            "Epoch 94/100\n",
            "8/8 [==============================] - 19s 2s/step - loss: 0.1464 - acc: 0.9477 - val_loss: 2.3749 - val_acc: 0.6641\n",
            "Epoch 95/100\n",
            "8/8 [==============================] - 21s 3s/step - loss: 0.1119 - acc: 0.9590 - val_loss: 3.6812 - val_acc: 0.5898\n",
            "Epoch 96/100\n",
            "8/8 [==============================] - 19s 2s/step - loss: 0.2564 - acc: 0.8966 - val_loss: 2.5251 - val_acc: 0.6211\n",
            "Epoch 97/100\n",
            "8/8 [==============================] - 19s 2s/step - loss: 0.1275 - acc: 0.9555 - val_loss: 3.3851 - val_acc: 0.5977\n",
            "Epoch 98/100\n",
            "8/8 [==============================] - 22s 3s/step - loss: 0.1491 - acc: 0.9444 - val_loss: 1.9500 - val_acc: 0.6836\n",
            "Epoch 99/100\n",
            "8/8 [==============================] - 19s 2s/step - loss: 0.1301 - acc: 0.9488 - val_loss: 3.0611 - val_acc: 0.5742\n",
            "Epoch 100/100\n",
            "8/8 [==============================] - 22s 3s/step - loss: 0.1448 - acc: 0.9477 - val_loss: 2.6265 - val_acc: 0.6406\n"
          ],
          "name": "stdout"
        }
      ]
    },
    {
      "cell_type": "code",
      "metadata": {
        "id": "rzB9ERPvJ4Tr"
      },
      "source": [
        "def plot_graphs(history, string):\n",
        "  plt.plot(history.history[string])\n",
        "  plt.plot(history.history['val_'+string])\n",
        "  plt.xlabel(\"Epochs\")\n",
        "  plt.ylabel(string)\n",
        "  plt.legend([string, 'val_'+string])\n",
        "  plt.show()"
      ],
      "execution_count": 14,
      "outputs": []
    },
    {
      "cell_type": "code",
      "metadata": {
        "id": "SZxUtlFLKbyX",
        "outputId": "e917e4b1-1bba-4ce2-9a67-70a9bbf7a367",
        "colab": {
          "base_uri": "https://localhost:8080/"
        }
      },
      "source": [
        "model.metrics_names"
      ],
      "execution_count": 16,
      "outputs": [
        {
          "output_type": "execute_result",
          "data": {
            "text/plain": [
              "['loss', 'acc']"
            ]
          },
          "metadata": {
            "tags": []
          },
          "execution_count": 16
        }
      ]
    },
    {
      "cell_type": "code",
      "metadata": {
        "id": "81sIAVGuKni2",
        "outputId": "21fcc9b8-8d86-4cc9-e2cd-d0c6c81c0d1f",
        "colab": {
          "base_uri": "https://localhost:8080/",
          "height": 541
        }
      },
      "source": [
        "plot_graphs(history, \"acc\")\n",
        "plot_graphs(history, \"loss\")"
      ],
      "execution_count": 17,
      "outputs": [
        {
          "output_type": "display_data",
          "data": {
            "image/png": "[encoded data removed]",
            "text/plain": [
              "<Figure size 432x288 with 1 Axes>"
            ]
          },
          "metadata": {
            "tags": [],
            "needs_background": "light"
          }
        },
        {
          "output_type": "display_data",
          "data": {
            "image/png": "[encoded data removed]",
            "text/plain": [
              "<Figure size 432x288 with 1 Axes>"
            ]
          },
          "metadata": {
            "tags": [],
            "needs_background": "light"
          }
        }
      ]
    }
  ]
}