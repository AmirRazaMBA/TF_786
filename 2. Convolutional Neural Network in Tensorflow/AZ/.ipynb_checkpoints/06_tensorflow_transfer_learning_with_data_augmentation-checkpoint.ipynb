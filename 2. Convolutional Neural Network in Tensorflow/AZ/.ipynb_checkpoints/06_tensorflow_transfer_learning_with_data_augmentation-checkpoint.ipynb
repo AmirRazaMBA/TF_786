{
 "cells": [
  {
   "cell_type": "code",
   "execution_count": null,
   "metadata": {
    "colab": {
     "base_uri": "https://localhost:8080/",
     "height": 119
    },
    "id": "RZFTFusEcsec",
    "outputId": "837c1dcf-89a8-4ece-df8e-43fd1a648f2e"
   },
   "outputs": [],
   "source": [
    "# Install TensorFlow\n",
    "# !pip install -q tensorflow-gpu==2.0.0-rc0\n",
    "\n",
    "try:\n",
    "  %tensorflow_version 2.x  # Colab only.\n",
    "except Exception:\n",
    "  pass\n",
    "\n",
    "import tensorflow as tf\n",
    "print(tf.__version__)"
   ]
  },
  {
   "cell_type": "code",
   "execution_count": null,
   "metadata": {
    "id": "a4s4g3_Bcwu8"
   },
   "outputs": [],
   "source": [
    "# More imports\n",
    "from tensorflow.keras.layers import Input, Dense, Flatten\n",
    "from tensorflow.keras.applications.vgg16 import VGG16 as PretrainedModel, \\\n",
    "  preprocess_input\n",
    "from tensorflow.keras.models import Model\n",
    "from tensorflow.keras.optimizers import SGD, Adam\n",
    "from tensorflow.keras.preprocessing import image\n",
    "from tensorflow.keras.preprocessing.image import ImageDataGenerator\n",
    "\n",
    "from glob import glob\n",
    "\n",
    "import numpy as np\n",
    "import pandas as pd\n",
    "import matplotlib.pyplot as plt\n",
    "import sys, os"
   ]
  },
  {
   "cell_type": "code",
   "execution_count": null,
   "metadata": {
    "colab": {
     "base_uri": "https://localhost:8080/",
     "height": 204
    },
    "id": "uCLh-5xFc1t-",
    "outputId": "272c5fb5-8267-4f45-a451-047d81107b04"
   },
   "outputs": [],
   "source": [
    "# Data from: https://mmspg.epfl.ch/downloads/food-image-datasets/\n",
    "# !wget --passive-ftp --prefer-family=ipv4 --ftp-user FoodImage@grebvm2.epfl.ch \\\n",
    "#  --ftp-password Cahc1moo -nc ftp://tremplin.epfl.ch/Food-5K.zip\n",
    "!wget -nc https://lazyprogrammer.me/course_files/Food-5K.zip"
   ]
  },
  {
   "cell_type": "code",
   "execution_count": null,
   "metadata": {
    "id": "EPxnx4LVc_fW"
   },
   "outputs": [],
   "source": [
    "!unzip -qq -o Food-5K.zip"
   ]
  },
  {
   "cell_type": "code",
   "execution_count": null,
   "metadata": {
    "colab": {
     "base_uri": "https://localhost:8080/",
     "height": 34
    },
    "id": "V7NhBksadZHd",
    "outputId": "52a754ad-3cde-41da-9a0e-39d211035517"
   },
   "outputs": [],
   "source": [
    "!ls"
   ]
  },
  {
   "cell_type": "code",
   "execution_count": null,
   "metadata": {
    "colab": {
     "base_uri": "https://localhost:8080/",
     "height": 1000
    },
    "id": "wBoKecJJdaHn",
    "outputId": "56eeed1b-faaa-4733-a449-e58b3a4d5f2c"
   },
   "outputs": [],
   "source": [
    "!ls Food-5K/training"
   ]
  },
  {
   "cell_type": "code",
   "execution_count": null,
   "metadata": {
    "id": "ouchMh3zr2sT"
   },
   "outputs": [],
   "source": [
    "!mv Food-5K/* ."
   ]
  },
  {
   "cell_type": "code",
   "execution_count": null,
   "metadata": {
    "colab": {
     "base_uri": "https://localhost:8080/",
     "height": 269
    },
    "id": "MaVWeWH8de8n",
    "outputId": "a6a1adaa-bc3e-4d0e-ff75-9a7c6cb5fcaa"
   },
   "outputs": [],
   "source": [
    "# look at an image for fun\n",
    "plt.imshow(image.load_img('training/0_808.jpg'))\n",
    "plt.show()"
   ]
  },
  {
   "cell_type": "code",
   "execution_count": null,
   "metadata": {
    "colab": {
     "base_uri": "https://localhost:8080/",
     "height": 269
    },
    "id": "HIDkquFadrEW",
    "outputId": "4fb5a9b9-248e-4147-9ee1-1b51aa7b9f43"
   },
   "outputs": [],
   "source": [
    "# Food images start with 1, non-food images start with 0\n",
    "plt.imshow(image.load_img('training/1_616.jpg'))\n",
    "plt.show()"
   ]
  },
  {
   "cell_type": "code",
   "execution_count": null,
   "metadata": {
    "id": "pVu4y1DKdxEG"
   },
   "outputs": [],
   "source": [
    "!mkdir data"
   ]
  },
  {
   "cell_type": "code",
   "execution_count": null,
   "metadata": {
    "id": "-uafzUUKd55M"
   },
   "outputs": [],
   "source": [
    "# Make directories to store the data Keras-style\n",
    "!mkdir data/train\n",
    "!mkdir data/test\n",
    "!mkdir data/train/nonfood\n",
    "!mkdir data/train/food\n",
    "!mkdir data/test/nonfood\n",
    "!mkdir data/test/food"
   ]
  },
  {
   "cell_type": "code",
   "execution_count": null,
   "metadata": {
    "id": "0eRi8crEeGRf"
   },
   "outputs": [],
   "source": [
    "# Move the images\n",
    "# Note: we will consider 'training' to be the train set\n",
    "#       'validation' folder will be the test set\n",
    "#       ignore the 'evaluation' set\n",
    "!mv training/0*.jpg data/train/nonfood\n",
    "!mv training/1*.jpg data/train/food\n",
    "!mv validation/0*.jpg data/test/nonfood\n",
    "!mv validation/1*.jpg data/test/food"
   ]
  },
  {
   "cell_type": "code",
   "execution_count": null,
   "metadata": {
    "id": "xu1nf5xkeiXs"
   },
   "outputs": [],
   "source": [
    "train_path = 'data/train'\n",
    "valid_path = 'data/test'"
   ]
  },
  {
   "cell_type": "code",
   "execution_count": null,
   "metadata": {
    "id": "pS1RfyFueujP"
   },
   "outputs": [],
   "source": [
    "# These images are pretty big and of different sizes\n",
    "# Let's load them all in as the same (smaller) size\n",
    "IMAGE_SIZE = [200, 200]"
   ]
  },
  {
   "cell_type": "code",
   "execution_count": null,
   "metadata": {
    "id": "iQ9p_iH1fEvv"
   },
   "outputs": [],
   "source": [
    "# useful for getting number of files\n",
    "image_files = glob(train_path + '/*/*.jpg')\n",
    "valid_image_files = glob(valid_path + '/*/*.jpg')"
   ]
  },
  {
   "cell_type": "code",
   "execution_count": null,
   "metadata": {
    "colab": {
     "base_uri": "https://localhost:8080/",
     "height": 34
    },
    "id": "FsFgJn-6fI36",
    "outputId": "2209281c-a884-4015-c98f-185b6cf13fc5"
   },
   "outputs": [],
   "source": [
    "# useful for getting number of classes\n",
    "folders = glob(train_path + '/*')\n",
    "folders"
   ]
  },
  {
   "cell_type": "code",
   "execution_count": null,
   "metadata": {
    "colab": {
     "base_uri": "https://localhost:8080/",
     "height": 269
    },
    "id": "Tt6ccnhhfJ6y",
    "outputId": "54b28425-3116-42b5-c714-8f23cfbf1d8a"
   },
   "outputs": [],
   "source": [
    "# look at an image for fun\n",
    "plt.imshow(image.load_img(np.random.choice(image_files)))\n",
    "plt.show()"
   ]
  },
  {
   "cell_type": "code",
   "execution_count": null,
   "metadata": {
    "colab": {
     "base_uri": "https://localhost:8080/",
     "height": 51
    },
    "id": "Mz1weoVCfN0-",
    "outputId": "9b66d677-410b-4219-86bc-fd7eb18a4b3f"
   },
   "outputs": [],
   "source": [
    "ptm = PretrainedModel(\n",
    "    input_shape=IMAGE_SIZE + [3],\n",
    "    weights='imagenet',\n",
    "    include_top=False)"
   ]
  },
  {
   "cell_type": "code",
   "execution_count": null,
   "metadata": {
    "id": "45WQBt9pfiG5"
   },
   "outputs": [],
   "source": [
    "# freeze pretrained model weights\n",
    "ptm.trainable = False"
   ]
  },
  {
   "cell_type": "code",
   "execution_count": null,
   "metadata": {
    "id": "YkxxS9zifoR3"
   },
   "outputs": [],
   "source": [
    "# map the data into feature vectors\n",
    "\n",
    "# Keras image data generator returns classes one-hot encoded\n",
    "\n",
    "K = len(folders) # number of classes\n",
    "x = Flatten()(ptm.output)\n",
    "x = Dense(K, activation='softmax')(x)"
   ]
  },
  {
   "cell_type": "code",
   "execution_count": null,
   "metadata": {
    "id": "TqzghjxNftgX"
   },
   "outputs": [],
   "source": [
    "# create a model object\n",
    "model = Model(inputs=ptm.input, outputs=x)"
   ]
  },
  {
   "cell_type": "code",
   "execution_count": null,
   "metadata": {
    "colab": {
     "base_uri": "https://localhost:8080/",
     "height": 867
    },
    "id": "U8EO7sLIft1r",
    "outputId": "2156675d-0230-46e4-dea9-29e0f0baee78"
   },
   "outputs": [],
   "source": [
    "# view the structure of the model\n",
    "model.summary()"
   ]
  },
  {
   "cell_type": "code",
   "execution_count": null,
   "metadata": {
    "id": "wKC5ilt4hc1K"
   },
   "outputs": [],
   "source": [
    "# create an instance of ImageDataGenerator\n",
    "gen_train = ImageDataGenerator(\n",
    "  rotation_range=20,\n",
    "  width_shift_range=0.1,\n",
    "  height_shift_range=0.1,\n",
    "  shear_range=0.1,\n",
    "  zoom_range=0.2,\n",
    "  horizontal_flip=True,\n",
    "  preprocessing_function=preprocess_input\n",
    ")\n",
    "\n",
    "gen_test = ImageDataGenerator(\n",
    "  preprocessing_function=preprocess_input\n",
    ")"
   ]
  },
  {
   "cell_type": "code",
   "execution_count": null,
   "metadata": {
    "colab": {
     "base_uri": "https://localhost:8080/",
     "height": 51
    },
    "id": "SgtuBIoThuZc",
    "outputId": "bcd42bf5-cf59-4b53-feb6-a8f89994ca8f"
   },
   "outputs": [],
   "source": [
    "batch_size = 128\n",
    "\n",
    "# create generators\n",
    "train_generator = gen_train.flow_from_directory(\n",
    "  train_path,\n",
    "  shuffle=True,\n",
    "  target_size=IMAGE_SIZE,\n",
    "  batch_size=batch_size,\n",
    ")\n",
    "valid_generator = gen_test.flow_from_directory(\n",
    "  valid_path,\n",
    "  target_size=IMAGE_SIZE,\n",
    "  batch_size=batch_size,\n",
    ")"
   ]
  },
  {
   "cell_type": "code",
   "execution_count": null,
   "metadata": {
    "id": "I5pDP0IStBZp"
   },
   "outputs": [],
   "source": [
    "model.compile(\n",
    "  loss='categorical_crossentropy',\n",
    "  optimizer='adam',\n",
    "  metrics=['accuracy']\n",
    ")"
   ]
  },
  {
   "cell_type": "code",
   "execution_count": null,
   "metadata": {
    "colab": {
     "base_uri": "https://localhost:8080/",
     "height": 428
    },
    "id": "rlwkypTAsqW2",
    "outputId": "12706a4a-2211-4582-8188-bb001b2755a1"
   },
   "outputs": [],
   "source": [
    "# fit the model\n",
    "r = model.fit_generator(\n",
    "  train_generator,\n",
    "  validation_data=valid_generator,\n",
    "  epochs=10,\n",
    "  steps_per_epoch=int(np.ceil(len(image_files) / batch_size)),\n",
    "  validation_steps=int(np.ceil(len(valid_image_files) / batch_size)),\n",
    ")"
   ]
  },
  {
   "cell_type": "code",
   "execution_count": null,
   "metadata": {
    "colab": {
     "base_uri": "https://localhost:8080/",
     "height": 51
    },
    "id": "344JeS4eZIUP",
    "outputId": "bd63a08e-826c-4fbe-e945-ed3663249011"
   },
   "outputs": [],
   "source": [
    "# create a 2nd train generator which does not use data augmentation\n",
    "# to get the true train accuracy\n",
    "train_generator2 = gen_test.flow_from_directory(\n",
    "  train_path,\n",
    "  target_size=IMAGE_SIZE,\n",
    "  batch_size=batch_size,\n",
    ")\n",
    "model.evaluate_generator(\n",
    "    train_generator2,\n",
    "    steps=int(np.ceil(len(image_files) / batch_size)))"
   ]
  },
  {
   "cell_type": "code",
   "execution_count": null,
   "metadata": {
    "colab": {
     "base_uri": "https://localhost:8080/",
     "height": 269
    },
    "id": "2oa3tHhOSC8J",
    "outputId": "969a737f-57f4-4ac0-f265-26b3263eafc5"
   },
   "outputs": [],
   "source": [
    "# loss\n",
    "plt.plot(r.history['loss'], label='train loss')\n",
    "plt.plot(r.history['val_loss'], label='val loss')\n",
    "plt.legend()\n",
    "plt.show()"
   ]
  },
  {
   "cell_type": "code",
   "execution_count": null,
   "metadata": {
    "colab": {
     "base_uri": "https://localhost:8080/",
     "height": 269
    },
    "id": "T3urB6c6SDaU",
    "outputId": "379994a5-1433-4c5e-b185-0e7825371cbe"
   },
   "outputs": [],
   "source": [
    "# accuracies\n",
    "plt.plot(r.history['accuracy'], label='train acc')\n",
    "plt.plot(r.history['val_accuracy'], label='val acc')\n",
    "plt.legend()\n",
    "plt.show()"
   ]
  }
 ],
 "metadata": {
  "accelerator": "GPU",
  "colab": {
   "name": "TF2.0 Transfer Learning with Data Augmentation.ipynb",
   "provenance": []
  },
  "kernelspec": {
   "display_name": "Python 3",
   "language": "python",
   "name": "python3"
  },
  "language_info": {
   "codemirror_mode": {
    "name": "ipython",
    "version": 3
   },
   "file_extension": ".py",
   "mimetype": "text/x-python",
   "name": "python",
   "nbconvert_exporter": "python",
   "pygments_lexer": "ipython3",
   "version": "3.7.7"
  }
 },
 "nbformat": 4,
 "nbformat_minor": 1
}
