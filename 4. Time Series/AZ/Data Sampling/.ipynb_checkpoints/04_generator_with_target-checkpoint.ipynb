{
 "cells": [
  {
   "cell_type": "code",
   "execution_count": 3,
   "metadata": {},
   "outputs": [
    {
     "name": "stdout",
     "output_type": "stream",
     "text": [
      "[[1 2]] => [[3 4]]\n",
      "[[2 3]] => [[4 5]]\n",
      "[[3 4]] => [[5 6]]\n",
      "[[4 5]] => [[6 7]]\n",
      "[[5 6]] => [[7 8]]\n",
      "[[6 7]] => [[8 9]]\n",
      "[[7 8]] => [[ 9 10]]\n",
      "[[8 9]] => [[10 11]]\n"
     ]
    }
   ],
   "source": [
    "# univariate multi-step problem\n",
    "# https://machinelearningmastery.com/how-to-use-the-timeseriesgenerator-for-time-series-forecasting-in-keras/\n",
    "    \n",
    "from numpy import array\n",
    "from tensorflow.keras.preprocessing.sequence import TimeseriesGenerator\n",
    "# define dataset\n",
    "series = array([1, 2, 3, 4, 5, 6, 7, 8, 9, 10])\n",
    "target = array([[1,2],[2,3],[3,4],[4,5],[5,6],[6,7],[7,8],[8,9],[9,10],[10,11]])\n",
    "# define generator\n",
    "n_input = 2\n",
    "generator = TimeseriesGenerator(series, target, length=n_input, batch_size=1)\n",
    "# print each sample\n",
    "for i in range(len(generator)):\n",
    "\tx, y = generator[i]\n",
    "\tprint('%s => %s' % (x, y))"
   ]
  },
  {
   "cell_type": "code",
   "execution_count": null,
   "metadata": {},
   "outputs": [],
   "source": []
  }
 ],
 "metadata": {
  "kernelspec": {
   "display_name": "Python 3",
   "language": "python",
   "name": "python3"
  },
  "language_info": {
   "codemirror_mode": {
    "name": "ipython",
    "version": 3
   },
   "file_extension": ".py",
   "mimetype": "text/x-python",
   "name": "python",
   "nbconvert_exporter": "python",
   "pygments_lexer": "ipython3",
   "version": "3.8.5"
  }
 },
 "nbformat": 4,
 "nbformat_minor": 4
}
