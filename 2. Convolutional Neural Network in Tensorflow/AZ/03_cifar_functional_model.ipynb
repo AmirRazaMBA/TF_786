{
 "cells": [
  {
   "cell_type": "markdown",
   "metadata": {},
   "source": [
    "## CNN - Example"
   ]
  },
  {
   "cell_type": "code",
   "execution_count": 18,
   "metadata": {},
   "outputs": [],
   "source": [
    "import tensorflow as tf\n",
    "import numpy as np\n",
    "import pandas as pd\n",
    "import matplotlib.pyplot as plt\n",
    "from tensorflow.keras.layers import Input, Conv2D, Dense, Flatten, Dropout, GlobalMaxPooling2D\n",
    "from tensorflow.keras.models import Model"
   ]
  },
  {
   "cell_type": "markdown",
   "metadata": {},
   "source": [
    "### Load data from Keras"
   ]
  },
  {
   "cell_type": "code",
   "execution_count": 2,
   "metadata": {
    "colab": {
     "base_uri": "https://localhost:8080/"
    },
    "id": "H_EGZv1TL4S_",
    "outputId": "ba96b1a5-f22c-487f-d9db-071747040b67"
   },
   "outputs": [
    {
     "name": "stdout",
     "output_type": "stream",
     "text": [
      "Downloading data from https://www.cs.toronto.edu/~kriz/cifar-10-python.tar.gz\n",
      "170500096/170498071 [==============================] - 60s 0us/step\n",
      "x_train.shape: (50000, 32, 32, 3)\n",
      "y_train.shape (50000,)\n"
     ]
    }
   ],
   "source": [
    "# Load in the data\n",
    "cifar10 = tf.keras.datasets.cifar10\n",
    "\n",
    "(x_train, y_train), (x_test, y_test) = cifar10.load_data()\n",
    "x_train, x_test = x_train / 255.0, x_test / 255.0\n",
    "y_train, y_test = y_train.flatten(), y_test.flatten()\n",
    "print(\"x_train.shape:\", x_train.shape)\n",
    "print(\"y_train.shape\", y_train.shape)"
   ]
  },
  {
   "cell_type": "markdown",
   "metadata": {},
   "source": [
    "#### Find number of classes"
   ]
  },
  {
   "cell_type": "code",
   "execution_count": 3,
   "metadata": {
    "colab": {
     "base_uri": "https://localhost:8080/"
    },
    "id": "1Wr15bYpMwbB",
    "outputId": "9493ddba-ba98-4b0a-f30b-9fe5c2a1dd38"
   },
   "outputs": [
    {
     "name": "stdout",
     "output_type": "stream",
     "text": [
      "number of classes: 10\n"
     ]
    }
   ],
   "source": [
    "# number of classes\n",
    "K = len(set(y_train))\n",
    "print(\"number of classes:\", K)"
   ]
  },
  {
   "cell_type": "markdown",
   "metadata": {},
   "source": [
    "### Build functional Model"
   ]
  },
  {
   "cell_type": "code",
   "execution_count": 4,
   "metadata": {
    "id": "Mmo66uQoMA1Q"
   },
   "outputs": [],
   "source": [
    "# Build the model using the functional API\n",
    "i = Input(shape=x_train[0].shape)\n",
    "x = Conv2D(32, (3, 3), strides=2, activation='relu')(i)\n",
    "x = Conv2D(64, (3, 3), strides=2, activation='relu')(x)\n",
    "x = Conv2D(128, (3, 3), strides=2, activation='relu')(x)\n",
    "x = Flatten()(x)\n",
    "x = Dropout(0.5)(x)\n",
    "x = Dense(1024, activation='relu')(x)\n",
    "x = Dropout(0.2)(x)\n",
    "x = Dense(K, activation='softmax')(x)\n",
    "\n",
    "model = Model(i, x)"
   ]
  },
  {
   "cell_type": "markdown",
   "metadata": {},
   "source": [
    "### Compile/Summary/Fit"
   ]
  },
  {
   "cell_type": "code",
   "execution_count": 5,
   "metadata": {
    "colab": {
     "base_uri": "https://localhost:8080/"
    },
    "id": "0zF9n0P7NcP-",
    "outputId": "7f4d80dd-923d-4d5f-8eff-d6c35fc49196"
   },
   "outputs": [
    {
     "name": "stdout",
     "output_type": "stream",
     "text": [
      "Model: \"functional_1\"\n",
      "_________________________________________________________________\n",
      "Layer (type)                 Output Shape              Param #   \n",
      "=================================================================\n",
      "input_1 (InputLayer)         [(None, 32, 32, 3)]       0         \n",
      "_________________________________________________________________\n",
      "conv2d (Conv2D)              (None, 15, 15, 32)        896       \n",
      "_________________________________________________________________\n",
      "conv2d_1 (Conv2D)            (None, 7, 7, 64)          18496     \n",
      "_________________________________________________________________\n",
      "conv2d_2 (Conv2D)            (None, 3, 3, 128)         73856     \n",
      "_________________________________________________________________\n",
      "flatten (Flatten)            (None, 1152)              0         \n",
      "_________________________________________________________________\n",
      "dropout (Dropout)            (None, 1152)              0         \n",
      "_________________________________________________________________\n",
      "dense (Dense)                (None, 1024)              1180672   \n",
      "_________________________________________________________________\n",
      "dropout_1 (Dropout)          (None, 1024)              0         \n",
      "_________________________________________________________________\n",
      "dense_1 (Dense)              (None, 10)                10250     \n",
      "=================================================================\n",
      "Total params: 1,284,170\n",
      "Trainable params: 1,284,170\n",
      "Non-trainable params: 0\n",
      "_________________________________________________________________\n"
     ]
    }
   ],
   "source": [
    "# Compile and fit\n",
    "model.compile(optimizer='adam',\n",
    "              loss='sparse_categorical_crossentropy',\n",
    "              metrics=['accuracy'])\n",
    "model.summary()"
   ]
  },
  {
   "cell_type": "code",
   "execution_count": 6,
   "metadata": {
    "colab": {
     "base_uri": "https://localhost:8080/"
    },
    "id": "XKQRfwg6B_J4",
    "outputId": "9da2c48d-712f-4148-fcfe-cbf62d649a86"
   },
   "outputs": [
    {
     "name": "stdout",
     "output_type": "stream",
     "text": [
      "Epoch 1/15\n",
      "1563/1563 [==============================] - 39s 25ms/step - loss: 1.5589 - accuracy: 0.4293 - val_loss: 1.3183 - val_accuracy: 0.5301\n",
      "Epoch 2/15\n",
      "1563/1563 [==============================] - 42s 27ms/step - loss: 1.2662 - accuracy: 0.5468 - val_loss: 1.1324 - val_accuracy: 0.5978\n",
      "Epoch 3/15\n",
      "1563/1563 [==============================] - 40s 25ms/step - loss: 1.1343 - accuracy: 0.5947 - val_loss: 1.0257 - val_accuracy: 0.6393\n",
      "Epoch 4/15\n",
      "1563/1563 [==============================] - 38s 24ms/step - loss: 1.0495 - accuracy: 0.6269 - val_loss: 0.9898 - val_accuracy: 0.6510\n",
      "Epoch 5/15\n",
      "1563/1563 [==============================] - 36s 23ms/step - loss: 0.9829 - accuracy: 0.6523 - val_loss: 0.9246 - val_accuracy: 0.6842\n",
      "Epoch 6/15\n",
      "1563/1563 [==============================] - 36s 23ms/step - loss: 0.9142 - accuracy: 0.6757 - val_loss: 0.9090 - val_accuracy: 0.6825\n",
      "Epoch 7/15\n",
      "1563/1563 [==============================] - 38s 24ms/step - loss: 0.8704 - accuracy: 0.6895 - val_loss: 0.8850 - val_accuracy: 0.6919\n",
      "Epoch 8/15\n",
      "1563/1563 [==============================] - 33s 21ms/step - loss: 0.8239 - accuracy: 0.7079 - val_loss: 0.8509 - val_accuracy: 0.7027\n",
      "Epoch 9/15\n",
      "1563/1563 [==============================] - 33s 21ms/step - loss: 0.7850 - accuracy: 0.7205 - val_loss: 0.8335 - val_accuracy: 0.7143\n",
      "Epoch 10/15\n",
      "1563/1563 [==============================] - 33s 21ms/step - loss: 0.7530 - accuracy: 0.7319 - val_loss: 0.8568 - val_accuracy: 0.6961\n",
      "Epoch 11/15\n",
      "1563/1563 [==============================] - 33s 21ms/step - loss: 0.7267 - accuracy: 0.7410 - val_loss: 0.8368 - val_accuracy: 0.7082\n",
      "Epoch 12/15\n",
      "1563/1563 [==============================] - 33s 21ms/step - loss: 0.6938 - accuracy: 0.7531 - val_loss: 0.8158 - val_accuracy: 0.7159\n",
      "Epoch 13/15\n",
      "1563/1563 [==============================] - 33s 21ms/step - loss: 0.6782 - accuracy: 0.7565 - val_loss: 0.8318 - val_accuracy: 0.7136\n",
      "Epoch 14/15\n",
      "1563/1563 [==============================] - 32s 21ms/step - loss: 0.6542 - accuracy: 0.7668 - val_loss: 0.8080 - val_accuracy: 0.7201\n",
      "Epoch 15/15\n",
      "1563/1563 [==============================] - 33s 21ms/step - loss: 0.6357 - accuracy: 0.7743 - val_loss: 0.8085 - val_accuracy: 0.7277\n"
     ]
    }
   ],
   "source": [
    "history = model.fit(x_train, y_train, validation_data=(x_test, y_test), epochs=15)"
   ]
  },
  {
   "cell_type": "markdown",
   "metadata": {},
   "source": [
    "### Model Evaluation"
   ]
  },
  {
   "cell_type": "code",
   "execution_count": 16,
   "metadata": {},
   "outputs": [
    {
     "name": "stdout",
     "output_type": "stream",
     "text": [
      "['loss', 'accuracy']\n",
      "[0.8085067272186279, 0.7276999950408936]\n"
     ]
    }
   ],
   "source": [
    "print(model.metrics_names)\n",
    "print(model.evaluate(x_test,y_test,verbose=0))"
   ]
  },
  {
   "cell_type": "code",
   "execution_count": 24,
   "metadata": {},
   "outputs": [
    {
     "data": {
      "text/html": [
       "<div>\n",
       "<style scoped>\n",
       "    .dataframe tbody tr th:only-of-type {\n",
       "        vertical-align: middle;\n",
       "    }\n",
       "\n",
       "    .dataframe tbody tr th {\n",
       "        vertical-align: top;\n",
       "    }\n",
       "\n",
       "    .dataframe thead th {\n",
       "        text-align: right;\n",
       "    }\n",
       "</style>\n",
       "<table border=\"1\" class=\"dataframe\">\n",
       "  <thead>\n",
       "    <tr style=\"text-align: right;\">\n",
       "      <th></th>\n",
       "      <th>loss</th>\n",
       "      <th>accuracy</th>\n",
       "      <th>val_loss</th>\n",
       "      <th>val_accuracy</th>\n",
       "    </tr>\n",
       "  </thead>\n",
       "  <tbody>\n",
       "    <tr>\n",
       "      <th>0</th>\n",
       "      <td>1.558907</td>\n",
       "      <td>0.42930</td>\n",
       "      <td>1.318326</td>\n",
       "      <td>0.5301</td>\n",
       "    </tr>\n",
       "    <tr>\n",
       "      <th>1</th>\n",
       "      <td>1.266198</td>\n",
       "      <td>0.54678</td>\n",
       "      <td>1.132365</td>\n",
       "      <td>0.5978</td>\n",
       "    </tr>\n",
       "    <tr>\n",
       "      <th>2</th>\n",
       "      <td>1.134344</td>\n",
       "      <td>0.59468</td>\n",
       "      <td>1.025658</td>\n",
       "      <td>0.6393</td>\n",
       "    </tr>\n",
       "    <tr>\n",
       "      <th>3</th>\n",
       "      <td>1.049459</td>\n",
       "      <td>0.62688</td>\n",
       "      <td>0.989784</td>\n",
       "      <td>0.6510</td>\n",
       "    </tr>\n",
       "    <tr>\n",
       "      <th>4</th>\n",
       "      <td>0.982851</td>\n",
       "      <td>0.65226</td>\n",
       "      <td>0.924605</td>\n",
       "      <td>0.6842</td>\n",
       "    </tr>\n",
       "    <tr>\n",
       "      <th>5</th>\n",
       "      <td>0.914196</td>\n",
       "      <td>0.67566</td>\n",
       "      <td>0.909017</td>\n",
       "      <td>0.6825</td>\n",
       "    </tr>\n",
       "    <tr>\n",
       "      <th>6</th>\n",
       "      <td>0.870430</td>\n",
       "      <td>0.68948</td>\n",
       "      <td>0.885033</td>\n",
       "      <td>0.6919</td>\n",
       "    </tr>\n",
       "    <tr>\n",
       "      <th>7</th>\n",
       "      <td>0.823942</td>\n",
       "      <td>0.70786</td>\n",
       "      <td>0.850895</td>\n",
       "      <td>0.7027</td>\n",
       "    </tr>\n",
       "    <tr>\n",
       "      <th>8</th>\n",
       "      <td>0.785013</td>\n",
       "      <td>0.72046</td>\n",
       "      <td>0.833519</td>\n",
       "      <td>0.7143</td>\n",
       "    </tr>\n",
       "    <tr>\n",
       "      <th>9</th>\n",
       "      <td>0.752997</td>\n",
       "      <td>0.73186</td>\n",
       "      <td>0.856826</td>\n",
       "      <td>0.6961</td>\n",
       "    </tr>\n",
       "    <tr>\n",
       "      <th>10</th>\n",
       "      <td>0.726656</td>\n",
       "      <td>0.74096</td>\n",
       "      <td>0.836848</td>\n",
       "      <td>0.7082</td>\n",
       "    </tr>\n",
       "    <tr>\n",
       "      <th>11</th>\n",
       "      <td>0.693780</td>\n",
       "      <td>0.75314</td>\n",
       "      <td>0.815793</td>\n",
       "      <td>0.7159</td>\n",
       "    </tr>\n",
       "    <tr>\n",
       "      <th>12</th>\n",
       "      <td>0.678230</td>\n",
       "      <td>0.75650</td>\n",
       "      <td>0.831850</td>\n",
       "      <td>0.7136</td>\n",
       "    </tr>\n",
       "    <tr>\n",
       "      <th>13</th>\n",
       "      <td>0.654214</td>\n",
       "      <td>0.76676</td>\n",
       "      <td>0.807970</td>\n",
       "      <td>0.7201</td>\n",
       "    </tr>\n",
       "    <tr>\n",
       "      <th>14</th>\n",
       "      <td>0.635702</td>\n",
       "      <td>0.77430</td>\n",
       "      <td>0.808507</td>\n",
       "      <td>0.7277</td>\n",
       "    </tr>\n",
       "  </tbody>\n",
       "</table>\n",
       "</div>"
      ],
      "text/plain": [
       "        loss  accuracy  val_loss  val_accuracy\n",
       "0   1.558907   0.42930  1.318326        0.5301\n",
       "1   1.266198   0.54678  1.132365        0.5978\n",
       "2   1.134344   0.59468  1.025658        0.6393\n",
       "3   1.049459   0.62688  0.989784        0.6510\n",
       "4   0.982851   0.65226  0.924605        0.6842\n",
       "5   0.914196   0.67566  0.909017        0.6825\n",
       "6   0.870430   0.68948  0.885033        0.6919\n",
       "7   0.823942   0.70786  0.850895        0.7027\n",
       "8   0.785013   0.72046  0.833519        0.7143\n",
       "9   0.752997   0.73186  0.856826        0.6961\n",
       "10  0.726656   0.74096  0.836848        0.7082\n",
       "11  0.693780   0.75314  0.815793        0.7159\n",
       "12  0.678230   0.75650  0.831850        0.7136\n",
       "13  0.654214   0.76676  0.807970        0.7201\n",
       "14  0.635702   0.77430  0.808507        0.7277"
      ]
     },
     "execution_count": 24,
     "metadata": {},
     "output_type": "execute_result"
    }
   ],
   "source": [
    "pd.DataFrame(history.history).head(15)"
   ]
  },
  {
   "cell_type": "code",
   "execution_count": 25,
   "metadata": {
    "colab": {
     "base_uri": "https://localhost:8080/",
     "height": 541
    },
    "id": "ji1ZmKKWERSc",
    "outputId": "927a8367-f4b5-4a7b-965b-c1d535dc0afc"
   },
   "outputs": [
    {
     "data": {
      "image/png": "[encoded data removed]",
      "text/plain": [
       "<Figure size 432x288 with 1 Axes>"
      ]
     },
     "metadata": {
      "needs_background": "light"
     },
     "output_type": "display_data"
    },
    {
     "data": {
      "image/png": "[encoded data removed]",
      "text/plain": [
       "<Figure size 432x288 with 1 Axes>"
      ]
     },
     "metadata": {
      "needs_background": "light"
     },
     "output_type": "display_data"
    }
   ],
   "source": [
    "def plot_graphs(history, string):\n",
    "  plt.plot(history.history[string])\n",
    "  plt.plot(history.history['val_'+string])\n",
    "  plt.xlabel(\"Epochs\")\n",
    "  plt.ylabel(string)\n",
    "  plt.legend([string, 'val_'+string])\n",
    "  plt.show()\n",
    "\n",
    "plot_graphs(history, \"loss\")    \n",
    "plot_graphs(history, \"accuracy\")\n",
    "\n"
   ]
  },
  {
   "cell_type": "markdown",
   "metadata": {},
   "source": [
    "### Predictions and Reports"
   ]
  },
  {
   "cell_type": "code",
   "execution_count": 9,
   "metadata": {
    "colab": {
     "base_uri": "https://localhost:8080/",
     "height": 857
    },
    "id": "ZYNTtslJCQ2f",
    "outputId": "4e9ec735-fefc-4908-f90a-c42e6a3468c1"
   },
   "outputs": [
    {
     "name": "stdout",
     "output_type": "stream",
     "text": [
      "              precision    recall  f1-score   support\n",
      "\n",
      "           0       0.76      0.74      0.75      1000\n",
      "           1       0.82      0.86      0.84      1000\n",
      "           2       0.66      0.61      0.63      1000\n",
      "           3       0.54      0.53      0.54      1000\n",
      "           4       0.67      0.68      0.68      1000\n",
      "           5       0.64      0.61      0.63      1000\n",
      "           6       0.78      0.80      0.79      1000\n",
      "           7       0.76      0.81      0.78      1000\n",
      "           8       0.83      0.81      0.82      1000\n",
      "           9       0.79      0.81      0.80      1000\n",
      "\n",
      "    accuracy                           0.73     10000\n",
      "   macro avg       0.73      0.73      0.73     10000\n",
      "weighted avg       0.73      0.73      0.73     10000\n",
      "\n",
      "[[740  30  47  15  26   3  10  17  70  42]\n",
      " [ 12 859   6   7   4   8   5   5  17  77]\n",
      " [ 69   6 609  55  87  62  56  29  15  12]\n",
      " [ 14   8  74 533  68 168  68  41  11  15]\n",
      " [ 16   6  53  65 683  32  47  82   8   8]\n",
      " [  6   5  44 180  50 615  22  57  12   9]\n",
      " [  8   9  38  64  38  20 799  11   4   9]\n",
      " [ 13   2  25  40  49  40   3 812   3  13]\n",
      " [ 57  43  14  12  12   8   3   7 814  30]\n",
      " [ 33  74  10  21   2   5   6  10  26 813]]\n"
     ]
    },
    {
     "data": {
      "text/plain": [
       "<AxesSubplot:>"
      ]
     },
     "execution_count": 9,
     "metadata": {},
     "output_type": "execute_result"
    },
    {
     "data": {
      "image/png": "[encoded data removed]",
      "text/plain": [
       "<Figure size 720x432 with 2 Axes>"
      ]
     },
     "metadata": {
      "needs_background": "light"
     },
     "output_type": "display_data"
    }
   ],
   "source": [
    "from sklearn.metrics import classification_report,confusion_matrix\n",
    "y_prediction = np.argmax(model.predict(x_test), axis=-1)\n",
    "print(classification_report(y_test,y_prediction))\n",
    "print(confusion_matrix(y_test,y_prediction))\n",
    "\n",
    "import seaborn as sns\n",
    "plt.figure(figsize=(10,6))\n",
    "sns.heatmap(confusion_matrix(y_test,y_prediction),annot=True)"
   ]
  },
  {
   "cell_type": "markdown",
   "metadata": {},
   "source": [
    "#### Get the Y Labels"
   ]
  },
  {
   "cell_type": "code",
   "execution_count": 10,
   "metadata": {
    "id": "AgQqQHXNXDgw"
   },
   "outputs": [],
   "source": [
    "# label mapping\n",
    "labels = '''airplane\n",
    "automobile\n",
    "bird\n",
    "cat\n",
    "deer\n",
    "dog\n",
    "frog\n",
    "horse\n",
    "ship\n",
    "truck'''.split()"
   ]
  },
  {
   "cell_type": "markdown",
   "metadata": {},
   "source": [
    "### Misclassified Examples"
   ]
  },
  {
   "cell_type": "code",
   "execution_count": 39,
   "metadata": {
    "colab": {
     "base_uri": "https://localhost:8080/",
     "height": 281
    },
    "id": "jjmW4STFO-Ny",
    "outputId": "4a0f639d-dc6b-4955-b605-612ec1ea2c04"
   },
   "outputs": [
    {
     "data": {
      "image/png": "[encoded data removed]",
      "text/plain": [
       "<Figure size 432x288 with 1 Axes>"
      ]
     },
     "metadata": {
      "needs_background": "light"
     },
     "output_type": "display_data"
    }
   ],
   "source": [
    "# Show some misclassified examples\n",
    "misclassified_idx = np.where(y_prediction != y_test)[0]\n",
    "\n",
    "i = np.random.choice(misclassified_idx)\n",
    "plt.imshow(x_test[i], cmap='gray')\n",
    "plt.title(\"True label: %s Predicted: %s\" % (labels[y_test[i]], labels[y_prediction[i]]));"
   ]
  },
  {
   "cell_type": "markdown",
   "metadata": {},
   "source": [
    "#### Rate of correct prediction"
   ]
  },
  {
   "cell_type": "code",
   "execution_count": 38,
   "metadata": {},
   "outputs": [
    {
     "name": "stdout",
     "output_type": "stream",
     "text": [
      "Total sample size : 60000\n",
      "Total wrong match : 2723\n",
      "% of incorrect match : 4.538333333333333\n"
     ]
    }
   ],
   "source": [
    "n = x_train.shape[0] + x_test.shape[0]\n",
    "w = len(misclassified_idx)\n",
    "print(\"Total sample size : \" + str(n))\n",
    "print(\"Total wrong match : \" + str(w))\n",
    "print(\"% of incorrect match : \" + str(w/n*100) )"
   ]
  }
 ],
 "metadata": {
  "accelerator": "GPU",
  "colab": {
   "collapsed_sections": [],
   "name": "03_CIFAR_best.ipynb",
   "provenance": []
  },
  "kernelspec": {
   "display_name": "Python 3",
   "language": "python",
   "name": "python3"
  },
  "language_info": {
   "codemirror_mode": {
    "name": "ipython",
    "version": 3
   },
   "file_extension": ".py",
   "mimetype": "text/x-python",
   "name": "python",
   "nbconvert_exporter": "python",
   "pygments_lexer": "ipython3",
   "version": "3.8.5"
  }
 },
 "nbformat": 4,
 "nbformat_minor": 4
}
