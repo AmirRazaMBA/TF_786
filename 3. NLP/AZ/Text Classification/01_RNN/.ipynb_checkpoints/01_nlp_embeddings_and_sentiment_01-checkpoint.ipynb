{
 "cells": [
  {
   "cell_type": "code",
   "execution_count": 1,
   "metadata": {
    "id": "XIG52aKPdpux"
   },
   "outputs": [],
   "source": [
    "import tensorflow as tf\n",
    "\n",
    "from tensorflow.keras.preprocessing.text import Tokenizer\n",
    "from tensorflow.keras.preprocessing.sequence import pad_sequences"
   ]
  },
  {
   "cell_type": "code",
   "execution_count": 3,
   "metadata": {
    "colab": {
     "base_uri": "https://localhost:8080/"
    },
    "id": "NE4oRyuyASUw",
    "outputId": "3e074622-06f5-4a24-b117-87212f5e630a"
   },
   "outputs": [
    {
     "name": "stdout",
     "output_type": "stream",
     "text": [
      "C:\\Users\\Amir\\.keras\\datasets\\sentiment.csv\n"
     ]
    }
   ],
   "source": [
    "path = tf.keras.utils.get_file('sentiment.csv', \n",
    "                               'https://drive.google.com/uc?id=13ySLC_ue6Umt9RJYSeM2t-V0kCv-4C-P')\n",
    "print (path)"
   ]
  },
  {
   "cell_type": "code",
   "execution_count": 4,
   "metadata": {
    "id": "6Zvp9NScfMnw"
   },
   "outputs": [],
   "source": [
    "import numpy as np\n",
    "import pandas as pd\n",
    "\n",
    "dataset = pd.read_csv(path)\n",
    "\n",
    "sentences = dataset['text'].tolist()              # This is X\n",
    "labels = dataset['sentiment'].tolist()            # This is Y\n",
    "\n",
    "# Separate out the sentences and labels into training and test sets\n",
    "training_size = int(len(sentences) * 0.8)         # 80% for training\n",
    "\n",
    "training_sentences = sentences[0:training_size]\n",
    "testing_sentences = sentences[training_size:]     # 20% for testing\n",
    "training_labels = labels[0:training_size] \n",
    "testing_labels = labels[training_size:]\n",
    "\n",
    "# Make labels into numpy arrays for use with the network later\n",
    "training_labels_final = np.array(training_labels)  # pandas ds to numpy array\n",
    "testing_labels_final = np.array(testing_labels)"
   ]
  },
  {
   "cell_type": "code",
   "execution_count": 5,
   "metadata": {
    "id": "78icewYRgfxh"
   },
   "outputs": [],
   "source": [
    "# Tokenize the dataset, including padding and OOV\n",
    "\n",
    "vocab_size = 1000                 # max size for tokenizing words (used as N)\n",
    "embedding_dim = 16                # not sure why dim are 16 here\n",
    "max_length = 100                  # length of the sentence  (used as T)\n",
    "trunc_type='post'                 # truncate the sentence at the end\n",
    "padding_type='post'               # padd with 0s are the end not the beginning of the sentence\n",
    "oov_tok = \"<OOV>\"                 # out of vocabulary tag\n",
    "\n",
    "\n",
    "from tensorflow.keras.preprocessing.text import Tokenizer\n",
    "from tensorflow.keras.preprocessing.sequence import pad_sequences\n",
    "\n",
    "tokenizer = Tokenizer(num_words = vocab_size, oov_token=oov_tok)\n",
    "tokenizer.fit_on_texts(training_sentences)                   \n",
    "word_index = tokenizer.word_index                                # token index as list\n",
    "training_sequences = tokenizer.texts_to_sequences(training_sentences)     # words to number here\n",
    "training_padded = pad_sequences(training_sequences,maxlen=max_length, padding=padding_type, \n",
    "                       truncating=trunc_type)\n",
    "\n",
    "testing_sequences = tokenizer.texts_to_sequences(testing_sentences)  # word to number for testing sentence note those are not used for tokenization\n",
    "testing_padded = pad_sequences(testing_sequences,maxlen=max_length, \n",
    "                               padding=padding_type, truncating=trunc_type)"
   ]
  },
  {
   "cell_type": "code",
   "execution_count": 6,
   "metadata": {
    "colab": {
     "base_uri": "https://localhost:8080/"
    },
    "id": "JTU3FmVGk100",
    "outputId": "c76a390a-bc33-4c12-d726-66aff9104891"
   },
   "outputs": [
    {
     "name": "stdout",
     "output_type": "stream",
     "text": [
      "good case excellent value ? ? ? ? ? ? ? ? ? ? ? ? ? ? ? ? ? ? ? ? ? ? ? ? ? ? ? ? ? ? ? ? ? ? ? ? ? ? ? ? ? ? ? ? ? ? ? ? ? ? ? ? ? ? ? ? ? ? ? ? ? ? ? ? ? ? ? ? ? ? ? ? ? ? ? ? ? ? ? ? ? ? ? ? ? ? ? ? ? ? ? ? ? ? ? ?\n",
      "Good case Excellent value.\n"
     ]
    }
   ],
   "source": [
    "reverse_word_index = dict([(value, key) for (key, value) in word_index.items()])\n",
    "\n",
    "def decode_review(text):\n",
    "    return ' '.join([reverse_word_index.get(i, '?') for i in text])\n",
    "\n",
    "print(decode_review(training_padded[1]))\n",
    "print(training_sentences[1])"
   ]
  },
  {
   "cell_type": "code",
   "execution_count": 7,
   "metadata": {
    "colab": {
     "base_uri": "https://localhost:8080/"
    },
    "id": "bBMgzp-_lMTp",
    "outputId": "a035d75d-cf65-4ced-85a7-65511b800cbf",
    "scrolled": true
   },
   "outputs": [
    {
     "name": "stdout",
     "output_type": "stream",
     "text": [
      "Model: \"sequential\"\n",
      "_________________________________________________________________\n",
      "Layer (type)                 Output Shape              Param #   \n",
      "=================================================================\n",
      "embedding (Embedding)        (None, 100, 16)           16000     \n",
      "_________________________________________________________________\n",
      "flatten (Flatten)            (None, 1600)              0         \n",
      "_________________________________________________________________\n",
      "dense (Dense)                (None, 6)                 9606      \n",
      "_________________________________________________________________\n",
      "dense_1 (Dense)              (None, 1)                 7         \n",
      "=================================================================\n",
      "Total params: 25,613\n",
      "Trainable params: 25,613\n",
      "Non-trainable params: 0\n",
      "_________________________________________________________________\n"
     ]
    }
   ],
   "source": [
    "# Build a basic sentiment network\n",
    "# Note the embedding layer is first, \n",
    "# and the output is only 1 node as it is either 0 or 1 (negative or positive)\n",
    "model = tf.keras.Sequential([\n",
    "                             \n",
    "    tf.keras.layers.Embedding(vocab_size, embedding_dim, input_length=max_length),   # vocab_size = 1000, embedding_dim = 16 \n",
    "    \n",
    "    tf.keras.layers.Flatten(),    # or GlobalAveragePooling1D sometimes creates better results\n",
    "\n",
    "    tf.keras.layers.Dense(6, activation='relu'),\n",
    "\n",
    "    tf.keras.layers.Dense(1, activation='sigmoid')\n",
    "])\n",
    "\n",
    "model.compile(loss='binary_crossentropy',optimizer='adam',metrics=['accuracy'])\n",
    "\n",
    "model.summary()"
   ]
  },
  {
   "cell_type": "code",
   "execution_count": 8,
   "metadata": {
    "colab": {
     "base_uri": "https://localhost:8080/"
    },
    "id": "Pfl1W-zVldpn",
    "outputId": "9181e445-1dd7-4563-a665-2fb9a48aa68b"
   },
   "outputs": [
    {
     "name": "stdout",
     "output_type": "stream",
     "text": [
      "Epoch 1/10\n",
      "50/50 [==============================] - 1s 10ms/step - loss: 0.6920 - accuracy: 0.5223 - val_loss: 0.6989 - val_accuracy: 0.4110\n",
      "Epoch 2/10\n",
      "50/50 [==============================] - 0s 4ms/step - loss: 0.6849 - accuracy: 0.5330 - val_loss: 0.6954 - val_accuracy: 0.4336\n",
      "Epoch 3/10\n",
      "50/50 [==============================] - 0s 4ms/step - loss: 0.6688 - accuracy: 0.6051 - val_loss: 0.6867 - val_accuracy: 0.4612\n",
      "Epoch 4/10\n",
      "50/50 [==============================] - 0s 4ms/step - loss: 0.6317 - accuracy: 0.6805 - val_loss: 0.6567 - val_accuracy: 0.6065\n",
      "Epoch 5/10\n",
      "50/50 [==============================] - 0s 5ms/step - loss: 0.5445 - accuracy: 0.8562 - val_loss: 0.5891 - val_accuracy: 0.7393\n",
      "Epoch 6/10\n",
      "50/50 [==============================] - 0s 4ms/step - loss: 0.4327 - accuracy: 0.8933 - val_loss: 0.5347 - val_accuracy: 0.7594\n",
      "Epoch 7/10\n",
      "50/50 [==============================] - 0s 4ms/step - loss: 0.3367 - accuracy: 0.9209 - val_loss: 0.4952 - val_accuracy: 0.7719\n",
      "Epoch 8/10\n",
      "50/50 [==============================] - 0s 5ms/step - loss: 0.2667 - accuracy: 0.9391 - val_loss: 0.4760 - val_accuracy: 0.7694\n",
      "Epoch 9/10\n",
      "50/50 [==============================] - 0s 5ms/step - loss: 0.2153 - accuracy: 0.9592 - val_loss: 0.4737 - val_accuracy: 0.7619\n",
      "Epoch 10/10\n",
      "50/50 [==============================] - 0s 4ms/step - loss: 0.1754 - accuracy: 0.9655 - val_loss: 0.4734 - val_accuracy: 0.7719\n"
     ]
    },
    {
     "data": {
      "text/plain": [
       "<tensorflow.python.keras.callbacks.History at 0x157fd5f7760>"
      ]
     },
     "execution_count": 8,
     "metadata": {},
     "output_type": "execute_result"
    }
   ],
   "source": [
    "num_epochs = 10\n",
    "\n",
    "model.fit(training_padded, \n",
    "          training_labels_final, \n",
    "          epochs=num_epochs, \n",
    "          validation_data=(testing_padded, testing_labels_final))"
   ]
  },
  {
   "cell_type": "code",
   "execution_count": 9,
   "metadata": {
    "colab": {
     "base_uri": "https://localhost:8080/"
    },
    "id": "YM8yexGcASUx",
    "outputId": "2ba4bb2c-87ab-4050-868d-27d363419004"
   },
   "outputs": [
    {
     "data": {
      "text/plain": [
       "dict_keys(['loss', 'accuracy', 'val_loss', 'val_accuracy'])"
      ]
     },
     "execution_count": 9,
     "metadata": {},
     "output_type": "execute_result"
    }
   ],
   "source": [
    "model.history.history.keys()"
   ]
  },
  {
   "cell_type": "code",
   "execution_count": 10,
   "metadata": {
    "id": "YTCXiJNaASUx"
   },
   "outputs": [],
   "source": [
    "losses = pd.DataFrame(model.history.history)"
   ]
  },
  {
   "cell_type": "code",
   "execution_count": 11,
   "metadata": {
    "colab": {
     "base_uri": "https://localhost:8080/",
     "height": 282
    },
    "id": "O1XKRUtpASUx",
    "outputId": "3029b18e-ac04-44ea-fd41-f3613b4e7348"
   },
   "outputs": [
    {
     "data": {
      "text/plain": [
       "<AxesSubplot:>"
      ]
     },
     "execution_count": 11,
     "metadata": {},
     "output_type": "execute_result"
    },
    {
     "data": {
      "image/png": "[encoded data removed]",
      "text/plain": [
       "<Figure size 432x288 with 1 Axes>"
      ]
     },
     "metadata": {
      "needs_background": "light"
     },
     "output_type": "display_data"
    }
   ],
   "source": [
    "losses[['accuracy','val_accuracy']].plot()"
   ]
  },
  {
   "cell_type": "code",
   "execution_count": 12,
   "metadata": {
    "colab": {
     "base_uri": "https://localhost:8080/",
     "height": 282
    },
    "id": "zrtGPiURASUx",
    "outputId": "043631c9-d90b-4ce0-fe78-9ea5f6b93e34"
   },
   "outputs": [
    {
     "data": {
      "text/plain": [
       "<AxesSubplot:>"
      ]
     },
     "execution_count": 12,
     "metadata": {},
     "output_type": "execute_result"
    },
    {
     "data": {
      "image/png": "[encoded data removed]",
      "text/plain": [
       "<Figure size 432x288 with 1 Axes>"
      ]
     },
     "metadata": {
      "needs_background": "light"
     },
     "output_type": "display_data"
    }
   ],
   "source": [
    "losses[['loss','val_loss']].plot()"
   ]
  },
  {
   "cell_type": "code",
   "execution_count": 13,
   "metadata": {
    "colab": {
     "base_uri": "https://localhost:8080/"
    },
    "id": "S2lB46FirAVx",
    "outputId": "f5c777a2-bccc-4356-ffbf-3b6d828a6799"
   },
   "outputs": [
    {
     "name": "stdout",
     "output_type": "stream",
     "text": [
      "(1000, 16)\n"
     ]
    }
   ],
   "source": [
    "# Head to http://projector.tensorflow.org/ and load these files, then click the \"Sphereize\" checkbox.\n",
    "#  \n",
    "# First get the weights of the embedding layer\n",
    "e = model.layers[0]\n",
    "weights = e.get_weights()[0]\n",
    "print(weights.shape) # shape: (vocab_size, embedding_dim)"
   ]
  },
  {
   "cell_type": "code",
   "execution_count": 14,
   "metadata": {
    "id": "Xcha0oGemHX2"
   },
   "outputs": [],
   "source": [
    "import io\n",
    "\n",
    "# Write out the embedding vectors and metadata\n",
    "out_v = io.open('vecs.tsv', 'w', encoding='utf-8')\n",
    "out_m = io.open('meta.tsv', 'w', encoding='utf-8')\n",
    "for word_num in range(1, vocab_size):\n",
    "  word = reverse_word_index[word_num]\n",
    "  embeddings = weights[word_num]\n",
    "  out_m.write(word + \"\\n\")\n",
    "  out_v.write('\\t'.join([str(x) for x in embeddings]) + \"\\n\")\n",
    "out_v.close()\n",
    "out_m.close()"
   ]
  },
  {
   "cell_type": "code",
   "execution_count": 15,
   "metadata": {
    "colab": {
     "base_uri": "https://localhost:8080/",
     "height": 17
    },
    "id": "g-Q6ALywmWVz",
    "outputId": "dd64b79c-5fe1-4195-9c9a-58e9f0f8cd63"
   },
   "outputs": [],
   "source": [
    "# Download the files\n",
    "try:\n",
    "  from google.colab import files\n",
    "except ImportError:\n",
    "  pass\n",
    "else:\n",
    "  files.download('vecs.tsv')\n",
    "  files.download('meta.tsv')"
   ]
  },
  {
   "cell_type": "code",
   "execution_count": 14,
   "metadata": {
    "colab": {
     "base_uri": "https://localhost:8080/"
    },
    "id": "QXtfw-OY3WoZ",
    "outputId": "8f1682e3-f0bf-484d-8d29-f16d1eeda9e6"
   },
   "outputs": [
    {
     "name": "stdout",
     "output_type": "stream",
     "text": [
      "['I love this phone', 'I hate spaghetti', 'Everything was cold', 'Everything was hot exactly as I wanted', 'Everything was green', 'the host seated us immediately', 'they gave us free chocolate cake', 'not sure about the wilted flowers on the table', 'only works when I stand on tippy toes', 'bats are all wearing underwears with tie', 'bat was runnig the show', 'does not work when I stand on my head']\n",
      "\n",
      "HOT OFF THE PRESS! HERE ARE SOME NEWLY MINTED, ABSOLUTELY GENUINE REVIEWS!\n",
      "\n",
      "I love this phone\n",
      "[0.9694748]\n",
      "\n",
      "\n",
      "I hate spaghetti\n",
      "[0.15063608]\n",
      "\n",
      "\n",
      "Everything was cold\n",
      "[0.45065737]\n",
      "\n",
      "\n",
      "Everything was hot exactly as I wanted\n",
      "[0.6555028]\n",
      "\n",
      "\n",
      "Everything was green\n",
      "[0.594327]\n",
      "\n",
      "\n",
      "the host seated us immediately\n",
      "[0.8150492]\n",
      "\n",
      "\n",
      "they gave us free chocolate cake\n",
      "[0.8797046]\n",
      "\n",
      "\n",
      "not sure about the wilted flowers on the table\n",
      "[0.04271185]\n",
      "\n",
      "\n",
      "only works when I stand on tippy toes\n",
      "[0.9251789]\n",
      "\n",
      "\n",
      "bats are all wearing underwears with tie\n",
      "[0.83955896]\n",
      "\n",
      "\n",
      "bat was runnig the show\n",
      "[0.31863227]\n",
      "\n",
      "\n",
      "does not work when I stand on my head\n",
      "[0.02039498]\n",
      "\n",
      "\n"
     ]
    }
   ],
   "source": [
    "# Predicting Sentiment in New Reviews Use the model to predict a review   \n",
    "fake_reviews = ['I love this phone', 'I hate spaghetti', \n",
    "                'Everything was cold',\n",
    "                'Everything was hot exactly as I wanted', \n",
    "                'Everything was green', \n",
    "                'the host seated us immediately',\n",
    "                'they gave us free chocolate cake', \n",
    "                'not sure about the wilted flowers on the table',\n",
    "                'only works when I stand on tippy toes',\n",
    "                'bats are all wearing underwears with tie',\n",
    "                'bat was runnig the show',\n",
    "                'does not work when I stand on my head']\n",
    "\n",
    "print(fake_reviews) \n",
    "\n",
    "# Create the sequences\n",
    "padding_type='post'\n",
    "sample_sequences = tokenizer.texts_to_sequences(fake_reviews)\n",
    "fakes_padded = pad_sequences(sample_sequences, padding=padding_type, maxlen=max_length)           \n",
    "\n",
    "print('\\nHOT OFF THE PRESS! HERE ARE SOME NEWLY MINTED, ABSOLUTELY GENUINE REVIEWS!\\n')              \n",
    "\n",
    "classes = model.predict(fakes_padded)\n",
    "\n",
    "# The closer the class is to 1, the more positive the review is deemed to be\n",
    "for x in range(len(fake_reviews)):\n",
    "  print(fake_reviews[x])\n",
    "  print(classes[x])\n",
    "  print('\\n')\n",
    "\n",
    "# Try adding reviews of your own\n",
    "# Add some negative words (such as \"not\") to the good reviews and see what happens\n",
    "# For example:\n",
    "# they gave us free chocolate cake and did not charge us"
   ]
  }
 ],
 "metadata": {
  "accelerator": "GPU",
  "colab": {
   "collapsed_sections": [],
   "name": "l09c04_nlp_embeddings_and_sentiment.ipynb",
   "provenance": [],
   "toc_visible": true
  },
  "kernelspec": {
   "display_name": "Python 3",
   "language": "python",
   "name": "python3"
  },
  "language_info": {
   "codemirror_mode": {
    "name": "ipython",
    "version": 3
   },
   "file_extension": ".py",
   "mimetype": "text/x-python",
   "name": "python",
   "nbconvert_exporter": "python",
   "pygments_lexer": "ipython3",
   "version": "3.8.5"
  }
 },
 "nbformat": 4,
 "nbformat_minor": 4
}
