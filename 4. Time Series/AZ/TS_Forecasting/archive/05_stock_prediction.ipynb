{
 "cells": [
  {
   "cell_type": "markdown",
   "metadata": {
    "id": "IC-mh5vfEwuu"
   },
   "source": [
    "### Stock Market Prediction And Forecasting Using Stacked LSTM"
   ]
  },
  {
   "cell_type": "code",
   "execution_count": 1,
   "metadata": {
    "id": "LlebCpebEwu2"
   },
   "outputs": [],
   "source": [
    "import math\n",
    "import numpy as np\n",
    "import pandas as pd\n",
    "import matplotlib.pyplot as plt\n",
    "import pandas_datareader as pdr\n",
    "import tensorflow as tf\n",
    "\n",
    "from sklearn.metrics import mean_squared_error\n",
    "from tensorflow.keras.preprocessing.sequence import TimeseriesGenerator\n",
    "from tensorflow.keras.models import Sequential\n",
    "from tensorflow.keras.layers import Dense\n",
    "from tensorflow.keras.layers import LSTM"
   ]
  },
  {
   "cell_type": "code",
   "execution_count": 2,
   "metadata": {
    "id": "KnRj0GIMEwu3"
   },
   "outputs": [],
   "source": [
    "KEY = \"e46970bde5460c8e6caece2452083771f7320e41\""
   ]
  },
  {
   "cell_type": "code",
   "execution_count": 3,
   "metadata": {
    "colab": {
     "base_uri": "https://localhost:8080/",
     "height": 305
    },
    "id": "NXIrZNWmEwu4",
    "outputId": "49330f6a-9ac2-4419-8477-280c44f4f0f8"
   },
   "outputs": [
    {
     "data": {
      "text/html": [
       "<div>\n",
       "<style scoped>\n",
       "    .dataframe tbody tr th:only-of-type {\n",
       "        vertical-align: middle;\n",
       "    }\n",
       "\n",
       "    .dataframe tbody tr th {\n",
       "        vertical-align: top;\n",
       "    }\n",
       "\n",
       "    .dataframe thead th {\n",
       "        text-align: right;\n",
       "    }\n",
       "</style>\n",
       "<table border=\"1\" class=\"dataframe\">\n",
       "  <thead>\n",
       "    <tr style=\"text-align: right;\">\n",
       "      <th></th>\n",
       "      <th>symbol</th>\n",
       "      <th>date</th>\n",
       "      <th>close</th>\n",
       "      <th>high</th>\n",
       "      <th>low</th>\n",
       "      <th>open</th>\n",
       "      <th>volume</th>\n",
       "      <th>adjClose</th>\n",
       "      <th>adjHigh</th>\n",
       "      <th>adjLow</th>\n",
       "      <th>adjOpen</th>\n",
       "      <th>adjVolume</th>\n",
       "      <th>divCash</th>\n",
       "      <th>splitFactor</th>\n",
       "    </tr>\n",
       "  </thead>\n",
       "  <tbody>\n",
       "    <tr>\n",
       "      <th>0</th>\n",
       "      <td>AAPL</td>\n",
       "      <td>2016-01-04 00:00:00+00:00</td>\n",
       "      <td>105.35</td>\n",
       "      <td>105.368</td>\n",
       "      <td>102.00</td>\n",
       "      <td>102.61</td>\n",
       "      <td>67649387</td>\n",
       "      <td>24.397857</td>\n",
       "      <td>24.402026</td>\n",
       "      <td>23.622035</td>\n",
       "      <td>23.763304</td>\n",
       "      <td>270597548</td>\n",
       "      <td>0.0</td>\n",
       "      <td>1.0</td>\n",
       "    </tr>\n",
       "    <tr>\n",
       "      <th>1</th>\n",
       "      <td>AAPL</td>\n",
       "      <td>2016-01-05 00:00:00+00:00</td>\n",
       "      <td>102.71</td>\n",
       "      <td>105.850</td>\n",
       "      <td>102.41</td>\n",
       "      <td>105.75</td>\n",
       "      <td>55790992</td>\n",
       "      <td>23.786463</td>\n",
       "      <td>24.513651</td>\n",
       "      <td>23.716987</td>\n",
       "      <td>24.490493</td>\n",
       "      <td>223163968</td>\n",
       "      <td>0.0</td>\n",
       "      <td>1.0</td>\n",
       "    </tr>\n",
       "    <tr>\n",
       "      <th>2</th>\n",
       "      <td>AAPL</td>\n",
       "      <td>2016-01-06 00:00:00+00:00</td>\n",
       "      <td>100.70</td>\n",
       "      <td>102.370</td>\n",
       "      <td>99.87</td>\n",
       "      <td>100.56</td>\n",
       "      <td>68457388</td>\n",
       "      <td>23.320970</td>\n",
       "      <td>23.707723</td>\n",
       "      <td>23.128752</td>\n",
       "      <td>23.288548</td>\n",
       "      <td>273829552</td>\n",
       "      <td>0.0</td>\n",
       "      <td>1.0</td>\n",
       "    </tr>\n",
       "    <tr>\n",
       "      <th>3</th>\n",
       "      <td>AAPL</td>\n",
       "      <td>2016-01-07 00:00:00+00:00</td>\n",
       "      <td>96.45</td>\n",
       "      <td>100.130</td>\n",
       "      <td>96.43</td>\n",
       "      <td>98.68</td>\n",
       "      <td>81094428</td>\n",
       "      <td>22.336719</td>\n",
       "      <td>23.188965</td>\n",
       "      <td>22.332087</td>\n",
       "      <td>22.853161</td>\n",
       "      <td>324377712</td>\n",
       "      <td>0.0</td>\n",
       "      <td>1.0</td>\n",
       "    </tr>\n",
       "    <tr>\n",
       "      <th>4</th>\n",
       "      <td>AAPL</td>\n",
       "      <td>2016-01-08 00:00:00+00:00</td>\n",
       "      <td>96.96</td>\n",
       "      <td>99.110</td>\n",
       "      <td>96.76</td>\n",
       "      <td>98.55</td>\n",
       "      <td>70798016</td>\n",
       "      <td>22.454829</td>\n",
       "      <td>22.952744</td>\n",
       "      <td>22.408511</td>\n",
       "      <td>22.823055</td>\n",
       "      <td>283192064</td>\n",
       "      <td>0.0</td>\n",
       "      <td>1.0</td>\n",
       "    </tr>\n",
       "  </tbody>\n",
       "</table>\n",
       "</div>"
      ],
      "text/plain": [
       "  symbol                       date   close     high     low    open  \\\n",
       "0   AAPL  2016-01-04 00:00:00+00:00  105.35  105.368  102.00  102.61   \n",
       "1   AAPL  2016-01-05 00:00:00+00:00  102.71  105.850  102.41  105.75   \n",
       "2   AAPL  2016-01-06 00:00:00+00:00  100.70  102.370   99.87  100.56   \n",
       "3   AAPL  2016-01-07 00:00:00+00:00   96.45  100.130   96.43   98.68   \n",
       "4   AAPL  2016-01-08 00:00:00+00:00   96.96   99.110   96.76   98.55   \n",
       "\n",
       "     volume   adjClose    adjHigh     adjLow    adjOpen  adjVolume  divCash  \\\n",
       "0  67649387  24.397857  24.402026  23.622035  23.763304  270597548      0.0   \n",
       "1  55790992  23.786463  24.513651  23.716987  24.490493  223163968      0.0   \n",
       "2  68457388  23.320970  23.707723  23.128752  23.288548  273829552      0.0   \n",
       "3  81094428  22.336719  23.188965  22.332087  22.853161  324377712      0.0   \n",
       "4  70798016  22.454829  22.952744  22.408511  22.823055  283192064      0.0   \n",
       "\n",
       "   splitFactor  \n",
       "0          1.0  \n",
       "1          1.0  \n",
       "2          1.0  \n",
       "3          1.0  \n",
       "4          1.0  "
      ]
     },
     "execution_count": 3,
     "metadata": {},
     "output_type": "execute_result"
    }
   ],
   "source": [
    "filename = 'D:\\\\Sandbox\\\\Github\\\\Data\\\\AAPL.csv'\n",
    "df = pdr.get_data_tiingo('AAPL', api_key = KEY)\n",
    "df.to_csv(filename)\n",
    "df=pd.read_csv(filename)\n",
    "df.head()"
   ]
  },
  {
   "cell_type": "code",
   "execution_count": 4,
   "metadata": {
    "colab": {
     "base_uri": "https://localhost:8080/",
     "height": 305
    },
    "id": "PgPnjBXBEwu6",
    "outputId": "962c52cf-8f2a-48d5-bab8-42485b460d26"
   },
   "outputs": [
    {
     "data": {
      "text/html": [
       "<div>\n",
       "<style scoped>\n",
       "    .dataframe tbody tr th:only-of-type {\n",
       "        vertical-align: middle;\n",
       "    }\n",
       "\n",
       "    .dataframe tbody tr th {\n",
       "        vertical-align: top;\n",
       "    }\n",
       "\n",
       "    .dataframe thead th {\n",
       "        text-align: right;\n",
       "    }\n",
       "</style>\n",
       "<table border=\"1\" class=\"dataframe\">\n",
       "  <thead>\n",
       "    <tr style=\"text-align: right;\">\n",
       "      <th></th>\n",
       "      <th>symbol</th>\n",
       "      <th>date</th>\n",
       "      <th>close</th>\n",
       "      <th>high</th>\n",
       "      <th>low</th>\n",
       "      <th>open</th>\n",
       "      <th>volume</th>\n",
       "      <th>adjClose</th>\n",
       "      <th>adjHigh</th>\n",
       "      <th>adjLow</th>\n",
       "      <th>adjOpen</th>\n",
       "      <th>adjVolume</th>\n",
       "      <th>divCash</th>\n",
       "      <th>splitFactor</th>\n",
       "    </tr>\n",
       "  </thead>\n",
       "  <tbody>\n",
       "    <tr>\n",
       "      <th>1253</th>\n",
       "      <td>AAPL</td>\n",
       "      <td>2020-12-23 00:00:00+00:00</td>\n",
       "      <td>130.96</td>\n",
       "      <td>132.430</td>\n",
       "      <td>130.7800</td>\n",
       "      <td>132.16</td>\n",
       "      <td>88223692</td>\n",
       "      <td>130.96</td>\n",
       "      <td>132.430</td>\n",
       "      <td>130.7800</td>\n",
       "      <td>132.16</td>\n",
       "      <td>88223692</td>\n",
       "      <td>0.0</td>\n",
       "      <td>1.0</td>\n",
       "    </tr>\n",
       "    <tr>\n",
       "      <th>1254</th>\n",
       "      <td>AAPL</td>\n",
       "      <td>2020-12-24 00:00:00+00:00</td>\n",
       "      <td>131.97</td>\n",
       "      <td>133.460</td>\n",
       "      <td>131.1000</td>\n",
       "      <td>131.32</td>\n",
       "      <td>54930064</td>\n",
       "      <td>131.97</td>\n",
       "      <td>133.460</td>\n",
       "      <td>131.1000</td>\n",
       "      <td>131.32</td>\n",
       "      <td>54930064</td>\n",
       "      <td>0.0</td>\n",
       "      <td>1.0</td>\n",
       "    </tr>\n",
       "    <tr>\n",
       "      <th>1255</th>\n",
       "      <td>AAPL</td>\n",
       "      <td>2020-12-28 00:00:00+00:00</td>\n",
       "      <td>136.69</td>\n",
       "      <td>137.340</td>\n",
       "      <td>133.5100</td>\n",
       "      <td>133.99</td>\n",
       "      <td>123124632</td>\n",
       "      <td>136.69</td>\n",
       "      <td>137.340</td>\n",
       "      <td>133.5100</td>\n",
       "      <td>133.99</td>\n",
       "      <td>123124632</td>\n",
       "      <td>0.0</td>\n",
       "      <td>1.0</td>\n",
       "    </tr>\n",
       "    <tr>\n",
       "      <th>1256</th>\n",
       "      <td>AAPL</td>\n",
       "      <td>2020-12-29 00:00:00+00:00</td>\n",
       "      <td>134.87</td>\n",
       "      <td>138.789</td>\n",
       "      <td>134.3409</td>\n",
       "      <td>138.05</td>\n",
       "      <td>121047324</td>\n",
       "      <td>134.87</td>\n",
       "      <td>138.789</td>\n",
       "      <td>134.3409</td>\n",
       "      <td>138.05</td>\n",
       "      <td>121047324</td>\n",
       "      <td>0.0</td>\n",
       "      <td>1.0</td>\n",
       "    </tr>\n",
       "    <tr>\n",
       "      <th>1257</th>\n",
       "      <td>AAPL</td>\n",
       "      <td>2020-12-30 00:00:00+00:00</td>\n",
       "      <td>133.72</td>\n",
       "      <td>135.990</td>\n",
       "      <td>133.4000</td>\n",
       "      <td>135.58</td>\n",
       "      <td>96452124</td>\n",
       "      <td>133.72</td>\n",
       "      <td>135.990</td>\n",
       "      <td>133.4000</td>\n",
       "      <td>135.58</td>\n",
       "      <td>96452124</td>\n",
       "      <td>0.0</td>\n",
       "      <td>1.0</td>\n",
       "    </tr>\n",
       "  </tbody>\n",
       "</table>\n",
       "</div>"
      ],
      "text/plain": [
       "     symbol                       date   close  ...  adjVolume  divCash  splitFactor\n",
       "1253   AAPL  2020-12-23 00:00:00+00:00  130.96  ...   88223692      0.0          1.0\n",
       "1254   AAPL  2020-12-24 00:00:00+00:00  131.97  ...   54930064      0.0          1.0\n",
       "1255   AAPL  2020-12-28 00:00:00+00:00  136.69  ...  123124632      0.0          1.0\n",
       "1256   AAPL  2020-12-29 00:00:00+00:00  134.87  ...  121047324      0.0          1.0\n",
       "1257   AAPL  2020-12-30 00:00:00+00:00  133.72  ...   96452124      0.0          1.0\n",
       "\n",
       "[5 rows x 14 columns]"
      ]
     },
     "execution_count": 4,
     "metadata": {
      "tags": []
     },
     "output_type": "execute_result"
    }
   ],
   "source": [
    "df.tail()"
   ]
  },
  {
   "cell_type": "code",
   "execution_count": 5,
   "metadata": {
    "id": "dQB4m5wSEwu6"
   },
   "outputs": [],
   "source": [
    "df1 = df.reset_index()['close']"
   ]
  },
  {
   "cell_type": "code",
   "execution_count": 6,
   "metadata": {
    "colab": {
     "base_uri": "https://localhost:8080/"
    },
    "id": "8rrkAHUyEwu7",
    "outputId": "fc357b23-e72b-4fc7-c5af-718b97f7e342"
   },
   "outputs": [
    {
     "data": {
      "text/plain": [
       "0       105.35\n",
       "1       102.71\n",
       "2       100.70\n",
       "3        96.45\n",
       "4        96.96\n",
       "         ...  \n",
       "1253    130.96\n",
       "1254    131.97\n",
       "1255    136.69\n",
       "1256    134.87\n",
       "1257    133.72\n",
       "Name: close, Length: 1258, dtype: float64"
      ]
     },
     "execution_count": 6,
     "metadata": {
      "tags": []
     },
     "output_type": "execute_result"
    }
   ],
   "source": [
    "df1"
   ]
  },
  {
   "cell_type": "code",
   "execution_count": 7,
   "metadata": {
    "colab": {
     "base_uri": "https://localhost:8080/",
     "height": 282
    },
    "id": "ay_dQMawEwu7",
    "outputId": "3207a684-bf4c-460c-e447-0afd28715d7a"
   },
   "outputs": [
    {
     "data": {
      "text/plain": [
       "[<matplotlib.lines.Line2D at 0x7f3e7b967240>]"
      ]
     },
     "execution_count": 7,
     "metadata": {
      "tags": []
     },
     "output_type": "execute_result"
    },
    {
     "data": {
      "image/png": "[encoded data removed]",
      "text/plain": [
       "<Figure size 432x288 with 1 Axes>"
      ]
     },
     "metadata": {
      "needs_background": "light",
      "tags": []
     },
     "output_type": "display_data"
    }
   ],
   "source": [
    "plt.plot(df1)"
   ]
  },
  {
   "cell_type": "code",
   "execution_count": 8,
   "metadata": {
    "id": "uRprqDgNEwu7"
   },
   "outputs": [],
   "source": [
    "from sklearn.preprocessing import MinMaxScaler\n",
    "scaler = MinMaxScaler(feature_range = (0,1))\n",
    "df1 = scaler.fit_transform(np.array(df1).reshape(-1,1))"
   ]
  },
  {
   "cell_type": "code",
   "execution_count": 9,
   "metadata": {
    "id": "9LHMMt5xEwu8"
   },
   "outputs": [],
   "source": [
    "training_size = int(len(df1)*0.65)\n",
    "test_size = len(df1)-training_size"
   ]
  },
  {
   "cell_type": "code",
   "execution_count": 10,
   "metadata": {
    "id": "whUjsW-MEwu8"
   },
   "outputs": [],
   "source": [
    "train_data = df1[0:training_size,:] \n",
    "test_data = df1[training_size:len(df1),:1]"
   ]
  },
  {
   "cell_type": "code",
   "execution_count": 11,
   "metadata": {
    "colab": {
     "base_uri": "https://localhost:8080/"
    },
    "id": "k2Lu0wBHEwu8",
    "outputId": "31e50d50-2e15-4212-802f-fd0d93aea4e7"
   },
   "outputs": [
    {
     "data": {
      "text/plain": [
       "(817, 441)"
      ]
     },
     "execution_count": 11,
     "metadata": {
      "tags": []
     },
     "output_type": "execute_result"
    }
   ],
   "source": [
    "training_size, test_size"
   ]
  },
  {
   "cell_type": "code",
   "execution_count": 12,
   "metadata": {
    "id": "t4YQSop2Ewu9"
   },
   "outputs": [],
   "source": [
    "time_step = 100"
   ]
  },
  {
   "cell_type": "code",
   "execution_count": 16,
   "metadata": {
    "colab": {
     "base_uri": "https://localhost:8080/"
    },
    "id": "R5mIVCzfEwu9",
    "outputId": "1d60545d-97b8-4a2e-bfb0-3d3ae3670b9b"
   },
   "outputs": [
    {
     "name": "stdout",
     "output_type": "stream",
     "text": [
      "717\n",
      "341\n"
     ]
    }
   ],
   "source": [
    "generator = TimeseriesGenerator(train_data, \n",
    "                                train_data,\n",
    "                                length = time_step, \n",
    "                                sampling_rate = 1, \n",
    "                                batch_size = 1)\n",
    "\n",
    "validation_generator = TimeseriesGenerator(test_data, \n",
    "                                           test_data, \n",
    "                                           length = time_step, \n",
    "                                           batch_size = 1)\n",
    "print(len(generator))\n",
    "print(len(validation_generator))"
   ]
  },
  {
   "cell_type": "code",
   "execution_count": 17,
   "metadata": {
    "colab": {
     "base_uri": "https://localhost:8080/"
    },
    "id": "a-B_cijSEwu9",
    "outputId": "32c81471-2cab-4ab7-f8a8-8bad74411adf"
   },
   "outputs": [
    {
     "name": "stdout",
     "output_type": "stream",
     "text": [
      "Model: \"sequential_1\"\n",
      "_________________________________________________________________\n",
      "Layer (type)                 Output Shape              Param #   \n",
      "=================================================================\n",
      "lstm_3 (LSTM)                (None, 100, 50)           10400     \n",
      "_________________________________________________________________\n",
      "lstm_4 (LSTM)                (None, 100, 50)           20200     \n",
      "_________________________________________________________________\n",
      "lstm_5 (LSTM)                (None, 50)                20200     \n",
      "_________________________________________________________________\n",
      "dense_1 (Dense)              (None, 1)                 51        \n",
      "=================================================================\n",
      "Total params: 50,851\n",
      "Trainable params: 50,851\n",
      "Non-trainable params: 0\n",
      "_________________________________________________________________\n"
     ]
    }
   ],
   "source": [
    "model=Sequential()\n",
    "model.add(LSTM(50,return_sequences=True,input_shape=(100,1)))\n",
    "model.add(LSTM(50,return_sequences=True))\n",
    "model.add(LSTM(50))\n",
    "model.add(Dense(1))\n",
    "model.compile(loss='mean_squared_error',optimizer='adam')\n",
    "model.summary()"
   ]
  },
  {
   "cell_type": "code",
   "execution_count": 18,
   "metadata": {
    "colab": {
     "base_uri": "https://localhost:8080/"
    },
    "collapsed": true,
    "id": "cYY7dGwcEwu-",
    "jupyter": {
     "outputs_hidden": true
    },
    "outputId": "b1d305b4-a7b6-4ca5-e303-9eed36ca1331",
    "tags": []
   },
   "outputs": [
    {
     "name": "stdout",
     "output_type": "stream",
     "text": [
      "Epoch 1/100\n",
      "717/717 [==============================] - 21s 16ms/step - loss: 0.0018 - val_loss: 0.0124\n",
      "Epoch 2/100\n",
      "717/717 [==============================] - 10s 14ms/step - loss: 2.8642e-04 - val_loss: 0.0074\n",
      "Epoch 3/100\n",
      "717/717 [==============================] - 10s 15ms/step - loss: 2.4267e-04 - val_loss: 0.0067\n",
      "Epoch 4/100\n",
      "717/717 [==============================] - 10s 15ms/step - loss: 1.8603e-04 - val_loss: 0.0065\n",
      "Epoch 5/100\n",
      "717/717 [==============================] - 10s 15ms/step - loss: 1.4288e-04 - val_loss: 0.0032\n",
      "Epoch 6/100\n",
      "717/717 [==============================] - 11s 15ms/step - loss: 1.2899e-04 - val_loss: 0.0050\n",
      "Epoch 7/100\n",
      "717/717 [==============================] - 11s 15ms/step - loss: 1.1396e-04 - val_loss: 0.0030\n",
      "Epoch 8/100\n",
      "717/717 [==============================] - 11s 15ms/step - loss: 1.3169e-04 - val_loss: 0.0027\n",
      "Epoch 9/100\n",
      "717/717 [==============================] - 10s 15ms/step - loss: 6.7858e-05 - val_loss: 0.0059\n",
      "Epoch 10/100\n",
      "717/717 [==============================] - 10s 15ms/step - loss: 1.2370e-04 - val_loss: 0.0043\n",
      "Epoch 11/100\n",
      "717/717 [==============================] - 10s 14ms/step - loss: 7.8442e-05 - val_loss: 0.0043\n",
      "Epoch 12/100\n",
      "717/717 [==============================] - 11s 15ms/step - loss: 1.0311e-04 - val_loss: 0.0043\n",
      "Epoch 13/100\n",
      "717/717 [==============================] - 10s 14ms/step - loss: 7.9246e-05 - val_loss: 0.0046\n",
      "Epoch 14/100\n",
      "717/717 [==============================] - 11s 15ms/step - loss: 7.5832e-05 - val_loss: 0.0031\n",
      "Epoch 15/100\n",
      "717/717 [==============================] - 11s 15ms/step - loss: 6.6106e-05 - val_loss: 0.0030\n",
      "Epoch 16/100\n",
      "717/717 [==============================] - 11s 15ms/step - loss: 7.6147e-05 - val_loss: 0.0040\n",
      "Epoch 17/100\n",
      "717/717 [==============================] - 11s 15ms/step - loss: 1.1947e-04 - val_loss: 0.0035\n",
      "Epoch 18/100\n",
      "717/717 [==============================] - 10s 15ms/step - loss: 9.3658e-05 - val_loss: 0.0037\n",
      "Epoch 19/100\n",
      "717/717 [==============================] - 11s 15ms/step - loss: 1.0793e-04 - val_loss: 0.0030\n",
      "Epoch 20/100\n",
      "717/717 [==============================] - 11s 15ms/step - loss: 6.7553e-05 - val_loss: 0.0044\n",
      "Epoch 21/100\n",
      "717/717 [==============================] - 11s 15ms/step - loss: 8.1840e-05 - val_loss: 0.0031\n",
      "Epoch 22/100\n",
      "717/717 [==============================] - 11s 15ms/step - loss: 7.1302e-05 - val_loss: 0.0036\n",
      "Epoch 23/100\n",
      "717/717 [==============================] - 10s 14ms/step - loss: 8.2668e-05 - val_loss: 0.0032\n",
      "Epoch 24/100\n",
      "717/717 [==============================] - 10s 14ms/step - loss: 6.1490e-05 - val_loss: 0.0028\n",
      "Epoch 25/100\n",
      "717/717 [==============================] - 10s 14ms/step - loss: 7.7459e-05 - val_loss: 0.0033\n",
      "Epoch 26/100\n",
      "717/717 [==============================] - 10s 14ms/step - loss: 6.7081e-05 - val_loss: 0.0030\n",
      "Epoch 27/100\n",
      "717/717 [==============================] - 10s 14ms/step - loss: 8.7262e-05 - val_loss: 0.0033\n",
      "Epoch 28/100\n",
      "717/717 [==============================] - 11s 15ms/step - loss: 6.0960e-05 - val_loss: 0.0038\n",
      "Epoch 29/100\n",
      "717/717 [==============================] - 11s 16ms/step - loss: 7.0497e-05 - val_loss: 0.0052\n",
      "Epoch 30/100\n",
      "717/717 [==============================] - 11s 15ms/step - loss: 7.7771e-05 - val_loss: 0.0032\n",
      "Epoch 31/100\n",
      "717/717 [==============================] - 11s 15ms/step - loss: 7.0374e-05 - val_loss: 0.0040\n",
      "Epoch 32/100\n",
      "717/717 [==============================] - 10s 14ms/step - loss: 6.9004e-05 - val_loss: 0.0044\n",
      "Epoch 33/100\n",
      "717/717 [==============================] - 11s 15ms/step - loss: 5.0109e-05 - val_loss: 0.0050\n",
      "Epoch 34/100\n",
      "717/717 [==============================] - 11s 15ms/step - loss: 5.8743e-05 - val_loss: 0.0048\n",
      "Epoch 35/100\n",
      "717/717 [==============================] - 10s 14ms/step - loss: 7.1669e-05 - val_loss: 0.0036\n",
      "Epoch 36/100\n",
      "717/717 [==============================] - 11s 15ms/step - loss: 7.2546e-05 - val_loss: 0.0037\n",
      "Epoch 37/100\n",
      "717/717 [==============================] - 11s 15ms/step - loss: 9.0969e-05 - val_loss: 0.0038\n",
      "Epoch 38/100\n",
      "717/717 [==============================] - 11s 15ms/step - loss: 6.7192e-05 - val_loss: 0.0037\n",
      "Epoch 39/100\n",
      "717/717 [==============================] - 11s 15ms/step - loss: 6.6611e-05 - val_loss: 0.0043\n",
      "Epoch 40/100\n",
      "717/717 [==============================] - 10s 15ms/step - loss: 6.1520e-05 - val_loss: 0.0050\n",
      "Epoch 41/100\n",
      "717/717 [==============================] - 11s 16ms/step - loss: 6.9089e-05 - val_loss: 0.0043\n",
      "Epoch 42/100\n",
      "717/717 [==============================] - 10s 15ms/step - loss: 6.0594e-05 - val_loss: 0.0045\n",
      "Epoch 43/100\n",
      "717/717 [==============================] - 11s 15ms/step - loss: 5.7584e-05 - val_loss: 0.0069\n",
      "Epoch 44/100\n",
      "717/717 [==============================] - 10s 15ms/step - loss: 5.4590e-05 - val_loss: 0.0054\n",
      "Epoch 45/100\n",
      "717/717 [==============================] - 10s 15ms/step - loss: 6.3147e-05 - val_loss: 0.0046\n",
      "Epoch 46/100\n",
      "717/717 [==============================] - 11s 15ms/step - loss: 8.7871e-05 - val_loss: 0.0044\n",
      "Epoch 47/100\n",
      "717/717 [==============================] - 11s 15ms/step - loss: 7.0023e-05 - val_loss: 0.0092\n",
      "Epoch 48/100\n",
      "717/717 [==============================] - 11s 15ms/step - loss: 6.3569e-05 - val_loss: 0.0049\n",
      "Epoch 49/100\n",
      "717/717 [==============================] - 10s 14ms/step - loss: 7.4226e-05 - val_loss: 0.0044\n",
      "Epoch 50/100\n",
      "717/717 [==============================] - 11s 15ms/step - loss: 5.5615e-05 - val_loss: 0.0068\n",
      "Epoch 51/100\n",
      "717/717 [==============================] - 10s 14ms/step - loss: 6.2531e-05 - val_loss: 0.0063\n",
      "Epoch 52/100\n",
      "717/717 [==============================] - 11s 15ms/step - loss: 4.4852e-05 - val_loss: 0.0063\n",
      "Epoch 53/100\n",
      "717/717 [==============================] - 10s 14ms/step - loss: 6.6782e-05 - val_loss: 0.0066\n",
      "Epoch 54/100\n",
      "717/717 [==============================] - 11s 15ms/step - loss: 5.0711e-05 - val_loss: 0.0075\n",
      "Epoch 55/100\n",
      "717/717 [==============================] - 11s 15ms/step - loss: 4.9220e-05 - val_loss: 0.0061\n",
      "Epoch 56/100\n",
      "717/717 [==============================] - 11s 15ms/step - loss: 5.6107e-05 - val_loss: 0.0048\n",
      "Epoch 57/100\n",
      "717/717 [==============================] - 11s 15ms/step - loss: 5.2408e-05 - val_loss: 0.0073\n",
      "Epoch 58/100\n",
      "717/717 [==============================] - 11s 15ms/step - loss: 5.0699e-05 - val_loss: 0.0074\n",
      "Epoch 59/100\n",
      "717/717 [==============================] - 11s 15ms/step - loss: 6.3202e-05 - val_loss: 0.0066\n",
      "Epoch 60/100\n",
      "717/717 [==============================] - 10s 15ms/step - loss: 5.8729e-05 - val_loss: 0.0068\n",
      "Epoch 61/100\n",
      "717/717 [==============================] - 11s 15ms/step - loss: 5.2784e-05 - val_loss: 0.0069\n",
      "Epoch 62/100\n",
      "717/717 [==============================] - 10s 15ms/step - loss: 5.8764e-05 - val_loss: 0.0069\n",
      "Epoch 63/100\n",
      "717/717 [==============================] - 11s 15ms/step - loss: 4.8799e-05 - val_loss: 0.0094\n",
      "Epoch 64/100\n",
      "717/717 [==============================] - 11s 15ms/step - loss: 6.0928e-05 - val_loss: 0.0063\n",
      "Epoch 65/100\n",
      "717/717 [==============================] - 10s 14ms/step - loss: 5.0412e-05 - val_loss: 0.0071\n",
      "Epoch 66/100\n",
      "717/717 [==============================] - 11s 15ms/step - loss: 6.6878e-05 - val_loss: 0.0062\n",
      "Epoch 67/100\n",
      "717/717 [==============================] - 11s 16ms/step - loss: 5.7095e-05 - val_loss: 0.0070\n",
      "Epoch 68/100\n",
      "717/717 [==============================] - 11s 15ms/step - loss: 5.4524e-05 - val_loss: 0.0067\n",
      "Epoch 69/100\n",
      "717/717 [==============================] - 11s 15ms/step - loss: 5.6713e-05 - val_loss: 0.0066\n",
      "Epoch 70/100\n",
      "717/717 [==============================] - 10s 14ms/step - loss: 6.4544e-05 - val_loss: 0.0062\n",
      "Epoch 71/100\n",
      "717/717 [==============================] - 10s 14ms/step - loss: 7.4444e-05 - val_loss: 0.0065\n",
      "Epoch 72/100\n",
      "717/717 [==============================] - 10s 14ms/step - loss: 4.7319e-05 - val_loss: 0.0072\n",
      "Epoch 73/100\n",
      "717/717 [==============================] - 10s 15ms/step - loss: 5.9109e-05 - val_loss: 0.0069\n",
      "Epoch 74/100\n",
      "717/717 [==============================] - 10s 14ms/step - loss: 4.1460e-05 - val_loss: 0.0080\n",
      "Epoch 75/100\n",
      "717/717 [==============================] - 10s 15ms/step - loss: 5.0081e-05 - val_loss: 0.0081\n",
      "Epoch 76/100\n",
      "717/717 [==============================] - 10s 15ms/step - loss: 5.9364e-05 - val_loss: 0.0066\n",
      "Epoch 77/100\n",
      "717/717 [==============================] - 11s 15ms/step - loss: 4.8953e-05 - val_loss: 0.0069\n",
      "Epoch 78/100\n",
      "717/717 [==============================] - 10s 15ms/step - loss: 5.4849e-05 - val_loss: 0.0076\n",
      "Epoch 79/100\n",
      "717/717 [==============================] - 11s 15ms/step - loss: 5.2916e-05 - val_loss: 0.0063\n",
      "Epoch 80/100\n",
      "717/717 [==============================] - 10s 14ms/step - loss: 5.9968e-05 - val_loss: 0.0069\n",
      "Epoch 81/100\n",
      "717/717 [==============================] - 10s 15ms/step - loss: 4.3974e-05 - val_loss: 0.0074\n",
      "Epoch 82/100\n",
      "717/717 [==============================] - 10s 14ms/step - loss: 4.7666e-05 - val_loss: 0.0081\n",
      "Epoch 83/100\n",
      "717/717 [==============================] - 10s 15ms/step - loss: 4.7548e-05 - val_loss: 0.0091\n",
      "Epoch 84/100\n",
      "717/717 [==============================] - 11s 15ms/step - loss: 5.4611e-05 - val_loss: 0.0080\n",
      "Epoch 85/100\n",
      "717/717 [==============================] - 11s 15ms/step - loss: 5.4607e-05 - val_loss: 0.0082\n",
      "Epoch 86/100\n",
      "717/717 [==============================] - 11s 15ms/step - loss: 5.2646e-05 - val_loss: 0.0067\n",
      "Epoch 87/100\n",
      "717/717 [==============================] - 11s 15ms/step - loss: 5.8824e-05 - val_loss: 0.0073\n",
      "Epoch 88/100\n",
      "717/717 [==============================] - 11s 15ms/step - loss: 5.0649e-05 - val_loss: 0.0086\n",
      "Epoch 89/100\n",
      "717/717 [==============================] - 11s 15ms/step - loss: 5.3140e-05 - val_loss: 0.0071\n",
      "Epoch 90/100\n",
      "717/717 [==============================] - 11s 15ms/step - loss: 5.1051e-05 - val_loss: 0.0082\n",
      "Epoch 91/100\n",
      "717/717 [==============================] - 10s 14ms/step - loss: 4.9270e-05 - val_loss: 0.0063\n",
      "Epoch 92/100\n",
      "717/717 [==============================] - 10s 15ms/step - loss: 4.9073e-05 - val_loss: 0.0068\n",
      "Epoch 93/100\n",
      "717/717 [==============================] - 11s 15ms/step - loss: 4.7357e-05 - val_loss: 0.0069\n",
      "Epoch 94/100\n",
      "717/717 [==============================] - 10s 15ms/step - loss: 6.1455e-05 - val_loss: 0.0090\n",
      "Epoch 95/100\n",
      "717/717 [==============================] - 11s 15ms/step - loss: 4.6324e-05 - val_loss: 0.0094\n",
      "Epoch 96/100\n",
      "717/717 [==============================] - 11s 16ms/step - loss: 5.0656e-05 - val_loss: 0.0090\n",
      "Epoch 97/100\n",
      "717/717 [==============================] - 11s 15ms/step - loss: 4.5952e-05 - val_loss: 0.0079\n",
      "Epoch 98/100\n",
      "717/717 [==============================] - 11s 15ms/step - loss: 4.9392e-05 - val_loss: 0.0097\n",
      "Epoch 99/100\n",
      "717/717 [==============================] - 10s 14ms/step - loss: 5.6644e-05 - val_loss: 0.0072\n",
      "Epoch 100/100\n",
      "717/717 [==============================] - 10s 15ms/step - loss: 5.5879e-05 - val_loss: 0.0086\n"
     ]
    },
    {
     "data": {
      "text/plain": [
       "<tensorflow.python.keras.callbacks.History at 0x7f3e12d12eb8>"
      ]
     },
     "execution_count": 18,
     "metadata": {
      "tags": []
     },
     "output_type": "execute_result"
    }
   ],
   "source": [
    "model.fit(generator,\n",
    "          epochs = 100,\n",
    "          validation_data = validation_generator)"
   ]
  },
  {
   "cell_type": "code",
   "execution_count": 19,
   "metadata": {
    "colab": {
     "base_uri": "https://localhost:8080/",
     "height": 282
    },
    "id": "pkCSkq--Ewu-",
    "outputId": "87c33718-8016-4154-f5ff-8dfa11046b95"
   },
   "outputs": [
    {
     "data": {
      "text/plain": [
       "<matplotlib.axes._subplots.AxesSubplot at 0x7f3e1a4192e8>"
      ]
     },
     "execution_count": 19,
     "metadata": {
      "tags": []
     },
     "output_type": "execute_result"
    },
    {
     "data": {
      "image/png": "[encoded data removed]",
      "text/plain": [
       "<Figure size 432x288 with 1 Axes>"
      ]
     },
     "metadata": {
      "needs_background": "light",
      "tags": []
     },
     "output_type": "display_data"
    }
   ],
   "source": [
    "loss = pd.DataFrame(model.history.history)\n",
    "loss.plot()"
   ]
  },
  {
   "cell_type": "code",
   "execution_count": 20,
   "metadata": {
    "colab": {
     "base_uri": "https://localhost:8080/"
    },
    "id": "6hDTfsaYKm3T",
    "outputId": "8a9b1e49-d6da-4d2d-8f9c-36a715bfd5f7"
   },
   "outputs": [
    {
     "name": "stderr",
     "output_type": "stream",
     "text": [
      "WARNING:absl:Found untraced functions such as lstm_cell_3_layer_call_and_return_conditional_losses, lstm_cell_3_layer_call_fn, lstm_cell_4_layer_call_and_return_conditional_losses, lstm_cell_4_layer_call_fn, lstm_cell_5_layer_call_and_return_conditional_losses while saving (showing 5 of 15). These functions will not be directly callable after loading.\n",
      "WARNING:absl:Found untraced functions such as lstm_cell_3_layer_call_and_return_conditional_losses, lstm_cell_3_layer_call_fn, lstm_cell_4_layer_call_and_return_conditional_losses, lstm_cell_4_layer_call_fn, lstm_cell_5_layer_call_and_return_conditional_losses while saving (showing 5 of 15). These functions will not be directly callable after loading.\n"
     ]
    },
    {
     "name": "stdout",
     "output_type": "stream",
     "text": [
      "INFO:tensorflow:Assets written to: saved_model/my_model/assets\n"
     ]
    },
    {
     "name": "stderr",
     "output_type": "stream",
     "text": [
      "INFO:tensorflow:Assets written to: saved_model/my_model/assets\n"
     ]
    }
   ],
   "source": [
    "!mkdir -p saved_model\r\n",
    "model.save('saved_model/my_model')"
   ]
  },
  {
   "cell_type": "code",
   "execution_count": 42,
   "metadata": {
    "id": "sTlx4MCDUHeE"
   },
   "outputs": [],
   "source": [
    "#my_model = tf.keras.models.load_model('saved_model/my_model')\r\n",
    "#my_model.summary()"
   ]
  },
  {
   "cell_type": "code",
   "execution_count": 21,
   "metadata": {
    "id": "rN0XjEfXEwu-"
   },
   "outputs": [],
   "source": [
    "n_features = 1\n",
    "train_predictions = []\n",
    "first_step = train_data[-time_step:]\n",
    "current_step = first_step.reshape((1, time_step, n_features))"
   ]
  },
  {
   "cell_type": "code",
   "execution_count": 22,
   "metadata": {
    "id": "IUKoa_crEwu_"
   },
   "outputs": [],
   "source": [
    "for i in range(training_size):\n",
    "    \n",
    "    # get prediction 1 time stamp ahead ([0] is for grabbing just the number instead of [array])\n",
    "    current_prediction = model.predict(current_step)[0]\n",
    "\n",
    "    train_predictions.append(current_prediction) \n",
    "    \n",
    "    # update batch to now include prediction and drop first value\n",
    "    current_step = np.append(current_step[:,1:,:],[[current_prediction]],axis=1)"
   ]
  },
  {
   "cell_type": "code",
   "execution_count": 28,
   "metadata": {
    "id": "rutzeIuoEwu_"
   },
   "outputs": [],
   "source": [
    "test_predictions = []\n",
    "first_step = test_data[-time_step:]\n",
    "current_step = first_step.reshape((1, time_step, n_features))\n",
    "\n",
    "for i in range(test_size):\n",
    "    \n",
    "    # get prediction 1 time stamp ahead ([0] is for grabbing just the number instead of [array])\n",
    "    current_prediction = model.predict(current_step)[0]\n",
    "\n",
    "    test_predictions.append(current_prediction) \n",
    "    \n",
    "    # update batch to now include prediction and drop first value\n",
    "    current_step = np.append(current_step[:,1:,:],[[current_prediction]],axis=1)"
   ]
  },
  {
   "cell_type": "code",
   "execution_count": 29,
   "metadata": {
    "colab": {
     "base_uri": "https://localhost:8080/"
    },
    "id": "u_SYNiKOEwu_",
    "outputId": "016193f2-2065-45e3-fc3d-91518708fc32"
   },
   "outputs": [
    {
     "name": "stdout",
     "output_type": "stream",
     "text": [
      "817\n",
      "817\n",
      "441\n",
      "441\n",
      "1258\n",
      "1258\n"
     ]
    }
   ],
   "source": [
    "print(training_size)\n",
    "print(len(train_predictions))\n",
    "print(test_size)\n",
    "print(len(test_predictions))\n",
    "print(len(df1))\n",
    "print(training_size + test_size)"
   ]
  },
  {
   "cell_type": "code",
   "execution_count": 30,
   "metadata": {
    "id": "aYp14KIzEwvA"
   },
   "outputs": [],
   "source": [
    "true_train_predictions = scaler.inverse_transform(train_predictions)\n",
    "true_test_predictions = scaler.inverse_transform(test_predictions)"
   ]
  },
  {
   "cell_type": "code",
   "execution_count": 31,
   "metadata": {
    "colab": {
     "base_uri": "https://localhost:8080/"
    },
    "id": "jwhhnsrrEwvA",
    "outputId": "d0e7acad-22ff-4111-bb4c-44e675be0123"
   },
   "outputs": [
    {
     "name": "stdout",
     "output_type": "stream",
     "text": [
      "186.04376846683567\n",
      "186.04376846683567\n",
      "181.28569052291786\n",
      "181.28569052291786\n"
     ]
    }
   ],
   "source": [
    "### Calculate RMSE performance metrics\n",
    "print(math.sqrt(mean_squared_error(train_data, true_train_predictions)))\n",
    "### Test Data RMSE\n",
    "print(math.sqrt(mean_squared_error(train_data,true_train_predictions)))\n",
    "### Calculate RMSE performance metrics\n",
    "print(math.sqrt(mean_squared_error(test_data, true_test_predictions)))\n",
    "### Test Data RMSE\n",
    "print(math.sqrt(mean_squared_error(test_data,true_test_predictions)))"
   ]
  },
  {
   "cell_type": "code",
   "execution_count": 33,
   "metadata": {
    "colab": {
     "base_uri": "https://localhost:8080/",
     "height": 265
    },
    "id": "IjxrfH02EwvA",
    "outputId": "77103a3f-67a3-443a-ac51-6e94df13b094"
   },
   "outputs": [
    {
     "data": {
      "image/png": "[encoded data removed]",
      "text/plain": [
       "<Figure size 432x288 with 1 Axes>"
      ]
     },
     "metadata": {
      "needs_background": "light",
      "tags": []
     },
     "output_type": "display_data"
    }
   ],
   "source": [
    "### Plotting \n",
    "# shift train predictions for plotting\n",
    "look_back=100\n",
    "trainPredictPlot = np.empty_like(df1)\n",
    "trainPredictPlot[:, :] = np.nan\n",
    "#trainPredictPlot[look_back:len(true_train_predictions)+look_back, :] = true_train_predictions\n",
    "trainPredictPlot[100:917, :] = true_train_predictions\n",
    "# shift test predictions for plotting\n",
    "testPredictPlot = np.empty_like(df1)\n",
    "testPredictPlot[:, :] = np.nan\n",
    "testPredictPlot[816:1257, :] = true_test_predictions\n",
    "# plot baseline and predictions\n",
    "plt.plot(scaler.inverse_transform(df1))\n",
    "plt.plot(trainPredictPlot)\n",
    "plt.plot(testPredictPlot)\n",
    "plt.show()"
   ]
  },
  {
   "cell_type": "code",
   "execution_count": 35,
   "metadata": {
    "id": "N9GonIpAEwvB"
   },
   "outputs": [],
   "source": [
    "future_predictions = []\n",
    "n_future_steps = 30\n",
    "first_step = test_data[341:]\n",
    "current_step = first_step.reshape((1, time_step, n_features))\n",
    "\n",
    "for i in range(n_future_steps):\n",
    "    \n",
    "    # get prediction 1 time stamp ahead ([0] is for grabbing just the number instead of [array])\n",
    "    current_prediction = model.predict(current_step)[0]\n",
    "\n",
    "    future_predictions.append(current_prediction) \n",
    "    \n",
    "    # update batch to now include prediction and drop first value\n",
    "    current_step = np.append(current_step[:,1:,:],[[current_prediction]],axis=1)"
   ]
  },
  {
   "cell_type": "code",
   "execution_count": null,
   "metadata": {
    "id": "mI1fw5q2EwvB"
   },
   "outputs": [],
   "source": [
    "#future_predictions = np.array(future_predictions)\n",
    "#type(future_predictions)"
   ]
  },
  {
   "cell_type": "code",
   "execution_count": 38,
   "metadata": {
    "colab": {
     "base_uri": "https://localhost:8080/",
     "height": 282
    },
    "id": "okSA3V1pEwvB",
    "outputId": "531dba59-50ed-48a8-9d25-791e29c1fd9e"
   },
   "outputs": [
    {
     "data": {
      "text/plain": [
       "[<matplotlib.lines.Line2D at 0x7f3e1a6b2748>]"
      ]
     },
     "execution_count": 38,
     "metadata": {
      "tags": []
     },
     "output_type": "execute_result"
    },
    {
     "data": {
      "image/png": "[encoded data removed]",
      "text/plain": [
       "<Figure size 432x288 with 1 Axes>"
      ]
     },
     "metadata": {
      "needs_background": "light",
      "tags": []
     },
     "output_type": "display_data"
    }
   ],
   "source": [
    "day_new = np.arange(1,101)\n",
    "day_pred = np.arange(101,131)\n",
    "plt.plot(day_new,scaler.inverse_transform(df1[1158:]))\n",
    "plt.plot(day_pred,scaler.inverse_transform(future_predictions))"
   ]
  },
  {
   "cell_type": "code",
   "execution_count": 39,
   "metadata": {
    "colab": {
     "base_uri": "https://localhost:8080/",
     "height": 282
    },
    "id": "srEaBlULta5v",
    "outputId": "9604d01a-3746-41fe-9fc5-369c3e5dcce7"
   },
   "outputs": [
    {
     "data": {
      "text/plain": [
       "[<matplotlib.lines.Line2D at 0x7f3e1befb668>]"
      ]
     },
     "execution_count": 39,
     "metadata": {
      "tags": []
     },
     "output_type": "execute_result"
    },
    {
     "data": {
      "image/png": "[encoded data removed]",
      "text/plain": [
       "<Figure size 432x288 with 1 Axes>"
      ]
     },
     "metadata": {
      "needs_background": "light",
      "tags": []
     },
     "output_type": "display_data"
    }
   ],
   "source": [
    "df3=df1.tolist()\r\n",
    "df3.extend(future_predictions)\r\n",
    "plt.plot(df3[1200:])"
   ]
  },
  {
   "cell_type": "code",
   "execution_count": 40,
   "metadata": {
    "id": "Sf1uBsCltkLm"
   },
   "outputs": [],
   "source": [
    "df3=scaler.inverse_transform(df3).tolist()"
   ]
  },
  {
   "cell_type": "code",
   "execution_count": 41,
   "metadata": {
    "colab": {
     "base_uri": "https://localhost:8080/",
     "height": 282
    },
    "id": "0eBc4PtAzcuJ",
    "outputId": "611dba60-a944-47f5-dae8-aa1425f07152"
   },
   "outputs": [
    {
     "data": {
      "text/plain": [
       "[<matplotlib.lines.Line2D at 0x7f3df36d4dd8>]"
      ]
     },
     "execution_count": 41,
     "metadata": {
      "tags": []
     },
     "output_type": "execute_result"
    },
    {
     "data": {
      "image/png": "[encoded data removed]",
      "text/plain": [
       "<Figure size 432x288 with 1 Axes>"
      ]
     },
     "metadata": {
      "needs_background": "light",
      "tags": []
     },
     "output_type": "display_data"
    }
   ],
   "source": [
    "plt.plot(df3)"
   ]
  }
 ],
 "metadata": {
  "accelerator": "GPU",
  "colab": {
   "name": "05_stock_prediction.ipynb",
   "provenance": [],
   "toc_visible": true
  },
  "kernelspec": {
   "display_name": "Python 3",
   "language": "python",
   "name": "python3"
  },
  "language_info": {
   "codemirror_mode": {
    "name": "ipython",
    "version": 3
   },
   "file_extension": ".py",
   "mimetype": "text/x-python",
   "name": "python",
   "nbconvert_exporter": "python",
   "pygments_lexer": "ipython3",
   "version": "3.8.5"
  }
 },
 "nbformat": 4,
 "nbformat_minor": 4
}
