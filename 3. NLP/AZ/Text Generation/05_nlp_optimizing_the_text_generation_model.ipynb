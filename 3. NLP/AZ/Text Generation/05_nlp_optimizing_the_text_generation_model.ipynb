{
 "cells": [
  {
   "cell_type": "markdown",
   "metadata": {},
   "source": [
    "# Text Generation"
   ]
  },
  {
   "cell_type": "code",
   "execution_count": 1,
   "metadata": {
    "lines_to_next_cell": 2
   },
   "outputs": [],
   "source": [
    "import string\n",
    "import numpy as np\n",
    "import pandas as pd\n",
    "import matplotlib.pyplot as plt\n",
    "import tensorflow as tf"
   ]
  },
  {
   "cell_type": "code",
   "execution_count": 2,
   "metadata": {
    "id": "2LmLTREBf5ng",
    "lines_to_next_cell": 1
   },
   "outputs": [],
   "source": [
    "from tensorflow.keras.preprocessing.text import Tokenizer\n",
    "from tensorflow.keras.preprocessing.sequence import pad_sequences\n",
    "from tensorflow.keras.models import Sequential\n",
    "from tensorflow.keras.layers import Embedding, LSTM, Dense, Bidirectional"
   ]
  },
  {
   "cell_type": "markdown",
   "metadata": {},
   "source": [
    "### Helping Functions"
   ]
  },
  {
   "cell_type": "code",
   "execution_count": 3,
   "metadata": {
    "lines_to_next_cell": 1
   },
   "outputs": [],
   "source": [
    "def tokenize_corpus(corpus, num_words=-1):\n",
    "  # Fit a Tokenizer on the corpus\n",
    "  if num_words > -1:\n",
    "    tokenizer = Tokenizer(num_words=num_words)\n",
    "  else:\n",
    "    tokenizer = Tokenizer()\n",
    "  tokenizer.fit_on_texts(corpus)\n",
    "  return tokenizer"
   ]
  },
  {
   "cell_type": "code",
   "execution_count": 4,
   "metadata": {
    "id": "LRmPPJegovBe",
    "lines_to_next_cell": 1
   },
   "outputs": [],
   "source": [
    "def create_lyrics_corpus(dataset, field):\n",
    "  # Remove all other punctuation\n",
    "  dataset[field] = dataset[field].str.replace('[{}]'.format(string.punctuation), '')\n",
    "  # Make it lowercase\n",
    "  dataset[field] = dataset[field].str.lower()\n",
    "  # Make it one long string to split by line\n",
    "  lyrics = dataset[field].str.cat()\n",
    "  corpus = lyrics.split('\\n')\n",
    "  # Remove any trailing whitespace\n",
    "  for l in range(len(corpus)):\n",
    "    corpus[l] = corpus[l].rstrip()\n",
    "  # Remove any empty lines\n",
    "  corpus = [l for l in corpus if l != '']\n",
    "\n",
    "  return corpus"
   ]
  },
  {
   "cell_type": "markdown",
   "metadata": {},
   "source": [
    "## Step 1 : Get the Corpus"
   ]
  },
  {
   "cell_type": "code",
   "execution_count": 5,
   "metadata": {
    "colab": {
     "base_uri": "https://localhost:8080/"
    },
    "id": "4Bf5FVHfganK",
    "outputId": "122f1276-3342-4e18-d997-1a01cefbd230"
   },
   "outputs": [
    {
     "name": "stdout",
     "output_type": "stream",
     "text": [
      "C:\\Users\\Amir\\.keras\\datasets\\songdata.csv\n"
     ]
    }
   ],
   "source": [
    "path = tf.keras.utils.get_file('songdata.csv', \n",
    "                               'https://drive.google.com/uc?id=1LiJFZd41ofrWoBtW-pMYsfz1w8Ny0Bj8')\n",
    "print (path)"
   ]
  },
  {
   "cell_type": "code",
   "execution_count": 6,
   "metadata": {
    "lines_to_next_cell": 2
   },
   "outputs": [],
   "source": [
    "# Read the dataset from csv - this time with 250 songs \n",
    "dataset = pd.read_csv(path, dtype=str)[:250]\n",
    "# Create the corpus using the 'text' column containing lyrics\n",
    "corpus = create_lyrics_corpus(dataset, 'text')"
   ]
  },
  {
   "cell_type": "markdown",
   "metadata": {},
   "source": [
    "## Step 2 : Tokenize the Corpus"
   ]
  },
  {
   "cell_type": "code",
   "execution_count": 7,
   "metadata": {},
   "outputs": [],
   "source": [
    "# Tokenize the corpus\n",
    "tokenizer = tokenize_corpus(corpus, num_words=2000)\n",
    "total_words = tokenizer.num_words"
   ]
  },
  {
   "cell_type": "code",
   "execution_count": 8,
   "metadata": {
    "colab": {
     "base_uri": "https://localhost:8080/"
    },
    "id": "kIGedF3XjHj4",
    "lines_to_next_cell": 2,
    "outputId": "357e4814-b9ce-44be-f0db-8b87295cbe6e"
   },
   "outputs": [
    {
     "name": "stdout",
     "output_type": "stream",
     "text": [
      "2000\n"
     ]
    }
   ],
   "source": [
    "# There should be a lot more words now\n",
    "print(total_words)"
   ]
  },
  {
   "cell_type": "markdown",
   "metadata": {},
   "source": [
    "## Step 3 : Create n-Gram"
   ]
  },
  {
   "cell_type": "code",
   "execution_count": 9,
   "metadata": {
    "id": "kkLAf3HmkPSo"
   },
   "outputs": [],
   "source": [
    "sequences = []\n",
    "for line in corpus:\n",
    "\ttoken_list = tokenizer.texts_to_sequences([line])[0]\n",
    "\tfor i in range(1, len(token_list)):\n",
    "\t\tn_gram_sequence = token_list[:i+1]\n",
    "\t\tsequences.append(n_gram_sequence)"
   ]
  },
  {
   "cell_type": "markdown",
   "metadata": {},
   "source": [
    "## Step 4 : Pad sequences"
   ]
  },
  {
   "cell_type": "code",
   "execution_count": 10,
   "metadata": {},
   "outputs": [],
   "source": [
    "# Pad sequences for equal input length \n",
    "max_sequence_len = max([len(seq) for seq in sequences])\n",
    "sequences = np.array(pad_sequences(sequences, maxlen=max_sequence_len, padding='pre'))"
   ]
  },
  {
   "cell_type": "markdown",
   "metadata": {},
   "source": [
    "## Step 5 : X and y - Values"
   ]
  },
  {
   "cell_type": "code",
   "execution_count": 11,
   "metadata": {},
   "outputs": [],
   "source": [
    "# Split sequences between the \"input\" sequence and \"output\" predicted word\n",
    "X = sequences[:,:-1]\n",
    "y_label = sequences[:,-1]\n",
    "# One-hot encode the labels\n",
    "y = tf.keras.utils.to_categorical(y_label, num_classes=total_words)"
   ]
  },
  {
   "cell_type": "markdown",
   "metadata": {
    "lines_to_next_cell": 2
   },
   "source": [
    "## Step 6 : Create Model"
   ]
  },
  {
   "cell_type": "code",
   "execution_count": 14,
   "metadata": {
    "colab": {
     "base_uri": "https://localhost:8080/"
    },
    "id": "7nHOp6uWlP_P",
    "outputId": "c3861729-7d63-483c-ad03-52b5af12c8ac"
   },
   "outputs": [
    {
     "name": "stdout",
     "output_type": "stream",
     "text": [
      "Epoch 1/100\n",
      "1480/1480 [==============================] - 18s 12ms/step - loss: 5.9802 - accuracy: 0.0463\n",
      "Epoch 2/100\n",
      "1480/1480 [==============================] - 16s 11ms/step - loss: 5.6712 - accuracy: 0.0507\n",
      "Epoch 3/100\n",
      "1480/1480 [==============================] - 16s 11ms/step - loss: 5.4987 - accuracy: 0.0621\n",
      "Epoch 4/100\n",
      "1480/1480 [==============================] - 16s 11ms/step - loss: 5.3391 - accuracy: 0.0853\n",
      "Epoch 5/100\n",
      "1480/1480 [==============================] - 17s 11ms/step - loss: 5.2055 - accuracy: 0.1012\n",
      "Epoch 6/100\n",
      "1480/1480 [==============================] - 16s 11ms/step - loss: 5.0699 - accuracy: 0.1204\n",
      "Epoch 7/100\n",
      "1480/1480 [==============================] - 16s 11ms/step - loss: 4.9368 - accuracy: 0.1350\n",
      "Epoch 8/100\n",
      "1480/1480 [==============================] - 16s 11ms/step - loss: 4.8126 - accuracy: 0.1482\n",
      "Epoch 9/100\n",
      "1480/1480 [==============================] - 16s 11ms/step - loss: 4.6809 - accuracy: 0.1614\n",
      "Epoch 10/100\n",
      "1480/1480 [==============================] - 16s 11ms/step - loss: 4.5376 - accuracy: 0.1746\n",
      "Epoch 11/100\n",
      "1480/1480 [==============================] - 16s 11ms/step - loss: 4.4081 - accuracy: 0.1904\n",
      "Epoch 12/100\n",
      "1480/1480 [==============================] - 16s 11ms/step - loss: 4.2970 - accuracy: 0.2010\n",
      "Epoch 13/100\n",
      "1480/1480 [==============================] - 16s 11ms/step - loss: 4.2007 - accuracy: 0.2124\n",
      "Epoch 14/100\n",
      "1480/1480 [==============================] - 16s 11ms/step - loss: 4.1103 - accuracy: 0.2230\n",
      "Epoch 15/100\n",
      "1480/1480 [==============================] - 16s 11ms/step - loss: 4.0355 - accuracy: 0.2336\n",
      "Epoch 16/100\n",
      "1480/1480 [==============================] - 16s 11ms/step - loss: 3.9686 - accuracy: 0.2409\n",
      "Epoch 17/100\n",
      "1480/1480 [==============================] - 16s 11ms/step - loss: 3.9065 - accuracy: 0.2498\n",
      "Epoch 18/100\n",
      "1480/1480 [==============================] - 17s 11ms/step - loss: 3.8469 - accuracy: 0.2561\n",
      "Epoch 19/100\n",
      "1480/1480 [==============================] - 16s 11ms/step - loss: 3.7929 - accuracy: 0.2642\n",
      "Epoch 20/100\n",
      "1480/1480 [==============================] - 16s 11ms/step - loss: 3.7394 - accuracy: 0.2736\n",
      "Epoch 21/100\n",
      "1480/1480 [==============================] - 16s 11ms/step - loss: 3.6923 - accuracy: 0.2797\n",
      "Epoch 22/100\n",
      "1480/1480 [==============================] - 16s 11ms/step - loss: 3.6449 - accuracy: 0.2850\n",
      "Epoch 23/100\n",
      "1480/1480 [==============================] - 16s 11ms/step - loss: 3.6026 - accuracy: 0.2916\n",
      "Epoch 24/100\n",
      "1480/1480 [==============================] - 16s 11ms/step - loss: 3.5614 - accuracy: 0.2962\n",
      "Epoch 25/100\n",
      "1480/1480 [==============================] - 16s 11ms/step - loss: 3.5190 - accuracy: 0.30200s - loss: 3.5181 - accuracy\n",
      "Epoch 26/100\n",
      "1480/1480 [==============================] - 16s 11ms/step - loss: 3.4833 - accuracy: 0.3106\n",
      "Epoch 27/100\n",
      "1480/1480 [==============================] - 16s 11ms/step - loss: 3.4538 - accuracy: 0.31160s - loss: 3.4551 - ac\n",
      "Epoch 28/100\n",
      "1480/1480 [==============================] - 16s 11ms/step - loss: 3.4215 - accuracy: 0.3176\n",
      "Epoch 29/100\n",
      "1480/1480 [==============================] - 16s 11ms/step - loss: 3.3782 - accuracy: 0.3235\n",
      "Epoch 30/100\n",
      "1480/1480 [==============================] - 16s 11ms/step - loss: 3.3470 - accuracy: 0.3297\n",
      "Epoch 31/100\n",
      "1480/1480 [==============================] - 16s 11ms/step - loss: 3.3154 - accuracy: 0.3342\n",
      "Epoch 32/100\n",
      "1480/1480 [==============================] - 16s 11ms/step - loss: 3.2863 - accuracy: 0.3376\n",
      "Epoch 33/100\n",
      "1480/1480 [==============================] - 16s 11ms/step - loss: 3.2496 - accuracy: 0.3446\n",
      "Epoch 34/100\n",
      "1480/1480 [==============================] - 16s 11ms/step - loss: 3.2236 - accuracy: 0.3472\n",
      "Epoch 35/100\n",
      "1480/1480 [==============================] - 16s 11ms/step - loss: 3.1961 - accuracy: 0.3529\n",
      "Epoch 36/100\n",
      "1480/1480 [==============================] - 16s 11ms/step - loss: 3.1772 - accuracy: 0.3544\n",
      "Epoch 37/100\n",
      "1480/1480 [==============================] - 16s 11ms/step - loss: 3.1573 - accuracy: 0.3581\n",
      "Epoch 38/100\n",
      "1480/1480 [==============================] - 16s 11ms/step - loss: 3.1226 - accuracy: 0.3612\n",
      "Epoch 39/100\n",
      "1480/1480 [==============================] - 16s 11ms/step - loss: 3.0981 - accuracy: 0.3670\n",
      "Epoch 40/100\n",
      "1480/1480 [==============================] - 17s 11ms/step - loss: 3.0742 - accuracy: 0.3709\n",
      "Epoch 41/100\n",
      "1480/1480 [==============================] - 17s 11ms/step - loss: 3.0536 - accuracy: 0.3721\n",
      "Epoch 42/100\n",
      "1480/1480 [==============================] - 17s 11ms/step - loss: 3.0386 - accuracy: 0.3754\n",
      "Epoch 43/100\n",
      "1480/1480 [==============================] - 17s 11ms/step - loss: 3.0041 - accuracy: 0.3817\n",
      "Epoch 44/100\n",
      "1480/1480 [==============================] - 18s 12ms/step - loss: 2.9896 - accuracy: 0.3826\n",
      "Epoch 45/100\n",
      "1480/1480 [==============================] - 17s 11ms/step - loss: 2.9730 - accuracy: 0.3847\n",
      "Epoch 46/100\n",
      "1480/1480 [==============================] - 17s 11ms/step - loss: 2.9442 - accuracy: 0.3896\n",
      "Epoch 47/100\n",
      "1480/1480 [==============================] - 17s 12ms/step - loss: 2.9311 - accuracy: 0.3931\n",
      "Epoch 48/100\n",
      "1480/1480 [==============================] - 17s 12ms/step - loss: 2.9069 - accuracy: 0.3969\n",
      "Epoch 49/100\n",
      "1480/1480 [==============================] - 17s 11ms/step - loss: 2.9029 - accuracy: 0.3984\n",
      "Epoch 50/100\n",
      "1480/1480 [==============================] - 16s 11ms/step - loss: 2.8791 - accuracy: 0.4003\n",
      "Epoch 51/100\n",
      "1480/1480 [==============================] - 17s 11ms/step - loss: 2.8567 - accuracy: 0.4060\n",
      "Epoch 52/100\n",
      "1480/1480 [==============================] - 17s 11ms/step - loss: 2.8472 - accuracy: 0.4060\n",
      "Epoch 53/100\n",
      "1480/1480 [==============================] - 16s 11ms/step - loss: 2.8281 - accuracy: 0.4108\n",
      "Epoch 54/100\n",
      "1480/1480 [==============================] - 16s 11ms/step - loss: 2.8106 - accuracy: 0.4128\n",
      "Epoch 55/100\n",
      "1480/1480 [==============================] - 17s 11ms/step - loss: 2.7954 - accuracy: 0.4161\n",
      "Epoch 56/100\n",
      "1480/1480 [==============================] - 16s 11ms/step - loss: 2.7971 - accuracy: 0.4178\n",
      "Epoch 57/100\n",
      "1480/1480 [==============================] - 16s 11ms/step - loss: 2.7655 - accuracy: 0.4208\n",
      "Epoch 58/100\n",
      "1480/1480 [==============================] - 16s 11ms/step - loss: 2.7554 - accuracy: 0.4237\n",
      "Epoch 59/100\n",
      "1480/1480 [==============================] - 16s 11ms/step - loss: 2.7335 - accuracy: 0.4268\n",
      "Epoch 60/100\n",
      "1480/1480 [==============================] - 17s 11ms/step - loss: 2.7180 - accuracy: 0.4300\n",
      "Epoch 61/100\n",
      "1480/1480 [==============================] - 17s 11ms/step - loss: 2.7264 - accuracy: 0.4294\n",
      "Epoch 62/100\n",
      "1480/1480 [==============================] - 16s 11ms/step - loss: 2.6977 - accuracy: 0.4342\n",
      "Epoch 63/100\n",
      "1480/1480 [==============================] - 17s 11ms/step - loss: 2.6828 - accuracy: 0.4363\n",
      "Epoch 64/100\n",
      "1480/1480 [==============================] - 16s 11ms/step - loss: 2.6679 - accuracy: 0.4389\n",
      "Epoch 65/100\n",
      "1480/1480 [==============================] - 19s 13ms/step - loss: 2.6608 - accuracy: 0.4408\n",
      "Epoch 66/100\n",
      "1480/1480 [==============================] - 19s 13ms/step - loss: 2.6465 - accuracy: 0.4442\n",
      "Epoch 67/100\n",
      "1480/1480 [==============================] - 18s 12ms/step - loss: 2.6362 - accuracy: 0.4458\n",
      "Epoch 68/100\n",
      "1480/1480 [==============================] - 17s 12ms/step - loss: 2.6204 - accuracy: 0.4487\n",
      "Epoch 69/100\n",
      "1480/1480 [==============================] - 17s 11ms/step - loss: 2.6049 - accuracy: 0.4503\n",
      "Epoch 70/100\n",
      "1480/1480 [==============================] - 18s 12ms/step - loss: 2.5972 - accuracy: 0.4530TA: 0s - loss: 2.5971 - accuracy\n",
      "Epoch 71/100\n",
      "1480/1480 [==============================] - 10818s 7s/step - loss: 2.5888 - accuracy: 0.4559 6:33 -\n",
      "Epoch 72/100\n",
      "1480/1480 [==============================] - 21398s 14s/step - loss: 2.5710 - accuracy: 0.4578 9:08 - loss\n",
      "Epoch 73/100\n",
      "1480/1480 [==============================] - 23s 15ms/step - loss: 2.5603 - accuracy: 0.4590\n",
      "Epoch 74/100\n",
      "1480/1480 [==============================] - 19s 13ms/step - loss: 2.5541 - accuracy: 0.4602\n",
      "Epoch 75/100\n",
      "1480/1480 [==============================] - 20s 14ms/step - loss: 2.5432 - accuracy: 0.4649\n",
      "Epoch 76/100\n",
      "1480/1480 [==============================] - 19s 13ms/step - loss: 2.5299 - accuracy: 0.4665\n",
      "Epoch 77/100\n",
      "1480/1480 [==============================] - 18s 12ms/step - loss: 2.5218 - accuracy: 0.4680\n",
      "Epoch 78/100\n",
      "1480/1480 [==============================] - 18s 12ms/step - loss: 2.5121 - accuracy: 0.4684\n",
      "Epoch 79/100\n",
      "1480/1480 [==============================] - 18s 12ms/step - loss: 2.5078 - accuracy: 0.4681\n",
      "Epoch 80/100\n",
      "1480/1480 [==============================] - 19s 13ms/step - loss: 2.4991 - accuracy: 0.4699\n",
      "Epoch 81/100\n",
      "1480/1480 [==============================] - 18s 12ms/step - loss: 2.4897 - accuracy: 0.4718\n",
      "Epoch 82/100\n",
      "1480/1480 [==============================] - 18s 12ms/step - loss: 2.4902 - accuracy: 0.4710\n",
      "Epoch 83/100\n",
      "1480/1480 [==============================] - 18s 12ms/step - loss: 2.4852 - accuracy: 0.4718\n",
      "Epoch 84/100\n",
      "1480/1480 [==============================] - 17s 12ms/step - loss: 2.4653 - accuracy: 0.4786\n",
      "Epoch 85/100\n",
      "1480/1480 [==============================] - 17s 12ms/step - loss: 2.4500 - accuracy: 0.4806\n",
      "Epoch 86/100\n",
      "1480/1480 [==============================] - 17s 11ms/step - loss: 2.4402 - accuracy: 0.4820\n",
      "Epoch 87/100\n",
      "1480/1480 [==============================] - 17s 11ms/step - loss: 2.4360 - accuracy: 0.4832\n",
      "Epoch 88/100\n",
      "1480/1480 [==============================] - 17s 11ms/step - loss: 2.4287 - accuracy: 0.4831\n",
      "Epoch 89/100\n",
      "1480/1480 [==============================] - 17s 12ms/step - loss: 2.4261 - accuracy: 0.4804\n",
      "Epoch 90/100\n",
      "1480/1480 [==============================] - 17s 12ms/step - loss: 2.4126 - accuracy: 0.4886\n",
      "Epoch 91/100\n",
      "1480/1480 [==============================] - 17s 12ms/step - loss: 2.3984 - accuracy: 0.4887\n",
      "Epoch 92/100\n",
      "1480/1480 [==============================] - 17s 12ms/step - loss: 2.3926 - accuracy: 0.49060s - los\n",
      "Epoch 93/100\n",
      "1480/1480 [==============================] - 17s 12ms/step - loss: 2.3867 - accuracy: 0.4915\n",
      "Epoch 94/100\n",
      "1480/1480 [==============================] - 17s 11ms/step - loss: 2.3858 - accuracy: 0.4926\n",
      "Epoch 95/100\n",
      "1480/1480 [==============================] - 17s 12ms/step - loss: 2.3724 - accuracy: 0.4928\n",
      "Epoch 96/100\n",
      "1480/1480 [==============================] - 17s 12ms/step - loss: 2.3706 - accuracy: 0.4917\n",
      "Epoch 97/100\n",
      "1480/1480 [==============================] - 17s 12ms/step - loss: 2.3596 - accuracy: 0.4952\n",
      "Epoch 98/100\n",
      "1480/1480 [==============================] - 17s 11ms/step - loss: 2.3480 - accuracy: 0.4974\n",
      "Epoch 99/100\n",
      "1480/1480 [==============================] - 17s 12ms/step - loss: 2.3372 - accuracy: 0.5005\n",
      "Epoch 100/100\n",
      "1480/1480 [==============================] - 17s 12ms/step - loss: 2.3396 - accuracy: 0.5002\n"
     ]
    }
   ],
   "source": [
    "EPOCHS = 100\n",
    "model = Sequential()\n",
    "model.add(Embedding(total_words, 64, input_length=max_sequence_len-1))\n",
    "model.add(Bidirectional(LSTM(20)))\n",
    "model.add(Dense(total_words, activation='softmax'))\n",
    "model.compile(loss='categorical_crossentropy', optimizer='adam', metrics=['accuracy'])\n",
    "history = model.fit(X, y, epochs=EPOCHS, verbose=1)"
   ]
  },
  {
   "cell_type": "code",
   "execution_count": 15,
   "metadata": {
    "lines_to_next_cell": 1
   },
   "outputs": [],
   "source": [
    "def plot_graphs(history, string):\n",
    "  plt.plot(history.history[string])\n",
    "  plt.xlabel(\"Epochs\")\n",
    "  plt.ylabel(string)\n",
    "  plt.show()"
   ]
  },
  {
   "cell_type": "code",
   "execution_count": 16,
   "metadata": {
    "colab": {
     "base_uri": "https://localhost:8080/",
     "height": 279
    },
    "id": "rOqmmarvlSLh",
    "outputId": "dfcb481d-f4a1-4380-aa8a-1be88f22cad7"
   },
   "outputs": [
    {
     "data": {
      "image/png": "[encoded data removed]",
      "text/plain": [
       "<Figure size 432x288 with 1 Axes>"
      ]
     },
     "metadata": {
      "needs_background": "light"
     },
     "output_type": "display_data"
    }
   ],
   "source": [
    "plot_graphs(history, 'accuracy')"
   ]
  },
  {
   "cell_type": "markdown",
   "metadata": {},
   "source": [
    "This time around, we should be able to get a more interesting output with less repetition"
   ]
  },
  {
   "cell_type": "markdown",
   "metadata": {},
   "source": [
    "## Step 7: Generate Text"
   ]
  },
  {
   "cell_type": "code",
   "execution_count": 17,
   "metadata": {},
   "outputs": [],
   "source": [
    "seed_text = \"im feeling chills\"\n",
    "next_words = 100"
   ]
  },
  {
   "cell_type": "code",
   "execution_count": 18,
   "metadata": {
    "colab": {
     "base_uri": "https://localhost:8080/"
    },
    "id": "P96oVMk3lU7y",
    "outputId": "2df58e73-cfb9-41ee-f619-ddd37df34da7"
   },
   "outputs": [
    {
     "name": "stdout",
     "output_type": "stream",
     "text": [
      "im feeling chills a little longer yeah you do alright pick a little bit that sun grow doublecross inside cutie to taught christmas of hoy more tomorrow other colors changing sigh single line while lala im gonna dance or somebody old goin phone on letters up for each other side hour chance in space back joy single side with forever live sister hang nile woke excite single dum shoes phone heh speaking gold ancient high upon gold result of hesitation of hesitation of fights phone shove her part phone other dark deep dark shove waterloo ground seeing can use forever shine to her\n"
     ]
    }
   ],
   "source": [
    "for _ in range(next_words):\n",
    "\ttoken_list = tokenizer.texts_to_sequences([seed_text])[0]\n",
    "\ttoken_list = pad_sequences([token_list], maxlen=max_sequence_len-1, padding='pre')\n",
    "\tpredicted = np.argmax(model.predict(token_list), axis=-1)\n",
    "\toutput_word = \"\"\n",
    "\tfor word, index in tokenizer.word_index.items():\n",
    "\t\tif index == predicted:\n",
    "\t\t\toutput_word = word\n",
    "\t\t\tbreak\n",
    "\tseed_text += \" \" + output_word\n",
    "print(seed_text)"
   ]
  },
  {
   "cell_type": "markdown",
   "metadata": {},
   "source": [
    "### Extra Step : Add Randomization"
   ]
  },
  {
   "cell_type": "markdown",
   "metadata": {
    "id": "upgJKV8_oRU9"
   },
   "source": [
    "Varying the Possible Outputs\n",
    "\n",
    "In running the above, you may notice that the same seed text will generate similar outputs. This is because the code is currently always choosing the top predicted class as the next word. What if you wanted more variance in the output? \n",
    "\n",
    "Switching from `model.predict_classes` to `model.predict_proba` will get us all of the class probabilities. We can combine this with `np.random.choice` to select a given predicted output based on a probability, thereby giving a bit more randomness to our outputs."
   ]
  },
  {
   "cell_type": "code",
   "execution_count": 19,
   "metadata": {},
   "outputs": [],
   "source": [
    "# Test the method with just the first word after the seed text\n",
    "seed_text = \"im feeling chills\"\n",
    "next_words = 100"
   ]
  },
  {
   "cell_type": "code",
   "execution_count": 20,
   "metadata": {
    "colab": {
     "base_uri": "https://localhost:8080/"
    },
    "id": "lZe9gaJeoGVP",
    "outputId": "52c8abf6-3387-4a40-a319-a488b640c163"
   },
   "outputs": [
    {
     "name": "stdout",
     "output_type": "stream",
     "text": [
      "7\n"
     ]
    }
   ],
   "source": [
    "token_list = tokenizer.texts_to_sequences([seed_text])[0]\n",
    "token_list = pad_sequences([token_list], maxlen=max_sequence_len-1, padding='pre')\n",
    "predicted_probs = model.predict(token_list)[0]\n",
    "predicted = np.random.choice([x for x in range(len(predicted_probs))], \n",
    "                             p=predicted_probs)\n",
    "# Running this cell multiple times should get you some variance in output\n",
    "print(predicted)"
   ]
  },
  {
   "cell_type": "code",
   "execution_count": 21,
   "metadata": {},
   "outputs": [],
   "source": [
    "# Use this process for the full output generation\n",
    "seed_text = \"im feeling chills\"\n",
    "next_words = 100"
   ]
  },
  {
   "cell_type": "code",
   "execution_count": 22,
   "metadata": {},
   "outputs": [
    {
     "name": "stdout",
     "output_type": "stream",
     "text": [
      "im feeling chills a man in the rough its so my girl goes worse right promises phone track the children devotion bring misunderstood ground weave shine yeah up be my day with us to show he eternal ways get gone too far together light phone im a way from sunny time single other side heavens wish girls single tiger fault difference walked high what fuckin bay sorrow track emotion regrets diddle diggin diddle nearly kisses hardly plan march chasing phone heh beats ballerina phone on that night if it yes he got so nothin nothin nothin to me it doesnt share of love\n"
     ]
    }
   ],
   "source": [
    "for _ in range(next_words):\n",
    "  token_list = tokenizer.texts_to_sequences([seed_text])[0]\n",
    "  token_list = pad_sequences([token_list], maxlen=max_sequence_len-1, padding='pre')\n",
    "  predicted_probs = model.predict(token_list)[0]\n",
    "  predicted = np.random.choice([x for x in range(len(predicted_probs))],\n",
    "                               p=predicted_probs)\n",
    "  output_word = \"\"\n",
    "  for word, index in tokenizer.word_index.items():\n",
    "    if index == predicted:\n",
    "      output_word = word\n",
    "      break\n",
    "  seed_text += \" \" + output_word\n",
    "print(seed_text)"
   ]
  }
 ],
 "metadata": {
  "accelerator": "GPU",
  "colab": {
   "collapsed_sections": [],
   "include_colab_link": true,
   "name": "l10c04_nlp_optimizing_the_text_generation_model.ipynb",
   "provenance": [],
   "toc_visible": true
  },
  "jupytext": {
   "formats": "ipynb,py:nomarker"
  },
  "kernelspec": {
   "display_name": "Python 3",
   "language": "python",
   "name": "python3"
  },
  "language_info": {
   "codemirror_mode": {
    "name": "ipython",
    "version": 3
   },
   "file_extension": ".py",
   "mimetype": "text/x-python",
   "name": "python",
   "nbconvert_exporter": "python",
   "pygments_lexer": "ipython3",
   "version": "3.8.5"
  }
 },
 "nbformat": 4,
 "nbformat_minor": 4
}
