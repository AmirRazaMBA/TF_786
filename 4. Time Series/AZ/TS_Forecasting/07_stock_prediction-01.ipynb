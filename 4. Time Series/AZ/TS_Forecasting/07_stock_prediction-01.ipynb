{
  "nbformat": 4,
  "nbformat_minor": 0,
  "metadata": {
    "accelerator": "GPU",
    "colab": {
      "name": "07_stock_prediction.ipynb",
      "provenance": [],
      "toc_visible": true
    },
    "kernelspec": {
      "display_name": "Python 3",
      "language": "python",
      "name": "python3"
    },
    "language_info": {
      "codemirror_mode": {
        "name": "ipython",
        "version": 3
      },
      "file_extension": ".py",
      "mimetype": "text/x-python",
      "name": "python",
      "nbconvert_exporter": "python",
      "pygments_lexer": "ipython3",
      "version": "3.8.5"
    }
  },
  "cells": [
    {
      "cell_type": "markdown",
      "metadata": {
        "id": "IC-mh5vfEwuu"
      },
      "source": [
        "### Stock Market Prediction And Forecasting Using Stacked LSTM"
      ]
    },
    {
      "cell_type": "code",
      "metadata": {
        "id": "LlebCpebEwu2"
      },
      "source": [
        "import math\n",
        "import numpy as np\n",
        "import pandas as pd\n",
        "import matplotlib.pyplot as plt\n",
        "import pandas_datareader as pdr\n",
        "import tensorflow as tf\n",
        "\n",
        "from sklearn.metrics import mean_squared_error\n",
        "from tensorflow.keras.preprocessing.sequence import TimeseriesGenerator\n",
        "from tensorflow.keras.models import Sequential\n",
        "from tensorflow.keras.layers import Dense\n",
        "from tensorflow.keras.layers import LSTM"
      ],
      "execution_count": 1,
      "outputs": []
    },
    {
      "cell_type": "code",
      "metadata": {
        "id": "KnRj0GIMEwu3"
      },
      "source": [
        "KEY = \"e46970bde5460c8e6caece2452083771f7320e41\""
      ],
      "execution_count": 2,
      "outputs": []
    },
    {
      "cell_type": "code",
      "metadata": {
        "colab": {
          "base_uri": "https://localhost:8080/"
        },
        "id": "NXIrZNWmEwu4",
        "outputId": "1bb4260b-d60d-42ee-b265-2f013a527569"
      },
      "source": [
        "df_master = pdr.get_data_tiingo('AAPL', api_key = KEY)\n",
        "df_master.to_csv('AAPL.csv')\n",
        "df_master=pd.read_csv('AAPL.csv')\n",
        "df_master.info()"
      ],
      "execution_count": 3,
      "outputs": [
        {
          "output_type": "stream",
          "text": [
            "<class 'pandas.core.frame.DataFrame'>\n",
            "RangeIndex: 1257 entries, 0 to 1256\n",
            "Data columns (total 14 columns):\n",
            " #   Column       Non-Null Count  Dtype  \n",
            "---  ------       --------------  -----  \n",
            " 0   symbol       1257 non-null   object \n",
            " 1   date         1257 non-null   object \n",
            " 2   close        1257 non-null   float64\n",
            " 3   high         1257 non-null   float64\n",
            " 4   low          1257 non-null   float64\n",
            " 5   open         1257 non-null   float64\n",
            " 6   volume       1257 non-null   int64  \n",
            " 7   adjClose     1257 non-null   float64\n",
            " 8   adjHigh      1257 non-null   float64\n",
            " 9   adjLow       1257 non-null   float64\n",
            " 10  adjOpen      1257 non-null   float64\n",
            " 11  adjVolume    1257 non-null   int64  \n",
            " 12  divCash      1257 non-null   float64\n",
            " 13  splitFactor  1257 non-null   float64\n",
            "dtypes: float64(10), int64(2), object(2)\n",
            "memory usage: 137.6+ KB\n"
          ],
          "name": "stdout"
        }
      ]
    },
    {
      "cell_type": "code",
      "metadata": {
        "colab": {
          "base_uri": "https://localhost:8080/",
          "height": 305
        },
        "id": "selOcYqMOlY5",
        "outputId": "ac9486ef-b985-4547-adff-1339e9b60a4f"
      },
      "source": [
        "df_master.head()"
      ],
      "execution_count": 4,
      "outputs": [
        {
          "output_type": "execute_result",
          "data": {
            "text/html": [
              "<div>\n",
              "<style scoped>\n",
              "    .dataframe tbody tr th:only-of-type {\n",
              "        vertical-align: middle;\n",
              "    }\n",
              "\n",
              "    .dataframe tbody tr th {\n",
              "        vertical-align: top;\n",
              "    }\n",
              "\n",
              "    .dataframe thead th {\n",
              "        text-align: right;\n",
              "    }\n",
              "</style>\n",
              "<table border=\"1\" class=\"dataframe\">\n",
              "  <thead>\n",
              "    <tr style=\"text-align: right;\">\n",
              "      <th></th>\n",
              "      <th>symbol</th>\n",
              "      <th>date</th>\n",
              "      <th>close</th>\n",
              "      <th>high</th>\n",
              "      <th>low</th>\n",
              "      <th>open</th>\n",
              "      <th>volume</th>\n",
              "      <th>adjClose</th>\n",
              "      <th>adjHigh</th>\n",
              "      <th>adjLow</th>\n",
              "      <th>adjOpen</th>\n",
              "      <th>adjVolume</th>\n",
              "      <th>divCash</th>\n",
              "      <th>splitFactor</th>\n",
              "    </tr>\n",
              "  </thead>\n",
              "  <tbody>\n",
              "    <tr>\n",
              "      <th>0</th>\n",
              "      <td>AAPL</td>\n",
              "      <td>2016-01-06 00:00:00+00:00</td>\n",
              "      <td>100.70</td>\n",
              "      <td>102.37</td>\n",
              "      <td>99.8700</td>\n",
              "      <td>100.56</td>\n",
              "      <td>68457388</td>\n",
              "      <td>23.320970</td>\n",
              "      <td>23.707723</td>\n",
              "      <td>23.128752</td>\n",
              "      <td>23.288548</td>\n",
              "      <td>273829552</td>\n",
              "      <td>0.0</td>\n",
              "      <td>1.0</td>\n",
              "    </tr>\n",
              "    <tr>\n",
              "      <th>1</th>\n",
              "      <td>AAPL</td>\n",
              "      <td>2016-01-07 00:00:00+00:00</td>\n",
              "      <td>96.45</td>\n",
              "      <td>100.13</td>\n",
              "      <td>96.4300</td>\n",
              "      <td>98.68</td>\n",
              "      <td>81094428</td>\n",
              "      <td>22.336719</td>\n",
              "      <td>23.188965</td>\n",
              "      <td>22.332087</td>\n",
              "      <td>22.853161</td>\n",
              "      <td>324377712</td>\n",
              "      <td>0.0</td>\n",
              "      <td>1.0</td>\n",
              "    </tr>\n",
              "    <tr>\n",
              "      <th>2</th>\n",
              "      <td>AAPL</td>\n",
              "      <td>2016-01-08 00:00:00+00:00</td>\n",
              "      <td>96.96</td>\n",
              "      <td>99.11</td>\n",
              "      <td>96.7600</td>\n",
              "      <td>98.55</td>\n",
              "      <td>70798016</td>\n",
              "      <td>22.454829</td>\n",
              "      <td>22.952744</td>\n",
              "      <td>22.408511</td>\n",
              "      <td>22.823055</td>\n",
              "      <td>283192064</td>\n",
              "      <td>0.0</td>\n",
              "      <td>1.0</td>\n",
              "    </tr>\n",
              "    <tr>\n",
              "      <th>3</th>\n",
              "      <td>AAPL</td>\n",
              "      <td>2016-01-11 00:00:00+00:00</td>\n",
              "      <td>98.53</td>\n",
              "      <td>99.06</td>\n",
              "      <td>97.3400</td>\n",
              "      <td>98.97</td>\n",
              "      <td>49739377</td>\n",
              "      <td>22.818423</td>\n",
              "      <td>22.941165</td>\n",
              "      <td>22.542833</td>\n",
              "      <td>22.920322</td>\n",
              "      <td>198957508</td>\n",
              "      <td>0.0</td>\n",
              "      <td>1.0</td>\n",
              "    </tr>\n",
              "    <tr>\n",
              "      <th>4</th>\n",
              "      <td>AAPL</td>\n",
              "      <td>2016-01-12 00:00:00+00:00</td>\n",
              "      <td>99.96</td>\n",
              "      <td>100.69</td>\n",
              "      <td>98.8399</td>\n",
              "      <td>100.55</td>\n",
              "      <td>49154227</td>\n",
              "      <td>23.149595</td>\n",
              "      <td>23.318654</td>\n",
              "      <td>22.890192</td>\n",
              "      <td>23.286232</td>\n",
              "      <td>196616908</td>\n",
              "      <td>0.0</td>\n",
              "      <td>1.0</td>\n",
              "    </tr>\n",
              "  </tbody>\n",
              "</table>\n",
              "</div>"
            ],
            "text/plain": [
              "  symbol                       date   close  ...  adjVolume  divCash  splitFactor\n",
              "0   AAPL  2016-01-06 00:00:00+00:00  100.70  ...  273829552      0.0          1.0\n",
              "1   AAPL  2016-01-07 00:00:00+00:00   96.45  ...  324377712      0.0          1.0\n",
              "2   AAPL  2016-01-08 00:00:00+00:00   96.96  ...  283192064      0.0          1.0\n",
              "3   AAPL  2016-01-11 00:00:00+00:00   98.53  ...  198957508      0.0          1.0\n",
              "4   AAPL  2016-01-12 00:00:00+00:00   99.96  ...  196616908      0.0          1.0\n",
              "\n",
              "[5 rows x 14 columns]"
            ]
          },
          "metadata": {
            "tags": []
          },
          "execution_count": 4
        }
      ]
    },
    {
      "cell_type": "code",
      "metadata": {
        "colab": {
          "base_uri": "https://localhost:8080/",
          "height": 305
        },
        "id": "PgPnjBXBEwu6",
        "outputId": "a34d6a8a-a71b-4fc2-fde1-ae7ab7f972c6"
      },
      "source": [
        "df_master.tail()"
      ],
      "execution_count": 5,
      "outputs": [
        {
          "output_type": "execute_result",
          "data": {
            "text/html": [
              "<div>\n",
              "<style scoped>\n",
              "    .dataframe tbody tr th:only-of-type {\n",
              "        vertical-align: middle;\n",
              "    }\n",
              "\n",
              "    .dataframe tbody tr th {\n",
              "        vertical-align: top;\n",
              "    }\n",
              "\n",
              "    .dataframe thead th {\n",
              "        text-align: right;\n",
              "    }\n",
              "</style>\n",
              "<table border=\"1\" class=\"dataframe\">\n",
              "  <thead>\n",
              "    <tr style=\"text-align: right;\">\n",
              "      <th></th>\n",
              "      <th>symbol</th>\n",
              "      <th>date</th>\n",
              "      <th>close</th>\n",
              "      <th>high</th>\n",
              "      <th>low</th>\n",
              "      <th>open</th>\n",
              "      <th>volume</th>\n",
              "      <th>adjClose</th>\n",
              "      <th>adjHigh</th>\n",
              "      <th>adjLow</th>\n",
              "      <th>adjOpen</th>\n",
              "      <th>adjVolume</th>\n",
              "      <th>divCash</th>\n",
              "      <th>splitFactor</th>\n",
              "    </tr>\n",
              "  </thead>\n",
              "  <tbody>\n",
              "    <tr>\n",
              "      <th>1252</th>\n",
              "      <td>AAPL</td>\n",
              "      <td>2020-12-24 00:00:00+00:00</td>\n",
              "      <td>131.97</td>\n",
              "      <td>133.460</td>\n",
              "      <td>131.1000</td>\n",
              "      <td>131.32</td>\n",
              "      <td>54930064</td>\n",
              "      <td>131.97</td>\n",
              "      <td>133.460</td>\n",
              "      <td>131.1000</td>\n",
              "      <td>131.32</td>\n",
              "      <td>54930064</td>\n",
              "      <td>0.0</td>\n",
              "      <td>1.0</td>\n",
              "    </tr>\n",
              "    <tr>\n",
              "      <th>1253</th>\n",
              "      <td>AAPL</td>\n",
              "      <td>2020-12-28 00:00:00+00:00</td>\n",
              "      <td>136.69</td>\n",
              "      <td>137.340</td>\n",
              "      <td>133.5100</td>\n",
              "      <td>133.99</td>\n",
              "      <td>123124632</td>\n",
              "      <td>136.69</td>\n",
              "      <td>137.340</td>\n",
              "      <td>133.5100</td>\n",
              "      <td>133.99</td>\n",
              "      <td>123124632</td>\n",
              "      <td>0.0</td>\n",
              "      <td>1.0</td>\n",
              "    </tr>\n",
              "    <tr>\n",
              "      <th>1254</th>\n",
              "      <td>AAPL</td>\n",
              "      <td>2020-12-29 00:00:00+00:00</td>\n",
              "      <td>134.87</td>\n",
              "      <td>138.789</td>\n",
              "      <td>134.3409</td>\n",
              "      <td>138.05</td>\n",
              "      <td>121047324</td>\n",
              "      <td>134.87</td>\n",
              "      <td>138.789</td>\n",
              "      <td>134.3409</td>\n",
              "      <td>138.05</td>\n",
              "      <td>121047324</td>\n",
              "      <td>0.0</td>\n",
              "      <td>1.0</td>\n",
              "    </tr>\n",
              "    <tr>\n",
              "      <th>1255</th>\n",
              "      <td>AAPL</td>\n",
              "      <td>2020-12-30 00:00:00+00:00</td>\n",
              "      <td>133.72</td>\n",
              "      <td>135.990</td>\n",
              "      <td>133.4000</td>\n",
              "      <td>135.58</td>\n",
              "      <td>96452124</td>\n",
              "      <td>133.72</td>\n",
              "      <td>135.990</td>\n",
              "      <td>133.4000</td>\n",
              "      <td>135.58</td>\n",
              "      <td>96452124</td>\n",
              "      <td>0.0</td>\n",
              "      <td>1.0</td>\n",
              "    </tr>\n",
              "    <tr>\n",
              "      <th>1256</th>\n",
              "      <td>AAPL</td>\n",
              "      <td>2020-12-31 00:00:00+00:00</td>\n",
              "      <td>132.69</td>\n",
              "      <td>134.740</td>\n",
              "      <td>131.7200</td>\n",
              "      <td>134.08</td>\n",
              "      <td>99116586</td>\n",
              "      <td>132.69</td>\n",
              "      <td>134.740</td>\n",
              "      <td>131.7200</td>\n",
              "      <td>134.08</td>\n",
              "      <td>99116586</td>\n",
              "      <td>0.0</td>\n",
              "      <td>1.0</td>\n",
              "    </tr>\n",
              "  </tbody>\n",
              "</table>\n",
              "</div>"
            ],
            "text/plain": [
              "     symbol                       date   close  ...  adjVolume  divCash  splitFactor\n",
              "1252   AAPL  2020-12-24 00:00:00+00:00  131.97  ...   54930064      0.0          1.0\n",
              "1253   AAPL  2020-12-28 00:00:00+00:00  136.69  ...  123124632      0.0          1.0\n",
              "1254   AAPL  2020-12-29 00:00:00+00:00  134.87  ...  121047324      0.0          1.0\n",
              "1255   AAPL  2020-12-30 00:00:00+00:00  133.72  ...   96452124      0.0          1.0\n",
              "1256   AAPL  2020-12-31 00:00:00+00:00  132.69  ...   99116586      0.0          1.0\n",
              "\n",
              "[5 rows x 14 columns]"
            ]
          },
          "metadata": {
            "tags": []
          },
          "execution_count": 5
        }
      ]
    },
    {
      "cell_type": "code",
      "metadata": {
        "id": "dQB4m5wSEwu6"
      },
      "source": [
        "#df1 = df_master.reset_index()['close']"
      ],
      "execution_count": 6,
      "outputs": []
    },
    {
      "cell_type": "code",
      "metadata": {
        "id": "qFe3q3q_OlY7"
      },
      "source": [
        "df = df_master[['date','close']].copy()"
      ],
      "execution_count": 7,
      "outputs": []
    },
    {
      "cell_type": "code",
      "metadata": {
        "colab": {
          "base_uri": "https://localhost:8080/"
        },
        "id": "fftolsL3OlY7",
        "outputId": "0c98e95a-8911-4647-c9bc-a4bd24a976d8"
      },
      "source": [
        "df.info()"
      ],
      "execution_count": 8,
      "outputs": [
        {
          "output_type": "stream",
          "text": [
            "<class 'pandas.core.frame.DataFrame'>\n",
            "RangeIndex: 1257 entries, 0 to 1256\n",
            "Data columns (total 2 columns):\n",
            " #   Column  Non-Null Count  Dtype  \n",
            "---  ------  --------------  -----  \n",
            " 0   date    1257 non-null   object \n",
            " 1   close   1257 non-null   float64\n",
            "dtypes: float64(1), object(1)\n",
            "memory usage: 19.8+ KB\n"
          ],
          "name": "stdout"
        }
      ]
    },
    {
      "cell_type": "code",
      "metadata": {
        "id": "a5s3ZZCUOlY7"
      },
      "source": [
        "df['date']= pd.to_datetime(df['date'])"
      ],
      "execution_count": 9,
      "outputs": []
    },
    {
      "cell_type": "code",
      "metadata": {
        "colab": {
          "base_uri": "https://localhost:8080/"
        },
        "id": "Ty3IGHpvOlY8",
        "outputId": "67f14e57-f068-487a-9cdc-b3af21391793"
      },
      "source": [
        "df['date'].dt.strftime('%Y-%m-%d')"
      ],
      "execution_count": 10,
      "outputs": [
        {
          "output_type": "execute_result",
          "data": {
            "text/plain": [
              "0       2016-01-06\n",
              "1       2016-01-07\n",
              "2       2016-01-08\n",
              "3       2016-01-11\n",
              "4       2016-01-12\n",
              "           ...    \n",
              "1252    2020-12-24\n",
              "1253    2020-12-28\n",
              "1254    2020-12-29\n",
              "1255    2020-12-30\n",
              "1256    2020-12-31\n",
              "Name: date, Length: 1257, dtype: object"
            ]
          },
          "metadata": {
            "tags": []
          },
          "execution_count": 10
        }
      ]
    },
    {
      "cell_type": "code",
      "metadata": {
        "id": "4vqag_XjOlY8"
      },
      "source": [
        "df.set_index('date', inplace = True)"
      ],
      "execution_count": 11,
      "outputs": []
    },
    {
      "cell_type": "code",
      "metadata": {
        "colab": {
          "base_uri": "https://localhost:8080/",
          "height": 482
        },
        "id": "ay_dQMawEwu7",
        "outputId": "dfff96e2-4f19-4097-8fbb-762c021c9b60"
      },
      "source": [
        "df.plot(figsize=(12,8))"
      ],
      "execution_count": 12,
      "outputs": [
        {
          "output_type": "execute_result",
          "data": {
            "text/plain": [
              "<matplotlib.axes._subplots.AxesSubplot at 0x7f2821d647f0>"
            ]
          },
          "metadata": {
            "tags": []
          },
          "execution_count": 12
        },
        {
          "output_type": "display_data",
          "data": {
            "image/png": "[encoded data removed]",
            "text/plain": [
              "<Figure size 864x576 with 1 Axes>"
            ]
          },
          "metadata": {
            "tags": [],
            "needs_background": "light"
          }
        }
      ]
    },
    {
      "cell_type": "code",
      "metadata": {
        "colab": {
          "base_uri": "https://localhost:8080/"
        },
        "id": "R_cuw6BsOlZB",
        "outputId": "da3a7c6f-152c-46d9-9031-87d25bf9f4c3"
      },
      "source": [
        "len(df)"
      ],
      "execution_count": 13,
      "outputs": [
        {
          "output_type": "execute_result",
          "data": {
            "text/plain": [
              "1257"
            ]
          },
          "metadata": {
            "tags": []
          },
          "execution_count": 13
        }
      ]
    },
    {
      "cell_type": "code",
      "metadata": {
        "id": "WZ5Oj096OlZB"
      },
      "source": [
        "test_size =  int(len(df)*0.35)\n",
        "test_ind = len(df)- test_size"
      ],
      "execution_count": 14,
      "outputs": []
    },
    {
      "cell_type": "code",
      "metadata": {
        "colab": {
          "base_uri": "https://localhost:8080/"
        },
        "id": "sojDtaA3OlZC",
        "outputId": "650636ec-879b-4c4d-eee8-f7c7b1ad055a"
      },
      "source": [
        "test_size"
      ],
      "execution_count": 15,
      "outputs": [
        {
          "output_type": "execute_result",
          "data": {
            "text/plain": [
              "439"
            ]
          },
          "metadata": {
            "tags": []
          },
          "execution_count": 15
        }
      ]
    },
    {
      "cell_type": "code",
      "metadata": {
        "id": "XvsRr42xOlZD"
      },
      "source": [
        "train = df.iloc[:test_ind]\n",
        "test = df.iloc[test_ind:]"
      ],
      "execution_count": 16,
      "outputs": []
    },
    {
      "cell_type": "code",
      "metadata": {
        "id": "uooxkEcrzV2T",
        "outputId": "12ad1b84-c7cb-4820-d69d-95ff04afd7e1",
        "colab": {
          "base_uri": "https://localhost:8080/"
        }
      },
      "source": [
        "print(len(train))\n",
        "print(len(test))"
      ],
      "execution_count": 17,
      "outputs": [
        {
          "output_type": "stream",
          "text": [
            "818\n",
            "439\n"
          ],
          "name": "stdout"
        }
      ]
    },
    {
      "cell_type": "code",
      "metadata": {
        "id": "rnYF6h4bzV2T"
      },
      "source": [
        "from sklearn.preprocessing import MinMaxScaler\n",
        "scaler = MinMaxScaler()\n",
        "scaler.fit(train)\n",
        "train = scaler.transform(train)\n",
        "test = scaler.transform(test)"
      ],
      "execution_count": 18,
      "outputs": []
    },
    {
      "cell_type": "code",
      "metadata": {
        "id": "99oQxKuxOlZE"
      },
      "source": [
        "n_input = 100\n",
        "n_features = 1\n",
        "n_batch_size = 1\n",
        "\n",
        "train_generator = TimeseriesGenerator(train, train, \n",
        "                                length = n_input, \n",
        "                                batch_size = n_batch_size)\n",
        "\n",
        "test_generator = TimeseriesGenerator(test, test, \n",
        "                                           length = n_input, \n",
        "                                           batch_size = n_batch_size)"
      ],
      "execution_count": 19,
      "outputs": []
    },
    {
      "cell_type": "code",
      "metadata": {
        "colab": {
          "base_uri": "https://localhost:8080/"
        },
        "id": "R5mIVCzfEwu9",
        "outputId": "07d3a118-2ba5-4493-ad4b-46b0a1223f89"
      },
      "source": [
        "print(len(train_generator))\n",
        "print(len(test_generator))"
      ],
      "execution_count": 20,
      "outputs": [
        {
          "output_type": "stream",
          "text": [
            "718\n",
            "339\n"
          ],
          "name": "stdout"
        }
      ]
    },
    {
      "cell_type": "code",
      "metadata": {
        "colab": {
          "base_uri": "https://localhost:8080/"
        },
        "id": "a-B_cijSEwu9",
        "outputId": "d041ce00-4d02-4ca4-b085-ab66139dc1cf"
      },
      "source": [
        "model=Sequential()\n",
        "model.add(LSTM(50,return_sequences=True,input_shape = (n_input,n_features)))\n",
        "model.add(LSTM(50,return_sequences=True))\n",
        "model.add(LSTM(50))\n",
        "model.add(Dense(1))\n",
        "model.compile(loss='mean_squared_error',optimizer='adam')\n",
        "model.summary()"
      ],
      "execution_count": 21,
      "outputs": [
        {
          "output_type": "stream",
          "text": [
            "Model: \"sequential\"\n",
            "_________________________________________________________________\n",
            "Layer (type)                 Output Shape              Param #   \n",
            "=================================================================\n",
            "lstm (LSTM)                  (None, 100, 50)           10400     \n",
            "_________________________________________________________________\n",
            "lstm_1 (LSTM)                (None, 100, 50)           20200     \n",
            "_________________________________________________________________\n",
            "lstm_2 (LSTM)                (None, 50)                20200     \n",
            "_________________________________________________________________\n",
            "dense (Dense)                (None, 1)                 51        \n",
            "=================================================================\n",
            "Total params: 50,851\n",
            "Trainable params: 50,851\n",
            "Non-trainable params: 0\n",
            "_________________________________________________________________\n"
          ],
          "name": "stdout"
        }
      ]
    },
    {
      "cell_type": "code",
      "metadata": {
        "colab": {
          "base_uri": "https://localhost:8080/"
        },
        "id": "cYY7dGwcEwu-",
        "outputId": "aaebab92-980b-436f-ddcd-1bb562461e50"
      },
      "source": [
        "model.fit(train_generator, epochs = 100 ,\n",
        "            validation_data = test_generator)"
      ],
      "execution_count": 22,
      "outputs": [
        {
          "output_type": "stream",
          "text": [
            "Epoch 1/100\n",
            "718/718 [==============================] - 46s 50ms/step - loss: 0.0172 - val_loss: 0.1837\n",
            "Epoch 2/100\n",
            "718/718 [==============================] - 34s 48ms/step - loss: 0.0026 - val_loss: 0.1161\n",
            "Epoch 3/100\n",
            "718/718 [==============================] - 34s 48ms/step - loss: 0.0024 - val_loss: 0.1927\n",
            "Epoch 4/100\n",
            "718/718 [==============================] - 34s 48ms/step - loss: 0.0023 - val_loss: 0.0505\n",
            "Epoch 5/100\n",
            "718/718 [==============================] - 34s 48ms/step - loss: 0.0015 - val_loss: 0.0376\n",
            "Epoch 6/100\n",
            "718/718 [==============================] - 34s 47ms/step - loss: 0.0011 - val_loss: 0.0342\n",
            "Epoch 7/100\n",
            "718/718 [==============================] - 34s 47ms/step - loss: 7.5321e-04 - val_loss: 0.0329\n",
            "Epoch 8/100\n",
            "718/718 [==============================] - 34s 47ms/step - loss: 9.2413e-04 - val_loss: 0.0695\n",
            "Epoch 9/100\n",
            "718/718 [==============================] - 34s 47ms/step - loss: 7.4371e-04 - val_loss: 0.0464\n",
            "Epoch 10/100\n",
            "718/718 [==============================] - 34s 47ms/step - loss: 8.2929e-04 - val_loss: 0.0449\n",
            "Epoch 11/100\n",
            "718/718 [==============================] - 34s 47ms/step - loss: 8.1631e-04 - val_loss: 0.0878\n",
            "Epoch 12/100\n",
            "718/718 [==============================] - 34s 47ms/step - loss: 6.7585e-04 - val_loss: 0.0526\n",
            "Epoch 13/100\n",
            "718/718 [==============================] - 34s 47ms/step - loss: 5.3096e-04 - val_loss: 0.0817\n",
            "Epoch 14/100\n",
            "718/718 [==============================] - 34s 47ms/step - loss: 5.8612e-04 - val_loss: 0.0512\n",
            "Epoch 15/100\n",
            "718/718 [==============================] - 34s 47ms/step - loss: 8.7995e-04 - val_loss: 0.0674\n",
            "Epoch 16/100\n",
            "718/718 [==============================] - 34s 47ms/step - loss: 6.0873e-04 - val_loss: 0.0648\n",
            "Epoch 17/100\n",
            "718/718 [==============================] - 34s 47ms/step - loss: 6.0419e-04 - val_loss: 0.0876\n",
            "Epoch 18/100\n",
            "718/718 [==============================] - 34s 47ms/step - loss: 4.7698e-04 - val_loss: 0.0687\n",
            "Epoch 19/100\n",
            "718/718 [==============================] - 34s 47ms/step - loss: 5.0984e-04 - val_loss: 0.0767\n",
            "Epoch 20/100\n",
            "718/718 [==============================] - 34s 47ms/step - loss: 5.0567e-04 - val_loss: 0.0981\n",
            "Epoch 21/100\n",
            "718/718 [==============================] - 34s 47ms/step - loss: 5.2308e-04 - val_loss: 0.0693\n",
            "Epoch 22/100\n",
            "718/718 [==============================] - 34s 47ms/step - loss: 6.0937e-04 - val_loss: 0.0654\n",
            "Epoch 23/100\n",
            "718/718 [==============================] - 34s 47ms/step - loss: 5.3963e-04 - val_loss: 0.0989\n",
            "Epoch 24/100\n",
            "718/718 [==============================] - 34s 47ms/step - loss: 5.1052e-04 - val_loss: 0.0884\n",
            "Epoch 25/100\n",
            "718/718 [==============================] - 34s 47ms/step - loss: 5.7262e-04 - val_loss: 0.0982\n",
            "Epoch 26/100\n",
            "718/718 [==============================] - 34s 47ms/step - loss: 4.2899e-04 - val_loss: 0.0834\n",
            "Epoch 27/100\n",
            "718/718 [==============================] - 34s 47ms/step - loss: 5.1951e-04 - val_loss: 0.0742\n",
            "Epoch 28/100\n",
            "718/718 [==============================] - 34s 47ms/step - loss: 5.4952e-04 - val_loss: 0.0872\n",
            "Epoch 29/100\n",
            "718/718 [==============================] - 34s 47ms/step - loss: 5.8190e-04 - val_loss: 0.0795\n",
            "Epoch 30/100\n",
            "718/718 [==============================] - 34s 47ms/step - loss: 5.1652e-04 - val_loss: 0.0841\n",
            "Epoch 31/100\n",
            "718/718 [==============================] - 34s 47ms/step - loss: 6.3645e-04 - val_loss: 0.0822\n",
            "Epoch 32/100\n",
            "718/718 [==============================] - 34s 47ms/step - loss: 5.7624e-04 - val_loss: 0.0964\n",
            "Epoch 33/100\n",
            "718/718 [==============================] - 34s 47ms/step - loss: 6.3558e-04 - val_loss: 0.0898\n",
            "Epoch 34/100\n",
            "718/718 [==============================] - 34s 47ms/step - loss: 4.7732e-04 - val_loss: 0.1025\n",
            "Epoch 35/100\n",
            "718/718 [==============================] - 34s 47ms/step - loss: 4.7967e-04 - val_loss: 0.0882\n",
            "Epoch 36/100\n",
            "718/718 [==============================] - 34s 47ms/step - loss: 4.6458e-04 - val_loss: 0.0846\n",
            "Epoch 37/100\n",
            "718/718 [==============================] - 34s 47ms/step - loss: 4.4180e-04 - val_loss: 0.0974\n",
            "Epoch 38/100\n",
            "718/718 [==============================] - 34s 47ms/step - loss: 4.5339e-04 - val_loss: 0.1158\n",
            "Epoch 39/100\n",
            "718/718 [==============================] - 34s 47ms/step - loss: 4.9457e-04 - val_loss: 0.1048\n",
            "Epoch 40/100\n",
            "718/718 [==============================] - 34s 47ms/step - loss: 4.9563e-04 - val_loss: 0.1187\n",
            "Epoch 41/100\n",
            "718/718 [==============================] - 34s 47ms/step - loss: 5.9285e-04 - val_loss: 0.0936\n",
            "Epoch 42/100\n",
            "718/718 [==============================] - 34s 47ms/step - loss: 4.1476e-04 - val_loss: 0.0993\n",
            "Epoch 43/100\n",
            "718/718 [==============================] - 34s 47ms/step - loss: 4.8469e-04 - val_loss: 0.0909\n",
            "Epoch 44/100\n",
            "718/718 [==============================] - 34s 47ms/step - loss: 5.4709e-04 - val_loss: 0.1042\n",
            "Epoch 45/100\n",
            "718/718 [==============================] - 34s 47ms/step - loss: 5.0404e-04 - val_loss: 0.1137\n",
            "Epoch 46/100\n",
            "718/718 [==============================] - 34s 47ms/step - loss: 4.5335e-04 - val_loss: 0.1334\n",
            "Epoch 47/100\n",
            "718/718 [==============================] - 33s 47ms/step - loss: 4.4519e-04 - val_loss: 0.1147\n",
            "Epoch 48/100\n",
            "718/718 [==============================] - 33s 47ms/step - loss: 5.0592e-04 - val_loss: 0.1057\n",
            "Epoch 49/100\n",
            "718/718 [==============================] - 34s 47ms/step - loss: 3.6373e-04 - val_loss: 0.1093\n",
            "Epoch 50/100\n",
            "718/718 [==============================] - 34s 47ms/step - loss: 4.0583e-04 - val_loss: 0.1221\n",
            "Epoch 51/100\n",
            "718/718 [==============================] - 33s 47ms/step - loss: 5.2429e-04 - val_loss: 0.1081\n",
            "Epoch 52/100\n",
            "718/718 [==============================] - 33s 47ms/step - loss: 4.5153e-04 - val_loss: 0.1153\n",
            "Epoch 53/100\n",
            "718/718 [==============================] - 33s 47ms/step - loss: 4.2244e-04 - val_loss: 0.1542\n",
            "Epoch 54/100\n",
            "718/718 [==============================] - 33s 47ms/step - loss: 4.7449e-04 - val_loss: 0.0975\n",
            "Epoch 55/100\n",
            "718/718 [==============================] - 33s 46ms/step - loss: 4.5759e-04 - val_loss: 0.0968\n",
            "Epoch 56/100\n",
            "718/718 [==============================] - 33s 47ms/step - loss: 4.3469e-04 - val_loss: 0.1077\n",
            "Epoch 57/100\n",
            "718/718 [==============================] - 33s 46ms/step - loss: 3.6777e-04 - val_loss: 0.1165\n",
            "Epoch 58/100\n",
            "718/718 [==============================] - 34s 47ms/step - loss: 4.4421e-04 - val_loss: 0.0957\n",
            "Epoch 59/100\n",
            "718/718 [==============================] - 33s 46ms/step - loss: 5.1178e-04 - val_loss: 0.1183\n",
            "Epoch 60/100\n",
            "718/718 [==============================] - 33s 46ms/step - loss: 4.0532e-04 - val_loss: 0.1310\n",
            "Epoch 61/100\n",
            "718/718 [==============================] - 33s 46ms/step - loss: 4.5959e-04 - val_loss: 0.1042\n",
            "Epoch 62/100\n",
            "718/718 [==============================] - 33s 47ms/step - loss: 5.7760e-04 - val_loss: 0.1096\n",
            "Epoch 63/100\n",
            "718/718 [==============================] - 33s 47ms/step - loss: 4.6158e-04 - val_loss: 0.1141\n",
            "Epoch 64/100\n",
            "718/718 [==============================] - 33s 47ms/step - loss: 4.7186e-04 - val_loss: 0.1257\n",
            "Epoch 65/100\n",
            "718/718 [==============================] - 33s 47ms/step - loss: 4.4358e-04 - val_loss: 0.1251\n",
            "Epoch 66/100\n",
            "718/718 [==============================] - 33s 46ms/step - loss: 3.9539e-04 - val_loss: 0.1237\n",
            "Epoch 67/100\n",
            "718/718 [==============================] - 33s 47ms/step - loss: 5.3157e-04 - val_loss: 0.1066\n",
            "Epoch 68/100\n",
            "718/718 [==============================] - 33s 47ms/step - loss: 4.3191e-04 - val_loss: 0.1135\n",
            "Epoch 69/100\n",
            "718/718 [==============================] - 33s 47ms/step - loss: 3.8027e-04 - val_loss: 0.1146\n",
            "Epoch 70/100\n",
            "718/718 [==============================] - 33s 47ms/step - loss: 3.9317e-04 - val_loss: 0.1192\n",
            "Epoch 71/100\n",
            "718/718 [==============================] - 34s 47ms/step - loss: 4.2221e-04 - val_loss: 0.1184\n",
            "Epoch 72/100\n",
            "718/718 [==============================] - 34s 47ms/step - loss: 3.9312e-04 - val_loss: 0.1312\n",
            "Epoch 73/100\n",
            "718/718 [==============================] - 34s 47ms/step - loss: 3.3563e-04 - val_loss: 0.1270\n",
            "Epoch 74/100\n",
            "718/718 [==============================] - 33s 47ms/step - loss: 4.1579e-04 - val_loss: 0.0897\n",
            "Epoch 75/100\n",
            "718/718 [==============================] - 33s 46ms/step - loss: 4.4889e-04 - val_loss: 0.1157\n",
            "Epoch 76/100\n",
            "718/718 [==============================] - 33s 47ms/step - loss: 3.9570e-04 - val_loss: 0.1244\n",
            "Epoch 77/100\n",
            "718/718 [==============================] - 34s 47ms/step - loss: 4.0145e-04 - val_loss: 0.1159\n",
            "Epoch 78/100\n",
            "718/718 [==============================] - 34s 47ms/step - loss: 3.8243e-04 - val_loss: 0.1064\n",
            "Epoch 79/100\n",
            "718/718 [==============================] - 34s 47ms/step - loss: 4.2309e-04 - val_loss: 0.1280\n",
            "Epoch 80/100\n",
            "718/718 [==============================] - 34s 47ms/step - loss: 4.0896e-04 - val_loss: 0.1281\n",
            "Epoch 81/100\n",
            "718/718 [==============================] - 34s 47ms/step - loss: 4.2912e-04 - val_loss: 0.1207\n",
            "Epoch 82/100\n",
            "718/718 [==============================] - 34s 47ms/step - loss: 4.8007e-04 - val_loss: 0.1246\n",
            "Epoch 83/100\n",
            "718/718 [==============================] - 34s 47ms/step - loss: 4.1850e-04 - val_loss: 0.1167\n",
            "Epoch 84/100\n",
            "718/718 [==============================] - 34s 47ms/step - loss: 3.4830e-04 - val_loss: 0.1301\n",
            "Epoch 85/100\n",
            "718/718 [==============================] - 33s 47ms/step - loss: 4.2124e-04 - val_loss: 0.1203\n",
            "Epoch 86/100\n",
            "718/718 [==============================] - 34s 47ms/step - loss: 4.4045e-04 - val_loss: 0.1124\n",
            "Epoch 87/100\n",
            "718/718 [==============================] - 34s 47ms/step - loss: 3.7337e-04 - val_loss: 0.1197\n",
            "Epoch 88/100\n",
            "718/718 [==============================] - 34s 47ms/step - loss: 4.0719e-04 - val_loss: 0.1352\n",
            "Epoch 89/100\n",
            "718/718 [==============================] - 34s 47ms/step - loss: 3.8513e-04 - val_loss: 0.1207\n",
            "Epoch 90/100\n",
            "718/718 [==============================] - 34s 47ms/step - loss: 3.6725e-04 - val_loss: 0.1132\n",
            "Epoch 91/100\n",
            "718/718 [==============================] - 33s 46ms/step - loss: 3.5583e-04 - val_loss: 0.1188\n",
            "Epoch 92/100\n",
            "718/718 [==============================] - 33s 47ms/step - loss: 4.2220e-04 - val_loss: 0.1323\n",
            "Epoch 93/100\n",
            "718/718 [==============================] - 34s 47ms/step - loss: 4.8543e-04 - val_loss: 0.1264\n",
            "Epoch 94/100\n",
            "718/718 [==============================] - 34s 47ms/step - loss: 3.9317e-04 - val_loss: 0.1225\n",
            "Epoch 95/100\n",
            "718/718 [==============================] - 34s 47ms/step - loss: 3.6415e-04 - val_loss: 0.1437\n",
            "Epoch 96/100\n",
            "718/718 [==============================] - 34s 47ms/step - loss: 5.2538e-04 - val_loss: 0.1315\n",
            "Epoch 97/100\n",
            "718/718 [==============================] - 34s 47ms/step - loss: 4.8775e-04 - val_loss: 0.1120\n",
            "Epoch 98/100\n",
            "718/718 [==============================] - 34s 47ms/step - loss: 4.2144e-04 - val_loss: 0.1324\n",
            "Epoch 99/100\n",
            "718/718 [==============================] - 34s 47ms/step - loss: 4.7902e-04 - val_loss: 0.1448\n",
            "Epoch 100/100\n",
            "718/718 [==============================] - 34s 47ms/step - loss: 4.4546e-04 - val_loss: 0.1479\n"
          ],
          "name": "stdout"
        },
        {
          "output_type": "execute_result",
          "data": {
            "text/plain": [
              "<tensorflow.python.keras.callbacks.History at 0x7f27cd5f1d68>"
            ]
          },
          "metadata": {
            "tags": []
          },
          "execution_count": 22
        }
      ]
    },
    {
      "cell_type": "code",
      "metadata": {
        "colab": {
          "base_uri": "https://localhost:8080/",
          "height": 284
        },
        "id": "pkCSkq--Ewu-",
        "outputId": "6e8bc96d-f107-4a8a-8a4d-ad53ea30bc42"
      },
      "source": [
        "loss = pd.DataFrame(model.history.history)\n",
        "loss.plot()"
      ],
      "execution_count": 23,
      "outputs": [
        {
          "output_type": "execute_result",
          "data": {
            "text/plain": [
              "<matplotlib.axes._subplots.AxesSubplot at 0x7f27cc4052b0>"
            ]
          },
          "metadata": {
            "tags": []
          },
          "execution_count": 23
        },
        {
          "output_type": "display_data",
          "data": {
            "image/png": "[encoded data removed]",
            "text/plain": [
              "<Figure size 432x288 with 1 Axes>"
            ]
          },
          "metadata": {
            "tags": [],
            "needs_background": "light"
          }
        }
      ]
    },
    {
      "cell_type": "code",
      "metadata": {
        "id": "sbrQXBPTzV2V"
      },
      "source": [
        "pred_list = []\n",
        "\n",
        "batch = train[-n_input:].reshape((1, n_input, n_features))   # stepping stone value\n",
        "\n",
        "for i in range(n_input):   \n",
        "    pred_list.append(model.predict(batch)[0])                # predict and save in list\n",
        "    batch = np.append(batch[:,1:,:],[[pred_list[i]]],axis=1) # next value for prediction"
      ],
      "execution_count": 24,
      "outputs": []
    },
    {
      "cell_type": "code",
      "metadata": {
        "id": "8zX7KToBzV2V"
      },
      "source": [
        "df_predict = pd.DataFrame(scaler.inverse_transform(pred_list),\n",
        "                          index=df[-n_input:].index, \n",
        "                          columns=['Prediction'])"
      ],
      "execution_count": 25,
      "outputs": []
    },
    {
      "cell_type": "code",
      "metadata": {
        "id": "E8m6a-smzV2W",
        "outputId": "1e3ad45b-8e71-4eb3-927e-a4ec6504e974",
        "colab": {
          "base_uri": "https://localhost:8080/",
          "height": 438
        }
      },
      "source": [
        "df_predict"
      ],
      "execution_count": 26,
      "outputs": [
        {
          "output_type": "execute_result",
          "data": {
            "text/html": [
              "<div>\n",
              "<style scoped>\n",
              "    .dataframe tbody tr th:only-of-type {\n",
              "        vertical-align: middle;\n",
              "    }\n",
              "\n",
              "    .dataframe tbody tr th {\n",
              "        vertical-align: top;\n",
              "    }\n",
              "\n",
              "    .dataframe thead th {\n",
              "        text-align: right;\n",
              "    }\n",
              "</style>\n",
              "<table border=\"1\" class=\"dataframe\">\n",
              "  <thead>\n",
              "    <tr style=\"text-align: right;\">\n",
              "      <th></th>\n",
              "      <th>Prediction</th>\n",
              "    </tr>\n",
              "    <tr>\n",
              "      <th>date</th>\n",
              "      <th></th>\n",
              "    </tr>\n",
              "  </thead>\n",
              "  <tbody>\n",
              "    <tr>\n",
              "      <th>2020-08-11 00:00:00+00:00</th>\n",
              "      <td>196.836149</td>\n",
              "    </tr>\n",
              "    <tr>\n",
              "      <th>2020-08-12 00:00:00+00:00</th>\n",
              "      <td>196.634146</td>\n",
              "    </tr>\n",
              "    <tr>\n",
              "      <th>2020-08-13 00:00:00+00:00</th>\n",
              "      <td>196.558412</td>\n",
              "    </tr>\n",
              "    <tr>\n",
              "      <th>2020-08-14 00:00:00+00:00</th>\n",
              "      <td>196.547582</td>\n",
              "    </tr>\n",
              "    <tr>\n",
              "      <th>2020-08-17 00:00:00+00:00</th>\n",
              "      <td>196.516291</td>\n",
              "    </tr>\n",
              "    <tr>\n",
              "      <th>...</th>\n",
              "      <td>...</td>\n",
              "    </tr>\n",
              "    <tr>\n",
              "      <th>2020-12-24 00:00:00+00:00</th>\n",
              "      <td>185.071207</td>\n",
              "    </tr>\n",
              "    <tr>\n",
              "      <th>2020-12-28 00:00:00+00:00</th>\n",
              "      <td>185.081885</td>\n",
              "    </tr>\n",
              "    <tr>\n",
              "      <th>2020-12-29 00:00:00+00:00</th>\n",
              "      <td>185.093340</td>\n",
              "    </tr>\n",
              "    <tr>\n",
              "      <th>2020-12-30 00:00:00+00:00</th>\n",
              "      <td>185.105488</td>\n",
              "    </tr>\n",
              "    <tr>\n",
              "      <th>2020-12-31 00:00:00+00:00</th>\n",
              "      <td>185.118244</td>\n",
              "    </tr>\n",
              "  </tbody>\n",
              "</table>\n",
              "<p>100 rows × 1 columns</p>\n",
              "</div>"
            ],
            "text/plain": [
              "                           Prediction\n",
              "date                                 \n",
              "2020-08-11 00:00:00+00:00  196.836149\n",
              "2020-08-12 00:00:00+00:00  196.634146\n",
              "2020-08-13 00:00:00+00:00  196.558412\n",
              "2020-08-14 00:00:00+00:00  196.547582\n",
              "2020-08-17 00:00:00+00:00  196.516291\n",
              "...                               ...\n",
              "2020-12-24 00:00:00+00:00  185.071207\n",
              "2020-12-28 00:00:00+00:00  185.081885\n",
              "2020-12-29 00:00:00+00:00  185.093340\n",
              "2020-12-30 00:00:00+00:00  185.105488\n",
              "2020-12-31 00:00:00+00:00  185.118244\n",
              "\n",
              "[100 rows x 1 columns]"
            ]
          },
          "metadata": {
            "tags": []
          },
          "execution_count": 26
        }
      ]
    },
    {
      "cell_type": "code",
      "metadata": {
        "id": "s5GyitSjzV2W"
      },
      "source": [
        "df_test = pd.concat([df,df_predict], axis=1)"
      ],
      "execution_count": 27,
      "outputs": []
    },
    {
      "cell_type": "code",
      "metadata": {
        "id": "axA2yEpqzV2a",
        "outputId": "ef50904c-13b5-473d-9e48-e8963fa58edd",
        "colab": {
          "base_uri": "https://localhost:8080/",
          "height": 438
        }
      },
      "source": [
        "df_test"
      ],
      "execution_count": 28,
      "outputs": [
        {
          "output_type": "execute_result",
          "data": {
            "text/html": [
              "<div>\n",
              "<style scoped>\n",
              "    .dataframe tbody tr th:only-of-type {\n",
              "        vertical-align: middle;\n",
              "    }\n",
              "\n",
              "    .dataframe tbody tr th {\n",
              "        vertical-align: top;\n",
              "    }\n",
              "\n",
              "    .dataframe thead th {\n",
              "        text-align: right;\n",
              "    }\n",
              "</style>\n",
              "<table border=\"1\" class=\"dataframe\">\n",
              "  <thead>\n",
              "    <tr style=\"text-align: right;\">\n",
              "      <th></th>\n",
              "      <th>close</th>\n",
              "      <th>Prediction</th>\n",
              "    </tr>\n",
              "    <tr>\n",
              "      <th>date</th>\n",
              "      <th></th>\n",
              "      <th></th>\n",
              "    </tr>\n",
              "  </thead>\n",
              "  <tbody>\n",
              "    <tr>\n",
              "      <th>2016-01-06 00:00:00+00:00</th>\n",
              "      <td>100.70</td>\n",
              "      <td>NaN</td>\n",
              "    </tr>\n",
              "    <tr>\n",
              "      <th>2016-01-07 00:00:00+00:00</th>\n",
              "      <td>96.45</td>\n",
              "      <td>NaN</td>\n",
              "    </tr>\n",
              "    <tr>\n",
              "      <th>2016-01-08 00:00:00+00:00</th>\n",
              "      <td>96.96</td>\n",
              "      <td>NaN</td>\n",
              "    </tr>\n",
              "    <tr>\n",
              "      <th>2016-01-11 00:00:00+00:00</th>\n",
              "      <td>98.53</td>\n",
              "      <td>NaN</td>\n",
              "    </tr>\n",
              "    <tr>\n",
              "      <th>2016-01-12 00:00:00+00:00</th>\n",
              "      <td>99.96</td>\n",
              "      <td>NaN</td>\n",
              "    </tr>\n",
              "    <tr>\n",
              "      <th>...</th>\n",
              "      <td>...</td>\n",
              "      <td>...</td>\n",
              "    </tr>\n",
              "    <tr>\n",
              "      <th>2020-12-24 00:00:00+00:00</th>\n",
              "      <td>131.97</td>\n",
              "      <td>185.071207</td>\n",
              "    </tr>\n",
              "    <tr>\n",
              "      <th>2020-12-28 00:00:00+00:00</th>\n",
              "      <td>136.69</td>\n",
              "      <td>185.081885</td>\n",
              "    </tr>\n",
              "    <tr>\n",
              "      <th>2020-12-29 00:00:00+00:00</th>\n",
              "      <td>134.87</td>\n",
              "      <td>185.093340</td>\n",
              "    </tr>\n",
              "    <tr>\n",
              "      <th>2020-12-30 00:00:00+00:00</th>\n",
              "      <td>133.72</td>\n",
              "      <td>185.105488</td>\n",
              "    </tr>\n",
              "    <tr>\n",
              "      <th>2020-12-31 00:00:00+00:00</th>\n",
              "      <td>132.69</td>\n",
              "      <td>185.118244</td>\n",
              "    </tr>\n",
              "  </tbody>\n",
              "</table>\n",
              "<p>1257 rows × 2 columns</p>\n",
              "</div>"
            ],
            "text/plain": [
              "                            close  Prediction\n",
              "date                                         \n",
              "2016-01-06 00:00:00+00:00  100.70         NaN\n",
              "2016-01-07 00:00:00+00:00   96.45         NaN\n",
              "2016-01-08 00:00:00+00:00   96.96         NaN\n",
              "2016-01-11 00:00:00+00:00   98.53         NaN\n",
              "2016-01-12 00:00:00+00:00   99.96         NaN\n",
              "...                           ...         ...\n",
              "2020-12-24 00:00:00+00:00  131.97  185.071207\n",
              "2020-12-28 00:00:00+00:00  136.69  185.081885\n",
              "2020-12-29 00:00:00+00:00  134.87  185.093340\n",
              "2020-12-30 00:00:00+00:00  133.72  185.105488\n",
              "2020-12-31 00:00:00+00:00  132.69  185.118244\n",
              "\n",
              "[1257 rows x 2 columns]"
            ]
          },
          "metadata": {
            "tags": []
          },
          "execution_count": 28
        }
      ]
    },
    {
      "cell_type": "code",
      "metadata": {
        "id": "PSuO8RxSzV2b",
        "outputId": "a93b6661-695c-45b6-8b65-74036cddea55",
        "colab": {
          "base_uri": "https://localhost:8080/"
        }
      },
      "source": [
        "from sklearn.metrics import mean_squared_error\n",
        "np.sqrt(mean_squared_error(df_test.iloc[-n_input:, [0]], df_test.iloc[-n_input:, [1]])) #error acceptable?"
      ],
      "execution_count": 29,
      "outputs": [
        {
          "output_type": "execute_result",
          "data": {
            "text/plain": [
              "123.48309123870185"
            ]
          },
          "metadata": {
            "tags": []
          },
          "execution_count": 29
        }
      ]
    },
    {
      "cell_type": "code",
      "metadata": {
        "id": "hWr6idsfzV2b",
        "outputId": "0376e2a2-ab5f-4632-ed36-74c6c8be1ac8",
        "colab": {
          "base_uri": "https://localhost:8080/",
          "height": 228
        }
      },
      "source": [
        "df_test.head()"
      ],
      "execution_count": 30,
      "outputs": [
        {
          "output_type": "execute_result",
          "data": {
            "text/html": [
              "<div>\n",
              "<style scoped>\n",
              "    .dataframe tbody tr th:only-of-type {\n",
              "        vertical-align: middle;\n",
              "    }\n",
              "\n",
              "    .dataframe tbody tr th {\n",
              "        vertical-align: top;\n",
              "    }\n",
              "\n",
              "    .dataframe thead th {\n",
              "        text-align: right;\n",
              "    }\n",
              "</style>\n",
              "<table border=\"1\" class=\"dataframe\">\n",
              "  <thead>\n",
              "    <tr style=\"text-align: right;\">\n",
              "      <th></th>\n",
              "      <th>close</th>\n",
              "      <th>Prediction</th>\n",
              "    </tr>\n",
              "    <tr>\n",
              "      <th>date</th>\n",
              "      <th></th>\n",
              "      <th></th>\n",
              "    </tr>\n",
              "  </thead>\n",
              "  <tbody>\n",
              "    <tr>\n",
              "      <th>2016-01-06 00:00:00+00:00</th>\n",
              "      <td>100.70</td>\n",
              "      <td>NaN</td>\n",
              "    </tr>\n",
              "    <tr>\n",
              "      <th>2016-01-07 00:00:00+00:00</th>\n",
              "      <td>96.45</td>\n",
              "      <td>NaN</td>\n",
              "    </tr>\n",
              "    <tr>\n",
              "      <th>2016-01-08 00:00:00+00:00</th>\n",
              "      <td>96.96</td>\n",
              "      <td>NaN</td>\n",
              "    </tr>\n",
              "    <tr>\n",
              "      <th>2016-01-11 00:00:00+00:00</th>\n",
              "      <td>98.53</td>\n",
              "      <td>NaN</td>\n",
              "    </tr>\n",
              "    <tr>\n",
              "      <th>2016-01-12 00:00:00+00:00</th>\n",
              "      <td>99.96</td>\n",
              "      <td>NaN</td>\n",
              "    </tr>\n",
              "  </tbody>\n",
              "</table>\n",
              "</div>"
            ],
            "text/plain": [
              "                            close  Prediction\n",
              "date                                         \n",
              "2016-01-06 00:00:00+00:00  100.70         NaN\n",
              "2016-01-07 00:00:00+00:00   96.45         NaN\n",
              "2016-01-08 00:00:00+00:00   96.96         NaN\n",
              "2016-01-11 00:00:00+00:00   98.53         NaN\n",
              "2016-01-12 00:00:00+00:00   99.96         NaN"
            ]
          },
          "metadata": {
            "tags": []
          },
          "execution_count": 30
        }
      ]
    },
    {
      "cell_type": "code",
      "metadata": {
        "id": "ETUSyy7KzV2c",
        "outputId": "0b97d097-d81e-4d72-afaa-1e4e2069bf4f",
        "colab": {
          "base_uri": "https://localhost:8080/",
          "height": 232
        }
      },
      "source": [
        "plt.figure(figsize=(20, 5))\n",
        "plt.plot(df_test.index, df_test['close'])\n",
        "plt.plot(df_test.index, df_test['Prediction'], color='r')\n",
        "plt.legend([\"close\", \"Prediction\"], loc='best', fontsize='xx-large')\n",
        "plt.xticks(fontsize=18)\n",
        "plt.yticks(fontsize=16)\n",
        "plt.show()"
      ],
      "execution_count": 31,
      "outputs": [
        {
          "output_type": "display_data",
          "data": {
            "image/png": "[encoded data removed]",
            "text/plain": [
              "<Figure size 1440x360 with 1 Axes>"
            ]
          },
          "metadata": {
            "tags": [],
            "needs_background": "light"
          }
        }
      ]
    },
    {
      "cell_type": "code",
      "metadata": {
        "id": "i8G7qxXBzV2e",
        "outputId": "cda9f84a-f18d-4642-b48d-b19919ec1f4a",
        "colab": {
          "base_uri": "https://localhost:8080/"
        }
      },
      "source": [
        "# This time train is using the full df for the future forecasting\n",
        "train = df\n",
        "len(train)"
      ],
      "execution_count": 32,
      "outputs": [
        {
          "output_type": "execute_result",
          "data": {
            "text/plain": [
              "1257"
            ]
          },
          "metadata": {
            "tags": []
          },
          "execution_count": 32
        }
      ]
    },
    {
      "cell_type": "code",
      "metadata": {
        "id": "z0XGNfynzV2e"
      },
      "source": [
        "scaler.fit(train)\n",
        "train = scaler.transform(train)"
      ],
      "execution_count": 33,
      "outputs": []
    },
    {
      "cell_type": "code",
      "metadata": {
        "id": "BrJRz9sAzV2f"
      },
      "source": [
        "generator = TimeseriesGenerator(train, \n",
        "                                train, \n",
        "                                length = n_input, \n",
        "                                batch_size = n_batch_size)"
      ],
      "execution_count": 34,
      "outputs": []
    },
    {
      "cell_type": "code",
      "metadata": {
        "id": "CS7N9gV1zV2g",
        "outputId": "fa7c6fb0-f1ef-448b-e3df-19bb55b4f83b",
        "colab": {
          "base_uri": "https://localhost:8080/"
        }
      },
      "source": [
        "model.fit(generator,epochs=2)"
      ],
      "execution_count": 35,
      "outputs": [
        {
          "output_type": "stream",
          "text": [
            "Epoch 1/2\n",
            "1157/1157 [==============================] - 49s 42ms/step - loss: 0.0010\n",
            "Epoch 2/2\n",
            "1157/1157 [==============================] - 49s 42ms/step - loss: 0.0010\n"
          ],
          "name": "stdout"
        },
        {
          "output_type": "execute_result",
          "data": {
            "text/plain": [
              "<tensorflow.python.keras.callbacks.History at 0x7f27c92edef0>"
            ]
          },
          "metadata": {
            "tags": []
          },
          "execution_count": 35
        }
      ]
    },
    {
      "cell_type": "code",
      "metadata": {
        "id": "S0UaEEJwzV2g"
      },
      "source": [
        "pred_list = []\n",
        "n_future_length = 30   # 30 days\n",
        "batch = train[-n_input:].reshape((1, n_input, n_features))\n",
        "\n",
        "for i in range(n_future_length):   \n",
        "    pred_list.append(model.predict(batch)[0]) \n",
        "    batch = np.append(batch[:,1:,:],[[pred_list[i]]],axis=1)"
      ],
      "execution_count": 36,
      "outputs": []
    },
    {
      "cell_type": "code",
      "metadata": {
        "id": "DgOZl8ASzV2h"
      },
      "source": [
        "from pandas.tseries.offsets import DateOffset\n",
        "add_dates = [df.index[-1] + DateOffset(days=x) for x in range(0, n_future_length + 1) ]\n",
        "future_dates = pd.DataFrame(index = add_dates[1:],\n",
        "                            columns = df.columns)"
      ],
      "execution_count": 37,
      "outputs": []
    },
    {
      "cell_type": "code",
      "metadata": {
        "id": "pBFIb-CizV2h",
        "outputId": "ebd28949-5f60-459b-a677-33aa72274434",
        "colab": {
          "base_uri": "https://localhost:8080/"
        }
      },
      "source": [
        "len(future_dates)"
      ],
      "execution_count": 38,
      "outputs": [
        {
          "output_type": "execute_result",
          "data": {
            "text/plain": [
              "30"
            ]
          },
          "metadata": {
            "tags": []
          },
          "execution_count": 38
        }
      ]
    },
    {
      "cell_type": "code",
      "metadata": {
        "id": "tPcsdCNezV2i"
      },
      "source": [
        "df_predict = pd.DataFrame(scaler.inverse_transform(pred_list),\n",
        "                          index=future_dates[-n_future_length:].index, \n",
        "                          columns=['Prediction'])"
      ],
      "execution_count": 39,
      "outputs": []
    },
    {
      "cell_type": "code",
      "metadata": {
        "id": "Yiku7mSTzV2i"
      },
      "source": [
        "df_projected = pd.concat([df,df_predict], axis=1)"
      ],
      "execution_count": 40,
      "outputs": []
    },
    {
      "cell_type": "code",
      "metadata": {
        "id": "p1R6z2OHzV2j",
        "outputId": "7a494ca5-3e2f-467f-a653-975d6e015a18"
      },
      "source": [
        "plt.figure(figsize=(20, 5))\n",
        "plt.plot(df_projected.index, df_projected['close'])\n",
        "plt.plot(df_projected.index, df_projected['Prediction'], color='r')\n",
        "plt.legend([\"close\", \"Prediction\"], loc='best', fontsize='xx-large')\n",
        "plt.xticks(fontsize=18)\n",
        "plt.yticks(fontsize=16)\n",
        "plt.show()"
      ],
      "execution_count": null,
      "outputs": [
        {
          "output_type": "display_data",
          "data": {
            "image/png": "[encoded data removed]",
            "text/plain": [
              "<Figure size 1440x360 with 1 Axes>"
            ]
          },
          "metadata": {
            "tags": [],
            "needs_background": "light"
          }
        }
      ]
    },
    {
      "cell_type": "code",
      "metadata": {
        "id": "TKOGGNbnzV2k"
      },
      "source": [
        ""
      ],
      "execution_count": null,
      "outputs": []
    }
  ]
}