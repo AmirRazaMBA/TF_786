{
 "cells": [
  {
   "cell_type": "code",
   "execution_count": 1,
   "metadata": {
    "id": "EN1-FZodOuPl"
   },
   "outputs": [],
   "source": [
    "# Import the Tokenizer\n",
    "\n",
    "from tensorflow.keras.preprocessing.text import Tokenizer"
   ]
  },
  {
   "cell_type": "code",
   "execution_count": 2,
   "metadata": {
    "id": "RMiq8BpWVVRa"
   },
   "outputs": [],
   "source": [
    "sentences = [\n",
    "    'My favorite food is ice cream',\n",
    "    'do you like ice cream too?',\n",
    "    'My dog likes ice cream!',\n",
    "    \"your favorite flavor of icecream is chocolate\",\n",
    "    \"chocolate isn't good for dogs\",\n",
    "    \"your dog, your cat, and your parrot prefer broccoli\",\n",
    "    \"Amir\",\n",
    "    \"Nasir\",\n",
    "    \"Asif\",\n",
    "    \"Kashif\",\n",
    "    \"Amir is a goodiest man\"\n",
    "]"
   ]
  },
  {
   "cell_type": "code",
   "execution_count": 3,
   "metadata": {
    "id": "ZHTK1DAlQ1zO"
   },
   "outputs": [],
   "source": [
    "# Optionally set the max number of words to tokenize.\n",
    "# The out of vocabulary (OOV) token represents words that are not in the index.\n",
    "# Call fit_on_text() on the tokenizer to generate unique numbers for each word\n",
    "\n",
    "tokenizer = Tokenizer(num_words = 100, oov_token=\"<OOV>\")     # STEP 1 tokenize most common 100 words\n",
    "tokenizer.fit_on_texts(sentences)                             # STEP 2 numerize set the word to number or token code."
   ]
  },
  {
   "cell_type": "code",
   "execution_count": 4,
   "metadata": {
    "colab": {
     "base_uri": "https://localhost:8080/"
    },
    "id": "kX4VvsLySC7Z",
    "outputId": "e8d12e74-b3a8-4490-ef1c-653830bd2d9f"
   },
   "outputs": [
    {
     "name": "stdout",
     "output_type": "stream",
     "text": [
      "{'<OOV>': 1, 'your': 2, 'is': 3, 'ice': 4, 'cream': 5, 'my': 6, 'favorite': 7, 'dog': 8, 'chocolate': 9, 'amir': 10, 'food': 11, 'do': 12, 'you': 13, 'like': 14, 'too': 15, 'likes': 16, 'flavor': 17, 'of': 18, 'icecream': 19, \"isn't\": 20, 'good': 21, 'for': 22, 'dogs': 23, 'cat': 24, 'and': 25, 'parrot': 26, 'prefer': 27, 'broccoli': 28, 'nasir': 29, 'asif': 30, 'kashif': 31, 'a': 32, 'goodiest': 33, 'man': 34}\n"
     ]
    }
   ],
   "source": [
    "# Examine the word index\n",
    "\n",
    "word_index = tokenizer.word_index               # This is like select id from words_num_list\n",
    "print(word_index)"
   ]
  },
  {
   "cell_type": "code",
   "execution_count": 5,
   "metadata": {
    "colab": {
     "base_uri": "https://localhost:8080/"
    },
    "id": "JXKrGxsIVtLo",
    "outputId": "27343df2-79f5-4071-ba3d-a37f5711012d"
   },
   "outputs": [
    {
     "name": "stdout",
     "output_type": "stream",
     "text": [
      "7\n"
     ]
    }
   ],
   "source": [
    "# Get the number for a given word\n",
    "print(word_index['favorite'])                   # This is like select id from words_num_list where word='favorite'"
   ]
  },
  {
   "cell_type": "code",
   "execution_count": 6,
   "metadata": {
    "colab": {
     "base_uri": "https://localhost:8080/"
    },
    "id": "TPQxqYeA9HTV",
    "outputId": "b0ed7c7e-0d48-4849-92c6-8dae41ec82a2"
   },
   "outputs": [
    {
     "name": "stdout",
     "output_type": "stream",
     "text": [
      "31\n"
     ]
    }
   ],
   "source": [
    "print(word_index['kashif'])"
   ]
  },
  {
   "cell_type": "code",
   "execution_count": 7,
   "metadata": {
    "colab": {
     "base_uri": "https://localhost:8080/"
    },
    "id": "QlUL6Ybf1sso",
    "outputId": "35d109fd-d4ad-4b43-d73a-83ae318c3c2a"
   },
   "outputs": [
    {
     "name": "stdout",
     "output_type": "stream",
     "text": [
      "[[6, 7, 11, 3, 4, 5], [12, 13, 14, 4, 5, 15], [6, 8, 16, 4, 5], [2, 7, 17, 18, 19, 3, 9], [9, 20, 21, 22, 23], [2, 8, 2, 24, 25, 2, 26, 27, 28], [10], [29], [30], [31], [10, 3, 32, 33, 34]]\n"
     ]
    }
   ],
   "source": [
    "sequences = tokenizer.texts_to_sequences(sentences)      # STEP 3 all the sentences are encoded as numbers.\n",
    "print (sequences)"
   ]
  },
  {
   "cell_type": "code",
   "execution_count": 8,
   "metadata": {
    "colab": {
     "base_uri": "https://localhost:8080/"
    },
    "id": "Fir7qd6X8eZc",
    "outputId": "6063272f-e8a6-47e5-e2c1-29a01275e52e"
   },
   "outputs": [
    {
     "name": "stdout",
     "output_type": "stream",
     "text": [
      "[[1, 14, 1, 9], [6, 23, 25, 6, 1, 14, 1, 1, 6, 1, 1, 1, 25, 6, 1, 14, 4, 5, 1, 1]]\n"
     ]
    }
   ],
   "source": [
    "sentences2 = [\"I like hot chocolate\", \"My dogs and my hedgehog like kibble but my squirrel prefers grapes and my chickens like ice cream, preferably vanilla\"]\n",
    "\n",
    "sequences2 = tokenizer.texts_to_sequences(sentences2)\n",
    "print(sequences2)               # The words not in the vocabulary bag are <OOV> which is number 1 "
   ]
  }
 ],
 "metadata": {
  "colab": {
   "collapsed_sections": [],
   "name": "l09c01_nlp_turn_words_into_tokens.ipynb",
   "provenance": [],
   "toc_visible": true
  },
  "kernelspec": {
   "display_name": "Python 3",
   "language": "python",
   "name": "python3"
  },
  "language_info": {
   "codemirror_mode": {
    "name": "ipython",
    "version": 3
   },
   "file_extension": ".py",
   "mimetype": "text/x-python",
   "name": "python",
   "nbconvert_exporter": "python",
   "pygments_lexer": "ipython3",
   "version": "3.7.7"
  }
 },
 "nbformat": 4,
 "nbformat_minor": 1
}
