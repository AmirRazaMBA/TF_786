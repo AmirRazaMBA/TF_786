{
 "cells": [
  {
   "cell_type": "code",
   "execution_count": 1,
   "metadata": {
    "id": "BOwsuGQQY9OL"
   },
   "outputs": [],
   "source": [
    "import numpy as np \n",
    "import tensorflow as tf\n",
    "\n",
    "from tensorflow.keras.preprocessing.sequence import pad_sequences\n",
    "from tensorflow.keras.layers import Embedding, LSTM, Dense, Bidirectional\n",
    "from tensorflow.keras.preprocessing.text import Tokenizer\n",
    "from tensorflow.keras.models import Sequential\n",
    "from tensorflow.keras.optimizers import Adam"
   ]
  },
  {
   "cell_type": "code",
   "execution_count": 2,
   "metadata": {},
   "outputs": [
    {
     "name": "stdout",
     "output_type": "stream",
     "text": [
      "C:\\Users\\Amir\\.keras\\datasets\\irish-lyrics-eof.txt\n"
     ]
    }
   ],
   "source": [
    "path = tf.keras.utils.get_file('irish-lyrics-eof.txt', \n",
    "                               'https://storage.googleapis.com/laurencemoroney-blog.appspot.com/irish-lyrics-eof.txt')\n",
    "print (path)"
   ]
  },
  {
   "cell_type": "code",
   "execution_count": 3,
   "metadata": {
    "colab": {
     "base_uri": "https://localhost:8080/"
    },
    "id": "PRnDnCW-Z7qv",
    "outputId": "800a9aaa-598e-4b52-8574-fd52330ac14d"
   },
   "outputs": [
    {
     "name": "stdout",
     "output_type": "stream",
     "text": [
      "2690\n"
     ]
    }
   ],
   "source": [
    "tokenizer = Tokenizer()\n",
    "\n",
    "data = open(path).read()\n",
    "\n",
    "corpus = data.lower().split(\"\\n\")\n",
    "\n",
    "tokenizer.fit_on_texts(corpus)\n",
    "total_words = len(tokenizer.word_index) + 1\n",
    "\n",
    "#print(tokenizer.word_index)\n",
    "print(total_words)\n"
   ]
  },
  {
   "cell_type": "code",
   "execution_count": 4,
   "metadata": {
    "id": "soPGVheskaQP"
   },
   "outputs": [],
   "source": [
    "input_sequences = []\n",
    "\n",
    "for line in corpus:\n",
    "    #print(line)\n",
    "    token_list = tokenizer.texts_to_sequences([line])[0]\n",
    "    #print(token_list)\n",
    "    for i in range(1, len(token_list)):\n",
    "        n_gram_sequence = token_list[:i+1]\n",
    "        #print(n_gram_sequence)\n",
    "        input_sequences.append(n_gram_sequence)"
   ]
  },
  {
   "cell_type": "code",
   "execution_count": 5,
   "metadata": {},
   "outputs": [],
   "source": [
    "# pad sequences \n",
    "max_sequence_len = max([len(x) for x in input_sequences])\n",
    "input_sequences = np.array(pad_sequences(input_sequences, maxlen=max_sequence_len, padding='pre'))"
   ]
  },
  {
   "cell_type": "code",
   "execution_count": 6,
   "metadata": {},
   "outputs": [],
   "source": [
    "# create predictors and label one hot encoded\n",
    "x_train  = input_sequences[:,:-1]\n",
    "y_label = input_sequences[:,-1]\n",
    "\n",
    "y_train = tf.keras.utils.to_categorical(y_label, num_classes=total_words)"
   ]
  },
  {
   "cell_type": "code",
   "execution_count": 7,
   "metadata": {
    "colab": {
     "base_uri": "https://localhost:8080/"
    },
    "id": "pJtwVB2NbOAP",
    "outputId": "29b6b1bd-23ce-4af3-de18-248aa5ff605c"
   },
   "outputs": [
    {
     "name": "stdout",
     "output_type": "stream",
     "text": [
      "8\n",
      "1\n",
      "71\n",
      "6\n",
      "713\n",
      "39\n",
      "1790\n",
      "1791\n"
     ]
    }
   ],
   "source": [
    "print(tokenizer.word_index['in'])\n",
    "print(tokenizer.word_index['the'])\n",
    "print(tokenizer.word_index['town'])\n",
    "print(tokenizer.word_index['of'])\n",
    "print(tokenizer.word_index['athy'])\n",
    "print(tokenizer.word_index['one'])\n",
    "print(tokenizer.word_index['jeremy'])\n",
    "print(tokenizer.word_index['lanigan'])"
   ]
  },
  {
   "cell_type": "code",
   "execution_count": 8,
   "metadata": {
    "colab": {
     "base_uri": "https://localhost:8080/"
    },
    "id": "49Cv68JOakwv",
    "outputId": "65190eab-183c-4d6f-de40-eb798a34674f"
   },
   "outputs": [
    {
     "name": "stdout",
     "output_type": "stream",
     "text": [
      "[0 0 0 0 0 0 0 0 0 0 0 0 0 0 2]\n"
     ]
    }
   ],
   "source": [
    "print(x_train[6])"
   ]
  },
  {
   "cell_type": "code",
   "execution_count": 9,
   "metadata": {
    "colab": {
     "base_uri": "https://localhost:8080/"
    },
    "id": "iY-jwvfgbEF8",
    "outputId": "c5d8aad9-9831-4b29-cab8-9911a9fccfbe"
   },
   "outputs": [
    {
     "name": "stdout",
     "output_type": "stream",
     "text": [
      "[0. 0. 0. ... 0. 0. 0.]\n"
     ]
    }
   ],
   "source": [
    "print(y_train[6])"
   ]
  },
  {
   "cell_type": "code",
   "execution_count": 10,
   "metadata": {
    "colab": {
     "base_uri": "https://localhost:8080/"
    },
    "id": "wtzlUMYadhKt",
    "outputId": "a1e71247-6f4d-43f8-eb9e-44cb0b18bb3d"
   },
   "outputs": [
    {
     "name": "stdout",
     "output_type": "stream",
     "text": [
      "[   0    0    0    0    0    0    0    0    0   51   12   96 1217   48\n",
      "    2]\n",
      "[0. 0. 0. ... 0. 0. 0.]\n"
     ]
    }
   ],
   "source": [
    "print(x_train[5])\n",
    "print(y_train[5])"
   ]
  },
  {
   "cell_type": "code",
   "execution_count": 11,
   "metadata": {
    "colab": {
     "base_uri": "https://localhost:8080/"
    },
    "id": "H4myRpB1c4Gg",
    "outputId": "8f4e39af-8648-4a2b-da86-6c6d86b6828f"
   },
   "outputs": [],
   "source": [
    "#print(tokenizer.word_index)"
   ]
  },
  {
   "cell_type": "code",
   "execution_count": 12,
   "metadata": {
    "colab": {
     "base_uri": "https://localhost:8080/"
    },
    "id": "w9vH8Y59ajYL",
    "outputId": "31315620-92d4-49a5-f653-236a48ffe522"
   },
   "outputs": [
    {
     "name": "stdout",
     "output_type": "stream",
     "text": [
      "Epoch 1/100\n",
      "377/377 [==============================] - 18s 48ms/step - loss: 6.6418 - accuracy: 0.0770\n",
      "Epoch 2/100\n",
      "377/377 [==============================] - 18s 48ms/step - loss: 5.7757 - accuracy: 0.1143\n",
      "Epoch 3/100\n",
      "377/377 [==============================] - 18s 48ms/step - loss: 4.9205 - accuracy: 0.1646\n",
      "Epoch 4/100\n",
      "377/377 [==============================] - 18s 46ms/step - loss: 4.0071 - accuracy: 0.23721s -\n",
      "Epoch 5/100\n",
      "377/377 [==============================] - 19s 50ms/step - loss: 3.1833 - accuracy: 0.3329\n",
      "Epoch 6/100\n",
      "377/377 [==============================] - 21s 57ms/step - loss: 2.4949 - accuracy: 0.4399\n",
      "Epoch 7/100\n",
      "377/377 [==============================] - 23s 60ms/step - loss: 1.9865 - accuracy: 0.5341\n",
      "Epoch 8/100\n",
      "377/377 [==============================] - 21s 56ms/step - loss: 1.6338 - accuracy: 0.6082\n",
      "Epoch 9/100\n",
      "377/377 [==============================] - 26s 68ms/step - loss: 1.3845 - accuracy: 0.6680\n",
      "Epoch 10/100\n",
      "377/377 [==============================] - 23s 61ms/step - loss: 1.1915 - accuracy: 0.7108\n",
      "Epoch 11/100\n",
      "377/377 [==============================] - 23s 62ms/step - loss: 1.1065 - accuracy: 0.7309\n",
      "Epoch 12/100\n",
      "377/377 [==============================] - 24s 64ms/step - loss: 1.0378 - accuracy: 0.7455\n",
      "Epoch 13/100\n",
      "377/377 [==============================] - 24s 63ms/step - loss: 1.0138 - accuracy: 0.7484\n",
      "Epoch 14/100\n",
      "377/377 [==============================] - 25s 65ms/step - loss: 1.0312 - accuracy: 0.7372\n",
      "Epoch 15/100\n",
      "377/377 [==============================] - 24s 63ms/step - loss: 1.1205 - accuracy: 0.7140\n",
      "Epoch 16/100\n",
      "377/377 [==============================] - 23s 61ms/step - loss: 1.1309 - accuracy: 0.7111\n",
      "Epoch 17/100\n",
      "377/377 [==============================] - 23s 62ms/step - loss: 1.0373 - accuracy: 0.7348\n",
      "Epoch 18/100\n",
      "377/377 [==============================] - 25s 67ms/step - loss: 0.9462 - accuracy: 0.75850s - loss: 0.9455 - accuracy: 0.75\n",
      "Epoch 19/100\n",
      "377/377 [==============================] - 25s 65ms/step - loss: 0.9009 - accuracy: 0.7672\n",
      "Epoch 20/100\n",
      "377/377 [==============================] - 25s 67ms/step - loss: 0.9208 - accuracy: 0.7622\n",
      "Epoch 21/100\n",
      "377/377 [==============================] - 26s 68ms/step - loss: 0.9479 - accuracy: 0.7529\n",
      "Epoch 22/100\n",
      "377/377 [==============================] - 24s 65ms/step - loss: 0.9461 - accuracy: 0.7506\n",
      "Epoch 23/100\n",
      "377/377 [==============================] - 24s 64ms/step - loss: 0.8975 - accuracy: 0.76461s\n",
      "Epoch 24/100\n",
      "377/377 [==============================] - 24s 65ms/step - loss: 0.9154 - accuracy: 0.7579\n",
      "Epoch 25/100\n",
      "377/377 [==============================] - 25s 66ms/step - loss: 0.9221 - accuracy: 0.7633\n",
      "Epoch 26/100\n",
      "377/377 [==============================] - 25s 66ms/step - loss: 0.9161 - accuracy: 0.7559\n",
      "Epoch 27/100\n",
      "377/377 [==============================] - 21s 56ms/step - loss: 0.9181 - accuracy: 0.7569\n",
      "Epoch 28/100\n",
      "377/377 [==============================] - 23s 60ms/step - loss: 0.9097 - accuracy: 0.7580\n",
      "Epoch 29/100\n",
      "377/377 [==============================] - 24s 63ms/step - loss: 0.8341 - accuracy: 0.7789\n",
      "Epoch 30/100\n",
      "377/377 [==============================] - 23s 61ms/step - loss: 0.8391 - accuracy: 0.77581s -\n",
      "Epoch 31/100\n",
      "377/377 [==============================] - 20s 54ms/step - loss: 0.8487 - accuracy: 0.7755\n",
      "Epoch 32/100\n",
      "377/377 [==============================] - 25s 65ms/step - loss: 0.9543 - accuracy: 0.7494\n",
      "Epoch 33/100\n",
      "377/377 [==============================] - 24s 65ms/step - loss: 0.9484 - accuracy: 0.7461\n",
      "Epoch 34/100\n",
      "377/377 [==============================] - 28s 74ms/step - loss: 0.9414 - accuracy: 0.7486\n",
      "Epoch 35/100\n",
      "377/377 [==============================] - 26s 69ms/step - loss: 0.9127 - accuracy: 0.7554\n",
      "Epoch 36/100\n",
      "377/377 [==============================] - 24s 64ms/step - loss: 0.8639 - accuracy: 0.77151s\n",
      "Epoch 37/100\n",
      "377/377 [==============================] - 23s 62ms/step - loss: 0.7875 - accuracy: 0.7907\n",
      "Epoch 38/100\n",
      "377/377 [==============================] - 25s 66ms/step - loss: 0.7692 - accuracy: 0.7951\n",
      "Epoch 39/100\n",
      "377/377 [==============================] - 21s 56ms/step - loss: 0.8041 - accuracy: 0.7829\n",
      "Epoch 40/100\n",
      "377/377 [==============================] - 26s 68ms/step - loss: 0.9355 - accuracy: 0.7539\n",
      "Epoch 41/100\n",
      "377/377 [==============================] - 21s 56ms/step - loss: 1.2383 - accuracy: 0.6828\n",
      "Epoch 42/100\n",
      "377/377 [==============================] - 20s 52ms/step - loss: 1.1411 - accuracy: 0.6970\n",
      "Epoch 43/100\n",
      "377/377 [==============================] - 19s 51ms/step - loss: 0.9480 - accuracy: 0.7477\n",
      "Epoch 44/100\n",
      "377/377 [==============================] - 21s 57ms/step - loss: 0.8318 - accuracy: 0.7769\n",
      "Epoch 45/100\n",
      "377/377 [==============================] - 19s 51ms/step - loss: 0.7440 - accuracy: 0.8013\n",
      "Epoch 46/100\n",
      "377/377 [==============================] - 17s 44ms/step - loss: 0.7033 - accuracy: 0.8123\n",
      "Epoch 47/100\n",
      "377/377 [==============================] - 16s 43ms/step - loss: 0.7011 - accuracy: 0.8153\n",
      "Epoch 48/100\n",
      "377/377 [==============================] - 17s 44ms/step - loss: 0.7162 - accuracy: 0.8108\n",
      "Epoch 49/100\n",
      "377/377 [==============================] - 17s 46ms/step - loss: 0.8961 - accuracy: 0.7605\n",
      "Epoch 50/100\n",
      "377/377 [==============================] - 16s 43ms/step - loss: 1.0871 - accuracy: 0.7147\n",
      "Epoch 51/100\n",
      "377/377 [==============================] - 16s 43ms/step - loss: 1.0807 - accuracy: 0.7088\n",
      "Epoch 52/100\n",
      "377/377 [==============================] - 16s 42ms/step - loss: 1.0682 - accuracy: 0.7176\n",
      "Epoch 53/100\n",
      "377/377 [==============================] - 16s 42ms/step - loss: 1.0001 - accuracy: 0.7338\n",
      "Epoch 54/100\n",
      "377/377 [==============================] - 16s 42ms/step - loss: 0.8954 - accuracy: 0.7596\n",
      "Epoch 55/100\n",
      "377/377 [==============================] - 16s 42ms/step - loss: 0.7709 - accuracy: 0.7937\n",
      "Epoch 56/100\n",
      "377/377 [==============================] - 16s 43ms/step - loss: 0.7395 - accuracy: 0.8029\n",
      "Epoch 57/100\n",
      "377/377 [==============================] - 16s 42ms/step - loss: 0.7558 - accuracy: 0.7986\n",
      "Epoch 58/100\n",
      "377/377 [==============================] - 16s 42ms/step - loss: 0.7664 - accuracy: 0.7939\n",
      "Epoch 59/100\n",
      "377/377 [==============================] - 16s 42ms/step - loss: 0.8062 - accuracy: 0.7823\n",
      "Epoch 60/100\n",
      "377/377 [==============================] - 16s 42ms/step - loss: 0.8722 - accuracy: 0.7612\n",
      "Epoch 61/100\n",
      "377/377 [==============================] - 16s 43ms/step - loss: 0.9804 - accuracy: 0.7412\n",
      "Epoch 62/100\n",
      "377/377 [==============================] - 16s 42ms/step - loss: 0.9829 - accuracy: 0.7409\n",
      "Epoch 63/100\n",
      "377/377 [==============================] - 16s 43ms/step - loss: 0.9581 - accuracy: 0.7419\n",
      "Epoch 64/100\n",
      "377/377 [==============================] - 16s 42ms/step - loss: 0.9702 - accuracy: 0.7418\n",
      "Epoch 65/100\n",
      "377/377 [==============================] - 16s 44ms/step - loss: 0.9283 - accuracy: 0.7500\n",
      "Epoch 66/100\n",
      "377/377 [==============================] - 16s 43ms/step - loss: 0.8466 - accuracy: 0.7703\n",
      "Epoch 67/100\n",
      "377/377 [==============================] - 16s 43ms/step - loss: 0.7767 - accuracy: 0.7907\n",
      "Epoch 68/100\n",
      "377/377 [==============================] - 16s 43ms/step - loss: 0.7404 - accuracy: 0.7996\n",
      "Epoch 69/100\n",
      "377/377 [==============================] - 16s 42ms/step - loss: 0.7334 - accuracy: 0.8015\n",
      "Epoch 70/100\n",
      "377/377 [==============================] - 16s 43ms/step - loss: 0.7460 - accuracy: 0.7971\n",
      "Epoch 71/100\n",
      "377/377 [==============================] - 16s 42ms/step - loss: 0.8135 - accuracy: 0.7844\n",
      "Epoch 72/100\n",
      "377/377 [==============================] - 16s 43ms/step - loss: 0.8815 - accuracy: 0.7642\n",
      "Epoch 73/100\n",
      "377/377 [==============================] - 16s 42ms/step - loss: 0.9367 - accuracy: 0.7496\n",
      "Epoch 74/100\n",
      "377/377 [==============================] - 16s 43ms/step - loss: 0.9830 - accuracy: 0.7410\n",
      "Epoch 75/100\n",
      "377/377 [==============================] - 16s 43ms/step - loss: 0.9088 - accuracy: 0.7578\n",
      "Epoch 76/100\n",
      "377/377 [==============================] - 16s 43ms/step - loss: 0.8606 - accuracy: 0.7680\n",
      "Epoch 77/100\n",
      "377/377 [==============================] - 16s 42ms/step - loss: 0.8613 - accuracy: 0.7684\n",
      "Epoch 78/100\n",
      "377/377 [==============================] - 16s 42ms/step - loss: 0.8405 - accuracy: 0.7720\n",
      "Epoch 79/100\n",
      "377/377 [==============================] - 16s 42ms/step - loss: 0.7979 - accuracy: 0.7851\n",
      "Epoch 80/100\n",
      "377/377 [==============================] - 16s 43ms/step - loss: 0.7660 - accuracy: 0.7916\n",
      "Epoch 81/100\n",
      "377/377 [==============================] - 16s 44ms/step - loss: 0.7767 - accuracy: 0.7924\n",
      "Epoch 82/100\n",
      "377/377 [==============================] - 16s 43ms/step - loss: 0.8017 - accuracy: 0.7843\n",
      "Epoch 83/100\n",
      "377/377 [==============================] - 16s 43ms/step - loss: 0.7991 - accuracy: 0.7813\n",
      "Epoch 84/100\n",
      "377/377 [==============================] - 16s 42ms/step - loss: 0.7970 - accuracy: 0.7805\n",
      "Epoch 85/100\n",
      "377/377 [==============================] - 17s 45ms/step - loss: 0.8123 - accuracy: 0.7798\n",
      "Epoch 86/100\n",
      "377/377 [==============================] - 16s 43ms/step - loss: 0.8455 - accuracy: 0.7720\n",
      "Epoch 87/100\n",
      "377/377 [==============================] - 16s 43ms/step - loss: 0.9113 - accuracy: 0.7547\n",
      "Epoch 88/100\n",
      "377/377 [==============================] - 16s 43ms/step - loss: 0.8635 - accuracy: 0.7671\n",
      "Epoch 89/100\n",
      "377/377 [==============================] - 16s 43ms/step - loss: 0.7901 - accuracy: 0.7853\n",
      "Epoch 90/100\n",
      "377/377 [==============================] - 16s 43ms/step - loss: 0.7671 - accuracy: 0.7893\n",
      "Epoch 91/100\n",
      "377/377 [==============================] - 16s 43ms/step - loss: 0.7782 - accuracy: 0.7897\n",
      "Epoch 92/100\n",
      "377/377 [==============================] - 16s 42ms/step - loss: 0.7563 - accuracy: 0.7946\n",
      "Epoch 93/100\n",
      "377/377 [==============================] - 16s 43ms/step - loss: 0.7478 - accuracy: 0.7958\n",
      "Epoch 94/100\n",
      "377/377 [==============================] - 16s 43ms/step - loss: 0.7792 - accuracy: 0.7917\n",
      "Epoch 95/100\n",
      "377/377 [==============================] - 16s 42ms/step - loss: 0.8215 - accuracy: 0.7789\n",
      "Epoch 96/100\n",
      "377/377 [==============================] - 16s 43ms/step - loss: 0.8795 - accuracy: 0.7637\n",
      "Epoch 97/100\n",
      "377/377 [==============================] - 16s 43ms/step - loss: 0.8715 - accuracy: 0.7630\n",
      "Epoch 98/100\n",
      "377/377 [==============================] - 16s 43ms/step - loss: 0.8166 - accuracy: 0.7784\n",
      "Epoch 99/100\n",
      "377/377 [==============================] - 16s 42ms/step - loss: 0.8117 - accuracy: 0.7819\n",
      "Epoch 100/100\n",
      "377/377 [==============================] - 17s 44ms/step - loss: 0.7759 - accuracy: 0.7876\n",
      "<tensorflow.python.keras.engine.sequential.Sequential object at 0x0000021EC3A0AF70>\n"
     ]
    }
   ],
   "source": [
    "model = Sequential()\n",
    "model.add(Embedding(total_words, 100, input_length=max_sequence_len-1))\n",
    "model.add(Bidirectional(LSTM(150)))\n",
    "model.add(Dense(total_words, activation='softmax'))\n",
    "adam = Adam(lr=0.01)\n",
    "model.compile(loss='categorical_crossentropy', optimizer=adam, metrics=['accuracy'])\n",
    "#earlystop = EarlyStopping(monitor='val_loss', min_delta=0, patience=5, verbose=0, mode='auto')\n",
    "history = model.fit(x_train, y_train, epochs=100, verbose=1)\n",
    "#print model.summary()\n",
    "print(model)\n"
   ]
  },
  {
   "cell_type": "code",
   "execution_count": 13,
   "metadata": {
    "id": "3YXGelKThoTT"
   },
   "outputs": [],
   "source": [
    "import matplotlib.pyplot as plt\n",
    "\n",
    "def plot_graphs(history, string):\n",
    "  plt.plot(history.history[string])\n",
    "  plt.xlabel(\"Epochs\")\n",
    "  plt.ylabel(string)\n",
    "  plt.show()"
   ]
  },
  {
   "cell_type": "code",
   "execution_count": 14,
   "metadata": {
    "colab": {
     "base_uri": "https://localhost:8080/",
     "height": 279
    },
    "id": "poeprYK8h-c7",
    "outputId": "d6509d2c-55b9-4da5-afc7-47f4a5293bd9"
   },
   "outputs": [
    {
     "data": {
      "image/png": "[encoded data removed]",
      "text/plain": [
       "<Figure size 432x288 with 1 Axes>"
      ]
     },
     "metadata": {
      "needs_background": "light"
     },
     "output_type": "display_data"
    }
   ],
   "source": [
    "plot_graphs(history, 'accuracy')\n"
   ]
  },
  {
   "cell_type": "code",
   "execution_count": 15,
   "metadata": {
    "colab": {
     "base_uri": "https://localhost:8080/"
    },
    "id": "6Vc6PHgxa6Hm",
    "outputId": "676f43b9-c565-48f3-8637-5315782edf4d"
   },
   "outputs": [
    {
     "name": "stdout",
     "output_type": "stream",
     "text": [
      "WARNING:tensorflow:From <ipython-input-15-70399a5f93d3>:7: Sequential.predict_classes (from tensorflow.python.keras.engine.sequential) is deprecated and will be removed after 2021-01-01.\n",
      "Instructions for updating:\n",
      "Please use instead:* `np.argmax(model.predict(x), axis=-1)`,   if your model does multi-class classification   (e.g. if it uses a `softmax` last-layer activation).* `(model.predict(x) > 0.5).astype(\"int32\")`,   if your model does binary classification   (e.g. if it uses a `sigmoid` last-layer activation).\n",
      "I've got a bad feeling about this of full in my shoes eye ever more name gone gone gone gone gilgarra gone gone gone gone gone gone gone and deliver as the wind is right love down by killarneys wind is right take i sinking fashion more breast i fulfill your eyes glisten love i gone there gone sinking sinking minute sea casey gone gone passerby sinking years gone your brow snare brow brow chieftains did slaughter eyes glisten right gone the name of love gone gone gone gone gone and gone sea i shall my love prove gone by side by side i returnd fathers name\n"
     ]
    }
   ],
   "source": [
    "seed_text = \"I've got a bad feeling about this\"\n",
    "next_words = 100\n",
    "  \n",
    "for _ in range(next_words):\n",
    "\ttoken_list = tokenizer.texts_to_sequences([seed_text])[0]\n",
    "\ttoken_list = pad_sequences([token_list], maxlen=max_sequence_len-1, padding='pre')\n",
    "\tpredicted = np.argmax(model.predict(token_list), axis=-1)\n",
    "\toutput_word = \"\"\n",
    "\tfor word, index in tokenizer.word_index.items():\n",
    "\t\tif index == predicted:\n",
    "\t\t\toutput_word = word\n",
    "\t\t\tbreak\n",
    "\tseed_text += \" \" + output_word\n",
    "print(seed_text)"
   ]
  }
 ],
 "metadata": {
  "accelerator": "GPU",
  "colab": {
   "name": "Course 3 - Week 4 - Lesson 2 - Notebook.ipynb",
   "provenance": [],
   "toc_visible": true
  },
  "kernelspec": {
   "display_name": "Python 3",
   "language": "python",
   "name": "python3"
  },
  "language_info": {
   "codemirror_mode": {
    "name": "ipython",
    "version": 3
   },
   "file_extension": ".py",
   "mimetype": "text/x-python",
   "name": "python",
   "nbconvert_exporter": "python",
   "pygments_lexer": "ipython3",
   "version": "3.8.5"
  }
 },
 "nbformat": 4,
 "nbformat_minor": 4
}
